{
 "cells": [
  {
   "cell_type": "markdown",
   "metadata": {},
   "source": [
    "# <center><font color='#E20174'>**Introduction To Python at Magyar Telekom**</font></center>\n",
    "### <center>Autumn, 2021</center>\n",
    "### <center>Asztalos Áron, Duronelly Péter, Forgách Márton, Neszmélyi Zsolt</center>\n",
    "# <center>Class 2</center>"
   ]
  },
  {
   "cell_type": "markdown",
   "metadata": {},
   "source": [
    "## Class Topics\n",
    "- Lambda functions\n",
    "- Dictionaries\n",
    "- I/O\n",
    "- Working with JSON\n",
    "- Datetime\n",
    "- Modules\n",
    "- Exception handling"
   ]
  },
  {
   "cell_type": "markdown",
   "metadata": {},
   "source": [
    "## Lambda functions"
   ]
  },
  {
   "cell_type": "markdown",
   "metadata": {},
   "source": [
    "A lambda function is a small anonymous function. A lambda function can take any number of arguments, but can only have one expression. It is created using the `lambda` keyword."
   ]
  },
  {
   "cell_type": "code",
   "execution_count": 1,
   "metadata": {},
   "outputs": [],
   "source": [
    "square = lambda x: x ** 2"
   ]
  },
  {
   "cell_type": "code",
   "execution_count": 2,
   "metadata": {},
   "outputs": [
    {
     "data": {
      "text/plain": [
       "4"
      ]
     },
     "execution_count": 2,
     "metadata": {},
     "output_type": "execute_result"
    }
   ],
   "source": [
    "square(2)"
   ]
  },
  {
   "cell_type": "markdown",
   "metadata": {},
   "source": [
    "We use lambda to simplify our code, to create temporary definitions, which are used only once. The same can be achieved with a normal definiton:"
   ]
  },
  {
   "cell_type": "code",
   "execution_count": 3,
   "metadata": {},
   "outputs": [],
   "source": [
    "def square_def(x): \n",
    "    return x ** 2"
   ]
  },
  {
   "cell_type": "code",
   "execution_count": 4,
   "metadata": {},
   "outputs": [
    {
     "data": {
      "text/plain": [
       "4"
      ]
     },
     "execution_count": 4,
     "metadata": {},
     "output_type": "execute_result"
    }
   ],
   "source": [
    "square_def(2)"
   ]
  },
  {
   "cell_type": "markdown",
   "metadata": {},
   "source": [
    "You can combine lambda functions with list comprehension. "
   ]
  },
  {
   "cell_type": "code",
   "execution_count": 5,
   "metadata": {},
   "outputs": [],
   "source": [
    "ls_numbers = list(range(10))"
   ]
  },
  {
   "cell_type": "code",
   "execution_count": 6,
   "metadata": {},
   "outputs": [
    {
     "data": {
      "text/plain": [
       "[0, 1, 2, 3, 4, 5, 6, 7, 8, 9]"
      ]
     },
     "execution_count": 6,
     "metadata": {},
     "output_type": "execute_result"
    }
   ],
   "source": [
    "ls_numbers"
   ]
  },
  {
   "cell_type": "markdown",
   "metadata": {},
   "source": [
    "Let's square all the values from the list and add 1 to each element"
   ]
  },
  {
   "cell_type": "code",
   "execution_count": 7,
   "metadata": {},
   "outputs": [
    {
     "data": {
      "text/plain": [
       "[1, 2, 5, 10, 17, 26, 37, 50, 65, 82]"
      ]
     },
     "execution_count": 7,
     "metadata": {},
     "output_type": "execute_result"
    }
   ],
   "source": [
    "f = lambda x: x**2 + 1\n",
    "[f(x) for x in ls_numbers]"
   ]
  },
  {
   "cell_type": "markdown",
   "metadata": {},
   "source": [
    "Let's square and add one to each even number in the list"
   ]
  },
  {
   "cell_type": "code",
   "execution_count": 8,
   "metadata": {},
   "outputs": [
    {
     "data": {
      "text/plain": [
       "[1, 5, 17, 37, 65]"
      ]
     },
     "execution_count": 8,
     "metadata": {},
     "output_type": "execute_result"
    }
   ],
   "source": [
    "[f(x) for x in ls_numbers if x%2 == 0 ]"
   ]
  },
  {
   "cell_type": "markdown",
   "metadata": {},
   "source": [
    "Square and add one to each even number in the list but return the odd numbers without transformation"
   ]
  },
  {
   "cell_type": "code",
   "execution_count": 9,
   "metadata": {},
   "outputs": [
    {
     "data": {
      "text/plain": [
       "[1, 1, 5, 3, 17, 5, 37, 7, 65, 9]"
      ]
     },
     "execution_count": 9,
     "metadata": {},
     "output_type": "execute_result"
    }
   ],
   "source": [
    "[f(x) if x%2 == 0 else x for x in ls_numbers]"
   ]
  },
  {
   "cell_type": "markdown",
   "metadata": {},
   "source": [
    "### Exercise - lambda functions"
   ]
  },
  {
   "cell_type": "markdown",
   "metadata": {},
   "source": [
    "Create a function that changes every third and seventh element of a list to \"Boom\", given the following list. "
   ]
  },
  {
   "cell_type": "code",
   "execution_count": 10,
   "metadata": {},
   "outputs": [],
   "source": [
    "boom_list = list(range(100))"
   ]
  },
  {
   "cell_type": "code",
   "execution_count": null,
   "metadata": {},
   "outputs": [],
   "source": []
  },
  {
   "cell_type": "code",
   "execution_count": null,
   "metadata": {},
   "outputs": [],
   "source": []
  },
  {
   "cell_type": "code",
   "execution_count": null,
   "metadata": {},
   "outputs": [],
   "source": []
  },
  {
   "cell_type": "code",
   "execution_count": null,
   "metadata": {},
   "outputs": [],
   "source": []
  },
  {
   "cell_type": "markdown",
   "metadata": {},
   "source": [
    "<details><summary>Kattints ide a megoldásért</summary>\n",
    "\n",
    "```python\n",
    "boom_37 = lambda x: \"boom\"\n",
    "[boom_37(x) if (x%3 == 0 or x%7 == 0) else x for x in boom_list]\n",
    "```\n",
    "\n",
    "</details>"
   ]
  },
  {
   "cell_type": "markdown",
   "metadata": {},
   "source": [
    "## Dictionaries"
   ]
  },
  {
   "cell_type": "markdown",
   "metadata": {},
   "source": [
    "Dictionaries are also like lists, except that each element is a key-value pair. Dictionaries are written with curly brackets. A dictionary is a collection which is changeable and does not allow duplicates. The syntax for dictionaries is `{key1 : value1, key2 : value 2, ...}`:"
   ]
  },
  {
   "cell_type": "markdown",
   "metadata": {},
   "source": [
    "A listákhoz képest: A listáknál az értékek az összegyűjtése lineáris: a sorrendjuk kötött és fontos (hiszen aszerint hivatkozunk rájuk). A dictionaries-nél nincs kötött sorrendje az elemeknek; az értékeknek (value), viszont van címkeje (label/key/lookup tag), ezzel tudunk hivatkozni rájuk.\n",
    "\n",
    "value + label = item (más néven tuple)\n",
    "\n",
    "Egy dictionary olyan mint egy változó: sokszor a címkékhez tartozó értékek maguk a gyakorisagok (tehát value=n; label=válaszlehetőség - például value=542; label=férfi) - fontos, hogy ez azért is lehetséges, mert különböző címkékhez tartozhat ugyanaz az érték is.\n",
    "\n",
    "Az, hogy az értékeknek nincs kötött helyük, az teszi a használatukat nagyon gyorssá: 'hashing' - ld. wikipedia."
   ]
  },
  {
   "cell_type": "code",
   "execution_count": 11,
   "metadata": {},
   "outputs": [
    {
     "name": "stdout",
     "output_type": "stream",
     "text": [
      "<class 'dict'>\n",
      "{'bananas': 1, 'oranges': 2, 'apples': 3}\n"
     ]
    }
   ],
   "source": [
    "counts = {\"bananas\" : 1,\n",
    "          \"oranges\" : 2,\n",
    "          \"apples\" : 3,}\n",
    "\n",
    "print(type(counts))\n",
    "print(counts)"
   ]
  },
  {
   "cell_type": "markdown",
   "metadata": {},
   "source": [
    "Strings, numbers, and tuples work as keys, and any type can be a value. Other types may or may not work correctly as keys (strings and tuples work cleanly since they are immutable). Looking up a value which is not in the dict throws a KeyError -- use \"in\" to check if the key is in the dict, or use dict.get(key) which returns the value or None if the key is not present (or get(key, not-found) allows you to specify what value to return in the not-found case)."
   ]
  },
  {
   "cell_type": "code",
   "execution_count": 12,
   "metadata": {},
   "outputs": [
    {
     "data": {
      "text/plain": [
       "{1: 'a', 2: [2, 3]}"
      ]
     },
     "execution_count": 12,
     "metadata": {},
     "output_type": "execute_result"
    }
   ],
   "source": [
    "{1: 'a', 2: [2,3]}"
   ]
  },
  {
   "cell_type": "markdown",
   "metadata": {},
   "source": [
    "Select a dictionary item by key using squared braces."
   ]
  },
  {
   "cell_type": "code",
   "execution_count": 13,
   "metadata": {},
   "outputs": [
    {
     "data": {
      "text/plain": [
       "1"
      ]
     },
     "execution_count": 13,
     "metadata": {},
     "output_type": "execute_result"
    }
   ],
   "source": [
    "counts['bananas']"
   ]
  },
  {
   "cell_type": "markdown",
   "metadata": {},
   "source": [
    "Alternatively"
   ]
  },
  {
   "cell_type": "code",
   "execution_count": 14,
   "metadata": {},
   "outputs": [
    {
     "data": {
      "text/plain": [
       "1"
      ]
     },
     "execution_count": 14,
     "metadata": {},
     "output_type": "execute_result"
    }
   ],
   "source": [
    "counts.get('bananas')"
   ]
  },
  {
   "cell_type": "markdown",
   "metadata": {},
   "source": [
    "To access dictionary elements:"
   ]
  },
  {
   "cell_type": "code",
   "execution_count": 15,
   "metadata": {},
   "outputs": [
    {
     "name": "stdout",
     "output_type": "stream",
     "text": [
      "('bananas', 1)\n",
      "('oranges', 2)\n",
      "('apples', 3)\n"
     ]
    }
   ],
   "source": [
    "for item in counts.items():\n",
    "    print(item)"
   ]
  },
  {
   "cell_type": "code",
   "execution_count": 16,
   "metadata": {},
   "outputs": [
    {
     "name": "stdout",
     "output_type": "stream",
     "text": [
      "The number of bananas is 1 .\n",
      "The number of oranges is 2 .\n",
      "The number of apples is 3 .\n"
     ]
    }
   ],
   "source": [
    "for key, value in counts.items():\n",
    "    print('The number of', key, 'is', value,'.')"
   ]
  },
  {
   "cell_type": "code",
   "execution_count": 17,
   "metadata": {},
   "outputs": [
    {
     "name": "stdout",
     "output_type": "stream",
     "text": [
      "bananas\n",
      "oranges\n",
      "apples\n"
     ]
    }
   ],
   "source": [
    "for key in counts.keys():\n",
    "    print(key)"
   ]
  },
  {
   "cell_type": "code",
   "execution_count": null,
   "metadata": {},
   "outputs": [],
   "source": [
    "for key in counts.keys():\n",
    "    print(key, counts[key])"
   ]
  },
  {
   "cell_type": "code",
   "execution_count": null,
   "metadata": {},
   "outputs": [],
   "source": [
    "for quantity in counts.values(): # You can call the keys and values in any names.\n",
    "    print(quantity)"
   ]
  },
  {
   "cell_type": "markdown",
   "metadata": {},
   "source": [
    "To avoid key errors, you can simply check with an ``if`` that the key is present in the dictionary: "
   ]
  },
  {
   "cell_type": "code",
   "execution_count": null,
   "metadata": {},
   "outputs": [],
   "source": [
    "if 'bananas' in counts:\n",
    "    print(counts['bananas'])"
   ]
  },
  {
   "cell_type": "code",
   "execution_count": null,
   "metadata": {},
   "outputs": [],
   "source": [
    "if 'strawberries' in counts:\n",
    "    print(counts['strawberries'])\n",
    "else:\n",
    "    print('No strawberries in the basket.')"
   ]
  },
  {
   "cell_type": "markdown",
   "metadata": {},
   "source": [
    "What if we are referring to a **missing key**? It depends on how we are calling that key."
   ]
  },
  {
   "cell_type": "code",
   "execution_count": null,
   "metadata": {},
   "outputs": [],
   "source": [
    "print(counts.get('strawberries'))"
   ]
  },
  {
   "cell_type": "code",
   "execution_count": null,
   "metadata": {},
   "outputs": [],
   "source": [
    "print(counts['strawberries'])"
   ]
  },
  {
   "cell_type": "markdown",
   "metadata": {},
   "source": [
    "Define a **default value** for missing keys."
   ]
  },
  {
   "cell_type": "code",
   "execution_count": null,
   "metadata": {},
   "outputs": [],
   "source": [
    "for key in ['bananas', 'oranges', 'strawberries', 'apples']:\n",
    "    print(key, counts.get(key, 0))"
   ]
  },
  {
   "cell_type": "markdown",
   "metadata": {},
   "source": [
    "As of Python version 3.7, dictionaries are *ordered*. In Python 3.6 and earlier, dictionaries are *unordered*. If you want to sort the dictionaries by key use the `sorted()` method."
   ]
  },
  {
   "cell_type": "code",
   "execution_count": null,
   "metadata": {},
   "outputs": [],
   "source": [
    "for key in sorted(counts.keys()):\n",
    "    print(key, counts[key])"
   ]
  },
  {
   "cell_type": "markdown",
   "metadata": {},
   "source": [
    "<br> \n",
    "\n",
    "## I/O: Reading from and writing to files"
   ]
  },
  {
   "cell_type": "markdown",
   "metadata": {},
   "source": [
    "### Reading"
   ]
  },
  {
   "cell_type": "markdown",
   "metadata": {},
   "source": [
    "First you need to **open** the file. "
   ]
  },
  {
   "cell_type": "code",
   "execution_count": 1,
   "metadata": {},
   "outputs": [
    {
     "name": "stdout",
     "output_type": "stream",
     "text": [
      "<_io.TextIOWrapper name='data/example.txt' mode='r' encoding='cp1250'>\n"
     ]
    }
   ],
   "source": [
    "f = open('data/example.txt')\n",
    "print(f)"
   ]
  },
  {
   "cell_type": "code",
   "execution_count": 2,
   "metadata": {},
   "outputs": [
    {
     "data": {
      "text/plain": [
       "\"Hi, my name is Jim and I am from ÄŚeskĂ˝ Krumlov\\nWhat's you name?\""
      ]
     },
     "execution_count": 2,
     "metadata": {},
     "output_type": "execute_result"
    }
   ],
   "source": [
    "f.read()"
   ]
  },
  {
   "cell_type": "markdown",
   "metadata": {},
   "source": [
    "Let's fix the encoding issues..."
   ]
  },
  {
   "cell_type": "markdown",
   "metadata": {},
   "source": [
    "You can also add **encoding information** to the `open()` method. You need to know these endocings:\n",
    "- **'utf-8'**: The most common encoding designed for backward compatibility with ASCII. UTF-8 is by far the most common encoding for the World Wide Web, accounting for over 97% of all web pages, and up to 100% for some languages, as of 2021.\n",
    "- **'cp1250'** or **'Windows-1250'**: It is used under Microsoft Windows to represent texts in Central European and Eastern European languages that use Latin script, such as Polish, Czech, Slovak, Hungarian, Slovene, Serbo-Croatian (Latin script), Romanian (before 1993 spelling reform) and Albanian. It may also be used with the German language; German-language texts encoded with Windows-1250 and Windows-1252 are identical.\n",
    "- **'iso8859_2'**:  part of the ISO/IEC 8859 series of ASCII-based standard character encodings, first edition published in 1987. It is informally referred to as \"Latin-2\". It is generally intended for Central[1] or \"Eastern European\" languages that are written in the Latin script.\n",
    "\n",
    "You can read about the encoding 'codecs' [here](https://docs.python.org/3/library/codecs.html)."
   ]
  },
  {
   "cell_type": "code",
   "execution_count": 3,
   "metadata": {},
   "outputs": [
    {
     "data": {
      "text/plain": [
       "\"Hi, my name is Jim and I am from Český Krumlov\\nWhat's you name?\""
      ]
     },
     "execution_count": 3,
     "metadata": {},
     "output_type": "execute_result"
    }
   ],
   "source": [
    "f = open('data/example.txt', encoding=\"utf-8\")\n",
    "f.read()"
   ]
  },
  {
   "cell_type": "markdown",
   "metadata": {},
   "source": [
    "You also need to **close** the file, otherwise your program will not allow other programs to access it. "
   ]
  },
  {
   "cell_type": "code",
   "execution_count": 4,
   "metadata": {},
   "outputs": [],
   "source": [
    "f.close()"
   ]
  },
  {
   "cell_type": "code",
   "execution_count": 5,
   "metadata": {},
   "outputs": [
    {
     "data": {
      "text/plain": [
       "'Hi, my name is Jim and I am from Český Krumlov\\n'"
      ]
     },
     "execution_count": 5,
     "metadata": {},
     "output_type": "execute_result"
    }
   ],
   "source": [
    "f = open('data/example.txt', encoding=\"utf-8\")\n",
    "\n",
    "f.readline() # This command only reads one line"
   ]
  },
  {
   "cell_type": "code",
   "execution_count": 6,
   "metadata": {},
   "outputs": [
    {
     "data": {
      "text/plain": [
       "\"What's you name?\""
      ]
     },
     "execution_count": 6,
     "metadata": {},
     "output_type": "execute_result"
    }
   ],
   "source": [
    "f.readline()"
   ]
  },
  {
   "cell_type": "code",
   "execution_count": 7,
   "metadata": {},
   "outputs": [],
   "source": [
    "f.close()"
   ]
  },
  {
   "cell_type": "markdown",
   "metadata": {},
   "source": [
    "The best way to close a file is by using the `with` statement. This ensures that the file is closed when the block inside the with statement is exited. We don't need to explicitly call the `close()` method. It is done internally."
   ]
  },
  {
   "cell_type": "code",
   "execution_count": 8,
   "metadata": {},
   "outputs": [
    {
     "name": "stdout",
     "output_type": "stream",
     "text": [
      "Hi, my name is Jim and I am from Český Krumlov\n",
      "\n",
      "What's you name?\n"
     ]
    }
   ],
   "source": [
    "with open('data/example.txt', encoding=\"utf-8\") as f:\n",
    "    for line in f:                # remember to indent! \n",
    "        print(line)"
   ]
  },
  {
   "cell_type": "markdown",
   "metadata": {},
   "source": [
    "### Writing"
   ]
  },
  {
   "cell_type": "code",
   "execution_count": 26,
   "metadata": {},
   "outputs": [],
   "source": [
    "write_text = open('message.txt', 'w')"
   ]
  },
  {
   "cell_type": "code",
   "execution_count": 27,
   "metadata": {},
   "outputs": [
    {
     "data": {
      "text/plain": [
       "45"
      ]
     },
     "execution_count": 27,
     "metadata": {},
     "output_type": "execute_result"
    }
   ],
   "source": [
    "write_text.write('Hello Monthy! \\nThis is my second Python class')"
   ]
  },
  {
   "cell_type": "code",
   "execution_count": 28,
   "metadata": {},
   "outputs": [],
   "source": [
    "write_text.close()"
   ]
  },
  {
   "cell_type": "markdown",
   "metadata": {},
   "source": [
    "Four ways to open a file:\n",
    "- \"r\" - Read - Default value. Opens a file for reading, error if the file does not exist\n",
    "- \"a\" - Append - Opens a file for appending, creates the file if it does not exist\n",
    "- \"w\" - Write - Opens a file for writing, creates the file if it does not exist\n",
    "- \"x\" - Create - Creates the specified file, returns an error if the file exists"
   ]
  },
  {
   "cell_type": "code",
   "execution_count": 9,
   "metadata": {},
   "outputs": [
    {
     "name": "stdout",
     "output_type": "stream",
     "text": [
      "{'bananas': '3', 'apples': '5', 'orange': 'none'}\n"
     ]
    }
   ],
   "source": [
    "fruits=dict()\n",
    "f = open('data/fruits.txt')\n",
    "f.readline() # This reads only one line, the first one with X and Y. We are often not interested in the headline of a file\n",
    "for line in f:\n",
    "    mykey,myvalue=line.strip().split('\\t') # strip() removes whitespace\n",
    "    fruits[mykey]=myvalue\n",
    "f.close() # Remember to close your file!!\n",
    "print(fruits)"
   ]
  },
  {
   "cell_type": "markdown",
   "metadata": {},
   "source": [
    "**hun: Feladat: írj egy kódot, ami a felhasználót kérdezi meg arról, hogy melyik fájlt olvassa be. Ha nem sikerül a fájlt beolvasni, akkor hívd fel a felhasználó figyelmét arra, hogy olyan fájlnevet adjon meg, ami létezik és elérhető; és hogy a következők közül választhat: mbox.txt és mbox-short.txt. Addig csinálja ezt a program, amíg a felhasználó meg nem adja valamelyik fájlnevet.**\n",
    "\n",
    "**eng: Task: write a code that asks the user which file they want to read. If the written file cannot be opened, tell the user to give a name the exists and can be opened. They can chose from these: example.txt, fruits.txt, message.txt. Ask the user again, until they choose from this three.**"
   ]
  },
  {
   "cell_type": "code",
   "execution_count": null,
   "metadata": {},
   "outputs": [],
   "source": []
  },
  {
   "cell_type": "code",
   "execution_count": null,
   "metadata": {},
   "outputs": [],
   "source": []
  },
  {
   "cell_type": "code",
   "execution_count": null,
   "metadata": {},
   "outputs": [],
   "source": []
  },
  {
   "cell_type": "code",
   "execution_count": null,
   "metadata": {},
   "outputs": [],
   "source": []
  },
  {
   "cell_type": "markdown",
   "metadata": {},
   "source": [
    "<details><summary>Kattints ide a megoldásért</summary>\n",
    "\n",
    "```python\n",
    "behivando=input('Melyik fájlt olvassuk be?')\n",
    "\n",
    "while (behivando != \"fruits.txt\" and behivando!=\"message.txt\" and behivando!=\"example.txt\"):\n",
    "    print('Olyan fájlnevet adj meg, ami létezik és elérhető! A következők közül választhatsz: example.txt, fruits.txt, message.txt.')\n",
    "    behivando=input('Melyik fájlt olvassuk be?')\n",
    "    \n",
    "behivando = open('data/' + behivando,'r', encoding=\"utf-8\")\n",
    "print (\"Szuper vagy!\")\n",
    "print(behivando)\n",
    "```\n",
    "\n",
    "</details>"
   ]
  },
  {
   "cell_type": "markdown",
   "metadata": {},
   "source": [
    "## JSON"
   ]
  },
  {
   "cell_type": "markdown",
   "metadata": {},
   "source": [
    "**JSON** is a syntax for storing and exchanging data. JSON is text, written with **JavaScript object notation**."
   ]
  },
  {
   "cell_type": "code",
   "execution_count": 13,
   "metadata": {},
   "outputs": [],
   "source": [
    "import json"
   ]
  },
  {
   "cell_type": "code",
   "execution_count": 10,
   "metadata": {},
   "outputs": [],
   "source": [
    "JSON_string = '{\"my_beer\" : \"Stella\", \"my_car\" : \"Alfa Romeo\", \"my_food\": \"hamburgers\"}'"
   ]
  },
  {
   "cell_type": "code",
   "execution_count": 11,
   "metadata": {},
   "outputs": [
    {
     "data": {
      "text/plain": [
       "str"
      ]
     },
     "execution_count": 11,
     "metadata": {},
     "output_type": "execute_result"
    }
   ],
   "source": [
    "type(JSON_string)"
   ]
  },
  {
   "cell_type": "code",
   "execution_count": 14,
   "metadata": {},
   "outputs": [],
   "source": [
    "my_dict = json.loads(JSON_string)"
   ]
  },
  {
   "cell_type": "code",
   "execution_count": 15,
   "metadata": {},
   "outputs": [
    {
     "name": "stdout",
     "output_type": "stream",
     "text": [
      "<class 'dict'>\n",
      "{'my_beer': 'Stella', 'my_car': 'Alfa Romeo', 'my_food': 'hamburgers'}\n"
     ]
    }
   ],
   "source": [
    "print(type(my_dict))\n",
    "print(my_dict)"
   ]
  },
  {
   "cell_type": "code",
   "execution_count": 16,
   "metadata": {},
   "outputs": [
    {
     "name": "stdout",
     "output_type": "stream",
     "text": [
      "my_beer : Stella\n",
      "my_car : Alfa Romeo\n",
      "my_food : hamburgers\n"
     ]
    }
   ],
   "source": [
    "for k, v in my_dict.items():\n",
    "    print(k,':', my_dict[k])"
   ]
  },
  {
   "cell_type": "markdown",
   "metadata": {},
   "source": [
    "Use JSON for config files."
   ]
  },
  {
   "cell_type": "code",
   "execution_count": 17,
   "metadata": {},
   "outputs": [],
   "source": [
    "with open('data/config.json') as cf:\n",
    "    configurations = json.load(cf)"
   ]
  },
  {
   "cell_type": "code",
   "execution_count": 18,
   "metadata": {},
   "outputs": [
    {
     "data": {
      "text/plain": [
       "{'Output base directories': {'local_path': '/data/user/local_data',\n",
       "  'hdfs_path': '/user/user/hdfs_data'},\n",
       " 'Output options': {'is_local_csv_out': False,\n",
       "  'is_local_parquet_out': False,\n",
       "  'is_hdfs_parquet_out': True},\n",
       " 'Database settings': {'database': 'impala', 'use_password': True}}"
      ]
     },
     "execution_count": 18,
     "metadata": {},
     "output_type": "execute_result"
    }
   ],
   "source": [
    "configurations"
   ]
  },
  {
   "cell_type": "code",
   "execution_count": 19,
   "metadata": {},
   "outputs": [
    {
     "data": {
      "text/plain": [
       "dict"
      ]
     },
     "execution_count": 19,
     "metadata": {},
     "output_type": "execute_result"
    }
   ],
   "source": [
    "type(configurations)"
   ]
  },
  {
   "cell_type": "code",
   "execution_count": 20,
   "metadata": {},
   "outputs": [
    {
     "name": "stdout",
     "output_type": "stream",
     "text": [
      "Output base directories {'local_path': '/data/user/local_data', 'hdfs_path': '/user/user/hdfs_data'}\n",
      "Output options {'is_local_csv_out': False, 'is_local_parquet_out': False, 'is_hdfs_parquet_out': True}\n",
      "Database settings {'database': 'impala', 'use_password': True}\n"
     ]
    }
   ],
   "source": [
    "for key in configurations.keys():\n",
    "    print(key, configurations[key])"
   ]
  },
  {
   "cell_type": "code",
   "execution_count": 21,
   "metadata": {},
   "outputs": [
    {
     "data": {
      "text/plain": [
       "{'is_local_csv_out': False,\n",
       " 'is_local_parquet_out': False,\n",
       " 'is_hdfs_parquet_out': True}"
      ]
     },
     "execution_count": 21,
     "metadata": {},
     "output_type": "execute_result"
    }
   ],
   "source": [
    "configurations['Output options']"
   ]
  },
  {
   "cell_type": "code",
   "execution_count": 22,
   "metadata": {},
   "outputs": [
    {
     "data": {
      "text/plain": [
       "{'database': 'impala', 'use_password': True}"
      ]
     },
     "execution_count": 22,
     "metadata": {},
     "output_type": "execute_result"
    }
   ],
   "source": [
    "configurations['Database settings']"
   ]
  },
  {
   "cell_type": "code",
   "execution_count": 24,
   "metadata": {},
   "outputs": [
    {
     "data": {
      "text/plain": [
       "True"
      ]
     },
     "execution_count": 24,
     "metadata": {},
     "output_type": "execute_result"
    }
   ],
   "source": [
    "configurations['Database settings']['use_password']"
   ]
  },
  {
   "cell_type": "code",
   "execution_count": 23,
   "metadata": {},
   "outputs": [
    {
     "name": "stdout",
     "output_type": "stream",
     "text": [
      "Password needed!\n"
     ]
    }
   ],
   "source": [
    "if configurations['Database settings']['use_password']:\n",
    "    print('Password needed!')"
   ]
  },
  {
   "cell_type": "markdown",
   "metadata": {},
   "source": [
    "Dump dictionary as text."
   ]
  },
  {
   "cell_type": "code",
   "execution_count": 25,
   "metadata": {},
   "outputs": [
    {
     "data": {
      "text/plain": [
       "str"
      ]
     },
     "execution_count": 25,
     "metadata": {},
     "output_type": "execute_result"
    }
   ],
   "source": [
    "type(json.dumps(configurations))"
   ]
  },
  {
   "cell_type": "code",
   "execution_count": 26,
   "metadata": {},
   "outputs": [
    {
     "data": {
      "text/plain": [
       "'{\"Output base directories\": {\"local_path\": \"/data/user/local_data\", \"hdfs_path\": \"/user/user/hdfs_data\"}, \"Output options\": {\"is_local_csv_out\": false, \"is_local_parquet_out\": false, \"is_hdfs_parquet_out\": true}, \"Database settings\": {\"database\": \"impala\", \"use_password\": true}}'"
      ]
     },
     "execution_count": 26,
     "metadata": {},
     "output_type": "execute_result"
    }
   ],
   "source": [
    "json.dumps(configurations)"
   ]
  },
  {
   "cell_type": "markdown",
   "metadata": {},
   "source": [
    "## Datetime"
   ]
  },
  {
   "cell_type": "markdown",
   "metadata": {},
   "source": [
    "Date is not a datatype in Python, but the `datetime` module provides access to date and time functionalities. "
   ]
  },
  {
   "cell_type": "code",
   "execution_count": null,
   "metadata": {},
   "outputs": [],
   "source": [
    "import datetime"
   ]
  },
  {
   "cell_type": "code",
   "execution_count": null,
   "metadata": {
    "tags": []
   },
   "outputs": [],
   "source": [
    "D1 = datetime.date(1986, 4, 21)\n",
    "T1 = datetime.time(12,0,0) # noon\n",
    "DT = datetime.datetime(1986, 4, 21, 12, 15, 0)\n",
    "\n",
    "# Typically you want to work with datetime because you can\n",
    "# omit the time values and then it defaults to midnight.\n",
    "D = datetime.datetime(1986,4,21)"
   ]
  },
  {
   "cell_type": "code",
   "execution_count": null,
   "metadata": {},
   "outputs": [],
   "source": [
    "print('D1:', D1)\n",
    "print('T1:', T1)\n",
    "print('DT:', DT)\n",
    "print('D:', D)"
   ]
  },
  {
   "cell_type": "markdown",
   "metadata": {},
   "source": [
    "Once you have a `datetime` object you can do fancy things with it:"
   ]
  },
  {
   "cell_type": "code",
   "execution_count": null,
   "metadata": {},
   "outputs": [],
   "source": [
    "print(\"The year was %d and the day is %d.\" % (D.year, D.day))\n",
    "\n",
    "print (\"The day of the week was %d.\" % (D.weekday()))\n",
    "print (\"(Monday = 0, ..., Sunday = 6.)\")"
   ]
  },
  {
   "cell_type": "code",
   "execution_count": null,
   "metadata": {},
   "outputs": [],
   "source": [
    "D.utctimetuple()"
   ]
  },
  {
   "cell_type": "code",
   "execution_count": null,
   "metadata": {},
   "outputs": [],
   "source": [
    "Dnow = datetime.datetime.now()\n",
    "print(Dnow)"
   ]
  },
  {
   "cell_type": "markdown",
   "metadata": {},
   "source": [
    "We can format the time using for example `strftime()` (all information about the format [ here](https://docs.python.org/2/library/datetime.html#strftime-strptime-behavior)):"
   ]
  },
  {
   "cell_type": "code",
   "execution_count": null,
   "metadata": {},
   "outputs": [],
   "source": [
    "#Dnow.strftime(\"%I:%M%p\") \n",
    "Dnow.strftime(\"Date: %Y-%m-%d time: %H:%M\") "
   ]
  },
  {
   "cell_type": "markdown",
   "metadata": {},
   "source": [
    "Math operations make sense with datatime objects."
   ]
  },
  {
   "cell_type": "code",
   "execution_count": null,
   "metadata": {},
   "outputs": [],
   "source": [
    "dt = Dnow - D\n",
    "print(type(dt))\n",
    "print(\"There are %i days between then and now.\" % dt.days)"
   ]
  },
  {
   "cell_type": "markdown",
   "metadata": {},
   "source": [
    "`timedelta` encodes time intervals. This allow us to do more operations:"
   ]
  },
  {
   "cell_type": "code",
   "execution_count": null,
   "metadata": {},
   "outputs": [],
   "source": [
    "interval = datetime.timedelta(days=100,hours=12) # 100.5 days\n",
    "\n",
    "soon = datetime.datetime.now() + interval # addition!\n",
    "\n",
    "interval_days =interval.days #if you want also the .5, need to hack a bit and do interval.total_seconds()/3600.0/24\n",
    "\n",
    "print (\"In %0.1f days it will be %s.\" % (interval_days, soon))\n"
   ]
  },
  {
   "cell_type": "code",
   "execution_count": null,
   "metadata": {
    "tags": []
   },
   "outputs": [],
   "source": [
    "ts1 = \"2012-04-26\"\n",
    "ts2 = \"January 5, 1978\""
   ]
  },
  {
   "cell_type": "markdown",
   "metadata": {},
   "source": [
    "We can now use a function to parse a string for a time given a string representing a time format. This uses a function called `strptime` (read it as **str**ing **p**arse\" **time**). \n",
    "\n",
    "Here we go."
   ]
  },
  {
   "cell_type": "code",
   "execution_count": null,
   "metadata": {},
   "outputs": [],
   "source": [
    "d1 = datetime.datetime.strptime( ts1, \"%Y-%m-%d\" )\n",
    "print(d1)\n",
    "print(d1 + datetime.timedelta(days=-7))"
   ]
  },
  {
   "cell_type": "markdown",
   "metadata": {},
   "source": [
    "The string `\"%Y-%m-%d\"` encodes the timestamp format we were looking for. A four-digit year (`%Y`), a dash (`-`), a two-digit month number (`%m`), another dash, and then a day number (`%d`).\n",
    "\n",
    "Now ts2 incorporates the name of a month, so that format string is a little different (`%B` means the full month name)."
   ]
  },
  {
   "cell_type": "code",
   "execution_count": null,
   "metadata": {},
   "outputs": [],
   "source": [
    "d2 = datetime.datetime.strptime( ts2, \"%B %d, %Y\" )\n",
    "print(d2)\n",
    "print(d2 - datetime.timedelta(days=-7))"
   ]
  },
  {
   "cell_type": "markdown",
   "metadata": {},
   "source": [
    "There's a huge number of ways to build a format string. Best is to look up the documentation: http://docs.python.org/2/library/datetime.html#strftime-strptime-behavior\n",
    "\n",
    "Parallel to strptime is another function, `strftime` (string format time) that does the opposite: it takes a `date` or `datetime` and returns a timestamp format string."
   ]
  },
  {
   "cell_type": "code",
   "execution_count": null,
   "metadata": {},
   "outputs": [],
   "source": [
    "s_before = \"Jan 19, '89\"\n",
    "d = datetime.datetime.strptime(\"Jan 19, '89\", \"%b %d, '%y\") # taking the time in a specific format as input\n",
    "s_after  = d.strftime(\"%Y-%m-%d\") # writing the time in another format\n",
    "print (s_before, \"--->\", s_after)"
   ]
  },
  {
   "cell_type": "markdown",
   "metadata": {},
   "source": [
    "Datetime is extremely useful, because different data sources encode times in different ways. Some formats are easy for humans to read, but I like the standard `%Y-%m-%d %H:%M:%S` UNIX-style timestamp because it _sorts nicely_."
   ]
  },
  {
   "cell_type": "markdown",
   "metadata": {},
   "source": [
    "### Wrangling with timezones"
   ]
  },
  {
   "cell_type": "code",
   "execution_count": null,
   "metadata": {},
   "outputs": [],
   "source": [
    "D = datetime.datetime(2021,9,28,1,0,15)\n",
    "D"
   ]
  },
  {
   "cell_type": "markdown",
   "metadata": {},
   "source": [
    "Date and time objects may be categorized as “**aware**” or “**naive**” depending on whether or not they include timezone information. Our **D** variable is *naive*. "
   ]
  },
  {
   "cell_type": "code",
   "execution_count": null,
   "metadata": {},
   "outputs": [],
   "source": [
    "print(D.tzinfo)"
   ]
  },
  {
   "cell_type": "code",
   "execution_count": null,
   "metadata": {},
   "outputs": [],
   "source": [
    "# Python timezone module\n",
    "import pytz"
   ]
  },
  {
   "cell_type": "code",
   "execution_count": null,
   "metadata": {},
   "outputs": [],
   "source": [
    "D_Bp = D.astimezone(pytz.timezone(\"Europe/Budapest\"))"
   ]
  },
  {
   "cell_type": "code",
   "execution_count": null,
   "metadata": {},
   "outputs": [],
   "source": [
    "print(D_Bp.tzinfo)"
   ]
  },
  {
   "cell_type": "code",
   "execution_count": null,
   "metadata": {},
   "outputs": [],
   "source": [
    "D_Bp.hour"
   ]
  },
  {
   "cell_type": "markdown",
   "metadata": {},
   "source": [
    "Convert to other timezones."
   ]
  },
  {
   "cell_type": "code",
   "execution_count": null,
   "metadata": {},
   "outputs": [],
   "source": [
    "D_Bp.astimezone(pytz.timezone(\"Europe/London\"))"
   ]
  },
  {
   "cell_type": "code",
   "execution_count": null,
   "metadata": {},
   "outputs": [],
   "source": [
    "D_Bp.astimezone(pytz.timezone(\"Europe/London\")).hour"
   ]
  },
  {
   "cell_type": "markdown",
   "metadata": {},
   "source": [
    "Everything about datetime is [here](https://docs.python.org/3/library/datetime.html)"
   ]
  },
  {
   "cell_type": "markdown",
   "metadata": {},
   "source": [
    "## Modules"
   ]
  },
  {
   "cell_type": "markdown",
   "metadata": {},
   "source": [
    "Reusing code is standard practice in programming. Writing functions and classes with well-defined purpuse and reuse them instead of writing them all over again for new pgramrs makes life easer, debugging simpler, and your code more readable. \n",
    "\n",
    "**Modules** are essentially code libraries. A python module is defined in a python file (with file-ending `.py`), and it can be made accessible to other Python modules and programs using the `import` statement."
   ]
  },
  {
   "cell_type": "code",
   "execution_count": 27,
   "metadata": {},
   "outputs": [],
   "source": [
    "import my_print_module"
   ]
  },
  {
   "cell_type": "code",
   "execution_count": 28,
   "metadata": {},
   "outputs": [
    {
     "name": "stdout",
     "output_type": "stream",
     "text": [
      "Help on function print_text in module my_print_module:\n",
      "\n",
      "print_text(text)\n",
      "    Prints text to the console.\n",
      "    \n",
      "    Parameters\n",
      "    ----------\n",
      "    text: string\n",
      "        The text to print.\n",
      "\n"
     ]
    }
   ],
   "source": [
    "help(my_print_module.print_text)"
   ]
  },
  {
   "cell_type": "code",
   "execution_count": 29,
   "metadata": {},
   "outputs": [],
   "source": [
    "dc_to_print = {'A': 23, 'B': 'WewishYouaMerryChristmas'}"
   ]
  },
  {
   "cell_type": "code",
   "execution_count": 30,
   "metadata": {},
   "outputs": [
    {
     "name": "stdout",
     "output_type": "stream",
     "text": [
      "{'A': 23, 'B': 'WewishYouaMerryChristmas'}\n"
     ]
    }
   ],
   "source": [
    "my_print_module.print_anything(dc_to_print)"
   ]
  },
  {
   "cell_type": "markdown",
   "metadata": {},
   "source": [
    "There are multiple ways to import modules."
   ]
  },
  {
   "cell_type": "code",
   "execution_count": 31,
   "metadata": {},
   "outputs": [],
   "source": [
    "import my_calculator_module as mc"
   ]
  },
  {
   "cell_type": "code",
   "execution_count": 32,
   "metadata": {},
   "outputs": [
    {
     "data": {
      "text/plain": [
       "44"
      ]
     },
     "execution_count": 32,
     "metadata": {},
     "output_type": "execute_result"
    }
   ],
   "source": [
    "mc.add_two_numbers(14, 30)"
   ]
  },
  {
   "cell_type": "markdown",
   "metadata": {},
   "source": [
    "## Exception Handling (Try Except)"
   ]
  },
  {
   "cell_type": "markdown",
   "metadata": {},
   "source": [
    "`Exceptions` handle errors in the code. They let you write contructs so that your program falls back to somewhere else if an error blocks the normal run of your code. "
   ]
  },
  {
   "cell_type": "markdown",
   "metadata": {},
   "source": [
    "The `try` block lets you test a block of code for errors. <br>\n",
    "The `except` block lets you handle the error.<br>\n",
    "The `else` block is to be executed if no errors were raised.<br>\n",
    "The `finally` block lets you execute code, regardless of the result of the try- and except blocks.<br>"
   ]
  },
  {
   "cell_type": "code",
   "execution_count": null,
   "metadata": {},
   "outputs": [],
   "source": [
    "try:\n",
    "    print(\"test\")\n",
    "    # generate an error: the variable test is not defined\n",
    "    print(test)\n",
    "except:\n",
    "    print(\"Caught an exception\")"
   ]
  },
  {
   "cell_type": "markdown",
   "metadata": {},
   "source": [
    "To get information about the error, we can access the `Exception` class instance that describes the exception by using for example:\n",
    "\n",
    "    except Exception as e:"
   ]
  },
  {
   "cell_type": "code",
   "execution_count": null,
   "metadata": {},
   "outputs": [],
   "source": [
    "try:\n",
    "    print(\"test\")\n",
    "    # generate an error: the variable test is not defined\n",
    "    print(test)\n",
    "except Exception as e:\n",
    "    print(\"The problem with our code is the following: \" + str(e))"
   ]
  },
  {
   "cell_type": "code",
   "execution_count": null,
   "metadata": {},
   "outputs": [],
   "source": [
    "mc.add_two_numbers(3, 'b')"
   ]
  },
  {
   "cell_type": "code",
   "execution_count": null,
   "metadata": {},
   "outputs": [],
   "source": [
    "try:\n",
    "    mc.add_two_numbers(3, 'b')\n",
    "except Exception as e:\n",
    "    print('We ran into this error: ' + str(e))"
   ]
  },
  {
   "cell_type": "markdown",
   "metadata": {},
   "source": [
    "And what happens here? "
   ]
  },
  {
   "cell_type": "code",
   "execution_count": null,
   "metadata": {},
   "outputs": [],
   "source": [
    "try:\n",
    "    mc.devide_two_numbers(3, 'b') # This function already handles the error inside!\n",
    "except Exception as e:\n",
    "    print('We ran into this error: ' + str(e))\n",
    "else:\n",
    "    print('Everything went fine.')"
   ]
  },
  {
   "cell_type": "code",
   "execution_count": null,
   "metadata": {},
   "outputs": [],
   "source": []
  }
 ],
 "metadata": {
  "kernelspec": {
   "display_name": "Python 3",
   "language": "python",
   "name": "python3"
  },
  "language_info": {
   "codemirror_mode": {
    "name": "ipython",
    "version": 3
   },
   "file_extension": ".py",
   "mimetype": "text/x-python",
   "name": "python",
   "nbconvert_exporter": "python",
   "pygments_lexer": "ipython3",
   "version": "3.6.13"
  }
 },
 "nbformat": 4,
 "nbformat_minor": 4
}
