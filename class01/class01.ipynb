{
 "cells": [
  {
   "cell_type": "markdown",
   "id": "83445716",
   "metadata": {},
   "source": [
    "create variables, basic types"
   ]
  },
  {
   "cell_type": "code",
   "execution_count": 82,
   "id": "a3b832d9",
   "metadata": {},
   "outputs": [],
   "source": [
    "a = 10"
   ]
  },
  {
   "cell_type": "code",
   "execution_count": 83,
   "id": "a3213723",
   "metadata": {},
   "outputs": [
    {
     "data": {
      "text/plain": [
       "int"
      ]
     },
     "execution_count": 83,
     "metadata": {},
     "output_type": "execute_result"
    }
   ],
   "source": [
    "type(a)"
   ]
  },
  {
   "cell_type": "code",
   "execution_count": 87,
   "id": "f649f9a4",
   "metadata": {},
   "outputs": [
    {
     "data": {
      "text/plain": [
       "float"
      ]
     },
     "execution_count": 87,
     "metadata": {},
     "output_type": "execute_result"
    }
   ],
   "source": [
    "b = 2.3\n",
    "\n",
    "type(b)"
   ]
  },
  {
   "cell_type": "code",
   "execution_count": 85,
   "id": "4b494309",
   "metadata": {},
   "outputs": [
    {
     "data": {
      "text/plain": [
       "23.0"
      ]
     },
     "execution_count": 85,
     "metadata": {},
     "output_type": "execute_result"
    }
   ],
   "source": [
    "a*b"
   ]
  },
  {
   "cell_type": "code",
   "execution_count": 86,
   "id": "966f4432",
   "metadata": {},
   "outputs": [
    {
     "data": {
      "text/plain": [
       "4.347826086956522"
      ]
     },
     "execution_count": 86,
     "metadata": {},
     "output_type": "execute_result"
    }
   ],
   "source": [
    "a/b"
   ]
  },
  {
   "cell_type": "code",
   "execution_count": 30,
   "id": "616b5a01",
   "metadata": {},
   "outputs": [],
   "source": [
    "text = \"data analysis\""
   ]
  },
  {
   "cell_type": "code",
   "execution_count": 31,
   "id": "8b6b1bb0",
   "metadata": {},
   "outputs": [
    {
     "name": "stdout",
     "output_type": "stream",
     "text": [
      "data analysis\n"
     ]
    }
   ],
   "source": [
    "print(text)"
   ]
  },
  {
   "cell_type": "code",
   "execution_count": 32,
   "id": "5113a98d",
   "metadata": {},
   "outputs": [
    {
     "data": {
      "text/plain": [
       "'data analysisdata analysisdata analysisdata analysisdata analysisdata analysisdata analysisdata analysisdata analysisdata analysis'"
      ]
     },
     "execution_count": 32,
     "metadata": {},
     "output_type": "execute_result"
    }
   ],
   "source": [
    "10*text"
   ]
  },
  {
   "cell_type": "code",
   "execution_count": 33,
   "id": "d0dc9354",
   "metadata": {},
   "outputs": [
    {
     "data": {
      "text/plain": [
       "'data analysisdata analysisdata analysisdata analysisdata analysisdata analysisdata analysisdata analysisdata analysisdata analysis'"
      ]
     },
     "execution_count": 33,
     "metadata": {},
     "output_type": "execute_result"
    }
   ],
   "source": [
    "a*text"
   ]
  },
  {
   "cell_type": "code",
   "execution_count": 38,
   "id": "dc7e6ace",
   "metadata": {},
   "outputs": [],
   "source": [
    "c = False"
   ]
  },
  {
   "cell_type": "code",
   "execution_count": 39,
   "id": "6a27c265",
   "metadata": {},
   "outputs": [
    {
     "data": {
      "text/plain": [
       "''"
      ]
     },
     "execution_count": 39,
     "metadata": {},
     "output_type": "execute_result"
    }
   ],
   "source": [
    "c * text"
   ]
  },
  {
   "cell_type": "markdown",
   "id": "7699732f",
   "metadata": {},
   "source": [
    "Import os package"
   ]
  },
  {
   "cell_type": "code",
   "execution_count": 65,
   "id": "9e3bd456",
   "metadata": {},
   "outputs": [],
   "source": [
    "import os"
   ]
  },
  {
   "cell_type": "markdown",
   "id": "2743e548",
   "metadata": {},
   "source": [
    "basic os commands"
   ]
  },
  {
   "cell_type": "code",
   "execution_count": 66,
   "id": "f44bd400",
   "metadata": {},
   "outputs": [
    {
     "data": {
      "text/plain": [
       "['class01.ipynb', 'About-class01.md', '.ipynb_checkpoints']"
      ]
     },
     "execution_count": 66,
     "metadata": {},
     "output_type": "execute_result"
    }
   ],
   "source": [
    "os.listdir()"
   ]
  },
  {
   "cell_type": "code",
   "execution_count": 67,
   "id": "68bb75d4",
   "metadata": {},
   "outputs": [
    {
     "data": {
      "text/plain": [
       "['class01',\n",
       " '.DS_Store',\n",
       " 'LICENSE',\n",
       " 'README.md',\n",
       " 'Pipfile',\n",
       " '.gitignore',\n",
       " '.git',\n",
       " 'data',\n",
       " 'Pipfile.lock']"
      ]
     },
     "execution_count": 67,
     "metadata": {},
     "output_type": "execute_result"
    }
   ],
   "source": [
    "os.listdir(\"../\")"
   ]
  },
  {
   "cell_type": "code",
   "execution_count": 68,
   "id": "1b195975",
   "metadata": {},
   "outputs": [
    {
     "data": {
      "text/plain": [
       "'/Users/vigadam/Dropbox/work/da-coding-python/class01'"
      ]
     },
     "execution_count": 68,
     "metadata": {},
     "output_type": "execute_result"
    }
   ],
   "source": [
    "os.getcwd()"
   ]
  },
  {
   "cell_type": "markdown",
   "id": "81b612f0",
   "metadata": {},
   "source": [
    "read data"
   ]
  },
  {
   "cell_type": "markdown",
   "id": "00bed1a2",
   "metadata": {},
   "source": [
    "0. get to data folder"
   ]
  },
  {
   "cell_type": "code",
   "execution_count": 50,
   "id": "19a9a832",
   "metadata": {},
   "outputs": [],
   "source": [
    "data_directory = \"/Users/vigadam/Dropbox/work/da-coding-python/data\""
   ]
  },
  {
   "cell_type": "code",
   "execution_count": 51,
   "id": "7b6698e5",
   "metadata": {},
   "outputs": [
    {
     "data": {
      "text/plain": [
       "['.DS_Store', 'hotels-vienna']"
      ]
     },
     "execution_count": 51,
     "metadata": {},
     "output_type": "execute_result"
    }
   ],
   "source": [
    "os.listdir(data_directory)"
   ]
  },
  {
   "cell_type": "code",
   "execution_count": 60,
   "id": "c3923f95",
   "metadata": {},
   "outputs": [],
   "source": [
    "hotels_data_clean_folder = data_directory + \"/hotels-vienna/clean\""
   ]
  },
  {
   "cell_type": "code",
   "execution_count": 61,
   "id": "0d2af463",
   "metadata": {},
   "outputs": [
    {
     "data": {
      "text/plain": [
       "['hotels-vienna_cleaning.R',\n",
       " 'hotels-vienna_cleaning.do',\n",
       " 'hotels-vienna.csv',\n",
       " 'VARIABLES.xlsx',\n",
       " 'hotels-vienna.dta',\n",
       " 'hotels-vienna_cleaning.ipynb']"
      ]
     },
     "execution_count": 61,
     "metadata": {},
     "output_type": "execute_result"
    }
   ],
   "source": [
    "os.listdir(hotels_data_clean_folder)"
   ]
  },
  {
   "cell_type": "markdown",
   "id": "f41bbca8",
   "metadata": {},
   "source": [
    "final path to our .csv file"
   ]
  },
  {
   "cell_type": "code",
   "execution_count": 64,
   "id": "08b9955b",
   "metadata": {},
   "outputs": [
    {
     "data": {
      "text/plain": [
       "'/Users/vigadam/Dropbox/work/da-coding-python/data/hotels-vienna/clean/hotels-vienna.csv'"
      ]
     },
     "execution_count": 64,
     "metadata": {},
     "output_type": "execute_result"
    }
   ],
   "source": [
    "hotels_data_clean_folder + \"/hotels-vienna.csv\""
   ]
  },
  {
   "cell_type": "markdown",
   "id": "599d88ff",
   "metadata": {},
   "source": [
    "another way to get there:"
   ]
  },
  {
   "cell_type": "code",
   "execution_count": 71,
   "id": "fc219faa",
   "metadata": {},
   "outputs": [
    {
     "data": {
      "text/plain": [
       "'../data//hotels-vienna/clean/hotels-vienna.csv'"
      ]
     },
     "execution_count": 71,
     "metadata": {},
     "output_type": "execute_result"
    }
   ],
   "source": [
    "\"../data/hotels-vienna/clean/hotels-vienna.csv\""
   ]
  },
  {
   "cell_type": "markdown",
   "id": "2ee8b057",
   "metadata": {},
   "source": [
    "import pandas package\n",
    "\n",
    "read more on pandas here: https://pandas.pydata.org/docs/"
   ]
  },
  {
   "cell_type": "code",
   "execution_count": 73,
   "id": "7df4fa18",
   "metadata": {},
   "outputs": [],
   "source": [
    "import pandas as pd"
   ]
  },
  {
   "cell_type": "markdown",
   "id": "dd573f8c",
   "metadata": {},
   "source": [
    "We can read various datatypes with pandas, eg. csv, excel, stata, sql, etc."
   ]
  },
  {
   "cell_type": "code",
   "execution_count": 74,
   "id": "3dcbab86",
   "metadata": {},
   "outputs": [
    {
     "data": {
      "text/plain": [
       "<module 'pandas' from '/Users/vigadam/.local/share/virtualenvs/da-coding-python-zosgduYD/lib/python3.9/site-packages/pandas/__init__.py'>"
      ]
     },
     "execution_count": 74,
     "metadata": {},
     "output_type": "execute_result"
    }
   ],
   "source": [
    "pd"
   ]
  },
  {
   "cell_type": "code",
   "execution_count": 76,
   "id": "bed43b5b",
   "metadata": {},
   "outputs": [],
   "source": [
    "data = pd.read_csv(\"../data/hotels-vienna/clean/hotels-vienna.csv\")"
   ]
  },
  {
   "cell_type": "code",
   "execution_count": 77,
   "id": "29ed82fa",
   "metadata": {},
   "outputs": [
    {
     "data": {
      "text/plain": [
       "pandas.core.frame.DataFrame"
      ]
     },
     "execution_count": 77,
     "metadata": {},
     "output_type": "execute_result"
    }
   ],
   "source": [
    "type(data)"
   ]
  },
  {
   "cell_type": "code",
   "execution_count": 88,
   "id": "fb6a2e69",
   "metadata": {},
   "outputs": [
    {
     "data": {
      "text/plain": [
       "Index(['country', 'city_actual', 'rating_count', 'center1label',\n",
       "       'center2label', 'neighbourhood', 'price', 'city', 'stars', 'ratingta',\n",
       "       'ratingta_count', 'scarce_room', 'hotel_id', 'offer', 'offer_cat',\n",
       "       'year', 'month', 'weekend', 'holiday', 'distance', 'distance_alter',\n",
       "       'accommodation_type', 'nnights', 'rating'],\n",
       "      dtype='object')"
      ]
     },
     "execution_count": 88,
     "metadata": {},
     "output_type": "execute_result"
    }
   ],
   "source": [
    "data.columns"
   ]
  },
  {
   "cell_type": "code",
   "execution_count": 89,
   "id": "ab1b1d79",
   "metadata": {},
   "outputs": [
    {
     "data": {
      "text/plain": [
       "RangeIndex(start=0, stop=428, step=1)"
      ]
     },
     "execution_count": 89,
     "metadata": {},
     "output_type": "execute_result"
    }
   ],
   "source": [
    "data.index"
   ]
  },
  {
   "cell_type": "code",
   "execution_count": 91,
   "id": "68e41874",
   "metadata": {},
   "outputs": [
    {
     "data": {
      "text/plain": [
       "(428, 24)"
      ]
     },
     "execution_count": 91,
     "metadata": {},
     "output_type": "execute_result"
    }
   ],
   "source": [
    "data.shape"
   ]
  },
  {
   "cell_type": "code",
   "execution_count": null,
   "id": "ffe2ebfc",
   "metadata": {},
   "outputs": [],
   "source": []
  }
 ],
 "metadata": {
  "kernelspec": {
   "display_name": "Python 3 (ipykernel)",
   "language": "python",
   "name": "python3"
  },
  "language_info": {
   "codemirror_mode": {
    "name": "ipython",
    "version": 3
   },
   "file_extension": ".py",
   "mimetype": "text/x-python",
   "name": "python",
   "nbconvert_exporter": "python",
   "pygments_lexer": "ipython3",
   "version": "3.9.7"
  }
 },
 "nbformat": 4,
 "nbformat_minor": 5
}
