{
 "cells": [
  {
   "cell_type": "markdown",
   "id": "b53567b6",
   "metadata": {},
   "source": [
    "### Lecture 0\n",
    "\n",
    "- Setting up the environment  \n",
    "- Basic terminology  \n",
    "- Using Jupyter notebook  \n",
    "- Using Spyder  (VScode ?)\n",
    "- Running script from Spyder"
   ]
  },
  {
   "cell_type": "markdown",
   "id": "70a0337e",
   "metadata": {},
   "source": [
    "## Jupyter notebooks\n",
    "This file - a Jupyter notebook -  does not follow the standard pattern with Python code in a text file. Instead, a Jupyter notebook is stored as a file in the [JSON](http://en.wikipedia.org/wiki/JSON) format. The advantage is that we can mix formatted text, Python code and code output. It requires the Jupyter notebook server to run it though, and therefore isn't a stand-alone Python program as described above. Other than that, there is no difference between the Python code that goes into a program file or a Jupyter notebook.\n",
    "We will return to JSON files later, when we will work with dictionaries, and advanced data structures."
   ]
  },
  {
   "cell_type": "markdown",
   "id": "c5616878",
   "metadata": {},
   "source": [
    "## Getting familiar with the interface"
   ]
  },
  {
   "cell_type": "markdown",
   "id": "a2b8f8a3",
   "metadata": {},
   "source": [
    "There are two fairly prominent terms that you should notice, which are probably new to you: cells and kernels are key both to understanding Jupyter and to what makes it more than just a word processor. Fortunately, these concepts are not difficult to understand.\n",
    "\n",
    "- A kernel is a “computational engine” that executes the code contained in a notebook document.\n",
    "- A cell is a container for text to be displayed in the notebook or code to be executed by the notebook’s kernel."
   ]
  },
  {
   "cell_type": "markdown",
   "id": "7008f1be",
   "metadata": {},
   "source": [
    "### Cells\n",
    "We’ll return to kernels a little later, but first let’s come to grips with cells.\n",
    "\n",
    "- A code cell contains code to be executed in the kernel. When the code is run, the notebook displays the output below the code cell that generated it.\n",
    "- A Markdown cell contains text formatted using Markdown and displays its output in-place when the Markdown cell is run.\n",
    "\n",
    "The first cell in a new notebook is always a code cell.\n",
    "\n",
    "Let’s test it out with a classic hello world example: Type `print(\"Hello World!\")` into the cell and click the run button Notebook Run Button in the toolbar above or press Ctrl + Enter.\n",
    "\n",
    "The result should look like this:"
   ]
  },
  {
   "cell_type": "code",
   "execution_count": 1,
   "id": "ceb0aa58",
   "metadata": {},
   "outputs": [
    {
     "name": "stdout",
     "output_type": "stream",
     "text": [
      "Hello World!\n"
     ]
    }
   ],
   "source": [
    "print(\"Hello World!\")"
   ]
  },
  {
   "cell_type": "markdown",
   "id": "be2ac251",
   "metadata": {},
   "source": [
    "### Kernels\n",
    "Behind every notebook runs a kernel. When you run a code cell, that code is executed within the kernel. Any output is returned back to the cell to be displayed. The kernel’s state persists over time and between cells — it pertains to the document as a whole and not individual cells.\n",
    "\n"
   ]
  },
  {
   "cell_type": "markdown",
   "id": "7730964a",
   "metadata": {},
   "source": [
    "More on Jupyter Notebooks for beginners: https://www.dataquest.io/blog/jupyter-notebook-tutorial/"
   ]
  },
  {
   "cell_type": "markdown",
   "id": "5b1f1795",
   "metadata": {},
   "source": [
    "## Version control: Git and GitHub\n",
    "\n",
    "Version control is an essential part of coding. It ensures that you keep proper track of your progress when writing a code for analysis or developing a code/package/material etc. We strongly encourage you to create this good habit during this course. \n",
    "\n",
    "There are multiple ways to do version control all of it has some benefits and drawbacks. Here we list the three most commonly used ones:\n",
    "\n",
    "- [GitHub Desktop](https://desktop.github.com/) (and [friends](https://www.slant.co/options/13488/alternatives/~github-desktop-alternatives), eg. [VS Code](https://code.visualstudio.com/)):\n",
    "  - Application to conveniently keep track of your modifications, commit, pull and push to GitHub\n",
    "  - Pro: easy to use, flexible for all types of files, helps to avoid conflicts\n",
    "  - Con: extra application, should create a habit and not forget about it :)\n",
    "\n",
    "- Shell/Terminal\n",
    "  - Using shell or terminal for version control\n",
    "  - Pro: flexible for all types of files, can do literally everything there\n",
    "  - Con: hard to learn, can make mistakes, which is hard to correct\n",
    "  \n",
    "It does not matter what you use, the main issue is to use version control. It makes your life much easier, especially with complicated projects, where you have to test and try out different directions. [GitHub](https://github.com/) is a great platform to collaborate, however, there are others as well.\n",
    "\n",
    "In this course, we do not overview how to do version control but assume the basics are known. Some useful material (thanks to [Oliver Kiss](https://github.com/kiss-oliver)) can be found at:\n",
    "\n",
    "  - Technical foundations of informatics book: https://info201.github.io/git-basics.html\n",
    "  - Software carpentry course (Strongly recommended): https://swcarpentry.github.io/git-novice/\n",
    "  - Github Learning Lab: https://lab.github.com/\n",
    "  - If you are really committed (pun intended): https://git-scm.com/book/en/v2"
   ]
  },
  {
   "cell_type": "code",
   "execution_count": null,
   "id": "bce2a334",
   "metadata": {},
   "outputs": [],
   "source": []
  }
 ],
 "metadata": {
  "kernelspec": {
   "display_name": "Python 3 (ipykernel)",
   "language": "python",
   "name": "python3"
  },
  "language_info": {
   "codemirror_mode": {
    "name": "ipython",
    "version": 3
   },
   "file_extension": ".py",
   "mimetype": "text/x-python",
   "name": "python",
   "nbconvert_exporter": "python",
   "pygments_lexer": "ipython3",
   "version": "3.8.10"
  }
 },
 "nbformat": 4,
 "nbformat_minor": 5
}
