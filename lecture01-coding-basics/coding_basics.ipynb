{
 "cells": [
  {
   "cell_type": "markdown",
   "id": "02d1da55",
   "metadata": {},
   "source": [
    "## Coding 101\n",
    "\n",
    "Always keep in mind you write your code not only for the computer or for\n",
    "some specific goal, but for the future of yourself or for your colleges.\n",
    "Therefore it is highly advised to develop good coding habits that result\n",
    "in an easy-to-read code. Here are some tips to achieve that:\n",
    "\n",
    "### Name your variable properly\n",
    "\n",
    "Variable names in Python can contain alphanumerical characters \n",
    "`a-z`, `A-Z`, `0-9` and some special characters such as `_`. \n",
    "Normal variable names must start with a letter. \n",
    "\n",
    "\n",
    "Naming convention in programming broadly speaking has two big branches.\n",
    "One is utilizing capital letters, the other one the underscore. Both of\n",
    "them are good but try not to mix them. You are completely free to use\n",
    "any variable name, but always keep in mind the three requirements:\n",
    "\n",
    "\n",
    "1.  human-readable:\n",
    "\n",
    "-   good: `message_world` refers to a variable that includes a probably\n",
    "    string message.\n",
    "-   bad: `messageWorld` is not preferred (called camelCase). It is\n",
    "    rather an old school convention which is now rarely used. `m3st96k`\n",
    "    does not reveal much about the possible content\n",
    "\n",
    "2.  computer-readable:\n",
    "\n",
    "-   good: `messageWorld`\n",
    "-   bad: `message-to-world!` as it uses invalid characters. E.g. never\n",
    "    start with a number and avoid special characters such as\n",
    "    -,.!\\~=&^%$, etc.\n",
    "\n",
    "3.  (+1) try to avoid already defined *function names* or already\n",
    "    *existing variables*. We will see what are they and it is always\n",
    "    advised not to re-define variables. It is just a source of confusion\n",
    "    and will make debugging much harder. \n",
    "    There are a number of Python keywords **that cannot be used as variable names**. \n",
    "    These keywords are:\n",
    "\n",
    "   `and, as, assert, break, class, continue, def, del, elif, else, except, \n",
    "    exec, finally, for, from, global, if, import, in, is, lambda, not, or,\n",
    "    pass, print, raise, return, try, while, with, yield`\n",
    "\n",
    "\n",
    "### Commenting your script\n",
    "\n",
    "Commenting is always helpful, especially in the beginning. In Python (or R) you can\n",
    "use the `#` mark to tell Python it is not a command, but comment and do not\n",
    "run that part.\n",
    "\n",
    "Commenting has two purposes:\n",
    "\n",
    "1.  Tell future yourself or to college what the command in the next line\n",
    "    does (or intended to do…)\n",
    "2.  You have a command that is useful for some purpose (e.g. you develop\n",
    "    a code and are not sure which command to use as there are different\n",
    "    options), but you do not want to run it. Then you can uncomment that\n",
    "    line.\n",
    "\n",
    "Commenting and uncommenting a line or selection of lines has the hotkey\n",
    "of `cmd+shift+c` (mac) or `ctrl+shift+c` (windows).\n",
    "\n",
    "**Tip:** as you advance in programming you will use less commenting for\n",
    "the codes as you will start to be able to read the commands as it would\n",
    "be plain English, which is pretty cool. However, if you are working with\n",
    "others, always keep in mind that their level might be different. This\n",
    "course material will use extensive commenting to make sure that the\n",
    "material is learned even if in some cases it would be unnecessary.\n",
    "Finally, always make sure that the code does what it is said to be doing\n",
    "as it is really frustrating and leads to potential misunderstanding.\n",
    "\n",
    "### Spacing and formatting your code\n",
    "\n",
    "Finally, how you structure your code indeed matters a lot. Here is some\n",
    "guidance on how to format your code:\n",
    "\n",
    "1.  Use spacing as you learn Python. It will make your code much more\n",
    "    readable. E.g. as we will see functions use parenthesis `()`,\n",
    "    indexing brackets `[]`, conditionals and loops curly brackets `{}`.\n",
    "    It is a good practice to use a space after an input of a function,\n",
    "    index or element of a list that we will discuss later this lecture.\n",
    "2.  You can break your code into multiple lines. Use these line\n",
    "    breaks to make your code more easily readable.\n",
    "3.  In the future we will see many embedded commands, meaning you use a\n",
    "    command within a command. If it is rather complex use spacing and\n",
    "    line break together to make it easier to follow.\n",
    "4.  If you are using functions, conditionals, or loops it is advised to\n",
    "    increase the indent accordingly.\n",
    "\n",
    "**Note:** too much formatting will increase the chance of making a\n",
    "coding error and your commands will not run or even worse, it will run,\n",
    "but not as you wish. Try to keep a good balance!\n",
    "\n",
    "**Tip:** use a code formatter, eg. [black](https://black.readthedocs.io/en/stable/) which will do all above with a single click. Running [these commands]()  gets you black installed and activated on Jupyter Notebooks. To format code in a notebook, click on <i class=\"fa-legal fa\" > Black"
   ]
  },
  {
   "cell_type": "markdown",
   "id": "0141797e",
   "metadata": {},
   "source": [
    "## Variables and types\n",
    "### Symbol names \n",
    "Variable names in Python can contain alphanumerical characters `a-z`, `A-Z`, `0-9` and some special characters such as `_`. Normal variable names must start with a letter. \n",
    "\n",
    "By convention, variable names start with a lower-case letter, and Class names start with a capital letter. \n",
    "\n",
    "In addition, there are a number of Python keywords **that cannot be used as variable names**. These keywords are:\n",
    "\n",
    "    and, as, assert, break, class, continue, def, del, elif, else, except, \n",
    "    exec, finally, for, from, global, if, import, in, is, lambda, not, or,\n",
    "    pass, print, raise, return, try, while, with, yield\n",
    "\n",
    "Note: Be aware of the keyword `lambda`, which could easily be a natural variable name in a scientific program. But being a keyword, it cannot be used as a variable name.\n",
    "### Assignment"
   ]
  },
  {
   "cell_type": "markdown",
   "id": "732c29e8",
   "metadata": {},
   "source": [
    "The assignment operator in Python is `=`. Python is a dynamically typed language, so we do not need to specify the type of a variable when we create one.\n",
    "\n",
    "Assigning a value to a new variable creates the variable:"
   ]
  },
  {
   "cell_type": "code",
   "execution_count": null,
   "id": "23a26c14",
   "metadata": {},
   "outputs": [],
   "source": [
    "a = 3"
   ]
  },
  {
   "cell_type": "code",
   "execution_count": null,
   "id": "54f976c6",
   "metadata": {},
   "outputs": [],
   "source": [
    "type(a)"
   ]
  },
  {
   "cell_type": "code",
   "execution_count": null,
   "id": "d482af18",
   "metadata": {},
   "outputs": [],
   "source": [
    "b = 1.2"
   ]
  },
  {
   "cell_type": "code",
   "execution_count": null,
   "id": "e1eac718",
   "metadata": {},
   "outputs": [],
   "source": [
    "type(b)"
   ]
  },
  {
   "cell_type": "code",
   "execution_count": null,
   "id": "16954726",
   "metadata": {},
   "outputs": [],
   "source": [
    "c = 'a'"
   ]
  },
  {
   "cell_type": "code",
   "execution_count": null,
   "id": "f1ec1b18",
   "metadata": {},
   "outputs": [],
   "source": [
    "type(c)"
   ]
  },
  {
   "cell_type": "code",
   "execution_count": null,
   "id": "3439faf7",
   "metadata": {},
   "outputs": [],
   "source": [
    "d = 'abc'"
   ]
  },
  {
   "cell_type": "code",
   "execution_count": null,
   "id": "ee2deaf1",
   "metadata": {},
   "outputs": [],
   "source": [
    "type(d)"
   ]
  },
  {
   "cell_type": "markdown",
   "id": "1d324ad8",
   "metadata": {},
   "source": [
    "Variables can easily be casted into other types."
   ]
  },
  {
   "cell_type": "code",
   "execution_count": null,
   "id": "14dfee85",
   "metadata": {},
   "outputs": [],
   "source": [
    "float(a)"
   ]
  },
  {
   "cell_type": "code",
   "execution_count": null,
   "id": "2134480a",
   "metadata": {},
   "outputs": [],
   "source": [
    "str(a)"
   ]
  },
  {
   "cell_type": "code",
   "execution_count": null,
   "id": "9224dc23",
   "metadata": {},
   "outputs": [],
   "source": [
    "int(b)"
   ]
  },
  {
   "cell_type": "markdown",
   "id": "c44667e8",
   "metadata": {},
   "source": [
    "When reassigned with a new value, its type can change. "
   ]
  },
  {
   "cell_type": "code",
   "execution_count": null,
   "id": "468bd410",
   "metadata": {},
   "outputs": [],
   "source": [
    "a = 1.3\n",
    "type(a)"
   ]
  },
  {
   "cell_type": "markdown",
   "id": "c4b0ba4c",
   "metadata": {},
   "source": [
    "All characters have a respective number by which they are referred to. "
   ]
  },
  {
   "cell_type": "code",
   "execution_count": null,
   "id": "53c257a2",
   "metadata": {},
   "outputs": [],
   "source": [
    "chr(60)"
   ]
  },
  {
   "cell_type": "markdown",
   "id": "46da4797",
   "metadata": {},
   "source": [
    "### Fundamental types"
   ]
  },
  {
   "cell_type": "code",
   "execution_count": null,
   "id": "73a40ee4",
   "metadata": {},
   "outputs": [],
   "source": [
    "# integers\n",
    "x = 1\n",
    "type(x)"
   ]
  },
  {
   "cell_type": "code",
   "execution_count": null,
   "id": "edb1ed38",
   "metadata": {},
   "outputs": [],
   "source": [
    "# float\n",
    "x = 1.0\n",
    "type(x)"
   ]
  },
  {
   "cell_type": "code",
   "execution_count": null,
   "id": "d4a2e999",
   "metadata": {},
   "outputs": [],
   "source": [
    "# boolean\n",
    "b1 = True\n",
    "b2 = False\n",
    "\n",
    "type(b1)"
   ]
  },
  {
   "cell_type": "code",
   "execution_count": null,
   "id": "0c2cf3ec",
   "metadata": {},
   "outputs": [],
   "source": [
    "# complex numbers: note the use of `j` to specify the imaginary part\n",
    "x = 1.0 - 1.0j\n",
    "type(x)"
   ]
  },
  {
   "cell_type": "code",
   "execution_count": null,
   "id": "c5784403",
   "metadata": {},
   "outputs": [],
   "source": [
    "print(x)"
   ]
  },
  {
   "cell_type": "code",
   "execution_count": null,
   "id": "2d3ed621",
   "metadata": {},
   "outputs": [],
   "source": [
    "print(x.real, x.imag)"
   ]
  },
  {
   "cell_type": "markdown",
   "id": "c9715b7d",
   "metadata": {},
   "source": [
    "### Operators"
   ]
  },
  {
   "cell_type": "markdown",
   "id": "9fb47c21",
   "metadata": {},
   "source": [
    "Arithmetic"
   ]
  },
  {
   "cell_type": "code",
   "execution_count": 18,
   "id": "1398c205",
   "metadata": {},
   "outputs": [
    {
     "data": {
      "text/plain": [
       "(3, -1, 2, 0.5)"
      ]
     },
     "execution_count": 18,
     "metadata": {},
     "output_type": "execute_result"
    }
   ],
   "source": [
    "1 + 2, 1 - 2, 1 * 2, 1 / 2"
   ]
  },
  {
   "cell_type": "markdown",
   "id": "e7bc5fa6",
   "metadata": {},
   "source": [
    "Integer division of float numbers"
   ]
  },
  {
   "cell_type": "code",
   "execution_count": 19,
   "id": "e1411917",
   "metadata": {},
   "outputs": [
    {
     "data": {
      "text/plain": [
       "1.0"
      ]
     },
     "execution_count": 19,
     "metadata": {},
     "output_type": "execute_result"
    }
   ],
   "source": [
    "3.0 // 2.0"
   ]
  },
  {
   "cell_type": "markdown",
   "id": "08a0fac3",
   "metadata": {},
   "source": [
    "Power is ** not ^"
   ]
  },
  {
   "cell_type": "code",
   "execution_count": 20,
   "id": "8c325d46",
   "metadata": {},
   "outputs": [
    {
     "data": {
      "text/plain": [
       "8"
      ]
     },
     "execution_count": 20,
     "metadata": {},
     "output_type": "execute_result"
    }
   ],
   "source": [
    "2**3"
   ]
  },
  {
   "cell_type": "markdown",
   "id": "9b6f274a",
   "metadata": {},
   "source": [
    "/ always results in floats"
   ]
  },
  {
   "cell_type": "code",
   "execution_count": 21,
   "id": "fc885f56",
   "metadata": {},
   "outputs": [
    {
     "data": {
      "text/plain": [
       "2.0"
      ]
     },
     "execution_count": 21,
     "metadata": {},
     "output_type": "execute_result"
    }
   ],
   "source": [
    "2 / 1"
   ]
  },
  {
   "cell_type": "markdown",
   "id": "8e42f077",
   "metadata": {},
   "source": [
    "if you need intergers use integer division instead"
   ]
  },
  {
   "cell_type": "code",
   "execution_count": 22,
   "id": "5a5a3d69",
   "metadata": {},
   "outputs": [
    {
     "data": {
      "text/plain": [
       "2"
      ]
     },
     "execution_count": 22,
     "metadata": {},
     "output_type": "execute_result"
    }
   ],
   "source": [
    "2 // 1"
   ]
  },
  {
   "cell_type": "markdown",
   "id": "b2ea64dc",
   "metadata": {},
   "source": [
    " Modulo"
   ]
  },
  {
   "cell_type": "code",
   "execution_count": 23,
   "id": "c0e12ac7",
   "metadata": {},
   "outputs": [
    {
     "data": {
      "text/plain": [
       "1"
      ]
     },
     "execution_count": 23,
     "metadata": {},
     "output_type": "execute_result"
    }
   ],
   "source": [
    "7%3"
   ]
  },
  {
   "cell_type": "markdown",
   "id": "4c822294",
   "metadata": {},
   "source": [
    "boolean"
   ]
  },
  {
   "cell_type": "code",
   "execution_count": 25,
   "id": "81107f08",
   "metadata": {},
   "outputs": [
    {
     "data": {
      "text/plain": [
       "False"
      ]
     },
     "execution_count": 25,
     "metadata": {},
     "output_type": "execute_result"
    }
   ],
   "source": [
    "True and False"
   ]
  },
  {
   "cell_type": "code",
   "execution_count": 26,
   "id": "b11e4e97",
   "metadata": {},
   "outputs": [
    {
     "data": {
      "text/plain": [
       "True"
      ]
     },
     "execution_count": 26,
     "metadata": {},
     "output_type": "execute_result"
    }
   ],
   "source": [
    "not False"
   ]
  },
  {
   "cell_type": "code",
   "execution_count": 27,
   "id": "a743397a",
   "metadata": {},
   "outputs": [
    {
     "data": {
      "text/plain": [
       "True"
      ]
     },
     "execution_count": 27,
     "metadata": {},
     "output_type": "execute_result"
    }
   ],
   "source": [
    "True or False"
   ]
  },
  {
   "cell_type": "markdown",
   "id": "a120eae1",
   "metadata": {},
   "source": [
    "comparison"
   ]
  },
  {
   "cell_type": "code",
   "execution_count": 28,
   "id": "c4d07871",
   "metadata": {},
   "outputs": [],
   "source": [
    "a = 2\n",
    "b = 3\n",
    "c = 3"
   ]
  },
  {
   "cell_type": "code",
   "execution_count": 29,
   "id": "acb2f602",
   "metadata": {},
   "outputs": [
    {
     "data": {
      "text/plain": [
       "False"
      ]
     },
     "execution_count": 29,
     "metadata": {},
     "output_type": "execute_result"
    }
   ],
   "source": [
    "a > b"
   ]
  },
  {
   "cell_type": "code",
   "execution_count": 30,
   "id": "374250af",
   "metadata": {},
   "outputs": [
    {
     "data": {
      "text/plain": [
       "True"
      ]
     },
     "execution_count": 30,
     "metadata": {},
     "output_type": "execute_result"
    }
   ],
   "source": [
    "b == c"
   ]
  },
  {
   "cell_type": "code",
   "execution_count": 31,
   "id": "f8b743fc",
   "metadata": {},
   "outputs": [
    {
     "data": {
      "text/plain": [
       "True"
      ]
     },
     "execution_count": 31,
     "metadata": {},
     "output_type": "execute_result"
    }
   ],
   "source": [
    "b is c"
   ]
  },
  {
   "cell_type": "code",
   "execution_count": 32,
   "id": "decb4790",
   "metadata": {},
   "outputs": [
    {
     "data": {
      "text/plain": [
       "True"
      ]
     },
     "execution_count": 32,
     "metadata": {},
     "output_type": "execute_result"
    }
   ],
   "source": [
    "True == 1"
   ]
  },
  {
   "cell_type": "code",
   "execution_count": null,
   "id": "421de981",
   "metadata": {},
   "outputs": [],
   "source": []
  },
  {
   "cell_type": "code",
   "execution_count": null,
   "id": "fa5b6f44",
   "metadata": {},
   "outputs": [],
   "source": []
  },
  {
   "cell_type": "code",
   "execution_count": null,
   "id": "0a51729d",
   "metadata": {},
   "outputs": [],
   "source": []
  }
 ],
 "metadata": {
  "kernelspec": {
   "display_name": "Python 3 (ipykernel)",
   "language": "python",
   "name": "python3"
  },
  "language_info": {
   "codemirror_mode": {
    "name": "ipython",
    "version": 3
   },
   "file_extension": ".py",
   "mimetype": "text/x-python",
   "name": "python",
   "nbconvert_exporter": "python",
   "pygments_lexer": "ipython3",
   "version": "3.10.1"
  }
 },
 "nbformat": 4,
 "nbformat_minor": 5
}
