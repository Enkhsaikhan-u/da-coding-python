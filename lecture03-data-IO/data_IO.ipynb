{
 "cells": [
  {
   "cell_type": "markdown",
   "id": "68ce080e-8ee3-4120-b63e-d65731319404",
   "metadata": {},
   "source": [
    "# Lecture 3\n",
    "\n",
    "## I/O (Reading From and Writing To Files)\n",
    "## Navigating The File System\n",
    "----"
   ]
  },
  {
   "cell_type": "markdown",
   "id": "2c3950bf-f26d-40ba-903c-ffaf11d56988",
   "metadata": {},
   "source": [
    "## I/O"
   ]
  },
  {
   "cell_type": "markdown",
   "id": "51631150-3331-4848-a397-e132a9878da6",
   "metadata": {},
   "source": [
    "### Reading"
   ]
  },
  {
   "cell_type": "markdown",
   "id": "8258ef5e-3455-4a0c-94ee-6f2f6574d2f4",
   "metadata": {},
   "source": [
    "Before any file operation we need to `open` the file."
   ]
  },
  {
   "cell_type": "code",
   "execution_count": 1,
   "id": "51d8cfcb-366a-477d-beba-9a55ab7a2d04",
   "metadata": {},
   "outputs": [],
   "source": [
    "f = open('Linux_2k.log')"
   ]
  },
  {
   "cell_type": "code",
   "execution_count": 2,
   "id": "6543d7be-ef7c-40ea-9607-32a24e03863b",
   "metadata": {},
   "outputs": [
    {
     "name": "stdout",
     "output_type": "stream",
     "text": [
      "<_io.TextIOWrapper name='Linux_2k.log' mode='r' encoding='cp1250'>\n"
     ]
    }
   ],
   "source": [
    "print(f)"
   ]
  },
  {
   "cell_type": "code",
   "execution_count": 3,
   "id": "04eed29a-dc05-4dc6-b4ad-92d7014fbb85",
   "metadata": {},
   "outputs": [
    {
     "data": {
      "text/plain": [
       "'Jun 14 15:16:01 combo sshd(pam_unix)[19939]: authentication failure; logname= uid=0 euid=0 tty=NODEVssh ruser= rhost=218.188.2.4 \\nJun 14 15:16:02 combo sshd(pam_unix)[19937]: check pass; user unknown\\nJun 14 15:16:02 combo sshd(pam_unix)[19937]: authentication failure; logname= uid=0 euid=0 tty=NODEVssh ruser= rhost=218.188.2.4 \\nJun 15 02:04:59 combo sshd(pam_unix)[20882]: authentication failure; logname= uid=0 euid=0 tty=NODEVssh ruser= rhost=220-135-151-1.hinet-ip.hinet.net  user=root\\nJun 15 02:04:59 combo sshd(pam_unix)[20884]: authentication failure; logname= uid=0 euid=0 tty=NODEVssh ruser= rhost=220-135-151-1.hinet-ip.hinet.net  user=root\\nJun 15 04:06:18 combo su(pam_unix)[21416]: session opened for user cyrus by (uid=0)\\nJun 15 04:06:19 combo su(pam_unix)[21416]: session closed for user cyrus\\nJun 15 04:06:20 combo logrotate: ALERT exited abnormally with [1]\\nJun 15 04:12:42 combo su(pam_unix)[22644]: session opened for user news by (uid=0)\\nJun 15 04:12:43 combo su(pam_unix)[22644]: session closed for user news'"
      ]
     },
     "execution_count": 3,
     "metadata": {},
     "output_type": "execute_result"
    }
   ],
   "source": [
    "f.read()"
   ]
  },
  {
   "cell_type": "markdown",
   "id": "df58897a-973d-4f27-bb0e-d828241babe9",
   "metadata": {},
   "source": [
    "You also need to `close` the file, otherwise your program will not allow other programs to access it."
   ]
  },
  {
   "cell_type": "code",
   "execution_count": 4,
   "id": "f6bc5c6d-e35f-4152-8f0f-3db9533d67ee",
   "metadata": {},
   "outputs": [],
   "source": [
    "f.close()"
   ]
  },
  {
   "cell_type": "markdown",
   "id": "4bfa0064-1ee7-49ec-8cef-2f255cc78a9f",
   "metadata": {},
   "source": [
    "Note: We are using a system log example from the [Loghub](https://github.com/logpai/loghub) repository. The relevant documentation can be found on [arxiv.org](https://arxiv.org/abs/2008.06448)."
   ]
  },
  {
   "cell_type": "markdown",
   "id": "00fac8ee-7666-4ff7-9152-1b1dca73e71e",
   "metadata": {},
   "source": [
    "You can also add *encoding information* to the `open()` method to avoid the mess with funny characters. "
   ]
  },
  {
   "cell_type": "code",
   "execution_count": 5,
   "id": "d3bc00aa-2a92-4fdc-8cb8-b4f86c87fabe",
   "metadata": {},
   "outputs": [
    {
     "data": {
      "text/plain": [
       "'ÄŚeskĂ˝ Krumlov, PĂ©cs, KrakĂłw'"
      ]
     },
     "execution_count": 5,
     "metadata": {},
     "output_type": "execute_result"
    }
   ],
   "source": [
    "f = open('city_names.txt')\n",
    "f.read()"
   ]
  },
  {
   "cell_type": "code",
   "execution_count": 6,
   "id": "52d4e448-4f04-4c94-9655-abfe3bc09d86",
   "metadata": {},
   "outputs": [],
   "source": [
    "f.close()"
   ]
  },
  {
   "cell_type": "code",
   "execution_count": 7,
   "id": "5f0c3f04-b3bf-433d-993b-5cfe6e2c3c05",
   "metadata": {},
   "outputs": [
    {
     "data": {
      "text/plain": [
       "'Český Krumlov, Pécs, Kraków'"
      ]
     },
     "execution_count": 7,
     "metadata": {},
     "output_type": "execute_result"
    }
   ],
   "source": [
    "f = open('city_names.txt', encoding = 'utf-8')\n",
    "f.read()"
   ]
  },
  {
   "cell_type": "code",
   "execution_count": 8,
   "id": "4033b6e3-24a2-41a0-9d70-84db73c4d953",
   "metadata": {},
   "outputs": [],
   "source": [
    "f.close()"
   ]
  },
  {
   "cell_type": "markdown",
   "id": "e9ff1cca-0bea-4137-bfb2-5526522a5f98",
   "metadata": {},
   "source": [
    "You can find encoding options for all languages and character sets in the documentation of the [codecs module](https://docs.python.org/3/library/codecs.html#standard-encodings). "
   ]
  },
  {
   "cell_type": "markdown",
   "id": "a78f4683-5484-48ea-b425-2692e63f093a",
   "metadata": {},
   "source": [
    "Multiline text can be also be read sequentially."
   ]
  },
  {
   "cell_type": "code",
   "execution_count": 9,
   "id": "ef14caef-b018-49c6-9eb0-05372fb1a0e4",
   "metadata": {},
   "outputs": [],
   "source": [
    "f = open('Linux_2k.log')"
   ]
  },
  {
   "cell_type": "code",
   "execution_count": 10,
   "id": "2d9d4ef2-74fd-4b8e-9d02-1d7451cd3d23",
   "metadata": {},
   "outputs": [
    {
     "data": {
      "text/plain": [
       "'Jun 14 15:16:01 combo sshd(pam_unix)[19939]: authentication failure; logname= uid=0 euid=0 tty=NODEVssh ruser= rhost=218.188.2.4 \\n'"
      ]
     },
     "execution_count": 10,
     "metadata": {},
     "output_type": "execute_result"
    }
   ],
   "source": [
    "f.readline()"
   ]
  },
  {
   "cell_type": "code",
   "execution_count": 11,
   "id": "e1114b95-fad7-453c-84ef-7021f427b500",
   "metadata": {},
   "outputs": [
    {
     "data": {
      "text/plain": [
       "'Jun 14 15:16:02 combo sshd(pam_unix)[19937]: check pass; user unknown\\n'"
      ]
     },
     "execution_count": 11,
     "metadata": {},
     "output_type": "execute_result"
    }
   ],
   "source": [
    "f.readline()"
   ]
  },
  {
   "cell_type": "code",
   "execution_count": 12,
   "id": "4736993f-2c12-42f7-a486-6a50784b0be6",
   "metadata": {},
   "outputs": [],
   "source": [
    "f.close()"
   ]
  },
  {
   "cell_type": "markdown",
   "id": "8947bdfa-ba99-45ab-98ba-3081ef54d9b4",
   "metadata": {},
   "source": [
    "The best way to read and write file is by using the `with` statement. This ensures that the file is closed when the block inside the with statement is exited. We don't need to explicitly call the `close()` method, it is done internally."
   ]
  },
  {
   "cell_type": "code",
   "execution_count": 13,
   "id": "4aa35b7a-f047-4d60-b604-37e9514a6ea8",
   "metadata": {},
   "outputs": [
    {
     "name": "stdout",
     "output_type": "stream",
     "text": [
      "Jun 14 15:16:01 combo sshd(pam_unix)[19939]: authentication failure; logname= uid=0 euid=0 tty=NODEVssh ruser= rhost=218.188.2.4 \n",
      "\n",
      "Jun 14 15:16:02 combo sshd(pam_unix)[19937]: check pass; user unknown\n",
      "\n",
      "Jun 14 15:16:02 combo sshd(pam_unix)[19937]: authentication failure; logname= uid=0 euid=0 tty=NODEVssh ruser= rhost=218.188.2.4 \n",
      "\n",
      "Jun 15 02:04:59 combo sshd(pam_unix)[20882]: authentication failure; logname= uid=0 euid=0 tty=NODEVssh ruser= rhost=220-135-151-1.hinet-ip.hinet.net  user=root\n",
      "\n",
      "Jun 15 02:04:59 combo sshd(pam_unix)[20884]: authentication failure; logname= uid=0 euid=0 tty=NODEVssh ruser= rhost=220-135-151-1.hinet-ip.hinet.net  user=root\n",
      "\n",
      "Jun 15 04:06:18 combo su(pam_unix)[21416]: session opened for user cyrus by (uid=0)\n",
      "\n",
      "Jun 15 04:06:19 combo su(pam_unix)[21416]: session closed for user cyrus\n",
      "\n",
      "Jun 15 04:06:20 combo logrotate: ALERT exited abnormally with [1]\n",
      "\n",
      "Jun 15 04:12:42 combo su(pam_unix)[22644]: session opened for user news by (uid=0)\n",
      "\n",
      "Jun 15 04:12:43 combo su(pam_unix)[22644]: session closed for user news\n"
     ]
    }
   ],
   "source": [
    "with open('Linux_2k.log', encoding=\"utf-8\") as f:\n",
    "    for line in f:                # remember to indent! \n",
    "        print(line)\n",
    "\n",
    "# After the operation the connection to the file is closed. "
   ]
  },
  {
   "cell_type": "markdown",
   "id": "8bf19b9c-2ecc-4940-8647-978653884b06",
   "metadata": {},
   "source": [
    "### Writing"
   ]
  },
  {
   "cell_type": "code",
   "execution_count": 14,
   "id": "127c154e-84d9-4938-acee-8ece7647f85e",
   "metadata": {},
   "outputs": [],
   "source": [
    "with open(file = 'message.txt', mode = 'w', encoding = 'utf-8') as write_text:\n",
    "    write_text.write('Hello Monthy! \\nThis is Python class on file I/O.')"
   ]
  },
  {
   "cell_type": "markdown",
   "id": "5b747e36-1232-447b-9e75-1e47b3708675",
   "metadata": {},
   "source": [
    "There are four ways to open a file:\n",
    "- \"r\" - Read - Default value. Opens a file for reading, error if the file does not exist\n",
    "- \"a\" - Append - Opens a file for appending, creates the file if it does not exist\n",
    "- \"w\" - Write - Opens a file for writing, creates the file if it does not exist\n",
    "- \"x\" - Create - Creates the specified file, returns an error if the file exists"
   ]
  },
  {
   "cell_type": "markdown",
   "id": "bb263a87-dc6c-40e1-9933-5ee5e3e7bc7e",
   "metadata": {},
   "source": [
    "### Navigating The File System"
   ]
  },
  {
   "cell_type": "markdown",
   "id": "d31e62c0-8375-4f92-99cf-7c984a183dce",
   "metadata": {},
   "source": [
    "One way to navigate in your file system is by using the `os` module. This module provides methods for getting directory info, creating and deleting folders, listing files, etc. "
   ]
  },
  {
   "cell_type": "code",
   "execution_count": 15,
   "id": "26233f46-e530-440a-8ffd-f8ab8f43d90e",
   "metadata": {},
   "outputs": [],
   "source": [
    "import os"
   ]
  },
  {
   "cell_type": "markdown",
   "id": "a91f70f6-b83a-443b-a85e-600391803ee1",
   "metadata": {},
   "source": [
    "`getcwd()` will give you your current working directory, and `listdir()` lists the file in the directory of your choice. (If you don't give the 'path' parameter as input it will list the files in your current working directory.)"
   ]
  },
  {
   "cell_type": "code",
   "execution_count": 16,
   "id": "dccb38e4-21eb-47fc-9519-31e83500b74a",
   "metadata": {},
   "outputs": [],
   "source": [
    "current_directory = os.getcwd()"
   ]
  },
  {
   "cell_type": "code",
   "execution_count": 17,
   "id": "7d9b6be5-b656-4350-9733-56a805bb10ab",
   "metadata": {},
   "outputs": [],
   "source": [
    "files = os.listdir(current_directory)"
   ]
  },
  {
   "cell_type": "code",
   "execution_count": 18,
   "id": "e9d0aae3-8035-4e27-a738-0dff1e07164b",
   "metadata": {},
   "outputs": [
    {
     "name": "stdout",
     "output_type": "stream",
     "text": [
      "['.ipynb_checkpoints', 'city_names.txt', 'data_IO.ipynb', 'Linux_2k.log', 'message.txt', 'README.md']\n"
     ]
    }
   ],
   "source": [
    "print(files)"
   ]
  },
  {
   "cell_type": "code",
   "execution_count": 19,
   "id": "10f5c962-a32a-480b-8e14-1541a856f102",
   "metadata": {},
   "outputs": [
    {
     "data": {
      "text/plain": [
       "list"
      ]
     },
     "execution_count": 19,
     "metadata": {},
     "output_type": "execute_result"
    }
   ],
   "source": [
    "type(files)"
   ]
  },
  {
   "cell_type": "markdown",
   "id": "69487636-8810-4b03-b0da-d94b045307e6",
   "metadata": {},
   "source": [
    "The `os`module uses Linux commands to interact with the file system. `mkdir()` will create a new directory, and `path.join()` is used to define new paths. Note, that the `path()` method uses the approprite directory separators, depending on your operating system. (Forward slashes for Linux and MAC, double backslashes for Windows.)"
   ]
  },
  {
   "cell_type": "code",
   "execution_count": 20,
   "id": "3f1187ef-16f1-49f9-a347-a823e05a55e9",
   "metadata": {},
   "outputs": [
    {
     "data": {
      "text/plain": [
       "'C:\\\\Users\\\\Documents\\\\Python_classes\\\\'"
      ]
     },
     "execution_count": 20,
     "metadata": {},
     "output_type": "execute_result"
    }
   ],
   "source": [
    "path = 'C:\\\\Users\\\\'\n",
    " \n",
    "# Join various path components\n",
    "os.path.join(path, 'Documents', 'Python_classes' ,'')"
   ]
  }
 ],
 "metadata": {
  "kernelspec": {
   "display_name": "Python 3",
   "language": "python",
   "name": "python3"
  },
  "language_info": {
   "codemirror_mode": {
    "name": "ipython",
    "version": 3
   },
   "file_extension": ".py",
   "mimetype": "text/x-python",
   "name": "python",
   "nbconvert_exporter": "python",
   "pygments_lexer": "ipython3",
   "version": "3.6.13"
  }
 },
 "nbformat": 4,
 "nbformat_minor": 5
}
