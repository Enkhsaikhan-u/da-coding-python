{
 "cells": [
  {
   "cell_type": "markdown",
   "id": "94926c33",
   "metadata": {},
   "source": [
    "# Lecture 04       \n",
    "\n",
    "## Pandas [Basics](#Basics)\n",
    "                                       \n",
    "## Introduction To [Data-munging](#Munging)\n",
    "                                       \n",
    "   - Add new manipulated variables     \n",
    "   - Separate char to new variables    \n",
    "   - Convert variables to numeric or factor               \n",
    "   - Some string manipulations         \n",
    "   - Rename variables                  \n",
    "   - Filter out different observations \n",
    "     - conditional selection           \n",
    "     - tabulate frequency of a var     \n",
    "     - missing values                  \n",
    "     - replace values                  \n",
    "     - duplicates                      \n",
    "   - Using pipes                \n",
    "   - Sorting data                      \n",
    "                                       \n",
    "#### Case-study \n",
    "\n",
    "- Based on: Chapter 02, A:              \n",
    "    - Finding a good deal among hotels: data preparation              \n",
    "                                      \n",
    "#### Dataset:                              \n",
    "- hotels-europe \n",
    "---"
   ]
  },
  {
   "cell_type": "markdown",
   "id": "373b2ba3-04d6-49ee-8e57-b8d232c7ce5c",
   "metadata": {
    "tags": []
   },
   "source": [
    "## Pandas Basics"
   ]
  },
  {
   "cell_type": "markdown",
   "id": "06c6c857-df70-4d42-bebd-9b41694fd260",
   "metadata": {},
   "source": [
    "[Pandas](#https://pandas.pydata.org/) is the most popular data container in Python for data manipulation and analysis. Pandas has two primary data structures: `Series` and `DataFrames`. Series are similar to Python lists or numpy vectors: they are one dimensional. They are more flexible asy can contain mixed types! A Series object  also has an index which is printed along the values when it goes _toString_. Pandas Series are the main building blocks of the Pandas DataFrames."
   ]
  },
  {
   "cell_type": "code",
   "execution_count": null,
   "id": "425765b1",
   "metadata": {},
   "outputs": [],
   "source": [
    "import pandas as pd\n",
    "import numpy as np\n",
    "import warnings\n",
    "\n",
    "warnings.filterwarnings(\"ignore\")"
   ]
  },
  {
   "cell_type": "code",
   "execution_count": null,
   "id": "143be156-2ca6-4cef-acd6-b187c1964688",
   "metadata": {},
   "outputs": [],
   "source": [
    "ps = pd.Series(['a', 2, np.pi, 36])\n",
    "print(ps)"
   ]
  },
  {
   "cell_type": "code",
   "execution_count": null,
   "id": "353aa0e3-536c-4b69-a54e-c732c0161e6e",
   "metadata": {},
   "outputs": [],
   "source": [
    "# values only\n",
    "print(ps.values)"
   ]
  },
  {
   "cell_type": "code",
   "execution_count": null,
   "id": "3785141a-f6f0-44ad-a28e-5b15f03d7b93",
   "metadata": {},
   "outputs": [],
   "source": [
    "# indices only\n",
    "print(ps.index)"
   ]
  },
  {
   "cell_type": "markdown",
   "id": "55a65437-c159-491d-9395-7df16adb7ebf",
   "metadata": {},
   "source": [
    "We can use the list slicing indices to acces data..."
   ]
  },
  {
   "cell_type": "code",
   "execution_count": null,
   "id": "57f4e896-fb79-4af6-89d9-8d01a9013c80",
   "metadata": {},
   "outputs": [],
   "source": [
    "print(ps[1:3])"
   ]
  },
  {
   "cell_type": "markdown",
   "id": "17b9d843-98d6-459b-8120-2c0247b31959",
   "metadata": {},
   "source": [
    "There are two other syntax options for data access:\n",
    "- `.loc[]` provides access using the _index values_\n",
    "- `iloc[]` uses the index positions"
   ]
  },
  {
   "cell_type": "code",
   "execution_count": null,
   "id": "84f34d17-392a-4e89-b8de-434c616afdfc",
   "metadata": {},
   "outputs": [],
   "source": [
    "ps = pd.Series(\n",
    "    data = ['mozzarella caprese',  'Wiener Schnitzel', 'Schwartwalder Kirschtorte', 'lemonade', 'whiskey'], \n",
    "    index = ['appetizer', 'main course', 'dessert', 'beverage', 'alcohol']\n",
    ")"
   ]
  },
  {
   "cell_type": "code",
   "execution_count": null,
   "id": "0d065e58-856f-47a7-bad8-413ddd1bba87",
   "metadata": {},
   "outputs": [],
   "source": [
    "ps"
   ]
  },
  {
   "cell_type": "code",
   "execution_count": null,
   "id": "c00d5a97-8d52-4efc-aa93-3507ecb3826c",
   "metadata": {},
   "outputs": [],
   "source": [
    "ps.loc[['appetizer', 'dessert', 'beverage']]"
   ]
  },
  {
   "cell_type": "code",
   "execution_count": null,
   "id": "e6f198a6-b5cd-4047-a15e-bb77c6aa2c39",
   "metadata": {},
   "outputs": [],
   "source": [
    "ps.iloc[1:3]"
   ]
  },
  {
   "cell_type": "markdown",
   "id": "decaa2f6-7955-41fe-aaad-3d0b0faabc47",
   "metadata": {},
   "source": [
    "DataFrames are 'two-dimensional, size-mutable, potentially heterogeneous tabular data'. Each DataFrame is eventually a collection of Pandas Series.\n",
    "\n",
    "There are mupltiple ways to create Pandas dataframes."
   ]
  },
  {
   "cell_type": "code",
   "execution_count": null,
   "id": "2f00e15d-0ac8-4dfc-acee-123abedbcc43",
   "metadata": {},
   "outputs": [],
   "source": [
    "dc_city_pop = {\n",
    "    'Tokyo': 37339804,\n",
    "    'Delhi': 31181376,\n",
    "    'Shanghai': 27795702,\n",
    "    'Sao Paulo': 22237472,\n",
    "    'Mexico City': 21918936,\n",
    "    'Dhaka': 21741090,\n",
    "    'Cairo': 21322750,\n",
    "    'Beijing': 20896820,\n",
    "    'Mumbai': 20667656,\n",
    "    'Osaka': 19110616\n",
    "}"
   ]
  },
  {
   "cell_type": "markdown",
   "id": "aa99fcd0-c84b-4255-8c7c-72214e93f4ab",
   "metadata": {},
   "source": [
    "Note: population numbers are from [2018](https://www.archdaily.com/906605/the-20-largest-cities-in-the-world-of-2018)."
   ]
  },
  {
   "cell_type": "code",
   "execution_count": null,
   "id": "65b01f99-81b6-4aef-b529-9770964c3078",
   "metadata": {},
   "outputs": [],
   "source": [
    "ps_city_pop = pd.Series(dc_city_pop)\n",
    "ps_city_pop"
   ]
  },
  {
   "cell_type": "code",
   "execution_count": null,
   "id": "994f4c5b-7cda-4cab-aa08-a28648beb910",
   "metadata": {},
   "outputs": [],
   "source": [
    "print(ps_city_pop.index)\n",
    "print(ps_city_pop.values)"
   ]
  },
  {
   "cell_type": "code",
   "execution_count": null,
   "id": "dff01c0c-eb0b-417a-a1ad-80c64d7da666",
   "metadata": {},
   "outputs": [],
   "source": [
    "dc_city_countries = {\n",
    "    'Tokyo': 'Japan',\n",
    "    'Delhi': 'India',\n",
    "    'Shanghai': 'China',\n",
    "    'Sao Paulo': 'Brazil',\n",
    "    'Mexico City': 'Mexico',\n",
    "    'Dhaka': 'Bangladesh',\n",
    "    'Cairo': 'Egypt',\n",
    "    'Beijing': 'China',\n",
    "    'Mumbai': 'India',\n",
    "    'Osaka': 'Japan'\n",
    "}"
   ]
  },
  {
   "cell_type": "code",
   "execution_count": null,
   "id": "270b79f2-ccbb-433e-907d-c8245e708029",
   "metadata": {},
   "outputs": [],
   "source": [
    "ps_city_countries = pd.Series(dc_city_countries)\n",
    "ps_city_countries"
   ]
  },
  {
   "cell_type": "code",
   "execution_count": null,
   "id": "b409e722-6624-4259-b60f-94ed3b139067",
   "metadata": {},
   "outputs": [],
   "source": [
    "print(ps_city_countries.index)\n",
    "print(ps_city_countries.values)"
   ]
  },
  {
   "cell_type": "code",
   "execution_count": null,
   "id": "b6269cdd-052c-41c6-84c4-303acfbeb624",
   "metadata": {},
   "outputs": [],
   "source": [
    "df_cities = pd.concat([ps_city_pop, ps_city_countries], axis = 1)\n",
    "df_cities"
   ]
  },
  {
   "cell_type": "code",
   "execution_count": null,
   "id": "7914a006-fe0a-41eb-91a5-7c8609a34c21",
   "metadata": {},
   "outputs": [],
   "source": [
    "df_cities.columns = ['population', 'country']\n",
    "df_cities"
   ]
  },
  {
   "cell_type": "markdown",
   "id": "01b2b6c5-7718-45af-9a87-58819e077f95",
   "metadata": {},
   "source": [
    "<br>Slicing based on index and/or column.\n",
    "- using `.iloc[]` based on position"
   ]
  },
  {
   "cell_type": "code",
   "execution_count": null,
   "id": "33c3d33a-e295-4c79-a230-9cd44c415c7c",
   "metadata": {},
   "outputs": [],
   "source": [
    "# some rows\n",
    "df_cities.iloc[2:5]"
   ]
  },
  {
   "cell_type": "code",
   "execution_count": null,
   "id": "98df9e2c-41b7-48b7-8605-e743167209ea",
   "metadata": {},
   "outputs": [],
   "source": [
    "# some rows and some columns\n",
    "df_cities.iloc[2:5, 1]"
   ]
  },
  {
   "cell_type": "markdown",
   "id": "c0c53799-bb62-45aa-8455-c861bc539c78",
   "metadata": {},
   "source": [
    "- using `.loc[]` based on the index value and/or column name"
   ]
  },
  {
   "cell_type": "code",
   "execution_count": null,
   "id": "bbf5013b-4e05-413d-8b3b-20ecd4fe4652",
   "metadata": {},
   "outputs": [],
   "source": [
    "# list of cities (note the double squared brackets)\n",
    "df_cities.loc[['Shanghai', 'Dhaka', 'Osaka']]"
   ]
  },
  {
   "cell_type": "code",
   "execution_count": null,
   "id": "d78798e4-504b-4c9a-a977-afa8bb882c12",
   "metadata": {},
   "outputs": [],
   "source": [
    "# list of cities + a column\n",
    "df_cities.loc[['Shanghai', 'Dhaka', 'Osaka'], 'country']"
   ]
  },
  {
   "cell_type": "code",
   "execution_count": null,
   "id": "2146293f-4091-4fd9-abd0-b8ffb955a1fb",
   "metadata": {},
   "outputs": [],
   "source": [
    "# a range of cities from the index\n",
    "df_cities.loc['Tokyo':'Sao Paulo']"
   ]
  },
  {
   "cell_type": "markdown",
   "id": "098374e9-8860-470c-964c-3f8e7dd27275",
   "metadata": {},
   "source": [
    "- sicing/filtering based on cell value"
   ]
  },
  {
   "cell_type": "code",
   "execution_count": null,
   "id": "e67284dd-96aa-41fb-8e37-1d8c0605bebe",
   "metadata": {},
   "outputs": [],
   "source": [
    "df_cities[df_cities.population > 30_000_000] # for human readibility you can use underscore as thousand separator"
   ]
  },
  {
   "cell_type": "code",
   "execution_count": null,
   "id": "b187b0a1-e371-4fef-8160-aea217b5f1e2",
   "metadata": {},
   "outputs": [],
   "source": [
    "df_cities[df_cities.country.isin(['Japan', 'India', 'Brazil'])]"
   ]
  },
  {
   "cell_type": "code",
   "execution_count": null,
   "id": "c97c3133-6554-4a82-b938-b350b7097416",
   "metadata": {},
   "outputs": [],
   "source": [
    "df_cities[~df_cities.country.isin(['Japan', 'India', 'Brazil'])] # tilde (~) for 'not in' "
   ]
  },
  {
   "cell_type": "markdown",
   "id": "287b0e64-ea45-4a70-b1d0-4a4d5f941f4f",
   "metadata": {},
   "source": [
    "<br>Move index to column"
   ]
  },
  {
   "cell_type": "code",
   "execution_count": null,
   "id": "728a7482-f66b-46f8-a238-6bc70cb7f38b",
   "metadata": {},
   "outputs": [],
   "source": [
    "df_cities.reset_index(drop = False, inplace = True)\n",
    "df_cities"
   ]
  },
  {
   "cell_type": "markdown",
   "id": "125c5d9c-d77e-4c28-a32c-36cf3ddf8dba",
   "metadata": {},
   "source": [
    "<br>You can rename certain columns using a dictionary with _old name_ as key and _new name_ as value."
   ]
  },
  {
   "cell_type": "code",
   "execution_count": null,
   "id": "6c3d1a00-68ba-4aed-9267-8c5eb197f6d6",
   "metadata": {},
   "outputs": [],
   "source": [
    "df_cities.rename( {'index': 'city'}, axis = 'columns', inplace = True)\n",
    "df_cities"
   ]
  },
  {
   "cell_type": "markdown",
   "id": "a1ad5878-9631-45bc-a1f9-c8347284934a",
   "metadata": {},
   "source": [
    "We can also create a dataframe from a list of lists."
   ]
  },
  {
   "cell_type": "code",
   "execution_count": null,
   "id": "d1bc95fa-80ba-4dec-be8b-705c50fb66bd",
   "metadata": {},
   "outputs": [],
   "source": [
    "data = []\n",
    "data.append([ 'Tokyo' , 37339804 , 'Japan' ])\n",
    "data.append([ 'Delhi' , 31181376 , 'India' ])\n",
    "data.append([ 'Shanghai' , 27795702 , 'China' ])\n",
    "data.append([ 'Sao Paulo' , 22237472 , 'Brazil' ])\n",
    "data.append([ 'Mexico City' , 21918936 , 'Mexico' ])\n",
    "data.append([ 'Dhaka' , 21741090 , 'Bangladesh' ])\n",
    "data.append([ 'Cairo' , 21322750 , 'Egypt' ])\n",
    "data.append([ 'Beijing' , 20896820 , 'China' ])\n",
    "data.append([ 'Mumbai' , 20667656 , 'India' ])\n",
    "data.append([ 'Osaka' , 19110616 , 'Japan' ])"
   ]
  },
  {
   "cell_type": "code",
   "execution_count": null,
   "id": "46893b4d-5580-41f5-ab65-cee805bec3ba",
   "metadata": {},
   "outputs": [],
   "source": [
    "data"
   ]
  },
  {
   "cell_type": "code",
   "execution_count": null,
   "id": "f15531bf-1f5e-4eb1-b4d4-f5a7900b9434",
   "metadata": {},
   "outputs": [],
   "source": [
    "df_cities_ = pd.DataFrame(data = data, columns = ['city', 'population', 'country'])\n",
    "df_cities_"
   ]
  },
  {
   "cell_type": "markdown",
   "id": "2ce73031-d755-48bf-8bcc-fb276102163b",
   "metadata": {},
   "source": [
    "Reorder columns "
   ]
  },
  {
   "cell_type": "code",
   "execution_count": null,
   "id": "466c8d1f-a08a-4571-97e7-b3720fb6816f",
   "metadata": {},
   "outputs": [],
   "source": [
    "df_cities_ = df_cities_[['city', 'country', 'population']]\n",
    "df_cities_"
   ]
  },
  {
   "cell_type": "markdown",
   "id": "1e2caa0b-4343-45b6-a5d9-3649c8d5ecaf",
   "metadata": {},
   "source": [
    "Metadata on the dataframe colums"
   ]
  },
  {
   "cell_type": "code",
   "execution_count": null,
   "id": "5d4f7872-8791-48e4-af8e-f0f0582a1f2c",
   "metadata": {},
   "outputs": [],
   "source": [
    "df_cities.info()"
   ]
  },
  {
   "cell_type": "code",
   "execution_count": null,
   "id": "d714a74a-f6da-4d38-8e9b-5b982fb65610",
   "metadata": {},
   "outputs": [],
   "source": [
    "df_cities.shape # results in a tuple"
   ]
  },
  {
   "cell_type": "code",
   "execution_count": null,
   "id": "afb94144-78c7-4ef9-a51c-9c14b7f90f17",
   "metadata": {},
   "outputs": [],
   "source": [
    "df_cities.shape[0] # rowcount"
   ]
  },
  {
   "cell_type": "markdown",
   "id": "ed85a3b3-2b3e-48f1-8fa8-5a62ab94b312",
   "metadata": {},
   "source": [
    "## Introduction To Data-munging<a class = 'anchor' id = 'Munging'></a>"
   ]
  },
  {
   "cell_type": "markdown",
   "id": "13d25ef0",
   "metadata": {},
   "source": [
    "Import raw data"
   ]
  },
  {
   "cell_type": "code",
   "execution_count": null,
   "id": "209ca467",
   "metadata": {},
   "outputs": [],
   "source": [
    "raw_df = pd.read_csv(\"https://osf.io/yzntm/download\")"
   ]
  },
  {
   "cell_type": "markdown",
   "id": "9b5bff82",
   "metadata": {},
   "source": [
    "Have a look at the data"
   ]
  },
  {
   "cell_type": "code",
   "execution_count": null,
   "id": "b013ba45",
   "metadata": {},
   "outputs": [],
   "source": [
    "raw_df.head()"
   ]
  },
  {
   "cell_type": "markdown",
   "id": "b1591577",
   "metadata": {},
   "source": [
    "### 1) Adding a new variable\n",
    "\n",
    "Let us add nnights variable, which shows the number of nights spent in the hotel\\\n",
    "As the data was collected in such way, it is 1 for each observations."
   ]
  },
  {
   "cell_type": "markdown",
   "id": "020eb10a",
   "metadata": {},
   "source": [
    "You can assign a new variable using the following syntax"
   ]
  },
  {
   "cell_type": "code",
   "execution_count": null,
   "id": "9aa3b923",
   "metadata": {},
   "outputs": [],
   "source": [
    "raw_df[\"nnights\"] = 1"
   ]
  },
  {
   "cell_type": "markdown",
   "id": "96286e41",
   "metadata": {},
   "source": [
    "Or use the `assign` function of pandas and also create a new variable, lets call it `df`"
   ]
  },
  {
   "cell_type": "code",
   "execution_count": null,
   "id": "4b400185",
   "metadata": {},
   "outputs": [],
   "source": [
    "df = raw_df.assign(nnights = 1)"
   ]
  },
  {
   "cell_type": "markdown",
   "id": "84831ffc",
   "metadata": {},
   "source": [
    "Lets remove the raw data"
   ]
  },
  {
   "cell_type": "code",
   "execution_count": null,
   "id": "4e730e05",
   "metadata": {},
   "outputs": [],
   "source": [
    "del raw_df"
   ]
  },
  {
   "cell_type": "markdown",
   "id": "72c9c2db",
   "metadata": {},
   "source": [
    "### 2) Data cleaning - selecting a variable"
   ]
  },
  {
   "cell_type": "markdown",
   "id": "28ffa713",
   "metadata": {},
   "source": [
    "You can select variables with `[]` brackets after the DataFrame object"
   ]
  },
  {
   "cell_type": "code",
   "execution_count": null,
   "id": "578ede79",
   "metadata": {},
   "outputs": [],
   "source": [
    "df[[\"accommodationtype\" , \"price\"]]"
   ]
  },
  {
   "cell_type": "markdown",
   "id": "7e423017",
   "metadata": {},
   "source": [
    "Or use the `filter` function"
   ]
  },
  {
   "cell_type": "code",
   "execution_count": null,
   "id": "e2f8767d",
   "metadata": {},
   "outputs": [],
   "source": [
    "df.filter([\"accommodationtype\" , \"price\"])"
   ]
  },
  {
   "cell_type": "markdown",
   "id": "8be9a5e6",
   "metadata": {},
   "source": [
    "You can also select columns with `filter` using Regular Expressions aka regex"
   ]
  },
  {
   "cell_type": "code",
   "execution_count": null,
   "id": "28692ecb",
   "metadata": {},
   "outputs": [],
   "source": [
    "df.filter(regex=\"rating\")"
   ]
  },
  {
   "cell_type": "markdown",
   "id": "2b20c4d1",
   "metadata": {},
   "source": [
    "### 3) separating character vector with a unique sign "
   ]
  },
  {
   "cell_type": "markdown",
   "id": "eb165a79",
   "metadata": {},
   "source": [
    " Check accomotationtype: it is a character with a clear separator \"@\"\n",
    "\n",
    " To clean accommodationtype column: separate the characters at @ \n",
    "   and create two new variables: \"garbage\" and \"acc_type\".\n",
    " garbage will contain all characters before @ sign and acc_type will take everything after!"
   ]
  },
  {
   "cell_type": "code",
   "execution_count": null,
   "id": "d6de42b2",
   "metadata": {},
   "outputs": [],
   "source": [
    "df[\"accommodationtype\"]"
   ]
  },
  {
   "cell_type": "markdown",
   "id": "070f8494",
   "metadata": {},
   "source": [
    "You can easily split and strip character columns wiht pandas with attaching the `str` function after column name"
   ]
  },
  {
   "cell_type": "code",
   "execution_count": null,
   "id": "86a9be4e",
   "metadata": {},
   "outputs": [],
   "source": [
    "df[\"accommodationtype\"].str.split(\"@\")"
   ]
  },
  {
   "cell_type": "markdown",
   "id": "23fc5e25",
   "metadata": {},
   "source": [
    "This results in a Series of lists, each list contains the splitted parts of the original string. You can access the with the following syntax"
   ]
  },
  {
   "cell_type": "code",
   "execution_count": null,
   "id": "c4799360",
   "metadata": {},
   "outputs": [],
   "source": [
    "df[\"accommodationtype\"].str.split(\"@\").str[0]"
   ]
  },
  {
   "cell_type": "code",
   "execution_count": null,
   "id": "1f697081",
   "metadata": {},
   "outputs": [],
   "source": [
    "df[\"accommodationtype\"].str.split(\"@\").str[1].str.strip()"
   ]
  },
  {
   "cell_type": "markdown",
   "id": "49efe2ac",
   "metadata": {},
   "source": [
    "The second value in the lists contains the type of information about the accomodation type, lets create a new variable out of it."
   ]
  },
  {
   "cell_type": "code",
   "execution_count": null,
   "id": "4f907afd",
   "metadata": {},
   "outputs": [],
   "source": [
    "df[\"acc_type\"] = df[\"accommodationtype\"].str.split(\"@\").str[1].str.strip()\n",
    "df[\"acc_type\"].value_counts()"
   ]
  },
  {
   "cell_type": "markdown",
   "id": "1042c56f",
   "metadata": {},
   "source": [
    "Its a good idea to use the `strip` function when splitting string variables as it removes any unnecessary white space"
   ]
  },
  {
   "cell_type": "markdown",
   "id": "2b1da0fd",
   "metadata": {},
   "source": [
    "### Task - creating a numeric vector w simple separation\n",
    "\n",
    "  1) Correct the `guestreviewsrating` variable into simple numeric variable\\\n",
    "  2) Check with `.dtypes` method\\\n",
    "  3) Convert the variable into a numeric variable\n"
   ]
  },
  {
   "cell_type": "code",
   "execution_count": null,
   "id": "1fd8eea5",
   "metadata": {},
   "outputs": [],
   "source": [
    "df[\"guestreviewsrating\"].value_counts(dropna=False)"
   ]
  },
  {
   "cell_type": "code",
   "execution_count": null,
   "id": "a1076a59",
   "metadata": {},
   "outputs": [],
   "source": [
    "df[\"ratings\"] = df[\"guestreviewsrating\"].str.split('/').str[0].str.strip()\n",
    "df[\"ratings\"].dtypes"
   ]
  },
  {
   "cell_type": "code",
   "execution_count": null,
   "id": "ada12513",
   "metadata": {},
   "outputs": [],
   "source": [
    "df[\"ratings\"] = df[\"ratings\"].astype(float)"
   ]
  },
  {
   "cell_type": "code",
   "execution_count": null,
   "id": "262c72a5",
   "metadata": {},
   "outputs": [],
   "source": [
    "df[\"ratings\"].dtypes"
   ]
  },
  {
   "cell_type": "markdown",
   "id": "b89d6a6c",
   "metadata": {},
   "source": [
    "### Task\n",
    "\n",
    "Create numerical variables from the two distance measures:"
   ]
  },
  {
   "cell_type": "code",
   "execution_count": null,
   "id": "bd48f907",
   "metadata": {},
   "outputs": [],
   "source": [
    "df[[\"center1distance\", \"center2distance\"]]"
   ]
  },
  {
   "cell_type": "markdown",
   "id": "7f94e341",
   "metadata": {},
   "source": [
    "We have two numeric values than the format of the distance \"miles\""
   ]
  },
  {
   "cell_type": "code",
   "execution_count": null,
   "id": "e075137e",
   "metadata": {},
   "outputs": [],
   "source": [
    "df[\"distance\"] = df[\"center1distance\"].str.strip().str.split().str[0].astype(float)\n",
    "df[\"distance_alter\"] = df[\"center2distance\"].str.strip().str.split().str[0].astype(float)"
   ]
  },
  {
   "cell_type": "markdown",
   "id": "8a593dac",
   "metadata": {},
   "source": [
    "Check results"
   ]
  },
  {
   "cell_type": "code",
   "execution_count": null,
   "id": "8169d1cf",
   "metadata": {},
   "outputs": [],
   "source": [
    "df[\"distance\"].hist(bins=20)"
   ]
  },
  {
   "cell_type": "markdown",
   "id": "a597656c",
   "metadata": {},
   "source": [
    "### Rename variables"
   ]
  },
  {
   "cell_type": "markdown",
   "id": "8ebbe263",
   "metadata": {},
   "source": [
    "Using the `rename` function, you have to specify in a dictionary that which columns you want to rename and their new names"
   ]
  },
  {
   "cell_type": "code",
   "execution_count": null,
   "id": "fb991ae8",
   "metadata": {},
   "outputs": [],
   "source": [
    "df.filter(regex=\"rating\")"
   ]
  },
  {
   "cell_type": "code",
   "execution_count": null,
   "id": "a28f094f",
   "metadata": {},
   "outputs": [],
   "source": [
    "df = df.rename(columns={\"rating_reviewcount\": \"rating_count\", \"rating2_ta\": \"ratingta\"})"
   ]
  },
  {
   "cell_type": "code",
   "execution_count": null,
   "id": "24406b17",
   "metadata": {},
   "outputs": [],
   "source": [
    "df.filter(regex=\"rating\")"
   ]
  },
  {
   "cell_type": "markdown",
   "id": "c734c89d",
   "metadata": {},
   "source": [
    "### Task:\n",
    "   \n",
    "also rename the following variables as follows:\n",
    "     \n",
    "    rating2_ta_reviewcount: ratingta_count\n",
    "    addresscountryname: \"country\n",
    "    starrating: stars\n",
    "    s_city\": city"
   ]
  },
  {
   "cell_type": "code",
   "execution_count": null,
   "id": "05dd03e8",
   "metadata": {},
   "outputs": [],
   "source": [
    "df = df.rename(columns={\n",
    "    \"rating2_ta_reviewcount\": \"ratingta_count\",\n",
    "    \"addresscountryname\": \"country\",\n",
    "    \"starrating\": \"stars\",\n",
    "    \"s_city\": \"city\",\n",
    "})"
   ]
  },
  {
   "cell_type": "markdown",
   "id": "8899df85",
   "metadata": {},
   "source": [
    "### Filtering observations"
   ]
  },
  {
   "cell_type": "markdown",
   "id": "bb101449",
   "metadata": {},
   "source": [
    "Use the `loc` function"
   ]
  },
  {
   "cell_type": "code",
   "execution_count": null,
   "id": "15e7f13d",
   "metadata": {},
   "outputs": [],
   "source": [
    "df.shape"
   ]
  },
  {
   "cell_type": "markdown",
   "id": "482006bb",
   "metadata": {},
   "source": [
    "let us have only hotels"
   ]
  },
  {
   "cell_type": "code",
   "execution_count": null,
   "id": "b96b12c4",
   "metadata": {},
   "outputs": [],
   "source": [
    "df.loc[df[\"acc_type\"] == \"Hotel\"]"
   ]
  },
  {
   "cell_type": "markdown",
   "id": "013fb46d",
   "metadata": {},
   "source": [
    "Filtering: find missing values\\\n",
    "look at one of our key variable: ratings\\\n",
    "we can calculate the frequencies of the ratings\n"
   ]
  },
  {
   "cell_type": "code",
   "execution_count": null,
   "id": "aae9b1f6",
   "metadata": {},
   "outputs": [],
   "source": [
    "df[\"ratings\"].isnull().sum()"
   ]
  },
  {
   "cell_type": "markdown",
   "id": "c19d0cbe",
   "metadata": {},
   "source": [
    "What can we do with the NA values?\\\n",
    "First check them with 'loc'\n"
   ]
  },
  {
   "cell_type": "code",
   "execution_count": null,
   "id": "8d7e394c",
   "metadata": {},
   "outputs": [],
   "source": [
    "df.loc[df[\"ratings\"].isnull()]"
   ]
  },
  {
   "cell_type": "markdown",
   "id": "0f8a8cb0",
   "metadata": {},
   "source": [
    "if reasonable we can drop them, but there needs to be good reason for that!\n"
   ]
  },
  {
   "cell_type": "code",
   "execution_count": null,
   "id": "0c94abab",
   "metadata": {},
   "outputs": [],
   "source": [
    "df = df.loc[df[\"ratings\"].notnull()]"
   ]
  },
  {
   "cell_type": "markdown",
   "id": "92246f08",
   "metadata": {},
   "source": [
    "Or alternatively ose `dropna`"
   ]
  },
  {
   "cell_type": "code",
   "execution_count": null,
   "id": "096da8ea",
   "metadata": {},
   "outputs": [],
   "source": [
    "df = df.dropna(subset=[\"ratings\"])"
   ]
  },
  {
   "cell_type": "code",
   "execution_count": null,
   "id": "3e0aca90",
   "metadata": {},
   "outputs": [],
   "source": [
    "df"
   ]
  },
  {
   "cell_type": "markdown",
   "id": "cf47c018",
   "metadata": {},
   "source": [
    "### Correcting wrongly documented observations:\n",
    " In case of `stars` there are only values from 0-5"
   ]
  },
  {
   "cell_type": "code",
   "execution_count": null,
   "id": "17fe8971",
   "metadata": {},
   "outputs": [],
   "source": [
    "df[\"stars\"].value_counts(dropna=False)"
   ]
  },
  {
   "cell_type": "markdown",
   "id": "ab5418bb",
   "metadata": {},
   "source": [
    "What does 0 star means? It is missing, but recorded as 0...\\\n",
    "We need to set these values to `None`: re-define the stars variable:"
   ]
  },
  {
   "cell_type": "code",
   "execution_count": null,
   "id": "fc4ae32d",
   "metadata": {},
   "outputs": [],
   "source": [
    "df[\"stars\"] = np.where(df[\"stars\"] == 0, None, df[\"stars\"])"
   ]
  },
  {
   "cell_type": "code",
   "execution_count": null,
   "id": "d7e34859",
   "metadata": {},
   "outputs": [],
   "source": [
    "df[\"stars\"].value_counts(dropna=False)"
   ]
  },
  {
   "cell_type": "markdown",
   "id": "1fd3979c",
   "metadata": {},
   "source": [
    "### Duplicates:\n",
    "\n",
    "1.) exact match for each values for a given observations\\\n",
    " \n",
    "Count the number of duplicates"
   ]
  },
  {
   "cell_type": "code",
   "execution_count": null,
   "id": "9ee03943",
   "metadata": {},
   "outputs": [],
   "source": [
    "df.duplicated().sum()"
   ]
  },
  {
   "cell_type": "markdown",
   "id": "e1e32b9c",
   "metadata": {},
   "source": [
    "Remove them"
   ]
  },
  {
   "cell_type": "code",
   "execution_count": null,
   "id": "4a813963",
   "metadata": {},
   "outputs": [],
   "source": [
    "df = df.drop_duplicates()"
   ]
  },
  {
   "cell_type": "markdown",
   "id": "63b3eaf2",
   "metadata": {},
   "source": [
    "2.) Remove duplicates to specific variables, that are important to us\n",
    "\n",
    "To make sense, let us take this into two steps: \n",
    "\n",
    "    a) select certain variables:\n"
   ]
  },
  {
   "cell_type": "code",
   "execution_count": null,
   "id": "628e8895",
   "metadata": {},
   "outputs": [],
   "source": [
    "important_variables = [\n",
    "    \"country\",\n",
    "    \"hotel_id\",\n",
    "    \"distance\",\n",
    "    \"stars\",\n",
    "    \"ratings\",\n",
    "    \"price\",\n",
    "    \"year\",\n",
    "    \"month\",\n",
    "    \"weekend\",\n",
    "    \"holiday\",\n",
    "]"
   ]
  },
  {
   "cell_type": "markdown",
   "id": "9ba6f00e",
   "metadata": {},
   "source": [
    " Now we can filter out only duplicates in these variables:"
   ]
  },
  {
   "cell_type": "code",
   "execution_count": null,
   "id": "b06a4979",
   "metadata": {},
   "outputs": [],
   "source": [
    "df = df.drop_duplicates(subset=important_variables)"
   ]
  },
  {
   "cell_type": "markdown",
   "id": "eacc51a9",
   "metadata": {},
   "source": [
    "### Task: Get specific data used in DA1 course:\n",
    "       1) Get hotels only from Vienna\n",
    "       2) Filter out the following observations:\n",
    "           - in date: 2017, November and 0s week (multiple conditions)\n",
    "           - with Hotel types which has stars between 3 and 4\n",
    "           - and drop observations which has price more than 1000 EUR.\n"
   ]
  },
  {
   "cell_type": "code",
   "execution_count": null,
   "id": "b286093d",
   "metadata": {},
   "outputs": [],
   "source": [
    "hotel_vienna = df.loc[df[\"city\"] == \"Vienna\"]\n",
    "hotel_vienna = hotel_vienna.loc[\n",
    "    (hotel_vienna[\"year\"] == 2017)\n",
    "    & (hotel_vienna[\"month\"] == 11)\n",
    "    & (hotel_vienna[\"weekend\"] == 0)\n",
    "]  # use | and & for bitwise operations\n",
    "hotel_vienna = hotel_vienna.loc[hotel_vienna[\"acc_type\"] == \"Hotel\"]\n",
    "hotel_vienna = hotel_vienna.loc[\n",
    "    (hotel_vienna[\"stars\"] >= 3) & (hotel_vienna[\"stars\"] <= 4)\n",
    "]\n",
    "hotel_vienna = hotel_vienna.loc[hotel_vienna[\"price\"] < 1000]"
   ]
  },
  {
   "cell_type": "code",
   "execution_count": null,
   "id": "f49ecc95",
   "metadata": {},
   "outputs": [],
   "source": [
    "hotel_vienna"
   ]
  },
  {
   "cell_type": "markdown",
   "id": "bcd26aca",
   "metadata": {},
   "source": [
    "### Pipes with pandas"
   ]
  },
  {
   "cell_type": "markdown",
   "id": "fe1ecd9b",
   "metadata": {},
   "source": [
    "You can also do the above procedure in a pipe, which allows to make multiple sequential manipulations with one command:"
   ]
  },
  {
   "cell_type": "code",
   "execution_count": null,
   "id": "d3e5fe4b",
   "metadata": {},
   "outputs": [],
   "source": [
    "(\n",
    "    df.loc[df[\"city\"] == \"Vienna\"]\n",
    "    .loc[(df[\"year\"] == 2017) & (df[\"month\"] == 11) & (df[\"weekend\"] == 0)]\n",
    "    .loc[df[\"acc_type\"] == \"Hotel\"]\n",
    "    .loc[(df[\"stars\"] >= 3) & (df[\"stars\"] <= 4)]\n",
    "    .loc[df[\"price\"] < 1000]\n",
    ")"
   ]
  },
  {
   "cell_type": "markdown",
   "id": "a4c9ba40",
   "metadata": {},
   "source": [
    "with pipeing, you can lace several different functions in one pipe, eg."
   ]
  },
  {
   "cell_type": "code",
   "execution_count": null,
   "id": "f19e7447",
   "metadata": {},
   "outputs": [],
   "source": [
    "(\n",
    "    df.loc[df[\"city\"] == \"Vienna\"]\n",
    "    .loc[(df[\"year\"] == 2017) & (df[\"month\"] == 11) & (df[\"weekend\"] == 0)]\n",
    "    .rename(columns={\"city\": \"town\"})\n",
    "    .filter([\"hotel_id\", \"country\", \"town\", \"price\", \"acc_type\"])\n",
    ")"
   ]
  },
  {
   "cell_type": "markdown",
   "id": "cf6ba9ad",
   "metadata": {},
   "source": [
    "Make data table more \"pretty\"\n",
    "\n",
    "Can arrange the values in increasing order"
   ]
  },
  {
   "cell_type": "code",
   "execution_count": null,
   "id": "3cdf3907",
   "metadata": {},
   "outputs": [],
   "source": [
    "hotel_vienna.sort_values(by=[\"price\"], ascending=True)"
   ]
  },
  {
   "cell_type": "markdown",
   "id": "a9780221",
   "metadata": {},
   "source": [
    "Or decreasing order"
   ]
  },
  {
   "cell_type": "code",
   "execution_count": null,
   "id": "a89c05f1",
   "metadata": {},
   "outputs": [],
   "source": [
    "hotel_vienna.sort_values(by=[\"price\"], ascending=False)"
   ]
  },
  {
   "cell_type": "markdown",
   "id": "f937c5cb",
   "metadata": {},
   "source": [
    "### Task: writing out csv as clean data"
   ]
  },
  {
   "cell_type": "code",
   "execution_count": null,
   "id": "3880d832",
   "metadata": {},
   "outputs": [],
   "source": [
    "hotel_vienna.to_csv(\"hotel_vienna_restricted.csv\", index=False)"
   ]
  },
  {
   "cell_type": "code",
   "execution_count": null,
   "id": "b9aa6c2d",
   "metadata": {},
   "outputs": [],
   "source": []
  }
 ],
 "metadata": {
  "kernelspec": {
   "display_name": "Python 3 (ipykernel)",
   "language": "python",
   "name": "python3"
  },
  "language_info": {
   "codemirror_mode": {
    "name": "ipython",
    "version": 3
   },
   "file_extension": ".py",
   "mimetype": "text/x-python",
   "name": "python",
   "nbconvert_exporter": "python",
   "pygments_lexer": "ipython3",
   "version": "3.8.10"
  }
 },
 "nbformat": 4,
 "nbformat_minor": 5
}
