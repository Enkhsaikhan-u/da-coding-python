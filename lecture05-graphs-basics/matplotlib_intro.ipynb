{
 "cells": [
  {
   "cell_type": "markdown",
   "id": "ed214790-9d75-405f-a088-e836082c4075",
   "metadata": {},
   "source": [
    "# Lecture 5 Extra\n",
    "\n",
    "## matplotlib\n",
    "- why matplotlib\n",
    "- the functional approach\n",
    "- the object-oriented approach\n",
    "\n",
    "#### Dataset used\n",
    "- stocks-sp500\n",
    "---"
   ]
  },
  {
   "cell_type": "markdown",
   "id": "e50e82ab-c7ad-4313-a34d-0bc8950da6f9",
   "metadata": {},
   "source": [
    "### Why matplotlib?"
   ]
  },
  {
   "cell_type": "markdown",
   "id": "f72fa2ab-8b6b-4827-b1fb-d422bb81919f",
   "metadata": {},
   "source": [
    "`matplotlib` is the primary charting library of Python. It is a massive library, which offers so much, that it can easily become overwhelming. Creating a basic chart is fairly simple, but sometimes just a little customization already requires a deep dive into the API. \n",
    "\n",
    "One of the reasons we cover matplotlib here though is that many other libraries are also built on the matplotlib API, and  plotting charts directly from Pandas dataframes is easier if we have a basic understading of matplotlib's mechanics. There are other popular charting packages, such as `seaborn` or `Plotly`, but we think that a real Pythonista should be able to work with matplotlib objects."
   ]
  },
  {
   "cell_type": "code",
   "execution_count": null,
   "id": "84f852ed-4528-4030-a427-b038a6855e26",
   "metadata": {},
   "outputs": [],
   "source": [
    "import matplotlib.pyplot as plt\n",
    "%matplotlib inline\n",
    "import warnings\n",
    "warnings.filterwarnings('ignore')"
   ]
  },
  {
   "cell_type": "markdown",
   "id": "4af8a450-660a-46f1-87ab-d27e67bcf94e",
   "metadata": {},
   "source": [
    "A good sumary of the hows and whys of matplotlib can be found here: [https://heartbeat.comet.ml/introduction-to-matplotlib-data-visualization-in-python-d9143287ae39](https://heartbeat.comet.ml/introduction-to-matplotlib-data-visualization-in-python-d9143287ae39). "
   ]
  },
  {
   "cell_type": "markdown",
   "id": "fd7e1f23-6d8b-4a33-bd3a-3ff7d10014a6",
   "metadata": {},
   "source": [
    "There are two ways of creating a matplotlib plot."
   ]
  },
  {
   "cell_type": "markdown",
   "id": "646dc197-0ba9-414e-a279-f6a8fa69faa8",
   "metadata": {},
   "source": [
    "### The Functional Approach"
   ]
  },
  {
   "cell_type": "code",
   "execution_count": null,
   "id": "241cddeb-5a13-425e-a1e4-1610c91e96d6",
   "metadata": {},
   "outputs": [],
   "source": [
    "x = range(0, 10)\n",
    "y = [i ** 2 for i in x]\n",
    "\n",
    "plt.plot(x,y)\n",
    "plt.title('x-square')\n",
    "plt.xlabel('x')\n",
    "plt.ylabel('y')\n",
    "plt.show()"
   ]
  },
  {
   "cell_type": "code",
   "execution_count": null,
   "id": "202510c5-8ae2-42a8-a2fc-6116600c0ec1",
   "metadata": {},
   "outputs": [],
   "source": [
    "plt.subplot(1,2,1) # nrows, ncols, index of the next plot starting with index 1 from the top left and increasing to the right\n",
    "plt.plot(x, y, 'r--') # 'r' stands for red, '--' stands for dash\n",
    "plt.title('x-squared')\n",
    "plt.subplot(1,2,2)\n",
    "plt.plot(y, x, 'g*-')\n",
    "plt.title('square root x');  # insted of plt.show() you can also use a semicolon to show the plot"
   ]
  },
  {
   "cell_type": "markdown",
   "id": "4a560e63-2efa-4a2f-8d3e-4be7252525dc",
   "metadata": {},
   "source": [
    "Matplotlib color options can be found here: [https://matplotlib.org/stable/gallery/color/named_colors.html](https://matplotlib.org/stable/gallery/color/named_colors.html)"
   ]
  },
  {
   "cell_type": "markdown",
   "id": "540575d7-2e5a-4017-a32d-ff941e9ccf49",
   "metadata": {},
   "source": [
    "### The Object-oriented Approach"
   ]
  },
  {
   "cell_type": "markdown",
   "id": "e374cf28-1401-4973-afd1-3869766ac479",
   "metadata": {},
   "source": [
    "There are two key [components](https://files.realpython.com/media/fig_map.bc8c7cabd823.png) in a Plot; namely, `Figure` and `Axes`.\n",
    "\n",
    "The `Figure` is the top-level container that acts as the window or page on which everything is drawn. It can contain multiple independent figures, or `Axes`, a subtitle (which is a centered title for the figure), a legend, a color bar, etc.\n",
    "\n",
    "The `Axes` is the area on which we plot our data and any labels/ticks associated with it. Each Axes has an X-Axis and a Y-Axis"
   ]
  },
  {
   "cell_type": "code",
   "execution_count": null,
   "id": "ef2ff218-90a6-4a18-b4fe-d2b89f79900e",
   "metadata": {},
   "outputs": [],
   "source": [
    "x = range(0, 10)\n",
    "y = [i ** 2 for i in x]\n",
    "\n",
    "fig = plt.figure()\n",
    "axes = fig.add_axes([0.1, 0.1, 0.8, 0.8]) # left, bottom, width, height (range 0 to 1)\n",
    "\n",
    "axes.plot(x, y, 'r')\n",
    "\n",
    "axes.set_xlabel('x')\n",
    "axes.set_ylabel('y')\n",
    "axes.set_title('Simple x-squared');"
   ]
  },
  {
   "cell_type": "markdown",
   "id": "1ac995ba-977f-41d8-8016-e7d0c999be1e",
   "metadata": {},
   "source": [
    "We can do a plot within a plot."
   ]
  },
  {
   "cell_type": "code",
   "execution_count": null,
   "id": "e5dab073-448c-4728-9174-7eeac3677bdc",
   "metadata": {},
   "outputs": [],
   "source": [
    "fig = plt.figure()\n",
    "\n",
    "axes1 = fig.add_axes([0, 0, 0.8, 0.8]) # main axes\n",
    "axes2 = fig.add_axes([0.1, 0.4, 0.4, 0.3]) # inset axes: left and bottom of the lower-left corner, width, height\n",
    "\n",
    "# main figure\n",
    "axes1.plot(x, y, 'r')\n",
    "axes1.set_xlabel('x')\n",
    "axes1.set_ylabel('y')\n",
    "axes1.set_title('x-squared')\n",
    "\n",
    "# insert\n",
    "axes2.plot(y, x, 'g')\n",
    "axes2.set_xlabel('y')\n",
    "axes2.set_ylabel('x')\n",
    "axes2.set_title('square root x ');"
   ]
  },
  {
   "cell_type": "markdown",
   "id": "6447a536-10f5-4157-9ce5-d393d1041df8",
   "metadata": {},
   "source": [
    "Let's do some stock market price discovery!"
   ]
  },
  {
   "cell_type": "code",
   "execution_count": null,
   "id": "3ae94089-234b-4dfa-83e3-3d821d4960eb",
   "metadata": {},
   "outputs": [],
   "source": [
    "import pandas as pd\n",
    "import numpy as np"
   ]
  },
  {
   "cell_type": "code",
   "execution_count": null,
   "id": "9f0e57b4-65e7-4d69-86e0-de8849236cc4",
   "metadata": {},
   "outputs": [],
   "source": [
    "df = pd.read_csv('https://osf.io/4pgrf/download')"
   ]
  },
  {
   "cell_type": "code",
   "execution_count": null,
   "id": "6e6545dd-2867-4081-a180-8f8cacc7d4a2",
   "metadata": {},
   "outputs": [],
   "source": [
    "df.head()"
   ]
  },
  {
   "cell_type": "code",
   "execution_count": null,
   "id": "5b789737-cd0a-4775-b9b9-a0235afd806b",
   "metadata": {},
   "outputs": [],
   "source": [
    "df.shape"
   ]
  },
  {
   "cell_type": "code",
   "execution_count": null,
   "id": "10782edc-fa68-4140-b536-9dd4e7b8aeff",
   "metadata": {},
   "outputs": [],
   "source": [
    "df['ref.date'] = pd.to_datetime(df['ref.date'])"
   ]
  },
  {
   "cell_type": "code",
   "execution_count": null,
   "id": "8cb6f7fc-0637-42ec-bb6a-9769a9361169",
   "metadata": {},
   "outputs": [],
   "source": [
    "df.ticker.unique()"
   ]
  },
  {
   "cell_type": "code",
   "execution_count": null,
   "id": "1a9893fe-735d-465e-98b3-1193ec56ab16",
   "metadata": {},
   "outputs": [],
   "source": [
    "# 2 ways to convert a Pandas column to list\n",
    "date = list(df[df.ticker == 'MSFT']['ref.date'])\n",
    "price = df[df.ticker == 'MSFT']['price.close'].tolist()"
   ]
  },
  {
   "cell_type": "code",
   "execution_count": null,
   "id": "88045005-0067-44e1-9bbd-b804e57f83e0",
   "metadata": {
    "tags": []
   },
   "outputs": [],
   "source": [
    "fig = plt.figure(figsize=(10,6))\n",
    "ax = fig.add_axes([0,0,1,1])\n",
    "ax.set_title('MSFT Daily Closing Prices')\n",
    "ax.plot(date, price)\n",
    "plt.show();"
   ]
  },
  {
   "cell_type": "markdown",
   "id": "88110894-9edd-4e5e-9ee5-d8960ed34d0b",
   "metadata": {},
   "source": [
    "Adding additional chart elements.\n",
    "- y-axis limits\n",
    "- legends"
   ]
  },
  {
   "cell_type": "code",
   "execution_count": null,
   "id": "3084f065-13be-4f72-a6d1-6c6eb50de6f5",
   "metadata": {
    "tags": []
   },
   "outputs": [],
   "source": [
    "fig = plt.figure(figsize=(10,6))\n",
    "ax = fig.add_axes([0,0,1,1])\n",
    "ax.set_title('MSFT Daily Closing Prices')\n",
    "ax.plot(date, price, label = 'MSFT')\n",
    "plt.legend(loc = 'upper left')\n",
    "ax.set_ylim(0,180)\n",
    "plt.show();"
   ]
  },
  {
   "cell_type": "markdown",
   "id": "94fdc481-f5a6-43ca-953d-3fee7fa8f401",
   "metadata": {},
   "source": [
    "- average line"
   ]
  },
  {
   "cell_type": "code",
   "execution_count": null,
   "id": "79f9bc1a-adf6-4d05-8e0a-c394b028e89a",
   "metadata": {},
   "outputs": [],
   "source": [
    "date = df[df.ticker == 'MSFT']['ref.date'].tolist()\n",
    "price = df[df.ticker == 'MSFT']['price.close'].tolist()\n",
    "meanprice = np.mean(price)"
   ]
  },
  {
   "cell_type": "code",
   "execution_count": null,
   "id": "189dd7cf-9581-44d9-aeda-8f2691c08e1a",
   "metadata": {
    "tags": []
   },
   "outputs": [],
   "source": [
    "fig = plt.figure(figsize=(10,6))\n",
    "ax = fig.add_axes([0,0,1,1])\n",
    "ax.set_title('MSFT Daily Closing Prices')\n",
    "ax.plot(date, price, label = 'MSFT')\n",
    "ax.hlines(y = meanprice, xmin = date[0], xmax = date[-1], linestyle = '--', label = 'avg')\n",
    "plt.legend(loc = 'upper left')\n",
    "plt.show();"
   ]
  },
  {
   "cell_type": "markdown",
   "id": "86968693-00e6-4b42-a5b6-d8da5b808cee",
   "metadata": {},
   "source": [
    "- log scale "
   ]
  },
  {
   "cell_type": "code",
   "execution_count": null,
   "id": "c6278545-acdc-4181-b858-59c797caff9d",
   "metadata": {
    "tags": []
   },
   "outputs": [],
   "source": [
    "fig = plt.figure(figsize=(10,6))\n",
    "ax = fig.add_axes([0,0,1,1])\n",
    "ax.set_title('MSFT Daily Closing Prices')\n",
    "ax.plot(date, price, label = 'MSFT')\n",
    "ax.hlines(y = meanprice, xmin = date[0], xmax = date[-1], linestyle = '--', label = 'avg')\n",
    "ax.set_yscale('log')\n",
    "plt.legend(loc = 'upper left')\n",
    "plt.show();"
   ]
  },
  {
   "cell_type": "markdown",
   "id": "809c4f44-309b-4804-9550-cb4ce500eb88",
   "metadata": {},
   "source": [
    "- plotting two time series of different scale &#8594; use a secondary axis"
   ]
  },
  {
   "cell_type": "code",
   "execution_count": null,
   "id": "aad7dc1b-8ee1-4f38-a471-b7bd2679dec4",
   "metadata": {},
   "outputs": [],
   "source": [
    "date = df[df.ticker == 'MSFT']['ref.date'].tolist()\n",
    "price_msft = df[df.ticker == 'MSFT']['price.close'].tolist()\n",
    "price_aapl = df[df.ticker == 'AAPL']['price.close'].tolist()\n",
    "\n",
    "\n",
    "fig, ax1 = plt.subplots(figsize = (10,6))\n",
    "\n",
    "ax1.plot(date, price_msft, color = 'k')\n",
    "ax1.xaxis_date()\n",
    "ax1.set_ylabel(\"MSFT\", color = 'k')\n",
    "ax2 = ax1.twinx()\n",
    "ax2.plot(date, price_aapl, color = \"royalblue\")\n",
    "ax2.set_ylabel(\"AAPL\", color = \"royalblue\")\n",
    "plt.title('Microsoft and Apple, past twenty years');"
   ]
  },
  {
   "cell_type": "markdown",
   "id": "dc0c7881-0f8e-4de3-939c-ca666bd2d0f0",
   "metadata": {},
   "source": [
    "- histogram of daily price changes"
   ]
  },
  {
   "cell_type": "code",
   "execution_count": null,
   "id": "e0ec96f5-3a57-4c57-a159-7407d072b1ea",
   "metadata": {},
   "outputs": [],
   "source": [
    "df_msft = df[df.ticker == 'MSFT']\n",
    "df_msft['pct_chg'] = df_msft['price.close'].pct_change(periods = 1)"
   ]
  },
  {
   "cell_type": "code",
   "execution_count": null,
   "id": "14093839-0fb2-4f49-9cb5-c085a6193be9",
   "metadata": {},
   "outputs": [],
   "source": [
    "df_msft.head()"
   ]
  },
  {
   "cell_type": "code",
   "execution_count": null,
   "id": "2d8af889-5206-4be4-9d3a-a92f465709f8",
   "metadata": {
    "tags": []
   },
   "outputs": [],
   "source": [
    "fig = plt.figure(figsize=(10,6))\n",
    "ax = fig.add_axes([0,0,1,1])\n",
    "ax.set_title('MSFT Daily Price Changes')\n",
    "ax.hist(df_msft.pct_chg, bins = 50)\n",
    "\n",
    "#plt.legend(loc = 'upper left')\n",
    "plt.show();"
   ]
  },
  {
   "cell_type": "markdown",
   "id": "2bb2bbd8-c9ee-4332-b137-14de29920832",
   "metadata": {},
   "source": [
    "- spacing between the bars + horizontal grids"
   ]
  },
  {
   "cell_type": "code",
   "execution_count": null,
   "id": "09ad7b6e-aaf3-4d3e-87a1-bd02678fa4c1",
   "metadata": {
    "tags": []
   },
   "outputs": [],
   "source": [
    "fig = plt.figure(figsize=(10,6))\n",
    "ax = fig.add_axes([0,0,1,1])\n",
    "ax.set_title('MSFT Daily Price Changes')\n",
    "ax.hist(df_msft.pct_chg, bins = 50, rwidth = 0.9)\n",
    "plt.grid(axis = 'y', linestyle='--', linewidth=1)\n",
    "#plt.legend(loc = 'upper left')\n",
    "plt.show();"
   ]
  },
  {
   "cell_type": "markdown",
   "id": "8cc669bb-cc30-4060-b6ec-5d818195a33a",
   "metadata": {},
   "source": [
    "- chart within a chart"
   ]
  },
  {
   "cell_type": "code",
   "execution_count": null,
   "id": "476a6096-2007-4584-8e71-4416e8b411a1",
   "metadata": {},
   "outputs": [],
   "source": [
    "fig = plt.figure(figsize = (10,6))\n",
    "\n",
    "axes1 = fig.add_axes([0, 0, 1, 1]) # main axes\n",
    "axes2 = fig.add_axes([0.25, 0.55, 0.45, 0.4]) # inset axes\n",
    "\n",
    "# main figure\n",
    "axes1.plot(date, price_msft)\n",
    "axes1.set_xlabel('date')\n",
    "axes1.set_ylabel('MSFT (log scale)')\n",
    "axes1.set_yscale('log')\n",
    "axes1.set_title('Microsoft Stock Price')\n",
    "\n",
    "# insert\n",
    "axes2.plot(date, price_aapl, color = 'black')\n",
    "axes2.set_xlabel('date', fontsize = 8)\n",
    "axes2.set_ylabel('AAPL (log)',  fontsize = 8)\n",
    "axes2.set_yscale('log')\n",
    "axes2.grid(axis = 'y', linestyle='--', linewidth=1)\n",
    "axes2.set_title('Apple Stock Price', fontsize = 8);"
   ]
  },
  {
   "cell_type": "markdown",
   "id": "d6aad0cd-b73a-47de-8e02-2065cfda16cc",
   "metadata": {},
   "source": [
    "Note that both price axes are quoted in scientific notation. It is kind of tricky to convert it into a easy-to-read format but not impossible. "
   ]
  },
  {
   "cell_type": "code",
   "execution_count": null,
   "id": "ec67913f-5032-4ae5-9297-a3e8b268a788",
   "metadata": {},
   "outputs": [],
   "source": [
    "import matplotlib as mpl"
   ]
  },
  {
   "cell_type": "code",
   "execution_count": null,
   "id": "fdb0e0d2-bc24-4bc4-958f-9f7222dc3bec",
   "metadata": {},
   "outputs": [],
   "source": [
    "fig = plt.figure(figsize = (10,6))\n",
    "\n",
    "axes1 = fig.add_axes([0, 0, 1, 1]) # main axes\n",
    "axes2 = fig.add_axes([0.25, 0.55, 0.45, 0.4]) # inset axes\n",
    "\n",
    "# main figure\n",
    "axes1.plot(date, price_msft)\n",
    "axes1.set_xlabel('date')\n",
    "axes1.set_ylabel('MSFT')\n",
    "axes1.yaxis.set_major_formatter(mpl.ticker.StrMethodFormatter('{x:,.0f}')) # This line takes care of the number formatting. \n",
    "axes1.set_title('Microsoft Stock Price')\n",
    "\n",
    "# insert\n",
    "axes2.plot(date, price_aapl, color = 'black')\n",
    "axes2.set_xlabel('date', fontsize = 8)\n",
    "axes2.set_ylabel('AAPL (log)',  fontsize = 8)\n",
    "axes2.set_yscale('log')\n",
    "axes2.yaxis.set_major_formatter(mpl.ticker.StrMethodFormatter('{x:,.0f}'))\n",
    "axes2.grid(axis = 'y', linestyle='--', linewidth=1)\n",
    "axes2.set_title('Apple Stock Price', fontsize = 8);"
   ]
  }
 ],
 "metadata": {
  "kernelspec": {
   "display_name": "Python 3 (ipykernel)",
   "language": "python",
   "name": "python3"
  },
  "language_info": {
   "codemirror_mode": {
    "name": "ipython",
    "version": 3
   },
   "file_extension": ".py",
   "mimetype": "text/x-python",
   "name": "python",
   "nbconvert_exporter": "python",
   "pygments_lexer": "ipython3",
   "version": "3.8.10"
  }
 },
 "nbformat": 4,
 "nbformat_minor": 5
}
