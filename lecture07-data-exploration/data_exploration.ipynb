{
 "cells": [
  {
   "cell_type": "markdown",
   "id": "1687107c",
   "metadata": {},
   "source": [
    "# Lecture 7\n",
    "\n",
    "## Data Exploration"
   ]
  },
  {
   "cell_type": "markdown",
   "id": "0354d1fe",
   "metadata": {},
   "source": [
    " - modelsummary package:             \n",
    "   - datasummary for descriptives    \n",
    "   - descriptive by categories       \n",
    "   - custom function                 \n",
    " - ggplot                            \n",
    "   - histogram                       \n",
    "   - customize a ggplot              \n",
    "   - kernel density                  \n",
    "   - multiple geometries             \n",
    " - Hypothesis testing with t.test    \n",
    " - Association                       \n",
    "   - scatter plot                    \n",
    "   - bin-scatter:                    \n",
    "       - equal distance              \n",
    "       - equal number of obs         \n",
    "   - correlation and covariance      \n",
    "   - factors with ggplot             \n",
    "                                     \n",
    "#### Case-study:                           \n",
    "- Billion Price Project:               \n",
    "- Online and Offline prices           \n",
    "                                     \n",
    "#### Dataset:                              \n",
    "- billion-prices "
   ]
  },
  {
   "cell_type": "markdown",
   "id": "bd8933bd",
   "metadata": {},
   "source": [
    "___"
   ]
  },
  {
   "cell_type": "markdown",
   "id": "cc2d4571",
   "metadata": {},
   "source": [
    "Import packages"
   ]
  },
  {
   "cell_type": "code",
   "execution_count": 1,
   "id": "76f5c243",
   "metadata": {},
   "outputs": [],
   "source": [
    "import pandas as pd\n",
    "import numpy as np\n",
    "from plotnine import *"
   ]
  },
  {
   "cell_type": "markdown",
   "id": "6bd94d3f",
   "metadata": {},
   "source": [
    "Import data"
   ]
  },
  {
   "cell_type": "code",
   "execution_count": 2,
   "id": "ef5f7dbe",
   "metadata": {},
   "outputs": [],
   "source": [
    "bpp_original = pd.read_csv(\"https://osf.io/yhbr5/download\", encoding=\"latin-1\")"
   ]
  },
  {
   "cell_type": "markdown",
   "id": "5fa2f0e5",
   "metadata": {},
   "source": [
    "Check variables"
   ]
  },
  {
   "cell_type": "code",
   "execution_count": 3,
   "id": "f4752975",
   "metadata": {},
   "outputs": [
    {
     "data": {
      "text/html": [
       "<div>\n",
       "<style scoped>\n",
       "    .dataframe tbody tr th:only-of-type {\n",
       "        vertical-align: middle;\n",
       "    }\n",
       "\n",
       "    .dataframe tbody tr th {\n",
       "        vertical-align: top;\n",
       "    }\n",
       "\n",
       "    .dataframe thead th {\n",
       "        text-align: right;\n",
       "    }\n",
       "</style>\n",
       "<table border=\"1\" class=\"dataframe\">\n",
       "  <thead>\n",
       "    <tr style=\"text-align: right;\">\n",
       "      <th></th>\n",
       "      <th>COUNTRY</th>\n",
       "      <th>retailer</th>\n",
       "      <th>retailer_s</th>\n",
       "      <th>date</th>\n",
       "      <th>day</th>\n",
       "      <th>month</th>\n",
       "      <th>year</th>\n",
       "      <th>id</th>\n",
       "      <th>price</th>\n",
       "      <th>price_online</th>\n",
       "      <th>...</th>\n",
       "      <th>DEVICEID</th>\n",
       "      <th>TIME</th>\n",
       "      <th>ZIPCODE</th>\n",
       "      <th>PHOTO</th>\n",
       "      <th>OTHERSKUITEM</th>\n",
       "      <th>COMMENTS</th>\n",
       "      <th>PRICETYPE</th>\n",
       "      <th>CODE</th>\n",
       "      <th>sale_online</th>\n",
       "      <th>country_s</th>\n",
       "    </tr>\n",
       "  </thead>\n",
       "  <tbody>\n",
       "    <tr>\n",
       "      <th>0</th>\n",
       "      <td>ARGENTINA</td>\n",
       "      <td>1</td>\n",
       "      <td>ARGENTINA_1</td>\n",
       "      <td>2015-03-19</td>\n",
       "      <td>19.0</td>\n",
       "      <td>3.0</td>\n",
       "      <td>2015.0</td>\n",
       "      <td>201209030113</td>\n",
       "      <td>429.0</td>\n",
       "      <td>429.0</td>\n",
       "      <td>...</td>\n",
       "      <td>891df49fb1b12aa0</td>\n",
       "      <td>21:03</td>\n",
       "      <td>8300</td>\n",
       "      <td>20150319_210351.jpg</td>\n",
       "      <td>NaN</td>\n",
       "      <td>NaN</td>\n",
       "      <td>NaN</td>\n",
       "      <td>124816.0</td>\n",
       "      <td>NaN</td>\n",
       "      <td>Argentina</td>\n",
       "    </tr>\n",
       "    <tr>\n",
       "      <th>1</th>\n",
       "      <td>ARGENTINA</td>\n",
       "      <td>1</td>\n",
       "      <td>ARGENTINA_1</td>\n",
       "      <td>2015-03-19</td>\n",
       "      <td>19.0</td>\n",
       "      <td>3.0</td>\n",
       "      <td>2015.0</td>\n",
       "      <td>4710268235965</td>\n",
       "      <td>189.0</td>\n",
       "      <td>189.0</td>\n",
       "      <td>...</td>\n",
       "      <td>891df49fb1b12aa0</td>\n",
       "      <td>21:26</td>\n",
       "      <td>8300</td>\n",
       "      <td>20150319_212653.jpg</td>\n",
       "      <td>NaN</td>\n",
       "      <td>NaN</td>\n",
       "      <td>NaN</td>\n",
       "      <td>124816.0</td>\n",
       "      <td>NaN</td>\n",
       "      <td>Argentina</td>\n",
       "    </tr>\n",
       "    <tr>\n",
       "      <th>2</th>\n",
       "      <td>ARGENTINA</td>\n",
       "      <td>1</td>\n",
       "      <td>ARGENTINA_1</td>\n",
       "      <td>2015-03-19</td>\n",
       "      <td>19.0</td>\n",
       "      <td>3.0</td>\n",
       "      <td>2015.0</td>\n",
       "      <td>4905524916874</td>\n",
       "      <td>6999.0</td>\n",
       "      <td>6999.0</td>\n",
       "      <td>...</td>\n",
       "      <td>891df49fb1b12aa0</td>\n",
       "      <td>21:19</td>\n",
       "      <td>8300</td>\n",
       "      <td>20150319_211929.jpg</td>\n",
       "      <td>NaN</td>\n",
       "      <td>NaN</td>\n",
       "      <td>NaN</td>\n",
       "      <td>124816.0</td>\n",
       "      <td>NaN</td>\n",
       "      <td>Argentina</td>\n",
       "    </tr>\n",
       "    <tr>\n",
       "      <th>3</th>\n",
       "      <td>ARGENTINA</td>\n",
       "      <td>1</td>\n",
       "      <td>ARGENTINA_1</td>\n",
       "      <td>2015-03-19</td>\n",
       "      <td>19.0</td>\n",
       "      <td>3.0</td>\n",
       "      <td>2015.0</td>\n",
       "      <td>4905524925784</td>\n",
       "      <td>1999.0</td>\n",
       "      <td>2099.0</td>\n",
       "      <td>...</td>\n",
       "      <td>891df49fb1b12aa0</td>\n",
       "      <td>21:08</td>\n",
       "      <td>8300</td>\n",
       "      <td>20150319_210847.jpg</td>\n",
       "      <td>NaN</td>\n",
       "      <td>NaN</td>\n",
       "      <td>NaN</td>\n",
       "      <td>124816.0</td>\n",
       "      <td>NaN</td>\n",
       "      <td>Argentina</td>\n",
       "    </tr>\n",
       "    <tr>\n",
       "      <th>4</th>\n",
       "      <td>ARGENTINA</td>\n",
       "      <td>1</td>\n",
       "      <td>ARGENTINA_1</td>\n",
       "      <td>2015-03-19</td>\n",
       "      <td>19.0</td>\n",
       "      <td>3.0</td>\n",
       "      <td>2015.0</td>\n",
       "      <td>4905524931310</td>\n",
       "      <td>2899.0</td>\n",
       "      <td>2899.0</td>\n",
       "      <td>...</td>\n",
       "      <td>891df49fb1b12aa0</td>\n",
       "      <td>21:06</td>\n",
       "      <td>8300</td>\n",
       "      <td>20150319_210627.jpg</td>\n",
       "      <td>NaN</td>\n",
       "      <td>NaN</td>\n",
       "      <td>NaN</td>\n",
       "      <td>124816.0</td>\n",
       "      <td>NaN</td>\n",
       "      <td>Argentina</td>\n",
       "    </tr>\n",
       "  </tbody>\n",
       "</table>\n",
       "<p>5 rows × 21 columns</p>\n",
       "</div>"
      ],
      "text/plain": [
       "     COUNTRY  retailer   retailer_s        date   day  month    year  \\\n",
       "0  ARGENTINA         1  ARGENTINA_1  2015-03-19  19.0    3.0  2015.0   \n",
       "1  ARGENTINA         1  ARGENTINA_1  2015-03-19  19.0    3.0  2015.0   \n",
       "2  ARGENTINA         1  ARGENTINA_1  2015-03-19  19.0    3.0  2015.0   \n",
       "3  ARGENTINA         1  ARGENTINA_1  2015-03-19  19.0    3.0  2015.0   \n",
       "4  ARGENTINA         1  ARGENTINA_1  2015-03-19  19.0    3.0  2015.0   \n",
       "\n",
       "              id   price  price_online  ...          DEVICEID   TIME ZIPCODE  \\\n",
       "0   201209030113   429.0         429.0  ...  891df49fb1b12aa0  21:03    8300   \n",
       "1  4710268235965   189.0         189.0  ...  891df49fb1b12aa0  21:26    8300   \n",
       "2  4905524916874  6999.0        6999.0  ...  891df49fb1b12aa0  21:19    8300   \n",
       "3  4905524925784  1999.0        2099.0  ...  891df49fb1b12aa0  21:08    8300   \n",
       "4  4905524931310  2899.0        2899.0  ...  891df49fb1b12aa0  21:06    8300   \n",
       "\n",
       "                 PHOTO OTHERSKUITEM COMMENTS PRICETYPE      CODE  sale_online  \\\n",
       "0  20150319_210351.jpg          NaN      NaN       NaN  124816.0          NaN   \n",
       "1  20150319_212653.jpg          NaN      NaN       NaN  124816.0          NaN   \n",
       "2  20150319_211929.jpg          NaN      NaN       NaN  124816.0          NaN   \n",
       "3  20150319_210847.jpg          NaN      NaN       NaN  124816.0          NaN   \n",
       "4  20150319_210627.jpg          NaN      NaN       NaN  124816.0          NaN   \n",
       "\n",
       "   country_s  \n",
       "0  Argentina  \n",
       "1  Argentina  \n",
       "2  Argentina  \n",
       "3  Argentina  \n",
       "4  Argentina  \n",
       "\n",
       "[5 rows x 21 columns]"
      ]
     },
     "execution_count": 3,
     "metadata": {},
     "output_type": "execute_result"
    }
   ],
   "source": [
    "bpp_original.head()"
   ]
  },
  {
   "cell_type": "markdown",
   "id": "435cff58",
   "metadata": {},
   "source": [
    "Create our key variable: price differences"
   ]
  },
  {
   "cell_type": "code",
   "execution_count": 4,
   "id": "7de30b05",
   "metadata": {},
   "outputs": [],
   "source": [
    "bpp_original[\"p_diff\"] = bpp_original[\"price_online\"] - bpp_original[\"price\"]"
   ]
  },
  {
   "cell_type": "markdown",
   "id": "8812cb6a",
   "metadata": {},
   "source": [
    "## Descriptive statistics"
   ]
  },
  {
   "cell_type": "markdown",
   "id": "4bfc6c27",
   "metadata": {},
   "source": [
    "Check all the variables in DataFrame by a quick built-in summary statistics"
   ]
  },
  {
   "cell_type": "code",
   "execution_count": 5,
   "id": "5be26d82",
   "metadata": {},
   "outputs": [
    {
     "data": {
      "text/html": [
       "<div>\n",
       "<style scoped>\n",
       "    .dataframe tbody tr th:only-of-type {\n",
       "        vertical-align: middle;\n",
       "    }\n",
       "\n",
       "    .dataframe tbody tr th {\n",
       "        vertical-align: top;\n",
       "    }\n",
       "\n",
       "    .dataframe thead th {\n",
       "        text-align: right;\n",
       "    }\n",
       "</style>\n",
       "<table border=\"1\" class=\"dataframe\">\n",
       "  <thead>\n",
       "    <tr style=\"text-align: right;\">\n",
       "      <th></th>\n",
       "      <th>retailer</th>\n",
       "      <th>day</th>\n",
       "      <th>month</th>\n",
       "      <th>year</th>\n",
       "      <th>price</th>\n",
       "      <th>price_online</th>\n",
       "      <th>imputed</th>\n",
       "      <th>CODE</th>\n",
       "      <th>sale_online</th>\n",
       "      <th>p_diff</th>\n",
       "    </tr>\n",
       "  </thead>\n",
       "  <tbody>\n",
       "    <tr>\n",
       "      <th>count</th>\n",
       "      <td>45253.000000</td>\n",
       "      <td>44928.000000</td>\n",
       "      <td>44928.000000</td>\n",
       "      <td>44928.000000</td>\n",
       "      <td>4.525300e+04</td>\n",
       "      <td>45253.000000</td>\n",
       "      <td>22414.0</td>\n",
       "      <td>42233.000000</td>\n",
       "      <td>4144.0</td>\n",
       "      <td>4.525300e+04</td>\n",
       "    </tr>\n",
       "    <tr>\n",
       "      <th>mean</th>\n",
       "      <td>34.087751</td>\n",
       "      <td>15.743523</td>\n",
       "      <td>5.301126</td>\n",
       "      <td>2015.079817</td>\n",
       "      <td>1.737368e+04</td>\n",
       "      <td>353.416684</td>\n",
       "      <td>1.0</td>\n",
       "      <td>181441.070253</td>\n",
       "      <td>1.0</td>\n",
       "      <td>-1.702027e+04</td>\n",
       "    </tr>\n",
       "    <tr>\n",
       "      <th>std</th>\n",
       "      <td>19.149542</td>\n",
       "      <td>8.440930</td>\n",
       "      <td>3.440339</td>\n",
       "      <td>1.035976</td>\n",
       "      <td>2.671665e+06</td>\n",
       "      <td>5269.492998</td>\n",
       "      <td>0.0</td>\n",
       "      <td>158106.823327</td>\n",
       "      <td>0.0</td>\n",
       "      <td>2.671661e+06</td>\n",
       "    </tr>\n",
       "    <tr>\n",
       "      <th>min</th>\n",
       "      <td>1.000000</td>\n",
       "      <td>1.000000</td>\n",
       "      <td>1.000000</td>\n",
       "      <td>2000.000000</td>\n",
       "      <td>0.000000e+00</td>\n",
       "      <td>0.030000</td>\n",
       "      <td>1.0</td>\n",
       "      <td>112190.000000</td>\n",
       "      <td>1.0</td>\n",
       "      <td>-5.534910e+08</td>\n",
       "    </tr>\n",
       "    <tr>\n",
       "      <th>25%</th>\n",
       "      <td>16.000000</td>\n",
       "      <td>9.000000</td>\n",
       "      <td>3.000000</td>\n",
       "      <td>2015.000000</td>\n",
       "      <td>7.000000e+00</td>\n",
       "      <td>6.990000</td>\n",
       "      <td>1.0</td>\n",
       "      <td>124816.000000</td>\n",
       "      <td>1.0</td>\n",
       "      <td>0.000000e+00</td>\n",
       "    </tr>\n",
       "    <tr>\n",
       "      <th>50%</th>\n",
       "      <td>37.000000</td>\n",
       "      <td>16.000000</td>\n",
       "      <td>5.000000</td>\n",
       "      <td>2015.000000</td>\n",
       "      <td>1.999000e+01</td>\n",
       "      <td>19.990000</td>\n",
       "      <td>1.0</td>\n",
       "      <td>124816.000000</td>\n",
       "      <td>1.0</td>\n",
       "      <td>0.000000e+00</td>\n",
       "    </tr>\n",
       "    <tr>\n",
       "      <th>75%</th>\n",
       "      <td>50.000000</td>\n",
       "      <td>23.000000</td>\n",
       "      <td>8.000000</td>\n",
       "      <td>2015.000000</td>\n",
       "      <td>5.799000e+01</td>\n",
       "      <td>56.990000</td>\n",
       "      <td>1.0</td>\n",
       "      <td>124816.000000</td>\n",
       "      <td>1.0</td>\n",
       "      <td>0.000000e+00</td>\n",
       "    </tr>\n",
       "    <tr>\n",
       "      <th>max</th>\n",
       "      <td>62.000000</td>\n",
       "      <td>31.000000</td>\n",
       "      <td>12.000000</td>\n",
       "      <td>2016.000000</td>\n",
       "      <td>5.534910e+08</td>\n",
       "      <td>261690.000000</td>\n",
       "      <td>1.0</td>\n",
       "      <td>856681.000000</td>\n",
       "      <td>1.0</td>\n",
       "      <td>2.330700e+05</td>\n",
       "    </tr>\n",
       "  </tbody>\n",
       "</table>\n",
       "</div>"
      ],
      "text/plain": [
       "           retailer           day         month          year         price  \\\n",
       "count  45253.000000  44928.000000  44928.000000  44928.000000  4.525300e+04   \n",
       "mean      34.087751     15.743523      5.301126   2015.079817  1.737368e+04   \n",
       "std       19.149542      8.440930      3.440339      1.035976  2.671665e+06   \n",
       "min        1.000000      1.000000      1.000000   2000.000000  0.000000e+00   \n",
       "25%       16.000000      9.000000      3.000000   2015.000000  7.000000e+00   \n",
       "50%       37.000000     16.000000      5.000000   2015.000000  1.999000e+01   \n",
       "75%       50.000000     23.000000      8.000000   2015.000000  5.799000e+01   \n",
       "max       62.000000     31.000000     12.000000   2016.000000  5.534910e+08   \n",
       "\n",
       "        price_online  imputed           CODE  sale_online        p_diff  \n",
       "count   45253.000000  22414.0   42233.000000       4144.0  4.525300e+04  \n",
       "mean      353.416684      1.0  181441.070253          1.0 -1.702027e+04  \n",
       "std      5269.492998      0.0  158106.823327          0.0  2.671661e+06  \n",
       "min         0.030000      1.0  112190.000000          1.0 -5.534910e+08  \n",
       "25%         6.990000      1.0  124816.000000          1.0  0.000000e+00  \n",
       "50%        19.990000      1.0  124816.000000          1.0  0.000000e+00  \n",
       "75%        56.990000      1.0  124816.000000          1.0  0.000000e+00  \n",
       "max    261690.000000      1.0  856681.000000          1.0  2.330700e+05  "
      ]
     },
     "execution_count": 5,
     "metadata": {},
     "output_type": "execute_result"
    }
   ],
   "source": [
    "bpp_original.describe()"
   ]
  },
  {
   "cell_type": "markdown",
   "id": "8665c717",
   "metadata": {},
   "source": [
    "Compare key variables"
   ]
  },
  {
   "cell_type": "code",
   "execution_count": 6,
   "id": "152d2d41",
   "metadata": {},
   "outputs": [
    {
     "data": {
      "text/html": [
       "<div>\n",
       "<style scoped>\n",
       "    .dataframe tbody tr th:only-of-type {\n",
       "        vertical-align: middle;\n",
       "    }\n",
       "\n",
       "    .dataframe tbody tr th {\n",
       "        vertical-align: top;\n",
       "    }\n",
       "\n",
       "    .dataframe thead th {\n",
       "        text-align: right;\n",
       "    }\n",
       "</style>\n",
       "<table border=\"1\" class=\"dataframe\">\n",
       "  <thead>\n",
       "    <tr style=\"text-align: right;\">\n",
       "      <th></th>\n",
       "      <th>price</th>\n",
       "      <th>price_online</th>\n",
       "      <th>p_diff</th>\n",
       "    </tr>\n",
       "  </thead>\n",
       "  <tbody>\n",
       "    <tr>\n",
       "      <th>count</th>\n",
       "      <td>4.525300e+04</td>\n",
       "      <td>45253.000000</td>\n",
       "      <td>4.525300e+04</td>\n",
       "    </tr>\n",
       "    <tr>\n",
       "      <th>mean</th>\n",
       "      <td>1.737368e+04</td>\n",
       "      <td>353.416684</td>\n",
       "      <td>-1.702027e+04</td>\n",
       "    </tr>\n",
       "    <tr>\n",
       "      <th>std</th>\n",
       "      <td>2.671665e+06</td>\n",
       "      <td>5269.492998</td>\n",
       "      <td>2.671661e+06</td>\n",
       "    </tr>\n",
       "    <tr>\n",
       "      <th>min</th>\n",
       "      <td>0.000000e+00</td>\n",
       "      <td>0.030000</td>\n",
       "      <td>-5.534910e+08</td>\n",
       "    </tr>\n",
       "    <tr>\n",
       "      <th>25%</th>\n",
       "      <td>7.000000e+00</td>\n",
       "      <td>6.990000</td>\n",
       "      <td>0.000000e+00</td>\n",
       "    </tr>\n",
       "    <tr>\n",
       "      <th>50%</th>\n",
       "      <td>1.999000e+01</td>\n",
       "      <td>19.990000</td>\n",
       "      <td>0.000000e+00</td>\n",
       "    </tr>\n",
       "    <tr>\n",
       "      <th>75%</th>\n",
       "      <td>5.799000e+01</td>\n",
       "      <td>56.990000</td>\n",
       "      <td>0.000000e+00</td>\n",
       "    </tr>\n",
       "    <tr>\n",
       "      <th>max</th>\n",
       "      <td>5.534910e+08</td>\n",
       "      <td>261690.000000</td>\n",
       "      <td>2.330700e+05</td>\n",
       "    </tr>\n",
       "  </tbody>\n",
       "</table>\n",
       "</div>"
      ],
      "text/plain": [
       "              price   price_online        p_diff\n",
       "count  4.525300e+04   45253.000000  4.525300e+04\n",
       "mean   1.737368e+04     353.416684 -1.702027e+04\n",
       "std    2.671665e+06    5269.492998  2.671661e+06\n",
       "min    0.000000e+00       0.030000 -5.534910e+08\n",
       "25%    7.000000e+00       6.990000  0.000000e+00\n",
       "50%    1.999000e+01      19.990000  0.000000e+00\n",
       "75%    5.799000e+01      56.990000  0.000000e+00\n",
       "max    5.534910e+08  261690.000000  2.330700e+05"
      ]
     },
     "execution_count": 6,
     "metadata": {},
     "output_type": "execute_result"
    }
   ],
   "source": [
    "bpp_original.filter([\"price\", \"price_online\",\"p_diff\"]).describe()"
   ]
  },
  {
   "cell_type": "markdown",
   "id": "e447ffc9",
   "metadata": {},
   "source": [
    "Put the descriptives into columns and variables into rows"
   ]
  },
  {
   "cell_type": "code",
   "execution_count": 7,
   "id": "514258db",
   "metadata": {
    "scrolled": true
   },
   "outputs": [
    {
     "data": {
      "text/html": [
       "<div>\n",
       "<style scoped>\n",
       "    .dataframe tbody tr th:only-of-type {\n",
       "        vertical-align: middle;\n",
       "    }\n",
       "\n",
       "    .dataframe tbody tr th {\n",
       "        vertical-align: top;\n",
       "    }\n",
       "\n",
       "    .dataframe thead th {\n",
       "        text-align: right;\n",
       "    }\n",
       "</style>\n",
       "<table border=\"1\" class=\"dataframe\">\n",
       "  <thead>\n",
       "    <tr style=\"text-align: right;\">\n",
       "      <th></th>\n",
       "      <th>count</th>\n",
       "      <th>mean</th>\n",
       "      <th>std</th>\n",
       "      <th>min</th>\n",
       "      <th>25%</th>\n",
       "      <th>50%</th>\n",
       "      <th>75%</th>\n",
       "      <th>max</th>\n",
       "    </tr>\n",
       "  </thead>\n",
       "  <tbody>\n",
       "    <tr>\n",
       "      <th>price</th>\n",
       "      <td>45253.0</td>\n",
       "      <td>17373.683164</td>\n",
       "      <td>2.671665e+06</td>\n",
       "      <td>0.000000e+00</td>\n",
       "      <td>7.00</td>\n",
       "      <td>19.99</td>\n",
       "      <td>57.99</td>\n",
       "      <td>553490984.0</td>\n",
       "    </tr>\n",
       "    <tr>\n",
       "      <th>price_online</th>\n",
       "      <td>45253.0</td>\n",
       "      <td>353.416684</td>\n",
       "      <td>5.269493e+03</td>\n",
       "      <td>3.000000e-02</td>\n",
       "      <td>6.99</td>\n",
       "      <td>19.99</td>\n",
       "      <td>56.99</td>\n",
       "      <td>261690.0</td>\n",
       "    </tr>\n",
       "    <tr>\n",
       "      <th>p_diff</th>\n",
       "      <td>45253.0</td>\n",
       "      <td>-17020.266480</td>\n",
       "      <td>2.671661e+06</td>\n",
       "      <td>-5.534910e+08</td>\n",
       "      <td>0.00</td>\n",
       "      <td>0.00</td>\n",
       "      <td>0.00</td>\n",
       "      <td>233070.0</td>\n",
       "    </tr>\n",
       "  </tbody>\n",
       "</table>\n",
       "</div>"
      ],
      "text/plain": [
       "                count          mean           std           min   25%    50%  \\\n",
       "price         45253.0  17373.683164  2.671665e+06  0.000000e+00  7.00  19.99   \n",
       "price_online  45253.0    353.416684  5.269493e+03  3.000000e-02  6.99  19.99   \n",
       "p_diff        45253.0 -17020.266480  2.671661e+06 -5.534910e+08  0.00   0.00   \n",
       "\n",
       "                75%          max  \n",
       "price         57.99  553490984.0  \n",
       "price_online  56.99     261690.0  \n",
       "p_diff         0.00     233070.0  "
      ]
     },
     "execution_count": 7,
     "metadata": {},
     "output_type": "execute_result"
    }
   ],
   "source": [
    "bpp_original.filter([\"price\", \"price_online\",\"p_diff\"]).describe().transpose()"
   ]
  },
  {
   "cell_type": "markdown",
   "id": "30133dbd",
   "metadata": {},
   "source": [
    "Next let us check the price differences for each countries.\n",
    "\n",
    "For this, you need to group the data and apply the required statistics to the appropriate columns"
   ]
  },
  {
   "cell_type": "code",
   "execution_count": 8,
   "id": "10d75796",
   "metadata": {},
   "outputs": [
    {
     "data": {
      "text/html": [
       "<div>\n",
       "<style scoped>\n",
       "    .dataframe tbody tr th:only-of-type {\n",
       "        vertical-align: middle;\n",
       "    }\n",
       "\n",
       "    .dataframe tbody tr th {\n",
       "        vertical-align: top;\n",
       "    }\n",
       "\n",
       "    .dataframe thead th {\n",
       "        text-align: right;\n",
       "    }\n",
       "</style>\n",
       "<table border=\"1\" class=\"dataframe\">\n",
       "  <thead>\n",
       "    <tr style=\"text-align: right;\">\n",
       "      <th></th>\n",
       "      <th>mean_price_diff</th>\n",
       "      <th>median_price_diff</th>\n",
       "    </tr>\n",
       "    <tr>\n",
       "      <th>COUNTRY</th>\n",
       "      <th></th>\n",
       "      <th></th>\n",
       "    </tr>\n",
       "  </thead>\n",
       "  <tbody>\n",
       "    <tr>\n",
       "      <th>ARGENTINA</th>\n",
       "      <td>-30399.085151</td>\n",
       "      <td>0.0</td>\n",
       "    </tr>\n",
       "    <tr>\n",
       "      <th>AUSTRALIA</th>\n",
       "      <td>-0.464439</td>\n",
       "      <td>0.0</td>\n",
       "    </tr>\n",
       "    <tr>\n",
       "      <th>BRAZIL</th>\n",
       "      <td>-37.924121</td>\n",
       "      <td>0.0</td>\n",
       "    </tr>\n",
       "    <tr>\n",
       "      <th>CANADA</th>\n",
       "      <td>0.588671</td>\n",
       "      <td>0.0</td>\n",
       "    </tr>\n",
       "    <tr>\n",
       "      <th>CHINA</th>\n",
       "      <td>-0.832808</td>\n",
       "      <td>0.0</td>\n",
       "    </tr>\n",
       "    <tr>\n",
       "      <th>GERMANY</th>\n",
       "      <td>4.577242</td>\n",
       "      <td>0.0</td>\n",
       "    </tr>\n",
       "    <tr>\n",
       "      <th>JAPAN</th>\n",
       "      <td>-586.881969</td>\n",
       "      <td>0.0</td>\n",
       "    </tr>\n",
       "    <tr>\n",
       "      <th>SOUTHAFRICA</th>\n",
       "      <td>-125.700372</td>\n",
       "      <td>0.0</td>\n",
       "    </tr>\n",
       "    <tr>\n",
       "      <th>UK</th>\n",
       "      <td>-0.067043</td>\n",
       "      <td>0.0</td>\n",
       "    </tr>\n",
       "    <tr>\n",
       "      <th>USA</th>\n",
       "      <td>-31950.531931</td>\n",
       "      <td>0.0</td>\n",
       "    </tr>\n",
       "  </tbody>\n",
       "</table>\n",
       "</div>"
      ],
      "text/plain": [
       "             mean_price_diff  median_price_diff\n",
       "COUNTRY                                        \n",
       "ARGENTINA      -30399.085151                0.0\n",
       "AUSTRALIA          -0.464439                0.0\n",
       "BRAZIL            -37.924121                0.0\n",
       "CANADA              0.588671                0.0\n",
       "CHINA              -0.832808                0.0\n",
       "GERMANY             4.577242                0.0\n",
       "JAPAN            -586.881969                0.0\n",
       "SOUTHAFRICA      -125.700372                0.0\n",
       "UK                 -0.067043                0.0\n",
       "USA            -31950.531931                0.0"
      ]
     },
     "execution_count": 8,
     "metadata": {},
     "output_type": "execute_result"
    }
   ],
   "source": [
    "bpp_original.groupby(\"COUNTRY\").agg(\n",
    "    mean_price_diff=(\"p_diff\", \"mean\"), median_price_diff=(\"p_diff\", \"median\")\n",
    ")"
   ]
  },
  {
   "cell_type": "markdown",
   "id": "507bcabf",
   "metadata": {},
   "source": [
    "Lets say we are interested in the prices as well for each countries."
   ]
  },
  {
   "cell_type": "code",
   "execution_count": 9,
   "id": "f00c3ce2",
   "metadata": {},
   "outputs": [
    {
     "data": {
      "text/html": [
       "<div>\n",
       "<style scoped>\n",
       "    .dataframe tbody tr th:only-of-type {\n",
       "        vertical-align: middle;\n",
       "    }\n",
       "\n",
       "    .dataframe tbody tr th {\n",
       "        vertical-align: top;\n",
       "    }\n",
       "\n",
       "    .dataframe thead th {\n",
       "        text-align: right;\n",
       "    }\n",
       "</style>\n",
       "<table border=\"1\" class=\"dataframe\">\n",
       "  <thead>\n",
       "    <tr style=\"text-align: right;\">\n",
       "      <th></th>\n",
       "      <th></th>\n",
       "      <th>Mean</th>\n",
       "      <th>Median</th>\n",
       "    </tr>\n",
       "    <tr>\n",
       "      <th>COUNTRY</th>\n",
       "      <th>variable</th>\n",
       "      <th></th>\n",
       "      <th></th>\n",
       "    </tr>\n",
       "  </thead>\n",
       "  <tbody>\n",
       "    <tr>\n",
       "      <th rowspan=\"3\" valign=\"top\">ARGENTINA</th>\n",
       "      <th>p_diff</th>\n",
       "      <td>-30399.085151</td>\n",
       "      <td>0.00</td>\n",
       "    </tr>\n",
       "    <tr>\n",
       "      <th>price</th>\n",
       "      <td>31061.999723</td>\n",
       "      <td>54.95</td>\n",
       "    </tr>\n",
       "    <tr>\n",
       "      <th>price_online</th>\n",
       "      <td>662.914572</td>\n",
       "      <td>55.00</td>\n",
       "    </tr>\n",
       "    <tr>\n",
       "      <th rowspan=\"3\" valign=\"top\">AUSTRALIA</th>\n",
       "      <th>p_diff</th>\n",
       "      <td>-0.464439</td>\n",
       "      <td>0.00</td>\n",
       "    </tr>\n",
       "    <tr>\n",
       "      <th>price</th>\n",
       "      <td>22.126683</td>\n",
       "      <td>7.99</td>\n",
       "    </tr>\n",
       "    <tr>\n",
       "      <th>price_online</th>\n",
       "      <td>21.662243</td>\n",
       "      <td>8.00</td>\n",
       "    </tr>\n",
       "    <tr>\n",
       "      <th rowspan=\"3\" valign=\"top\">BRAZIL</th>\n",
       "      <th>p_diff</th>\n",
       "      <td>-37.924121</td>\n",
       "      <td>0.00</td>\n",
       "    </tr>\n",
       "    <tr>\n",
       "      <th>price</th>\n",
       "      <td>338.507332</td>\n",
       "      <td>69.90</td>\n",
       "    </tr>\n",
       "    <tr>\n",
       "      <th>price_online</th>\n",
       "      <td>300.583211</td>\n",
       "      <td>67.90</td>\n",
       "    </tr>\n",
       "    <tr>\n",
       "      <th rowspan=\"3\" valign=\"top\">CANADA</th>\n",
       "      <th>p_diff</th>\n",
       "      <td>0.588671</td>\n",
       "      <td>0.00</td>\n",
       "    </tr>\n",
       "    <tr>\n",
       "      <th>price</th>\n",
       "      <td>35.799147</td>\n",
       "      <td>17.98</td>\n",
       "    </tr>\n",
       "    <tr>\n",
       "      <th>price_online</th>\n",
       "      <td>36.387818</td>\n",
       "      <td>17.99</td>\n",
       "    </tr>\n",
       "    <tr>\n",
       "      <th rowspan=\"3\" valign=\"top\">CHINA</th>\n",
       "      <th>p_diff</th>\n",
       "      <td>-0.832808</td>\n",
       "      <td>0.00</td>\n",
       "    </tr>\n",
       "    <tr>\n",
       "      <th>price</th>\n",
       "      <td>141.923942</td>\n",
       "      <td>43.85</td>\n",
       "    </tr>\n",
       "    <tr>\n",
       "      <th>price_online</th>\n",
       "      <td>141.091135</td>\n",
       "      <td>43.90</td>\n",
       "    </tr>\n",
       "    <tr>\n",
       "      <th rowspan=\"3\" valign=\"top\">GERMANY</th>\n",
       "      <th>p_diff</th>\n",
       "      <td>4.577242</td>\n",
       "      <td>0.00</td>\n",
       "    </tr>\n",
       "    <tr>\n",
       "      <th>price</th>\n",
       "      <td>31.831955</td>\n",
       "      <td>14.99</td>\n",
       "    </tr>\n",
       "    <tr>\n",
       "      <th>price_online</th>\n",
       "      <td>36.409198</td>\n",
       "      <td>15.99</td>\n",
       "    </tr>\n",
       "    <tr>\n",
       "      <th rowspan=\"3\" valign=\"top\">JAPAN</th>\n",
       "      <th>p_diff</th>\n",
       "      <td>-586.881969</td>\n",
       "      <td>0.00</td>\n",
       "    </tr>\n",
       "    <tr>\n",
       "      <th>price</th>\n",
       "      <td>5508.326655</td>\n",
       "      <td>1180.00</td>\n",
       "    </tr>\n",
       "    <tr>\n",
       "      <th>price_online</th>\n",
       "      <td>4921.444686</td>\n",
       "      <td>973.00</td>\n",
       "    </tr>\n",
       "    <tr>\n",
       "      <th rowspan=\"3\" valign=\"top\">SOUTHAFRICA</th>\n",
       "      <th>p_diff</th>\n",
       "      <td>-125.700372</td>\n",
       "      <td>0.00</td>\n",
       "    </tr>\n",
       "    <tr>\n",
       "      <th>price</th>\n",
       "      <td>208.401621</td>\n",
       "      <td>39.99</td>\n",
       "    </tr>\n",
       "    <tr>\n",
       "      <th>price_online</th>\n",
       "      <td>82.701249</td>\n",
       "      <td>39.99</td>\n",
       "    </tr>\n",
       "    <tr>\n",
       "      <th rowspan=\"3\" valign=\"top\">UK</th>\n",
       "      <th>p_diff</th>\n",
       "      <td>-0.067043</td>\n",
       "      <td>0.00</td>\n",
       "    </tr>\n",
       "    <tr>\n",
       "      <th>price</th>\n",
       "      <td>7.841262</td>\n",
       "      <td>2.00</td>\n",
       "    </tr>\n",
       "    <tr>\n",
       "      <th>price_online</th>\n",
       "      <td>7.774219</td>\n",
       "      <td>2.00</td>\n",
       "    </tr>\n",
       "    <tr>\n",
       "      <th rowspan=\"3\" valign=\"top\">USA</th>\n",
       "      <th>p_diff</th>\n",
       "      <td>-31950.531931</td>\n",
       "      <td>0.00</td>\n",
       "    </tr>\n",
       "    <tr>\n",
       "      <th>price</th>\n",
       "      <td>31985.195144</td>\n",
       "      <td>14.99</td>\n",
       "    </tr>\n",
       "    <tr>\n",
       "      <th>price_online</th>\n",
       "      <td>34.663213</td>\n",
       "      <td>14.99</td>\n",
       "    </tr>\n",
       "  </tbody>\n",
       "</table>\n",
       "</div>"
      ],
      "text/plain": [
       "                                  Mean   Median\n",
       "COUNTRY     variable                           \n",
       "ARGENTINA   p_diff       -30399.085151     0.00\n",
       "            price         31061.999723    54.95\n",
       "            price_online    662.914572    55.00\n",
       "AUSTRALIA   p_diff           -0.464439     0.00\n",
       "            price            22.126683     7.99\n",
       "            price_online     21.662243     8.00\n",
       "BRAZIL      p_diff          -37.924121     0.00\n",
       "            price           338.507332    69.90\n",
       "            price_online    300.583211    67.90\n",
       "CANADA      p_diff            0.588671     0.00\n",
       "            price            35.799147    17.98\n",
       "            price_online     36.387818    17.99\n",
       "CHINA       p_diff           -0.832808     0.00\n",
       "            price           141.923942    43.85\n",
       "            price_online    141.091135    43.90\n",
       "GERMANY     p_diff            4.577242     0.00\n",
       "            price            31.831955    14.99\n",
       "            price_online     36.409198    15.99\n",
       "JAPAN       p_diff         -586.881969     0.00\n",
       "            price          5508.326655  1180.00\n",
       "            price_online   4921.444686   973.00\n",
       "SOUTHAFRICA p_diff         -125.700372     0.00\n",
       "            price           208.401621    39.99\n",
       "            price_online     82.701249    39.99\n",
       "UK          p_diff           -0.067043     0.00\n",
       "            price             7.841262     2.00\n",
       "            price_online      7.774219     2.00\n",
       "USA         p_diff       -31950.531931     0.00\n",
       "            price         31985.195144    14.99\n",
       "            price_online     34.663213    14.99"
      ]
     },
     "execution_count": 9,
     "metadata": {},
     "output_type": "execute_result"
    }
   ],
   "source": [
    "(\n",
    "    bpp_original.melt(\n",
    "        id_vars=[\"COUNTRY\"], value_vars=[\"price\", \"price_online\", \"p_diff\"]\n",
    "    )\n",
    "    .groupby([\"COUNTRY\", \"variable\"])\n",
    "    .agg(Mean=(\"value\", \"mean\"), Median=(\"value\", \"median\"))\n",
    ")"
   ]
  },
  {
   "cell_type": "markdown",
   "id": "709e980a",
   "metadata": {},
   "source": [
    "### Task\n",
    "1) filter the data to 2016 and check price difference the mean and median for each country"
   ]
  },
  {
   "cell_type": "code",
   "execution_count": 10,
   "id": "9e07a4d7",
   "metadata": {},
   "outputs": [
    {
     "data": {
      "text/html": [
       "<div>\n",
       "<style scoped>\n",
       "    .dataframe tbody tr th:only-of-type {\n",
       "        vertical-align: middle;\n",
       "    }\n",
       "\n",
       "    .dataframe tbody tr th {\n",
       "        vertical-align: top;\n",
       "    }\n",
       "\n",
       "    .dataframe thead th {\n",
       "        text-align: right;\n",
       "    }\n",
       "</style>\n",
       "<table border=\"1\" class=\"dataframe\">\n",
       "  <thead>\n",
       "    <tr style=\"text-align: right;\">\n",
       "      <th></th>\n",
       "      <th>Mean</th>\n",
       "      <th>Median</th>\n",
       "    </tr>\n",
       "    <tr>\n",
       "      <th>COUNTRY</th>\n",
       "      <th></th>\n",
       "      <th></th>\n",
       "    </tr>\n",
       "  </thead>\n",
       "  <tbody>\n",
       "    <tr>\n",
       "      <th>BRAZIL</th>\n",
       "      <td>-0.030662</td>\n",
       "      <td>0.0</td>\n",
       "    </tr>\n",
       "    <tr>\n",
       "      <th>CHINA</th>\n",
       "      <td>-0.345833</td>\n",
       "      <td>0.0</td>\n",
       "    </tr>\n",
       "    <tr>\n",
       "      <th>GERMANY</th>\n",
       "      <td>-0.192795</td>\n",
       "      <td>0.0</td>\n",
       "    </tr>\n",
       "    <tr>\n",
       "      <th>JAPAN</th>\n",
       "      <td>-91.596026</td>\n",
       "      <td>0.0</td>\n",
       "    </tr>\n",
       "    <tr>\n",
       "      <th>SOUTHAFRICA</th>\n",
       "      <td>-31.412899</td>\n",
       "      <td>0.0</td>\n",
       "    </tr>\n",
       "    <tr>\n",
       "      <th>USA</th>\n",
       "      <td>-139.610604</td>\n",
       "      <td>0.0</td>\n",
       "    </tr>\n",
       "  </tbody>\n",
       "</table>\n",
       "</div>"
      ],
      "text/plain": [
       "                   Mean  Median\n",
       "COUNTRY                        \n",
       "BRAZIL        -0.030662     0.0\n",
       "CHINA         -0.345833     0.0\n",
       "GERMANY       -0.192795     0.0\n",
       "JAPAN        -91.596026     0.0\n",
       "SOUTHAFRICA  -31.412899     0.0\n",
       "USA         -139.610604     0.0"
      ]
     },
     "execution_count": 10,
     "metadata": {},
     "output_type": "execute_result"
    }
   ],
   "source": [
    "(\n",
    "    bpp_original.loc[lambda x: x[\"year\"] == 2016]\n",
    "    .groupby(\"COUNTRY\")\n",
    "    .agg(Mean=(\"p_diff\", \"mean\"), Median=(\"p_diff\", \"median\"))\n",
    ")"
   ]
  },
  {
   "cell_type": "markdown",
   "id": "d526c5dc",
   "metadata": {},
   "source": [
    "Add self created descriptive function to groupby().agg()"
   ]
  },
  {
   "cell_type": "markdown",
   "id": "73d41698",
   "metadata": {},
   "source": [
    "Lets check the 'range' as an external function to the descriptive"
   ]
  },
  {
   "cell_type": "code",
   "execution_count": 11,
   "id": "dbf1fc36",
   "metadata": {},
   "outputs": [
    {
     "data": {
      "text/html": [
       "<div>\n",
       "<style scoped>\n",
       "    .dataframe tbody tr th:only-of-type {\n",
       "        vertical-align: middle;\n",
       "    }\n",
       "\n",
       "    .dataframe tbody tr th {\n",
       "        vertical-align: top;\n",
       "    }\n",
       "\n",
       "    .dataframe thead th {\n",
       "        text-align: right;\n",
       "    }\n",
       "</style>\n",
       "<table border=\"1\" class=\"dataframe\">\n",
       "  <thead>\n",
       "    <tr style=\"text-align: right;\">\n",
       "      <th></th>\n",
       "      <th>mean_price_diff</th>\n",
       "      <th>median_price_diff</th>\n",
       "      <th>range_price_diff</th>\n",
       "    </tr>\n",
       "    <tr>\n",
       "      <th>COUNTRY</th>\n",
       "      <th></th>\n",
       "      <th></th>\n",
       "      <th></th>\n",
       "    </tr>\n",
       "  </thead>\n",
       "  <tbody>\n",
       "    <tr>\n",
       "      <th>ARGENTINA</th>\n",
       "      <td>-30399.085151</td>\n",
       "      <td>0.0</td>\n",
       "      <td>1.111358e+08</td>\n",
       "    </tr>\n",
       "    <tr>\n",
       "      <th>AUSTRALIA</th>\n",
       "      <td>-0.464439</td>\n",
       "      <td>0.0</td>\n",
       "      <td>1.438310e+03</td>\n",
       "    </tr>\n",
       "    <tr>\n",
       "      <th>BRAZIL</th>\n",
       "      <td>-37.924121</td>\n",
       "      <td>0.0</td>\n",
       "      <td>3.429000e+03</td>\n",
       "    </tr>\n",
       "    <tr>\n",
       "      <th>CANADA</th>\n",
       "      <td>0.588671</td>\n",
       "      <td>0.0</td>\n",
       "      <td>5.250200e+02</td>\n",
       "    </tr>\n",
       "    <tr>\n",
       "      <th>CHINA</th>\n",
       "      <td>-0.832808</td>\n",
       "      <td>0.0</td>\n",
       "      <td>6.110900e+02</td>\n",
       "    </tr>\n",
       "    <tr>\n",
       "      <th>GERMANY</th>\n",
       "      <td>4.577242</td>\n",
       "      <td>0.0</td>\n",
       "      <td>1.098310e+03</td>\n",
       "    </tr>\n",
       "    <tr>\n",
       "      <th>JAPAN</th>\n",
       "      <td>-586.881969</td>\n",
       "      <td>0.0</td>\n",
       "      <td>4.155930e+05</td>\n",
       "    </tr>\n",
       "    <tr>\n",
       "      <th>SOUTHAFRICA</th>\n",
       "      <td>-125.700372</td>\n",
       "      <td>0.0</td>\n",
       "      <td>2.075375e+05</td>\n",
       "    </tr>\n",
       "    <tr>\n",
       "      <th>UK</th>\n",
       "      <td>-0.067043</td>\n",
       "      <td>0.0</td>\n",
       "      <td>5.446000e+01</td>\n",
       "    </tr>\n",
       "    <tr>\n",
       "      <th>USA</th>\n",
       "      <td>-31950.531931</td>\n",
       "      <td>0.0</td>\n",
       "      <td>5.534914e+08</td>\n",
       "    </tr>\n",
       "  </tbody>\n",
       "</table>\n",
       "</div>"
      ],
      "text/plain": [
       "             mean_price_diff  median_price_diff  range_price_diff\n",
       "COUNTRY                                                          \n",
       "ARGENTINA      -30399.085151                0.0      1.111358e+08\n",
       "AUSTRALIA          -0.464439                0.0      1.438310e+03\n",
       "BRAZIL            -37.924121                0.0      3.429000e+03\n",
       "CANADA              0.588671                0.0      5.250200e+02\n",
       "CHINA              -0.832808                0.0      6.110900e+02\n",
       "GERMANY             4.577242                0.0      1.098310e+03\n",
       "JAPAN            -586.881969                0.0      4.155930e+05\n",
       "SOUTHAFRICA      -125.700372                0.0      2.075375e+05\n",
       "UK                 -0.067043                0.0      5.446000e+01\n",
       "USA            -31950.531931                0.0      5.534914e+08"
      ]
     },
     "execution_count": 11,
     "metadata": {},
     "output_type": "execute_result"
    }
   ],
   "source": [
    "def range_function(x):\n",
    "    return x.max() - x.min()\n",
    "\n",
    "\n",
    "bpp_original.groupby(\"COUNTRY\").agg(\n",
    "    mean_price_diff=(\"p_diff\", \"mean\"),\n",
    "    median_price_diff=(\"p_diff\", \"median\"),\n",
    "    range_price_diff=(\"p_diff\", range_function),\n",
    ")"
   ]
  },
  {
   "cell_type": "markdown",
   "id": "a1c839a4",
   "metadata": {},
   "source": [
    "Later we will discuss functions more in details!"
   ]
  },
  {
   "cell_type": "markdown",
   "id": "24841b3f",
   "metadata": {},
   "source": [
    "## Visualisation"
   ]
  },
  {
   "cell_type": "markdown",
   "id": "2e309be8",
   "metadata": {},
   "source": [
    "We use the plotnine package for visualization in Python. This package relates to the ggplot package in R. "
   ]
  },
  {
   "cell_type": "markdown",
   "id": "09e8595a",
   "metadata": {},
   "source": [
    "plotnine always has a `ggplot()` function and a `geom_*type*()` function added."
   ]
  },
  {
   "cell_type": "markdown",
   "id": "1921285e",
   "metadata": {},
   "source": [
    "___"
   ]
  },
  {
   "cell_type": "markdown",
   "id": "3722c18a",
   "metadata": {},
   "source": [
    "Check the empirical distribution:  histogram.\n",
    "\n",
    "Before building a nice looking graph using plotnine, its worth to look at the histogram using thew built in pandas `hist()` function"
   ]
  },
  {
   "cell_type": "code",
   "execution_count": 12,
   "id": "655d1ff6",
   "metadata": {},
   "outputs": [
    {
     "data": {
      "text/plain": [
       "<AxesSubplot:>"
      ]
     },
     "execution_count": 12,
     "metadata": {},
     "output_type": "execute_result"
    },
    {
     "data": {
      "image/png": "[encoded data removed]",
      "text/plain": [
       "<Figure size 432x288 with 1 Axes>"
      ]
     },
     "metadata": {
      "needs_background": "light"
     },
     "output_type": "display_data"
    }
   ],
   "source": [
    "bpp_original.price.hist()"
   ]
  },
  {
   "cell_type": "markdown",
   "id": "269db0e9",
   "metadata": {},
   "source": [
    "It is clear: need to filter out some data!"
   ]
  },
  {
   "cell_type": "code",
   "execution_count": 13,
   "id": "34b2c097",
   "metadata": {},
   "outputs": [],
   "source": [
    "bpp = (\n",
    "    bpp_original.loc[lambda x: x[\"sale_online\"].isnull()] ## ASK GABOR, WHY keep nulls\n",
    "    .loc[lambda x: x[\"price\"].notnull()]\n",
    "    .loc[lambda x: x[\"price_online\"].notnull()]\n",
    "    .loc[lambda x: x[\"PRICETYPE\"] == \"Regular Price\"]\n",
    ")"
   ]
  },
  {
   "cell_type": "markdown",
   "id": "db87e91f",
   "metadata": {},
   "source": [
    "Check our newly created data:"
   ]
  },
  {
   "cell_type": "code",
   "execution_count": 14,
   "id": "495b0d09",
   "metadata": {},
   "outputs": [
    {
     "data": {
      "text/html": [
       "<div>\n",
       "<style scoped>\n",
       "    .dataframe tbody tr th:only-of-type {\n",
       "        vertical-align: middle;\n",
       "    }\n",
       "\n",
       "    .dataframe tbody tr th {\n",
       "        vertical-align: top;\n",
       "    }\n",
       "\n",
       "    .dataframe thead th {\n",
       "        text-align: right;\n",
       "    }\n",
       "</style>\n",
       "<table border=\"1\" class=\"dataframe\">\n",
       "  <thead>\n",
       "    <tr style=\"text-align: right;\">\n",
       "      <th></th>\n",
       "      <th>price</th>\n",
       "      <th>price_online</th>\n",
       "      <th>p_diff</th>\n",
       "    </tr>\n",
       "  </thead>\n",
       "  <tbody>\n",
       "    <tr>\n",
       "      <th>count</th>\n",
       "      <td>8.169000e+03</td>\n",
       "      <td>8169.00000</td>\n",
       "      <td>8.169000e+03</td>\n",
       "    </tr>\n",
       "    <tr>\n",
       "      <th>mean</th>\n",
       "      <td>7.650828e+03</td>\n",
       "      <td>133.36461</td>\n",
       "      <td>-7.517463e+03</td>\n",
       "    </tr>\n",
       "    <tr>\n",
       "      <th>std</th>\n",
       "      <td>6.641562e+05</td>\n",
       "      <td>495.47564</td>\n",
       "      <td>6.641574e+05</td>\n",
       "    </tr>\n",
       "    <tr>\n",
       "      <th>min</th>\n",
       "      <td>2.500000e-01</td>\n",
       "      <td>0.25000</td>\n",
       "      <td>-6.002112e+07</td>\n",
       "    </tr>\n",
       "    <tr>\n",
       "      <th>25%</th>\n",
       "      <td>5.990000e+00</td>\n",
       "      <td>5.99000</td>\n",
       "      <td>-1.000000e-01</td>\n",
       "    </tr>\n",
       "    <tr>\n",
       "      <th>50%</th>\n",
       "      <td>1.499000e+01</td>\n",
       "      <td>14.99000</td>\n",
       "      <td>0.000000e+00</td>\n",
       "    </tr>\n",
       "    <tr>\n",
       "      <th>75%</th>\n",
       "      <td>4.399000e+01</td>\n",
       "      <td>44.95000</td>\n",
       "      <td>0.000000e+00</td>\n",
       "    </tr>\n",
       "    <tr>\n",
       "      <th>max</th>\n",
       "      <td>6.002113e+07</td>\n",
       "      <td>6362.00000</td>\n",
       "      <td>9.200100e+02</td>\n",
       "    </tr>\n",
       "  </tbody>\n",
       "</table>\n",
       "</div>"
      ],
      "text/plain": [
       "              price  price_online        p_diff\n",
       "count  8.169000e+03    8169.00000  8.169000e+03\n",
       "mean   7.650828e+03     133.36461 -7.517463e+03\n",
       "std    6.641562e+05     495.47564  6.641574e+05\n",
       "min    2.500000e-01       0.25000 -6.002112e+07\n",
       "25%    5.990000e+00       5.99000 -1.000000e-01\n",
       "50%    1.499000e+01      14.99000  0.000000e+00\n",
       "75%    4.399000e+01      44.95000  0.000000e+00\n",
       "max    6.002113e+07    6362.00000  9.200100e+02"
      ]
     },
     "execution_count": 14,
     "metadata": {},
     "output_type": "execute_result"
    }
   ],
   "source": [
    "bpp.filter([\"price\", \"price_online\",\"p_diff\"]).describe()"
   ]
  },
  {
   "cell_type": "markdown",
   "id": "6a6aa9be",
   "metadata": {},
   "source": [
    "Drop obvious errors: price is larger than $1000"
   ]
  },
  {
   "cell_type": "code",
   "execution_count": 15,
   "id": "d47db055",
   "metadata": {},
   "outputs": [],
   "source": [
    "bpp = bpp.loc[lambda x: x[\"price\"] < 1000]"
   ]
  },
  {
   "cell_type": "code",
   "execution_count": 16,
   "id": "f9f760f3",
   "metadata": {},
   "outputs": [
    {
     "data": {
      "text/html": [
       "<div>\n",
       "<style scoped>\n",
       "    .dataframe tbody tr th:only-of-type {\n",
       "        vertical-align: middle;\n",
       "    }\n",
       "\n",
       "    .dataframe tbody tr th {\n",
       "        vertical-align: top;\n",
       "    }\n",
       "\n",
       "    .dataframe thead th {\n",
       "        text-align: right;\n",
       "    }\n",
       "</style>\n",
       "<table border=\"1\" class=\"dataframe\">\n",
       "  <thead>\n",
       "    <tr style=\"text-align: right;\">\n",
       "      <th></th>\n",
       "      <th>price</th>\n",
       "      <th>price_online</th>\n",
       "      <th>p_diff</th>\n",
       "    </tr>\n",
       "  </thead>\n",
       "  <tbody>\n",
       "    <tr>\n",
       "      <th>count</th>\n",
       "      <td>7893.000000</td>\n",
       "      <td>7893.000000</td>\n",
       "      <td>7893.000000</td>\n",
       "    </tr>\n",
       "    <tr>\n",
       "      <th>mean</th>\n",
       "      <td>55.211356</td>\n",
       "      <td>54.913554</td>\n",
       "      <td>-0.297802</td>\n",
       "    </tr>\n",
       "    <tr>\n",
       "      <th>std</th>\n",
       "      <td>135.469561</td>\n",
       "      <td>134.315549</td>\n",
       "      <td>20.141510</td>\n",
       "    </tr>\n",
       "    <tr>\n",
       "      <th>min</th>\n",
       "      <td>0.250000</td>\n",
       "      <td>0.250000</td>\n",
       "      <td>-380.130000</td>\n",
       "    </tr>\n",
       "    <tr>\n",
       "      <th>25%</th>\n",
       "      <td>5.990000</td>\n",
       "      <td>5.790000</td>\n",
       "      <td>0.000000</td>\n",
       "    </tr>\n",
       "    <tr>\n",
       "      <th>50%</th>\n",
       "      <td>14.490000</td>\n",
       "      <td>13.990000</td>\n",
       "      <td>0.000000</td>\n",
       "    </tr>\n",
       "    <tr>\n",
       "      <th>75%</th>\n",
       "      <td>38.190000</td>\n",
       "      <td>39.000000</td>\n",
       "      <td>0.000000</td>\n",
       "    </tr>\n",
       "    <tr>\n",
       "      <th>max</th>\n",
       "      <td>970.000000</td>\n",
       "      <td>970.000000</td>\n",
       "      <td>920.010000</td>\n",
       "    </tr>\n",
       "  </tbody>\n",
       "</table>\n",
       "</div>"
      ],
      "text/plain": [
       "             price  price_online       p_diff\n",
       "count  7893.000000   7893.000000  7893.000000\n",
       "mean     55.211356     54.913554    -0.297802\n",
       "std     135.469561    134.315549    20.141510\n",
       "min       0.250000      0.250000  -380.130000\n",
       "25%       5.990000      5.790000     0.000000\n",
       "50%      14.490000     13.990000     0.000000\n",
       "75%      38.190000     39.000000     0.000000\n",
       "max     970.000000    970.000000   920.010000"
      ]
     },
     "execution_count": 16,
     "metadata": {},
     "output_type": "execute_result"
    }
   ],
   "source": [
    "bpp.filter([\"price\", \"price_online\",\"p_diff\"]).describe()"
   ]
  },
  {
   "cell_type": "code",
   "execution_count": 17,
   "id": "a0caa5da",
   "metadata": {},
   "outputs": [
    {
     "data": {
      "text/plain": [
       "<AxesSubplot:>"
      ]
     },
     "execution_count": 17,
     "metadata": {},
     "output_type": "execute_result"
    },
    {
     "data": {
      "image/png": "[encoded data removed]",
      "text/plain": [
       "<Figure size 432x288 with 1 Axes>"
      ]
     },
     "metadata": {
      "needs_background": "light"
     },
     "output_type": "display_data"
    }
   ],
   "source": [
    "bpp.price.hist()"
   ]
  },
  {
   "cell_type": "markdown",
   "id": "35406387",
   "metadata": {},
   "source": [
    "Make a nice histogram using plotnine"
   ]
  },
  {
   "cell_type": "code",
   "execution_count": 18,
   "id": "35fd5822",
   "metadata": {},
   "outputs": [
    {
     "data": {
      "image/png": "[encoded data removed]",
      "text/plain": [
       "<Figure size 640x480 with 1 Axes>"
      ]
     },
     "metadata": {},
     "output_type": "display_data"
    },
    {
     "data": {
      "text/plain": [
       "<ggplot: (373836320)>"
      ]
     },
     "execution_count": 18,
     "metadata": {},
     "output_type": "execute_result"
    }
   ],
   "source": [
    "(\n",
    "    ggplot(data=bpp)\n",
    "    + geom_histogram(aes(x=\"price\"), bins=50, fill=\"blue\")\n",
    "    + labs(x=\"Price\", y=\"Count\")\n",
    ")"
   ]
  },
  {
   "cell_type": "markdown",
   "id": "9fe0102f",
   "metadata": {},
   "source": [
    "### Role of number of bins (or binwidth)\n",
    "\n",
    "Play with the number of Bins:"
   ]
  },
  {
   "cell_type": "code",
   "execution_count": 19,
   "id": "b61080cb",
   "metadata": {},
   "outputs": [
    {
     "data": {
      "image/png": "[encoded data removed]",
      "text/plain": [
       "<Figure size 640x480 with 1 Axes>"
      ]
     },
     "metadata": {},
     "output_type": "display_data"
    },
    {
     "data": {
      "text/plain": [
       "<ggplot: (373836317)>"
      ]
     },
     "execution_count": 19,
     "metadata": {},
     "output_type": "execute_result"
    }
   ],
   "source": [
    "# 1) approx ok\n",
    "(\n",
    "    ggplot(data=bpp)\n",
    "    + geom_histogram(aes(x=\"price\"), bins=50, fill=\"blue\")\n",
    "    + labs(x=\"Price\", y=\"Count\")\n",
    ")"
   ]
  },
  {
   "cell_type": "code",
   "execution_count": 20,
   "id": "4b78bcaa",
   "metadata": {},
   "outputs": [
    {
     "data": {
      "image/png": "[encoded data removed]",
      "text/plain": [
       "<Figure size 640x480 with 1 Axes>"
      ]
     },
     "metadata": {},
     "output_type": "display_data"
    },
    {
     "data": {
      "text/plain": [
       "<ggplot: (373836602)>"
      ]
     },
     "execution_count": 20,
     "metadata": {},
     "output_type": "execute_result"
    }
   ],
   "source": [
    "\n",
    "# 2) too many\n",
    "(\n",
    "    ggplot(data=bpp)\n",
    "    + geom_histogram(aes(x=\"price\"), bins=150, fill=\"blue\")\n",
    "    + labs(x=\"Price\", y=\"Count\")\n",
    ")"
   ]
  },
  {
   "cell_type": "code",
   "execution_count": 21,
   "id": "0939d6ba",
   "metadata": {},
   "outputs": [
    {
     "data": {
      "image/png": "[encoded data removed]",
      "text/plain": [
       "<Figure size 640x480 with 1 Axes>"
      ]
     },
     "metadata": {},
     "output_type": "display_data"
    },
    {
     "data": {
      "text/plain": [
       "<ggplot: (373925255)>"
      ]
     },
     "execution_count": 21,
     "metadata": {},
     "output_type": "execute_result"
    }
   ],
   "source": [
    "\n",
    "# 3) too few\n",
    "(\n",
    "    ggplot(data=bpp)\n",
    "    + geom_histogram(aes(x=\"price\"), bins=5, fill=\"blue\")\n",
    "    + labs(x=\"Price\", y=\"Count\")\n",
    ")"
   ]
  },
  {
   "cell_type": "markdown",
   "id": "4ae2af33",
   "metadata": {},
   "source": [
    "#### Task:\n",
    " Play with the binwidth - instead of `bins=`, use `binwidth=`\n",
    " \n",
    " create 3 graphs: 1) approx ok, 2) too large binwidth, 3) too narrow binwidth\n",
    " \n",
    " discuss, what is the relation between bins and binwidth!"
   ]
  },
  {
   "cell_type": "code",
   "execution_count": 22,
   "id": "e431e387",
   "metadata": {},
   "outputs": [
    {
     "data": {
      "image/png": "[encoded data removed]",
      "text/plain": [
       "<Figure size 640x480 with 1 Axes>"
      ]
     },
     "metadata": {},
     "output_type": "display_data"
    },
    {
     "data": {
      "text/plain": [
       "<ggplot: (373917555)>"
      ]
     },
     "execution_count": 22,
     "metadata": {},
     "output_type": "execute_result"
    }
   ],
   "source": [
    "# 1) approx ok\n",
    "(\n",
    "    ggplot(data=bpp)\n",
    "    + geom_histogram(aes(x=\"price\"), binwidth=20, fill=\"blue\")\n",
    "    + labs(x=\"Price\", y=\"Count\")\n",
    ")"
   ]
  },
  {
   "cell_type": "code",
   "execution_count": 23,
   "id": "6e514b47",
   "metadata": {},
   "outputs": [
    {
     "data": {
      "image/png": "[encoded data removed]",
      "text/plain": [
       "<Figure size 640x480 with 1 Axes>"
      ]
     },
     "metadata": {},
     "output_type": "display_data"
    },
    {
     "data": {
      "text/plain": [
       "<ggplot: (373993677)>"
      ]
     },
     "execution_count": 23,
     "metadata": {},
     "output_type": "execute_result"
    }
   ],
   "source": [
    "\n",
    "# 2) too many\n",
    "(\n",
    "    ggplot(data=bpp)\n",
    "    + geom_histogram(aes(x=\"price\"), binwidth=200, fill=\"blue\")\n",
    "    + labs(x=\"Price\", y=\"Count\")\n",
    ")"
   ]
  },
  {
   "cell_type": "code",
   "execution_count": 24,
   "id": "70e76816",
   "metadata": {},
   "outputs": [
    {
     "data": {
      "image/png": "[encoded data removed]",
      "text/plain": [
       "<Figure size 640x480 with 1 Axes>"
      ]
     },
     "metadata": {},
     "output_type": "display_data"
    },
    {
     "data": {
      "text/plain": [
       "<ggplot: (374056261)>"
      ]
     },
     "execution_count": 24,
     "metadata": {},
     "output_type": "execute_result"
    }
   ],
   "source": [
    "\n",
    "# 3) too few\n",
    "(\n",
    "    ggplot(data=bpp)\n",
    "    + geom_histogram(aes(x=\"price\"), binwidth=2, fill=\"blue\")\n",
    "    + labs(x=\"Price\", y=\"Count\")\n",
    ")"
   ]
  },
  {
   "cell_type": "markdown",
   "id": "707efeca",
   "metadata": {},
   "source": [
    " Relation: they are inversely proportional"
   ]
  },
  {
   "cell_type": "markdown",
   "id": "b1bb7d82",
   "metadata": {},
   "source": [
    "___"
   ]
  },
  {
   "cell_type": "markdown",
   "id": "ed094d17",
   "metadata": {},
   "source": [
    "### Count vs. Relative Frequency\n",
    "\n",
    "Until now we have used count (counted the number of observations in each bin)\n",
    "\n",
    "The other possibility is to use relative frequency instead:\n",
    "\n",
    "You need to add `y = after_stat('density')` to the aesthetics:"
   ]
  },
  {
   "cell_type": "code",
   "execution_count": 25,
   "id": "3d617b4c",
   "metadata": {},
   "outputs": [
    {
     "data": {
      "image/png": "[encoded data removed]",
      "text/plain": [
       "<Figure size 640x480 with 1 Axes>"
      ]
     },
     "metadata": {},
     "output_type": "display_data"
    },
    {
     "data": {
      "text/plain": [
       "<ggplot: (373989800)>"
      ]
     },
     "execution_count": 25,
     "metadata": {},
     "output_type": "execute_result"
    }
   ],
   "source": [
    "(\n",
    "    ggplot(data=bpp)\n",
    "    + geom_histogram(aes(x=\"price\", y=after_stat(\"density\")), binwidth=20, fill=\"blue\")\n",
    "    + labs(x=\"Price\", y=\"Relative Frequency\")\n",
    ")"
   ]
  },
  {
   "cell_type": "markdown",
   "id": "b042f9f4",
   "metadata": {},
   "source": [
    " ### Kernel density\n",
    "\n",
    " Histogram or kernel density? Kernel is the smooth line instead of using bars.\n",
    " \n",
    " Now, let us name our ggplot:"
   ]
  },
  {
   "cell_type": "code",
   "execution_count": 26,
   "id": "66573d00",
   "metadata": {},
   "outputs": [],
   "source": [
    "my_graph = (\n",
    "    ggplot(data=bpp)\n",
    "    + geom_density(aes(x=\"price\"), fill=\"red\", alpha=0.1, bw=20)\n",
    "    + labs(x=\"Price\", y=\"Relative Frequency\")\n",
    ")"
   ]
  },
  {
   "cell_type": "markdown",
   "id": "ab133c8c",
   "metadata": {},
   "source": [
    "to make it visible we need to call it"
   ]
  },
  {
   "cell_type": "code",
   "execution_count": 27,
   "id": "e9c0b147",
   "metadata": {},
   "outputs": [
    {
     "data": {
      "image/png": "[encoded data removed]",
      "text/plain": [
       "<Figure size 640x480 with 1 Axes>"
      ]
     },
     "metadata": {},
     "output_type": "display_data"
    },
    {
     "data": {
      "text/plain": [
       "<ggplot: (373926795)>"
      ]
     },
     "execution_count": 27,
     "metadata": {},
     "output_type": "execute_result"
    }
   ],
   "source": [
    "my_graph"
   ]
  },
  {
   "cell_type": "markdown",
   "id": "51c9be6b",
   "metadata": {},
   "source": [
    "Cool stuff about plotnine, is that we can add (later as well) new geometric object to it.\n",
    "\n",
    "e.g. we can add a histogram:"
   ]
  },
  {
   "cell_type": "code",
   "execution_count": 28,
   "id": "2648e999",
   "metadata": {},
   "outputs": [
    {
     "data": {
      "image/png": "[encoded data removed]",
      "text/plain": [
       "<Figure size 640x480 with 1 Axes>"
      ]
     },
     "metadata": {},
     "output_type": "display_data"
    },
    {
     "data": {
      "text/plain": [
       "<ggplot: (374835918)>"
      ]
     },
     "execution_count": 28,
     "metadata": {},
     "output_type": "execute_result"
    }
   ],
   "source": [
    "my_graph + geom_histogram(\n",
    "    aes(x=\"price\", y=after_stat(\"density\")), binwidth=20, fill=\"blue\", alpha=0.4\n",
    ")"
   ]
  },
  {
   "cell_type": "markdown",
   "id": "771062d2",
   "metadata": {},
   "source": [
    "### Task\n",
    "1) Do the same kernel density and histogram, but now with the price differences!\n",
    "\n",
    "2) Add xlim(-5,5) command to ggplot! What changed?"
   ]
  },
  {
   "cell_type": "code",
   "execution_count": 29,
   "id": "c0e24833",
   "metadata": {},
   "outputs": [
    {
     "name": "stderr",
     "output_type": "stream",
     "text": [
      "/Library/Frameworks/Python.framework/Versions/3.10/lib/python3.10/site-packages/plotnine/layer.py:334: PlotnineWarning: stat_density : Removed 418 rows containing non-finite values.\n",
      "/Library/Frameworks/Python.framework/Versions/3.10/lib/python3.10/site-packages/plotnine/layer.py:334: PlotnineWarning: stat_bin : Removed 418 rows containing non-finite values.\n",
      "/Library/Frameworks/Python.framework/Versions/3.10/lib/python3.10/site-packages/plotnine/layer.py:412: PlotnineWarning: geom_histogram : Removed 2 rows containing missing values.\n"
     ]
    },
    {
     "data": {
      "image/png": "[encoded data removed]",
      "text/plain": [
       "<Figure size 640x480 with 1 Axes>"
      ]
     },
     "metadata": {},
     "output_type": "display_data"
    },
    {
     "data": {
      "text/plain": [
       "<ggplot: (374195747)>"
      ]
     },
     "execution_count": 29,
     "metadata": {},
     "output_type": "execute_result"
    }
   ],
   "source": [
    "(\n",
    "    ggplot(data=bpp)\n",
    "    + geom_density(aes(x=\"p_diff\"), fill=\"red\", alpha=0.1, bw=0.2)\n",
    "    + geom_histogram(\n",
    "        aes(x=\"p_diff\", y=after_stat(\"density\")), binwidth=0.2, fill=\"blue\", alpha=0.4\n",
    "    )\n",
    "    + xlim(-5,5)\n",
    "    + labs(x=\"Price Difference\", y=\"Relative Frequency\")\n",
    ")"
   ]
  },
  {
   "cell_type": "markdown",
   "id": "ebd1f1d8",
   "metadata": {},
   "source": [
    "Check for high price differences"
   ]
  },
  {
   "cell_type": "code",
   "execution_count": 30,
   "id": "6ceab092",
   "metadata": {},
   "outputs": [
    {
     "data": {
      "text/html": [
       "<div>\n",
       "<style scoped>\n",
       "    .dataframe tbody tr th:only-of-type {\n",
       "        vertical-align: middle;\n",
       "    }\n",
       "\n",
       "    .dataframe tbody tr th {\n",
       "        vertical-align: top;\n",
       "    }\n",
       "\n",
       "    .dataframe thead th {\n",
       "        text-align: right;\n",
       "    }\n",
       "</style>\n",
       "<table border=\"1\" class=\"dataframe\">\n",
       "  <thead>\n",
       "    <tr style=\"text-align: right;\">\n",
       "      <th></th>\n",
       "      <th>COUNTRY</th>\n",
       "      <th>retailer</th>\n",
       "      <th>retailer_s</th>\n",
       "      <th>date</th>\n",
       "      <th>day</th>\n",
       "      <th>month</th>\n",
       "      <th>year</th>\n",
       "      <th>id</th>\n",
       "      <th>price</th>\n",
       "      <th>price_online</th>\n",
       "      <th>...</th>\n",
       "      <th>TIME</th>\n",
       "      <th>ZIPCODE</th>\n",
       "      <th>PHOTO</th>\n",
       "      <th>OTHERSKUITEM</th>\n",
       "      <th>COMMENTS</th>\n",
       "      <th>PRICETYPE</th>\n",
       "      <th>CODE</th>\n",
       "      <th>sale_online</th>\n",
       "      <th>country_s</th>\n",
       "      <th>p_diff</th>\n",
       "    </tr>\n",
       "  </thead>\n",
       "  <tbody>\n",
       "    <tr>\n",
       "      <th>16971</th>\n",
       "      <td>GERMANY</td>\n",
       "      <td>27</td>\n",
       "      <td>GERMANY_27</td>\n",
       "      <td>2015-12-07</td>\n",
       "      <td>7.0</td>\n",
       "      <td>12.0</td>\n",
       "      <td>2015.0</td>\n",
       "      <td>1682592</td>\n",
       "      <td>22.99</td>\n",
       "      <td>539.0</td>\n",
       "      <td>...</td>\n",
       "      <td>16:36</td>\n",
       "      <td>67663</td>\n",
       "      <td>20151207_163638.jpg</td>\n",
       "      <td>1682592</td>\n",
       "      <td>NaN</td>\n",
       "      <td>Regular Price</td>\n",
       "      <td>768619.0</td>\n",
       "      <td>NaN</td>\n",
       "      <td>Germany</td>\n",
       "      <td>516.01</td>\n",
       "    </tr>\n",
       "    <tr>\n",
       "      <th>17056</th>\n",
       "      <td>GERMANY</td>\n",
       "      <td>27</td>\n",
       "      <td>GERMANY_27</td>\n",
       "      <td>2015-12-07</td>\n",
       "      <td>7.0</td>\n",
       "      <td>12.0</td>\n",
       "      <td>2015.0</td>\n",
       "      <td>4612636</td>\n",
       "      <td>8.99</td>\n",
       "      <td>929.0</td>\n",
       "      <td>...</td>\n",
       "      <td>17:34</td>\n",
       "      <td>67663</td>\n",
       "      <td>20151207_173447.jpg</td>\n",
       "      <td>4612636</td>\n",
       "      <td>NaN</td>\n",
       "      <td>Regular Price</td>\n",
       "      <td>768619.0</td>\n",
       "      <td>NaN</td>\n",
       "      <td>Germany</td>\n",
       "      <td>920.01</td>\n",
       "    </tr>\n",
       "  </tbody>\n",
       "</table>\n",
       "<p>2 rows × 22 columns</p>\n",
       "</div>"
      ],
      "text/plain": [
       "       COUNTRY  retailer  retailer_s        date  day  month    year       id  \\\n",
       "16971  GERMANY        27  GERMANY_27  2015-12-07  7.0   12.0  2015.0  1682592   \n",
       "17056  GERMANY        27  GERMANY_27  2015-12-07  7.0   12.0  2015.0  4612636   \n",
       "\n",
       "       price  price_online  ...   TIME ZIPCODE                PHOTO  \\\n",
       "16971  22.99         539.0  ...  16:36   67663  20151207_163638.jpg   \n",
       "17056   8.99         929.0  ...  17:34   67663  20151207_173447.jpg   \n",
       "\n",
       "      OTHERSKUITEM COMMENTS      PRICETYPE      CODE sale_online  country_s  \\\n",
       "16971      1682592      NaN  Regular Price  768619.0         NaN    Germany   \n",
       "17056      4612636      NaN  Regular Price  768619.0         NaN    Germany   \n",
       "\n",
       "       p_diff  \n",
       "16971  516.01  \n",
       "17056  920.01  \n",
       "\n",
       "[2 rows x 22 columns]"
      ]
     },
     "execution_count": 30,
     "metadata": {},
     "output_type": "execute_result"
    }
   ],
   "source": [
    "bpp.loc[lambda x: (x[\"p_diff\"] > 500) | (x[\"p_diff\"] < -500)]"
   ]
  },
  {
   "cell_type": "markdown",
   "id": "82d66c64",
   "metadata": {},
   "source": [
    "Remove them"
   ]
  },
  {
   "cell_type": "code",
   "execution_count": 31,
   "id": "ca8994dd",
   "metadata": {},
   "outputs": [],
   "source": [
    "bpp = bpp.loc[lambda x: (x[\"p_diff\"] < 500) & (x[\"p_diff\"] > -500)]"
   ]
  },
  {
   "cell_type": "markdown",
   "id": "b7872ccf",
   "metadata": {},
   "source": [
    "### Comparing different countries via graphs\n",
    "\n",
    "Create plot for each countries - histogram:\n",
    "\n",
    "Note: \n",
    "\n",
    "  1) if you only use one type of x or y, you can put it into the `aes()` of the ggplot. Otherwise not. \\\n",
    "  2) use 'fill=' in `aes()`, to define different groups. "
   ]
  },
  {
   "cell_type": "code",
   "execution_count": 32,
   "id": "b4db244e",
   "metadata": {},
   "outputs": [
    {
     "name": "stderr",
     "output_type": "stream",
     "text": [
      "/Library/Frameworks/Python.framework/Versions/3.10/lib/python3.10/site-packages/plotnine/layer.py:334: PlotnineWarning: stat_bin : Removed 494 rows containing non-finite values.\n",
      "/Library/Frameworks/Python.framework/Versions/3.10/lib/python3.10/site-packages/plotnine/layer.py:412: PlotnineWarning: geom_histogram : Removed 12 rows containing missing values.\n"
     ]
    },
    {
     "data": {
      "image/png": "[encoded data removed]",
      "text/plain": [
       "<Figure size 640x480 with 1 Axes>"
      ]
     },
     "metadata": {},
     "output_type": "display_data"
    },
    {
     "data": {
      "text/plain": [
       "<ggplot: (374845155)>"
      ]
     },
     "execution_count": 32,
     "metadata": {},
     "output_type": "execute_result"
    }
   ],
   "source": [
    "(\n",
    "    ggplot(bpp, aes(x=\"p_diff\", fill=\"COUNTRY\"))\n",
    "    + geom_histogram(aes(y=after_stat(\"density\")), bins=15, alpha=0.4)\n",
    "    + xlim(-4, 4)\n",
    "    + labs(x=\"Price Difference\", y=\"Relative Frequency\")\n",
    ")"
   ]
  },
  {
   "cell_type": "markdown",
   "id": "fcaddc28",
   "metadata": {},
   "source": [
    "Use the extra command `facet_wrap(~COUNTRY)` to create multiple plots for each country at once!"
   ]
  },
  {
   "cell_type": "code",
   "execution_count": 33,
   "id": "3f64f382",
   "metadata": {},
   "outputs": [
    {
     "name": "stderr",
     "output_type": "stream",
     "text": [
      "/Library/Frameworks/Python.framework/Versions/3.10/lib/python3.10/site-packages/plotnine/layer.py:334: PlotnineWarning: stat_bin : Removed 494 rows containing non-finite values.\n",
      "/Library/Frameworks/Python.framework/Versions/3.10/lib/python3.10/site-packages/plotnine/layer.py:412: PlotnineWarning: geom_histogram : Removed 12 rows containing missing values.\n"
     ]
    },
    {
     "data": {
      "image/png": "[encoded data removed]",
      "text/plain": [
       "<Figure size 640x480 with 6 Axes>"
      ]
     },
     "metadata": {},
     "output_type": "display_data"
    },
    {
     "data": {
      "text/plain": [
       "<ggplot: (374335810)>"
      ]
     },
     "execution_count": 33,
     "metadata": {},
     "output_type": "execute_result"
    }
   ],
   "source": [
    "(\n",
    "    ggplot(bpp, aes(x=\"p_diff\", fill=\"COUNTRY\"))\n",
    "    + geom_histogram(aes(y=after_stat(\"density\")), bins=15, alpha=0.4)\n",
    "    + xlim(-4, 4)\n",
    "    + labs(x=\"Price Difference\", y=\"Relative Frequency\")\n",
    "    + facet_wrap(\"~COUNTRY\")\n",
    ")"
   ]
  },
  {
   "cell_type": "markdown",
   "id": "0eca3e36",
   "metadata": {},
   "source": [
    "### Task \n",
    "1) You can also use  'color=' or 'group=' instead of 'fill='. Compare! What is the difference? \\"
   ]
  },
  {
   "cell_type": "markdown",
   "id": "53ac5864",
   "metadata": {},
   "source": [
    "Use color instead"
   ]
  },
  {
   "cell_type": "code",
   "execution_count": 34,
   "id": "c3d13695",
   "metadata": {},
   "outputs": [
    {
     "name": "stderr",
     "output_type": "stream",
     "text": [
      "/Library/Frameworks/Python.framework/Versions/3.10/lib/python3.10/site-packages/plotnine/layer.py:334: PlotnineWarning: stat_bin : Removed 494 rows containing non-finite values.\n",
      "/Library/Frameworks/Python.framework/Versions/3.10/lib/python3.10/site-packages/plotnine/layer.py:412: PlotnineWarning: geom_histogram : Removed 12 rows containing missing values.\n"
     ]
    },
    {
     "data": {
      "image/png": "[encoded data removed]",
      "text/plain": [
       "<Figure size 640x480 with 6 Axes>"
      ]
     },
     "metadata": {},
     "output_type": "display_data"
    },
    {
     "data": {
      "text/plain": [
       "<ggplot: (374294607)>"
      ]
     },
     "execution_count": 34,
     "metadata": {},
     "output_type": "execute_result"
    }
   ],
   "source": [
    "(\n",
    "    ggplot(bpp, aes(x=\"p_diff\", color=\"COUNTRY\"))\n",
    "    + geom_histogram(aes(y=after_stat(\"density\")), bins=15, alpha=0.4)\n",
    "    + xlim(-4, 4)\n",
    "    + labs(x=\"Price Difference\", y=\"Relative Frequency\")\n",
    "    + facet_wrap(\"~COUNTRY\")\n",
    ")"
   ]
  },
  {
   "cell_type": "markdown",
   "id": "52e43a60",
   "metadata": {},
   "source": [
    "Use group instead"
   ]
  },
  {
   "cell_type": "code",
   "execution_count": 35,
   "id": "5308b7e2",
   "metadata": {},
   "outputs": [
    {
     "name": "stderr",
     "output_type": "stream",
     "text": [
      "/Library/Frameworks/Python.framework/Versions/3.10/lib/python3.10/site-packages/plotnine/layer.py:334: PlotnineWarning: stat_bin : Removed 494 rows containing non-finite values.\n",
      "/Library/Frameworks/Python.framework/Versions/3.10/lib/python3.10/site-packages/plotnine/layer.py:412: PlotnineWarning: geom_histogram : Removed 12 rows containing missing values.\n"
     ]
    },
    {
     "data": {
      "image/png": "[encoded data removed]",
      "text/plain": [
       "<Figure size 640x480 with 6 Axes>"
      ]
     },
     "metadata": {},
     "output_type": "display_data"
    },
    {
     "data": {
      "text/plain": [
       "<ggplot: (374913841)>"
      ]
     },
     "execution_count": 35,
     "metadata": {},
     "output_type": "execute_result"
    }
   ],
   "source": [
    "(\n",
    "    ggplot(bpp, aes(x=\"p_diff\", group=\"COUNTRY\"))\n",
    "    + geom_histogram(aes(y=after_stat(\"density\")), bins=15, alpha=0.4)\n",
    "    + xlim(-4, 4)\n",
    "    + labs(x=\"Price Difference\", y=\"Relative Frequency\")\n",
    "    + facet_wrap(\"~COUNTRY\")\n",
    ")"
   ]
  },
  {
   "cell_type": "markdown",
   "id": "d5afe562",
   "metadata": {},
   "source": [
    "### Task\n",
    "\n",
    "1) Do the same, but use geom_density instead of geom_histogram! \\\n",
    "    You may play around with the xlim!\\\n",
    "2) Drop the `facet_wrap` command! What happens? Which graph would you use to tell your story in this case?\\\n",
    "What if instead of `fill` you use `color` or `group`\\"
   ]
  },
  {
   "cell_type": "markdown",
   "id": "0bee0fa9",
   "metadata": {},
   "source": [
    " 1) Density with multiple graphs"
   ]
  },
  {
   "cell_type": "code",
   "execution_count": 36,
   "id": "db0a00cc",
   "metadata": {},
   "outputs": [
    {
     "name": "stderr",
     "output_type": "stream",
     "text": [
      "/Library/Frameworks/Python.framework/Versions/3.10/lib/python3.10/site-packages/plotnine/layer.py:334: PlotnineWarning: stat_density : Removed 1121 rows containing non-finite values.\n"
     ]
    },
    {
     "data": {
      "image/png": "[encoded data removed]",
      "text/plain": [
       "<Figure size 640x480 with 6 Axes>"
      ]
     },
     "metadata": {},
     "output_type": "display_data"
    },
    {
     "data": {
      "text/plain": [
       "<ggplot: (383240991)>"
      ]
     },
     "execution_count": 36,
     "metadata": {},
     "output_type": "execute_result"
    }
   ],
   "source": [
    "(\n",
    "    ggplot(bpp, aes(x=\"p_diff\", fill=\"COUNTRY\"))\n",
    "    + geom_density(alpha=0.4, bw = 0.03)\n",
    "    + xlim(-1, 1)\n",
    "    + labs(x=\"Price Difference\", y=\"Relative Frequency\")\n",
    "    + facet_wrap(\"~COUNTRY\")\n",
    ")"
   ]
  },
  {
   "cell_type": "markdown",
   "id": "0e60d9d2",
   "metadata": {},
   "source": [
    "2) Density with single graphs:"
   ]
  },
  {
   "cell_type": "code",
   "execution_count": 37,
   "id": "9cb76447",
   "metadata": {},
   "outputs": [
    {
     "name": "stderr",
     "output_type": "stream",
     "text": [
      "/Library/Frameworks/Python.framework/Versions/3.10/lib/python3.10/site-packages/plotnine/layer.py:334: PlotnineWarning: stat_density : Removed 1121 rows containing non-finite values.\n"
     ]
    },
    {
     "data": {
      "image/png": "[encoded data removed]",
      "text/plain": [
       "<Figure size 640x480 with 1 Axes>"
      ]
     },
     "metadata": {},
     "output_type": "display_data"
    },
    {
     "data": {
      "text/plain": [
       "<ggplot: (374976642)>"
      ]
     },
     "execution_count": 37,
     "metadata": {},
     "output_type": "execute_result"
    }
   ],
   "source": [
    "# fill\n",
    "(\n",
    "    ggplot(bpp, aes(x=\"p_diff\", fill=\"COUNTRY\"))\n",
    "    + geom_density(alpha=0.4, bw = 0.03)\n",
    "    + xlim(-1, 1)\n",
    "    + labs(x=\"Price Difference\", y=\"Relative Frequency\")\n",
    ")"
   ]
  },
  {
   "cell_type": "code",
   "execution_count": 38,
   "id": "92cae0b2",
   "metadata": {},
   "outputs": [
    {
     "name": "stderr",
     "output_type": "stream",
     "text": [
      "/Library/Frameworks/Python.framework/Versions/3.10/lib/python3.10/site-packages/plotnine/layer.py:334: PlotnineWarning: stat_density : Removed 1121 rows containing non-finite values.\n"
     ]
    },
    {
     "data": {
      "image/png": "[encoded data removed]",
      "text/plain": [
       "<Figure size 640x480 with 1 Axes>"
      ]
     },
     "metadata": {},
     "output_type": "display_data"
    },
    {
     "data": {
      "text/plain": [
       "<ggplot: (374959663)>"
      ]
     },
     "execution_count": 38,
     "metadata": {},
     "output_type": "execute_result"
    }
   ],
   "source": [
    "# color\n",
    "(\n",
    "    ggplot(bpp, aes(x=\"p_diff\", color=\"COUNTRY\"))\n",
    "    + geom_density(alpha=0.4, bw = 0.03)\n",
    "    + xlim(-1, 1)\n",
    "    + labs(x=\"Price Difference\", y=\"Relative Frequency\")\n",
    ")"
   ]
  },
  {
   "cell_type": "code",
   "execution_count": 39,
   "id": "6c47cc2b",
   "metadata": {},
   "outputs": [
    {
     "name": "stderr",
     "output_type": "stream",
     "text": [
      "/Library/Frameworks/Python.framework/Versions/3.10/lib/python3.10/site-packages/plotnine/layer.py:334: PlotnineWarning: stat_density : Removed 1121 rows containing non-finite values.\n"
     ]
    },
    {
     "data": {
      "image/png": "[encoded data removed]",
      "text/plain": [
       "<Figure size 640x480 with 1 Axes>"
      ]
     },
     "metadata": {},
     "output_type": "display_data"
    },
    {
     "data": {
      "text/plain": [
       "<ggplot: (374205197)>"
      ]
     },
     "execution_count": 39,
     "metadata": {},
     "output_type": "execute_result"
    }
   ],
   "source": [
    "# group\n",
    "(\n",
    "    ggplot(bpp, aes(x=\"p_diff\", group=\"COUNTRY\"))\n",
    "    + geom_density(alpha=0.4, bw = 0.03)\n",
    "    + xlim(-1, 1)\n",
    "    + labs(x=\"Price Difference\", y=\"Relative Frequency\")\n",
    ")"
   ]
  },
  {
   "cell_type": "markdown",
   "id": "d2c44555",
   "metadata": {},
   "source": [
    "Which graph to use: I would definitely use single density graph with color. \\\n",
    "    It tells the story best: there are differences between countries!"
   ]
  },
  {
   "cell_type": "markdown",
   "id": "81c3e787",
   "metadata": {},
   "source": [
    "## Hypothesis testing"
   ]
  },
  {
   "cell_type": "markdown",
   "id": "8871f466",
   "metadata": {},
   "source": [
    "Test 1: \n",
    "\n",
    "H0: the average price difference between price_online - price = 0 \\\n",
    "HA: the avg price diff is non 0."
   ]
  },
  {
   "cell_type": "code",
   "execution_count": 40,
   "id": "4dd859e4",
   "metadata": {},
   "outputs": [],
   "source": [
    "from scipy import stats"
   ]
  },
  {
   "cell_type": "code",
   "execution_count": 41,
   "id": "a0c04873",
   "metadata": {},
   "outputs": [
    {
     "data": {
      "text/plain": [
       "Ttest_1sampResult(statistic=-2.620422555460335, pvalue=0.008798916974747767)"
      ]
     },
     "execution_count": 41,
     "metadata": {},
     "output_type": "execute_result"
    }
   ],
   "source": [
    "stats.ttest_1samp(bpp[\"p_diff\"], 0)"
   ]
  },
  {
   "cell_type": "markdown",
   "id": "09b944e4",
   "metadata": {},
   "source": [
    "Test 2: The online prices are smaller or equal to offline prices\n",
    "  \n",
    "H0: price_online - price = 0 \\\n",
    "HA: price_online - price >  0"
   ]
  },
  {
   "cell_type": "code",
   "execution_count": 42,
   "id": "780d2d21",
   "metadata": {},
   "outputs": [
    {
     "data": {
      "text/plain": [
       "Ttest_1sampResult(statistic=-2.620422555460335, pvalue=0.9956005415126261)"
      ]
     },
     "execution_count": 42,
     "metadata": {},
     "output_type": "execute_result"
    }
   ],
   "source": [
    "stats.ttest_1samp(bpp[\"p_diff\"], 0, alternative = \"greater\")"
   ]
  },
  {
   "cell_type": "markdown",
   "id": "0915ed47",
   "metadata": {},
   "source": [
    "Test 3: The online prices are larger or equal to offline prices\n",
    "    \n",
    "  H0: price_online - price = 0 \\\n",
    "  HA: price_online - price <  0"
   ]
  },
  {
   "cell_type": "code",
   "execution_count": 43,
   "id": "3bef4264",
   "metadata": {},
   "outputs": [
    {
     "data": {
      "text/plain": [
       "Ttest_1sampResult(statistic=-2.620422555460335, pvalue=0.004399458487373884)"
      ]
     },
     "execution_count": 43,
     "metadata": {},
     "output_type": "execute_result"
    }
   ],
   "source": [
    "stats.ttest_1samp(bpp[\"p_diff\"], 0, alternative = \"less\")"
   ]
  },
  {
   "cell_type": "markdown",
   "id": "3ee4ea88",
   "metadata": {},
   "source": [
    "Let us create multiple hypothesis tests: \\\n",
    "Check the hypothesis that online prices are the same as offline for each country!"
   ]
  },
  {
   "cell_type": "code",
   "execution_count": 44,
   "id": "e01f7c61",
   "metadata": {},
   "outputs": [
    {
     "data": {
      "text/html": [
       "<div>\n",
       "<style scoped>\n",
       "    .dataframe tbody tr th:only-of-type {\n",
       "        vertical-align: middle;\n",
       "    }\n",
       "\n",
       "    .dataframe tbody tr th {\n",
       "        vertical-align: top;\n",
       "    }\n",
       "\n",
       "    .dataframe thead th {\n",
       "        text-align: right;\n",
       "    }\n",
       "</style>\n",
       "<table border=\"1\" class=\"dataframe\">\n",
       "  <thead>\n",
       "    <tr style=\"text-align: right;\">\n",
       "      <th></th>\n",
       "      <th>mean_pdiff</th>\n",
       "      <th>se_pdiff</th>\n",
       "      <th>num_obs</th>\n",
       "    </tr>\n",
       "    <tr>\n",
       "      <th>COUNTRY</th>\n",
       "      <th></th>\n",
       "      <th></th>\n",
       "      <th></th>\n",
       "    </tr>\n",
       "  </thead>\n",
       "  <tbody>\n",
       "    <tr>\n",
       "      <th>BRAZIL</th>\n",
       "      <td>-0.905328</td>\n",
       "      <td>0.784719</td>\n",
       "      <td>122</td>\n",
       "    </tr>\n",
       "    <tr>\n",
       "      <th>CHINA</th>\n",
       "      <td>-0.510526</td>\n",
       "      <td>0.841118</td>\n",
       "      <td>19</td>\n",
       "    </tr>\n",
       "    <tr>\n",
       "      <th>GERMANY</th>\n",
       "      <td>3.679738</td>\n",
       "      <td>1.865770</td>\n",
       "      <td>420</td>\n",
       "    </tr>\n",
       "    <tr>\n",
       "      <th>JAPAN</th>\n",
       "      <td>-11.982857</td>\n",
       "      <td>2.146688</td>\n",
       "      <td>350</td>\n",
       "    </tr>\n",
       "    <tr>\n",
       "      <th>SOUTHAFRICA</th>\n",
       "      <td>-2.529723</td>\n",
       "      <td>0.831934</td>\n",
       "      <td>541</td>\n",
       "    </tr>\n",
       "    <tr>\n",
       "      <th>USA</th>\n",
       "      <td>0.054460</td>\n",
       "      <td>0.124552</td>\n",
       "      <td>6439</td>\n",
       "    </tr>\n",
       "  </tbody>\n",
       "</table>\n",
       "</div>"
      ],
      "text/plain": [
       "             mean_pdiff  se_pdiff  num_obs\n",
       "COUNTRY                                   \n",
       "BRAZIL        -0.905328  0.784719      122\n",
       "CHINA         -0.510526  0.841118       19\n",
       "GERMANY        3.679738  1.865770      420\n",
       "JAPAN        -11.982857  2.146688      350\n",
       "SOUTHAFRICA   -2.529723  0.831934      541\n",
       "USA            0.054460  0.124552     6439"
      ]
     },
     "execution_count": 44,
     "metadata": {},
     "output_type": "execute_result"
    }
   ],
   "source": [
    "testing = bpp.groupby(\"COUNTRY\").agg(\n",
    "    mean_pdiff=(\"p_diff\", \"mean\"),\n",
    "    se_pdiff=(\"p_diff\",\"sem\"),\n",
    "    num_obs=(\"p_diff\", \"count\"),\n",
    ")\n",
    "testing"
   ]
  },
  {
   "cell_type": "markdown",
   "id": "ea2617e0",
   "metadata": {},
   "source": [
    "Testing is easy if one understands the theory! \\\n",
    "t_stat: with this H0 and t-test: "
   ]
  },
  {
   "cell_type": "code",
   "execution_count": 45,
   "id": "90f34187",
   "metadata": {},
   "outputs": [
    {
     "data": {
      "text/html": [
       "<div>\n",
       "<style scoped>\n",
       "    .dataframe tbody tr th:only-of-type {\n",
       "        vertical-align: middle;\n",
       "    }\n",
       "\n",
       "    .dataframe tbody tr th {\n",
       "        vertical-align: top;\n",
       "    }\n",
       "\n",
       "    .dataframe thead th {\n",
       "        text-align: right;\n",
       "    }\n",
       "</style>\n",
       "<table border=\"1\" class=\"dataframe\">\n",
       "  <thead>\n",
       "    <tr style=\"text-align: right;\">\n",
       "      <th></th>\n",
       "      <th>mean_pdiff</th>\n",
       "      <th>se_pdiff</th>\n",
       "      <th>num_obs</th>\n",
       "      <th>t_stat</th>\n",
       "    </tr>\n",
       "    <tr>\n",
       "      <th>COUNTRY</th>\n",
       "      <th></th>\n",
       "      <th></th>\n",
       "      <th></th>\n",
       "      <th></th>\n",
       "    </tr>\n",
       "  </thead>\n",
       "  <tbody>\n",
       "    <tr>\n",
       "      <th>BRAZIL</th>\n",
       "      <td>-0.905328</td>\n",
       "      <td>0.784719</td>\n",
       "      <td>122</td>\n",
       "      <td>-1.153697</td>\n",
       "    </tr>\n",
       "    <tr>\n",
       "      <th>CHINA</th>\n",
       "      <td>-0.510526</td>\n",
       "      <td>0.841118</td>\n",
       "      <td>19</td>\n",
       "      <td>-0.606962</td>\n",
       "    </tr>\n",
       "    <tr>\n",
       "      <th>GERMANY</th>\n",
       "      <td>3.679738</td>\n",
       "      <td>1.865770</td>\n",
       "      <td>420</td>\n",
       "      <td>1.972236</td>\n",
       "    </tr>\n",
       "    <tr>\n",
       "      <th>JAPAN</th>\n",
       "      <td>-11.982857</td>\n",
       "      <td>2.146688</td>\n",
       "      <td>350</td>\n",
       "      <td>-5.582022</td>\n",
       "    </tr>\n",
       "    <tr>\n",
       "      <th>SOUTHAFRICA</th>\n",
       "      <td>-2.529723</td>\n",
       "      <td>0.831934</td>\n",
       "      <td>541</td>\n",
       "      <td>-3.040772</td>\n",
       "    </tr>\n",
       "    <tr>\n",
       "      <th>USA</th>\n",
       "      <td>0.054460</td>\n",
       "      <td>0.124552</td>\n",
       "      <td>6439</td>\n",
       "      <td>0.437248</td>\n",
       "    </tr>\n",
       "  </tbody>\n",
       "</table>\n",
       "</div>"
      ],
      "text/plain": [
       "             mean_pdiff  se_pdiff  num_obs    t_stat\n",
       "COUNTRY                                             \n",
       "BRAZIL        -0.905328  0.784719      122 -1.153697\n",
       "CHINA         -0.510526  0.841118       19 -0.606962\n",
       "GERMANY        3.679738  1.865770      420  1.972236\n",
       "JAPAN        -11.982857  2.146688      350 -5.582022\n",
       "SOUTHAFRICA   -2.529723  0.831934      541 -3.040772\n",
       "USA            0.054460  0.124552     6439  0.437248"
      ]
     },
     "execution_count": 45,
     "metadata": {},
     "output_type": "execute_result"
    }
   ],
   "source": [
    "testing[\"t_stat\"] = testing[\"mean_pdiff\"] / testing[\"se_pdiff\"]\n",
    "\n",
    "testing"
   ]
  },
  {
   "cell_type": "markdown",
   "id": "3d9e48ad",
   "metadata": {},
   "source": [
    "Calculate p-values"
   ]
  },
  {
   "cell_type": "code",
   "execution_count": 46,
   "id": "4170bb8d",
   "metadata": {},
   "outputs": [
    {
     "data": {
      "text/html": [
       "<div>\n",
       "<style scoped>\n",
       "    .dataframe tbody tr th:only-of-type {\n",
       "        vertical-align: middle;\n",
       "    }\n",
       "\n",
       "    .dataframe tbody tr th {\n",
       "        vertical-align: top;\n",
       "    }\n",
       "\n",
       "    .dataframe thead th {\n",
       "        text-align: right;\n",
       "    }\n",
       "</style>\n",
       "<table border=\"1\" class=\"dataframe\">\n",
       "  <thead>\n",
       "    <tr style=\"text-align: right;\">\n",
       "      <th></th>\n",
       "      <th>mean_pdiff</th>\n",
       "      <th>se_pdiff</th>\n",
       "      <th>num_obs</th>\n",
       "      <th>t_stat</th>\n",
       "      <th>p_val</th>\n",
       "    </tr>\n",
       "    <tr>\n",
       "      <th>COUNTRY</th>\n",
       "      <th></th>\n",
       "      <th></th>\n",
       "      <th></th>\n",
       "      <th></th>\n",
       "      <th></th>\n",
       "    </tr>\n",
       "  </thead>\n",
       "  <tbody>\n",
       "    <tr>\n",
       "      <th>BRAZIL</th>\n",
       "      <td>-0.905328</td>\n",
       "      <td>0.784719</td>\n",
       "      <td>122</td>\n",
       "      <td>-1.153697</td>\n",
       "      <td>1.254490e-01</td>\n",
       "    </tr>\n",
       "    <tr>\n",
       "      <th>CHINA</th>\n",
       "      <td>-0.510526</td>\n",
       "      <td>0.841118</td>\n",
       "      <td>19</td>\n",
       "      <td>-0.606962</td>\n",
       "      <td>2.757282e-01</td>\n",
       "    </tr>\n",
       "    <tr>\n",
       "      <th>GERMANY</th>\n",
       "      <td>3.679738</td>\n",
       "      <td>1.865770</td>\n",
       "      <td>420</td>\n",
       "      <td>1.972236</td>\n",
       "      <td>2.461995e-02</td>\n",
       "    </tr>\n",
       "    <tr>\n",
       "      <th>JAPAN</th>\n",
       "      <td>-11.982857</td>\n",
       "      <td>2.146688</td>\n",
       "      <td>350</td>\n",
       "      <td>-5.582022</td>\n",
       "      <td>2.390995e-08</td>\n",
       "    </tr>\n",
       "    <tr>\n",
       "      <th>SOUTHAFRICA</th>\n",
       "      <td>-2.529723</td>\n",
       "      <td>0.831934</td>\n",
       "      <td>541</td>\n",
       "      <td>-3.040772</td>\n",
       "      <td>1.237115e-03</td>\n",
       "    </tr>\n",
       "    <tr>\n",
       "      <th>USA</th>\n",
       "      <td>0.054460</td>\n",
       "      <td>0.124552</td>\n",
       "      <td>6439</td>\n",
       "      <td>0.437248</td>\n",
       "      <td>3.309730e-01</td>\n",
       "    </tr>\n",
       "  </tbody>\n",
       "</table>\n",
       "</div>"
      ],
      "text/plain": [
       "             mean_pdiff  se_pdiff  num_obs    t_stat         p_val\n",
       "COUNTRY                                                           \n",
       "BRAZIL        -0.905328  0.784719      122 -1.153697  1.254490e-01\n",
       "CHINA         -0.510526  0.841118       19 -0.606962  2.757282e-01\n",
       "GERMANY        3.679738  1.865770      420  1.972236  2.461995e-02\n",
       "JAPAN        -11.982857  2.146688      350 -5.582022  2.390995e-08\n",
       "SOUTHAFRICA   -2.529723  0.831934      541 -3.040772  1.237115e-03\n",
       "USA            0.054460  0.124552     6439  0.437248  3.309730e-01"
      ]
     },
     "execution_count": 46,
     "metadata": {},
     "output_type": "execute_result"
    }
   ],
   "source": [
    "testing[\"p_val\"] = stats.t.sf(abs(testing[\"t_stat\"]), df=testing[\"num_obs\"] - 1)\n",
    "\n",
    "testing"
   ]
  },
  {
   "cell_type": "markdown",
   "id": "4d44593b",
   "metadata": {},
   "source": [
    "Round it to 4 digits"
   ]
  },
  {
   "cell_type": "code",
   "execution_count": 47,
   "id": "03a7ddfb",
   "metadata": {},
   "outputs": [
    {
     "data": {
      "text/html": [
       "<div>\n",
       "<style scoped>\n",
       "    .dataframe tbody tr th:only-of-type {\n",
       "        vertical-align: middle;\n",
       "    }\n",
       "\n",
       "    .dataframe tbody tr th {\n",
       "        vertical-align: top;\n",
       "    }\n",
       "\n",
       "    .dataframe thead th {\n",
       "        text-align: right;\n",
       "    }\n",
       "</style>\n",
       "<table border=\"1\" class=\"dataframe\">\n",
       "  <thead>\n",
       "    <tr style=\"text-align: right;\">\n",
       "      <th></th>\n",
       "      <th>mean_pdiff</th>\n",
       "      <th>se_pdiff</th>\n",
       "      <th>num_obs</th>\n",
       "      <th>t_stat</th>\n",
       "      <th>p_val</th>\n",
       "    </tr>\n",
       "    <tr>\n",
       "      <th>COUNTRY</th>\n",
       "      <th></th>\n",
       "      <th></th>\n",
       "      <th></th>\n",
       "      <th></th>\n",
       "      <th></th>\n",
       "    </tr>\n",
       "  </thead>\n",
       "  <tbody>\n",
       "    <tr>\n",
       "      <th>BRAZIL</th>\n",
       "      <td>-0.905328</td>\n",
       "      <td>0.784719</td>\n",
       "      <td>122</td>\n",
       "      <td>-1.153697</td>\n",
       "      <td>0.1254</td>\n",
       "    </tr>\n",
       "    <tr>\n",
       "      <th>CHINA</th>\n",
       "      <td>-0.510526</td>\n",
       "      <td>0.841118</td>\n",
       "      <td>19</td>\n",
       "      <td>-0.606962</td>\n",
       "      <td>0.2757</td>\n",
       "    </tr>\n",
       "    <tr>\n",
       "      <th>GERMANY</th>\n",
       "      <td>3.679738</td>\n",
       "      <td>1.865770</td>\n",
       "      <td>420</td>\n",
       "      <td>1.972236</td>\n",
       "      <td>0.0246</td>\n",
       "    </tr>\n",
       "    <tr>\n",
       "      <th>JAPAN</th>\n",
       "      <td>-11.982857</td>\n",
       "      <td>2.146688</td>\n",
       "      <td>350</td>\n",
       "      <td>-5.582022</td>\n",
       "      <td>0.0000</td>\n",
       "    </tr>\n",
       "    <tr>\n",
       "      <th>SOUTHAFRICA</th>\n",
       "      <td>-2.529723</td>\n",
       "      <td>0.831934</td>\n",
       "      <td>541</td>\n",
       "      <td>-3.040772</td>\n",
       "      <td>0.0012</td>\n",
       "    </tr>\n",
       "    <tr>\n",
       "      <th>USA</th>\n",
       "      <td>0.054460</td>\n",
       "      <td>0.124552</td>\n",
       "      <td>6439</td>\n",
       "      <td>0.437248</td>\n",
       "      <td>0.3310</td>\n",
       "    </tr>\n",
       "  </tbody>\n",
       "</table>\n",
       "</div>"
      ],
      "text/plain": [
       "             mean_pdiff  se_pdiff  num_obs    t_stat   p_val\n",
       "COUNTRY                                                     \n",
       "BRAZIL        -0.905328  0.784719      122 -1.153697  0.1254\n",
       "CHINA         -0.510526  0.841118       19 -0.606962  0.2757\n",
       "GERMANY        3.679738  1.865770      420  1.972236  0.0246\n",
       "JAPAN        -11.982857  2.146688      350 -5.582022  0.0000\n",
       "SOUTHAFRICA   -2.529723  0.831934      541 -3.040772  0.0012\n",
       "USA            0.054460  0.124552     6439  0.437248  0.3310"
      ]
     },
     "execution_count": 47,
     "metadata": {},
     "output_type": "execute_result"
    }
   ],
   "source": [
    "testing[\"p_val\"] = testing[\"p_val\"].round(4)\n",
    "testing"
   ]
  },
  {
   "cell_type": "markdown",
   "id": "a598e67d",
   "metadata": {},
   "source": [
    "Interpret the results for each country! \\\n",
    "What are the possible dangers of multiple hypothesis testing?"
   ]
  },
  {
   "cell_type": "markdown",
   "id": "7a3db799",
   "metadata": {},
   "source": [
    "## Association\n",
    "\n",
    "Relation between two variables"
   ]
  },
  {
   "cell_type": "markdown",
   "id": "72a645cc",
   "metadata": {},
   "source": [
    "Association between online and retail prices: geom_point() will add dots to the graph"
   ]
  },
  {
   "cell_type": "code",
   "execution_count": 48,
   "id": "e7252751",
   "metadata": {},
   "outputs": [
    {
     "data": {
      "image/png": "[encoded data removed]",
      "text/plain": [
       "<Figure size 640x480 with 1 Axes>"
      ]
     },
     "metadata": {},
     "output_type": "display_data"
    },
    {
     "data": {
      "text/plain": [
       "<ggplot: (373991941)>"
      ]
     },
     "execution_count": 48,
     "metadata": {},
     "output_type": "execute_result"
    }
   ],
   "source": [
    "(\n",
    "    ggplot(bpp, aes(x=\"price_online\", y=\"price\"))\n",
    "    + geom_point(color=\"red\")\n",
    "    + labs(x=\"Price online\", y=\"Price retail\")\n",
    ")"
   ]
  },
  {
   "cell_type": "markdown",
   "id": "a8df4242",
   "metadata": {},
   "source": [
    "You can add a line (regression line to be specific),\\\n",
    "  by `geom_smooth()` function. It is a great function, \\\n",
    "     we now focus on `method=lm` which says it is a linear relation (linear model) \\\n",
    "     and formula, which identifies y and x. We will discuss these more in details later."
   ]
  },
  {
   "cell_type": "code",
   "execution_count": 49,
   "id": "ecd4d514",
   "metadata": {},
   "outputs": [
    {
     "data": {
      "image/png": "[encoded data removed]",
      "text/plain": [
       "<Figure size 640x480 with 1 Axes>"
      ]
     },
     "metadata": {},
     "output_type": "display_data"
    },
    {
     "data": {
      "text/plain": [
       "<ggplot: (383400012)>"
      ]
     },
     "execution_count": 49,
     "metadata": {},
     "output_type": "execute_result"
    }
   ],
   "source": [
    "(\n",
    "    ggplot(bpp, aes(x=\"price_online\", y=\"price\"))\n",
    "    + geom_point(color=\"red\")\n",
    "    + geom_smooth(method = \"lm\", formula = \"y ~ x\", color = \"blue\")\n",
    "    + labs(x=\"Price online\", y=\"Price retail\")\n",
    ")"
   ]
  },
  {
   "cell_type": "markdown",
   "id": "179f69a1",
   "metadata": {},
   "source": [
    "### Bin-scatter:\n",
    "\n",
    "In many case there are too many observations for a simple graph \\\n",
    "  and it does not tells the story we would like to. \\\n",
    "One solution is to do a `bin-scatter`, which put observations into bins. \\\n",
    "  The simplest way to do is use \"equal distances\": cut x-variable's range into k equally sized bins \\\n",
    "    and then calculate the same observations' y-variable e.g. mean (or median). \\ \n",
    "    - this is great: simple and intuitive (similar to histogram), \\\n",
    "      BUT it hides, how many observations are in each bin. \\\n",
    "        E.g. it can happen in the lowest valued bin there are many observations \\\n",
    "            and in the highest there is only one. \\\n",
    "       \n",
    "  The second option is use the same number of observations in each bin. \\\n",
    "    This will ensure that no such problem will rise. On the other hand it is harder to compute, \\\n",
    "     and the width of the bins will vary along x.\\"
   ]
  },
  {
   "cell_type": "markdown",
   "id": "44d43564",
   "metadata": {},
   "source": [
    "1) 'easy way': using equal distances and calculate mean for y\n",
    "   use `stat_summary_bin()`"
   ]
  },
  {
   "cell_type": "code",
   "execution_count": 50,
   "id": "b46b47b1",
   "metadata": {},
   "outputs": [
    {
     "data": {
      "image/png": "[encoded data removed]",
      "text/plain": [
       "<Figure size 640x480 with 1 Axes>"
      ]
     },
     "metadata": {},
     "output_type": "display_data"
    },
    {
     "data": {
      "text/plain": [
       "<ggplot: (383595824)>"
      ]
     },
     "execution_count": 50,
     "metadata": {},
     "output_type": "execute_result"
    }
   ],
   "source": [
    "ggplot(bpp, aes(x=\"price_online\", y=\"price\")) + stat_summary_bin(\n",
    "    fun_data=\"mean_se\", bins=10, geom=\"point\", color=\"red\", size=2\n",
    ")"
   ]
  },
  {
   "cell_type": "markdown",
   "id": "527e2a9b",
   "metadata": {},
   "source": [
    "2) 'easy way': using equal distances\n",
    "   group by countries, explain facet_wrap additional inputs!"
   ]
  },
  {
   "cell_type": "code",
   "execution_count": null,
   "id": "807d01e9",
   "metadata": {},
   "outputs": [],
   "source": [
    "(\n",
    "    ggplot(bpp, aes(x=\"price_online\", y=\"price\", color=\"COUNTRY\"))\n",
    "    + stat_summary_bin(fun_data=\"mean_se\", bins=10, geom=\"point\", size=2)\n",
    "    + labs(x=\"Price online\", y=\"Price offline\", color=\"Country\")\n",
    "    + facet_wrap(\"~COUNTRY\", scales=\"free\", ncol=2)\n",
    "    + theme(legend_position=\"none\")\n",
    "    + geom_smooth(method=\"lm\", formula=\"y~x\", se = False)\n",
    ")"
   ]
  },
  {
   "cell_type": "markdown",
   "id": "a42d2646",
   "metadata": {},
   "source": [
    "#### Bin-scatter 2 \n",
    "\n",
    "Using percentiles instead of equally sized bins to ensure same number of observations!"
   ]
  },
  {
   "cell_type": "markdown",
   "id": "78f51c28",
   "metadata": {},
   "source": [
    "As there is no built-in function for this, we need to do some work:"
   ]
  },
  {
   "cell_type": "markdown",
   "id": "dcf9c332",
   "metadata": {},
   "source": [
    "First, cut the y variable into 10 equally sized categories"
   ]
  },
  {
   "cell_type": "code",
   "execution_count": null,
   "id": "c5143467",
   "metadata": {},
   "outputs": [],
   "source": [
    "bpp[\"price_online_10b\"] = pd.qcut(bpp[\"price_online\"], 10).values"
   ]
  },
  {
   "cell_type": "markdown",
   "id": "54616d74",
   "metadata": {},
   "source": [
    "Select these new intervals and the y-variable \\\n",
    "then group by the intervals and calculate some descriptive statistics! \\\n",
    "from these descriptive statistics we can choose which to show on the y-axis!"
   ]
  },
  {
   "cell_type": "code",
   "execution_count": null,
   "id": "e54a4576",
   "metadata": {},
   "outputs": [],
   "source": [
    "bpp.groupby(\"price_online_10b\").agg(\n",
    "    p_min=(\"price\", \"min\"),\n",
    "    p_max=(\"price\", \"max\"),\n",
    "    p_mean=(\"price\", \"mean\"),\n",
    "    p_median=(\"price\", \"median\"),\n",
    "    p_sd=(\"price\", \"std\"),\n",
    "    p_num_obs=(\"price\", \"count\"),\n",
    ")"
   ]
  },
  {
   "cell_type": "markdown",
   "id": "6d4254c6",
   "metadata": {},
   "source": [
    "Get mean of each category for x axis labels"
   ]
  },
  {
   "cell_type": "code",
   "execution_count": null,
   "id": "57c1777d",
   "metadata": {},
   "outputs": [],
   "source": [
    "bpp[\"mid_point\"] = bpp.groupby(\"price_online_10b\")[\"price_online\"].transform(\"mean\")"
   ]
  },
  {
   "cell_type": "markdown",
   "id": "7ea2f7eb",
   "metadata": {},
   "source": [
    "Now, calculate mean price for each midpoint"
   ]
  },
  {
   "cell_type": "code",
   "execution_count": null,
   "id": "b812db99",
   "metadata": {},
   "outputs": [],
   "source": [
    "bs_summary = bpp.groupby(\"mid_point\")[\"price\"].mean().reset_index()"
   ]
  },
  {
   "cell_type": "code",
   "execution_count": null,
   "id": "75454930",
   "metadata": {},
   "outputs": [],
   "source": [
    "bs_summary"
   ]
  },
  {
   "cell_type": "code",
   "execution_count": null,
   "id": "e2328ea0",
   "metadata": {},
   "outputs": [],
   "source": [
    "(\n",
    "    ggplot(bs_summary, aes(x=\"mid_point\", y=\"price\"))\n",
    "    + geom_point()\n",
    "    + geom_point(size=2, color=\"red\")\n",
    "    + labs(x=\"Online prices\", y=\"Retail prices\")\n",
    ")"
   ]
  },
  {
   "cell_type": "markdown",
   "id": "a816bb05",
   "metadata": {},
   "source": [
    "Add x and y limits to check smaller values"
   ]
  },
  {
   "cell_type": "code",
   "execution_count": null,
   "id": "a510fe24",
   "metadata": {},
   "outputs": [],
   "source": [
    "(\n",
    "    ggplot(bs_summary, aes(x=\"mid_point\", y=\"price\"))\n",
    "    + geom_point()\n",
    "    + geom_point(size=2, color=\"red\")\n",
    "    + labs(x=\"Online prices\", y=\"Retail prices\")\n",
    "    + xlim(0, 100)\n",
    "    + ylim(0, 100)\n",
    ")"
   ]
  },
  {
   "cell_type": "markdown",
   "id": "c74f92f2",
   "metadata": {},
   "source": [
    "## Correlation and plots with factors"
   ]
  },
  {
   "cell_type": "markdown",
   "id": "d1e8d8de",
   "metadata": {},
   "source": [
    "Often we would like to measure an association: \\\n",
    "covariance and correlation for mean-dependence"
   ]
  },
  {
   "cell_type": "markdown",
   "id": "eb95f66a",
   "metadata": {},
   "source": [
    "Covariance matrix"
   ]
  },
  {
   "cell_type": "code",
   "execution_count": null,
   "id": "52584b10",
   "metadata": {},
   "outputs": [],
   "source": [
    "bpp.filter([\"price\",\"price_online\"]).cov()"
   ]
  },
  {
   "cell_type": "markdown",
   "id": "8a6511ab",
   "metadata": {},
   "source": [
    "Correlation"
   ]
  },
  {
   "cell_type": "code",
   "execution_count": null,
   "id": "01f68fd8",
   "metadata": {},
   "outputs": [],
   "source": [
    "bpp.filter([\"price\",\"price_online\"]).corr()"
   ]
  },
  {
   "cell_type": "markdown",
   "id": "412f1fa9",
   "metadata": {},
   "source": [
    "Make a correlation table, including correlation for each country"
   ]
  },
  {
   "cell_type": "code",
   "execution_count": null,
   "id": "38d7ce85",
   "metadata": {},
   "outputs": [],
   "source": [
    "corr_table = bpp.groupby(\"COUNTRY\")[\"price\"].corr(bpp[\"price_online\"]).rename(\"correlation\").reset_index()\n",
    "\n",
    "corr_table"
   ]
  },
  {
   "cell_type": "markdown",
   "id": "d8af2d96",
   "metadata": {},
   "source": [
    "Graph to show the correlation pattern by each country: \\\n",
    "\"reorder\" will reorder the countries by their correlation"
   ]
  },
  {
   "cell_type": "code",
   "execution_count": null,
   "id": "4d4409a1",
   "metadata": {},
   "outputs": [],
   "source": [
    "(\n",
    "    ggplot(corr_table, aes(x=\"correlation\", y=\"reorder(COUNTRY, correlation)\"))\n",
    "    + geom_point(color=\"red\", size=2)\n",
    "    + labs(y=\"Countries\", x=\"Correlation\")\n",
    ")"
   ]
  },
  {
   "cell_type": "markdown",
   "id": "a275e19e",
   "metadata": {},
   "source": [
    "### Task\n",
    "\n",
    "Check the same for years and countries to check how the pattern altered!\n",
    "\n",
    "Note: \\\n",
    "    1) use color for prettier output with factor \\\n",
    "    2) You can alter the legend labels with `color=`"
   ]
  },
  {
   "cell_type": "code",
   "execution_count": null,
   "id": "045e5068",
   "metadata": {},
   "outputs": [],
   "source": [
    "corr_table2 = bpp.groupby([\"year\",\"COUNTRY\"])[\"price\"].corr(bpp[\"price_online\"]).rename(\"correlation\").reset_index()\n",
    "\n",
    "corr_table2"
   ]
  },
  {
   "cell_type": "code",
   "execution_count": null,
   "id": "a04430be",
   "metadata": {},
   "outputs": [],
   "source": [
    "(\n",
    "    ggplot(\n",
    "        corr_table2,\n",
    "        aes(x=\"correlation\", y=\"reorder(COUNTRY, correlation)\", color=\"factor(year)\"),\n",
    "    )\n",
    "    + geom_point(size=2)\n",
    "    + labs(y=\"Countries\", x=\"Correlation\", color=\"Year\")\n",
    ")"
   ]
  },
  {
   "cell_type": "code",
   "execution_count": null,
   "id": "511c7f05",
   "metadata": {},
   "outputs": [],
   "source": []
  }
 ],
 "metadata": {
  "kernelspec": {
   "display_name": "Python 3 (ipykernel)",
   "language": "python",
   "name": "python3"
  },
  "language_info": {
   "codemirror_mode": {
    "name": "ipython",
    "version": 3
   },
   "file_extension": ".py",
   "mimetype": "text/x-python",
   "name": "python",
   "nbconvert_exporter": "python",
   "pygments_lexer": "ipython3",
   "version": "3.10.1"
  }
 },
 "nbformat": 4,
 "nbformat_minor": 5
}
