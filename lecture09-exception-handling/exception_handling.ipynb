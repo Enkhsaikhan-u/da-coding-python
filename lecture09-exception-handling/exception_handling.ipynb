{
 "cells": [
  {
   "cell_type": "markdown",
   "id": "3037f2b2-e21d-4ccd-85e1-167998d299e2",
   "metadata": {},
   "source": [
    "# Lecture 9\n",
    "\n",
    "## Exception Handling\n",
    "\n",
    "---"
   ]
  },
  {
   "cell_type": "markdown",
   "id": "695bc9bd-629d-4610-b662-b96d870097db",
   "metadata": {},
   "source": [
    "## Exception Handling (Try Except)"
   ]
  },
  {
   "cell_type": "markdown",
   "id": "5f339c7c-535c-4761-86ff-cfc847e155dd",
   "metadata": {},
   "source": [
    "`Exceptions` handle errors in the code. They let you write contructs so that your program falls back to somewhere else if an error blocks the normal run of your code. "
   ]
  },
  {
   "cell_type": "markdown",
   "id": "c5a70f13-d4a8-4026-bc16-abdbf0476b5b",
   "metadata": {},
   "source": [
    "The `try` block lets you test a block of code for errors. <br>\n",
    "The `except` block lets you handle the error.<br>\n",
    "The `else` block is to be executed if no errors were raised.<br>\n",
    "The `finally` block lets you execute code, regardless of the result of the try- and except blocks.<br>"
   ]
  },
  {
   "cell_type": "code",
   "execution_count": 1,
   "id": "a280322d-696d-48de-ab6d-df87f30114a3",
   "metadata": {},
   "outputs": [
    {
     "name": "stdout",
     "output_type": "stream",
     "text": [
      "test\n",
      "Caught an exception\n"
     ]
    }
   ],
   "source": [
    "try:\n",
    "    print(\"test\")\n",
    "    # generate an error: the variable test is not defined\n",
    "    print(test)\n",
    "    \n",
    "except:\n",
    "    print(\"Caught an exception\")"
   ]
  },
  {
   "cell_type": "markdown",
   "id": "4d31a4e1-50c4-4940-ba85-d4fde4ce5d4d",
   "metadata": {},
   "source": [
    "To get information about the error, we can access the `Exception` class instance that describes the exception by using for example:\n",
    "\n",
    "    except Exception as e:"
   ]
  },
  {
   "cell_type": "code",
   "execution_count": 2,
   "id": "3e108b0d-ca61-4fcf-955b-82885c3d6b74",
   "metadata": {},
   "outputs": [
    {
     "name": "stdout",
     "output_type": "stream",
     "text": [
      "test\n",
      "The problem with our code is the following: name 'test' is not defined\n"
     ]
    }
   ],
   "source": [
    "try:\n",
    "    print(\"test\")\n",
    "    # generate an error: the variable test is not defined\n",
    "    print(test)\n",
    "    \n",
    "except Exception as e:\n",
    "    print(\"The problem with our code is the following: \" + str(e))"
   ]
  },
  {
   "cell_type": "markdown",
   "id": "23d8cafd-1c9b-4b08-8d29-8d92b4203d40",
   "metadata": {},
   "source": [
    "<br> Let's define two functions! "
   ]
  },
  {
   "cell_type": "code",
   "execution_count": 3,
   "id": "fd868cbc-8766-46ac-95c6-dd4194a29328",
   "metadata": {
    "tags": []
   },
   "outputs": [],
   "source": [
    "def add_two_numbers(a, b):\n",
    "    return a + b"
   ]
  },
  {
   "cell_type": "code",
   "execution_count": 4,
   "id": "c1b96f43-a511-40d1-9ecf-19eabbcc4f8a",
   "metadata": {
    "tags": []
   },
   "outputs": [],
   "source": [
    "def divide_two_numbers(a, b):\n",
    "    \n",
    "    try: \n",
    "        result = a / b\n",
    "    \n",
    "    except Exception as e:\n",
    "        pass\n",
    "        \n",
    "    else:\n",
    "        return result"
   ]
  },
  {
   "cell_type": "code",
   "execution_count": 5,
   "id": "282448b1-42eb-48d4-8735-bfdccd2c219d",
   "metadata": {},
   "outputs": [
    {
     "data": {
      "text/plain": [
       "8"
      ]
     },
     "execution_count": 5,
     "metadata": {},
     "output_type": "execute_result"
    }
   ],
   "source": [
    "add_two_numbers(3, 5)"
   ]
  },
  {
   "cell_type": "markdown",
   "id": "0b7657c7-6ceb-4ccb-b521-e6a8eac52e5b",
   "metadata": {},
   "source": [
    "If we call our function we run into an error and our script stops running. "
   ]
  },
  {
   "cell_type": "code",
   "execution_count": 6,
   "id": "65f49b77-dcb7-4239-aee9-9af8388e55be",
   "metadata": {},
   "outputs": [
    {
     "ename": "TypeError",
     "evalue": "unsupported operand type(s) for +: 'int' and 'str'",
     "output_type": "error",
     "traceback": [
      "\u001b[1;31m---------------------------------------------------------------------------\u001b[0m",
      "\u001b[1;31mTypeError\u001b[0m                                 Traceback (most recent call last)",
      "\u001b[1;32m<ipython-input-6-507eb0a56de3>\u001b[0m in \u001b[0;36m<module>\u001b[1;34m\u001b[0m\n\u001b[1;32m----> 1\u001b[1;33m \u001b[0madd_two_numbers\u001b[0m\u001b[1;33m(\u001b[0m\u001b[1;36m3\u001b[0m\u001b[1;33m,\u001b[0m \u001b[1;34m'b'\u001b[0m\u001b[1;33m)\u001b[0m\u001b[1;33m\u001b[0m\u001b[1;33m\u001b[0m\u001b[0m\n\u001b[0m",
      "\u001b[1;32m<ipython-input-3-e51a774e9038>\u001b[0m in \u001b[0;36madd_two_numbers\u001b[1;34m(a, b)\u001b[0m\n\u001b[0;32m      1\u001b[0m \u001b[1;32mdef\u001b[0m \u001b[0madd_two_numbers\u001b[0m\u001b[1;33m(\u001b[0m\u001b[0ma\u001b[0m\u001b[1;33m,\u001b[0m \u001b[0mb\u001b[0m\u001b[1;33m)\u001b[0m\u001b[1;33m:\u001b[0m\u001b[1;33m\u001b[0m\u001b[1;33m\u001b[0m\u001b[0m\n\u001b[1;32m----> 2\u001b[1;33m     \u001b[1;32mreturn\u001b[0m \u001b[0ma\u001b[0m \u001b[1;33m+\u001b[0m \u001b[0mb\u001b[0m\u001b[1;33m\u001b[0m\u001b[1;33m\u001b[0m\u001b[0m\n\u001b[0m",
      "\u001b[1;31mTypeError\u001b[0m: unsupported operand type(s) for +: 'int' and 'str'"
     ]
    }
   ],
   "source": [
    "add_two_numbers(3, 'b')"
   ]
  },
  {
   "cell_type": "markdown",
   "id": "57c3dc95-7e6a-4754-80de-8577c6505945",
   "metadata": {},
   "source": [
    "We can handle the error and  - for instance - call our user to modify the inputs."
   ]
  },
  {
   "cell_type": "code",
   "execution_count": 7,
   "id": "f8636462-43cc-4fed-88d1-7410bea183e6",
   "metadata": {},
   "outputs": [
    {
     "name": "stdout",
     "output_type": "stream",
     "text": [
      "We ran into this error: unsupported operand type(s) for +: 'int' and 'str'. Try another input.\n"
     ]
    }
   ],
   "source": [
    "try:\n",
    "    add_two_numbers(3, 'b')\n",
    "except Exception as e:\n",
    "    print('We ran into this error: ' + str(e) + '.', 'Try another input.')"
   ]
  },
  {
   "cell_type": "markdown",
   "id": "b09a9d9a-9fd0-41e7-8ad4-e745bf617ae9",
   "metadata": {},
   "source": [
    "And what happens here? "
   ]
  },
  {
   "cell_type": "code",
   "execution_count": 8,
   "id": "d68db218-956a-4b6c-94ae-4b7ed13d5723",
   "metadata": {},
   "outputs": [
    {
     "name": "stdout",
     "output_type": "stream",
     "text": [
      "Everything went fine.\n"
     ]
    }
   ],
   "source": [
    "try:\n",
    "    divide_two_numbers(3, 'b') # This function already handles the error inside thus a string input does not crash the function!\n",
    "except Exception as e:\n",
    "    print('We ran into this error: ' + str(e))\n",
    "else:\n",
    "    print('Everything went fine.')"
   ]
  },
  {
   "cell_type": "markdown",
   "id": "1d7e201f-9070-4990-8e0c-73b5ff0aa76b",
   "metadata": {},
   "source": [
    "Our `try - except` block did not throw an error, since the function already handled it. Nevertheless, we did not get any result back. \n",
    "\n",
    "If we decide to handle the exceptions inside the function, but we do want to enter the `except` block in case of an inproprer input, we can `raise` the exception inside the function. This is a useful trick when we handle various exceptions inside the function but we want to throw an error in certain cases only. "
   ]
  },
  {
   "cell_type": "code",
   "execution_count": 9,
   "id": "e7ffdd17-6af9-4020-9a93-9ce125157f2f",
   "metadata": {},
   "outputs": [],
   "source": [
    "def division(a,b):\n",
    "    \n",
    "    try:\n",
    "        result = a / b\n",
    "        \n",
    "    except ZeroDivisionError:\n",
    "        print('Division by zero. Use a non-zero denominator!')\n",
    "        \n",
    "    except Exception as e:\n",
    "        print('Exited with error: ' + str(e) + '.')\n",
    "        raise\n",
    "    \n",
    "    else: \n",
    "        return result"
   ]
  },
  {
   "cell_type": "code",
   "execution_count": 10,
   "id": "bcedd700-0dcc-46ea-be3c-8f7ece6fc127",
   "metadata": {},
   "outputs": [
    {
     "name": "stdout",
     "output_type": "stream",
     "text": [
      "Division by zero. Use a non-zero denominator!\n"
     ]
    }
   ],
   "source": [
    "# Here the function will not throw an error, only tells the user about the false input. The code would continue running. \n",
    "division(30, 0)"
   ]
  },
  {
   "cell_type": "code",
   "execution_count": 11,
   "id": "eae74039-c304-4201-b9db-bc3f08d3703e",
   "metadata": {},
   "outputs": [
    {
     "name": "stdout",
     "output_type": "stream",
     "text": [
      "Exited with error: unsupported operand type(s) for /: 'int' and 'str'.\n"
     ]
    },
    {
     "ename": "TypeError",
     "evalue": "unsupported operand type(s) for /: 'int' and 'str'",
     "output_type": "error",
     "traceback": [
      "\u001b[1;31m---------------------------------------------------------------------------\u001b[0m",
      "\u001b[1;31mTypeError\u001b[0m                                 Traceback (most recent call last)",
      "\u001b[1;32m<ipython-input-11-0e187cd81ff5>\u001b[0m in \u001b[0;36m<module>\u001b[1;34m\u001b[0m\n\u001b[0;32m      1\u001b[0m \u001b[1;31m# This is an unhandled error which stops the code running.\u001b[0m\u001b[1;33m\u001b[0m\u001b[1;33m\u001b[0m\u001b[1;33m\u001b[0m\u001b[0m\n\u001b[1;32m----> 2\u001b[1;33m \u001b[0mdivision\u001b[0m\u001b[1;33m(\u001b[0m\u001b[1;36m30\u001b[0m\u001b[1;33m,\u001b[0m \u001b[1;34m'a'\u001b[0m\u001b[1;33m)\u001b[0m\u001b[1;33m\u001b[0m\u001b[1;33m\u001b[0m\u001b[0m\n\u001b[0m",
      "\u001b[1;32m<ipython-input-9-c548b74b1caf>\u001b[0m in \u001b[0;36mdivision\u001b[1;34m(a, b)\u001b[0m\n\u001b[0;32m      2\u001b[0m \u001b[1;33m\u001b[0m\u001b[0m\n\u001b[0;32m      3\u001b[0m     \u001b[1;32mtry\u001b[0m\u001b[1;33m:\u001b[0m\u001b[1;33m\u001b[0m\u001b[1;33m\u001b[0m\u001b[0m\n\u001b[1;32m----> 4\u001b[1;33m         \u001b[0mresult\u001b[0m \u001b[1;33m=\u001b[0m \u001b[0ma\u001b[0m \u001b[1;33m/\u001b[0m \u001b[0mb\u001b[0m\u001b[1;33m\u001b[0m\u001b[1;33m\u001b[0m\u001b[0m\n\u001b[0m\u001b[0;32m      5\u001b[0m \u001b[1;33m\u001b[0m\u001b[0m\n\u001b[0;32m      6\u001b[0m     \u001b[1;32mexcept\u001b[0m \u001b[0mZeroDivisionError\u001b[0m\u001b[1;33m:\u001b[0m\u001b[1;33m\u001b[0m\u001b[1;33m\u001b[0m\u001b[0m\n",
      "\u001b[1;31mTypeError\u001b[0m: unsupported operand type(s) for /: 'int' and 'str'"
     ]
    }
   ],
   "source": [
    "# This is an unhandled error which stops the code running. \n",
    "division(30, 'a')"
   ]
  },
  {
   "cell_type": "code",
   "execution_count": 12,
   "id": "044738df-28ac-4749-87b6-e958f4c4e6a3",
   "metadata": {},
   "outputs": [
    {
     "data": {
      "text/plain": [
       "4.285714285714286"
      ]
     },
     "execution_count": 12,
     "metadata": {},
     "output_type": "execute_result"
    }
   ],
   "source": [
    "# In this case we enter the 'else' branch. \n",
    "division(30,7)"
   ]
  },
  {
   "cell_type": "markdown",
   "id": "560e6037-b55b-4050-ba9a-c6b36efd3082",
   "metadata": {},
   "source": [
    "As you see, a `try - except` block can have multiple `except` branches so different errors can be handled in different ways. You can read about Python's various exception types in the documentation of [built-in exceptions](https://docs.python.org/3.8/library/exceptions.html). "
   ]
  },
  {
   "cell_type": "markdown",
   "id": "ac41476b-9701-4d4e-a4fe-9c01fec46bca",
   "metadata": {},
   "source": [
    "Note: we used to following code for printing the exception itself:\n",
    "```\n",
    "print(str(e))\n",
    "```\n",
    "This is because the `e` is an `Exception` class object, and as such cannot be the input of the `print()` function. The `str()` method calls the *string representation* of this object which then can be printed. "
   ]
  }
 ],
 "metadata": {
  "kernelspec": {
   "display_name": "Python 3",
   "language": "python",
   "name": "python3"
  },
  "language_info": {
   "codemirror_mode": {
    "name": "ipython",
    "version": 3
   },
   "file_extension": ".py",
   "mimetype": "text/x-python",
   "name": "python",
   "nbconvert_exporter": "python",
   "pygments_lexer": "ipython3",
   "version": "3.6.13"
  }
 },
 "nbformat": 4,
 "nbformat_minor": 5
}
