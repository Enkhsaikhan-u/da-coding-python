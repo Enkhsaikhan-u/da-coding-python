{
 "cells": [
  {
   "cell_type": "markdown",
   "id": "ffd867f7",
   "metadata": {},
   "source": [
    "# Lecture 11\n",
    "\n",
    "## Feature Engineering <a class=\"anchor\" id=\"TOC\"></a>\n",
    "\n",
    "### [Part I](#part1): World-Management Survey Data \n",
    "                                                               \n",
    "  - Creating new variable(s) from multiple           \n",
    "       already existing (mean of multiple variable)  \n",
    "  - Grouping a categorical variable:                 \n",
    "       countries to continents                       \n",
    "  - Ordered variables:                               \n",
    "     - creating an ordered factor                    \n",
    "         from character or integer                   \n",
    "     - creating an ordered                           \n",
    "         from numeric                                \n",
    "  - Factors or dummy variables:                      \n",
    "       creating multiple dummies                     \n",
    "  - Extra: intro to principal component analysis     \n",
    "                                                     \n",
    "                                                     \n",
    "### [PART II](#part2): Bisnode Data                                   \n",
    "                                                     \n",
    "\n",
    "- imputing:                                     \n",
    "    - A: replacing with mean or median            \n",
    "    - B: outside knowledge to replace values      \n",
    "    - C: introduce new value:                     \n",
    "        - only for categorical values           \n",
    "- log transformation adjustment:                \n",
    "        log(0) is -Inf -> adjust numerically        \n",
    "- create dummy variable(s) with                 \n",
    "        multiple statements: using lead() function  \n",
    "- randomizing large data for visualization      \n",
    "- growth rate with log difference:\n",
    "    - using lag() function                      \n",
    "- winsorizing                                   \n",
    "\n",
    "___"
   ]
  },
  {
   "cell_type": "markdown",
   "id": "c2efd22f",
   "metadata": {},
   "source": [
    "Import packages"
   ]
  },
  {
   "cell_type": "code",
   "execution_count": null,
   "id": "28f5783b",
   "metadata": {},
   "outputs": [],
   "source": [
    "import pandas as pd\n",
    "import numpy as np\n",
    "from plotnine import *\n",
    "import warnings\n",
    "\n",
    "%matplotlib inline\n",
    "warnings.filterwarnings(\"ignore\")"
   ]
  },
  {
   "cell_type": "markdown",
   "id": "f3b3de35",
   "metadata": {},
   "source": [
    "## Part I<a class = 'anchor' id = 'part1'></a>"
   ]
  },
  {
   "cell_type": "markdown",
   "id": "19aaf3bf",
   "metadata": {},
   "source": [
    " World-Management Survey Data\n",
    "  - Creating new variable(s) from multiple already existing (mean of multiple variable)\n",
    "  - Grouping a categorical variable: countries to continents\n",
    "  - Ordered variables:\n",
    "     - creating an ordered factor variable from character or integer variables\n",
    "     - creating an ordered variable from numeric\n",
    "  - Factors or dummy variables: creating multiple dummies"
   ]
  },
  {
   "cell_type": "markdown",
   "id": "2962fad2",
   "metadata": {},
   "source": [
    "Import World-Management Survey Data"
   ]
  },
  {
   "cell_type": "code",
   "execution_count": null,
   "id": "dc90596c",
   "metadata": {},
   "outputs": [],
   "source": [
    "wms  = pd.read_csv(\"https://osf.io/uzpce/download\")\n",
    "\n",
    "wms.head()"
   ]
  },
  {
   "cell_type": "markdown",
   "id": "e56b2f32",
   "metadata": {},
   "source": [
    "### Creating a continuous variable out of ordered variables\n",
    "\n",
    "Trick: lean, perf and talent measures, but multiple variables.\\\n",
    "    1. `filter(regex=)` will select these variables.\n",
    "    2. calculate average with `mean(axis=1)` for each observation"
   ]
  },
  {
   "cell_type": "code",
   "execution_count": null,
   "id": "ec970c36",
   "metadata": {},
   "outputs": [],
   "source": [
    "wms[\"avg_score\"] = wms.filter(regex=\"lean|perf|talent\").mean(axis=1)"
   ]
  },
  {
   "cell_type": "code",
   "execution_count": null,
   "id": "cb837a32",
   "metadata": {},
   "outputs": [],
   "source": [
    "wms[\"avg_score\"].describe()"
   ]
  },
  {
   "cell_type": "markdown",
   "id": "e07f17e7",
   "metadata": {},
   "source": [
    "#### Task:\n",
    "   create the sum of `aa_` variables \\\n",
    "   check that the resulting variable has value of 1 for each observation as `aa_` variables are dummies for industry code"
   ]
  },
  {
   "cell_type": "code",
   "execution_count": null,
   "id": "c35384e1",
   "metadata": {},
   "outputs": [],
   "source": [
    "wms[\"sum_aa\"] = wms.filter(regex=\"aa_\").sum(axis=1)\n",
    "wms[\"sum_aa\"].describe()"
   ]
  },
  {
   "cell_type": "markdown",
   "id": "8a7b93b2",
   "metadata": {},
   "source": [
    "### Grouping categorical\n",
    "\n",
    "Creating groups by continents -> reducing dimensionality of a categorical variable\n"
   ]
  },
  {
   "cell_type": "code",
   "execution_count": null,
   "id": "479416f9",
   "metadata": {},
   "outputs": [],
   "source": [
    "wms[\"country\"].value_counts()"
   ]
  },
  {
   "cell_type": "code",
   "execution_count": null,
   "id": "f7cb57a4",
   "metadata": {},
   "outputs": [],
   "source": [
    "wms[\"country\"].value_counts(normalize = True)"
   ]
  },
  {
   "cell_type": "markdown",
   "id": "bb1230a6",
   "metadata": {},
   "source": [
    "`pycountry_convert` module converts country names to country codes and continents"
   ]
  },
  {
   "cell_type": "code",
   "execution_count": null,
   "id": "022bd5b5",
   "metadata": {},
   "outputs": [],
   "source": [
    "import pycountry_convert as pc"
   ]
  },
  {
   "cell_type": "markdown",
   "id": "413962e1",
   "metadata": {},
   "source": [
    "Note: Norther Ireland is not in this database, so convert it by hand. Also, Ireland has to be trimmed."
   ]
  },
  {
   "cell_type": "code",
   "execution_count": null,
   "id": "017ae785",
   "metadata": {},
   "outputs": [],
   "source": [
    "wms[\"continent\"] = (\n",
    "    wms[\"country\"]\n",
    "    .apply(lambda x: np.where(x == \"Northern Ireland\", \"Ireland\", x))\n",
    "    .apply(lambda x: np.where(x == \"Republic of Ireland\", \"Ireland\", x))\n",
    "    .apply(pc.country_name_to_country_alpha2) # converts country name to country code\n",
    "    .apply(pc.country_alpha2_to_continent_code) # country code to continent code\n",
    "    .apply(pc.convert_continent_code_to_continent_name)# continent code to name\n",
    ")"
   ]
  },
  {
   "cell_type": "code",
   "execution_count": null,
   "id": "f0502238",
   "metadata": {},
   "outputs": [],
   "source": [
    "wms[\"continent\"].value_counts(dropna=False)"
   ]
  },
  {
   "cell_type": "markdown",
   "id": "1ccb91a7",
   "metadata": {},
   "source": [
    " It is also possible to create these groups by hand, with `np.where` command."
   ]
  },
  {
   "cell_type": "code",
   "execution_count": null,
   "id": "25fa017b",
   "metadata": {},
   "outputs": [],
   "source": [
    "wms[\"ownership\"].value_counts(dropna=False)"
   ]
  },
  {
   "cell_type": "code",
   "execution_count": null,
   "id": "a0783faf",
   "metadata": {},
   "outputs": [],
   "source": [
    "wms[\"owner\"] = np.where(\n",
    "    wms[\"ownership\"].isnull(),\n",
    "    np.nan,\n",
    "    np.where(\n",
    "        wms[\"ownership\"] == \"Government\",\n",
    "        \"govt\",\n",
    "        np.where(\n",
    "            wms[\"ownership\"].str.contains(\"family\", regex=False),\n",
    "            \"family\",\n",
    "            np.where(wms[\"ownership\"] == \"Other\", \"other\", \"private\"),\n",
    "        ),\n",
    "    ),\n",
    ")"
   ]
  },
  {
   "cell_type": "code",
   "execution_count": null,
   "id": "4b1de703",
   "metadata": {},
   "outputs": [],
   "source": [
    "wms[\"owner\"].value_counts(dropna=False)"
   ]
  },
  {
   "cell_type": "markdown",
   "id": "3db35114",
   "metadata": {},
   "source": [
    "### Good-to-know: labeled ordered categorical variable: \n",
    "labels are ordered, however difference is only in few application"
   ]
  },
  {
   "cell_type": "code",
   "execution_count": null,
   "id": "6eec8d56",
   "metadata": {},
   "outputs": [],
   "source": [
    "wms[\"lean1_ord\"] = pd.cut(\n",
    "    wms[\"lean1\"], 5, labels=[\"extremly poor\", \"bad\", \"mediocre\", \"good\", \"excellent\"]\n",
    ")"
   ]
  },
  {
   "cell_type": "markdown",
   "id": "29730bd8",
   "metadata": {},
   "source": [
    "Can easily plot"
   ]
  },
  {
   "cell_type": "code",
   "execution_count": null,
   "id": "60866fa2",
   "metadata": {},
   "outputs": [],
   "source": [
    "(\n",
    "    ggplot(wms, aes(x=\"lean1_ord\", y=\"avg_score\"))\n",
    "    + stat_summary(geom=\"point\", fun_data=\"mean_se\", size=8, fill=\"red\")\n",
    "    + labs(x=\"Lean 1 score\", y=\"Mean average management score\")\n",
    "    + theme_bw()\n",
    ")"
   ]
  },
  {
   "cell_type": "markdown",
   "id": "b09b39eb",
   "metadata": {},
   "source": [
    "#### Task:\n",
    "Create the same graph, but using the `talent2` variable instead"
   ]
  },
  {
   "cell_type": "code",
   "execution_count": null,
   "id": "f8f28a2e",
   "metadata": {},
   "outputs": [],
   "source": [
    "wms[\"talent2_ord\"] = pd.cut(\n",
    "    wms[\"talent2\"], 5, labels=[\"extremly poor\", \"bad\", \"mediocre\", \"good\", \"excellent\"]\n",
    ")"
   ]
  },
  {
   "cell_type": "code",
   "execution_count": null,
   "id": "12ec69de",
   "metadata": {},
   "outputs": [],
   "source": [
    "(\n",
    "    ggplot(wms, aes(x=\"talent2_ord\", y=\"avg_score\"))\n",
    "    + stat_summary(geom=\"point\", fun_data=\"mean_se\", size=8, fill=\"red\")\n",
    "    + labs(x=\"Talent 1 score\", y=\"Mean average management score\")\n",
    "    + theme_bw()\n",
    ")"
   ]
  },
  {
   "cell_type": "markdown",
   "id": "bbde8af1",
   "metadata": {},
   "source": [
    "##### Numeric to ordered"
   ]
  },
  {
   "cell_type": "markdown",
   "id": "3fac39b8",
   "metadata": {},
   "source": [
    "It is hard to get any conclusion if we plot the pattern between \n",
    "   average management score and number of employees"
   ]
  },
  {
   "cell_type": "code",
   "execution_count": null,
   "id": "a782e6aa",
   "metadata": {},
   "outputs": [],
   "source": [
    "(\n",
    "    ggplot(wms, aes(x=\"emp_firm\", y=\"avg_score\"))\n",
    "    + geom_point(color=\"red\", size=2, alpha=0.6)\n",
    "    + labs(x=\"Number of employees\", y=\"Mean average management score\")\n",
    "    + theme_bw()\n",
    ")"
   ]
  },
  {
   "cell_type": "markdown",
   "id": "59bd2549",
   "metadata": {},
   "source": [
    "One simple way to solve this issue:\\\n",
    "Simplifying firm size: creating categories from numeric"
   ]
  },
  {
   "cell_type": "code",
   "execution_count": null,
   "id": "08c66aa7",
   "metadata": {},
   "outputs": [],
   "source": [
    "wms[\"emp_cat\"] = pd.cut(\n",
    "    wms[\"emp_firm\"], bins=[0, 200, 1000, np.inf], labels=[\"small\", \"medium\", \"large\"]\n",
    ")"
   ]
  },
  {
   "cell_type": "code",
   "execution_count": null,
   "id": "c47440d7",
   "metadata": {},
   "outputs": [],
   "source": [
    "(\n",
    "    ggplot(\n",
    "        wms.loc[\n",
    "            lambda x: x[\"emp_cat\"].notnull(),\n",
    "        ],\n",
    "        aes(x=\"emp_cat\", y=\"avg_score\"),\n",
    "    )\n",
    "    + stat_summary(geom=\"point\", fun_data=\"mean_se\", size=8, fill=\"red\", na_rm=True)\n",
    "    + labs(x=\"Firm size\", y=\"Mean average management score\")\n",
    "    + theme_bw()\n",
    ")"
   ]
  },
  {
   "cell_type": "markdown",
   "id": "9d2cac05",
   "metadata": {},
   "source": [
    "### Factors Or Dummies"
   ]
  },
  {
   "cell_type": "markdown",
   "id": "55e21f08",
   "metadata": {},
   "source": [
    "Creating multiple factor dummy from a categorical"
   ]
  },
  {
   "cell_type": "code",
   "execution_count": null,
   "id": "83d577a8",
   "metadata": {},
   "outputs": [],
   "source": [
    "dummies = pd.get_dummies(wms[\"emp_cat\"], dummy_na = True)\n",
    "dummies"
   ]
  },
  {
   "cell_type": "markdown",
   "id": "0aff059d",
   "metadata": {},
   "source": [
    "You can easily concatenate this to the original dataframe"
   ]
  },
  {
   "cell_type": "code",
   "execution_count": null,
   "id": "2fe6bd65",
   "metadata": {},
   "outputs": [],
   "source": [
    "wms = pd.concat([wms,dummies],axis=1)\n",
    "wms.head()"
   ]
  },
  {
   "cell_type": "markdown",
   "id": "74a5e516",
   "metadata": {},
   "source": [
    "### Extra:\n",
    "\n",
    "principle component analysis or PCA\n",
    "\n",
    "One can argue, that the mean of the score is not the best measure, as it takes each value with the same weight \\\n",
    "An alternative solution is creating principal components, which transform the original variables."
   ]
  },
  {
   "cell_type": "markdown",
   "id": "cc9bc3dc",
   "metadata": {},
   "source": [
    "import PCA function from sklearn"
   ]
  },
  {
   "cell_type": "code",
   "execution_count": null,
   "id": "9a73d32e",
   "metadata": {},
   "outputs": [],
   "source": [
    "from sklearn.decomposition import PCA"
   ]
  },
  {
   "cell_type": "markdown",
   "id": "fdd9ab12",
   "metadata": {},
   "source": [
    "Let us create principle components with all the questionnaires. \\\n",
    "have to make sure there is no NA value"
   ]
  },
  {
   "cell_type": "code",
   "execution_count": null,
   "id": "b02c7ebb",
   "metadata": {},
   "outputs": [],
   "source": [
    "original_variables = wms.filter(regex=\"lean|perf|talent\").filter(regex=\"^(?!.*ord).*$\").dropna()\n",
    "original_variables.shape"
   ]
  },
  {
   "cell_type": "markdown",
   "id": "e3eb4c9c",
   "metadata": {},
   "source": [
    "fit PCA model"
   ]
  },
  {
   "cell_type": "code",
   "execution_count": null,
   "id": "a44c7560",
   "metadata": {},
   "outputs": [],
   "source": [
    "pca = PCA()\n",
    "\n",
    "pca.fit(original_variables)"
   ]
  },
  {
   "cell_type": "markdown",
   "id": "a9541bff",
   "metadata": {},
   "source": [
    "We have the same number of variables, but they are transformed.\n",
    "\n",
    "As PCA is an information reductionist approach, we can see, \n",
    "     which transformed variable explains what percent of the overall information (variation)"
   ]
  },
  {
   "cell_type": "code",
   "execution_count": null,
   "id": "1de3ed38",
   "metadata": {},
   "outputs": [],
   "source": [
    "pca.explained_variance_ratio_"
   ]
  },
  {
   "cell_type": "markdown",
   "id": "24a5f909",
   "metadata": {},
   "source": [
    "Let us decide to use only the first variable, which explains 45.6%"
   ]
  },
  {
   "cell_type": "code",
   "execution_count": null,
   "id": "fb3b77bc",
   "metadata": {},
   "outputs": [],
   "source": [
    "pca_components = pd.DataFrame(\n",
    "    pca.fit_transform(original_variables),\n",
    "    columns=[\"PC%s\" % str(i + 1) for i in range(len(original_variables.columns))],\n",
    ")\n",
    "pca_components.shape"
   ]
  },
  {
   "cell_type": "markdown",
   "id": "9ef58ff9",
   "metadata": {},
   "source": [
    "aux: add firmid and wave with same filter to match PCs to wms data"
   ]
  },
  {
   "cell_type": "code",
   "execution_count": null,
   "id": "a0975e5d",
   "metadata": {},
   "outputs": [],
   "source": [
    "aux = (\n",
    "    wms.filter(regex=\"lean|perf|talent|wave|firmid\")\n",
    "    .filter(regex=\"^(?!.*ord).*$\")\n",
    "    .dropna()\n",
    "    .filter([\"wave\", \"firmid\"])\n",
    "    .reset_index(drop=True)\n",
    ")\n",
    "aux.shape"
   ]
  },
  {
   "cell_type": "markdown",
   "id": "0aedf82f",
   "metadata": {},
   "source": [
    "add firmid wave and only PC0 from pca-s"
   ]
  },
  {
   "cell_type": "code",
   "execution_count": null,
   "id": "e9bd0df8",
   "metadata": {},
   "outputs": [],
   "source": [
    "pca_dataframe = pd.concat([aux, pca_components[\"PC1\"]], axis=1)\n",
    "\n",
    "pca_dataframe.shape"
   ]
  },
  {
   "cell_type": "markdown",
   "id": "f0e403a4",
   "metadata": {},
   "source": [
    "add to wms data"
   ]
  },
  {
   "cell_type": "code",
   "execution_count": null,
   "id": "bd96a835",
   "metadata": {},
   "outputs": [],
   "source": [
    "wms = wms.merge(pca_dataframe, on = [\"firmid\",\"wave\"],how=\"left\")"
   ]
  },
  {
   "cell_type": "markdown",
   "id": "7945082d",
   "metadata": {},
   "source": [
    "Compare descriptives with average score\n"
   ]
  },
  {
   "cell_type": "code",
   "execution_count": null,
   "id": "36fa07dc",
   "metadata": {},
   "outputs": [],
   "source": [
    "wms.filter([\"avg_score\", \"PC1\"]).describe()"
   ]
  },
  {
   "cell_type": "markdown",
   "id": "7c730a39",
   "metadata": {},
   "source": [
    "Create a bin-scatter with PC1"
   ]
  },
  {
   "cell_type": "code",
   "execution_count": null,
   "id": "e3e9b470",
   "metadata": {},
   "outputs": [],
   "source": [
    "(\n",
    "    ggplot(\n",
    "        wms.loc[\n",
    "            lambda x: x[\"emp_cat\"].notnull(),\n",
    "        ],\n",
    "        aes(x=\"emp_cat\", y=\"PC1\"),\n",
    "    )\n",
    "    + stat_summary(geom=\"point\", fun_data=\"mean_se\", size=8, fill=\"red\", na_rm=True)\n",
    "    + labs(x=\"Firm size\", y=\"Principal component\")\n",
    "    + theme_bw()\n",
    ")"
   ]
  },
  {
   "cell_type": "markdown",
   "id": "9c71650e",
   "metadata": {},
   "source": [
    "Notes: \n",
    "  1) PCA is especially useful when you have too many explanatory variables and want to reduce num vars, \n",
    "      with minimal information loss. However, should use it with care, especially with time series! \\\n",
    "  2) There are many variations of PCA, if one starts to `rotate` the factors \n",
    "      to make some meaningful variables out of it (especially in psychology) \\\n",
    "  3) There are many packages, which carry out PCA, this is pretty much the simplest intro here... \\"
   ]
  },
  {
   "cell_type": "markdown",
   "id": "7a15a882",
   "metadata": {},
   "source": [
    "## Part II<a class = 'anchor' id = 'part2'></a>"
   ]
  },
  {
   "cell_type": "markdown",
   "id": "aaadbe3c",
   "metadata": {},
   "source": [
    "Bisnode data to show real-life situations for:\n",
    "  - imputing: \n",
    "      - A: replacing with mean or median\n",
    "      - B: using outside knowledge to replace values\n",
    "      - C: introduce new value -> only for categorical values\n",
    "  - log transformation adjustment: log(0) is -Inf -> adjust numerically\n",
    "  - create dummy variable(s) with multiple statements: using lead() function\n",
    "  - randomizing large data for visualization\n",
    "  - growth rate with log difference: using lag() function\n",
    "  - winsorizing"
   ]
  },
  {
   "cell_type": "markdown",
   "id": "b2b6fba0",
   "metadata": {},
   "source": [
    "Using bisnode data for firm exit"
   ]
  },
  {
   "cell_type": "code",
   "execution_count": null,
   "id": "f209e76a",
   "metadata": {},
   "outputs": [],
   "source": [
    "bisnode = pd.read_csv(\"https://osf.io/3qyut/download\")\n",
    "\n",
    "bisnode.head()"
   ]
  },
  {
   "cell_type": "markdown",
   "id": "3fdec49f",
   "metadata": {},
   "source": [
    "Sample selection\\\n",
    "drop variables with many NAs"
   ]
  },
  {
   "cell_type": "code",
   "execution_count": null,
   "id": "10af3226",
   "metadata": {},
   "outputs": [],
   "source": [
    "bisnode = bisnode.drop(\n",
    "    [\"COGS\", \"finished_prod\", \"net_dom_sales\", \"net_exp_sales\", \"wages\"], axis=1\n",
    ").loc[bisnode[\"year\"] != 2016]"
   ]
  },
  {
   "cell_type": "markdown",
   "id": "f5034f0c",
   "metadata": {},
   "source": [
    "add all missing year and comp_id combinations -\n",
    "\n",
    "   \n",
    "(originally missing combinations will have NAs in all other columns)"
   ]
  },
  {
   "cell_type": "code",
   "execution_count": null,
   "id": "905d9115",
   "metadata": {},
   "outputs": [],
   "source": [
    "bisnode = (\n",
    "    bisnode.set_index([\"year\", \"comp_id\"])\n",
    "    .unstack(fill_value=np.nan)\n",
    "    .stack(dropna=False)\n",
    "    .reset_index()\n",
    ")"
   ]
  },
  {
   "cell_type": "markdown",
   "id": "f99033bc",
   "metadata": {},
   "source": [
    "### Imputing\n",
    "\n",
    "A) Replacing with mean or median:\n",
    "    \n",
    "   number of employed in firm is a noisy measure with many missing value.\\\n",
    "   replace missing values with the mean or median\\\n",
    "   also add a flag variable for the imputed values (need to include in the model!)"
   ]
  },
  {
   "cell_type": "code",
   "execution_count": null,
   "id": "efd89e4b",
   "metadata": {},
   "outputs": [],
   "source": [
    "# mean\n",
    "bisnode[\"labor_avg_mod\"] = np.where(\n",
    "    bisnode[\"labor_avg\"].isnull(),\n",
    "    np.nanmean(bisnode[\"labor_avg\"]),\n",
    "    bisnode[\"labor_avg\"],\n",
    ")\n",
    "# median\n",
    "bisnode[\"labor_med_mod\"] = np.where(\n",
    "    bisnode[\"labor_avg\"].isnull(),\n",
    "    np.nanmedian(bisnode[\"labor_avg\"]),\n",
    "    bisnode[\"labor_avg\"],\n",
    ")\n",
    "# flag\n",
    "bisnode[\"flag_miss_labor_avg\"] = bisnode[\"labor_avg\"].isnull()"
   ]
  },
  {
   "cell_type": "markdown",
   "id": "9b5efa9d",
   "metadata": {},
   "source": [
    "#### Task\n",
    "add `Nmiss` as a custom function to datasummary and check the \\\n",
    "mean, median, sd, N and Nmiss for labor_avg, labor_avg_mod, labor_med_mod"
   ]
  },
  {
   "cell_type": "code",
   "execution_count": null,
   "id": "262ea739",
   "metadata": {},
   "outputs": [],
   "source": [
    "def Nmiss(x):\n",
    "    return x.isnull().sum()"
   ]
  },
  {
   "cell_type": "markdown",
   "id": "8cbce857",
   "metadata": {},
   "source": [
    "Check how stats altered, discuss!"
   ]
  },
  {
   "cell_type": "code",
   "execution_count": null,
   "id": "74ba07c7",
   "metadata": {},
   "outputs": [],
   "source": [
    "bisnode.filter([\"labor_avg\", \"labor_avg_mod\", \"labor_med_mod\"]).agg(\n",
    "    [\"mean\", \"median\", \"std\", \"count\", Nmiss]\n",
    ").T"
   ]
  },
  {
   "cell_type": "markdown",
   "id": "de5c1392",
   "metadata": {},
   "source": [
    "### Imputing:\n",
    "\n",
    "B) Using outside knowledge to replace values:"
   ]
  },
  {
   "cell_type": "markdown",
   "id": "6195d5e6",
   "metadata": {},
   "source": [
    "Negative sales should not happen, thus we can overwrite it to a small value: 1"
   ]
  },
  {
   "cell_type": "code",
   "execution_count": null,
   "id": "e9ab36db",
   "metadata": {},
   "outputs": [],
   "source": [
    "bisnode[\"sales\"].describe()"
   ]
  },
  {
   "cell_type": "code",
   "execution_count": null,
   "id": "b4484eb7",
   "metadata": {},
   "outputs": [],
   "source": [
    "bisnode[\"sales\"] = np.where(bisnode[\"sales\"] < 0, 1, bisnode[\"sales\"])"
   ]
  },
  {
   "cell_type": "code",
   "execution_count": null,
   "id": "ebb53222",
   "metadata": {},
   "outputs": [],
   "source": [
    "bisnode[\"sales\"].describe()"
   ]
  },
  {
   "cell_type": "markdown",
   "id": "a792b9c3",
   "metadata": {},
   "source": [
    "### Imputing:\n",
    "\n",
    "C) Categorical variables"
   ]
  },
  {
   "cell_type": "markdown",
   "id": "2817ac7c",
   "metadata": {},
   "source": [
    "Simplify some industry category codes and set missing values to 99"
   ]
  },
  {
   "cell_type": "code",
   "execution_count": null,
   "id": "1842fd20",
   "metadata": {},
   "outputs": [],
   "source": [
    "bisnode[\"ind2_cat\"] = np.where(bisnode[\"ind2\"] > 56, 60, bisnode[\"ind2\"])\n",
    "bisnode[\"ind2_cat\"] = np.where(bisnode[\"ind2\"] < 26, 20, bisnode[\"ind2_cat\"])\n",
    "bisnode[\"ind2_cat\"] = np.where(\n",
    "    (bisnode[\"ind2\"] < 55) & (bisnode[\"ind2\"] > 35), 40, bisnode[\"ind2_cat\"]\n",
    ")\n",
    "bisnode[\"ind2_cat\"] = np.where(bisnode[\"ind2\"] == 31, 30, bisnode[\"ind2_cat\"])\n",
    "bisnode[\"ind2_cat\"] = np.where(bisnode[\"ind2\"].isnull(), 99, bisnode[\"ind2_cat\"])"
   ]
  },
  {
   "cell_type": "code",
   "execution_count": null,
   "id": "4b7894b8",
   "metadata": {},
   "outputs": [],
   "source": [
    "bisnode[\"ind2_cat\"].value_counts().sort_index()"
   ]
  },
  {
   "cell_type": "markdown",
   "id": "fd8ff455",
   "metadata": {},
   "source": [
    "___"
   ]
  },
  {
   "cell_type": "markdown",
   "id": "035be918",
   "metadata": {},
   "source": [
    "Adjusting negative sale and for log transformation:"
   ]
  },
  {
   "cell_type": "code",
   "execution_count": null,
   "id": "e6a147f1",
   "metadata": {},
   "outputs": [],
   "source": [
    "bisnode[\"ln_sales\"] = np.where(bisnode[\"sales\"] > 0, np.log(bisnode[\"sales\"]), 0)\n",
    "bisnode[\"sales_mil\"] = bisnode[\"sales\"] / 10**6\n",
    "bisnode[\"sales_mil_log\"] = np.where(bisnode[\"sales\"] > 0, np.log(bisnode[\"sales_mil\"]), 0)"
   ]
  },
  {
   "cell_type": "markdown",
   "id": "befe555d",
   "metadata": {},
   "source": [
    "***Creating 'status_alive' variable to decide if firm exists or not***"
   ]
  },
  {
   "cell_type": "markdown",
   "id": "88ee3411",
   "metadata": {},
   "source": [
    "Generate status_alive; if sales larger than zero and not-NA, then firm is alive"
   ]
  },
  {
   "cell_type": "code",
   "execution_count": null,
   "id": "6c9e724d",
   "metadata": {},
   "outputs": [],
   "source": [
    "bisnode[\"status_alive\"] = np.where(\n",
    "    (bisnode[\"sales\"] > 0) & (bisnode[\"sales\"].notnull()), 1, 0\n",
    ")"
   ]
  },
  {
   "cell_type": "markdown",
   "id": "e5931bf1",
   "metadata": {},
   "source": [
    "Defaults in two years if there are sales in this year but no sales two years later"
   ]
  },
  {
   "cell_type": "code",
   "execution_count": null,
   "id": "21617a85",
   "metadata": {},
   "outputs": [],
   "source": [
    "bisnode = bisnode.sort_values(by=[\"comp_id\",\"year\"])\n",
    "\n",
    "bisnode[\"default\"] = bisnode.groupby(\"comp_id\")[\"status_alive\"].transform(\n",
    "    lambda x: (x == 1) & (x.shift(2) == 0)\n",
    ").astype(int)"
   ]
  },
  {
   "cell_type": "markdown",
   "id": "ebc90e82",
   "metadata": {},
   "source": [
    "Select years before 2013"
   ]
  },
  {
   "cell_type": "code",
   "execution_count": null,
   "id": "5cc9170d",
   "metadata": {},
   "outputs": [],
   "source": [
    "bisnode = bisnode.loc[bisnode[\"year\"]<= 2013]"
   ]
  },
  {
   "cell_type": "markdown",
   "id": "e1298c08",
   "metadata": {},
   "source": [
    "To speed up let take a randomly selected 5k companies"
   ]
  },
  {
   "cell_type": "code",
   "execution_count": null,
   "id": "d5450d56",
   "metadata": {},
   "outputs": [],
   "source": [
    "comp_id_f = bisnode.drop_duplicates(subset=[\"comp_id\"]).sample(5000, random_state = 20123123)[\"comp_id\"]"
   ]
  },
  {
   "cell_type": "code",
   "execution_count": null,
   "id": "a407f5ee",
   "metadata": {},
   "outputs": [],
   "source": [
    "bisnode_sample = bisnode.loc[lambda x: x[\"comp_id\"].isin(comp_id_f)]"
   ]
  },
  {
   "cell_type": "markdown",
   "id": "48ccd996",
   "metadata": {},
   "source": [
    "### Numeric vs Factor Representation"
   ]
  },
  {
   "cell_type": "markdown",
   "id": "d02b8c64",
   "metadata": {},
   "source": [
    "Numeric representation (good)"
   ]
  },
  {
   "cell_type": "code",
   "execution_count": null,
   "id": "a630410e",
   "metadata": {},
   "outputs": [],
   "source": [
    "\n",
    "\n",
    "(\n",
    "    ggplot(bisnode_sample, aes(x=\"sales_mil_log\", y=\"default\"))\n",
    "    + geom_point(size=2, alpha=0.3, color=\"blue\")\n",
    "    + geom_smooth(method=\"lm\", formula=\"y ~ x**2\", color=\"black\", se=False, size=1)\n",
    "    + geom_smooth(method=\"loess\", se=False, colour=\"red\", size=1.5)\n",
    "    + labs(x=\"sales_mil_log\", y=\"default\")\n",
    "    + theme_bw()\n",
    ")"
   ]
  },
  {
   "cell_type": "markdown",
   "id": "14dad9ff",
   "metadata": {},
   "source": [
    "#### Task\n",
    "convert default to a factor variable and plot!\\\n",
    "what is the problem? It is a bad idea to convert to a factor?"
   ]
  },
  {
   "cell_type": "code",
   "execution_count": null,
   "id": "941db5a1",
   "metadata": {},
   "outputs": [],
   "source": [
    "bisnode_sample[\"default_factor\"] = bisnode_sample[\"default\"].astype(\"category\")\n",
    "\n",
    "(\n",
    "    ggplot(bisnode_sample, aes(x=\"sales_mil_log\", y=\"default_factor\"))\n",
    "    + geom_point(size=2, alpha=0.3, color=\"blue\")\n",
    "    + geom_smooth(method=\"lm\", formula=\"y ~ x**2\", color=\"black\", se=False, size=1)\n",
    "    + geom_smooth(method=\"loess\", se=False, colour=\"red\", size=1.5)\n",
    "    + labs(x=\"sales_mil_log\", y=\"default\")\n",
    "    + theme_bw()\n",
    ")"
   ]
  },
  {
   "cell_type": "markdown",
   "id": "551830e0",
   "metadata": {},
   "source": [
    "Growth (%) in sales \\\n",
    "Take the lags but make sure only for the same company!"
   ]
  },
  {
   "cell_type": "code",
   "execution_count": null,
   "id": "a480ffc9",
   "metadata": {},
   "outputs": [],
   "source": [
    "bisnode[\"d1_sales_mil_log\"] = bisnode.groupby(\"comp_id\")[\"sales_mil_log\"].transform(\n",
    "    lambda x: x - x.shift(1)\n",
    ")"
   ]
  },
  {
   "cell_type": "markdown",
   "id": "16e56bf8",
   "metadata": {},
   "source": [
    "Repeat random sample to include the new variables"
   ]
  },
  {
   "cell_type": "code",
   "execution_count": null,
   "id": "51dd7fa9",
   "metadata": {},
   "outputs": [],
   "source": [
    "bisnode_sample = bisnode.loc[lambda x: x[\"comp_id\"].isin(comp_id_f)]"
   ]
  },
  {
   "cell_type": "markdown",
   "id": "6d84b7c4",
   "metadata": {},
   "source": [
    " First measure for change in sales: take the sale change in logs"
   ]
  },
  {
   "cell_type": "code",
   "execution_count": null,
   "id": "1812374b",
   "metadata": {},
   "outputs": [],
   "source": [
    "nw = (\n",
    "    ggplot(bisnode_sample, aes(x=\"d1_sales_mil_log\", y=\"default\"))\n",
    "    + geom_point(size=1, fill=\"blue\", color=\"blue\")\n",
    "    + geom_smooth(method=\"loess\", se=False, colour=\"red\", size=1.5)\n",
    "    + labs(x=\"Growth rate (Diff of ln sales)\", y=\"default\")\n",
    "    + theme_bw()\n",
    "    + scale_x_continuous(limits=(-6, 10), breaks=np.arange(-5, 10, 5))\n",
    ")\n",
    "nw"
   ]
  },
  {
   "cell_type": "markdown",
   "id": "3ddd33ad",
   "metadata": {},
   "source": [
    "### Winsorized Data:\n",
    "  - set (extreme) values to a certain (lower) value\n",
    "\n",
    "Note: \n",
    "    \n",
    " winsorizing is the action to set manually a value \\\n",
    "      'censoring' is called if the values are already 'winsorized' \\\n",
    "      thus it is unknown what was the original value, but can only see the set value \\\n",
    "        e.g. mother's wage who are at home is 0, however if she would work this value would be different \\\n",
    "      'truncation' is when we dropping certain values below or above a threshold from the data "
   ]
  },
  {
   "cell_type": "markdown",
   "id": "1823495e",
   "metadata": {},
   "source": [
    "Create new variable and add flag variables for modelling"
   ]
  },
  {
   "cell_type": "code",
   "execution_count": null,
   "id": "f668b5d9",
   "metadata": {},
   "outputs": [],
   "source": [
    "bisnode[\"flag_low_d1_sales_mil_log\"] = np.where(\n",
    "    bisnode[\"d1_sales_mil_log\"] < -1.5, 1, 0\n",
    ")\n",
    "bisnode[\"flag_high_d1_sales_mil_log\"] = np.where(\n",
    "    bisnode[\"d1_sales_mil_log\"] > 1.5, 1, 0\n",
    ")\n",
    "bisnode[\"d1_sales_mil_log_mod\"] = np.where(\n",
    "    bisnode[\"d1_sales_mil_log\"] < -1.5,\n",
    "    -1.5,\n",
    "    np.where(bisnode[\"d1_sales_mil_log\"] > 1.5, 1.5, bisnode[\"d1_sales_mil_log\"]),\n",
    ")"
   ]
  },
  {
   "cell_type": "markdown",
   "id": "1adbf5ef",
   "metadata": {},
   "source": [
    "Repeat random sample to include the new variables"
   ]
  },
  {
   "cell_type": "code",
   "execution_count": null,
   "id": "4e0b5f72",
   "metadata": {},
   "outputs": [],
   "source": [
    "bisnode_sample = bisnode.loc[lambda x: x[\"comp_id\"].isin(comp_id_f)]"
   ]
  },
  {
   "cell_type": "code",
   "execution_count": null,
   "id": "08c8c134",
   "metadata": {},
   "outputs": [],
   "source": [
    "w = (\n",
    "    ggplot(bisnode_sample, aes(x=\"d1_sales_mil_log_mod\", y=\"default\"))\n",
    "    + geom_point(size=1, fill=\"blue\", color=\"blue\")\n",
    "    + geom_smooth(method=\"loess\", se=False, colour=\"red\", size=1.5)\n",
    "    + labs(x=\"Growth rate (Diff of ln sales)\", y=\"default\")\n",
    "    + theme_bw()\n",
    "    + scale_x_continuous(limits=(-1.5, 1.5), breaks=np.arange(-1.5, 1.51, 0.5))\n",
    ")\n",
    "w"
   ]
  },
  {
   "cell_type": "markdown",
   "id": "33f80252",
   "metadata": {},
   "source": [
    "#### Task:\n",
    "Show the effect of winsorizing: transformation of the original data\\\n",
    "put d1_sales_mil_log on x-axis and d1_sales_mil_log_mod to the y-axis"
   ]
  },
  {
   "cell_type": "code",
   "execution_count": null,
   "id": "510aa3ef",
   "metadata": {},
   "outputs": [],
   "source": [
    "(\n",
    "    ggplot(bisnode_sample, aes(x=\"d1_sales_mil_log\", y=\"d1_sales_mil_log_mod\"))\n",
    "    + geom_point(size=1, fill=\"blue\", color=\"blue\")\n",
    "    + labs(\n",
    "        x=\"Growth rate (Diff of ln sales) (original)\",\n",
    "        y=\"Growth rate (Diff of ln sales) (winsorized)\",\n",
    "    )\n",
    "    + theme_bw()\n",
    "    + scale_x_continuous(limits=(-5, 5), breaks=np.arange(-5, 5, 1))\n",
    "    + scale_y_continuous(limits=(-3, 3), breaks=np.arange(-3, 3, 1))\n",
    ")"
   ]
  }
 ],
 "metadata": {
  "kernelspec": {
   "display_name": "Python 3 (ipykernel)",
   "language": "python",
   "name": "python3"
  },
  "language_info": {
   "codemirror_mode": {
    "name": "ipython",
    "version": 3
   },
   "file_extension": ".py",
   "mimetype": "text/x-python",
   "name": "python",
   "nbconvert_exporter": "python",
   "pygments_lexer": "ipython3",
   "version": "3.8.10"
  }
 },
 "nbformat": 4,
 "nbformat_minor": 5
}
