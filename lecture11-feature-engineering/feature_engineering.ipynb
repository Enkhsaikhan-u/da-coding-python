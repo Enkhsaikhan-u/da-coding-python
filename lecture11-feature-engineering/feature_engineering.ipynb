{
 "cells": [
  {
   "cell_type": "markdown",
   "id": "ffd867f7",
   "metadata": {},
   "source": [
    "# Lecture 11\n",
    "\n",
    "## Feature Engineering <a class=\"anchor\" id=\"TOC\"></a>\n",
    "\n",
    "### [Part I](#part1): World-Management Survey Data \n",
    "                                                               \n",
    "  - Creating new variable(s) from multiple           \n",
    "       already existing (mean of multiple variable)  \n",
    "  - Grouping a categorical variable:                 \n",
    "       countries to continents                       \n",
    "  - Ordered variables:                               \n",
    "     - creating an ordered factor                    \n",
    "         from character or integer                   \n",
    "     - creating an ordered                           \n",
    "         from numeric                                \n",
    "  - Factors or dummy variables:                      \n",
    "       creating multiple dummies                     \n",
    "  - Extra: intro to principal component analysis     \n",
    "                                                     \n",
    "                                                     \n",
    "### [PART II](#part2): Bisnode Data                                   \n",
    "                                                     \n",
    "\n",
    "- imputing:                                     \n",
    "    - A: replacing with mean or median            \n",
    "    - B: outside knowledge to replace values      \n",
    "    - C: introduce new value:                     \n",
    "        - only for categorical values           \n",
    "- log transformation adjustment:                \n",
    "        log(0) is -Inf -> adjust numerically        \n",
    "- create dummy variable(s) with                 \n",
    "        multiple statements: using lead() function  \n",
    "- randomizing large data for visualization      \n",
    "- growth rate with log difference:\n",
    "    - using lag() function                      \n",
    "- winsorizing                                   \n",
    "\n",
    "___"
   ]
  },
  {
   "cell_type": "markdown",
   "id": "c2efd22f",
   "metadata": {},
   "source": [
    "Import packages"
   ]
  },
  {
   "cell_type": "code",
   "execution_count": 1,
   "id": "28f5783b",
   "metadata": {},
   "outputs": [],
   "source": [
    "import pandas as pd\n",
    "import numpy as np\n",
    "from plotnine import *\n",
    "import warnings\n",
    "\n",
    "warnings.filterwarnings(\"ignore\")"
   ]
  },
  {
   "cell_type": "markdown",
   "id": "f3b3de35",
   "metadata": {},
   "source": [
    "## Part I<a class = 'anchor' id = 'part1'></a>"
   ]
  },
  {
   "cell_type": "markdown",
   "id": "19aaf3bf",
   "metadata": {},
   "source": [
    " World-Management Survey Data\n",
    "  - Creating new variable(s) from multiple already existing (mean of multiple variable)\n",
    "  - Grouping a categorical variable: countries to continents\n",
    "  - Ordered variables:\n",
    "     - creating an ordered factor variable from character or integer variables\n",
    "     - creating an ordered variable from numeric\n",
    "  - Factors or dummy variables: creating multiple dummies"
   ]
  },
  {
   "cell_type": "markdown",
   "id": "2962fad2",
   "metadata": {},
   "source": [
    "Import World-Management Survey Data"
   ]
  },
  {
   "cell_type": "code",
   "execution_count": 2,
   "id": "dc90596c",
   "metadata": {},
   "outputs": [
    {
     "data": {
      "text/html": [
       "<div>\n",
       "<style scoped>\n",
       "    .dataframe tbody tr th:only-of-type {\n",
       "        vertical-align: middle;\n",
       "    }\n",
       "\n",
       "    .dataframe tbody tr th {\n",
       "        vertical-align: top;\n",
       "    }\n",
       "\n",
       "    .dataframe thead th {\n",
       "        text-align: right;\n",
       "    }\n",
       "</style>\n",
       "<table border=\"1\" class=\"dataframe\">\n",
       "  <thead>\n",
       "    <tr style=\"text-align: right;\">\n",
       "      <th></th>\n",
       "      <th>firmid</th>\n",
       "      <th>wave</th>\n",
       "      <th>cty</th>\n",
       "      <th>country</th>\n",
       "      <th>sic</th>\n",
       "      <th>management</th>\n",
       "      <th>operations</th>\n",
       "      <th>monitor</th>\n",
       "      <th>target</th>\n",
       "      <th>people</th>\n",
       "      <th>...</th>\n",
       "      <th>aa_196</th>\n",
       "      <th>aa_197</th>\n",
       "      <th>aa_198</th>\n",
       "      <th>aa_199</th>\n",
       "      <th>aa_200</th>\n",
       "      <th>aa_201</th>\n",
       "      <th>aa_202</th>\n",
       "      <th>aa_203</th>\n",
       "      <th>aa_204</th>\n",
       "      <th>aa_205</th>\n",
       "    </tr>\n",
       "  </thead>\n",
       "  <tbody>\n",
       "    <tr>\n",
       "      <th>0</th>\n",
       "      <td>1</td>\n",
       "      <td>2004</td>\n",
       "      <td>us</td>\n",
       "      <td>United States</td>\n",
       "      <td>38.0</td>\n",
       "      <td>3.500000</td>\n",
       "      <td>3.0</td>\n",
       "      <td>3.6</td>\n",
       "      <td>3.6</td>\n",
       "      <td>3.500000</td>\n",
       "      <td>...</td>\n",
       "      <td>0.0</td>\n",
       "      <td>0.0</td>\n",
       "      <td>0.0</td>\n",
       "      <td>0.0</td>\n",
       "      <td>0.0</td>\n",
       "      <td>0.0</td>\n",
       "      <td>0.0</td>\n",
       "      <td>0.0</td>\n",
       "      <td>0.0</td>\n",
       "      <td>0.0</td>\n",
       "    </tr>\n",
       "    <tr>\n",
       "      <th>1</th>\n",
       "      <td>1</td>\n",
       "      <td>2006</td>\n",
       "      <td>us</td>\n",
       "      <td>United States</td>\n",
       "      <td>38.0</td>\n",
       "      <td>3.166667</td>\n",
       "      <td>5.0</td>\n",
       "      <td>3.8</td>\n",
       "      <td>2.6</td>\n",
       "      <td>2.500000</td>\n",
       "      <td>...</td>\n",
       "      <td>0.0</td>\n",
       "      <td>0.0</td>\n",
       "      <td>0.0</td>\n",
       "      <td>0.0</td>\n",
       "      <td>0.0</td>\n",
       "      <td>0.0</td>\n",
       "      <td>0.0</td>\n",
       "      <td>0.0</td>\n",
       "      <td>0.0</td>\n",
       "      <td>0.0</td>\n",
       "    </tr>\n",
       "    <tr>\n",
       "      <th>2</th>\n",
       "      <td>1</td>\n",
       "      <td>2010</td>\n",
       "      <td>us</td>\n",
       "      <td>United States</td>\n",
       "      <td>38.0</td>\n",
       "      <td>3.000000</td>\n",
       "      <td>2.0</td>\n",
       "      <td>2.8</td>\n",
       "      <td>3.6</td>\n",
       "      <td>3.000000</td>\n",
       "      <td>...</td>\n",
       "      <td>0.0</td>\n",
       "      <td>0.0</td>\n",
       "      <td>0.0</td>\n",
       "      <td>0.0</td>\n",
       "      <td>0.0</td>\n",
       "      <td>0.0</td>\n",
       "      <td>0.0</td>\n",
       "      <td>0.0</td>\n",
       "      <td>0.0</td>\n",
       "      <td>0.0</td>\n",
       "    </tr>\n",
       "    <tr>\n",
       "      <th>3</th>\n",
       "      <td>2</td>\n",
       "      <td>2004</td>\n",
       "      <td>us</td>\n",
       "      <td>United States</td>\n",
       "      <td>28.0</td>\n",
       "      <td>4.666667</td>\n",
       "      <td>4.5</td>\n",
       "      <td>4.8</td>\n",
       "      <td>4.4</td>\n",
       "      <td>4.833333</td>\n",
       "      <td>...</td>\n",
       "      <td>0.0</td>\n",
       "      <td>0.0</td>\n",
       "      <td>0.0</td>\n",
       "      <td>0.0</td>\n",
       "      <td>0.0</td>\n",
       "      <td>0.0</td>\n",
       "      <td>0.0</td>\n",
       "      <td>0.0</td>\n",
       "      <td>0.0</td>\n",
       "      <td>0.0</td>\n",
       "    </tr>\n",
       "    <tr>\n",
       "      <th>4</th>\n",
       "      <td>2</td>\n",
       "      <td>2004</td>\n",
       "      <td>us</td>\n",
       "      <td>United States</td>\n",
       "      <td>28.0</td>\n",
       "      <td>4.444445</td>\n",
       "      <td>4.5</td>\n",
       "      <td>4.6</td>\n",
       "      <td>4.4</td>\n",
       "      <td>4.333333</td>\n",
       "      <td>...</td>\n",
       "      <td>0.0</td>\n",
       "      <td>0.0</td>\n",
       "      <td>0.0</td>\n",
       "      <td>0.0</td>\n",
       "      <td>0.0</td>\n",
       "      <td>0.0</td>\n",
       "      <td>0.0</td>\n",
       "      <td>0.0</td>\n",
       "      <td>0.0</td>\n",
       "      <td>0.0</td>\n",
       "    </tr>\n",
       "  </tbody>\n",
       "</table>\n",
       "<p>5 rows × 245 columns</p>\n",
       "</div>"
      ],
      "text/plain": [
       "   firmid  wave cty        country   sic  management  operations  monitor  \\\n",
       "0       1  2004  us  United States  38.0    3.500000         3.0      3.6   \n",
       "1       1  2006  us  United States  38.0    3.166667         5.0      3.8   \n",
       "2       1  2010  us  United States  38.0    3.000000         2.0      2.8   \n",
       "3       2  2004  us  United States  28.0    4.666667         4.5      4.8   \n",
       "4       2  2004  us  United States  28.0    4.444445         4.5      4.6   \n",
       "\n",
       "   target    people  ...  aa_196  aa_197  aa_198  aa_199  aa_200  aa_201  \\\n",
       "0     3.6  3.500000  ...     0.0     0.0     0.0     0.0     0.0     0.0   \n",
       "1     2.6  2.500000  ...     0.0     0.0     0.0     0.0     0.0     0.0   \n",
       "2     3.6  3.000000  ...     0.0     0.0     0.0     0.0     0.0     0.0   \n",
       "3     4.4  4.833333  ...     0.0     0.0     0.0     0.0     0.0     0.0   \n",
       "4     4.4  4.333333  ...     0.0     0.0     0.0     0.0     0.0     0.0   \n",
       "\n",
       "   aa_202  aa_203  aa_204  aa_205  \n",
       "0     0.0     0.0     0.0     0.0  \n",
       "1     0.0     0.0     0.0     0.0  \n",
       "2     0.0     0.0     0.0     0.0  \n",
       "3     0.0     0.0     0.0     0.0  \n",
       "4     0.0     0.0     0.0     0.0  \n",
       "\n",
       "[5 rows x 245 columns]"
      ]
     },
     "execution_count": 2,
     "metadata": {},
     "output_type": "execute_result"
    }
   ],
   "source": [
    "wms  = pd.read_csv(\"https://osf.io/uzpce/download\")\n",
    "\n",
    "wms.head()"
   ]
  },
  {
   "cell_type": "markdown",
   "id": "e56b2f32",
   "metadata": {},
   "source": [
    "### Creating a continuous variable out of ordered variables\n",
    "\n",
    "Trick: lean, perf and talent measures, but multiple variables.\\\n",
    "    1. `filter(regex=)` will select these variables.\n",
    "    2. calculate average with `mean(axis=1)` for each observation"
   ]
  },
  {
   "cell_type": "code",
   "execution_count": 3,
   "id": "ec970c36",
   "metadata": {},
   "outputs": [],
   "source": [
    "wms[\"avg_score\"] = wms.filter(regex=\"lean|perf|talent\").mean(axis=1)"
   ]
  },
  {
   "cell_type": "code",
   "execution_count": 4,
   "id": "cb837a32",
   "metadata": {},
   "outputs": [
    {
     "data": {
      "text/plain": [
       "count    14277.000000\n",
       "mean         2.919203\n",
       "std          0.670948\n",
       "min          1.000000\n",
       "25%          2.444444\n",
       "50%          2.944444\n",
       "75%          3.388889\n",
       "max          5.000000\n",
       "Name: avg_score, dtype: float64"
      ]
     },
     "execution_count": 4,
     "metadata": {},
     "output_type": "execute_result"
    }
   ],
   "source": [
    "wms[\"avg_score\"].describe()"
   ]
  },
  {
   "cell_type": "markdown",
   "id": "e07f17e7",
   "metadata": {},
   "source": [
    "#### Task:\n",
    "   create the sum of `aa_` variables \\\n",
    "   check that the resulting variable has value of 1 for each observation as `aa_` variables are dummies for industry code"
   ]
  },
  {
   "cell_type": "code",
   "execution_count": 5,
   "id": "c35384e1",
   "metadata": {},
   "outputs": [
    {
     "data": {
      "text/plain": [
       "count    14277.000000\n",
       "mean         0.999930\n",
       "std          0.008369\n",
       "min          0.000000\n",
       "25%          1.000000\n",
       "50%          1.000000\n",
       "75%          1.000000\n",
       "max          1.000000\n",
       "Name: sum_aa, dtype: float64"
      ]
     },
     "execution_count": 5,
     "metadata": {},
     "output_type": "execute_result"
    }
   ],
   "source": [
    "wms[\"sum_aa\"] = wms.filter(regex=\"aa_\").sum(axis=1)\n",
    "wms[\"sum_aa\"].describe()"
   ]
  },
  {
   "cell_type": "markdown",
   "id": "8a7b93b2",
   "metadata": {},
   "source": [
    "### Grouping categorical\n",
    "\n",
    "Creating groups by continents -> reducing dimensionality of a categorical variable\n"
   ]
  },
  {
   "cell_type": "code",
   "execution_count": 6,
   "id": "479416f9",
   "metadata": {},
   "outputs": [
    {
     "data": {
      "text/plain": [
       "United States          1545\n",
       "Great Britain          1514\n",
       "Brazil                 1151\n",
       "China                  1072\n",
       "India                   937\n",
       "France                  764\n",
       "Germany                 724\n",
       "Italy                   632\n",
       "Chile                   611\n",
       "Greece                  585\n",
       "Argentina               568\n",
       "Mexico                  525\n",
       "Australia               473\n",
       "Canada                  419\n",
       "Portugal                410\n",
       "Singapore               406\n",
       "Sweden                  404\n",
       "Poland                  364\n",
       "Turkey                  332\n",
       "Spain                   214\n",
       "Japan                   178\n",
       "Republic of Ireland     161\n",
       "New Zealand             151\n",
       "Northern Ireland        137\n",
       "Name: country, dtype: int64"
      ]
     },
     "execution_count": 6,
     "metadata": {},
     "output_type": "execute_result"
    }
   ],
   "source": [
    "wms[\"country\"].value_counts()"
   ]
  },
  {
   "cell_type": "code",
   "execution_count": 7,
   "id": "f7cb57a4",
   "metadata": {},
   "outputs": [
    {
     "data": {
      "text/plain": [
       "United States          0.108216\n",
       "Great Britain          0.106045\n",
       "Brazil                 0.080619\n",
       "China                  0.075086\n",
       "India                  0.065630\n",
       "France                 0.053513\n",
       "Germany                0.050711\n",
       "Italy                  0.044267\n",
       "Chile                  0.042796\n",
       "Greece                 0.040975\n",
       "Argentina              0.039784\n",
       "Mexico                 0.036772\n",
       "Australia              0.033130\n",
       "Canada                 0.029348\n",
       "Portugal               0.028718\n",
       "Singapore              0.028437\n",
       "Sweden                 0.028297\n",
       "Poland                 0.025496\n",
       "Turkey                 0.023254\n",
       "Spain                  0.014989\n",
       "Japan                  0.012468\n",
       "Republic of Ireland    0.011277\n",
       "New Zealand            0.010576\n",
       "Northern Ireland       0.009596\n",
       "Name: country, dtype: float64"
      ]
     },
     "execution_count": 7,
     "metadata": {},
     "output_type": "execute_result"
    }
   ],
   "source": [
    "wms[\"country\"].value_counts(normalize = True)"
   ]
  },
  {
   "cell_type": "markdown",
   "id": "bb1230a6",
   "metadata": {},
   "source": [
    "`pycountry_convert` module converts country names to country codes and continents"
   ]
  },
  {
   "cell_type": "code",
   "execution_count": 8,
   "id": "022bd5b5",
   "metadata": {},
   "outputs": [],
   "source": [
    "import pycountry_convert as pc"
   ]
  },
  {
   "cell_type": "markdown",
   "id": "413962e1",
   "metadata": {},
   "source": [
    "Note: Norther Ireland is not in this database, so convert it by hand. Also, Ireland has to be trimmed."
   ]
  },
  {
   "cell_type": "code",
   "execution_count": 9,
   "id": "017ae785",
   "metadata": {},
   "outputs": [],
   "source": [
    "wms[\"continent\"] = (\n",
    "    wms[\"country\"]\n",
    "    .apply(lambda x: np.where(x == \"Northern Ireland\", \"Ireland\", x))\n",
    "    .apply(lambda x: np.where(x == \"Republic of Ireland\", \"Ireland\", x))\n",
    "    .apply(pc.country_name_to_country_alpha2) # converts country name to country code\n",
    "    .apply(pc.country_alpha2_to_continent_code) # country code to continent code\n",
    "    .apply(pc.convert_continent_code_to_continent_name)# continent code to name\n",
    ")"
   ]
  },
  {
   "cell_type": "code",
   "execution_count": 10,
   "id": "f0502238",
   "metadata": {},
   "outputs": [
    {
     "data": {
      "text/plain": [
       "Europe           5909\n",
       "Asia             2925\n",
       "North America    2489\n",
       "South America    2330\n",
       "Oceania           624\n",
       "Name: continent, dtype: int64"
      ]
     },
     "execution_count": 10,
     "metadata": {},
     "output_type": "execute_result"
    }
   ],
   "source": [
    "wms[\"continent\"].value_counts(dropna=False)"
   ]
  },
  {
   "cell_type": "markdown",
   "id": "1ccb91a7",
   "metadata": {},
   "source": [
    " It is also possible to create these groups by hand, with `np.where` command."
   ]
  },
  {
   "cell_type": "code",
   "execution_count": 11,
   "id": "25fa017b",
   "metadata": {},
   "outputs": [
    {
     "data": {
      "text/plain": [
       "Dispersed Shareholders            3772\n",
       "Private Individuals               2885\n",
       "Founder owned, founder CEO        2427\n",
       "Family owned, family CEO          2370\n",
       "Other                              968\n",
       "Private Equity/Venture Capital     492\n",
       "Family owned, external CEO         446\n",
       "Founder owned, external CEO        339\n",
       "Government                         261\n",
       "Family owned, CEO unknown          176\n",
       "Founder owned, CEO unknown         124\n",
       "NaN                                 17\n",
       "Name: ownership, dtype: int64"
      ]
     },
     "execution_count": 11,
     "metadata": {},
     "output_type": "execute_result"
    }
   ],
   "source": [
    "wms[\"ownership\"].value_counts(dropna=False)"
   ]
  },
  {
   "cell_type": "code",
   "execution_count": 12,
   "id": "a0783faf",
   "metadata": {},
   "outputs": [],
   "source": [
    "wms[\"owner\"] = np.where(\n",
    "    wms[\"ownership\"].isnull(),\n",
    "    np.nan,\n",
    "    np.where(\n",
    "        wms[\"ownership\"] == \"Government\",\n",
    "        \"govt\",\n",
    "        np.where(\n",
    "            wms[\"ownership\"].str.contains(\"family\", regex=False),\n",
    "            \"family\",\n",
    "            np.where(wms[\"ownership\"] == \"Other\", \"other\", \"private\"),\n",
    "        ),\n",
    "    ),\n",
    ")"
   ]
  },
  {
   "cell_type": "code",
   "execution_count": 13,
   "id": "4b1de703",
   "metadata": {},
   "outputs": [
    {
     "data": {
      "text/plain": [
       "private    10661\n",
       "family      2370\n",
       "other        968\n",
       "govt         261\n",
       "nan           17\n",
       "Name: owner, dtype: int64"
      ]
     },
     "execution_count": 13,
     "metadata": {},
     "output_type": "execute_result"
    }
   ],
   "source": [
    "wms[\"owner\"].value_counts(dropna=False)"
   ]
  },
  {
   "cell_type": "markdown",
   "id": "3db35114",
   "metadata": {},
   "source": [
    "### Good-to-know: labeled ordered categorical variable: \n",
    "labels are ordered, however difference is only in few application"
   ]
  },
  {
   "cell_type": "code",
   "execution_count": 14,
   "id": "6eec8d56",
   "metadata": {},
   "outputs": [],
   "source": [
    "wms[\"lean1_ord\"] = pd.cut(\n",
    "    wms[\"lean1\"], 5, labels=[\"extremly poor\", \"bad\", \"mediocre\", \"good\", \"excellent\"]\n",
    ")"
   ]
  },
  {
   "cell_type": "markdown",
   "id": "29730bd8",
   "metadata": {},
   "source": [
    "Can easily plot"
   ]
  },
  {
   "cell_type": "code",
   "execution_count": 15,
   "id": "60866fa2",
   "metadata": {},
   "outputs": [
    {
     "data": {
      "image/png": "[encoded data removed]",
      "text/plain": [
       "<Figure size 432x288 with 1 Axes>"
      ]
     },
     "metadata": {},
     "output_type": "display_data"
    },
    {
     "data": {
      "text/plain": [
       "<ggplot: (363255460)>"
      ]
     },
     "execution_count": 15,
     "metadata": {},
     "output_type": "execute_result"
    }
   ],
   "source": [
    "(\n",
    "    ggplot(wms, aes(x=\"lean1_ord\", y=\"avg_score\"))\n",
    "    + stat_summary(geom=\"point\", fun_data=\"mean_se\", size=8, fill=\"red\")\n",
    "    + labs(x=\"Lean 1 score\", y=\"Mean average management score\")\n",
    "    + theme_bw()\n",
    ")"
   ]
  },
  {
   "cell_type": "markdown",
   "id": "b09b39eb",
   "metadata": {},
   "source": [
    "#### Task:\n",
    "Create the same graph, but using the `talent2` variable instead"
   ]
  },
  {
   "cell_type": "code",
   "execution_count": 16,
   "id": "f8f28a2e",
   "metadata": {},
   "outputs": [],
   "source": [
    "wms[\"talent2_ord\"] = pd.cut(\n",
    "    wms[\"talent2\"], 5, labels=[\"extremly poor\", \"bad\", \"mediocre\", \"good\", \"excellent\"]\n",
    ")"
   ]
  },
  {
   "cell_type": "code",
   "execution_count": 17,
   "id": "12ec69de",
   "metadata": {},
   "outputs": [
    {
     "data": {
      "image/png": "[encoded data removed]",
      "text/plain": [
       "<Figure size 640x480 with 1 Axes>"
      ]
     },
     "metadata": {},
     "output_type": "display_data"
    },
    {
     "data": {
      "text/plain": [
       "<ggplot: (364027613)>"
      ]
     },
     "execution_count": 17,
     "metadata": {},
     "output_type": "execute_result"
    }
   ],
   "source": [
    "(\n",
    "    ggplot(wms, aes(x=\"talent2_ord\", y=\"avg_score\"))\n",
    "    + stat_summary(geom=\"point\", fun_data=\"mean_se\", size=8, fill=\"red\")\n",
    "    + labs(x=\"Talent 1 score\", y=\"Mean average management score\")\n",
    "    + theme_bw()\n",
    ")"
   ]
  },
  {
   "cell_type": "markdown",
   "id": "bbde8af1",
   "metadata": {},
   "source": [
    "##### Numeric to ordered"
   ]
  },
  {
   "cell_type": "markdown",
   "id": "3fac39b8",
   "metadata": {},
   "source": [
    "It is hard to get any conclusion if we plot the pattern between \n",
    "   average management score and number of employees"
   ]
  },
  {
   "cell_type": "code",
   "execution_count": 18,
   "id": "a782e6aa",
   "metadata": {},
   "outputs": [
    {
     "data": {
      "image/png": "[encoded data removed]",
      "text/plain": [
       "<Figure size 640x480 with 1 Axes>"
      ]
     },
     "metadata": {},
     "output_type": "display_data"
    },
    {
     "data": {
      "text/plain": [
       "<ggplot: (364066633)>"
      ]
     },
     "execution_count": 18,
     "metadata": {},
     "output_type": "execute_result"
    }
   ],
   "source": [
    "(\n",
    "    ggplot(wms, aes(x=\"emp_firm\", y=\"avg_score\"))\n",
    "    + geom_point(color=\"red\", size=2, alpha=0.6)\n",
    "    + labs(x=\"Number of employees\", y=\"Mean average management score\")\n",
    "    + theme_bw()\n",
    ")"
   ]
  },
  {
   "cell_type": "markdown",
   "id": "59bd2549",
   "metadata": {},
   "source": [
    "One simple way to solve this issue:\\\n",
    "Simplifying firm size: creating categories from numeric"
   ]
  },
  {
   "cell_type": "code",
   "execution_count": 19,
   "id": "08c66aa7",
   "metadata": {},
   "outputs": [],
   "source": [
    "wms[\"emp_cat\"] = pd.cut(\n",
    "    wms[\"emp_firm\"], bins=[0, 200, 1000, np.inf], labels=[\"small\", \"medium\", \"large\"]\n",
    ")"
   ]
  },
  {
   "cell_type": "code",
   "execution_count": 20,
   "id": "c47440d7",
   "metadata": {},
   "outputs": [
    {
     "data": {
      "image/png": "[encoded data removed]",
      "text/plain": [
       "<Figure size 640x480 with 1 Axes>"
      ]
     },
     "metadata": {},
     "output_type": "display_data"
    },
    {
     "data": {
      "text/plain": [
       "<ggplot: (364135554)>"
      ]
     },
     "execution_count": 20,
     "metadata": {},
     "output_type": "execute_result"
    }
   ],
   "source": [
    "(\n",
    "    ggplot(\n",
    "        wms.loc[\n",
    "            lambda x: x[\"emp_cat\"].notnull(),\n",
    "        ],\n",
    "        aes(x=\"emp_cat\", y=\"avg_score\"),\n",
    "    )\n",
    "    + stat_summary(geom=\"point\", fun_data=\"mean_se\", size=8, fill=\"red\", na_rm=True)\n",
    "    + labs(x=\"Firm size\", y=\"Mean average management score\")\n",
    "    + theme_bw()\n",
    ")"
   ]
  },
  {
   "cell_type": "markdown",
   "id": "9d2cac05",
   "metadata": {},
   "source": [
    "### Factors Or Dummies"
   ]
  },
  {
   "cell_type": "markdown",
   "id": "55e21f08",
   "metadata": {},
   "source": [
    "Creating multiple factor dummy from a categorical"
   ]
  },
  {
   "cell_type": "code",
   "execution_count": 21,
   "id": "83d577a8",
   "metadata": {},
   "outputs": [
    {
     "data": {
      "text/html": [
       "<div>\n",
       "<style scoped>\n",
       "    .dataframe tbody tr th:only-of-type {\n",
       "        vertical-align: middle;\n",
       "    }\n",
       "\n",
       "    .dataframe tbody tr th {\n",
       "        vertical-align: top;\n",
       "    }\n",
       "\n",
       "    .dataframe thead th {\n",
       "        text-align: right;\n",
       "    }\n",
       "</style>\n",
       "<table border=\"1\" class=\"dataframe\">\n",
       "  <thead>\n",
       "    <tr style=\"text-align: right;\">\n",
       "      <th></th>\n",
       "      <th>small</th>\n",
       "      <th>medium</th>\n",
       "      <th>large</th>\n",
       "      <th>NaN</th>\n",
       "    </tr>\n",
       "  </thead>\n",
       "  <tbody>\n",
       "    <tr>\n",
       "      <th>0</th>\n",
       "      <td>0</td>\n",
       "      <td>1</td>\n",
       "      <td>0</td>\n",
       "      <td>0</td>\n",
       "    </tr>\n",
       "    <tr>\n",
       "      <th>1</th>\n",
       "      <td>0</td>\n",
       "      <td>1</td>\n",
       "      <td>0</td>\n",
       "      <td>0</td>\n",
       "    </tr>\n",
       "    <tr>\n",
       "      <th>2</th>\n",
       "      <td>0</td>\n",
       "      <td>0</td>\n",
       "      <td>1</td>\n",
       "      <td>0</td>\n",
       "    </tr>\n",
       "    <tr>\n",
       "      <th>3</th>\n",
       "      <td>1</td>\n",
       "      <td>0</td>\n",
       "      <td>0</td>\n",
       "      <td>0</td>\n",
       "    </tr>\n",
       "    <tr>\n",
       "      <th>4</th>\n",
       "      <td>1</td>\n",
       "      <td>0</td>\n",
       "      <td>0</td>\n",
       "      <td>0</td>\n",
       "    </tr>\n",
       "    <tr>\n",
       "      <th>...</th>\n",
       "      <td>...</td>\n",
       "      <td>...</td>\n",
       "      <td>...</td>\n",
       "      <td>...</td>\n",
       "    </tr>\n",
       "    <tr>\n",
       "      <th>14272</th>\n",
       "      <td>1</td>\n",
       "      <td>0</td>\n",
       "      <td>0</td>\n",
       "      <td>0</td>\n",
       "    </tr>\n",
       "    <tr>\n",
       "      <th>14273</th>\n",
       "      <td>0</td>\n",
       "      <td>1</td>\n",
       "      <td>0</td>\n",
       "      <td>0</td>\n",
       "    </tr>\n",
       "    <tr>\n",
       "      <th>14274</th>\n",
       "      <td>1</td>\n",
       "      <td>0</td>\n",
       "      <td>0</td>\n",
       "      <td>0</td>\n",
       "    </tr>\n",
       "    <tr>\n",
       "      <th>14275</th>\n",
       "      <td>0</td>\n",
       "      <td>1</td>\n",
       "      <td>0</td>\n",
       "      <td>0</td>\n",
       "    </tr>\n",
       "    <tr>\n",
       "      <th>14276</th>\n",
       "      <td>0</td>\n",
       "      <td>1</td>\n",
       "      <td>0</td>\n",
       "      <td>0</td>\n",
       "    </tr>\n",
       "  </tbody>\n",
       "</table>\n",
       "<p>14277 rows × 4 columns</p>\n",
       "</div>"
      ],
      "text/plain": [
       "       small  medium  large  NaN\n",
       "0          0       1      0    0\n",
       "1          0       1      0    0\n",
       "2          0       0      1    0\n",
       "3          1       0      0    0\n",
       "4          1       0      0    0\n",
       "...      ...     ...    ...  ...\n",
       "14272      1       0      0    0\n",
       "14273      0       1      0    0\n",
       "14274      1       0      0    0\n",
       "14275      0       1      0    0\n",
       "14276      0       1      0    0\n",
       "\n",
       "[14277 rows x 4 columns]"
      ]
     },
     "execution_count": 21,
     "metadata": {},
     "output_type": "execute_result"
    }
   ],
   "source": [
    "dummies = pd.get_dummies(wms[\"emp_cat\"], dummy_na = True)\n",
    "dummies"
   ]
  },
  {
   "cell_type": "markdown",
   "id": "0aff059d",
   "metadata": {},
   "source": [
    "You can easily concatenate this to the original dataframe"
   ]
  },
  {
   "cell_type": "code",
   "execution_count": 22,
   "id": "2fe6bd65",
   "metadata": {},
   "outputs": [
    {
     "data": {
      "text/html": [
       "<div>\n",
       "<style scoped>\n",
       "    .dataframe tbody tr th:only-of-type {\n",
       "        vertical-align: middle;\n",
       "    }\n",
       "\n",
       "    .dataframe tbody tr th {\n",
       "        vertical-align: top;\n",
       "    }\n",
       "\n",
       "    .dataframe thead th {\n",
       "        text-align: right;\n",
       "    }\n",
       "</style>\n",
       "<table border=\"1\" class=\"dataframe\">\n",
       "  <thead>\n",
       "    <tr style=\"text-align: right;\">\n",
       "      <th></th>\n",
       "      <th>firmid</th>\n",
       "      <th>wave</th>\n",
       "      <th>cty</th>\n",
       "      <th>country</th>\n",
       "      <th>sic</th>\n",
       "      <th>management</th>\n",
       "      <th>operations</th>\n",
       "      <th>monitor</th>\n",
       "      <th>target</th>\n",
       "      <th>people</th>\n",
       "      <th>...</th>\n",
       "      <th>sum_aa</th>\n",
       "      <th>continent</th>\n",
       "      <th>owner</th>\n",
       "      <th>lean1_ord</th>\n",
       "      <th>talent2_ord</th>\n",
       "      <th>emp_cat</th>\n",
       "      <th>small</th>\n",
       "      <th>medium</th>\n",
       "      <th>large</th>\n",
       "      <th>NaN</th>\n",
       "    </tr>\n",
       "  </thead>\n",
       "  <tbody>\n",
       "    <tr>\n",
       "      <th>0</th>\n",
       "      <td>1</td>\n",
       "      <td>2004</td>\n",
       "      <td>us</td>\n",
       "      <td>United States</td>\n",
       "      <td>38.0</td>\n",
       "      <td>3.500000</td>\n",
       "      <td>3.0</td>\n",
       "      <td>3.6</td>\n",
       "      <td>3.6</td>\n",
       "      <td>3.500000</td>\n",
       "      <td>...</td>\n",
       "      <td>1.0</td>\n",
       "      <td>North America</td>\n",
       "      <td>other</td>\n",
       "      <td>mediocre</td>\n",
       "      <td>good</td>\n",
       "      <td>medium</td>\n",
       "      <td>0</td>\n",
       "      <td>1</td>\n",
       "      <td>0</td>\n",
       "      <td>0</td>\n",
       "    </tr>\n",
       "    <tr>\n",
       "      <th>1</th>\n",
       "      <td>1</td>\n",
       "      <td>2006</td>\n",
       "      <td>us</td>\n",
       "      <td>United States</td>\n",
       "      <td>38.0</td>\n",
       "      <td>3.166667</td>\n",
       "      <td>5.0</td>\n",
       "      <td>3.8</td>\n",
       "      <td>2.6</td>\n",
       "      <td>2.500000</td>\n",
       "      <td>...</td>\n",
       "      <td>1.0</td>\n",
       "      <td>North America</td>\n",
       "      <td>private</td>\n",
       "      <td>excellent</td>\n",
       "      <td>bad</td>\n",
       "      <td>medium</td>\n",
       "      <td>0</td>\n",
       "      <td>1</td>\n",
       "      <td>0</td>\n",
       "      <td>0</td>\n",
       "    </tr>\n",
       "    <tr>\n",
       "      <th>2</th>\n",
       "      <td>1</td>\n",
       "      <td>2010</td>\n",
       "      <td>us</td>\n",
       "      <td>United States</td>\n",
       "      <td>38.0</td>\n",
       "      <td>3.000000</td>\n",
       "      <td>2.0</td>\n",
       "      <td>2.8</td>\n",
       "      <td>3.6</td>\n",
       "      <td>3.000000</td>\n",
       "      <td>...</td>\n",
       "      <td>1.0</td>\n",
       "      <td>North America</td>\n",
       "      <td>private</td>\n",
       "      <td>bad</td>\n",
       "      <td>mediocre</td>\n",
       "      <td>large</td>\n",
       "      <td>0</td>\n",
       "      <td>0</td>\n",
       "      <td>1</td>\n",
       "      <td>0</td>\n",
       "    </tr>\n",
       "    <tr>\n",
       "      <th>3</th>\n",
       "      <td>2</td>\n",
       "      <td>2004</td>\n",
       "      <td>us</td>\n",
       "      <td>United States</td>\n",
       "      <td>28.0</td>\n",
       "      <td>4.666667</td>\n",
       "      <td>4.5</td>\n",
       "      <td>4.8</td>\n",
       "      <td>4.4</td>\n",
       "      <td>4.833333</td>\n",
       "      <td>...</td>\n",
       "      <td>1.0</td>\n",
       "      <td>North America</td>\n",
       "      <td>other</td>\n",
       "      <td>good</td>\n",
       "      <td>excellent</td>\n",
       "      <td>small</td>\n",
       "      <td>1</td>\n",
       "      <td>0</td>\n",
       "      <td>0</td>\n",
       "      <td>0</td>\n",
       "    </tr>\n",
       "    <tr>\n",
       "      <th>4</th>\n",
       "      <td>2</td>\n",
       "      <td>2004</td>\n",
       "      <td>us</td>\n",
       "      <td>United States</td>\n",
       "      <td>28.0</td>\n",
       "      <td>4.444445</td>\n",
       "      <td>4.5</td>\n",
       "      <td>4.6</td>\n",
       "      <td>4.4</td>\n",
       "      <td>4.333333</td>\n",
       "      <td>...</td>\n",
       "      <td>1.0</td>\n",
       "      <td>North America</td>\n",
       "      <td>other</td>\n",
       "      <td>excellent</td>\n",
       "      <td>excellent</td>\n",
       "      <td>small</td>\n",
       "      <td>1</td>\n",
       "      <td>0</td>\n",
       "      <td>0</td>\n",
       "      <td>0</td>\n",
       "    </tr>\n",
       "  </tbody>\n",
       "</table>\n",
       "<p>5 rows × 256 columns</p>\n",
       "</div>"
      ],
      "text/plain": [
       "   firmid  wave cty        country   sic  management  operations  monitor  \\\n",
       "0       1  2004  us  United States  38.0    3.500000         3.0      3.6   \n",
       "1       1  2006  us  United States  38.0    3.166667         5.0      3.8   \n",
       "2       1  2010  us  United States  38.0    3.000000         2.0      2.8   \n",
       "3       2  2004  us  United States  28.0    4.666667         4.5      4.8   \n",
       "4       2  2004  us  United States  28.0    4.444445         4.5      4.6   \n",
       "\n",
       "   target    people  ...  sum_aa      continent    owner  lean1_ord  \\\n",
       "0     3.6  3.500000  ...     1.0  North America    other   mediocre   \n",
       "1     2.6  2.500000  ...     1.0  North America  private  excellent   \n",
       "2     3.6  3.000000  ...     1.0  North America  private        bad   \n",
       "3     4.4  4.833333  ...     1.0  North America    other       good   \n",
       "4     4.4  4.333333  ...     1.0  North America    other  excellent   \n",
       "\n",
       "   talent2_ord  emp_cat  small  medium  large  NaN  \n",
       "0         good   medium      0       1      0    0  \n",
       "1          bad   medium      0       1      0    0  \n",
       "2     mediocre    large      0       0      1    0  \n",
       "3    excellent    small      1       0      0    0  \n",
       "4    excellent    small      1       0      0    0  \n",
       "\n",
       "[5 rows x 256 columns]"
      ]
     },
     "execution_count": 22,
     "metadata": {},
     "output_type": "execute_result"
    }
   ],
   "source": [
    "wms = pd.concat([wms,dummies],axis=1)\n",
    "wms.head()"
   ]
  },
  {
   "cell_type": "markdown",
   "id": "74a5e516",
   "metadata": {},
   "source": [
    "### Extra:\n",
    "\n",
    "principle component analysis or PCA\n",
    "\n",
    "One can argue, that the mean of the score is not the best measure, as it takes each value with the same weight \\\n",
    "An alternative solution is creating principal components, which transform the original variables."
   ]
  },
  {
   "cell_type": "markdown",
   "id": "cc9bc3dc",
   "metadata": {},
   "source": [
    "import PCA function from sklearn"
   ]
  },
  {
   "cell_type": "code",
   "execution_count": 23,
   "id": "9a73d32e",
   "metadata": {},
   "outputs": [],
   "source": [
    "from sklearn.decomposition import PCA"
   ]
  },
  {
   "cell_type": "markdown",
   "id": "fdd9ab12",
   "metadata": {},
   "source": [
    "Let us create principle components with all the questionnaires. \\\n",
    "have to make sure there is no NA value"
   ]
  },
  {
   "cell_type": "code",
   "execution_count": 24,
   "id": "b02c7ebb",
   "metadata": {},
   "outputs": [
    {
     "data": {
      "text/plain": [
       "(13653, 18)"
      ]
     },
     "execution_count": 24,
     "metadata": {},
     "output_type": "execute_result"
    }
   ],
   "source": [
    "original_variables = wms.filter(regex=\"lean|perf|talent\").filter(regex=\"^(?!.*ord).*$\").dropna()\n",
    "original_variables.shape"
   ]
  },
  {
   "cell_type": "markdown",
   "id": "e3eb4c9c",
   "metadata": {},
   "source": [
    "fit PCA model"
   ]
  },
  {
   "cell_type": "code",
   "execution_count": 25,
   "id": "a44c7560",
   "metadata": {},
   "outputs": [
    {
     "data": {
      "text/html": [
       "<style>#sk-container-id-1 {color: black;background-color: white;}#sk-container-id-1 pre{padding: 0;}#sk-container-id-1 div.sk-toggleable {background-color: white;}#sk-container-id-1 label.sk-toggleable__label {cursor: pointer;display: block;width: 100%;margin-bottom: 0;padding: 0.3em;box-sizing: border-box;text-align: center;}#sk-container-id-1 label.sk-toggleable__label-arrow:before {content: \"▸\";float: left;margin-right: 0.25em;color: #696969;}#sk-container-id-1 label.sk-toggleable__label-arrow:hover:before {color: black;}#sk-container-id-1 div.sk-estimator:hover label.sk-toggleable__label-arrow:before {color: black;}#sk-container-id-1 div.sk-toggleable__content {max-height: 0;max-width: 0;overflow: hidden;text-align: left;background-color: #f0f8ff;}#sk-container-id-1 div.sk-toggleable__content pre {margin: 0.2em;color: black;border-radius: 0.25em;background-color: #f0f8ff;}#sk-container-id-1 input.sk-toggleable__control:checked~div.sk-toggleable__content {max-height: 200px;max-width: 100%;overflow: auto;}#sk-container-id-1 input.sk-toggleable__control:checked~label.sk-toggleable__label-arrow:before {content: \"▾\";}#sk-container-id-1 div.sk-estimator input.sk-toggleable__control:checked~label.sk-toggleable__label {background-color: #d4ebff;}#sk-container-id-1 div.sk-label input.sk-toggleable__control:checked~label.sk-toggleable__label {background-color: #d4ebff;}#sk-container-id-1 input.sk-hidden--visually {border: 0;clip: rect(1px 1px 1px 1px);clip: rect(1px, 1px, 1px, 1px);height: 1px;margin: -1px;overflow: hidden;padding: 0;position: absolute;width: 1px;}#sk-container-id-1 div.sk-estimator {font-family: monospace;background-color: #f0f8ff;border: 1px dotted black;border-radius: 0.25em;box-sizing: border-box;margin-bottom: 0.5em;}#sk-container-id-1 div.sk-estimator:hover {background-color: #d4ebff;}#sk-container-id-1 div.sk-parallel-item::after {content: \"\";width: 100%;border-bottom: 1px solid gray;flex-grow: 1;}#sk-container-id-1 div.sk-label:hover label.sk-toggleable__label {background-color: #d4ebff;}#sk-container-id-1 div.sk-serial::before {content: \"\";position: absolute;border-left: 1px solid gray;box-sizing: border-box;top: 0;bottom: 0;left: 50%;z-index: 0;}#sk-container-id-1 div.sk-serial {display: flex;flex-direction: column;align-items: center;background-color: white;padding-right: 0.2em;padding-left: 0.2em;position: relative;}#sk-container-id-1 div.sk-item {position: relative;z-index: 1;}#sk-container-id-1 div.sk-parallel {display: flex;align-items: stretch;justify-content: center;background-color: white;position: relative;}#sk-container-id-1 div.sk-item::before, #sk-container-id-1 div.sk-parallel-item::before {content: \"\";position: absolute;border-left: 1px solid gray;box-sizing: border-box;top: 0;bottom: 0;left: 50%;z-index: -1;}#sk-container-id-1 div.sk-parallel-item {display: flex;flex-direction: column;z-index: 1;position: relative;background-color: white;}#sk-container-id-1 div.sk-parallel-item:first-child::after {align-self: flex-end;width: 50%;}#sk-container-id-1 div.sk-parallel-item:last-child::after {align-self: flex-start;width: 50%;}#sk-container-id-1 div.sk-parallel-item:only-child::after {width: 0;}#sk-container-id-1 div.sk-dashed-wrapped {border: 1px dashed gray;margin: 0 0.4em 0.5em 0.4em;box-sizing: border-box;padding-bottom: 0.4em;background-color: white;}#sk-container-id-1 div.sk-label label {font-family: monospace;font-weight: bold;display: inline-block;line-height: 1.2em;}#sk-container-id-1 div.sk-label-container {text-align: center;}#sk-container-id-1 div.sk-container {/* jupyter's `normalize.less` sets `[hidden] { display: none; }` but bootstrap.min.css set `[hidden] { display: none !important; }` so we also need the `!important` here to be able to override the default hidden behavior on the sphinx rendered scikit-learn.org. See: https://github.com/scikit-learn/scikit-learn/issues/21755 */display: inline-block !important;position: relative;}#sk-container-id-1 div.sk-text-repr-fallback {display: none;}</style><div id=\"sk-container-id-1\" class=\"sk-top-container\"><div class=\"sk-text-repr-fallback\"><pre>PCA()</pre><b>In a Jupyter environment, please rerun this cell to show the HTML representation or trust the notebook. <br />On GitHub, the HTML representation is unable to render, please try loading this page with nbviewer.org.</b></div><div class=\"sk-container\" hidden><div class=\"sk-item\"><div class=\"sk-estimator sk-toggleable\"><input class=\"sk-toggleable__control sk-hidden--visually\" id=\"sk-estimator-id-1\" type=\"checkbox\" checked><label for=\"sk-estimator-id-1\" class=\"sk-toggleable__label sk-toggleable__label-arrow\">PCA</label><div class=\"sk-toggleable__content\"><pre>PCA()</pre></div></div></div></div></div>"
      ],
      "text/plain": [
       "PCA()"
      ]
     },
     "execution_count": 25,
     "metadata": {},
     "output_type": "execute_result"
    }
   ],
   "source": [
    "pca = PCA()\n",
    "\n",
    "pca.fit(original_variables)"
   ]
  },
  {
   "cell_type": "markdown",
   "id": "a9541bff",
   "metadata": {},
   "source": [
    "We have the same number of variables, but they are transformed.\n",
    "\n",
    "As PCA is an information reductionist approach, we can see, \n",
    "     which transformed variable explains what percent of the overall information (variation)"
   ]
  },
  {
   "cell_type": "code",
   "execution_count": 26,
   "id": "1de3ed38",
   "metadata": {},
   "outputs": [
    {
     "data": {
      "text/plain": [
       "array([0.45619448, 0.06927299, 0.05498153, 0.04563192, 0.03942608,\n",
       "       0.03631061, 0.03557364, 0.03326425, 0.02915193, 0.02883196,\n",
       "       0.02601336, 0.02466303, 0.02382828, 0.02349845, 0.02207764,\n",
       "       0.0195712 , 0.01616723, 0.01554141])"
      ]
     },
     "execution_count": 26,
     "metadata": {},
     "output_type": "execute_result"
    }
   ],
   "source": [
    "pca.explained_variance_ratio_"
   ]
  },
  {
   "cell_type": "markdown",
   "id": "24a5f909",
   "metadata": {},
   "source": [
    "Let us decide to use only the first variable, which explains 45.6%"
   ]
  },
  {
   "cell_type": "code",
   "execution_count": 27,
   "id": "fb3b77bc",
   "metadata": {},
   "outputs": [
    {
     "data": {
      "text/plain": [
       "(13653, 18)"
      ]
     },
     "execution_count": 27,
     "metadata": {},
     "output_type": "execute_result"
    }
   ],
   "source": [
    "pca_components = pd.DataFrame(\n",
    "    pca.fit_transform(original_variables),\n",
    "    columns=[\"PC%s\" % str(i + 1) for i in range(len(original_variables.columns))],\n",
    ")\n",
    "pca_components.shape"
   ]
  },
  {
   "cell_type": "markdown",
   "id": "9ef58ff9",
   "metadata": {},
   "source": [
    "aux: add firmid and wave with same filter to match PCs to wms data"
   ]
  },
  {
   "cell_type": "code",
   "execution_count": 28,
   "id": "a0975e5d",
   "metadata": {},
   "outputs": [
    {
     "data": {
      "text/plain": [
       "(13653, 2)"
      ]
     },
     "execution_count": 28,
     "metadata": {},
     "output_type": "execute_result"
    }
   ],
   "source": [
    "aux = (\n",
    "    wms.filter(regex=\"lean|perf|talent|wave|firmid\")\n",
    "    .filter(regex=\"^(?!.*ord).*$\")\n",
    "    .dropna()\n",
    "    .filter([\"wave\", \"firmid\"])\n",
    "    .reset_index(drop=True)\n",
    ")\n",
    "aux.shape"
   ]
  },
  {
   "cell_type": "markdown",
   "id": "0aedf82f",
   "metadata": {},
   "source": [
    "add firmid wave and only PC0 from pca-s"
   ]
  },
  {
   "cell_type": "code",
   "execution_count": 29,
   "id": "e9bd0df8",
   "metadata": {},
   "outputs": [
    {
     "data": {
      "text/plain": [
       "(13653, 3)"
      ]
     },
     "execution_count": 29,
     "metadata": {},
     "output_type": "execute_result"
    }
   ],
   "source": [
    "pca_dataframe = pd.concat([aux, pca_components[\"PC1\"]], axis=1)\n",
    "\n",
    "pca_dataframe.shape"
   ]
  },
  {
   "cell_type": "markdown",
   "id": "f0e403a4",
   "metadata": {},
   "source": [
    "add to wms data"
   ]
  },
  {
   "cell_type": "code",
   "execution_count": 30,
   "id": "bd96a835",
   "metadata": {},
   "outputs": [],
   "source": [
    "wms = wms.merge(pca_dataframe, on = [\"firmid\",\"wave\"],how=\"left\")"
   ]
  },
  {
   "cell_type": "markdown",
   "id": "7945082d",
   "metadata": {},
   "source": [
    "Compare descriptives with average score\n"
   ]
  },
  {
   "cell_type": "code",
   "execution_count": 31,
   "id": "36fa07dc",
   "metadata": {},
   "outputs": [
    {
     "data": {
      "text/html": [
       "<div>\n",
       "<style scoped>\n",
       "    .dataframe tbody tr th:only-of-type {\n",
       "        vertical-align: middle;\n",
       "    }\n",
       "\n",
       "    .dataframe tbody tr th {\n",
       "        vertical-align: top;\n",
       "    }\n",
       "\n",
       "    .dataframe thead th {\n",
       "        text-align: right;\n",
       "    }\n",
       "</style>\n",
       "<table border=\"1\" class=\"dataframe\">\n",
       "  <thead>\n",
       "    <tr style=\"text-align: right;\">\n",
       "      <th></th>\n",
       "      <th>avg_score</th>\n",
       "      <th>PC1</th>\n",
       "    </tr>\n",
       "  </thead>\n",
       "  <tbody>\n",
       "    <tr>\n",
       "      <th>count</th>\n",
       "      <td>14904.000000</td>\n",
       "      <td>14310.000000</td>\n",
       "    </tr>\n",
       "    <tr>\n",
       "      <th>mean</th>\n",
       "      <td>2.929302</td>\n",
       "      <td>0.044593</td>\n",
       "    </tr>\n",
       "    <tr>\n",
       "      <th>std</th>\n",
       "      <td>0.673066</td>\n",
       "      <td>2.897535</td>\n",
       "    </tr>\n",
       "    <tr>\n",
       "      <th>min</th>\n",
       "      <td>1.000000</td>\n",
       "      <td>-8.104674</td>\n",
       "    </tr>\n",
       "    <tr>\n",
       "      <th>25%</th>\n",
       "      <td>2.500000</td>\n",
       "      <td>-1.914868</td>\n",
       "    </tr>\n",
       "    <tr>\n",
       "      <th>50%</th>\n",
       "      <td>2.944444</td>\n",
       "      <td>0.075847</td>\n",
       "    </tr>\n",
       "    <tr>\n",
       "      <th>75%</th>\n",
       "      <td>3.388889</td>\n",
       "      <td>2.033661</td>\n",
       "    </tr>\n",
       "    <tr>\n",
       "      <th>max</th>\n",
       "      <td>5.000000</td>\n",
       "      <td>8.548531</td>\n",
       "    </tr>\n",
       "  </tbody>\n",
       "</table>\n",
       "</div>"
      ],
      "text/plain": [
       "          avg_score           PC1\n",
       "count  14904.000000  14310.000000\n",
       "mean       2.929302      0.044593\n",
       "std        0.673066      2.897535\n",
       "min        1.000000     -8.104674\n",
       "25%        2.500000     -1.914868\n",
       "50%        2.944444      0.075847\n",
       "75%        3.388889      2.033661\n",
       "max        5.000000      8.548531"
      ]
     },
     "execution_count": 31,
     "metadata": {},
     "output_type": "execute_result"
    }
   ],
   "source": [
    "wms.filter([\"avg_score\", \"PC1\"]).describe()"
   ]
  },
  {
   "cell_type": "markdown",
   "id": "7c730a39",
   "metadata": {},
   "source": [
    "Create a bin-scatter with PC1"
   ]
  },
  {
   "cell_type": "code",
   "execution_count": 32,
   "id": "e3e9b470",
   "metadata": {},
   "outputs": [
    {
     "data": {
      "image/png": "[encoded data removed]",
      "text/plain": [
       "<Figure size 640x480 with 1 Axes>"
      ]
     },
     "metadata": {},
     "output_type": "display_data"
    },
    {
     "data": {
      "text/plain": [
       "<ggplot: (364263154)>"
      ]
     },
     "execution_count": 32,
     "metadata": {},
     "output_type": "execute_result"
    }
   ],
   "source": [
    "(\n",
    "    ggplot(\n",
    "        wms.loc[\n",
    "            lambda x: x[\"emp_cat\"].notnull(),\n",
    "        ],\n",
    "        aes(x=\"emp_cat\", y=\"PC1\"),\n",
    "    )\n",
    "    + stat_summary(geom=\"point\", fun_data=\"mean_se\", size=8, fill=\"red\", na_rm=True)\n",
    "    + labs(x=\"Firm size\", y=\"Principal component\")\n",
    "    + theme_bw()\n",
    ")"
   ]
  },
  {
   "cell_type": "markdown",
   "id": "9c71650e",
   "metadata": {},
   "source": [
    "Notes: \n",
    "  1) PCA is especially useful when you have too many explanatory variables and want to reduce num vars, \n",
    "      with minimal information loss. However, should use it with care, especially with time series! \\\n",
    "  2) There are many variations of PCA, if one starts to `rotate` the factors \n",
    "      to make some meaningful variables out of it (especially in psychology) \\\n",
    "  3) There are many packages, which carry out PCA, this is pretty much the simplest intro here... \\"
   ]
  },
  {
   "cell_type": "markdown",
   "id": "7a15a882",
   "metadata": {},
   "source": [
    "## Part II<a class = 'anchor' id = 'part2'></a>"
   ]
  },
  {
   "cell_type": "markdown",
   "id": "aaadbe3c",
   "metadata": {},
   "source": [
    "Bisnode data to show real-life situations for:\n",
    "  - imputing: \n",
    "      - A: replacing with mean or median\n",
    "      - B: using outside knowledge to replace values\n",
    "      - C: introduce new value -> only for categorical values\n",
    "  - log transformation adjustment: log(0) is -Inf -> adjust numerically\n",
    "  - create dummy variable(s) with multiple statements: using lead() function\n",
    "  - randomizing large data for visualization\n",
    "  - growth rate with log difference: using lag() function\n",
    "  - winsorizing"
   ]
  },
  {
   "cell_type": "markdown",
   "id": "b2b6fba0",
   "metadata": {},
   "source": [
    "Using bisnode data for firm exit"
   ]
  },
  {
   "cell_type": "code",
   "execution_count": 33,
   "id": "f209e76a",
   "metadata": {},
   "outputs": [
    {
     "data": {
      "text/html": [
       "<div>\n",
       "<style scoped>\n",
       "    .dataframe tbody tr th:only-of-type {\n",
       "        vertical-align: middle;\n",
       "    }\n",
       "\n",
       "    .dataframe tbody tr th {\n",
       "        vertical-align: top;\n",
       "    }\n",
       "\n",
       "    .dataframe thead th {\n",
       "        text-align: right;\n",
       "    }\n",
       "</style>\n",
       "<table border=\"1\" class=\"dataframe\">\n",
       "  <thead>\n",
       "    <tr style=\"text-align: right;\">\n",
       "      <th></th>\n",
       "      <th>comp_id</th>\n",
       "      <th>begin</th>\n",
       "      <th>end</th>\n",
       "      <th>COGS</th>\n",
       "      <th>amort</th>\n",
       "      <th>curr_assets</th>\n",
       "      <th>curr_liab</th>\n",
       "      <th>extra_exp</th>\n",
       "      <th>extra_inc</th>\n",
       "      <th>extra_profit_loss</th>\n",
       "      <th>...</th>\n",
       "      <th>gender</th>\n",
       "      <th>origin</th>\n",
       "      <th>nace_main</th>\n",
       "      <th>ind2</th>\n",
       "      <th>ind</th>\n",
       "      <th>urban_m</th>\n",
       "      <th>region_m</th>\n",
       "      <th>founded_date</th>\n",
       "      <th>exit_date</th>\n",
       "      <th>labor_avg</th>\n",
       "    </tr>\n",
       "  </thead>\n",
       "  <tbody>\n",
       "    <tr>\n",
       "      <th>0</th>\n",
       "      <td>1001034.0</td>\n",
       "      <td>2005-01-01</td>\n",
       "      <td>2005-12-31</td>\n",
       "      <td>NaN</td>\n",
       "      <td>692.592590</td>\n",
       "      <td>7266.666504</td>\n",
       "      <td>7574.074219</td>\n",
       "      <td>0.0</td>\n",
       "      <td>0.0</td>\n",
       "      <td>0.0</td>\n",
       "      <td>...</td>\n",
       "      <td>mix</td>\n",
       "      <td>Domestic</td>\n",
       "      <td>5630.0</td>\n",
       "      <td>56.0</td>\n",
       "      <td>3.0</td>\n",
       "      <td>1</td>\n",
       "      <td>Central</td>\n",
       "      <td>1990-11-19</td>\n",
       "      <td>NaN</td>\n",
       "      <td>NaN</td>\n",
       "    </tr>\n",
       "    <tr>\n",
       "      <th>1</th>\n",
       "      <td>1001034.0</td>\n",
       "      <td>2006-01-01</td>\n",
       "      <td>2006-12-31</td>\n",
       "      <td>NaN</td>\n",
       "      <td>603.703674</td>\n",
       "      <td>13122.222656</td>\n",
       "      <td>12211.111328</td>\n",
       "      <td>0.0</td>\n",
       "      <td>0.0</td>\n",
       "      <td>0.0</td>\n",
       "      <td>...</td>\n",
       "      <td>mix</td>\n",
       "      <td>Domestic</td>\n",
       "      <td>5630.0</td>\n",
       "      <td>56.0</td>\n",
       "      <td>3.0</td>\n",
       "      <td>1</td>\n",
       "      <td>Central</td>\n",
       "      <td>1990-11-19</td>\n",
       "      <td>NaN</td>\n",
       "      <td>NaN</td>\n",
       "    </tr>\n",
       "    <tr>\n",
       "      <th>2</th>\n",
       "      <td>1001034.0</td>\n",
       "      <td>2007-01-01</td>\n",
       "      <td>2007-12-31</td>\n",
       "      <td>NaN</td>\n",
       "      <td>425.925934</td>\n",
       "      <td>8196.295898</td>\n",
       "      <td>7800.000000</td>\n",
       "      <td>0.0</td>\n",
       "      <td>0.0</td>\n",
       "      <td>0.0</td>\n",
       "      <td>...</td>\n",
       "      <td>mix</td>\n",
       "      <td>Domestic</td>\n",
       "      <td>5630.0</td>\n",
       "      <td>56.0</td>\n",
       "      <td>3.0</td>\n",
       "      <td>1</td>\n",
       "      <td>Central</td>\n",
       "      <td>1990-11-19</td>\n",
       "      <td>NaN</td>\n",
       "      <td>NaN</td>\n",
       "    </tr>\n",
       "    <tr>\n",
       "      <th>3</th>\n",
       "      <td>1001034.0</td>\n",
       "      <td>2008-01-01</td>\n",
       "      <td>2008-12-31</td>\n",
       "      <td>NaN</td>\n",
       "      <td>300.000000</td>\n",
       "      <td>8485.185547</td>\n",
       "      <td>7781.481445</td>\n",
       "      <td>0.0</td>\n",
       "      <td>0.0</td>\n",
       "      <td>0.0</td>\n",
       "      <td>...</td>\n",
       "      <td>mix</td>\n",
       "      <td>Domestic</td>\n",
       "      <td>5630.0</td>\n",
       "      <td>56.0</td>\n",
       "      <td>3.0</td>\n",
       "      <td>1</td>\n",
       "      <td>Central</td>\n",
       "      <td>1990-11-19</td>\n",
       "      <td>NaN</td>\n",
       "      <td>NaN</td>\n",
       "    </tr>\n",
       "    <tr>\n",
       "      <th>4</th>\n",
       "      <td>1001034.0</td>\n",
       "      <td>2009-01-01</td>\n",
       "      <td>2009-12-31</td>\n",
       "      <td>NaN</td>\n",
       "      <td>207.407410</td>\n",
       "      <td>5137.037109</td>\n",
       "      <td>15300.000000</td>\n",
       "      <td>0.0</td>\n",
       "      <td>0.0</td>\n",
       "      <td>0.0</td>\n",
       "      <td>...</td>\n",
       "      <td>mix</td>\n",
       "      <td>Domestic</td>\n",
       "      <td>5630.0</td>\n",
       "      <td>56.0</td>\n",
       "      <td>3.0</td>\n",
       "      <td>1</td>\n",
       "      <td>Central</td>\n",
       "      <td>1990-11-19</td>\n",
       "      <td>NaN</td>\n",
       "      <td>0.083333</td>\n",
       "    </tr>\n",
       "  </tbody>\n",
       "</table>\n",
       "<p>5 rows × 48 columns</p>\n",
       "</div>"
      ],
      "text/plain": [
       "     comp_id       begin         end  COGS       amort   curr_assets  \\\n",
       "0  1001034.0  2005-01-01  2005-12-31   NaN  692.592590   7266.666504   \n",
       "1  1001034.0  2006-01-01  2006-12-31   NaN  603.703674  13122.222656   \n",
       "2  1001034.0  2007-01-01  2007-12-31   NaN  425.925934   8196.295898   \n",
       "3  1001034.0  2008-01-01  2008-12-31   NaN  300.000000   8485.185547   \n",
       "4  1001034.0  2009-01-01  2009-12-31   NaN  207.407410   5137.037109   \n",
       "\n",
       "      curr_liab  extra_exp  extra_inc  extra_profit_loss  ...  gender  \\\n",
       "0   7574.074219        0.0        0.0                0.0  ...     mix   \n",
       "1  12211.111328        0.0        0.0                0.0  ...     mix   \n",
       "2   7800.000000        0.0        0.0                0.0  ...     mix   \n",
       "3   7781.481445        0.0        0.0                0.0  ...     mix   \n",
       "4  15300.000000        0.0        0.0                0.0  ...     mix   \n",
       "\n",
       "     origin  nace_main  ind2  ind  urban_m  region_m  founded_date  exit_date  \\\n",
       "0  Domestic     5630.0  56.0  3.0        1   Central    1990-11-19        NaN   \n",
       "1  Domestic     5630.0  56.0  3.0        1   Central    1990-11-19        NaN   \n",
       "2  Domestic     5630.0  56.0  3.0        1   Central    1990-11-19        NaN   \n",
       "3  Domestic     5630.0  56.0  3.0        1   Central    1990-11-19        NaN   \n",
       "4  Domestic     5630.0  56.0  3.0        1   Central    1990-11-19        NaN   \n",
       "\n",
       "   labor_avg  \n",
       "0        NaN  \n",
       "1        NaN  \n",
       "2        NaN  \n",
       "3        NaN  \n",
       "4   0.083333  \n",
       "\n",
       "[5 rows x 48 columns]"
      ]
     },
     "execution_count": 33,
     "metadata": {},
     "output_type": "execute_result"
    }
   ],
   "source": [
    "bisnode = pd.read_csv(\"https://osf.io/3qyut/download\")\n",
    "\n",
    "bisnode.head()"
   ]
  },
  {
   "cell_type": "markdown",
   "id": "3fdec49f",
   "metadata": {},
   "source": [
    "Sample selection\\\n",
    "drop variables with many NAs"
   ]
  },
  {
   "cell_type": "code",
   "execution_count": 34,
   "id": "10af3226",
   "metadata": {},
   "outputs": [],
   "source": [
    "bisnode = bisnode.drop(\n",
    "    [\"COGS\", \"finished_prod\", \"net_dom_sales\", \"net_exp_sales\", \"wages\"], axis=1\n",
    ").loc[bisnode[\"year\"] != 2016]"
   ]
  },
  {
   "cell_type": "markdown",
   "id": "f5034f0c",
   "metadata": {},
   "source": [
    "add all missing year and comp_id combinations -\n",
    "\n",
    "   \n",
    "(originally missing combinations will have NAs in all other columns)"
   ]
  },
  {
   "cell_type": "code",
   "execution_count": 35,
   "id": "905d9115",
   "metadata": {},
   "outputs": [],
   "source": [
    "bisnode = (\n",
    "    bisnode.set_index([\"year\", \"comp_id\"])\n",
    "    .unstack(fill_value=np.nan)\n",
    "    .stack(dropna=False)\n",
    "    .reset_index()\n",
    ")"
   ]
  },
  {
   "cell_type": "markdown",
   "id": "f99033bc",
   "metadata": {},
   "source": [
    "### Imputing\n",
    "\n",
    "A) Replacing with mean or median:\n",
    "    \n",
    "   number of employed in firm is a noisy measure with many missing value.\\\n",
    "   replace missing values with the mean or median\\\n",
    "   also add a flag variable for the imputed values (need to include in the model!)"
   ]
  },
  {
   "cell_type": "code",
   "execution_count": 36,
   "id": "efd89e4b",
   "metadata": {},
   "outputs": [],
   "source": [
    "# mean\n",
    "bisnode[\"labor_avg_mod\"] = np.where(\n",
    "    bisnode[\"labor_avg\"].isnull(),\n",
    "    np.nanmean(bisnode[\"labor_avg\"]),\n",
    "    bisnode[\"labor_avg\"],\n",
    ")\n",
    "# median\n",
    "bisnode[\"labor_med_mod\"] = np.where(\n",
    "    bisnode[\"labor_avg\"].isnull(),\n",
    "    np.nanmedian(bisnode[\"labor_avg\"]),\n",
    "    bisnode[\"labor_avg\"],\n",
    ")\n",
    "# flag\n",
    "bisnode[\"flag_miss_labor_avg\"] = bisnode[\"labor_avg\"].isnull()"
   ]
  },
  {
   "cell_type": "markdown",
   "id": "9b5efa9d",
   "metadata": {},
   "source": [
    "#### Task\n",
    "add `Nmiss` as a custom function to datasummary and check the \\\n",
    "mean, median, sd, N and Nmiss for labor_avg, labor_avg_mod, labor_med_mod"
   ]
  },
  {
   "cell_type": "code",
   "execution_count": 37,
   "id": "262ea739",
   "metadata": {},
   "outputs": [],
   "source": [
    "def Nmiss(x):\n",
    "    return x.isnull().sum()"
   ]
  },
  {
   "cell_type": "markdown",
   "id": "8cbce857",
   "metadata": {},
   "source": [
    "Check how stats altered, discuss!"
   ]
  },
  {
   "cell_type": "code",
   "execution_count": 38,
   "id": "74ba07c7",
   "metadata": {},
   "outputs": [
    {
     "data": {
      "text/html": [
       "<div>\n",
       "<style scoped>\n",
       "    .dataframe tbody tr th:only-of-type {\n",
       "        vertical-align: middle;\n",
       "    }\n",
       "\n",
       "    .dataframe tbody tr th {\n",
       "        vertical-align: top;\n",
       "    }\n",
       "\n",
       "    .dataframe thead th {\n",
       "        text-align: right;\n",
       "    }\n",
       "</style>\n",
       "<table border=\"1\" class=\"dataframe\">\n",
       "  <thead>\n",
       "    <tr style=\"text-align: right;\">\n",
       "      <th></th>\n",
       "      <th>mean</th>\n",
       "      <th>median</th>\n",
       "      <th>std</th>\n",
       "      <th>count</th>\n",
       "      <th>Nmiss</th>\n",
       "    </tr>\n",
       "  </thead>\n",
       "  <tbody>\n",
       "    <tr>\n",
       "      <th>labor_avg</th>\n",
       "      <td>0.984327</td>\n",
       "      <td>0.229167</td>\n",
       "      <td>4.818147</td>\n",
       "      <td>131603.0</td>\n",
       "      <td>378929.0</td>\n",
       "    </tr>\n",
       "    <tr>\n",
       "      <th>labor_avg_mod</th>\n",
       "      <td>0.984327</td>\n",
       "      <td>0.984327</td>\n",
       "      <td>2.446247</td>\n",
       "      <td>510532.0</td>\n",
       "      <td>0.0</td>\n",
       "    </tr>\n",
       "    <tr>\n",
       "      <th>labor_med_mod</th>\n",
       "      <td>0.423829</td>\n",
       "      <td>0.229167</td>\n",
       "      <td>2.468447</td>\n",
       "      <td>510532.0</td>\n",
       "      <td>0.0</td>\n",
       "    </tr>\n",
       "  </tbody>\n",
       "</table>\n",
       "</div>"
      ],
      "text/plain": [
       "                   mean    median       std     count     Nmiss\n",
       "labor_avg      0.984327  0.229167  4.818147  131603.0  378929.0\n",
       "labor_avg_mod  0.984327  0.984327  2.446247  510532.0       0.0\n",
       "labor_med_mod  0.423829  0.229167  2.468447  510532.0       0.0"
      ]
     },
     "execution_count": 38,
     "metadata": {},
     "output_type": "execute_result"
    }
   ],
   "source": [
    "bisnode.filter([\"labor_avg\", \"labor_avg_mod\", \"labor_med_mod\"]).agg(\n",
    "    [\"mean\", \"median\", \"std\", \"count\", Nmiss]\n",
    ").T"
   ]
  },
  {
   "cell_type": "markdown",
   "id": "de5c1392",
   "metadata": {},
   "source": [
    "### Imputing:\n",
    "\n",
    "B) Using outside knowledge to replace values:"
   ]
  },
  {
   "cell_type": "markdown",
   "id": "6195d5e6",
   "metadata": {},
   "source": [
    "Negative sales should not happen, thus we can overwrite it to a small value: 1"
   ]
  },
  {
   "cell_type": "code",
   "execution_count": 39,
   "id": "e9ab36db",
   "metadata": {},
   "outputs": [
    {
     "data": {
      "text/plain": [
       "count    2.706490e+05\n",
       "mean     4.877188e+05\n",
       "std      3.871007e+06\n",
       "min     -1.472559e+07\n",
       "25%      4.685185e+03\n",
       "50%      3.028889e+04\n",
       "75%      1.109185e+05\n",
       "max      1.110294e+08\n",
       "Name: sales, dtype: float64"
      ]
     },
     "execution_count": 39,
     "metadata": {},
     "output_type": "execute_result"
    }
   ],
   "source": [
    "bisnode[\"sales\"].describe()"
   ]
  },
  {
   "cell_type": "code",
   "execution_count": 40,
   "id": "b4484eb7",
   "metadata": {},
   "outputs": [],
   "source": [
    "bisnode[\"sales\"] = np.where(bisnode[\"sales\"] < 0, 1, bisnode[\"sales\"])"
   ]
  },
  {
   "cell_type": "code",
   "execution_count": 41,
   "id": "ebb53222",
   "metadata": {},
   "outputs": [
    {
     "data": {
      "text/plain": [
       "count    2.706490e+05\n",
       "mean     4.877954e+05\n",
       "std      3.870883e+06\n",
       "min      0.000000e+00\n",
       "25%      4.685185e+03\n",
       "50%      3.028889e+04\n",
       "75%      1.109185e+05\n",
       "max      1.110294e+08\n",
       "Name: sales, dtype: float64"
      ]
     },
     "execution_count": 41,
     "metadata": {},
     "output_type": "execute_result"
    }
   ],
   "source": [
    "bisnode[\"sales\"].describe()"
   ]
  },
  {
   "cell_type": "markdown",
   "id": "a792b9c3",
   "metadata": {},
   "source": [
    "### Imputing:\n",
    "\n",
    "C) Categorical variables"
   ]
  },
  {
   "cell_type": "markdown",
   "id": "2817ac7c",
   "metadata": {},
   "source": [
    "Simplify some industry category codes and set missing values to 99"
   ]
  },
  {
   "cell_type": "code",
   "execution_count": 42,
   "id": "1842fd20",
   "metadata": {},
   "outputs": [],
   "source": [
    "bisnode[\"ind2_cat\"] = np.where(bisnode[\"ind2\"] > 56, 60, bisnode[\"ind2\"])\n",
    "bisnode[\"ind2_cat\"] = np.where(bisnode[\"ind2\"] < 26, 20, bisnode[\"ind2_cat\"])\n",
    "bisnode[\"ind2_cat\"] = np.where(\n",
    "    (bisnode[\"ind2\"] < 55) & (bisnode[\"ind2\"] > 35), 40, bisnode[\"ind2_cat\"]\n",
    ")\n",
    "bisnode[\"ind2_cat\"] = np.where(bisnode[\"ind2\"] == 31, 30, bisnode[\"ind2_cat\"])\n",
    "bisnode[\"ind2_cat\"] = np.where(bisnode[\"ind2\"].isnull(), 99, bisnode[\"ind2_cat\"])"
   ]
  },
  {
   "cell_type": "code",
   "execution_count": 43,
   "id": "4b7894b8",
   "metadata": {},
   "outputs": [
    {
     "data": {
      "text/plain": [
       "20.0       647\n",
       "26.0     14289\n",
       "27.0      8711\n",
       "28.0     24830\n",
       "29.0      4155\n",
       "30.0      2404\n",
       "32.0      1773\n",
       "33.0     20840\n",
       "35.0         5\n",
       "40.0      2659\n",
       "55.0     32781\n",
       "56.0    160629\n",
       "60.0      3325\n",
       "99.0    233484\n",
       "Name: ind2_cat, dtype: int64"
      ]
     },
     "execution_count": 43,
     "metadata": {},
     "output_type": "execute_result"
    }
   ],
   "source": [
    "bisnode[\"ind2_cat\"].value_counts().sort_index()"
   ]
  },
  {
   "cell_type": "markdown",
   "id": "fd8ff455",
   "metadata": {},
   "source": [
    "___"
   ]
  },
  {
   "cell_type": "markdown",
   "id": "035be918",
   "metadata": {},
   "source": [
    "Adjusting negative sale and for log transformation:"
   ]
  },
  {
   "cell_type": "code",
   "execution_count": 44,
   "id": "e6a147f1",
   "metadata": {},
   "outputs": [],
   "source": [
    "bisnode[\"ln_sales\"] = np.where(bisnode[\"sales\"] > 0, np.log(bisnode[\"sales\"]), 0)\n",
    "bisnode[\"sales_mil\"] = bisnode[\"sales\"] / 10**6\n",
    "bisnode[\"sales_mil_log\"] = np.where(bisnode[\"sales\"] > 0, np.log(bisnode[\"sales_mil\"]), 0)"
   ]
  },
  {
   "cell_type": "markdown",
   "id": "befe555d",
   "metadata": {},
   "source": [
    "***Creating 'status_alive' variable to decide if firm exists or not***"
   ]
  },
  {
   "cell_type": "markdown",
   "id": "88ee3411",
   "metadata": {},
   "source": [
    "Generate status_alive; if sales larger than zero and not-NA, then firm is alive"
   ]
  },
  {
   "cell_type": "code",
   "execution_count": 45,
   "id": "6c9e724d",
   "metadata": {},
   "outputs": [],
   "source": [
    "bisnode[\"status_alive\"] = np.where(\n",
    "    (bisnode[\"sales\"] > 0) & (bisnode[\"sales\"].notnull()), 1, 0\n",
    ")"
   ]
  },
  {
   "cell_type": "markdown",
   "id": "e5931bf1",
   "metadata": {},
   "source": [
    "Defaults in two years if there are sales in this year but no sales two years later"
   ]
  },
  {
   "cell_type": "code",
   "execution_count": 46,
   "id": "21617a85",
   "metadata": {},
   "outputs": [],
   "source": [
    "bisnode = bisnode.sort_values(by=[\"comp_id\",\"year\"])\n",
    "\n",
    "bisnode[\"default\"] = bisnode.groupby(\"comp_id\")[\"status_alive\"].transform(\n",
    "    lambda x: (x == 1) & (x.shift(2) == 0)\n",
    ").astype(int)"
   ]
  },
  {
   "cell_type": "markdown",
   "id": "ebc90e82",
   "metadata": {},
   "source": [
    "Select years before 2013"
   ]
  },
  {
   "cell_type": "code",
   "execution_count": 47,
   "id": "5cc9170d",
   "metadata": {},
   "outputs": [],
   "source": [
    "bisnode = bisnode.loc[bisnode[\"year\"]<= 2013]"
   ]
  },
  {
   "cell_type": "markdown",
   "id": "e1298c08",
   "metadata": {},
   "source": [
    "To speed up let take a randomly selected 5k companies"
   ]
  },
  {
   "cell_type": "code",
   "execution_count": 48,
   "id": "d5450d56",
   "metadata": {},
   "outputs": [],
   "source": [
    "comp_id_f = bisnode.drop_duplicates(subset=[\"comp_id\"]).sample(5000, random_state = 20123123)[\"comp_id\"]"
   ]
  },
  {
   "cell_type": "code",
   "execution_count": 49,
   "id": "a407f5ee",
   "metadata": {},
   "outputs": [],
   "source": [
    "bisnode_sample = bisnode.loc[lambda x: x[\"comp_id\"].isin(comp_id_f)]"
   ]
  },
  {
   "cell_type": "markdown",
   "id": "48ccd996",
   "metadata": {},
   "source": [
    "### Numeric vs Factor Representation"
   ]
  },
  {
   "cell_type": "markdown",
   "id": "d02b8c64",
   "metadata": {},
   "source": [
    "Numeric representation (good)"
   ]
  },
  {
   "cell_type": "code",
   "execution_count": 50,
   "id": "a630410e",
   "metadata": {},
   "outputs": [
    {
     "data": {
      "image/png": "[encoded data removed]",
      "text/plain": [
       "<Figure size 640x480 with 1 Axes>"
      ]
     },
     "metadata": {},
     "output_type": "display_data"
    },
    {
     "data": {
      "text/plain": [
       "<ggplot: (364078810)>"
      ]
     },
     "execution_count": 50,
     "metadata": {},
     "output_type": "execute_result"
    }
   ],
   "source": [
    "\n",
    "\n",
    "(\n",
    "    ggplot(bisnode_sample, aes(x=\"sales_mil_log\", y=\"default\"))\n",
    "    + geom_point(size=2, alpha=0.3, color=\"blue\")\n",
    "    + geom_smooth(method=\"lm\", formula=\"y ~ x**2\", color=\"black\", se=False, size=1)\n",
    "    + geom_smooth(method=\"loess\", se=False, colour=\"red\", size=1.5)\n",
    "    + labs(x=\"sales_mil_log\", y=\"default\")\n",
    "    + theme_bw()\n",
    ")"
   ]
  },
  {
   "cell_type": "markdown",
   "id": "14dad9ff",
   "metadata": {},
   "source": [
    "#### Task\n",
    "convert default to a factor variable and plot!\\\n",
    "what is the problem? It is a bad idea to convert to a factor?"
   ]
  },
  {
   "cell_type": "code",
   "execution_count": 51,
   "id": "941db5a1",
   "metadata": {},
   "outputs": [
    {
     "data": {
      "image/png": "[encoded data removed]",
      "text/plain": [
       "<Figure size 640x480 with 1 Axes>"
      ]
     },
     "metadata": {},
     "output_type": "display_data"
    },
    {
     "data": {
      "text/plain": [
       "<ggplot: (364043730)>"
      ]
     },
     "execution_count": 51,
     "metadata": {},
     "output_type": "execute_result"
    }
   ],
   "source": [
    "bisnode_sample[\"default_factor\"] = bisnode_sample[\"default\"].astype(\"category\")\n",
    "\n",
    "(\n",
    "    ggplot(bisnode_sample, aes(x=\"sales_mil_log\", y=\"default_factor\"))\n",
    "    + geom_point(size=2, alpha=0.3, color=\"blue\")\n",
    "    + geom_smooth(method=\"lm\", formula=\"y ~ x**2\", color=\"black\", se=False, size=1)\n",
    "    + geom_smooth(method=\"loess\", se=False, colour=\"red\", size=1.5)\n",
    "    + labs(x=\"sales_mil_log\", y=\"default\")\n",
    "    + theme_bw()\n",
    ")"
   ]
  },
  {
   "cell_type": "markdown",
   "id": "551830e0",
   "metadata": {},
   "source": [
    "Growth (%) in sales \\\n",
    "Take the lags but make sure only for the same company!"
   ]
  },
  {
   "cell_type": "code",
   "execution_count": 52,
   "id": "a480ffc9",
   "metadata": {},
   "outputs": [],
   "source": [
    "bisnode[\"d1_sales_mil_log\"] = bisnode.groupby(\"comp_id\")[\"sales_mil_log\"].transform(\n",
    "    lambda x: x - x.shift(1)\n",
    ")"
   ]
  },
  {
   "cell_type": "markdown",
   "id": "16e56bf8",
   "metadata": {},
   "source": [
    "Repeat random sample to include the new variables"
   ]
  },
  {
   "cell_type": "code",
   "execution_count": 53,
   "id": "51dd7fa9",
   "metadata": {},
   "outputs": [],
   "source": [
    "bisnode_sample = bisnode.loc[lambda x: x[\"comp_id\"].isin(comp_id_f)]"
   ]
  },
  {
   "cell_type": "markdown",
   "id": "6d84b7c4",
   "metadata": {},
   "source": [
    " First measure for change in sales: take the sale change in logs"
   ]
  },
  {
   "cell_type": "code",
   "execution_count": 54,
   "id": "1812374b",
   "metadata": {},
   "outputs": [
    {
     "data": {
      "image/png": "[encoded data removed]",
      "text/plain": [
       "<Figure size 640x480 with 1 Axes>"
      ]
     },
     "metadata": {},
     "output_type": "display_data"
    },
    {
     "data": {
      "text/plain": [
       "<ggplot: (363251250)>"
      ]
     },
     "execution_count": 54,
     "metadata": {},
     "output_type": "execute_result"
    }
   ],
   "source": [
    "nw = (\n",
    "    ggplot(bisnode_sample, aes(x=\"d1_sales_mil_log\", y=\"default\"))\n",
    "    + geom_point(size=1, fill=\"blue\", color=\"blue\")\n",
    "    + geom_smooth(method=\"loess\", se=False, colour=\"red\", size=1.5)\n",
    "    + labs(x=\"Growth rate (Diff of ln sales)\", y=\"default\")\n",
    "    + theme_bw()\n",
    "    + scale_x_continuous(limits=(-6, 10), breaks=np.arange(-5, 10, 5))\n",
    ")\n",
    "nw"
   ]
  },
  {
   "cell_type": "markdown",
   "id": "3ddd33ad",
   "metadata": {},
   "source": [
    "### Winsorized Data:\n",
    "  - set (extreme) values to a certain (lower) value\n",
    "\n",
    "Note: \n",
    "    \n",
    " winsorizing is the action to set manually a value \\\n",
    "      'censoring' is called if the values are already 'winsorized' \\\n",
    "      thus it is unknown what was the original value, but can only see the set value \\\n",
    "        e.g. mother's wage who are at home is 0, however if she would work this value would be different \\\n",
    "      'truncation' is when we dropping certain values below or above a threshold from the data "
   ]
  },
  {
   "cell_type": "markdown",
   "id": "1823495e",
   "metadata": {},
   "source": [
    "Create new variable and add flag variables for modelling"
   ]
  },
  {
   "cell_type": "code",
   "execution_count": 55,
   "id": "f668b5d9",
   "metadata": {},
   "outputs": [],
   "source": [
    "bisnode[\"flag_low_d1_sales_mil_log\"] = np.where(\n",
    "    bisnode[\"d1_sales_mil_log\"] < -1.5, 1, 0\n",
    ")\n",
    "bisnode[\"flag_high_d1_sales_mil_log\"] = np.where(\n",
    "    bisnode[\"d1_sales_mil_log\"] > 1.5, 1, 0\n",
    ")\n",
    "bisnode[\"d1_sales_mil_log_mod\"] = np.where(\n",
    "    bisnode[\"d1_sales_mil_log\"] < -1.5,\n",
    "    -1.5,\n",
    "    np.where(bisnode[\"d1_sales_mil_log\"] > 1.5, 1.5, bisnode[\"d1_sales_mil_log\"]),\n",
    ")"
   ]
  },
  {
   "cell_type": "markdown",
   "id": "1adbf5ef",
   "metadata": {},
   "source": [
    "Repeat random sample to include the new variables"
   ]
  },
  {
   "cell_type": "code",
   "execution_count": 56,
   "id": "4e0b5f72",
   "metadata": {},
   "outputs": [],
   "source": [
    "bisnode_sample = bisnode.loc[lambda x: x[\"comp_id\"].isin(comp_id_f)]"
   ]
  },
  {
   "cell_type": "code",
   "execution_count": 57,
   "id": "08c8c134",
   "metadata": {},
   "outputs": [
    {
     "data": {
      "image/png": "[encoded data removed]",
      "text/plain": [
       "<Figure size 640x480 with 1 Axes>"
      ]
     },
     "metadata": {},
     "output_type": "display_data"
    },
    {
     "data": {
      "text/plain": [
       "<ggplot: (364262175)>"
      ]
     },
     "execution_count": 57,
     "metadata": {},
     "output_type": "execute_result"
    }
   ],
   "source": [
    "w = (\n",
    "    ggplot(bisnode_sample, aes(x=\"d1_sales_mil_log_mod\", y=\"default\"))\n",
    "    + geom_point(size=1, fill=\"blue\", color=\"blue\")\n",
    "    + geom_smooth(method=\"loess\", se=False, colour=\"red\", size=1.5)\n",
    "    + labs(x=\"Growth rate (Diff of ln sales)\", y=\"default\")\n",
    "    + theme_bw()\n",
    "    + scale_x_continuous(limits=(-1.5, 1.5), breaks=np.arange(-1.5, 1.51, 0.5))\n",
    ")\n",
    "w"
   ]
  },
  {
   "cell_type": "markdown",
   "id": "33f80252",
   "metadata": {},
   "source": [
    "#### Task:\n",
    "Show the effect of winsorizing: transformation of the original data\\\n",
    "put d1_sales_mil_log on x-axis and d1_sales_mil_log_mod to the y-axis"
   ]
  },
  {
   "cell_type": "code",
   "execution_count": 58,
   "id": "510aa3ef",
   "metadata": {},
   "outputs": [
    {
     "data": {
      "image/png": "[encoded data removed]",
      "text/plain": [
       "<Figure size 640x480 with 1 Axes>"
      ]
     },
     "metadata": {},
     "output_type": "display_data"
    },
    {
     "data": {
      "text/plain": [
       "<ggplot: (364149770)>"
      ]
     },
     "execution_count": 58,
     "metadata": {},
     "output_type": "execute_result"
    }
   ],
   "source": [
    "(\n",
    "    ggplot(bisnode_sample, aes(x=\"d1_sales_mil_log\", y=\"d1_sales_mil_log_mod\"))\n",
    "    + geom_point(size=1, fill=\"blue\", color=\"blue\")\n",
    "    + labs(\n",
    "        x=\"Growth rate (Diff of ln sales) (original)\",\n",
    "        y=\"Growth rate (Diff of ln sales) (winsorized)\",\n",
    "    )\n",
    "    + theme_bw()\n",
    "    + scale_x_continuous(limits=(-5, 5), breaks=np.arange(-5, 5, 1))\n",
    "    + scale_y_continuous(limits=(-3, 3), breaks=np.arange(-3, 3, 1))\n",
    ")"
   ]
  }
 ],
 "metadata": {
  "kernelspec": {
   "display_name": "Python 3",
   "language": "python",
   "name": "python3"
  },
  "language_info": {
   "codemirror_mode": {
    "name": "ipython",
    "version": 3
   },
   "file_extension": ".py",
   "mimetype": "text/x-python",
   "name": "python",
   "nbconvert_exporter": "python",
   "pygments_lexer": "ipython3",
   "version": "3.6.13"
  }
 },
 "nbformat": 4,
 "nbformat_minor": 5
}
