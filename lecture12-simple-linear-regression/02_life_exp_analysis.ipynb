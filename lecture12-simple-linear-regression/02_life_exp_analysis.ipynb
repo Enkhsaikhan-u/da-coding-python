{
 "cells": [
  {
   "cell_type": "markdown",
   "id": "fcd58b1a",
   "metadata": {},
   "source": [
    "#              Lecture 12                  \n",
    "                                           \n",
    "## Simple (Linear) Regressions             \n",
    "   - multiple graphs and descriptive     \n",
    "   - Scatterplots                        \n",
    "       - to decide functional form       \n",
    "       - to decide outcome variable      \n",
    "   - Simple, nonlinear models:           \n",
    "       - models with log                 \n",
    "       - polynomials                     \n",
    "       - piecewise linear spline         \n",
    "       - extra: weighted OLS             \n",
    "   - Residual analysis                   \n",
    "       - with multiple annotations       \n",
    "                                           \n",
    "#### Case Study:                               \n",
    "-  Life-expectancy and income               \n",
    "\n",
    "___"
   ]
  },
  {
   "cell_type": "markdown",
   "id": "d7f466f8",
   "metadata": {},
   "source": [
    "Import packages"
   ]
  },
  {
   "cell_type": "code",
   "execution_count": null,
   "id": "6d9d57ed",
   "metadata": {},
   "outputs": [],
   "source": [
    "import warnings\n",
    "\n",
    "import numpy as np\n",
    "import pandas as pd\n",
    "import statsmodels.formula.api as smf\n",
    "from plotnine import *\n",
    "from skimpy import skim\n",
    "from stargazer.stargazer import Stargazer\n",
    "\n",
    "%matplotlib inline\n",
    "warnings.filterwarnings(\"ignore\")"
   ]
  },
  {
   "cell_type": "code",
   "execution_count": null,
   "id": "d4e28dde",
   "metadata": {},
   "outputs": [],
   "source": [
    "df = pd.read_csv(\"data/WDI_lifeexp_clean.csv\")\n",
    "\n",
    "df.head()"
   ]
  },
  {
   "cell_type": "code",
   "execution_count": null,
   "id": "e70a0bf7",
   "metadata": {},
   "outputs": [],
   "source": [
    "skim(df)"
   ]
  },
  {
   "cell_type": "markdown",
   "id": "d4b2af01",
   "metadata": {},
   "source": [
    "Good-to-know: Quick check on all HISTOGRAMS"
   ]
  },
  {
   "cell_type": "code",
   "execution_count": null,
   "id": "c18f7027",
   "metadata": {},
   "outputs": [],
   "source": [
    "df.hist()"
   ]
  },
  {
   "cell_type": "code",
   "execution_count": null,
   "id": "8316aba8",
   "metadata": {},
   "outputs": [],
   "source": [
    "df.describe()"
   ]
  },
  {
   "cell_type": "markdown",
   "id": "08fd478a",
   "metadata": {},
   "source": [
    "Create new variable: Total GDP = GDP per Capita * Population\n",
    "\n",
    "\n",
    "    note we could have download an other GDP total variable for this,\n",
    "    but for comparison purposes, let use the exact same data and \n",
    "    concentrate on difference which are only due to transforming the variables."
   ]
  },
  {
   "cell_type": "code",
   "execution_count": null,
   "id": "311af6b2",
   "metadata": {},
   "outputs": [],
   "source": [
    "df[\"gdptot\"] = df[\"gdppc\"] * df[\"population\"]"
   ]
  },
  {
   "cell_type": "markdown",
   "id": "4a8756a2",
   "metadata": {},
   "source": [
    "### Check basic scatter-plots!\n",
    "\n",
    "Two competing models:\n",
    "- A) lifeexp = alpha + beta * gdptot\n",
    "- B) lifeexp = alpha + beta * gdppc\n",
    "\n",
    "Where to use log-transformation? - level-level vs level-log vs log-level vs log-log\n",
    "\n",
    "Create the following graphs with loess:"
   ]
  },
  {
   "cell_type": "markdown",
   "id": "d19c833c",
   "metadata": {},
   "source": [
    "#### Model A) lifeexp = alpha + beta * gdptot\n",
    "1) lifeexp - gdptot: level-level model without scaling"
   ]
  },
  {
   "cell_type": "code",
   "execution_count": null,
   "id": "8e76577e",
   "metadata": {},
   "outputs": [],
   "source": [
    "(\n",
    "    ggplot(df, aes(x=\"gdptot\", y=\"lifeexp\"))\n",
    "    + geom_point()\n",
    "    + geom_smooth(method=\"loess\", color = \"blue\")\n",
    "    + labs(x=\"Total GDP (2017 int. const. $, PPP )\", y=\"Life expectancy  (years)\")\n",
    "    + theme_bw()\n",
    ")"
   ]
  },
  {
   "cell_type": "markdown",
   "id": "1a845e08",
   "metadata": {},
   "source": [
    "2) Change the scale for Total GDP for checking log-transformation\n"
   ]
  },
  {
   "cell_type": "code",
   "execution_count": null,
   "id": "708fcdca",
   "metadata": {},
   "outputs": [],
   "source": [
    "(\n",
    "    ggplot(df, aes(x=\"gdptot\", y=\"lifeexp\"))\n",
    "    + geom_point()\n",
    "    + geom_smooth(method=\"loess\", color = \"blue\")\n",
    "    + labs(x=\"Total GDP (2017 int. const. $, PPP )\", y=\"Life expectancy  (years)\")\n",
    "    + scale_x_log10()\n",
    "    + theme_bw()\n",
    ")"
   ]
  },
  {
   "cell_type": "markdown",
   "id": "c0bb9642",
   "metadata": {},
   "source": [
    "3) Change the scale for Total GDP and life-expectancy for checking log-transformation"
   ]
  },
  {
   "cell_type": "code",
   "execution_count": null,
   "id": "b8879f8d",
   "metadata": {},
   "outputs": [],
   "source": [
    "(\n",
    "    ggplot(df, aes(x=\"gdptot\", y=\"lifeexp\"))\n",
    "    + geom_point()\n",
    "    + geom_smooth(method=\"loess\", color=\"blue\")\n",
    "    + labs(x=\"Total GDP (2017 int. const. $, PPP )\", y=\"Life expectancy  (years)\")\n",
    "    + scale_x_log10()\n",
    "    + scale_y_log10()\n",
    "    + theme_bw()\n",
    ")"
   ]
  },
  {
   "cell_type": "markdown",
   "id": "2138a880",
   "metadata": {},
   "source": [
    "#### Model B) lifeexp = alpha + beta * gdppc:\n",
    "\n",
    "4) lifeexp - gdppc: level-level model without scaling"
   ]
  },
  {
   "cell_type": "code",
   "execution_count": null,
   "id": "97d2db91",
   "metadata": {},
   "outputs": [],
   "source": [
    "(\n",
    "    ggplot(df, aes(x=\"gdppc\", y=\"lifeexp\"))\n",
    "    + geom_point()\n",
    "    + geom_smooth(method=\"loess\", color = \"blue\")\n",
    "    + labs(x=\"GDP/capita (2017 int. const. $, PPP )\", y=\"Life expectancy  (years)\")\n",
    "    + theme_bw()\n",
    ")"
   ]
  },
  {
   "cell_type": "markdown",
   "id": "1bccfb76",
   "metadata": {},
   "source": [
    "5) Change the scale for GDP/capita for checking log-transformation"
   ]
  },
  {
   "cell_type": "code",
   "execution_count": null,
   "id": "ce3bf30a",
   "metadata": {},
   "outputs": [],
   "source": [
    "(\n",
    "    ggplot(df, aes(x=\"gdppc\", y=\"lifeexp\"))\n",
    "    + geom_point()\n",
    "    + geom_smooth(method=\"loess\", color = \"blue\")\n",
    "    + labs(x=\"GDP/capita (2017 int. const. $, PPP )\", y=\"Life expectancy  (years)\")\n",
    "    + scale_x_log10()\n",
    "    + theme_bw()\n",
    ")"
   ]
  },
  {
   "cell_type": "markdown",
   "id": "2d5b1c0e",
   "metadata": {},
   "source": [
    " 6) Change the scale for GDP/capita and life-expectancy for checking log-transformation"
   ]
  },
  {
   "cell_type": "code",
   "execution_count": null,
   "id": "52e572c6",
   "metadata": {},
   "outputs": [],
   "source": [
    "(\n",
    "    ggplot(df, aes(x=\"gdppc\", y=\"lifeexp\"))\n",
    "    + geom_point()\n",
    "    + geom_smooth(method=\"loess\", color=\"blue\")\n",
    "    + labs(x=\"GDP/capita (2017 int. const. $, PPP )\", y=\"Life expectancy  (years)\")\n",
    "    + scale_x_log10()\n",
    "    + scale_y_log10()\n",
    "    + theme_bw()\n",
    ")"
   ]
  },
  {
   "cell_type": "markdown",
   "id": "e0c0cae1",
   "metadata": {},
   "source": [
    "You should reach the following conclusions:\n",
    "  1) taking log of _gdptot_ is needed, but still non-linear pattern in data/need to use 'approximation' interpretation\n",
    "\n",
    "      - feasible to check and we do it due to learn how to do it, \n",
    "          but in practice I would skip this -> over-complicates analysis \n",
    "  2) using only _gdppc_ is possible, but need to model the non-linearity in data \n",
    "  \n",
    "      - Substantive: Level changes is harder to interpret and our aim is not to get $ based comparison\n",
    "      - Statistical: log transformation is way better approximation make simplification!\n",
    "  3) taking log of _gdppc_ is making the association close to linear!\n",
    "  4) taking log for _life-expectancy_ does not matter -> use levels!\n",
    "  \n",
    "      - Substantive: it does not give better interpretation\n",
    "      - Statistical: you can compare models with the same y, no better fit\n",
    "      - Remember: the simpler the better!\n",
    "      \n",
    "___"
   ]
  },
  {
   "cell_type": "markdown",
   "id": "fd885045",
   "metadata": {},
   "source": [
    "Create new variables \n",
    "   \n",
    "   _ln_gdppc  = Log of gdp/capita \\\n",
    "   ln_gdptot = log GDP total_  \n",
    "\n",
    "Take Log of gdp/capita and log GDP total"
   ]
  },
  {
   "cell_type": "code",
   "execution_count": null,
   "id": "48f6d7b7",
   "metadata": {},
   "outputs": [],
   "source": [
    "df[\"ln_gdppc\"] = np.log(df[\"gdppc\"])\n",
    "df[\"ln_gdptot\"] = np.log(df[\"gdptot\"])"
   ]
  },
  {
   "cell_type": "markdown",
   "id": "d91b6908",
   "metadata": {},
   "source": [
    "Run the following competing models:\n",
    "\n",
    "    with ln_gdptot:\n",
    "    reg1: lifeexp = alpha + beta * ln_gdptot\n",
    "    reg2: lifeexp = alpha + beta_1 * ln_gdptot + beta_2 * ln_gdptot^2\n",
    "    reg3: lifeexp = alpha + beta_1 * ln_gdptot + beta_2 * ln_gdptot^2 + beta_3 * ln_gdptot^3\n",
    " \n",
    "    with ln_gdppc:\n",
    "    reg4: lifeexp = alpha + beta * ln_gdppc\n",
    "    reg5: lifeexp = alpha + beta_1 * ln_gdppc + beta_2 * ln_gdppc^2\n",
    "    reg6: lifeexp = alpha + beta_1 * ln_gdppc * 1(gdppc < 50) + beta_2 * ln_gdppc * 1(gdppc >= 50)\n",
    "    \n",
    "    Extra: weighted-ols:\n",
    "    reg7: lifeexp = alpha + beta * ln_gdppc, weights: population"
   ]
  },
  {
   "cell_type": "markdown",
   "id": "a435f51b",
   "metadata": {},
   "source": [
    "Two ways to handle polynomials: "
   ]
  },
  {
   "cell_type": "markdown",
   "id": "06a3c27e",
   "metadata": {},
   "source": [
    " 1) Add powers of the variable(s) to the dataframe:"
   ]
  },
  {
   "cell_type": "code",
   "execution_count": null,
   "id": "d134cfaf",
   "metadata": {},
   "outputs": [],
   "source": [
    "df[\"ln_gdptot_sq\"] = df[\"ln_gdptot\"] ** 2\n",
    "df[\"ln_gdptot_cb\"] = df[\"ln_gdptot\"] ** 3\n",
    "df[\"ln_gdppc_sq\"] = df[\"ln_gdppc\"] ** 2"
   ]
  },
  {
   "cell_type": "markdown",
   "id": "fc7bc317",
   "metadata": {},
   "source": [
    "2) You van use `**n` inside formulas also"
   ]
  },
  {
   "cell_type": "markdown",
   "id": "ac5ed08e",
   "metadata": {},
   "source": [
    "### Do the regressions\n",
    "\n",
    "Using statsmodels formula api \\\n",
    "Reminder: formula: _y ~ x1 + x2 + ..._, note: intercept is automatically added"
   ]
  },
  {
   "cell_type": "code",
   "execution_count": null,
   "id": "7c99623d",
   "metadata": {},
   "outputs": [],
   "source": [
    "reg_b = smf.ols(\"lifeexp ~ ln_gdptot\",data = df).fit()\n",
    "reg_b.summary()"
   ]
  },
  {
   "cell_type": "markdown",
   "id": "4439581d",
   "metadata": {},
   "source": [
    "First model"
   ]
  },
  {
   "cell_type": "code",
   "execution_count": null,
   "id": "75770a5d",
   "metadata": {},
   "outputs": [],
   "source": [
    "reg1 = smf.ols(\"lifeexp ~ ln_gdptot\", data=df).fit(cov_type =\"HC3\")\n",
    "reg1.summary()"
   ]
  },
  {
   "cell_type": "markdown",
   "id": "59e26baf",
   "metadata": {},
   "source": [
    "Visual inspection:"
   ]
  },
  {
   "cell_type": "code",
   "execution_count": null,
   "id": "e0512ad0",
   "metadata": {},
   "outputs": [],
   "source": [
    "(\n",
    "    ggplot(df, aes(x=\"ln_gdptot\", y=\"lifeexp\"))\n",
    "    + geom_point(color=\"blue\")\n",
    "    + geom_smooth(method=\"lm\", color=\"red\")\n",
    "    + theme_bw()\n",
    ")"
   ]
  },
  {
   "cell_type": "code",
   "execution_count": null,
   "id": "1367acf0",
   "metadata": {},
   "outputs": [],
   "source": [
    "reg2 = smf.ols(\"lifeexp ~ ln_gdptot + ln_gdptot_sq\", data=df).fit(cov_type =\"HC3\")\n",
    "reg2.summary()"
   ]
  },
  {
   "cell_type": "code",
   "execution_count": null,
   "id": "2a543b58",
   "metadata": {},
   "outputs": [],
   "source": [
    "(\n",
    "    ggplot(df, aes(x=\"ln_gdptot\", y=\"lifeexp\"))\n",
    "    + geom_point(color=\"blue\")\n",
    "    + geom_smooth(method=\"lm\",formula = \"y ~ x + np.square(x)\", color=\"red\")\n",
    "    + theme_bw()\n",
    ")"
   ]
  },
  {
   "cell_type": "code",
   "execution_count": null,
   "id": "25da26b9",
   "metadata": {},
   "outputs": [],
   "source": [
    "reg3 = smf.ols(\"lifeexp ~ ln_gdptot + ln_gdptot_sq + ln_gdptot_cb\", data=df).fit(cov_type =\"HC3\")\n",
    "reg3.summary()"
   ]
  },
  {
   "cell_type": "code",
   "execution_count": null,
   "id": "81cd6e92",
   "metadata": {},
   "outputs": [],
   "source": [
    "reg3 = smf.ols(\"lifeexp ~ ln_gdptot + ln_gdptot_sq + ln_gdptot_cb\", data=df).fit(cov_type =\"HC3\")\n",
    "reg3.summary()"
   ]
  },
  {
   "cell_type": "code",
   "execution_count": null,
   "id": "fe95e2f8",
   "metadata": {},
   "outputs": [],
   "source": [
    "(\n",
    "    ggplot(df, aes(x=\"ln_gdptot\", y=\"lifeexp\"))\n",
    "    + geom_point(color=\"blue\")\n",
    "    + geom_smooth(method=\"lm\", formula=\"y ~ x + np.square(x) + np.power(x, 3)\", color=\"red\")\n",
    "    + theme_bw()\n",
    ")"
   ]
  },
  {
   "cell_type": "markdown",
   "id": "3c0769f5",
   "metadata": {},
   "source": [
    "Compare these models"
   ]
  },
  {
   "cell_type": "code",
   "execution_count": null,
   "id": "086ed388",
   "metadata": {},
   "outputs": [],
   "source": [
    "table = Stargazer([reg1, reg2,reg3])\n",
    "table"
   ]
  },
  {
   "cell_type": "markdown",
   "id": "f2da8b84",
   "metadata": {},
   "source": [
    "From these you should consider reg1 and reg3 only!"
   ]
  },
  {
   "cell_type": "markdown",
   "id": "df09609e",
   "metadata": {},
   "source": [
    "### Models with gdp per capita:\n",
    " reg4: lifeexp = alpha + beta * ln_gdppc"
   ]
  },
  {
   "cell_type": "code",
   "execution_count": null,
   "id": "5d9a347e",
   "metadata": {},
   "outputs": [],
   "source": [
    "reg4 = smf.ols(\"lifeexp ~ ln_gdppc\", data=df).fit(cov_type =\"HC3\")\n",
    "reg4.summary()"
   ]
  },
  {
   "cell_type": "code",
   "execution_count": null,
   "id": "d27b9bf6",
   "metadata": {},
   "outputs": [],
   "source": [
    "(\n",
    "    ggplot(df, aes(x=\"ln_gdppc\", y=\"lifeexp\"))\n",
    "    + geom_point(color=\"blue\")\n",
    "    + geom_smooth(method=\"lm\", color=\"red\")\n",
    "    + theme_bw()\n",
    ")"
   ]
  },
  {
   "cell_type": "code",
   "execution_count": null,
   "id": "9f3dfb6b",
   "metadata": {},
   "outputs": [],
   "source": [
    "reg5 = smf.ols(\"lifeexp ~ ln_gdppc + ln_gdppc_sq\", data=df).fit(cov_type =\"HC3\")\n",
    "reg5.summary()"
   ]
  },
  {
   "cell_type": "code",
   "execution_count": null,
   "id": "e1df4405",
   "metadata": {},
   "outputs": [],
   "source": [
    "(\n",
    "    ggplot(df, aes(x=\"ln_gdppc\", y=\"lifeexp\"))\n",
    "    + geom_point(color=\"blue\")\n",
    "    + geom_smooth(method=\"lm\",formula = \"y ~ x + np.square(x)\",color=\"red\")\n",
    "    + theme_bw()\n",
    ")"
   ]
  },
  {
   "cell_type": "markdown",
   "id": "163959c6",
   "metadata": {},
   "source": [
    " Compare results with gdp per capita:"
   ]
  },
  {
   "cell_type": "code",
   "execution_count": null,
   "id": "22a20f54",
   "metadata": {},
   "outputs": [],
   "source": [
    "table = Stargazer([reg4, reg5])\n",
    "table"
   ]
  },
  {
   "cell_type": "markdown",
   "id": "dbe9b2cc",
   "metadata": {},
   "source": [
    "Conclusion: reg5 is not adding new information"
   ]
  },
  {
   "cell_type": "markdown",
   "id": "5c15ce0f",
   "metadata": {},
   "source": [
    "Compare reg1, reg3 and reg4 to get an idea log transformation is a good idea:"
   ]
  },
  {
   "cell_type": "code",
   "execution_count": null,
   "id": "5f1a0b38",
   "metadata": {},
   "outputs": [],
   "source": [
    "table = Stargazer([reg1,reg3,reg4])\n",
    "table"
   ]
  },
  {
   "cell_type": "markdown",
   "id": "a0f4e8b4",
   "metadata": {},
   "source": [
    "R2 measure is much better for reg4..."
   ]
  },
  {
   "cell_type": "markdown",
   "id": "40a8d87e",
   "metadata": {},
   "source": [
    "#### Regression with piecewise linear spline:\n",
    "\n",
    "    1st: define the cutoff for gdp per capita"
   ]
  },
  {
   "cell_type": "code",
   "execution_count": null,
   "id": "84394ae3",
   "metadata": {},
   "outputs": [],
   "source": [
    "cutoff = 50"
   ]
  },
  {
   "cell_type": "markdown",
   "id": "76134aaa",
   "metadata": {},
   "source": [
    "    2nd: take care of log transformation -> cutoff needs to be transformed as well\n",
    "\n",
    "reg6: lifeexp = alpha + beta_1 * ln_gdppc * 1(gdppc < 50) + beta_2 * ln_gdppc * 1(gdppc >= 50)"
   ]
  },
  {
   "cell_type": "code",
   "execution_count": null,
   "id": "b3a40d72",
   "metadata": {},
   "outputs": [],
   "source": [
    "cutoff_ln = np.log(cutoff)"
   ]
  },
  {
   "cell_type": "markdown",
   "id": "5aac1172",
   "metadata": {},
   "source": [
    "Note, Python does not have an `lnspline` function as R, so we wrote one"
   ]
  },
  {
   "cell_type": "code",
   "execution_count": null,
   "id": "2d7ce39e",
   "metadata": {},
   "outputs": [],
   "source": [
    "import copy\n",
    "def lspline(series, knots):\n",
    "    def knot_ceil(vector, knot):\n",
    "        vector_copy = copy.deepcopy(vector)\n",
    "        vector_copy[vector_copy > knot] = knot\n",
    "        return vector_copy\n",
    "\n",
    "    if type(knots) != list:\n",
    "        knots = [knots]\n",
    "    design_matrix = None\n",
    "    vector = series.values\n",
    "\n",
    "    for i in range(len(knots)):\n",
    "        # print(i)\n",
    "        # print(vector)\n",
    "        if i == 0:\n",
    "            column = knot_ceil(vector, knots[i])\n",
    "        else:\n",
    "            column = knot_ceil(vector, knots[i] - knots[i - 1])\n",
    "        # print(column)\n",
    "        if i == 0:\n",
    "            design_matrix = column\n",
    "        else:\n",
    "            design_matrix = np.column_stack((design_matrix, column))\n",
    "        # print(design_matrix)\n",
    "        vector = vector - column\n",
    "    design_matrix = np.column_stack((design_matrix, vector))\n",
    "    # print(design_matrix)\n",
    "    return design_matrix"
   ]
  },
  {
   "cell_type": "code",
   "execution_count": null,
   "id": "bb650ead",
   "metadata": {},
   "outputs": [],
   "source": [
    "reg6 = smf.ols(\"lifeexp ~ lspline(ln_gdppc, cutoff_ln)\", data=df).fit(cov_type =\"HC3\")\n",
    "reg6.summary()"
   ]
  },
  {
   "cell_type": "code",
   "execution_count": null,
   "id": "e3db5cfc",
   "metadata": {},
   "outputs": [],
   "source": [
    "(\n",
    "    ggplot(df, aes(x=\"ln_gdppc\", y=\"lifeexp\"))\n",
    "    + geom_point(color=\"blue\")\n",
    "    + geom_smooth(method=\"lm\",formula = \"y ~ lspline(x,cutoff_ln)\",color=\"red\")\n",
    "    + theme_bw()\n",
    ")"
   ]
  },
  {
   "cell_type": "markdown",
   "id": "0366af14",
   "metadata": {},
   "source": [
    "### Extra\n",
    " Weighted-OLS: use reg4 setup and weight with population\\\n",
    " Can be done with the `weights = df[\"population\"]` input!"
   ]
  },
  {
   "cell_type": "code",
   "execution_count": null,
   "id": "79363406",
   "metadata": {},
   "outputs": [],
   "source": [
    "reg7 = smf.wls(\"lifeexp ~ ln_gdppc\", weights=df[\"population\"], data=df).fit(cov_type =\"HC3\")\n",
    "reg7.summary()"
   ]
  },
  {
   "cell_type": "markdown",
   "id": "439e7102",
   "metadata": {},
   "source": [
    "Created a pretty graph for visualize this method:"
   ]
  },
  {
   "cell_type": "code",
   "execution_count": null,
   "id": "f993c50a",
   "metadata": {},
   "outputs": [],
   "source": [
    "(\n",
    "    ggplot(df, aes(x=\"gdppc\", y=\"lifeexp\"))\n",
    "    + geom_point(df, aes(size=\"population\"), color=\"blue\", alpha=0.6, show_legend=False)\n",
    "    + geom_smooth(\n",
    "        aes(weight=\"population\"), method=\"lm\", color=\"red\", se=False, size=0.7\n",
    "    )\n",
    "    + scale_size(range=(1, 15))\n",
    "    + coord_cartesian(ylim=(50, 85))\n",
    "    + scale_x_log10()\n",
    "    + scale_y_continuous(expand=(0.01, 0.01), breaks=np.arange(50, 85, 5))\n",
    "    + labs(\n",
    "        x=\"GDP per capita, thousand US dollars (ln scale) \",\n",
    "        y=\"Life expectancy  (years)\",\n",
    "    )\n",
    "    + theme_bw()\n",
    "    + annotate(\"text\", x=70, y=80, label=\"USA\", size=10)\n",
    "    + annotate(\"text\", x=10, y=82, label=\"China\", size=10)\n",
    "    + annotate(\"text\", x=7, y=63, label=\"India\", size=10)\n",
    ")"
   ]
  },
  {
   "cell_type": "markdown",
   "id": "3f55b862",
   "metadata": {},
   "source": [
    "Compare reg4, reg6 and reg7 models"
   ]
  },
  {
   "cell_type": "code",
   "execution_count": null,
   "id": "5dfc111f",
   "metadata": {},
   "outputs": [],
   "source": [
    "table = Stargazer([reg4, reg6, reg7])\n",
    "table.custom_columns([\"Simple\", \"L.Spline\", \"Weighted\"], [1, 1, 1])\n",
    "table"
   ]
  },
  {
   "cell_type": "markdown",
   "id": "b3de3d3c",
   "metadata": {},
   "source": [
    "Based on model comparison your chosen model should be reg4 - lifeexp ~ ln_gdppc \\\n",
    "\n",
    "    Substantive: - level-log interpretation works properly for countries\n",
    "                 - magnitude of coefficients are meaningful\n",
    "    Statistical: - simple model, easy to interpret\n",
    "                 - Comparatively high R2 and captures variation well"
   ]
  },
  {
   "cell_type": "markdown",
   "id": "94384ff0",
   "metadata": {},
   "source": [
    "### Residual analysis"
   ]
  },
  {
   "cell_type": "markdown",
   "id": "6627ab2f",
   "metadata": {},
   "source": [
    "Get the predicted y values from the model"
   ]
  },
  {
   "cell_type": "code",
   "execution_count": null,
   "id": "fd0bca7b",
   "metadata": {},
   "outputs": [],
   "source": [
    "df[\"reg4_y_pred\"] = reg4.fittedvalues"
   ]
  },
  {
   "cell_type": "markdown",
   "id": "b199126d",
   "metadata": {},
   "source": [
    "Calculate the errors of the model"
   ]
  },
  {
   "cell_type": "code",
   "execution_count": null,
   "id": "9a772b0b",
   "metadata": {},
   "outputs": [],
   "source": [
    "df[\"reg4_res\"] = df[\"lifeexp\"] - df[\"reg4_y_pred\"]"
   ]
  },
  {
   "cell_type": "markdown",
   "id": "5c17cdc1",
   "metadata": {},
   "source": [
    "Find countries with largest negative errors"
   ]
  },
  {
   "cell_type": "code",
   "execution_count": null,
   "id": "0d52dae4",
   "metadata": {},
   "outputs": [],
   "source": [
    "worst5 = df.sort_values(by=[\"reg4_res\"]).head(5)\n",
    "worst5"
   ]
  },
  {
   "cell_type": "markdown",
   "id": "b4cc15b8",
   "metadata": {},
   "source": [
    "Find countries with largest positive errors"
   ]
  },
  {
   "cell_type": "code",
   "execution_count": null,
   "id": "e92f197b",
   "metadata": {},
   "outputs": [],
   "source": [
    "best5 = df.sort_values(by=[\"reg4_res\"]).tail(5)\n",
    "best5"
   ]
  },
  {
   "cell_type": "markdown",
   "id": "2a6ecc96",
   "metadata": {},
   "source": [
    "Show again the scatter plot with bests and worst"
   ]
  },
  {
   "cell_type": "code",
   "execution_count": null,
   "id": "0db20692",
   "metadata": {},
   "outputs": [],
   "source": [
    "(\n",
    "    ggplot(df, aes(x=\"ln_gdppc\", y=\"lifeexp\"))\n",
    "    + geom_point(color=\"blue\")\n",
    "    + geom_smooth(method=\"lm\", color=\"red\")\n",
    "    + annotate(\n",
    "        \"text\",\n",
    "        x=worst5[\"ln_gdppc\"],\n",
    "        y=worst5[\"lifeexp\"] - 1,\n",
    "        label=worst5[\"country\"].tolist(),\n",
    "        color=\"purple\",\n",
    "    )\n",
    "    + annotate(\n",
    "        \"text\",\n",
    "        x=best5[\"ln_gdppc\"],\n",
    "        y=best5[\"lifeexp\"] + 1,\n",
    "        label=best5[\"country\"].tolist(),\n",
    "        color=\"green\",\n",
    "    )\n",
    "    + theme_bw()\n",
    ")"
   ]
  },
  {
   "cell_type": "code",
   "execution_count": null,
   "id": "6cf28329",
   "metadata": {},
   "outputs": [],
   "source": []
  }
 ],
 "metadata": {
  "kernelspec": {
   "display_name": "Python 3 (ipykernel)",
   "language": "python",
   "name": "python3"
  },
  "language_info": {
   "codemirror_mode": {
    "name": "ipython",
    "version": 3
   },
   "file_extension": ".py",
   "mimetype": "text/x-python",
   "name": "python",
   "nbconvert_exporter": "python",
   "pygments_lexer": "ipython3",
   "version": "3.8.10"
  }
 },
 "nbformat": 4,
 "nbformat_minor": 5
}
