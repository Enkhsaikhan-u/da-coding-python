{
 "cells": [
  {
   "cell_type": "markdown",
   "id": "c7da3efc",
   "metadata": {},
   "source": [
    "#               Lecture 12                  #\n",
    "                                          \n",
    "##  Auxiliary file to clean data            \n",
    "    - can practice, but not mandatory   \n",
    "                                          \n",
    "#### Case Study:                               \n",
    "- life-expectancy and income               \n",
    "---"
   ]
  },
  {
   "cell_type": "code",
   "execution_count": 1,
   "id": "469640e2",
   "metadata": {},
   "outputs": [],
   "source": [
    "import pandas as pd\n",
    "import numpy as np\n",
    "import warnings\n",
    "\n",
    "warnings.filterwarnings(\"ignore\")"
   ]
  },
  {
   "cell_type": "markdown",
   "id": "0e7ed69e",
   "metadata": {},
   "source": [
    "Call the data from github"
   ]
  },
  {
   "cell_type": "code",
   "execution_count": 2,
   "id": "172b3be5",
   "metadata": {},
   "outputs": [],
   "source": [
    "my_url = \"https://raw.githubusercontent.com/gabors-data-analysis/da-coding-rstats/main/lecture14-simple-regression/data/raw/WDI_lifeexp_raw.csv\"\n",
    "df = pd.read_csv(my_url)\n",
    "df.loc[lambda x: x[\"country\"] == \"Namibia\",\"iso2c\"] = \"NA\""
   ]
  },
  {
   "cell_type": "markdown",
   "id": "49f14043",
   "metadata": {},
   "source": [
    "Check the observations:\n",
    "\n",
    "Lot of grouping observations usually contains a number"
   ]
  },
  {
   "cell_type": "code",
   "execution_count": 3,
   "id": "3cc311ab",
   "metadata": {},
   "outputs": [
    {
     "data": {
      "text/html": [
       "<div>\n",
       "<style scoped>\n",
       "    .dataframe tbody tr th:only-of-type {\n",
       "        vertical-align: middle;\n",
       "    }\n",
       "\n",
       "    .dataframe tbody tr th {\n",
       "        vertical-align: top;\n",
       "    }\n",
       "\n",
       "    .dataframe thead th {\n",
       "        text-align: right;\n",
       "    }\n",
       "</style>\n",
       "<table border=\"1\" class=\"dataframe\">\n",
       "  <thead>\n",
       "    <tr style=\"text-align: right;\">\n",
       "      <th></th>\n",
       "      <th>iso2c</th>\n",
       "      <th>country</th>\n",
       "      <th>year</th>\n",
       "      <th>NY.GDP.PCAP.PP.KD</th>\n",
       "      <th>SP.DYN.LE00.IN</th>\n",
       "      <th>SP.POP.TOTL</th>\n",
       "    </tr>\n",
       "  </thead>\n",
       "  <tbody>\n",
       "    <tr>\n",
       "      <th>0</th>\n",
       "      <td>1A</td>\n",
       "      <td>Arab World</td>\n",
       "      <td>2019</td>\n",
       "      <td>14211.415054</td>\n",
       "      <td>71.989709</td>\n",
       "      <td>4.278703e+08</td>\n",
       "    </tr>\n",
       "    <tr>\n",
       "      <th>1</th>\n",
       "      <td>1W</td>\n",
       "      <td>World</td>\n",
       "      <td>2019</td>\n",
       "      <td>16867.057302</td>\n",
       "      <td>72.741689</td>\n",
       "      <td>7.673345e+09</td>\n",
       "    </tr>\n",
       "    <tr>\n",
       "      <th>2</th>\n",
       "      <td>4E</td>\n",
       "      <td>East Asia &amp; Pacific (excluding high income)</td>\n",
       "      <td>2019</td>\n",
       "      <td>14406.088879</td>\n",
       "      <td>75.402506</td>\n",
       "      <td>2.093675e+09</td>\n",
       "    </tr>\n",
       "    <tr>\n",
       "      <th>3</th>\n",
       "      <td>7E</td>\n",
       "      <td>Europe &amp; Central Asia (excluding high income)</td>\n",
       "      <td>2019</td>\n",
       "      <td>22081.859317</td>\n",
       "      <td>73.935400</td>\n",
       "      <td>4.187609e+08</td>\n",
       "    </tr>\n",
       "    <tr>\n",
       "      <th>4</th>\n",
       "      <td>8S</td>\n",
       "      <td>South Asia</td>\n",
       "      <td>2019</td>\n",
       "      <td>6237.444175</td>\n",
       "      <td>69.643617</td>\n",
       "      <td>1.835777e+09</td>\n",
       "    </tr>\n",
       "    <tr>\n",
       "      <th>18</th>\n",
       "      <td>B8</td>\n",
       "      <td>Central Europe and the Baltics</td>\n",
       "      <td>2019</td>\n",
       "      <td>32579.985417</td>\n",
       "      <td>77.144103</td>\n",
       "      <td>1.023985e+08</td>\n",
       "    </tr>\n",
       "    <tr>\n",
       "      <th>66</th>\n",
       "      <td>F1</td>\n",
       "      <td>Fragile and conflict affected situations</td>\n",
       "      <td>2019</td>\n",
       "      <td>4395.965514</td>\n",
       "      <td>62.480088</td>\n",
       "      <td>9.087395e+08</td>\n",
       "    </tr>\n",
       "    <tr>\n",
       "      <th>177</th>\n",
       "      <td>S1</td>\n",
       "      <td>Small states</td>\n",
       "      <td>2019</td>\n",
       "      <td>20576.575973</td>\n",
       "      <td>69.770847</td>\n",
       "      <td>4.125453e+07</td>\n",
       "    </tr>\n",
       "    <tr>\n",
       "      <th>178</th>\n",
       "      <td>S2</td>\n",
       "      <td>Pacific island small states</td>\n",
       "      <td>2019</td>\n",
       "      <td>7326.364774</td>\n",
       "      <td>70.079731</td>\n",
       "      <td>2.491878e+06</td>\n",
       "    </tr>\n",
       "    <tr>\n",
       "      <th>179</th>\n",
       "      <td>S3</td>\n",
       "      <td>Caribbean small states</td>\n",
       "      <td>2019</td>\n",
       "      <td>15852.195755</td>\n",
       "      <td>73.754732</td>\n",
       "      <td>7.401389e+06</td>\n",
       "    </tr>\n",
       "    <tr>\n",
       "      <th>180</th>\n",
       "      <td>S4</td>\n",
       "      <td>Other small states</td>\n",
       "      <td>2019</td>\n",
       "      <td>22744.374324</td>\n",
       "      <td>68.821876</td>\n",
       "      <td>3.136126e+07</td>\n",
       "    </tr>\n",
       "    <tr>\n",
       "      <th>200</th>\n",
       "      <td>T2</td>\n",
       "      <td>Latin America &amp; the Caribbean (IDA &amp; IBRD coun...</td>\n",
       "      <td>2019</td>\n",
       "      <td>15944.294089</td>\n",
       "      <td>75.520388</td>\n",
       "      <td>6.306448e+08</td>\n",
       "    </tr>\n",
       "    <tr>\n",
       "      <th>201</th>\n",
       "      <td>T3</td>\n",
       "      <td>Middle East &amp; North Africa (IDA &amp; IBRD countries)</td>\n",
       "      <td>2019</td>\n",
       "      <td>10246.402716</td>\n",
       "      <td>73.774236</td>\n",
       "      <td>3.847718e+08</td>\n",
       "    </tr>\n",
       "    <tr>\n",
       "      <th>202</th>\n",
       "      <td>T4</td>\n",
       "      <td>East Asia &amp; Pacific (IDA &amp; IBRD countries)</td>\n",
       "      <td>2019</td>\n",
       "      <td>14566.759852</td>\n",
       "      <td>75.441336</td>\n",
       "      <td>2.067982e+09</td>\n",
       "    </tr>\n",
       "    <tr>\n",
       "      <th>203</th>\n",
       "      <td>T5</td>\n",
       "      <td>South Asia (IDA &amp; IBRD)</td>\n",
       "      <td>2019</td>\n",
       "      <td>6237.444175</td>\n",
       "      <td>69.643617</td>\n",
       "      <td>1.835777e+09</td>\n",
       "    </tr>\n",
       "    <tr>\n",
       "      <th>204</th>\n",
       "      <td>T6</td>\n",
       "      <td>Sub-Saharan Africa (IDA &amp; IBRD countries)</td>\n",
       "      <td>2019</td>\n",
       "      <td>3785.496611</td>\n",
       "      <td>61.627443</td>\n",
       "      <td>1.106958e+09</td>\n",
       "    </tr>\n",
       "    <tr>\n",
       "      <th>205</th>\n",
       "      <td>T7</td>\n",
       "      <td>Europe &amp; Central Asia (IDA &amp; IBRD countries)</td>\n",
       "      <td>2019</td>\n",
       "      <td>23050.214383</td>\n",
       "      <td>74.298037</td>\n",
       "      <td>4.607916e+08</td>\n",
       "    </tr>\n",
       "    <tr>\n",
       "      <th>224</th>\n",
       "      <td>V1</td>\n",
       "      <td>Pre-demographic dividend</td>\n",
       "      <td>2019</td>\n",
       "      <td>3528.546739</td>\n",
       "      <td>61.175978</td>\n",
       "      <td>9.449027e+08</td>\n",
       "    </tr>\n",
       "    <tr>\n",
       "      <th>225</th>\n",
       "      <td>V2</td>\n",
       "      <td>Early-demographic dividend</td>\n",
       "      <td>2019</td>\n",
       "      <td>9304.617784</td>\n",
       "      <td>70.701201</td>\n",
       "      <td>3.290291e+09</td>\n",
       "    </tr>\n",
       "    <tr>\n",
       "      <th>226</th>\n",
       "      <td>V3</td>\n",
       "      <td>Late-demographic dividend</td>\n",
       "      <td>2019</td>\n",
       "      <td>17408.375143</td>\n",
       "      <td>76.434113</td>\n",
       "      <td>2.298496e+09</td>\n",
       "    </tr>\n",
       "    <tr>\n",
       "      <th>227</th>\n",
       "      <td>V4</td>\n",
       "      <td>Post-demographic dividend</td>\n",
       "      <td>2019</td>\n",
       "      <td>49009.936963</td>\n",
       "      <td>80.794734</td>\n",
       "      <td>1.112708e+09</td>\n",
       "    </tr>\n",
       "    <tr>\n",
       "      <th>254</th>\n",
       "      <td>Z4</td>\n",
       "      <td>East Asia &amp; Pacific</td>\n",
       "      <td>2019</td>\n",
       "      <td>17701.002485</td>\n",
       "      <td>76.262434</td>\n",
       "      <td>2.340674e+09</td>\n",
       "    </tr>\n",
       "    <tr>\n",
       "      <th>255</th>\n",
       "      <td>Z7</td>\n",
       "      <td>Europe &amp; Central Asia</td>\n",
       "      <td>2019</td>\n",
       "      <td>35211.709570</td>\n",
       "      <td>78.031280</td>\n",
       "      <td>9.208095e+08</td>\n",
       "    </tr>\n",
       "  </tbody>\n",
       "</table>\n",
       "</div>"
      ],
      "text/plain": [
       "    iso2c                                            country  year  \\\n",
       "0      1A                                         Arab World  2019   \n",
       "1      1W                                              World  2019   \n",
       "2      4E        East Asia & Pacific (excluding high income)  2019   \n",
       "3      7E      Europe & Central Asia (excluding high income)  2019   \n",
       "4      8S                                         South Asia  2019   \n",
       "18     B8                     Central Europe and the Baltics  2019   \n",
       "66     F1           Fragile and conflict affected situations  2019   \n",
       "177    S1                                       Small states  2019   \n",
       "178    S2                        Pacific island small states  2019   \n",
       "179    S3                             Caribbean small states  2019   \n",
       "180    S4                                 Other small states  2019   \n",
       "200    T2  Latin America & the Caribbean (IDA & IBRD coun...  2019   \n",
       "201    T3  Middle East & North Africa (IDA & IBRD countries)  2019   \n",
       "202    T4         East Asia & Pacific (IDA & IBRD countries)  2019   \n",
       "203    T5                            South Asia (IDA & IBRD)  2019   \n",
       "204    T6          Sub-Saharan Africa (IDA & IBRD countries)  2019   \n",
       "205    T7       Europe & Central Asia (IDA & IBRD countries)  2019   \n",
       "224    V1                           Pre-demographic dividend  2019   \n",
       "225    V2                         Early-demographic dividend  2019   \n",
       "226    V3                          Late-demographic dividend  2019   \n",
       "227    V4                          Post-demographic dividend  2019   \n",
       "254    Z4                                East Asia & Pacific  2019   \n",
       "255    Z7                              Europe & Central Asia  2019   \n",
       "\n",
       "     NY.GDP.PCAP.PP.KD  SP.DYN.LE00.IN   SP.POP.TOTL  \n",
       "0         14211.415054       71.989709  4.278703e+08  \n",
       "1         16867.057302       72.741689  7.673345e+09  \n",
       "2         14406.088879       75.402506  2.093675e+09  \n",
       "3         22081.859317       73.935400  4.187609e+08  \n",
       "4          6237.444175       69.643617  1.835777e+09  \n",
       "18        32579.985417       77.144103  1.023985e+08  \n",
       "66         4395.965514       62.480088  9.087395e+08  \n",
       "177       20576.575973       69.770847  4.125453e+07  \n",
       "178        7326.364774       70.079731  2.491878e+06  \n",
       "179       15852.195755       73.754732  7.401389e+06  \n",
       "180       22744.374324       68.821876  3.136126e+07  \n",
       "200       15944.294089       75.520388  6.306448e+08  \n",
       "201       10246.402716       73.774236  3.847718e+08  \n",
       "202       14566.759852       75.441336  2.067982e+09  \n",
       "203        6237.444175       69.643617  1.835777e+09  \n",
       "204        3785.496611       61.627443  1.106958e+09  \n",
       "205       23050.214383       74.298037  4.607916e+08  \n",
       "224        3528.546739       61.175978  9.449027e+08  \n",
       "225        9304.617784       70.701201  3.290291e+09  \n",
       "226       17408.375143       76.434113  2.298496e+09  \n",
       "227       49009.936963       80.794734  1.112708e+09  \n",
       "254       17701.002485       76.262434  2.340674e+09  \n",
       "255       35211.709570       78.031280  9.208095e+08  "
      ]
     },
     "execution_count": 3,
     "metadata": {},
     "output_type": "execute_result"
    }
   ],
   "source": [
    "d1 = df.loc[~df[\"iso2c\"].str.isalpha()]\n",
    "d1"
   ]
  },
  {
   "cell_type": "markdown",
   "id": "93901b50",
   "metadata": {},
   "source": [
    "Filter these out"
   ]
  },
  {
   "cell_type": "code",
   "execution_count": 4,
   "id": "ad8aba60",
   "metadata": {},
   "outputs": [],
   "source": [
    "df = df.loc[df[\"iso2c\"].str.isalpha()]"
   ]
  },
  {
   "cell_type": "markdown",
   "id": "bf36bf49",
   "metadata": {},
   "source": [
    " Some grouping observations are still there, check each of them\\\n",
    "   HK - Hong Kong, China\\\n",
    "   OE - OECD members\\\n",
    "   all with starting X, except XK which is Kosovo\\\n",
    "   all with starting Z, except ZA-South Africa, ZM-Zambia and ZW-Zimbabwe\\"
   ]
  },
  {
   "cell_type": "markdown",
   "id": "c8295167",
   "metadata": {},
   "source": [
    "1st drop speficif values"
   ]
  },
  {
   "cell_type": "code",
   "execution_count": 5,
   "id": "70e6a09a",
   "metadata": {},
   "outputs": [
    {
     "data": {
      "text/html": [
       "<div>\n",
       "<style scoped>\n",
       "    .dataframe tbody tr th:only-of-type {\n",
       "        vertical-align: middle;\n",
       "    }\n",
       "\n",
       "    .dataframe tbody tr th {\n",
       "        vertical-align: top;\n",
       "    }\n",
       "\n",
       "    .dataframe thead th {\n",
       "        text-align: right;\n",
       "    }\n",
       "</style>\n",
       "<table border=\"1\" class=\"dataframe\">\n",
       "  <thead>\n",
       "    <tr style=\"text-align: right;\">\n",
       "      <th></th>\n",
       "      <th>iso2c</th>\n",
       "      <th>country</th>\n",
       "      <th>year</th>\n",
       "      <th>NY.GDP.PCAP.PP.KD</th>\n",
       "      <th>SP.DYN.LE00.IN</th>\n",
       "      <th>SP.POP.TOTL</th>\n",
       "    </tr>\n",
       "  </thead>\n",
       "  <tbody>\n",
       "    <tr>\n",
       "      <th>65</th>\n",
       "      <td>EU</td>\n",
       "      <td>European Union</td>\n",
       "      <td>2019</td>\n",
       "      <td>44333.258870</td>\n",
       "      <td>81.063847</td>\n",
       "      <td>4.471965e+08</td>\n",
       "    </tr>\n",
       "    <tr>\n",
       "      <th>87</th>\n",
       "      <td>HK</td>\n",
       "      <td>Hong Kong SAR, China</td>\n",
       "      <td>2019</td>\n",
       "      <td>59586.204007</td>\n",
       "      <td>85.078049</td>\n",
       "      <td>7.507400e+06</td>\n",
       "    </tr>\n",
       "    <tr>\n",
       "      <th>158</th>\n",
       "      <td>OE</td>\n",
       "      <td>OECD members</td>\n",
       "      <td>2019</td>\n",
       "      <td>44546.008819</td>\n",
       "      <td>80.205090</td>\n",
       "      <td>1.364842e+09</td>\n",
       "    </tr>\n",
       "  </tbody>\n",
       "</table>\n",
       "</div>"
      ],
      "text/plain": [
       "    iso2c               country  year  NY.GDP.PCAP.PP.KD  SP.DYN.LE00.IN  \\\n",
       "65     EU        European Union  2019       44333.258870       81.063847   \n",
       "87     HK  Hong Kong SAR, China  2019       59586.204007       85.078049   \n",
       "158    OE          OECD members  2019       44546.008819       80.205090   \n",
       "\n",
       "      SP.POP.TOTL  \n",
       "65   4.471965e+08  \n",
       "87   7.507400e+06  \n",
       "158  1.364842e+09  "
      ]
     },
     "execution_count": 5,
     "metadata": {},
     "output_type": "execute_result"
    }
   ],
   "source": [
    "df.loc[lambda x: x[\"iso2c\"].isin([\"EU\",\"HK\",\"OE\"])]"
   ]
  },
  {
   "cell_type": "markdown",
   "id": "f2a58b7c",
   "metadata": {},
   "source": [
    "Save opposite"
   ]
  },
  {
   "cell_type": "code",
   "execution_count": 6,
   "id": "7831ca31",
   "metadata": {},
   "outputs": [],
   "source": [
    "df = df.loc[lambda x: ~x[\"iso2c\"].isin([\"EU\",\"HK\",\"OE\"])]"
   ]
  },
  {
   "cell_type": "markdown",
   "id": "fdac841f",
   "metadata": {},
   "source": [
    "2nd drop values with certain starting character\\\n",
    "Get the first letter from iso2c"
   ]
  },
  {
   "cell_type": "code",
   "execution_count": 7,
   "id": "b919919e",
   "metadata": {},
   "outputs": [],
   "source": [
    "df = df.loc[\n",
    "    (~((df[\"iso2c\"].str[0] == \"X\") | (df[\"iso2c\"].str[0] == \"Z\")))\n",
    "    | (df[\"iso2c\"].isin([\"XK\", \"ZA\", \"ZM\", \"ZW\"]))\n",
    "]"
   ]
  },
  {
   "cell_type": "markdown",
   "id": "339c7488",
   "metadata": {},
   "source": [
    "Check for missing observations"
   ]
  },
  {
   "cell_type": "code",
   "execution_count": 8,
   "id": "915a69e7",
   "metadata": {},
   "outputs": [],
   "source": [
    "df = df.dropna(subset=[\"NY.GDP.PCAP.PP.KD\", \"SP.DYN.LE00.IN\", \"SP.POP.TOTL\"])"
   ]
  },
  {
   "cell_type": "markdown",
   "id": "143402d8",
   "metadata": {},
   "source": [
    "### Clean variables"
   ]
  },
  {
   "cell_type": "markdown",
   "id": "4cd7c273",
   "metadata": {},
   "source": [
    "Rename variables and scale them\\\n",
    "Drop all the others !! in this case write into readme it is referring to year 2018!!"
   ]
  },
  {
   "cell_type": "code",
   "execution_count": 9,
   "id": "70459d65",
   "metadata": {},
   "outputs": [],
   "source": [
    "df[\"population\"] = df[\"SP.POP.TOTL\"] / 10**6\n",
    "df[\"gdppc\"] = df[\"NY.GDP.PCAP.PP.KD\"] / 10**3\n",
    "df[\"lifeexp\"] = df[\"SP.DYN.LE00.IN\"]\n",
    "\n",
    "df = df.filter([\"country\", \"population\", \"gdppc\", \"lifeexp\"])"
   ]
  },
  {
   "cell_type": "code",
   "execution_count": 10,
   "id": "5e3754b9",
   "metadata": {},
   "outputs": [
    {
     "data": {
      "text/plain": [
       "array([[<matplotlib.axes._subplots.AxesSubplot object at 0x000002097A316A58>,\n",
       "        <matplotlib.axes._subplots.AxesSubplot object at 0x000002097AA0FC88>],\n",
       "       [<matplotlib.axes._subplots.AxesSubplot object at 0x000002097AA44080>,\n",
       "        <matplotlib.axes._subplots.AxesSubplot object at 0x000002097AA6A5F8>]],\n",
       "      dtype=object)"
      ]
     },
     "execution_count": 10,
     "metadata": {},
     "output_type": "execute_result"
    },
    {
     "data": {
      "image/png": "[encoded data removed]",
      "text/plain": [
       "<Figure size 432x288 with 4 Axes>"
      ]
     },
     "metadata": {
      "needs_background": "light"
     },
     "output_type": "display_data"
    }
   ],
   "source": [
    "df.filter([ \"population\", \"gdppc\", \"lifeexp\"]).hist()"
   ]
  },
  {
   "cell_type": "markdown",
   "id": "afd3b4d0",
   "metadata": {},
   "source": [
    "It seems we have a large value(s) for population:"
   ]
  },
  {
   "cell_type": "code",
   "execution_count": 11,
   "id": "fc064c21",
   "metadata": {},
   "outputs": [
    {
     "data": {
      "text/html": [
       "<div>\n",
       "<style scoped>\n",
       "    .dataframe tbody tr th:only-of-type {\n",
       "        vertical-align: middle;\n",
       "    }\n",
       "\n",
       "    .dataframe tbody tr th {\n",
       "        vertical-align: top;\n",
       "    }\n",
       "\n",
       "    .dataframe thead th {\n",
       "        text-align: right;\n",
       "    }\n",
       "</style>\n",
       "<table border=\"1\" class=\"dataframe\">\n",
       "  <thead>\n",
       "    <tr style=\"text-align: right;\">\n",
       "      <th></th>\n",
       "      <th>country</th>\n",
       "      <th>population</th>\n",
       "      <th>gdppc</th>\n",
       "      <th>lifeexp</th>\n",
       "    </tr>\n",
       "  </thead>\n",
       "  <tbody>\n",
       "    <tr>\n",
       "      <th>45</th>\n",
       "      <td>China</td>\n",
       "      <td>1397.715000</td>\n",
       "      <td>16.092301</td>\n",
       "      <td>76.912</td>\n",
       "    </tr>\n",
       "    <tr>\n",
       "      <th>96</th>\n",
       "      <td>India</td>\n",
       "      <td>1366.417756</td>\n",
       "      <td>6.717178</td>\n",
       "      <td>69.656</td>\n",
       "    </tr>\n",
       "  </tbody>\n",
       "</table>\n",
       "</div>"
      ],
      "text/plain": [
       "   country   population      gdppc  lifeexp\n",
       "45   China  1397.715000  16.092301   76.912\n",
       "96   India  1366.417756   6.717178   69.656"
      ]
     },
     "execution_count": 11,
     "metadata": {},
     "output_type": "execute_result"
    }
   ],
   "source": [
    "df.loc[df[\"population\"]>500]"
   ]
  },
  {
   "cell_type": "markdown",
   "id": "d4a01758",
   "metadata": {},
   "source": [
    "These are India and China... not an extreme value"
   ]
  },
  {
   "cell_type": "code",
   "execution_count": 12,
   "id": "b325c8e0",
   "metadata": {},
   "outputs": [
    {
     "data": {
      "text/html": [
       "<div>\n",
       "<style scoped>\n",
       "    .dataframe tbody tr th:only-of-type {\n",
       "        vertical-align: middle;\n",
       "    }\n",
       "\n",
       "    .dataframe tbody tr th {\n",
       "        vertical-align: top;\n",
       "    }\n",
       "\n",
       "    .dataframe thead th {\n",
       "        text-align: right;\n",
       "    }\n",
       "</style>\n",
       "<table border=\"1\" class=\"dataframe\">\n",
       "  <thead>\n",
       "    <tr style=\"text-align: right;\">\n",
       "      <th></th>\n",
       "      <th>population</th>\n",
       "      <th>gdppc</th>\n",
       "      <th>lifeexp</th>\n",
       "    </tr>\n",
       "  </thead>\n",
       "  <tbody>\n",
       "    <tr>\n",
       "      <th>count</th>\n",
       "      <td>180.000000</td>\n",
       "      <td>180.000000</td>\n",
       "      <td>180.000000</td>\n",
       "    </tr>\n",
       "    <tr>\n",
       "      <th>mean</th>\n",
       "      <td>41.657096</td>\n",
       "      <td>21.438360</td>\n",
       "      <td>72.726386</td>\n",
       "    </tr>\n",
       "    <tr>\n",
       "      <th>std</th>\n",
       "      <td>150.361578</td>\n",
       "      <td>22.555867</td>\n",
       "      <td>7.377117</td>\n",
       "    </tr>\n",
       "    <tr>\n",
       "      <th>min</th>\n",
       "      <td>0.063913</td>\n",
       "      <td>0.751664</td>\n",
       "      <td>53.283000</td>\n",
       "    </tr>\n",
       "    <tr>\n",
       "      <th>25%</th>\n",
       "      <td>2.270922</td>\n",
       "      <td>5.122250</td>\n",
       "      <td>67.773250</td>\n",
       "    </tr>\n",
       "    <tr>\n",
       "      <th>50%</th>\n",
       "      <td>8.828019</td>\n",
       "      <td>13.367983</td>\n",
       "      <td>74.067000</td>\n",
       "    </tr>\n",
       "    <tr>\n",
       "      <th>75%</th>\n",
       "      <td>30.769718</td>\n",
       "      <td>31.004150</td>\n",
       "      <td>77.873500</td>\n",
       "    </tr>\n",
       "    <tr>\n",
       "      <th>max</th>\n",
       "      <td>1397.715000</td>\n",
       "      <td>127.903180</td>\n",
       "      <td>84.356341</td>\n",
       "    </tr>\n",
       "  </tbody>\n",
       "</table>\n",
       "</div>"
      ],
      "text/plain": [
       "        population       gdppc     lifeexp\n",
       "count   180.000000  180.000000  180.000000\n",
       "mean     41.657096   21.438360   72.726386\n",
       "std     150.361578   22.555867    7.377117\n",
       "min       0.063913    0.751664   53.283000\n",
       "25%       2.270922    5.122250   67.773250\n",
       "50%       8.828019   13.367983   74.067000\n",
       "75%      30.769718   31.004150   77.873500\n",
       "max    1397.715000  127.903180   84.356341"
      ]
     },
     "execution_count": 12,
     "metadata": {},
     "output_type": "execute_result"
    }
   ],
   "source": [
    "df.describe()"
   ]
  },
  {
   "cell_type": "markdown",
   "id": "5c027e67",
   "metadata": {},
   "source": [
    "Save the raw data file for your working directory"
   ]
  },
  {
   "cell_type": "code",
   "execution_count": 13,
   "id": "189d5e97",
   "metadata": {},
   "outputs": [],
   "source": [
    "df.to_csv(\"WDI_lifeexp_clean.csv\",index=False)"
   ]
  },
  {
   "cell_type": "code",
   "execution_count": null,
   "id": "f8b21d77",
   "metadata": {},
   "outputs": [],
   "source": []
  }
 ],
 "metadata": {
  "kernelspec": {
   "display_name": "Python 3",
   "language": "python",
   "name": "python3"
  },
  "language_info": {
   "codemirror_mode": {
    "name": "ipython",
    "version": 3
   },
   "file_extension": ".py",
   "mimetype": "text/x-python",
   "name": "python",
   "nbconvert_exporter": "python",
   "pygments_lexer": "ipython3",
   "version": "3.6.13"
  }
 },
 "nbformat": 4,
 "nbformat_minor": 5
}
