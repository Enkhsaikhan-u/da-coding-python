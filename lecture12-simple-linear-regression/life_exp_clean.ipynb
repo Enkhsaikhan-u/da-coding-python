{
 "cells": [
  {
   "cell_type": "markdown",
   "id": "c7da3efc",
   "metadata": {},
   "source": [
    "#               Lecture 12                  #\n",
    "                                          \n",
    "##  Auxiliary file to clean data            \n",
    "    - can practice, but not mandatory   \n",
    "                                          \n",
    "#### Case Study:                               \n",
    "- life-expectancy and income               \n",
    "---"
   ]
  },
  {
   "cell_type": "code",
   "execution_count": null,
   "id": "469640e2",
   "metadata": {},
   "outputs": [],
   "source": [
    "import pandas as pd\n",
    "import numpy as np\n",
    "import warnings\n",
    "\n",
    "warnings.filterwarnings(\"ignore\")"
   ]
  },
  {
   "cell_type": "markdown",
   "id": "0e7ed69e",
   "metadata": {},
   "source": [
    "Call the data from github"
   ]
  },
  {
   "cell_type": "code",
   "execution_count": null,
   "id": "172b3be5",
   "metadata": {},
   "outputs": [],
   "source": [
    "my_url = \"https://raw.githubusercontent.com/gabors-data-analysis/da-coding-python/main/lecture12-simple-linear-regression/data/WDI_lifeexp_raw.csv\"\n",
    "#df = pd.read_csv(my_url)\n",
    "df = pd.read_csv(\"data/WDI_lifeexp_raw.csv\")\n",
    "df.loc[lambda x: x[\"country\"] == \"Namibia\", \"iso2Code\"] = \"NA\"\n",
    "df = df.dropna(subset=[\"iso2Code\"])"
   ]
  },
  {
   "cell_type": "markdown",
   "id": "49f14043",
   "metadata": {},
   "source": [
    "Check the observations:\n",
    "\n",
    "Lot of grouping observations usually contains a number"
   ]
  },
  {
   "cell_type": "code",
   "execution_count": null,
   "id": "3cc311ab",
   "metadata": {},
   "outputs": [],
   "source": [
    "d1 = df.loc[~df[\"iso2Code\"].str.isalpha()]\n",
    "d1"
   ]
  },
  {
   "cell_type": "markdown",
   "id": "93901b50",
   "metadata": {},
   "source": [
    "Filter these out"
   ]
  },
  {
   "cell_type": "code",
   "execution_count": null,
   "id": "ad8aba60",
   "metadata": {},
   "outputs": [],
   "source": [
    "df = df.loc[df[\"iso2Code\"].str.isalpha()]"
   ]
  },
  {
   "cell_type": "markdown",
   "id": "bf36bf49",
   "metadata": {},
   "source": [
    " Some grouping observations are still there, check each of them\\\n",
    "   HK - Hong Kong, China\\\n",
    "   OE - OECD members\\\n",
    "   all with starting X, except XK which is Kosovo\\\n",
    "   all with starting Z, except ZA-South Africa, ZM-Zambia and ZW-Zimbabwe\\"
   ]
  },
  {
   "cell_type": "markdown",
   "id": "c8295167",
   "metadata": {},
   "source": [
    "1st drop speficif values"
   ]
  },
  {
   "cell_type": "code",
   "execution_count": null,
   "id": "70e6a09a",
   "metadata": {},
   "outputs": [],
   "source": [
    "df.loc[lambda x: x[\"iso2Code\"].isin([\"EU\",\"HK\",\"OE\"])]"
   ]
  },
  {
   "cell_type": "markdown",
   "id": "f2a58b7c",
   "metadata": {},
   "source": [
    "Save opposite"
   ]
  },
  {
   "cell_type": "code",
   "execution_count": null,
   "id": "7831ca31",
   "metadata": {},
   "outputs": [],
   "source": [
    "df = df.loc[lambda x: ~x[\"iso2Code\"].isin([\"EU\",\"HK\",\"OE\"])]"
   ]
  },
  {
   "cell_type": "markdown",
   "id": "fdac841f",
   "metadata": {},
   "source": [
    "2nd drop values with certain starting character\\\n",
    "Get the first letter from iso2c"
   ]
  },
  {
   "cell_type": "code",
   "execution_count": null,
   "id": "b919919e",
   "metadata": {},
   "outputs": [],
   "source": [
    "df = df.loc[\n",
    "    (~((df[\"iso2Code\"].str[0] == \"X\") | (df[\"iso2Code\"].str[0] == \"Z\")))\n",
    "    | (df[\"iso2Code\"].isin([\"XK\", \"ZA\", \"ZM\", \"ZW\"]))\n",
    "]"
   ]
  },
  {
   "cell_type": "markdown",
   "id": "339c7488",
   "metadata": {},
   "source": [
    "Check for missing observations"
   ]
  },
  {
   "cell_type": "code",
   "execution_count": null,
   "id": "915a69e7",
   "metadata": {},
   "outputs": [],
   "source": [
    "df = df.dropna(subset=['gdppc', 'lifeexp', 'population'])"
   ]
  },
  {
   "cell_type": "markdown",
   "id": "143402d8",
   "metadata": {},
   "source": [
    "### Clean variables"
   ]
  },
  {
   "cell_type": "markdown",
   "id": "4cd7c273",
   "metadata": {},
   "source": [
    "Rename variables and scale them\\\n",
    "Drop all the others !! in this case write into readme it is referring to year 2018!!"
   ]
  },
  {
   "cell_type": "code",
   "execution_count": null,
   "id": "70459d65",
   "metadata": {},
   "outputs": [],
   "source": [
    "df[\"population\"] = df[\"population\"] / 10**6\n",
    "df[\"gdppc\"] = df[\"gdppc\"] / 10**3"
   ]
  },
  {
   "cell_type": "code",
   "execution_count": null,
   "id": "5e3754b9",
   "metadata": {},
   "outputs": [],
   "source": [
    "df.filter([ \"population\", \"gdppc\", \"lifeexp\"]).hist()"
   ]
  },
  {
   "cell_type": "markdown",
   "id": "afd3b4d0",
   "metadata": {},
   "source": [
    "It seems we have a large value(s) for population:"
   ]
  },
  {
   "cell_type": "code",
   "execution_count": null,
   "id": "fc064c21",
   "metadata": {},
   "outputs": [],
   "source": [
    "df.loc[df[\"population\"]>500]"
   ]
  },
  {
   "cell_type": "markdown",
   "id": "d4a01758",
   "metadata": {},
   "source": [
    "These are India and China... not an extreme value"
   ]
  },
  {
   "cell_type": "code",
   "execution_count": null,
   "id": "b325c8e0",
   "metadata": {},
   "outputs": [],
   "source": [
    "df.describe()"
   ]
  },
  {
   "cell_type": "markdown",
   "id": "5c027e67",
   "metadata": {},
   "source": [
    "Save the raw data file for your working directory"
   ]
  },
  {
   "cell_type": "code",
   "execution_count": null,
   "id": "189d5e97",
   "metadata": {},
   "outputs": [],
   "source": [
    "df.to_csv(\"data/WDI_lifeexp_clean.csv\",index=False)"
   ]
  },
  {
   "cell_type": "code",
   "execution_count": null,
   "id": "f8b21d77",
   "metadata": {},
   "outputs": [],
   "source": []
  }
 ],
 "metadata": {
  "kernelspec": {
   "display_name": "Python 3 (ipykernel)",
   "language": "python",
   "name": "python3"
  },
  "language_info": {
   "codemirror_mode": {
    "name": "ipython",
    "version": 3
   },
   "file_extension": ".py",
   "mimetype": "text/x-python",
   "name": "python",
   "nbconvert_exporter": "python",
   "pygments_lexer": "ipython3",
   "version": "3.8.10"
  }
 },
 "nbformat": 4,
 "nbformat_minor": 5
}
