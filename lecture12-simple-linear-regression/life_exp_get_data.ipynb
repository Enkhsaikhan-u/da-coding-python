{
 "cells": [
  {
   "cell_type": "markdown",
   "id": "0d78786d",
   "metadata": {},
   "source": [
    "# Lecture 12\n",
    "\n",
    "## Getting the data for analysis\n",
    "   - practice with WDI package           \n",
    "                                           \n",
    "#### Case Study:                               \n",
    "   - Life-expectancy and income   \n",
    "---"
   ]
  },
  {
   "cell_type": "code",
   "execution_count": null,
   "id": "3851750c",
   "metadata": {},
   "outputs": [],
   "source": [
    "import pandas as pd\n",
    "import numpy as np\n",
    "from datetime import date\n",
    "import warnings\n",
    "\n",
    "warnings.filterwarnings(\"ignore\")"
   ]
  },
  {
   "cell_type": "code",
   "execution_count": null,
   "id": "6f957733",
   "metadata": {},
   "outputs": [],
   "source": [
    "import wbdata"
   ]
  },
  {
   "cell_type": "markdown",
   "id": "209c0911",
   "metadata": {},
   "source": [
    "Reminder on how WDI works - it is an API\\\n",
    "Search for variables which contains GDP"
   ]
  },
  {
   "cell_type": "code",
   "execution_count": null,
   "id": "5c9e7543",
   "metadata": {},
   "outputs": [],
   "source": [
    "wbdata.search_indicators(\"gdp\")"
   ]
  },
  {
   "cell_type": "markdown",
   "id": "b2ea0e3c",
   "metadata": {},
   "source": [
    "Narrow down the serach for: GDP + something + capita + something + constant"
   ]
  },
  {
   "cell_type": "code",
   "execution_count": null,
   "id": "61e7255c",
   "metadata": {},
   "outputs": [],
   "source": [
    "wbdata.search_indicators(\"gdp.*capita.*constant\")"
   ]
  },
  {
   "cell_type": "markdown",
   "id": "784147fc",
   "metadata": {},
   "source": [
    "Get GDP data"
   ]
  },
  {
   "cell_type": "code",
   "execution_count": null,
   "id": "a0c077b0",
   "metadata": {},
   "outputs": [],
   "source": [
    "gdp_data = wbdata.get_data(\n",
    "    indicator=\"NY.GDP.PCAP.PP.KD\", country=\"all\", data_date=date(2019, 1, 1)\n",
    ")\n",
    "gdp_data"
   ]
  },
  {
   "cell_type": "markdown",
   "id": "3c2fd41c",
   "metadata": {},
   "source": [
    "### Task: \n",
    "\n",
    "Get the GDP data, along with `population`, `total` and `life expectancy at birth`\n",
    "for year 2019 and save to your data folder!\\\n",
    "Note: We have pushed it to Github, we will use that later, just to be on the same page!"
   ]
  },
  {
   "cell_type": "code",
   "execution_count": null,
   "id": "7b8bc4c3",
   "metadata": {},
   "outputs": [],
   "source": [
    "wbdata.search_indicators('population, total')"
   ]
  },
  {
   "cell_type": "code",
   "execution_count": null,
   "id": "bd5a71ac",
   "metadata": {},
   "outputs": [],
   "source": [
    "wbdata.search_indicators(\"life expectancy at birth\")"
   ]
  },
  {
   "cell_type": "code",
   "execution_count": null,
   "id": "4ff5383f",
   "metadata": {},
   "outputs": [],
   "source": [
    "data_raw = wbdata.get_dataframe(\n",
    "    indicators={\n",
    "        \"NY.GDP.PCAP.PP.KD\": \"gdppc\",\n",
    "        \"SP.DYN.LE00.IN\": \"lifeexp\",\n",
    "        \"SP.POP.TOTL\": \"population\",\n",
    "    },\n",
    "    country=\"all\",\n",
    "    data_date=date(2019, 1, 1),\n",
    ").reset_index()\n",
    "\n",
    "ISOcodes = pd.DataFrame(wbdata.get_country())[[\"iso2Code\", \"name\"]]"
   ]
  },
  {
   "cell_type": "code",
   "execution_count": null,
   "id": "5aff6a41",
   "metadata": {},
   "outputs": [],
   "source": [
    "data_raw = (\n",
    "    data_raw.reset_index(drop=True)\n",
    "    .merge(ISOcodes, left_on=\"country\", right_on=\"name\", how=\"left\")\n",
    "    .drop(\"name\", axis=1)\n",
    ")"
   ]
  },
  {
   "cell_type": "code",
   "execution_count": null,
   "id": "4453a51a",
   "metadata": {},
   "outputs": [],
   "source": [
    "data_raw.to_csv(\"data/WDI_lifeexp_raw.csv\", index = False)"
   ]
  },
  {
   "cell_type": "code",
   "execution_count": null,
   "id": "b3dddfba",
   "metadata": {},
   "outputs": [],
   "source": []
  }
 ],
 "metadata": {
  "kernelspec": {
   "display_name": "Python 3 (ipykernel)",
   "language": "python",
   "name": "python3"
  },
  "language_info": {
   "codemirror_mode": {
    "name": "ipython",
    "version": 3
   },
   "file_extension": ".py",
   "mimetype": "text/x-python",
   "name": "python",
   "nbconvert_exporter": "python",
   "pygments_lexer": "ipython3",
   "version": "3.8.10"
  }
 },
 "nbformat": 4,
 "nbformat_minor": 5
}
