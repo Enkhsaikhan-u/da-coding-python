{
 "cells": [
  {
   "cell_type": "markdown",
   "id": "a5dd6039",
   "metadata": {},
   "source": [
    "#         Lecture 13                    \n",
    "                                            \n",
    "## Advanced topics with linear regression      \n",
    "   - Multiple regression                   \n",
    "   - Model choice with multiple regressors \n",
    "   - Prediction with multiple regressors:  \n",
    "        - useful graphs for predictions     \n",
    "        - Confidence Interval               \n",
    "        - Prediction Interval               \n",
    "    - Robustness tests/External validity    \n",
    "        - Time/Location/Type                \n",
    "    - Extra: training and test sample       \n",
    "                                            \n",
    "#### Case Study:                                 \n",
    " - Hotels Europe                        \n",
    "                                            \n",
    "#### Dataset used:                               \n",
    " - hotel-europe \n",
    " \n",
    " ___"
   ]
  },
  {
   "cell_type": "markdown",
   "id": "0bf7e3a1",
   "metadata": {},
   "source": [
    "Import packages"
   ]
  },
  {
   "cell_type": "code",
   "execution_count": null,
   "id": "48234bd9",
   "metadata": {},
   "outputs": [],
   "source": [
    "import pandas as pd\n",
    "import numpy as np\n",
    "from plotnine import *\n",
    "import statsmodels.formula.api as smf\n",
    "from stargazer.stargazer import Stargazer\n",
    "\n",
    "%matplotlib inline"
   ]
  },
  {
   "cell_type": "markdown",
   "id": "eb9982d6",
   "metadata": {},
   "source": [
    "Import Data:\\\n",
    "    now we use all the observations from Europe:"
   ]
  },
  {
   "cell_type": "code",
   "execution_count": null,
   "id": "0e5edc06",
   "metadata": {},
   "outputs": [],
   "source": [
    "hotels_europe_price = pd.read_csv(\"https://osf.io/p6tyr/download\")\n",
    "hotels_europe_features = pd.read_csv(\"https://osf.io/utwjs/download\")"
   ]
  },
  {
   "cell_type": "markdown",
   "id": "9def832b",
   "metadata": {},
   "source": [
    "Join them by hotel_id"
   ]
  },
  {
   "cell_type": "code",
   "execution_count": null,
   "id": "5bff5855",
   "metadata": {},
   "outputs": [],
   "source": [
    "europe = hotels_europe_price.merge(hotels_europe_features, on = \"hotel_id\")\n",
    "europe.head()"
   ]
  },
  {
   "cell_type": "code",
   "execution_count": null,
   "id": "1fb2286f",
   "metadata": {},
   "outputs": [],
   "source": [
    "del hotels_europe_price\n",
    "del hotels_europe_features"
   ]
  },
  {
   "cell_type": "markdown",
   "id": "336b0d55-3b37-43bc-8258-f9a0b950d6b8",
   "metadata": {},
   "source": [
    "### Multiple Linear Regression"
   ]
  },
  {
   "cell_type": "markdown",
   "id": "66795c10",
   "metadata": {},
   "source": [
    "#### I) Predict Hotel prices in Vienna with multiple regressors!"
   ]
  },
  {
   "cell_type": "markdown",
   "id": "98b28a8f",
   "metadata": {},
   "source": [
    "##### A) Data management:\n",
    "\n",
    "a) get the needed sample:"
   ]
  },
  {
   "cell_type": "code",
   "execution_count": null,
   "id": "d1923cf4",
   "metadata": {},
   "outputs": [],
   "source": [
    "vienna = (\n",
    "    europe.loc[lambda x: x[\"accommodation_type\"] == \"Hotel\"]\n",
    "    .loc[lambda x: (x[\"year\"] == 2017) & (x[\"month\"] == 11) & (x[\"weekend\"] == 0)]\n",
    "    .loc[lambda x: x[\"city_actual\"] == \"Vienna\"]\n",
    "    .loc[lambda x: (x[\"stars\"] >= 3) & (x[\"stars\"] <= 4)]\n",
    "    .loc[lambda x: x[\"stars\"].notnull()]\n",
    "    .loc[lambda x: x[\"price\"]<=600]\n",
    ")"
   ]
  },
  {
   "cell_type": "markdown",
   "id": "ed3eb233",
   "metadata": {},
   "source": [
    " b) calculate log price"
   ]
  },
  {
   "cell_type": "code",
   "execution_count": null,
   "id": "761a7fff",
   "metadata": {},
   "outputs": [],
   "source": [
    "vienna[\"lnprice\"] = np.log(vienna[\"price\"])"
   ]
  },
  {
   "cell_type": "markdown",
   "id": "70df528b",
   "metadata": {},
   "source": [
    "2) Quick reminder: check the descriptives + association\n",
    "\n",
    "Summary statistics on price and log of price"
   ]
  },
  {
   "cell_type": "code",
   "execution_count": null,
   "id": "8c361e5d",
   "metadata": {},
   "outputs": [],
   "source": [
    "(\n",
    "    vienna.filter([\"price\", \"lnprice\", \"distance\", \"stars\", \"rating\"])\n",
    "    .describe(percentiles=[0.5, 0.95])\n",
    "    .T\n",
    ")"
   ]
  },
  {
   "cell_type": "markdown",
   "id": "3572fb35",
   "metadata": {},
   "source": [
    "Look at the scatter plots - with the visual inspection we can decide which transformation to use!\\\n",
    "p1: distance vs price"
   ]
  },
  {
   "cell_type": "code",
   "execution_count": null,
   "id": "9f95e4a8",
   "metadata": {},
   "outputs": [],
   "source": [
    "(\n",
    "    ggplot(vienna, aes(x=\"distance\", y=\"lnprice\"))\n",
    "    + geom_point(color=\"red\", size=2)\n",
    "    + geom_smooth(method=\"loess\", color = \"blue\")\n",
    "    + labs(x=\"Distance to city center (miles)\", y=\"Log of price (US dollars)\")\n",
    "    + theme_bw()\n",
    ")"
   ]
  },
  {
   "cell_type": "markdown",
   "id": "2d84f8fb",
   "metadata": {},
   "source": [
    " Log for price, Distance: check linear spline with knots at 1 and 4"
   ]
  },
  {
   "cell_type": "markdown",
   "id": "50bbc00f",
   "metadata": {},
   "source": [
    "Stars vs price"
   ]
  },
  {
   "cell_type": "code",
   "execution_count": null,
   "id": "430b5a2c",
   "metadata": {},
   "outputs": [],
   "source": [
    "(\n",
    "    ggplot(vienna, aes(x=\"stars\", y=\"lnprice\"))\n",
    "    + geom_point(color=\"red\", size=2)\n",
    "    + geom_smooth(method=\"lm\", color=\"blue\")\n",
    "    + labs(x=\"Star of the Hotel\", y=\"Log of price (US dollars)\")\n",
    "    + theme_bw()\n",
    ")"
   ]
  },
  {
   "cell_type": "markdown",
   "id": "e6f69f71",
   "metadata": {},
   "source": [
    "Star of a hotel is discrete value: may use as it is, but using it as dummies would make our model more flexible!\n"
   ]
  },
  {
   "cell_type": "markdown",
   "id": "0892ae4d",
   "metadata": {},
   "source": [
    "#### Task: \n",
    "plot p3: rating vs price\\\n",
    "    What can you infer?"
   ]
  },
  {
   "cell_type": "code",
   "execution_count": null,
   "id": "f0916069",
   "metadata": {},
   "outputs": [],
   "source": [
    "(\n",
    "    ggplot(vienna, aes(x=\"rating\", y=\"lnprice\"))\n",
    "    + geom_point(color=\"red\", size=2)\n",
    "    + geom_smooth(method=\"loess\", color = \"blue\")\n",
    "    + labs(x = \"Ratings of the hotel\",y = \"Log of price (US dollars)\")\n",
    "    + theme_bw()\n",
    ")"
   ]
  },
  {
   "cell_type": "markdown",
   "id": "a5f4e62c",
   "metadata": {},
   "source": [
    " Rating: check with simple linear and with linear spline around value of 3.5"
   ]
  },
  {
   "cell_type": "markdown",
   "id": "c7a67437",
   "metadata": {},
   "source": [
    "#### Notes:\n",
    "  - when the outcome variable is (much) better for log transformation (for most of the variables):\n",
    "     then you will need to use it in your model, there is nothing to do\n",
    "  - however if the regressor is needed then it is enough to decide for that particular variable only!"
   ]
  },
  {
   "cell_type": "markdown",
   "id": "49986572",
   "metadata": {},
   "source": [
    "#### II) Running regressions:"
   ]
  },
  {
   "cell_type": "markdown",
   "id": "a789ba48",
   "metadata": {},
   "source": [
    "Baseline A: use only rating with heteroscedastic SE"
   ]
  },
  {
   "cell_type": "code",
   "execution_count": null,
   "id": "1a6dc3a2",
   "metadata": {},
   "outputs": [],
   "source": [
    "reg0 = smf.ols(\"lnprice ~ rating\", data=vienna).fit(cov_type =\"HC3\")\n",
    "print(reg0.summary())"
   ]
  },
  {
   "cell_type": "markdown",
   "id": "368e9142",
   "metadata": {},
   "source": [
    " Baseline B: use only distance with heteroscedastic SE"
   ]
  },
  {
   "cell_type": "code",
   "execution_count": null,
   "id": "154e2721",
   "metadata": {},
   "outputs": [],
   "source": [
    "reg1 = smf.ols(\"lnprice ~ distance\", data=vienna).fit(cov_type =\"HC3\")\n",
    "print(reg1.summary())"
   ]
  },
  {
   "cell_type": "markdown",
   "id": "bccfdaf1",
   "metadata": {},
   "source": [
    "Multiple regression with both rating and distance"
   ]
  },
  {
   "cell_type": "code",
   "execution_count": null,
   "id": "ba82ffea",
   "metadata": {},
   "outputs": [],
   "source": [
    "reg2 = smf.ols(\"lnprice ~ distance + rating\", data=vienna).fit(cov_type =\"HC3\")\n",
    "print(reg2.summary())"
   ]
  },
  {
   "cell_type": "markdown",
   "id": "48b426c5",
   "metadata": {},
   "source": [
    "Add the number of stars to out model:\\\n",
    "As stars are discrete values: better to use `dummy` variables instead of one 'quasi-continuous' variable\n"
   ]
  },
  {
   "cell_type": "code",
   "execution_count": null,
   "id": "b37266be",
   "metadata": {},
   "outputs": [],
   "source": [
    "vienna[\"star3\"] = np.where(vienna[\"stars\"] == 3,1,0)\n",
    "vienna[\"star35\"] = np.where(vienna[\"stars\"] == 3.5,1,0)\n",
    "vienna[\"star4\"] = np.where(vienna[\"stars\"] == 4,1,0)"
   ]
  },
  {
   "cell_type": "markdown",
   "id": "00d32f71",
   "metadata": {},
   "source": [
    "#### Task:\n",
    "Add stars as dummies to the model with heteroscedastic SE\\\n",
    "Discuss what the coefficients mean for star3 and star35! What about star4?"
   ]
  },
  {
   "cell_type": "code",
   "execution_count": null,
   "id": "1045e483",
   "metadata": {},
   "outputs": [],
   "source": [
    "reg3 = smf.ols(\"lnprice ~ distance + rating + star3 + star35\", data=vienna).fit(cov_type =\"HC3\")\n",
    "reg3.summary()"
   ]
  },
  {
   "cell_type": "markdown",
   "id": "dd9f8be9",
   "metadata": {},
   "source": [
    "Compare results"
   ]
  },
  {
   "cell_type": "code",
   "execution_count": null,
   "id": "a67f69f1",
   "metadata": {},
   "outputs": [],
   "source": [
    "table = Stargazer([reg0, reg1, reg2,reg3])\n",
    "table"
   ]
  },
  {
   "cell_type": "markdown",
   "id": "8ce24a02",
   "metadata": {},
   "source": [
    "More complex models: this is the art of our profession: find the good knot points \n",
    " \n",
    " (again this is why we do scatter plots)"
   ]
  },
  {
   "cell_type": "markdown",
   "id": "c1ce6578",
   "metadata": {},
   "source": [
    "Note, Python does not have an `lnspline` function as R, so we wrote one\n"
   ]
  },
  {
   "cell_type": "code",
   "execution_count": null,
   "id": "fbc558b1",
   "metadata": {},
   "outputs": [],
   "source": [
    "import copy\n",
    "def lspline(series, knots):\n",
    "    def knot_ceil(vector, knot):\n",
    "        vector_copy = copy.deepcopy(vector)\n",
    "        vector_copy[vector_copy > knot] = knot\n",
    "        return vector_copy\n",
    "\n",
    "    if type(knots) != list:\n",
    "        knots = [knots]\n",
    "    design_matrix = None\n",
    "    vector = series.values\n",
    "\n",
    "    for i in range(len(knots)):\n",
    "        # print(i)\n",
    "        # print(vector)\n",
    "        if i == 0:\n",
    "            column = knot_ceil(vector, knots[i])\n",
    "        else:\n",
    "            column = knot_ceil(vector, knots[i] - knots[i - 1])\n",
    "        # print(column)\n",
    "        if i == 0:\n",
    "            design_matrix = column\n",
    "        else:\n",
    "            design_matrix = np.column_stack((design_matrix, column))\n",
    "        # print(design_matrix)\n",
    "        vector = vector - column\n",
    "    design_matrix = np.column_stack((design_matrix, vector))\n",
    "    # print(design_matrix)\n",
    "    return design_matrix"
   ]
  },
  {
   "cell_type": "code",
   "execution_count": null,
   "id": "efde8f0e",
   "metadata": {},
   "outputs": [],
   "source": [
    "reg4 = smf.ols(\n",
    "    \"lnprice ~ lspline(distance, [1,4]) + lspline(rating, 3.5) + star3 + star35\",\n",
    "    data=vienna,\n",
    ").fit(cov_type=\"HC3\")\n",
    "reg4.summary()"
   ]
  },
  {
   "cell_type": "code",
   "execution_count": null,
   "id": "30572ee6",
   "metadata": {},
   "outputs": [],
   "source": [
    "table = Stargazer([reg2,reg3, reg4])\n",
    "table"
   ]
  },
  {
   "cell_type": "markdown",
   "id": "e47d3a2b",
   "metadata": {},
   "source": [
    "### III) Analyzing the results: our choice is regression 4"
   ]
  },
  {
   "cell_type": "markdown",
   "id": "4450b8a9",
   "metadata": {},
   "source": [
    "Save the predicted and residual values"
   ]
  },
  {
   "cell_type": "code",
   "execution_count": null,
   "id": "d24bc9fe",
   "metadata": {},
   "outputs": [],
   "source": [
    "vienna[\"lnprice_hat\"] = reg4.fittedvalues\n",
    "vienna[\"lnprice_resid\"] = reg4.resid"
   ]
  },
  {
   "cell_type": "markdown",
   "id": "69d69742",
   "metadata": {},
   "source": [
    "\n",
    "Note we are interested in real price values not in logs:\\\n",
    "the first term is straight forward, however the second exp( reg4$ssr /2 ) is a correction term \n",
    "  which is needed when dealing with log to exp transformation. Later in DA3 it will be discussed."
   ]
  },
  {
   "cell_type": "code",
   "execution_count": null,
   "id": "58e6019b",
   "metadata": {},
   "outputs": [],
   "source": [
    "corr_term = np.exp(vienna[\"lnprice_resid\"].mean() / 2)\n",
    "vienna[\"price_hat\"] = np.exp(vienna[\"lnprice_hat\"]) * corr_term"
   ]
  },
  {
   "cell_type": "markdown",
   "id": "09493291",
   "metadata": {},
   "source": [
    "List of 5 best deals"
   ]
  },
  {
   "cell_type": "code",
   "execution_count": null,
   "id": "a7fb13ff",
   "metadata": {},
   "outputs": [],
   "source": [
    "vienna.sort_values(by=\"lnprice_resid\").head(5).filter(\n",
    "    [\n",
    "        \"hotel_id\",\n",
    "        \"price\",\n",
    "        \"price_hat\",\n",
    "        \"lnprice\",\n",
    "        \"lnprice_hat\",\n",
    "        \"lnprice_resid\",\n",
    "        \"distance\",\n",
    "        \"stars\",\n",
    "        \"rating\",\n",
    "    ]\n",
    ")"
   ]
  },
  {
   "cell_type": "markdown",
   "id": "802620a9",
   "metadata": {},
   "source": [
    "Why the 5 best lnprice_resid is the same as if we have used price_hat? Discuss!"
   ]
  },
  {
   "cell_type": "markdown",
   "id": "d4d7b693",
   "metadata": {},
   "source": [
    "### Two useful graphs:"
   ]
  },
  {
   "cell_type": "markdown",
   "id": "7508e65a",
   "metadata": {},
   "source": [
    " 1) y - yhat graph (regression line must be the same as the 45 degree line!)"
   ]
  },
  {
   "cell_type": "code",
   "execution_count": null,
   "id": "82dae3b7",
   "metadata": {},
   "outputs": [],
   "source": [
    "(\n",
    "    ggplot(vienna, aes(x=\"lnprice_hat\", y=\"lnprice\"))\n",
    "    + geom_point()\n",
    "    + geom_smooth(method=\"lm\", formula=\"y~x\", se=False)\n",
    "    + labs(x=\"ln(predicted price, US dollars) \", y=\"ln(price, US dollars)\")\n",
    "    + geom_segment(\n",
    "        aes(x=4.8, y=4.1, xend=4.68, yend=4.1),\n",
    "        arrow=arrow(),\n",
    "        color=\"red\",\n",
    "    )\n",
    "    + annotate(\"text\", x=4.95, y=4.1, label=\"Best deal\", size=8, color=\"red\")\n",
    "    + geom_abline(intercept=0, slope=1, size=0.5, color=\"red\", linetype=\"dashed\")\n",
    "    + coord_cartesian(xlim=(4, 5.5), ylim=(4, 5.5))\n",
    "    + theme_bw()\n",
    ")"
   ]
  },
  {
   "cell_type": "markdown",
   "id": "02507956",
   "metadata": {},
   "source": [
    " 2) residual - yhat graph: it needs to be flat"
   ]
  },
  {
   "cell_type": "code",
   "execution_count": null,
   "id": "815dd2d3",
   "metadata": {},
   "outputs": [],
   "source": [
    "(\n",
    "    ggplot(vienna, aes(x=\"lnprice_hat\", y=\"lnprice_resid\"))\n",
    "    + geom_point(color=\"red\", size=2)\n",
    "    + geom_smooth(method=\"lm\", colour=\"blue\", se=False, formula=\"y~x\")\n",
    "    + labs(x=\"ln(Predicted hotel price, US dollars)\", y=\"Residuals\")\n",
    "    + theme_bw()\n",
    ")"
   ]
  },
  {
   "cell_type": "markdown",
   "id": "7640efc0",
   "metadata": {},
   "source": [
    "Helps to evaluate where we tend to make larger errors. It can be used for different regressors!"
   ]
  },
  {
   "cell_type": "markdown",
   "id": "dac9625c",
   "metadata": {},
   "source": [
    "### Task:\n",
    "\n",
    "check the graphs across distance! (note it is not always flat, discuss, why!)\\\n",
    "residual - distance graph "
   ]
  },
  {
   "cell_type": "code",
   "execution_count": null,
   "id": "9f9d6ce7",
   "metadata": {},
   "outputs": [],
   "source": [
    "(\n",
    "    ggplot(vienna, aes(x=\"distance\", y=\"lnprice_resid\"))\n",
    "    + geom_point(color=\"red\", size=2)\n",
    "    + geom_smooth(method=\"lm\", colour=\"blue\", se=False, formula=\"y~x\")\n",
    "    + labs(x=\"Distance from city center (miles)\", y=\"Residuals\")\n",
    "    + theme_bw()\n",
    ")"
   ]
  },
  {
   "cell_type": "markdown",
   "id": "8d5591ca",
   "metadata": {},
   "source": [
    "### Confidence interval for the E(Y|X):\n",
    "1) predict the outcomes with predict command and use the se.fit = T, \\\n",
    "    this will give you the standard errors for the conditional expectation!\n"
   ]
  },
  {
   "cell_type": "code",
   "execution_count": null,
   "id": "048ca6ea",
   "metadata": {},
   "outputs": [],
   "source": [
    "pred_CI = reg4.get_prediction().summary_frame(alpha=0.05)\n",
    "pred_CI.head()"
   ]
  },
  {
   "cell_type": "markdown",
   "id": "3458a810",
   "metadata": {},
   "source": [
    "Add the CI values to vienna dataset"
   ]
  },
  {
   "cell_type": "code",
   "execution_count": null,
   "id": "a10857d1",
   "metadata": {},
   "outputs": [],
   "source": [
    "vienna[\"CI_up\"] = pred_CI[\"mean_ci_lower\"]\n",
    "vienna[\"CI_low\"] = pred_CI[\"mean_ci_upper\"]"
   ]
  },
  {
   "cell_type": "markdown",
   "id": "b5aec015",
   "metadata": {},
   "source": [
    " Why we usually do not use such graphs, when evaluating multiple regression results:"
   ]
  },
  {
   "cell_type": "code",
   "execution_count": null,
   "id": "9b56a3f3",
   "metadata": {},
   "outputs": [],
   "source": [
    "(\n",
    "    ggplot(data=vienna)\n",
    "    + geom_point(aes(x=\"distance\", y=\"lnprice\"), color=\"blue\", size=2)\n",
    "    + geom_line(aes(x=\"distance\", y=\"lnprice_hat\"), color=\"red\", size=1)\n",
    "    + geom_line(aes(x=\"distance\", y=\"CI_up\"), color=\"red\", size=0.5, linetype=\"dashed\")\n",
    "    + geom_line(aes(x=\"distance\", y=\"CI_low\"), color=\"red\", size=0.5, linetype=\"dashed\")\n",
    "    + labs(x=\"Distance to city center (miles)\", y=\"Log of price (US dollars)\")\n",
    "    + theme_bw()\n",
    ")"
   ]
  },
  {
   "cell_type": "markdown",
   "id": "8b115717",
   "metadata": {},
   "source": [
    "### Price a new hotel with the model"
   ]
  },
  {
   "cell_type": "markdown",
   "id": "e6884603",
   "metadata": {},
   "source": [
    "However you can predict any (new) potential variable"
   ]
  },
  {
   "cell_type": "code",
   "execution_count": null,
   "id": "7e222c48",
   "metadata": {},
   "outputs": [],
   "source": [
    "new_hotel_vienna = pd.DataFrame(\n",
    "    {\"distance\": 2.5, \"star3\": 0, \"star35\": 0, \"rating\": 3.2}, index=[0]\n",
    ")\n",
    "\n",
    "pred_new = reg4.get_prediction(new_hotel_vienna).summary_frame(alpha=0.05)\n",
    "pred_new"
   ]
  },
  {
   "cell_type": "markdown",
   "id": "5e398814",
   "metadata": {},
   "source": [
    "Note: you are not really looking for log-price, hence the correction"
   ]
  },
  {
   "cell_type": "code",
   "execution_count": null,
   "id": "d8db57a5",
   "metadata": {},
   "outputs": [],
   "source": [
    "pred_new[\"pred_price\"] = np.exp(pred_new[\"mean\"])*corr_term\n",
    "pred_new[\"CI_low\"] = np.exp(pred_new[\"mean_ci_lower\"])*corr_term\n",
    "pred_new[\"CI_up\"] = np.exp(pred_new[\"mean_ci_upper\"])*corr_term\n",
    "\n",
    "pred_new.filter([\"CI_low\",\"pred_price\",\"CI_up\"])"
   ]
  },
  {
   "cell_type": "markdown",
   "id": "4de1e7c6",
   "metadata": {},
   "source": [
    "Is the Confidence Interval symmetric? In which case? Why? Discuss! "
   ]
  },
  {
   "cell_type": "markdown",
   "id": "0b3d9f1d",
   "metadata": {},
   "source": [
    "### Prediction interval: considers the inherent error as well!\n",
    "\n",
    "Note: in statsmodels, mean_ci (lower, upper) is CI, and obs_ci (lower, upper) is the prediction interval"
   ]
  },
  {
   "cell_type": "code",
   "execution_count": null,
   "id": "0e2c9827",
   "metadata": {},
   "outputs": [],
   "source": [
    "pred_new[\"PI_low\"] = np.exp(pred_new[\"obs_ci_lower\"])*corr_term\n",
    "pred_new[\"PI_up\"] = np.exp(pred_new[\"obs_ci_upper\"])*corr_term\n",
    "\n",
    "pred_new.filter([\"PI_low\",\"pred_price\",\"PI_up\"])"
   ]
  },
  {
   "cell_type": "markdown",
   "id": "359418b6",
   "metadata": {},
   "source": [
    " Let us compare the two results for our newly predicted hotel:"
   ]
  },
  {
   "cell_type": "code",
   "execution_count": null,
   "id": "f4c7eefd",
   "metadata": {},
   "outputs": [],
   "source": [
    "pred_new.filter([\"pred_price\",\"CI_low\",\"CI_up\",\"PI_low\",\"PI_up\"])"
   ]
  },
  {
   "cell_type": "markdown",
   "id": "c6b15b24",
   "metadata": {},
   "source": [
    " Discuss what the results mean! How would you price this hotel?"
   ]
  },
  {
   "cell_type": "markdown",
   "id": "62a407d7",
   "metadata": {},
   "source": [
    "### Task:\n",
    "\n",
    "There is a new hotel with the following feature values that you would like to price \\\n",
    "\n",
    "    distance = 0.25 , star3 = 0 , star35 = 0, rating = 4.1\n",
    "   \n",
    "- Now, you use polynomials rather than piecewise linear spline up to 3rd order for distance and rating. \n",
    "- Use dummies for stars and use heteroskedastic robust SE!\n",
    "- Estimate the model, and check the distance and ratings against the residuals for the LEVELS.\n",
    "- Calculate the CI and PI with 80% levels, using the `level` input argument for this hotel based on the model.\n",
    "\n",
    "What price would you use? Argue!"
   ]
  },
  {
   "cell_type": "markdown",
   "id": "c96e8f67",
   "metadata": {},
   "source": [
    "Model:"
   ]
  },
  {
   "cell_type": "code",
   "execution_count": null,
   "id": "8503a102",
   "metadata": {},
   "outputs": [],
   "source": [
    "reg_poly = smf.ols(\n",
    "    \"lnprice ~ distance + np.power(distance, 2)+ np.power(distance, 3) + rating + np.power(rating, 2)+ np.power(rating, 3)+ star3 + star35\",\n",
    "    data=vienna,\n",
    ").fit(cov_type=\"HC3\")"
   ]
  },
  {
   "cell_type": "markdown",
   "id": "aafbdfd0",
   "metadata": {},
   "source": [
    "Predictions and errors \n",
    "\n",
    "1. for log values"
   ]
  },
  {
   "cell_type": "code",
   "execution_count": null,
   "id": "5099e8f4",
   "metadata": {},
   "outputs": [],
   "source": [
    "vienna[\"lnprice_hat_rp\"] = reg_poly.fittedvalues\n",
    "vienna[\"lnprice_resid_rp\"] = reg_poly.resid"
   ]
  },
  {
   "cell_type": "markdown",
   "id": "0cea4275",
   "metadata": {},
   "source": [
    "2.  for the levels"
   ]
  },
  {
   "cell_type": "code",
   "execution_count": null,
   "id": "40ee2ceb",
   "metadata": {},
   "outputs": [],
   "source": [
    "corr_term_rp = np.exp(vienna[\"lnprice_resid_rp\"].mean() / 2)\n",
    "vienna[\"price_hat_rp\"] = np.exp(vienna[\"lnprice_hat_rp\"]) * corr_term_rp\n",
    "vienna[\"price_resid_rp\"] = vienna[\"price\"] - vienna[\"price_hat_rp\"]"
   ]
  },
  {
   "cell_type": "markdown",
   "id": "76583dc0",
   "metadata": {},
   "source": [
    "Create a residual vs distance graph"
   ]
  },
  {
   "cell_type": "code",
   "execution_count": null,
   "id": "72d8cd28",
   "metadata": {},
   "outputs": [],
   "source": [
    "(\n",
    "    ggplot(vienna, aes(x=\"distance\", y=\"price_resid_rp\"))\n",
    "    + geom_point(color=\"red\", size=2)\n",
    "    + geom_smooth(method=\"lm\", colour=\"blue\", se=False, formula=\"y~x\")\n",
    "    + labs(x=\"Distance\", y=\"Residuals\")\n",
    "    + theme_bw()\n",
    ")"
   ]
  },
  {
   "cell_type": "markdown",
   "id": "14733e39",
   "metadata": {},
   "source": [
    "Create a residual vs ratings graph \n",
    "\n",
    "-> model makes large errors around 4,   in both directions, but mainly underprice the hotels. Not too serious."
   ]
  },
  {
   "cell_type": "code",
   "execution_count": null,
   "id": "3178831e",
   "metadata": {},
   "outputs": [],
   "source": [
    "(\n",
    "    ggplot(vienna, aes(x=\"rating\", y=\"price_resid_rp\"))\n",
    "    + geom_point(color=\"red\", size=2)\n",
    "    + geom_smooth(method=\"lm\", colour=\"blue\", se=False, formula=\"y~x\")\n",
    "    + labs(x=\"Ratings of the hotels\", y=\"Residuals\")\n",
    "    + scale_x_continuous(\n",
    "        expand=(0.01, 0.01), limits=(2, 5), breaks=np.arange(2, 5, 0.5)\n",
    "    )\n",
    "    + theme_bw()\n",
    ")"
   ]
  },
  {
   "cell_type": "markdown",
   "id": "84d710d0",
   "metadata": {},
   "source": [
    "#### CI and PI for the new hotel"
   ]
  },
  {
   "cell_type": "code",
   "execution_count": null,
   "id": "f3dfa5c7",
   "metadata": {},
   "outputs": [],
   "source": [
    "new_hotel2_vienna = pd.DataFrame(\n",
    "    {\"distance\": 0.25, \"star3\": 0, \"star35\": 0, \"rating\": 4.1}, index=[0]\n",
    ")\n",
    "\n",
    "pred_new2 = reg_poly.get_prediction(new_hotel2_vienna).summary_frame(alpha=0.2)\n",
    "pred_new2"
   ]
  },
  {
   "cell_type": "code",
   "execution_count": null,
   "id": "1bb7593a",
   "metadata": {},
   "outputs": [],
   "source": [
    "pred_new2[\"pred_price\"] = np.exp(pred_new2[\"mean\"])*corr_term_rp\n",
    "pred_new2[\"CI_low\"] = np.exp(pred_new2[\"mean_ci_lower\"])*corr_term_rp\n",
    "pred_new2[\"CI_up\"] = np.exp(pred_new2[\"mean_ci_upper\"])*corr_term_rp\n",
    "pred_new2[\"PI_low\"] = np.exp(pred_new2[\"obs_ci_lower\"])*corr_term_rp\n",
    "pred_new2[\"PI_up\"] = np.exp(pred_new2[\"obs_ci_upper\"])*corr_term_rp\n",
    "pred_new2.filter([\"pred_price\",\"CI_low\",\"CI_up\",\"PI_low\",\"PI_up\"]).round(2)"
   ]
  },
  {
   "cell_type": "markdown",
   "id": "6e9776c7",
   "metadata": {},
   "source": [
    "As the model probably underprice this hotel around this distance rating, \\\n",
    "  I would use a larger price than predicted. However, this is a new hotel, \\\n",
    "  thus start with a lower price make some good word-of-mouth can be beneficial.\\\n",
    " In sum something around the CI_high can be a good point if there are no other reasons."
   ]
  },
  {
   "cell_type": "markdown",
   "id": "e4624773",
   "metadata": {},
   "source": [
    "## IV) External validity of the model\n",
    "\n",
    "\n",
    " We want to test how our favorite model would perform if we change:\\\n",
    " time OR place OR type of observations (e.g. Apartment instead of Hotels)"
   ]
  },
  {
   "cell_type": "markdown",
   "id": "28e8e3c7",
   "metadata": {},
   "source": [
    "0) Add the variable transformations to the general dataset: hotels-europe"
   ]
  },
  {
   "cell_type": "code",
   "execution_count": null,
   "id": "908fc423",
   "metadata": {},
   "outputs": [],
   "source": [
    "europe[\"lnprice\"] = np.log(europe[\"price\"])\n",
    "europe[\"star3\"] = np.where(europe[\"stars\"] == 3, 1, 0)\n",
    "europe[\"star35\"] = np.where(europe[\"stars\"] == 3.5, 1, 0)"
   ]
  },
  {
   "cell_type": "markdown",
   "id": "9617a0c7",
   "metadata": {},
   "source": [
    " ### 1) First let check for different time: Vienna multiple time"
   ]
  },
  {
   "cell_type": "code",
   "execution_count": null,
   "id": "cee46764",
   "metadata": {},
   "outputs": [],
   "source": [
    "vienna_m_time = (\n",
    "    europe.loc[lambda x: x[\"accommodation_type\"] == \"Hotel\"]\n",
    "    .loc[lambda x: x[\"city_actual\"] == \"Vienna\"]\n",
    "    .loc[lambda x: x[\"nnights\"] == 1]\n",
    "    .loc[lambda x: (x[\"stars\"] >= 3) & (x[\"stars\"] <= 4)]\n",
    "    .loc[lambda x: x[\"stars\"].notnull()]\n",
    "    .loc[lambda x: x[\"price\"] <= 600]\n",
    ")"
   ]
  },
  {
   "cell_type": "markdown",
   "id": "56d028c6",
   "metadata": {},
   "source": [
    "IMPORTANT: for a fair comparison, we need to use the SAME HOTELS!\\\n",
    "we have three alternative candidates:\n",
    "    \n",
    "    main: 2017/11 weekday\n",
    "    1): 2017/11 on a weekend\n",
    "    2): 2017 December, holiday\n",
    "    3): 2018 June, weekend"
   ]
  },
  {
   "cell_type": "markdown",
   "id": "0a60d76b",
   "metadata": {},
   "source": [
    "first we get our preferred dates"
   ]
  },
  {
   "cell_type": "code",
   "execution_count": null,
   "id": "2d97ca6e",
   "metadata": {},
   "outputs": [],
   "source": [
    "vienna_m_time = vienna_m_time.loc[\n",
    "    lambda x: ((x[\"year\"] == 2017) & (x[\"month\"] == 11) & (x[\"weekend\"] == 0))\n",
    "    | ((x[\"year\"] == 2017) & (x[\"month\"] == 11) & (x[\"weekend\"] == 1))\n",
    "    | ((x[\"year\"] == 2017) & (x[\"month\"] == 12) & (x[\"holiday\"] == 1))\n",
    "    | ((x[\"year\"] == 2018) & (x[\"month\"] == 6) & (x[\"weekend\"] == 1))\n",
    "]"
   ]
  },
  {
   "cell_type": "markdown",
   "id": "753b7be7",
   "metadata": {},
   "source": [
    "Secondly we extract the frequencies for each hotels"
   ]
  },
  {
   "cell_type": "code",
   "execution_count": null,
   "id": "98d89e6b",
   "metadata": {},
   "outputs": [],
   "source": [
    "vienna_m_time[\"hotel_id\"].value_counts()"
   ]
  },
  {
   "cell_type": "markdown",
   "id": "07c8b8e1",
   "metadata": {},
   "source": [
    "Hotels with frequency of four are in all of our dates"
   ]
  },
  {
   "cell_type": "code",
   "execution_count": null,
   "id": "aad2ad63",
   "metadata": {},
   "outputs": [],
   "source": [
    "four_freq_id = vienna_m_time[\"hotel_id\"].value_counts().loc[lambda x: x == 4].index\n",
    "\n",
    "vienna_m_time = vienna_m_time.loc[lambda x: x[\"hotel_id\"].isin(four_freq_id)]"
   ]
  },
  {
   "cell_type": "markdown",
   "id": "6914a927",
   "metadata": {},
   "source": [
    "Save the formula for the main model:"
   ]
  },
  {
   "cell_type": "code",
   "execution_count": null,
   "id": "8aedb2f9",
   "metadata": {},
   "outputs": [],
   "source": [
    "m_form = \"lnprice ~ lspline(distance, [1,4]) + lspline(rating, 3.5) + star3 + star35\""
   ]
  },
  {
   "cell_type": "markdown",
   "id": "0bf1ce8c",
   "metadata": {},
   "source": [
    "Our main model: 2017/11 in a weekday"
   ]
  },
  {
   "cell_type": "code",
   "execution_count": null,
   "id": "9c0e0e3e",
   "metadata": {},
   "outputs": [],
   "source": [
    "regt_0 = smf.ols(\n",
    "    m_form,\n",
    "    data=vienna_m_time.loc[\n",
    "        lambda x: ((x[\"year\"] == 2017) & (x[\"month\"] == 11) & (x[\"weekend\"] == 0))\n",
    "    ],\n",
    ").fit(cov_type=\"HC3\")"
   ]
  },
  {
   "cell_type": "markdown",
   "id": "4694aa45",
   "metadata": {},
   "source": [
    " Alternatively 1) 2017/11 on a weekend"
   ]
  },
  {
   "cell_type": "code",
   "execution_count": null,
   "id": "6dbc652d",
   "metadata": {},
   "outputs": [],
   "source": [
    "regt_1 = smf.ols(\n",
    "    m_form,\n",
    "    data=vienna_m_time.loc[\n",
    "        lambda x: ((x[\"year\"] == 2017) & (x[\"month\"] == 11) & (x[\"weekend\"] == 1))\n",
    "    ],\n",
    ").fit(cov_type=\"HC3\")"
   ]
  },
  {
   "cell_type": "markdown",
   "id": "f6e85ba4",
   "metadata": {},
   "source": [
    "Alternatively 2) 2017 December, holiday"
   ]
  },
  {
   "cell_type": "code",
   "execution_count": null,
   "id": "d71d8f19",
   "metadata": {},
   "outputs": [],
   "source": [
    "regt_2 = smf.ols(\n",
    "    m_form,\n",
    "    data=vienna_m_time.loc[\n",
    "        lambda x: ((x[\"year\"] == 2017) & (x[\"month\"] == 12) & (x[\"holiday\"] == 1))\n",
    "    ],\n",
    ").fit(cov_type=\"HC3\")"
   ]
  },
  {
   "cell_type": "markdown",
   "id": "db8f24c3",
   "metadata": {},
   "source": [
    "Alternatively 2) 2018 June, weekend"
   ]
  },
  {
   "cell_type": "code",
   "execution_count": null,
   "id": "f2077de7",
   "metadata": {},
   "outputs": [],
   "source": [
    "regt_3 = smf.ols(\n",
    "    m_form,\n",
    "    data=vienna_m_time.loc[\n",
    "        lambda x: ((x[\"year\"] == 2018) & (x[\"month\"] == 6) & (x[\"weekend\"] == 1))\n",
    "    ],\n",
    ").fit(cov_type=\"HC3\")"
   ]
  },
  {
   "cell_type": "markdown",
   "id": "a3ca0230",
   "metadata": {},
   "source": [
    "Compare the results:"
   ]
  },
  {
   "cell_type": "code",
   "execution_count": null,
   "id": "5759191c",
   "metadata": {},
   "outputs": [],
   "source": [
    "table = Stargazer([regt_0, regt_1, regt_2, regt_3])\n",
    "table.custom_columns(\n",
    "    [\n",
    "        \"2017/11 weekday\",\n",
    "        \"2017/11 on a weekend\",\n",
    "        \"2017 December, holiday\",\n",
    "        \"2018 June, weekend\",\n",
    "    ],\n",
    "    [1, 1, 1, 1],\n",
    ")\n",
    "table"
   ]
  },
  {
   "cell_type": "markdown",
   "id": "14dbd377",
   "metadata": {},
   "source": [
    "With prediction look at: R2, and stability of the parameters!"
   ]
  },
  {
   "cell_type": "markdown",
   "id": "dd0da002",
   "metadata": {},
   "source": [
    "### 2) Second let's check for different accommodation types in Vienna:\n",
    "\n",
    "Compare hotels with Apartments:\n",
    "\n",
    "Note: we only change one thing at a time!"
   ]
  },
  {
   "cell_type": "code",
   "execution_count": null,
   "id": "9faeea87",
   "metadata": {},
   "outputs": [],
   "source": [
    "vienna_h_vs_a = (\n",
    "    europe.loc[\n",
    "        lambda x: (x[\"accommodation_type\"] == \"Hotel\")\n",
    "        | (x[\"accommodation_type\"] == \"Apartment\")\n",
    "    ]\n",
    "    .loc[lambda x: (x[\"year\"] == 2017) & (x[\"month\"] == 11) & (x[\"weekend\"] == 1)]\n",
    "    .loc[lambda x: x[\"city_actual\"] == \"Vienna\"]\n",
    "    .loc[lambda x: x[\"nnights\"] == 1]\n",
    "    .loc[lambda x: (x[\"stars\"] >= 3) & (x[\"stars\"] <= 4)]\n",
    "    .loc[lambda x: x[\"stars\"].notnull()]\n",
    "    .loc[lambda x: x[\"price\"] <= 600]\n",
    "    .loc[lambda x: x[\"rating\"].notnull()]\n",
    ")"
   ]
  },
  {
   "cell_type": "markdown",
   "id": "3e2141dc",
   "metadata": {},
   "source": [
    "Note: here we can not compare the same observations as they are inherently different"
   ]
  },
  {
   "cell_type": "markdown",
   "id": "b184dded",
   "metadata": {},
   "source": [
    "Run regression for the hotels"
   ]
  },
  {
   "cell_type": "code",
   "execution_count": null,
   "id": "81f0c149",
   "metadata": {},
   "outputs": [],
   "source": [
    "regh = smf.ols(\n",
    "    m_form, data=vienna_h_vs_a.loc[lambda x: x[\"accommodation_type\"] == \"Hotel\"]\n",
    ").fit(cov_type=\"HC3\")"
   ]
  },
  {
   "cell_type": "markdown",
   "id": "77e433b8",
   "metadata": {},
   "source": [
    "Run regression for the apartments"
   ]
  },
  {
   "cell_type": "code",
   "execution_count": null,
   "id": "820b5f1e",
   "metadata": {},
   "outputs": [],
   "source": [
    "rega = smf.ols(\n",
    "    m_form, data=vienna_h_vs_a.loc[lambda x: x[\"accommodation_type\"] == \"Apartment\"]\n",
    ").fit(cov_type=\"HC3\")"
   ]
  },
  {
   "cell_type": "code",
   "execution_count": null,
   "id": "2edd9f5f",
   "metadata": {},
   "outputs": [],
   "source": [
    "table = Stargazer([regh, rega])\n",
    "table.custom_columns([\"Hotels\", \"Apartments\"], [1, 1])\n",
    "table"
   ]
  },
  {
   "cell_type": "markdown",
   "id": "643e4fa5",
   "metadata": {},
   "source": [
    " ### Task: \n",
    "    \n",
    "   3) Compare different cities:\n",
    "\n",
    "Check Vienna, Amsterdam, and Barcelona!\n",
    "\n",
    "\n",
    "Note: Get rid of the price filter!\n"
   ]
  },
  {
   "cell_type": "code",
   "execution_count": null,
   "id": "7209bfc5",
   "metadata": {},
   "outputs": [],
   "source": [
    "hotels_cities = (\n",
    "    europe.loc[lambda x: x[\"accommodation_type\"] == \"Hotel\"]\n",
    "    .loc[lambda x: (x[\"year\"] == 2017) & (x[\"month\"] == 11) & (x[\"weekend\"] == 1)]\n",
    "    .loc[\n",
    "        lambda x: (x[\"city_actual\"] == \"Vienna\")\n",
    "        | (x[\"city_actual\"] == \"Amsterdam\")\n",
    "        | (x[\"city_actual\"] == \"Barcelona\")\n",
    "    ]\n",
    "    .loc[lambda x: x[\"nnights\"] == 1]\n",
    "    .loc[lambda x: (x[\"stars\"] >= 3) & (x[\"stars\"] <= 4)]\n",
    "    .loc[lambda x: x[\"stars\"].notnull()]\n",
    "    .loc[lambda x: x[\"rating\"].notnull()]\n",
    ")"
   ]
  },
  {
   "cell_type": "markdown",
   "id": "25b8ea59",
   "metadata": {},
   "source": [
    "Run regression for Vienna"
   ]
  },
  {
   "cell_type": "code",
   "execution_count": null,
   "id": "b3c84fe4",
   "metadata": {},
   "outputs": [],
   "source": [
    "reg_v = smf.ols(\n",
    "    m_form, data=hotels_cities.loc[lambda x: x[\"city_actual\"] == \"Vienna\"]\n",
    ").fit(cov_type=\"HC3\")"
   ]
  },
  {
   "cell_type": "markdown",
   "id": "b69a9cce",
   "metadata": {},
   "source": [
    "Run regression for Amsterdam"
   ]
  },
  {
   "cell_type": "code",
   "execution_count": null,
   "id": "ec81ac66",
   "metadata": {},
   "outputs": [],
   "source": [
    "reg_a = smf.ols(\n",
    "    m_form, data=hotels_cities.loc[lambda x: x[\"city_actual\"] == \"Amsterdam\"]\n",
    ").fit(cov_type=\"HC3\")"
   ]
  },
  {
   "cell_type": "markdown",
   "id": "4a311175",
   "metadata": {},
   "source": [
    "Run regression for Barcelona"
   ]
  },
  {
   "cell_type": "code",
   "execution_count": null,
   "id": "979ff1f4",
   "metadata": {},
   "outputs": [],
   "source": [
    "reg_b = smf.ols(\n",
    "    m_form, data=hotels_cities.loc[lambda x: x[\"city_actual\"] == \"Barcelona\"]\n",
    ").fit(cov_type=\"HC3\")"
   ]
  },
  {
   "cell_type": "code",
   "execution_count": null,
   "id": "06b6b434",
   "metadata": {},
   "outputs": [],
   "source": [
    "table = Stargazer([reg_v, reg_a, reg_b])\n",
    "table.custom_columns([\"Vienna\", \"Amsterdam\", \"Barcelona\"], [1, 1, 1])\n",
    "table"
   ]
  },
  {
   "cell_type": "markdown",
   "id": "e6548d4d",
   "metadata": {},
   "source": [
    "### Extra:\n",
    " In prediction competitions usually there is a training/available sample\\\n",
    "   and a test/locked sample for the competitors. \\\n",
    "   The task is to build a model which gives the best prediction (according to a pre-defined measure)\n",
    "   \n",
    " E.g. uses our original sample, and create a train-test split using the sklean package"
   ]
  },
  {
   "cell_type": "code",
   "execution_count": null,
   "id": "8798c7ec",
   "metadata": {},
   "outputs": [],
   "source": [
    "from sklearn.model_selection import train_test_split\n",
    "\n",
    "vienna_train, vienna_test = train_test_split(vienna, train_size=150, random_state=234)"
   ]
  },
  {
   "cell_type": "markdown",
   "id": "ca017cf1",
   "metadata": {},
   "source": [
    "Let us use two competing models:\n",
    "\n",
    "model 1: simple multivariate model\n"
   ]
  },
  {
   "cell_type": "code",
   "execution_count": null,
   "id": "84fe3ab6",
   "metadata": {},
   "outputs": [],
   "source": [
    "pred_m1 = smf.ols(\n",
    "    \"lnprice ~ distance + rating + star3 + star35\", data=vienna_train\n",
    ").fit()"
   ]
  },
  {
   "cell_type": "markdown",
   "id": "e5344db2",
   "metadata": {},
   "source": [
    "model 2: multivariate model with linear splines"
   ]
  },
  {
   "cell_type": "code",
   "execution_count": null,
   "id": "525d668a",
   "metadata": {},
   "outputs": [],
   "source": [
    "pred_m2 = smf.ols(m_form, data=vienna_train).fit()"
   ]
  },
  {
   "cell_type": "markdown",
   "id": "bca44b6d",
   "metadata": {},
   "source": [
    "Now let us use these models on our test sample to predict the values"
   ]
  },
  {
   "cell_type": "code",
   "execution_count": null,
   "id": "4fbf160f",
   "metadata": {},
   "outputs": [],
   "source": [
    "pred_compare = pd.DataFrame(\n",
    "    [\n",
    "        pred_m1.predict(vienna_test),\n",
    "        pred_m2.predict(vienna_test),\n",
    "        vienna_test[\"lnprice\"],\n",
    "    ],\n",
    "    index=[\"m1_lnprice\", \"m2_lnprice\", \"actual_lnprice\"],\n",
    ").T"
   ]
  },
  {
   "cell_type": "markdown",
   "id": "e10f4a45",
   "metadata": {},
   "source": [
    "If you want to visualize"
   ]
  },
  {
   "cell_type": "code",
   "execution_count": null,
   "id": "a69de251",
   "metadata": {},
   "outputs": [],
   "source": [
    "pred_compare.shape"
   ]
  },
  {
   "cell_type": "code",
   "execution_count": null,
   "id": "78541e0b",
   "metadata": {},
   "outputs": [],
   "source": [
    "(\n",
    "    ggplot(pred_compare)\n",
    "    + geom_point(aes(x=\"actual_lnprice\", y=\"m1_lnprice\"), color=\"red\", size=2)\n",
    "    + geom_point(aes(x=\"actual_lnprice\", y=\"m2_lnprice\"), color=\"blue\", size=2)\n",
    "    + geom_line(aes(x=\"actual_lnprice\", y=\"actual_lnprice\"), color=\"black\", size=1)\n",
    "    + labs(x=\"Actual log price\", y=\"Predicted log prices\")\n",
    "    + coord_cartesian(xlim=(3.7, 5.5), ylim=(3.7, 5.5))\n",
    "    + theme_bw()\n",
    ")"
   ]
  },
  {
   "cell_type": "markdown",
   "id": "c64cbb5f",
   "metadata": {},
   "source": [
    "Evaluate according to RMSE measure:"
   ]
  },
  {
   "cell_type": "code",
   "execution_count": null,
   "id": "df85c28b",
   "metadata": {},
   "outputs": [],
   "source": [
    "from sklearn.metrics import mean_squared_error"
   ]
  },
  {
   "cell_type": "markdown",
   "id": "b1c5a008",
   "metadata": {},
   "source": [
    "The two rmse values"
   ]
  },
  {
   "cell_type": "code",
   "execution_count": null,
   "id": "8a36385c",
   "metadata": {},
   "outputs": [],
   "source": [
    "mean_squared_error(\n",
    "    pred_compare[\"actual_lnprice\"], pred_compare[\"m1_lnprice\"], squared=False\n",
    ")"
   ]
  },
  {
   "cell_type": "code",
   "execution_count": null,
   "id": "8b424ea2",
   "metadata": {},
   "outputs": [],
   "source": [
    "mean_squared_error(\n",
    "    pred_compare[\"actual_lnprice\"], pred_compare[\"m2_lnprice\"], squared=False\n",
    ")"
   ]
  },
  {
   "cell_type": "markdown",
   "id": "972bf389",
   "metadata": {},
   "source": [
    "Therefore model 2 wins this competition according to RMSE measure."
   ]
  },
  {
   "cell_type": "code",
   "execution_count": null,
   "id": "db000d2e",
   "metadata": {},
   "outputs": [],
   "source": []
  }
 ],
 "metadata": {
  "kernelspec": {
   "display_name": "Python 3 (ipykernel)",
   "language": "python",
   "name": "python3"
  },
  "language_info": {
   "codemirror_mode": {
    "name": "ipython",
    "version": 3
   },
   "file_extension": ".py",
   "mimetype": "text/x-python",
   "name": "python",
   "nbconvert_exporter": "python",
   "pygments_lexer": "ipython3",
   "version": "3.8.10"
  }
 },
 "nbformat": 4,
 "nbformat_minor": 5
}
