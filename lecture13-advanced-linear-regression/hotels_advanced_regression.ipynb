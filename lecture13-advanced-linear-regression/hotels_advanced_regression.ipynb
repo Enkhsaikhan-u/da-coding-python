{
 "cells": [
  {
   "cell_type": "markdown",
   "id": "a5dd6039",
   "metadata": {},
   "source": [
    "##         Lecture 15                    \n",
    "                                            \n",
    "Advanced topics with linear regression      \n",
    "   - Multiple regression                   \n",
    "   - Model choice with multiple regressors \n",
    "   - Prediction with multiple regressors:  \n",
    "        - useful graphs for predictions     \n",
    "        - Confidence Interval               \n",
    "        - Prediction Interval               \n",
    "    - Robustness tests/External validity    \n",
    "        - Time/Location/Type                \n",
    "    - Extra: training and test sample       \n",
    "                                            \n",
    "Case Study:                                 \n",
    " - Hotels Europe                        \n",
    "                                            \n",
    "Dataset used:                               \n",
    " - hotel-europe \n",
    " \n",
    " ___"
   ]
  },
  {
   "cell_type": "markdown",
   "id": "0bf7e3a1",
   "metadata": {},
   "source": [
    "Import packages"
   ]
  },
  {
   "cell_type": "code",
   "execution_count": 1,
   "id": "48234bd9",
   "metadata": {},
   "outputs": [],
   "source": [
    "import pandas as pd\n",
    "import numpy as np\n",
    "from plotnine import *\n",
    "import statsmodels.formula.api as smf\n",
    "from stargazer.stargazer import Stargazer"
   ]
  },
  {
   "cell_type": "markdown",
   "id": "eb9982d6",
   "metadata": {},
   "source": [
    "Import Data:\\\n",
    "    now we use all the observations from Europe:"
   ]
  },
  {
   "cell_type": "code",
   "execution_count": 2,
   "id": "0e5edc06",
   "metadata": {},
   "outputs": [],
   "source": [
    "hotels_europe_price = pd.read_csv(\"https://osf.io/p6tyr/download\")\n",
    "hotels_europe_features = pd.read_csv(\"https://osf.io/utwjs/download\")"
   ]
  },
  {
   "cell_type": "markdown",
   "id": "9def832b",
   "metadata": {},
   "source": [
    "Join them by hotel_id"
   ]
  },
  {
   "cell_type": "code",
   "execution_count": 3,
   "id": "5bff5855",
   "metadata": {},
   "outputs": [
    {
     "data": {
      "text/html": [
       "<div>\n",
       "<style scoped>\n",
       "    .dataframe tbody tr th:only-of-type {\n",
       "        vertical-align: middle;\n",
       "    }\n",
       "\n",
       "    .dataframe tbody tr th {\n",
       "        vertical-align: top;\n",
       "    }\n",
       "\n",
       "    .dataframe thead th {\n",
       "        text-align: right;\n",
       "    }\n",
       "</style>\n",
       "<table border=\"1\" class=\"dataframe\">\n",
       "  <thead>\n",
       "    <tr style=\"text-align: right;\">\n",
       "      <th></th>\n",
       "      <th>hotel_id</th>\n",
       "      <th>price</th>\n",
       "      <th>offer</th>\n",
       "      <th>offer_cat</th>\n",
       "      <th>year</th>\n",
       "      <th>month</th>\n",
       "      <th>weekend</th>\n",
       "      <th>holiday</th>\n",
       "      <th>nnights</th>\n",
       "      <th>scarce_room</th>\n",
       "      <th>...</th>\n",
       "      <th>country</th>\n",
       "      <th>city_actual</th>\n",
       "      <th>rating_reviewcount</th>\n",
       "      <th>center1label</th>\n",
       "      <th>center2label</th>\n",
       "      <th>neighbourhood</th>\n",
       "      <th>ratingta</th>\n",
       "      <th>ratingta_count</th>\n",
       "      <th>distance_alter</th>\n",
       "      <th>accommodation_type</th>\n",
       "    </tr>\n",
       "  </thead>\n",
       "  <tbody>\n",
       "    <tr>\n",
       "      <th>0</th>\n",
       "      <td>1</td>\n",
       "      <td>172</td>\n",
       "      <td>0</td>\n",
       "      <td>0% no offer</td>\n",
       "      <td>2017</td>\n",
       "      <td>11</td>\n",
       "      <td>1</td>\n",
       "      <td>0</td>\n",
       "      <td>1</td>\n",
       "      <td>0</td>\n",
       "      <td>...</td>\n",
       "      <td>Netherlands</td>\n",
       "      <td>Amsterdam</td>\n",
       "      <td>1030.0</td>\n",
       "      <td>City centre</td>\n",
       "      <td>Montelbaanstoren</td>\n",
       "      <td>Amsterdam</td>\n",
       "      <td>4.0</td>\n",
       "      <td>1115.0</td>\n",
       "      <td>3.6</td>\n",
       "      <td>Hotel</td>\n",
       "    </tr>\n",
       "    <tr>\n",
       "      <th>1</th>\n",
       "      <td>1</td>\n",
       "      <td>122</td>\n",
       "      <td>1</td>\n",
       "      <td>15-50% offer</td>\n",
       "      <td>2018</td>\n",
       "      <td>1</td>\n",
       "      <td>1</td>\n",
       "      <td>0</td>\n",
       "      <td>1</td>\n",
       "      <td>0</td>\n",
       "      <td>...</td>\n",
       "      <td>Netherlands</td>\n",
       "      <td>Amsterdam</td>\n",
       "      <td>1030.0</td>\n",
       "      <td>City centre</td>\n",
       "      <td>Montelbaanstoren</td>\n",
       "      <td>Amsterdam</td>\n",
       "      <td>4.0</td>\n",
       "      <td>1115.0</td>\n",
       "      <td>3.6</td>\n",
       "      <td>Hotel</td>\n",
       "    </tr>\n",
       "    <tr>\n",
       "      <th>2</th>\n",
       "      <td>1</td>\n",
       "      <td>122</td>\n",
       "      <td>1</td>\n",
       "      <td>15-50% offer</td>\n",
       "      <td>2017</td>\n",
       "      <td>12</td>\n",
       "      <td>0</td>\n",
       "      <td>1</td>\n",
       "      <td>1</td>\n",
       "      <td>0</td>\n",
       "      <td>...</td>\n",
       "      <td>Netherlands</td>\n",
       "      <td>Amsterdam</td>\n",
       "      <td>1030.0</td>\n",
       "      <td>City centre</td>\n",
       "      <td>Montelbaanstoren</td>\n",
       "      <td>Amsterdam</td>\n",
       "      <td>4.0</td>\n",
       "      <td>1115.0</td>\n",
       "      <td>3.6</td>\n",
       "      <td>Hotel</td>\n",
       "    </tr>\n",
       "    <tr>\n",
       "      <th>3</th>\n",
       "      <td>1</td>\n",
       "      <td>552</td>\n",
       "      <td>1</td>\n",
       "      <td>1-15% offer</td>\n",
       "      <td>2017</td>\n",
       "      <td>12</td>\n",
       "      <td>0</td>\n",
       "      <td>1</td>\n",
       "      <td>4</td>\n",
       "      <td>0</td>\n",
       "      <td>...</td>\n",
       "      <td>Netherlands</td>\n",
       "      <td>Amsterdam</td>\n",
       "      <td>1030.0</td>\n",
       "      <td>City centre</td>\n",
       "      <td>Montelbaanstoren</td>\n",
       "      <td>Amsterdam</td>\n",
       "      <td>4.0</td>\n",
       "      <td>1115.0</td>\n",
       "      <td>3.6</td>\n",
       "      <td>Hotel</td>\n",
       "    </tr>\n",
       "    <tr>\n",
       "      <th>4</th>\n",
       "      <td>1</td>\n",
       "      <td>122</td>\n",
       "      <td>1</td>\n",
       "      <td>15-50% offer</td>\n",
       "      <td>2018</td>\n",
       "      <td>2</td>\n",
       "      <td>1</td>\n",
       "      <td>0</td>\n",
       "      <td>1</td>\n",
       "      <td>0</td>\n",
       "      <td>...</td>\n",
       "      <td>Netherlands</td>\n",
       "      <td>Amsterdam</td>\n",
       "      <td>1030.0</td>\n",
       "      <td>City centre</td>\n",
       "      <td>Montelbaanstoren</td>\n",
       "      <td>Amsterdam</td>\n",
       "      <td>4.0</td>\n",
       "      <td>1115.0</td>\n",
       "      <td>3.6</td>\n",
       "      <td>Hotel</td>\n",
       "    </tr>\n",
       "  </tbody>\n",
       "</table>\n",
       "<p>5 rows × 24 columns</p>\n",
       "</div>"
      ],
      "text/plain": [
       "   hotel_id  price  offer     offer_cat  year  month  weekend  holiday  \\\n",
       "0         1    172      0   0% no offer  2017     11        1        0   \n",
       "1         1    122      1  15-50% offer  2018      1        1        0   \n",
       "2         1    122      1  15-50% offer  2017     12        0        1   \n",
       "3         1    552      1   1-15% offer  2017     12        0        1   \n",
       "4         1    122      1  15-50% offer  2018      2        1        0   \n",
       "\n",
       "   nnights  scarce_room  ...      country  city_actual  rating_reviewcount  \\\n",
       "0        1            0  ...  Netherlands    Amsterdam              1030.0   \n",
       "1        1            0  ...  Netherlands    Amsterdam              1030.0   \n",
       "2        1            0  ...  Netherlands    Amsterdam              1030.0   \n",
       "3        4            0  ...  Netherlands    Amsterdam              1030.0   \n",
       "4        1            0  ...  Netherlands    Amsterdam              1030.0   \n",
       "\n",
       "   center1label      center2label neighbourhood  ratingta ratingta_count  \\\n",
       "0   City centre  Montelbaanstoren     Amsterdam       4.0         1115.0   \n",
       "1   City centre  Montelbaanstoren     Amsterdam       4.0         1115.0   \n",
       "2   City centre  Montelbaanstoren     Amsterdam       4.0         1115.0   \n",
       "3   City centre  Montelbaanstoren     Amsterdam       4.0         1115.0   \n",
       "4   City centre  Montelbaanstoren     Amsterdam       4.0         1115.0   \n",
       "\n",
       "  distance_alter accommodation_type  \n",
       "0            3.6              Hotel  \n",
       "1            3.6              Hotel  \n",
       "2            3.6              Hotel  \n",
       "3            3.6              Hotel  \n",
       "4            3.6              Hotel  \n",
       "\n",
       "[5 rows x 24 columns]"
      ]
     },
     "execution_count": 3,
     "metadata": {},
     "output_type": "execute_result"
    }
   ],
   "source": [
    "europe = hotels_europe_price.merge(hotels_europe_features, on = \"hotel_id\")\n",
    "europe.head()"
   ]
  },
  {
   "cell_type": "code",
   "execution_count": 4,
   "id": "1fb2286f",
   "metadata": {},
   "outputs": [],
   "source": [
    "del hotels_europe_price\n",
    "del hotels_europe_features"
   ]
  },
  {
   "cell_type": "markdown",
   "id": "66795c10",
   "metadata": {},
   "source": [
    "### I) Predict Hotel prices in Vienna with multiple regressors!"
   ]
  },
  {
   "cell_type": "markdown",
   "id": "98b28a8f",
   "metadata": {},
   "source": [
    "#### A) Data management:\n",
    "\n",
    "a) get the needed sample:"
   ]
  },
  {
   "cell_type": "code",
   "execution_count": 5,
   "id": "d1923cf4",
   "metadata": {},
   "outputs": [],
   "source": [
    "vienna = (\n",
    "    europe.loc[lambda x: x[\"accommodation_type\"] == \"Hotel\"]\n",
    "    .loc[lambda x: (x[\"year\"] == 2017) & (x[\"month\"] == 11) & (x[\"weekend\"] == 0)]\n",
    "    .loc[lambda x: x[\"city_actual\"] == \"Vienna\"]\n",
    "    .loc[lambda x: (x[\"stars\"] >= 3) & (x[\"stars\"] <= 4)]\n",
    "    .loc[lambda x: x[\"stars\"].notnull()]\n",
    "    .loc[lambda x: x[\"price\"]<=600]\n",
    ")"
   ]
  },
  {
   "cell_type": "markdown",
   "id": "ed3eb233",
   "metadata": {},
   "source": [
    " b) calculate log price"
   ]
  },
  {
   "cell_type": "code",
   "execution_count": 6,
   "id": "761a7fff",
   "metadata": {},
   "outputs": [],
   "source": [
    "vienna[\"lnprice\"] = np.log(vienna[\"price\"])"
   ]
  },
  {
   "cell_type": "markdown",
   "id": "70df528b",
   "metadata": {},
   "source": [
    "2) Quick reminder: check the descriptives + association\n",
    "\n",
    "Summary statistics on price and log of price"
   ]
  },
  {
   "cell_type": "code",
   "execution_count": 7,
   "id": "8c361e5d",
   "metadata": {},
   "outputs": [
    {
     "data": {
      "text/html": [
       "<div>\n",
       "<style scoped>\n",
       "    .dataframe tbody tr th:only-of-type {\n",
       "        vertical-align: middle;\n",
       "    }\n",
       "\n",
       "    .dataframe tbody tr th {\n",
       "        vertical-align: top;\n",
       "    }\n",
       "\n",
       "    .dataframe thead th {\n",
       "        text-align: right;\n",
       "    }\n",
       "</style>\n",
       "<table border=\"1\" class=\"dataframe\">\n",
       "  <thead>\n",
       "    <tr style=\"text-align: right;\">\n",
       "      <th></th>\n",
       "      <th>count</th>\n",
       "      <th>mean</th>\n",
       "      <th>std</th>\n",
       "      <th>min</th>\n",
       "      <th>50%</th>\n",
       "      <th>95%</th>\n",
       "      <th>max</th>\n",
       "    </tr>\n",
       "  </thead>\n",
       "  <tbody>\n",
       "    <tr>\n",
       "      <th>price</th>\n",
       "      <td>207.0</td>\n",
       "      <td>109.975845</td>\n",
       "      <td>42.221381</td>\n",
       "      <td>50.000000</td>\n",
       "      <td>100.00000</td>\n",
       "      <td>183.400000</td>\n",
       "      <td>383.000000</td>\n",
       "    </tr>\n",
       "    <tr>\n",
       "      <th>lnprice</th>\n",
       "      <td>207.0</td>\n",
       "      <td>4.640219</td>\n",
       "      <td>0.336751</td>\n",
       "      <td>3.912023</td>\n",
       "      <td>4.60517</td>\n",
       "      <td>5.211657</td>\n",
       "      <td>5.948035</td>\n",
       "    </tr>\n",
       "    <tr>\n",
       "      <th>distance</th>\n",
       "      <td>207.0</td>\n",
       "      <td>1.529952</td>\n",
       "      <td>1.161507</td>\n",
       "      <td>0.000000</td>\n",
       "      <td>1.30000</td>\n",
       "      <td>3.900000</td>\n",
       "      <td>6.600000</td>\n",
       "    </tr>\n",
       "    <tr>\n",
       "      <th>stars</th>\n",
       "      <td>207.0</td>\n",
       "      <td>3.570048</td>\n",
       "      <td>0.478845</td>\n",
       "      <td>3.000000</td>\n",
       "      <td>4.00000</td>\n",
       "      <td>4.000000</td>\n",
       "      <td>4.000000</td>\n",
       "    </tr>\n",
       "    <tr>\n",
       "      <th>rating</th>\n",
       "      <td>207.0</td>\n",
       "      <td>4.055556</td>\n",
       "      <td>0.382195</td>\n",
       "      <td>2.200000</td>\n",
       "      <td>4.10000</td>\n",
       "      <td>4.500000</td>\n",
       "      <td>4.800000</td>\n",
       "    </tr>\n",
       "  </tbody>\n",
       "</table>\n",
       "</div>"
      ],
      "text/plain": [
       "          count        mean        std        min        50%         95%  \\\n",
       "price     207.0  109.975845  42.221381  50.000000  100.00000  183.400000   \n",
       "lnprice   207.0    4.640219   0.336751   3.912023    4.60517    5.211657   \n",
       "distance  207.0    1.529952   1.161507   0.000000    1.30000    3.900000   \n",
       "stars     207.0    3.570048   0.478845   3.000000    4.00000    4.000000   \n",
       "rating    207.0    4.055556   0.382195   2.200000    4.10000    4.500000   \n",
       "\n",
       "                 max  \n",
       "price     383.000000  \n",
       "lnprice     5.948035  \n",
       "distance    6.600000  \n",
       "stars       4.000000  \n",
       "rating      4.800000  "
      ]
     },
     "execution_count": 7,
     "metadata": {},
     "output_type": "execute_result"
    }
   ],
   "source": [
    "(\n",
    "    vienna.filter([\"price\", \"lnprice\", \"distance\", \"stars\", \"rating\"])\n",
    "    .describe(percentiles=[0.5, 0.95])\n",
    "    .T\n",
    ")"
   ]
  },
  {
   "cell_type": "markdown",
   "id": "3572fb35",
   "metadata": {},
   "source": [
    "Look at the scatter plots - with the visual inspection we can decide which transformation to use!\\\n",
    "p1: distance vs price"
   ]
  },
  {
   "cell_type": "code",
   "execution_count": 8,
   "id": "9f95e4a8",
   "metadata": {},
   "outputs": [
    {
     "data": {
      "image/png": "[encoded data removed]",
      "text/plain": [
       "<Figure size 432x288 with 1 Axes>"
      ]
     },
     "metadata": {},
     "output_type": "display_data"
    },
    {
     "data": {
      "text/plain": [
       "<ggplot: (380535136)>"
      ]
     },
     "execution_count": 8,
     "metadata": {},
     "output_type": "execute_result"
    }
   ],
   "source": [
    "(\n",
    "    ggplot(vienna, aes(x=\"distance\", y=\"lnprice\"))\n",
    "    + geom_point(color=\"red\", size=2)\n",
    "    + geom_smooth(method=\"loess\", color = \"blue\")\n",
    "    + labs(x=\"Distance to city center (miles)\", y=\"Log of price (US dollars)\")\n",
    "    + theme_bw()\n",
    ")"
   ]
  },
  {
   "cell_type": "markdown",
   "id": "2d84f8fb",
   "metadata": {},
   "source": [
    " Log for price, Distance: check linear spline with knots at 1 and 4"
   ]
  },
  {
   "cell_type": "markdown",
   "id": "50bbc00f",
   "metadata": {},
   "source": [
    "Stars vs price"
   ]
  },
  {
   "cell_type": "code",
   "execution_count": 9,
   "id": "430b5a2c",
   "metadata": {},
   "outputs": [
    {
     "data": {
      "image/png": "[encoded data removed]",
      "text/plain": [
       "<Figure size 640x480 with 1 Axes>"
      ]
     },
     "metadata": {},
     "output_type": "display_data"
    },
    {
     "data": {
      "text/plain": [
       "<ggplot: (381295983)>"
      ]
     },
     "execution_count": 9,
     "metadata": {},
     "output_type": "execute_result"
    }
   ],
   "source": [
    "(\n",
    "    ggplot(vienna, aes(x=\"stars\", y=\"lnprice\"))\n",
    "    + geom_point(color=\"red\", size=2)\n",
    "    + geom_smooth(method=\"lm\", color=\"blue\")\n",
    "    + labs(x=\"Star of the Hotel\", y=\"Log of price (US dollars)\")\n",
    "    + theme_bw()\n",
    ")"
   ]
  },
  {
   "cell_type": "markdown",
   "id": "e6f69f71",
   "metadata": {},
   "source": [
    "Star of a hotel is discrete value: may use as it is, but using it as dummies would make our model more flexible!\n"
   ]
  },
  {
   "cell_type": "markdown",
   "id": "0892ae4d",
   "metadata": {},
   "source": [
    "### Task: \n",
    "plot p3: rating vs price\\\n",
    "    What can you infer?"
   ]
  },
  {
   "cell_type": "code",
   "execution_count": 10,
   "id": "f0916069",
   "metadata": {},
   "outputs": [
    {
     "data": {
      "image/png": "[encoded data removed]",
      "text/plain": [
       "<Figure size 640x480 with 1 Axes>"
      ]
     },
     "metadata": {},
     "output_type": "display_data"
    },
    {
     "data": {
      "text/plain": [
       "<ggplot: (381344087)>"
      ]
     },
     "execution_count": 10,
     "metadata": {},
     "output_type": "execute_result"
    }
   ],
   "source": [
    "(\n",
    "    ggplot(vienna, aes(x=\"rating\", y=\"lnprice\"))\n",
    "    + geom_point(color=\"red\", size=2)\n",
    "    + geom_smooth(method=\"loess\", color = \"blue\")\n",
    "    + labs(x = \"Ratings of the hotel\",y = \"Log of price (US dollars)\")\n",
    "    + theme_bw()\n",
    ")"
   ]
  },
  {
   "cell_type": "markdown",
   "id": "a5f4e62c",
   "metadata": {},
   "source": [
    " Rating: check with simple linear and with linear spline around value of 3.5"
   ]
  },
  {
   "cell_type": "markdown",
   "id": "c7a67437",
   "metadata": {},
   "source": [
    "#### Notes:\n",
    "  - when the outcome variable is (much) better for log transformation (for most of the variables):\n",
    "     then you will need to use it in your model, there is nothing to do\n",
    "  - however if the regressor is needed then it is enough to decide for that particular variable only!"
   ]
  },
  {
   "cell_type": "markdown",
   "id": "49986572",
   "metadata": {},
   "source": [
    "### II) Running regressions:"
   ]
  },
  {
   "cell_type": "markdown",
   "id": "a789ba48",
   "metadata": {},
   "source": [
    "Baseline A: use only rating with heteroscedastic SE"
   ]
  },
  {
   "cell_type": "code",
   "execution_count": 11,
   "id": "1a6dc3a2",
   "metadata": {},
   "outputs": [
    {
     "data": {
      "text/html": [
       "<table class=\"simpletable\">\n",
       "<caption>OLS Regression Results</caption>\n",
       "<tr>\n",
       "  <th>Dep. Variable:</th>         <td>lnprice</td>     <th>  R-squared:         </th> <td>   0.252</td>\n",
       "</tr>\n",
       "<tr>\n",
       "  <th>Model:</th>                   <td>OLS</td>       <th>  Adj. R-squared:    </th> <td>   0.248</td>\n",
       "</tr>\n",
       "<tr>\n",
       "  <th>Method:</th>             <td>Least Squares</td>  <th>  F-statistic:       </th> <td>   41.62</td>\n",
       "</tr>\n",
       "<tr>\n",
       "  <th>Date:</th>             <td>Mon, 25 Jul 2022</td> <th>  Prob (F-statistic):</th> <td>7.84e-10</td>\n",
       "</tr>\n",
       "<tr>\n",
       "  <th>Time:</th>                 <td>19:23:57</td>     <th>  Log-Likelihood:    </th> <td> -37.850</td>\n",
       "</tr>\n",
       "<tr>\n",
       "  <th>No. Observations:</th>      <td>   207</td>      <th>  AIC:               </th> <td>   79.70</td>\n",
       "</tr>\n",
       "<tr>\n",
       "  <th>Df Residuals:</th>          <td>   205</td>      <th>  BIC:               </th> <td>   86.37</td>\n",
       "</tr>\n",
       "<tr>\n",
       "  <th>Df Model:</th>              <td>     1</td>      <th>                     </th>     <td> </td>   \n",
       "</tr>\n",
       "<tr>\n",
       "  <th>Covariance Type:</th>         <td>HC3</td>       <th>                     </th>     <td> </td>   \n",
       "</tr>\n",
       "</table>\n",
       "<table class=\"simpletable\">\n",
       "<tr>\n",
       "      <td></td>         <th>coef</th>     <th>std err</th>      <th>z</th>      <th>P>|z|</th>  <th>[0.025</th>    <th>0.975]</th>  \n",
       "</tr>\n",
       "<tr>\n",
       "  <th>Intercept</th> <td>    2.8460</td> <td>    0.281</td> <td>   10.112</td> <td> 0.000</td> <td>    2.294</td> <td>    3.398</td>\n",
       "</tr>\n",
       "<tr>\n",
       "  <th>rating</th>    <td>    0.4424</td> <td>    0.069</td> <td>    6.451</td> <td> 0.000</td> <td>    0.308</td> <td>    0.577</td>\n",
       "</tr>\n",
       "</table>\n",
       "<table class=\"simpletable\">\n",
       "<tr>\n",
       "  <th>Omnibus:</th>       <td>28.523</td> <th>  Durbin-Watson:     </th> <td>   1.393</td>\n",
       "</tr>\n",
       "<tr>\n",
       "  <th>Prob(Omnibus):</th> <td> 0.000</td> <th>  Jarque-Bera (JB):  </th> <td>  43.031</td>\n",
       "</tr>\n",
       "<tr>\n",
       "  <th>Skew:</th>          <td> 0.793</td> <th>  Prob(JB):          </th> <td>4.53e-10</td>\n",
       "</tr>\n",
       "<tr>\n",
       "  <th>Kurtosis:</th>      <td> 4.572</td> <th>  Cond. No.          </th> <td>    46.1</td>\n",
       "</tr>\n",
       "</table><br/><br/>Notes:<br/>[1] Standard Errors are heteroscedasticity robust (HC3)"
      ],
      "text/plain": [
       "<class 'statsmodels.iolib.summary.Summary'>\n",
       "\"\"\"\n",
       "                            OLS Regression Results                            \n",
       "==============================================================================\n",
       "Dep. Variable:                lnprice   R-squared:                       0.252\n",
       "Model:                            OLS   Adj. R-squared:                  0.248\n",
       "Method:                 Least Squares   F-statistic:                     41.62\n",
       "Date:                Mon, 25 Jul 2022   Prob (F-statistic):           7.84e-10\n",
       "Time:                        19:23:57   Log-Likelihood:                -37.850\n",
       "No. Observations:                 207   AIC:                             79.70\n",
       "Df Residuals:                     205   BIC:                             86.37\n",
       "Df Model:                           1                                         \n",
       "Covariance Type:                  HC3                                         \n",
       "==============================================================================\n",
       "                 coef    std err          z      P>|z|      [0.025      0.975]\n",
       "------------------------------------------------------------------------------\n",
       "Intercept      2.8460      0.281     10.112      0.000       2.294       3.398\n",
       "rating         0.4424      0.069      6.451      0.000       0.308       0.577\n",
       "==============================================================================\n",
       "Omnibus:                       28.523   Durbin-Watson:                   1.393\n",
       "Prob(Omnibus):                  0.000   Jarque-Bera (JB):               43.031\n",
       "Skew:                           0.793   Prob(JB):                     4.53e-10\n",
       "Kurtosis:                       4.572   Cond. No.                         46.1\n",
       "==============================================================================\n",
       "\n",
       "Notes:\n",
       "[1] Standard Errors are heteroscedasticity robust (HC3)\n",
       "\"\"\""
      ]
     },
     "execution_count": 11,
     "metadata": {},
     "output_type": "execute_result"
    }
   ],
   "source": [
    "reg0 = smf.ols(\"lnprice ~ rating\", data=vienna).fit(cov_type =\"HC3\")\n",
    "reg0.summary()"
   ]
  },
  {
   "cell_type": "markdown",
   "id": "368e9142",
   "metadata": {},
   "source": [
    " Baseline B: use only distance with heteroscedastic SE"
   ]
  },
  {
   "cell_type": "code",
   "execution_count": 12,
   "id": "154e2721",
   "metadata": {},
   "outputs": [
    {
     "data": {
      "text/html": [
       "<table class=\"simpletable\">\n",
       "<caption>OLS Regression Results</caption>\n",
       "<tr>\n",
       "  <th>Dep. Variable:</th>         <td>lnprice</td>     <th>  R-squared:         </th> <td>   0.205</td>\n",
       "</tr>\n",
       "<tr>\n",
       "  <th>Model:</th>                   <td>OLS</td>       <th>  Adj. R-squared:    </th> <td>   0.201</td>\n",
       "</tr>\n",
       "<tr>\n",
       "  <th>Method:</th>             <td>Least Squares</td>  <th>  F-statistic:       </th> <td>   28.70</td>\n",
       "</tr>\n",
       "<tr>\n",
       "  <th>Date:</th>             <td>Mon, 25 Jul 2022</td> <th>  Prob (F-statistic):</th> <td>2.27e-07</td>\n",
       "</tr>\n",
       "<tr>\n",
       "  <th>Time:</th>                 <td>19:23:57</td>     <th>  Log-Likelihood:    </th> <td> -44.160</td>\n",
       "</tr>\n",
       "<tr>\n",
       "  <th>No. Observations:</th>      <td>   207</td>      <th>  AIC:               </th> <td>   92.32</td>\n",
       "</tr>\n",
       "<tr>\n",
       "  <th>Df Residuals:</th>          <td>   205</td>      <th>  BIC:               </th> <td>   98.99</td>\n",
       "</tr>\n",
       "<tr>\n",
       "  <th>Df Model:</th>              <td>     1</td>      <th>                     </th>     <td> </td>   \n",
       "</tr>\n",
       "<tr>\n",
       "  <th>Covariance Type:</th>         <td>HC3</td>       <th>                     </th>     <td> </td>   \n",
       "</tr>\n",
       "</table>\n",
       "<table class=\"simpletable\">\n",
       "<tr>\n",
       "      <td></td>         <th>coef</th>     <th>std err</th>      <th>z</th>      <th>P>|z|</th>  <th>[0.025</th>    <th>0.975]</th>  \n",
       "</tr>\n",
       "<tr>\n",
       "  <th>Intercept</th> <td>    4.8411</td> <td>    0.040</td> <td>  121.283</td> <td> 0.000</td> <td>    4.763</td> <td>    4.919</td>\n",
       "</tr>\n",
       "<tr>\n",
       "  <th>distance</th>  <td>   -0.1313</td> <td>    0.025</td> <td>   -5.357</td> <td> 0.000</td> <td>   -0.179</td> <td>   -0.083</td>\n",
       "</tr>\n",
       "</table>\n",
       "<table class=\"simpletable\">\n",
       "<tr>\n",
       "  <th>Omnibus:</th>       <td>28.470</td> <th>  Durbin-Watson:     </th> <td>   1.564</td>\n",
       "</tr>\n",
       "<tr>\n",
       "  <th>Prob(Omnibus):</th> <td> 0.000</td> <th>  Jarque-Bera (JB):  </th> <td>  47.450</td>\n",
       "</tr>\n",
       "<tr>\n",
       "  <th>Skew:</th>          <td> 0.746</td> <th>  Prob(JB):          </th> <td>4.97e-11</td>\n",
       "</tr>\n",
       "<tr>\n",
       "  <th>Kurtosis:</th>      <td> 4.809</td> <th>  Cond. No.          </th> <td>    3.78</td>\n",
       "</tr>\n",
       "</table><br/><br/>Notes:<br/>[1] Standard Errors are heteroscedasticity robust (HC3)"
      ],
      "text/plain": [
       "<class 'statsmodels.iolib.summary.Summary'>\n",
       "\"\"\"\n",
       "                            OLS Regression Results                            \n",
       "==============================================================================\n",
       "Dep. Variable:                lnprice   R-squared:                       0.205\n",
       "Model:                            OLS   Adj. R-squared:                  0.201\n",
       "Method:                 Least Squares   F-statistic:                     28.70\n",
       "Date:                Mon, 25 Jul 2022   Prob (F-statistic):           2.27e-07\n",
       "Time:                        19:23:57   Log-Likelihood:                -44.160\n",
       "No. Observations:                 207   AIC:                             92.32\n",
       "Df Residuals:                     205   BIC:                             98.99\n",
       "Df Model:                           1                                         \n",
       "Covariance Type:                  HC3                                         \n",
       "==============================================================================\n",
       "                 coef    std err          z      P>|z|      [0.025      0.975]\n",
       "------------------------------------------------------------------------------\n",
       "Intercept      4.8411      0.040    121.283      0.000       4.763       4.919\n",
       "distance      -0.1313      0.025     -5.357      0.000      -0.179      -0.083\n",
       "==============================================================================\n",
       "Omnibus:                       28.470   Durbin-Watson:                   1.564\n",
       "Prob(Omnibus):                  0.000   Jarque-Bera (JB):               47.450\n",
       "Skew:                           0.746   Prob(JB):                     4.97e-11\n",
       "Kurtosis:                       4.809   Cond. No.                         3.78\n",
       "==============================================================================\n",
       "\n",
       "Notes:\n",
       "[1] Standard Errors are heteroscedasticity robust (HC3)\n",
       "\"\"\""
      ]
     },
     "execution_count": 12,
     "metadata": {},
     "output_type": "execute_result"
    }
   ],
   "source": [
    "reg1 = smf.ols(\"lnprice ~ distance\", data=vienna).fit(cov_type =\"HC3\")\n",
    "reg1.summary()"
   ]
  },
  {
   "cell_type": "markdown",
   "id": "bccfdaf1",
   "metadata": {},
   "source": [
    "Multiple regression with both rating and distance"
   ]
  },
  {
   "cell_type": "code",
   "execution_count": 13,
   "id": "ba82ffea",
   "metadata": {},
   "outputs": [
    {
     "data": {
      "text/html": [
       "<table class=\"simpletable\">\n",
       "<caption>OLS Regression Results</caption>\n",
       "<tr>\n",
       "  <th>Dep. Variable:</th>         <td>lnprice</td>     <th>  R-squared:         </th> <td>   0.365</td>\n",
       "</tr>\n",
       "<tr>\n",
       "  <th>Model:</th>                   <td>OLS</td>       <th>  Adj. R-squared:    </th> <td>   0.359</td>\n",
       "</tr>\n",
       "<tr>\n",
       "  <th>Method:</th>             <td>Least Squares</td>  <th>  F-statistic:       </th> <td>   39.03</td>\n",
       "</tr>\n",
       "<tr>\n",
       "  <th>Date:</th>             <td>Mon, 25 Jul 2022</td> <th>  Prob (F-statistic):</th> <td>4.44e-15</td>\n",
       "</tr>\n",
       "<tr>\n",
       "  <th>Time:</th>                 <td>19:23:57</td>     <th>  Log-Likelihood:    </th> <td> -20.875</td>\n",
       "</tr>\n",
       "<tr>\n",
       "  <th>No. Observations:</th>      <td>   207</td>      <th>  AIC:               </th> <td>   47.75</td>\n",
       "</tr>\n",
       "<tr>\n",
       "  <th>Df Residuals:</th>          <td>   204</td>      <th>  BIC:               </th> <td>   57.75</td>\n",
       "</tr>\n",
       "<tr>\n",
       "  <th>Df Model:</th>              <td>     2</td>      <th>                     </th>     <td> </td>   \n",
       "</tr>\n",
       "<tr>\n",
       "  <th>Covariance Type:</th>         <td>HC3</td>       <th>                     </th>     <td> </td>   \n",
       "</tr>\n",
       "</table>\n",
       "<table class=\"simpletable\">\n",
       "<tr>\n",
       "      <td></td>         <th>coef</th>     <th>std err</th>      <th>z</th>      <th>P>|z|</th>  <th>[0.025</th>    <th>0.975]</th>  \n",
       "</tr>\n",
       "<tr>\n",
       "  <th>Intercept</th> <td>    3.3160</td> <td>    0.282</td> <td>   11.740</td> <td> 0.000</td> <td>    2.762</td> <td>    3.870</td>\n",
       "</tr>\n",
       "<tr>\n",
       "  <th>distance</th>  <td>   -0.1008</td> <td>    0.022</td> <td>   -4.600</td> <td> 0.000</td> <td>   -0.144</td> <td>   -0.058</td>\n",
       "</tr>\n",
       "<tr>\n",
       "  <th>rating</th>    <td>    0.3646</td> <td>    0.066</td> <td>    5.534</td> <td> 0.000</td> <td>    0.235</td> <td>    0.494</td>\n",
       "</tr>\n",
       "</table>\n",
       "<table class=\"simpletable\">\n",
       "<tr>\n",
       "  <th>Omnibus:</th>       <td>48.220</td> <th>  Durbin-Watson:     </th> <td>   1.555</td>\n",
       "</tr>\n",
       "<tr>\n",
       "  <th>Prob(Omnibus):</th> <td> 0.000</td> <th>  Jarque-Bera (JB):  </th> <td> 110.776</td>\n",
       "</tr>\n",
       "<tr>\n",
       "  <th>Skew:</th>          <td> 1.057</td> <th>  Prob(JB):          </th> <td>8.82e-25</td>\n",
       "</tr>\n",
       "<tr>\n",
       "  <th>Kurtosis:</th>      <td> 5.893</td> <th>  Cond. No.          </th> <td>    52.7</td>\n",
       "</tr>\n",
       "</table><br/><br/>Notes:<br/>[1] Standard Errors are heteroscedasticity robust (HC3)"
      ],
      "text/plain": [
       "<class 'statsmodels.iolib.summary.Summary'>\n",
       "\"\"\"\n",
       "                            OLS Regression Results                            \n",
       "==============================================================================\n",
       "Dep. Variable:                lnprice   R-squared:                       0.365\n",
       "Model:                            OLS   Adj. R-squared:                  0.359\n",
       "Method:                 Least Squares   F-statistic:                     39.03\n",
       "Date:                Mon, 25 Jul 2022   Prob (F-statistic):           4.44e-15\n",
       "Time:                        19:23:57   Log-Likelihood:                -20.875\n",
       "No. Observations:                 207   AIC:                             47.75\n",
       "Df Residuals:                     204   BIC:                             57.75\n",
       "Df Model:                           2                                         \n",
       "Covariance Type:                  HC3                                         \n",
       "==============================================================================\n",
       "                 coef    std err          z      P>|z|      [0.025      0.975]\n",
       "------------------------------------------------------------------------------\n",
       "Intercept      3.3160      0.282     11.740      0.000       2.762       3.870\n",
       "distance      -0.1008      0.022     -4.600      0.000      -0.144      -0.058\n",
       "rating         0.3646      0.066      5.534      0.000       0.235       0.494\n",
       "==============================================================================\n",
       "Omnibus:                       48.220   Durbin-Watson:                   1.555\n",
       "Prob(Omnibus):                  0.000   Jarque-Bera (JB):              110.776\n",
       "Skew:                           1.057   Prob(JB):                     8.82e-25\n",
       "Kurtosis:                       5.893   Cond. No.                         52.7\n",
       "==============================================================================\n",
       "\n",
       "Notes:\n",
       "[1] Standard Errors are heteroscedasticity robust (HC3)\n",
       "\"\"\""
      ]
     },
     "execution_count": 13,
     "metadata": {},
     "output_type": "execute_result"
    }
   ],
   "source": [
    "reg2 = smf.ols(\"lnprice ~ distance + rating\", data=vienna).fit(cov_type =\"HC3\")\n",
    "reg2.summary()"
   ]
  },
  {
   "cell_type": "markdown",
   "id": "48b426c5",
   "metadata": {},
   "source": [
    "Add the number of stars to out model:\\\n",
    "As stars are discrete values: better to use `dummy` variables instead of one 'quasi-continuous' variable\n"
   ]
  },
  {
   "cell_type": "code",
   "execution_count": 14,
   "id": "b37266be",
   "metadata": {},
   "outputs": [],
   "source": [
    "vienna[\"star3\"] = np.where(vienna[\"stars\"] == 3,1,0)\n",
    "vienna[\"star35\"] = np.where(vienna[\"stars\"] == 3.5,1,0)\n",
    "vienna[\"star4\"] = np.where(vienna[\"stars\"] == 4,1,0)"
   ]
  },
  {
   "cell_type": "markdown",
   "id": "00d32f71",
   "metadata": {},
   "source": [
    "### Task:\n",
    "Add stars as dummies to the model with heteroscedastic SE\\\n",
    "Discuss what the coefficients mean for star3 and star35! What about star4?"
   ]
  },
  {
   "cell_type": "code",
   "execution_count": 15,
   "id": "1045e483",
   "metadata": {},
   "outputs": [
    {
     "data": {
      "text/html": [
       "<table class=\"simpletable\">\n",
       "<caption>OLS Regression Results</caption>\n",
       "<tr>\n",
       "  <th>Dep. Variable:</th>         <td>lnprice</td>     <th>  R-squared:         </th> <td>   0.421</td>\n",
       "</tr>\n",
       "<tr>\n",
       "  <th>Model:</th>                   <td>OLS</td>       <th>  Adj. R-squared:    </th> <td>   0.410</td>\n",
       "</tr>\n",
       "<tr>\n",
       "  <th>Method:</th>             <td>Least Squares</td>  <th>  F-statistic:       </th> <td>   24.10</td>\n",
       "</tr>\n",
       "<tr>\n",
       "  <th>Date:</th>             <td>Mon, 25 Jul 2022</td> <th>  Prob (F-statistic):</th> <td>2.59e-16</td>\n",
       "</tr>\n",
       "<tr>\n",
       "  <th>Time:</th>                 <td>19:23:57</td>     <th>  Log-Likelihood:    </th> <td> -11.356</td>\n",
       "</tr>\n",
       "<tr>\n",
       "  <th>No. Observations:</th>      <td>   207</td>      <th>  AIC:               </th> <td>   32.71</td>\n",
       "</tr>\n",
       "<tr>\n",
       "  <th>Df Residuals:</th>          <td>   202</td>      <th>  BIC:               </th> <td>   49.38</td>\n",
       "</tr>\n",
       "<tr>\n",
       "  <th>Df Model:</th>              <td>     4</td>      <th>                     </th>     <td> </td>   \n",
       "</tr>\n",
       "<tr>\n",
       "  <th>Covariance Type:</th>         <td>HC3</td>       <th>                     </th>     <td> </td>   \n",
       "</tr>\n",
       "</table>\n",
       "<table class=\"simpletable\">\n",
       "<tr>\n",
       "      <td></td>         <th>coef</th>     <th>std err</th>      <th>z</th>      <th>P>|z|</th>  <th>[0.025</th>    <th>0.975]</th>  \n",
       "</tr>\n",
       "<tr>\n",
       "  <th>Intercept</th> <td>    3.6085</td> <td>    0.314</td> <td>   11.504</td> <td> 0.000</td> <td>    2.994</td> <td>    4.223</td>\n",
       "</tr>\n",
       "<tr>\n",
       "  <th>distance</th>  <td>   -0.0909</td> <td>    0.023</td> <td>   -4.001</td> <td> 0.000</td> <td>   -0.135</td> <td>   -0.046</td>\n",
       "</tr>\n",
       "<tr>\n",
       "  <th>rating</th>    <td>    0.3079</td> <td>    0.072</td> <td>    4.281</td> <td> 0.000</td> <td>    0.167</td> <td>    0.449</td>\n",
       "</tr>\n",
       "<tr>\n",
       "  <th>star3</th>     <td>   -0.1679</td> <td>    0.042</td> <td>   -3.952</td> <td> 0.000</td> <td>   -0.251</td> <td>   -0.085</td>\n",
       "</tr>\n",
       "<tr>\n",
       "  <th>star35</th>    <td>   -0.1684</td> <td>    0.057</td> <td>   -2.954</td> <td> 0.003</td> <td>   -0.280</td> <td>   -0.057</td>\n",
       "</tr>\n",
       "</table>\n",
       "<table class=\"simpletable\">\n",
       "<tr>\n",
       "  <th>Omnibus:</th>       <td>65.440</td> <th>  Durbin-Watson:     </th> <td>   1.606</td>\n",
       "</tr>\n",
       "<tr>\n",
       "  <th>Prob(Omnibus):</th> <td> 0.000</td> <th>  Jarque-Bera (JB):  </th> <td> 222.207</td>\n",
       "</tr>\n",
       "<tr>\n",
       "  <th>Skew:</th>          <td> 1.264</td> <th>  Prob(JB):          </th> <td>5.60e-49</td>\n",
       "</tr>\n",
       "<tr>\n",
       "  <th>Kurtosis:</th>      <td> 7.401</td> <th>  Cond. No.          </th> <td>    58.9</td>\n",
       "</tr>\n",
       "</table><br/><br/>Notes:<br/>[1] Standard Errors are heteroscedasticity robust (HC3)"
      ],
      "text/plain": [
       "<class 'statsmodels.iolib.summary.Summary'>\n",
       "\"\"\"\n",
       "                            OLS Regression Results                            \n",
       "==============================================================================\n",
       "Dep. Variable:                lnprice   R-squared:                       0.421\n",
       "Model:                            OLS   Adj. R-squared:                  0.410\n",
       "Method:                 Least Squares   F-statistic:                     24.10\n",
       "Date:                Mon, 25 Jul 2022   Prob (F-statistic):           2.59e-16\n",
       "Time:                        19:23:57   Log-Likelihood:                -11.356\n",
       "No. Observations:                 207   AIC:                             32.71\n",
       "Df Residuals:                     202   BIC:                             49.38\n",
       "Df Model:                           4                                         \n",
       "Covariance Type:                  HC3                                         \n",
       "==============================================================================\n",
       "                 coef    std err          z      P>|z|      [0.025      0.975]\n",
       "------------------------------------------------------------------------------\n",
       "Intercept      3.6085      0.314     11.504      0.000       2.994       4.223\n",
       "distance      -0.0909      0.023     -4.001      0.000      -0.135      -0.046\n",
       "rating         0.3079      0.072      4.281      0.000       0.167       0.449\n",
       "star3         -0.1679      0.042     -3.952      0.000      -0.251      -0.085\n",
       "star35        -0.1684      0.057     -2.954      0.003      -0.280      -0.057\n",
       "==============================================================================\n",
       "Omnibus:                       65.440   Durbin-Watson:                   1.606\n",
       "Prob(Omnibus):                  0.000   Jarque-Bera (JB):              222.207\n",
       "Skew:                           1.264   Prob(JB):                     5.60e-49\n",
       "Kurtosis:                       7.401   Cond. No.                         58.9\n",
       "==============================================================================\n",
       "\n",
       "Notes:\n",
       "[1] Standard Errors are heteroscedasticity robust (HC3)\n",
       "\"\"\""
      ]
     },
     "execution_count": 15,
     "metadata": {},
     "output_type": "execute_result"
    }
   ],
   "source": [
    "reg3 = smf.ols(\"lnprice ~ distance + rating + star3 + star35\", data=vienna).fit(cov_type =\"HC3\")\n",
    "reg3.summary()"
   ]
  },
  {
   "cell_type": "markdown",
   "id": "dd9f8be9",
   "metadata": {},
   "source": [
    "Compare results"
   ]
  },
  {
   "cell_type": "code",
   "execution_count": 16,
   "id": "a67f69f1",
   "metadata": {},
   "outputs": [
    {
     "data": {
      "text/html": [
       "<table style=\"text-align:center\"><tr><td colspan=\"5\" style=\"border-bottom: 1px solid black\"></td></tr><tr><td style=\"text-align:left\"></td><td colspan=\"4\"><em>Dependent variable:lnprice</em></td></tr><tr><td style=\"text-align:left\"></td><tr><td style=\"text-align:left\"></td><td>(1)</td><td>(2)</td><td>(3)</td><td>(4)</td></tr><tr><td colspan=\"5\" style=\"border-bottom: 1px solid black\"></td></tr><tr><td style=\"text-align:left\">Intercept</td><td>2.846<sup>***</sup></td><td>4.841<sup>***</sup></td><td>3.316<sup>***</sup></td><td>3.609<sup>***</sup></td></tr><tr><td style=\"text-align:left\"></td><td>(0.281)</td><td>(0.040)</td><td>(0.282)</td><td>(0.314)</td></tr><tr><td style=\"text-align:left\">distance</td><td></td><td>-0.131<sup>***</sup></td><td>-0.101<sup>***</sup></td><td>-0.091<sup>***</sup></td></tr><tr><td style=\"text-align:left\"></td><td></td><td>(0.025)</td><td>(0.022)</td><td>(0.023)</td></tr><tr><td style=\"text-align:left\">rating</td><td>0.442<sup>***</sup></td><td></td><td>0.365<sup>***</sup></td><td>0.308<sup>***</sup></td></tr><tr><td style=\"text-align:left\"></td><td>(0.069)</td><td></td><td>(0.066)</td><td>(0.072)</td></tr><tr><td style=\"text-align:left\">star3</td><td></td><td></td><td></td><td>-0.168<sup>***</sup></td></tr><tr><td style=\"text-align:left\"></td><td></td><td></td><td></td><td>(0.042)</td></tr><tr><td style=\"text-align:left\">star35</td><td></td><td></td><td></td><td>-0.168<sup>***</sup></td></tr><tr><td style=\"text-align:left\"></td><td></td><td></td><td></td><td>(0.057)</td></tr><td colspan=\"5\" style=\"border-bottom: 1px solid black\"></td></tr><tr><td style=\"text-align: left\">Observations</td><td>207</td><td>207</td><td>207</td><td>207</td></tr><tr><td style=\"text-align: left\">R<sup>2</sup></td><td>0.252</td><td>0.205</td><td>0.365</td><td>0.421</td></tr><tr><td style=\"text-align: left\">Adjusted R<sup>2</sup></td><td>0.248</td><td>0.201</td><td>0.359</td><td>0.410</td></tr><tr><td style=\"text-align: left\">Residual Std. Error</td><td>0.292 (df=205)</td><td>0.301 (df=205)</td><td>0.270 (df=204)</td><td>0.259 (df=202)</td></tr><tr><td style=\"text-align: left\">F Statistic</td><td>41.619<sup>***</sup> (df=1; 205)</td><td>28.696<sup>***</sup> (df=1; 205)</td><td>39.031<sup>***</sup> (df=2; 204)</td><td>24.100<sup>***</sup> (df=4; 202)</td></tr><tr><td colspan=\"5\" style=\"border-bottom: 1px solid black\"></td></tr><tr><td style=\"text-align: left\">Note:</td>\n",
       " <td colspan=\"4\" style=\"text-align: right\">\n",
       "  <sup>*</sup>p&lt;0.1;\n",
       "  <sup>**</sup>p&lt;0.05;\n",
       "  <sup>***</sup>p&lt;0.01\n",
       " </td></tr></table>"
      ],
      "text/plain": [
       "<stargazer.stargazer.Stargazer at 0x16bb9a3e0>"
      ]
     },
     "execution_count": 16,
     "metadata": {},
     "output_type": "execute_result"
    }
   ],
   "source": [
    "table = Stargazer([reg0, reg1, reg2,reg3])\n",
    "table"
   ]
  },
  {
   "cell_type": "markdown",
   "id": "8ce24a02",
   "metadata": {},
   "source": [
    "More complex models: this is the art of our profession: find the good knot points \n",
    " \n",
    " (again this is why we do scatter plots)"
   ]
  },
  {
   "cell_type": "markdown",
   "id": "c1ce6578",
   "metadata": {},
   "source": [
    "Note, Python does not have an `lnspline` function as R, so we wrote one\n"
   ]
  },
  {
   "cell_type": "code",
   "execution_count": 17,
   "id": "fbc558b1",
   "metadata": {},
   "outputs": [],
   "source": [
    "import copy\n",
    "def lspline(series, knots):\n",
    "    def knot_ceil(vector, knot):\n",
    "        vector_copy = copy.deepcopy(vector)\n",
    "        vector_copy[vector_copy > knot] = knot\n",
    "        return vector_copy\n",
    "\n",
    "    if type(knots) != list:\n",
    "        knots = [knots]\n",
    "    design_matrix = None\n",
    "    vector = series.values\n",
    "\n",
    "    for i in range(len(knots)):\n",
    "        # print(i)\n",
    "        # print(vector)\n",
    "        if i == 0:\n",
    "            column = knot_ceil(vector, knots[i])\n",
    "        else:\n",
    "            column = knot_ceil(vector, knots[i] - knots[i - 1])\n",
    "        # print(column)\n",
    "        if i == 0:\n",
    "            design_matrix = column\n",
    "        else:\n",
    "            design_matrix = np.column_stack((design_matrix, column))\n",
    "        # print(design_matrix)\n",
    "        vector = vector - column\n",
    "    design_matrix = np.column_stack((design_matrix, vector))\n",
    "    # print(design_matrix)\n",
    "    return design_matrix"
   ]
  },
  {
   "cell_type": "code",
   "execution_count": 18,
   "id": "efde8f0e",
   "metadata": {},
   "outputs": [
    {
     "data": {
      "text/html": [
       "<table class=\"simpletable\">\n",
       "<caption>OLS Regression Results</caption>\n",
       "<tr>\n",
       "  <th>Dep. Variable:</th>         <td>lnprice</td>     <th>  R-squared:         </th> <td>   0.550</td>\n",
       "</tr>\n",
       "<tr>\n",
       "  <th>Model:</th>                   <td>OLS</td>       <th>  Adj. R-squared:    </th> <td>   0.534</td>\n",
       "</tr>\n",
       "<tr>\n",
       "  <th>Method:</th>             <td>Least Squares</td>  <th>  F-statistic:       </th> <td>   42.56</td>\n",
       "</tr>\n",
       "<tr>\n",
       "  <th>Date:</th>             <td>Mon, 25 Jul 2022</td> <th>  Prob (F-statistic):</th> <td>2.51e-36</td>\n",
       "</tr>\n",
       "<tr>\n",
       "  <th>Time:</th>                 <td>19:23:57</td>     <th>  Log-Likelihood:    </th> <td>  14.744</td>\n",
       "</tr>\n",
       "<tr>\n",
       "  <th>No. Observations:</th>      <td>   207</td>      <th>  AIC:               </th> <td>  -13.49</td>\n",
       "</tr>\n",
       "<tr>\n",
       "  <th>Df Residuals:</th>          <td>   199</td>      <th>  BIC:               </th> <td>   13.17</td>\n",
       "</tr>\n",
       "<tr>\n",
       "  <th>Df Model:</th>              <td>     7</td>      <th>                     </th>     <td> </td>   \n",
       "</tr>\n",
       "<tr>\n",
       "  <th>Covariance Type:</th>         <td>HC3</td>       <th>                     </th>     <td> </td>   \n",
       "</tr>\n",
       "</table>\n",
       "<table class=\"simpletable\">\n",
       "<tr>\n",
       "                <td></td>                  <th>coef</th>     <th>std err</th>      <th>z</th>      <th>P>|z|</th>  <th>[0.025</th>    <th>0.975]</th>  \n",
       "</tr>\n",
       "<tr>\n",
       "  <th>Intercept</th>                    <td>    5.3047</td> <td>    0.422</td> <td>   12.585</td> <td> 0.000</td> <td>    4.479</td> <td>    6.131</td>\n",
       "</tr>\n",
       "<tr>\n",
       "  <th>lspline(distance, [1, 4])[0]</th> <td>   -0.4601</td> <td>    0.061</td> <td>   -7.524</td> <td> 0.000</td> <td>   -0.580</td> <td>   -0.340</td>\n",
       "</tr>\n",
       "<tr>\n",
       "  <th>lspline(distance, [1, 4])[1]</th> <td>   -0.0503</td> <td>    0.021</td> <td>   -2.397</td> <td> 0.017</td> <td>   -0.091</td> <td>   -0.009</td>\n",
       "</tr>\n",
       "<tr>\n",
       "  <th>lspline(distance, [1, 4])[2]</th> <td>    0.1435</td> <td>    0.051</td> <td>    2.818</td> <td> 0.005</td> <td>    0.044</td> <td>    0.243</td>\n",
       "</tr>\n",
       "<tr>\n",
       "  <th>lspline(rating, 3.5)[0]</th>      <td>   -0.1133</td> <td>    0.122</td> <td>   -0.932</td> <td> 0.351</td> <td>   -0.352</td> <td>    0.125</td>\n",
       "</tr>\n",
       "<tr>\n",
       "  <th>lspline(rating, 3.5)[1]</th>      <td>    0.3599</td> <td>    0.058</td> <td>    6.219</td> <td> 0.000</td> <td>    0.246</td> <td>    0.473</td>\n",
       "</tr>\n",
       "<tr>\n",
       "  <th>star3</th>                        <td>   -0.1496</td> <td>    0.038</td> <td>   -3.900</td> <td> 0.000</td> <td>   -0.225</td> <td>   -0.074</td>\n",
       "</tr>\n",
       "<tr>\n",
       "  <th>star35</th>                       <td>   -0.1322</td> <td>    0.058</td> <td>   -2.276</td> <td> 0.023</td> <td>   -0.246</td> <td>   -0.018</td>\n",
       "</tr>\n",
       "</table>\n",
       "<table class=\"simpletable\">\n",
       "<tr>\n",
       "  <th>Omnibus:</th>       <td>108.185</td> <th>  Durbin-Watson:     </th> <td>   1.774</td> \n",
       "</tr>\n",
       "<tr>\n",
       "  <th>Prob(Omnibus):</th> <td> 0.000</td>  <th>  Jarque-Bera (JB):  </th> <td> 886.011</td> \n",
       "</tr>\n",
       "<tr>\n",
       "  <th>Skew:</th>          <td> 1.825</td>  <th>  Prob(JB):          </th> <td>4.03e-193</td>\n",
       "</tr>\n",
       "<tr>\n",
       "  <th>Kurtosis:</th>      <td>12.455</td>  <th>  Cond. No.          </th> <td>    115.</td> \n",
       "</tr>\n",
       "</table><br/><br/>Notes:<br/>[1] Standard Errors are heteroscedasticity robust (HC3)"
      ],
      "text/plain": [
       "<class 'statsmodels.iolib.summary.Summary'>\n",
       "\"\"\"\n",
       "                            OLS Regression Results                            \n",
       "==============================================================================\n",
       "Dep. Variable:                lnprice   R-squared:                       0.550\n",
       "Model:                            OLS   Adj. R-squared:                  0.534\n",
       "Method:                 Least Squares   F-statistic:                     42.56\n",
       "Date:                Mon, 25 Jul 2022   Prob (F-statistic):           2.51e-36\n",
       "Time:                        19:23:57   Log-Likelihood:                 14.744\n",
       "No. Observations:                 207   AIC:                            -13.49\n",
       "Df Residuals:                     199   BIC:                             13.17\n",
       "Df Model:                           7                                         \n",
       "Covariance Type:                  HC3                                         \n",
       "================================================================================================\n",
       "                                   coef    std err          z      P>|z|      [0.025      0.975]\n",
       "------------------------------------------------------------------------------------------------\n",
       "Intercept                        5.3047      0.422     12.585      0.000       4.479       6.131\n",
       "lspline(distance, [1, 4])[0]    -0.4601      0.061     -7.524      0.000      -0.580      -0.340\n",
       "lspline(distance, [1, 4])[1]    -0.0503      0.021     -2.397      0.017      -0.091      -0.009\n",
       "lspline(distance, [1, 4])[2]     0.1435      0.051      2.818      0.005       0.044       0.243\n",
       "lspline(rating, 3.5)[0]         -0.1133      0.122     -0.932      0.351      -0.352       0.125\n",
       "lspline(rating, 3.5)[1]          0.3599      0.058      6.219      0.000       0.246       0.473\n",
       "star3                           -0.1496      0.038     -3.900      0.000      -0.225      -0.074\n",
       "star35                          -0.1322      0.058     -2.276      0.023      -0.246      -0.018\n",
       "==============================================================================\n",
       "Omnibus:                      108.185   Durbin-Watson:                   1.774\n",
       "Prob(Omnibus):                  0.000   Jarque-Bera (JB):              886.011\n",
       "Skew:                           1.825   Prob(JB):                    4.03e-193\n",
       "Kurtosis:                      12.455   Cond. No.                         115.\n",
       "==============================================================================\n",
       "\n",
       "Notes:\n",
       "[1] Standard Errors are heteroscedasticity robust (HC3)\n",
       "\"\"\""
      ]
     },
     "execution_count": 18,
     "metadata": {},
     "output_type": "execute_result"
    }
   ],
   "source": [
    "reg4 = smf.ols(\n",
    "    \"lnprice ~ lspline(distance, [1,4]) + lspline(rating, 3.5) + star3 + star35\",\n",
    "    data=vienna,\n",
    ").fit(cov_type=\"HC3\")\n",
    "reg4.summary()"
   ]
  },
  {
   "cell_type": "code",
   "execution_count": 19,
   "id": "30572ee6",
   "metadata": {},
   "outputs": [
    {
     "data": {
      "text/html": [
       "<table style=\"text-align:center\"><tr><td colspan=\"4\" style=\"border-bottom: 1px solid black\"></td></tr><tr><td style=\"text-align:left\"></td><td colspan=\"3\"><em>Dependent variable:lnprice</em></td></tr><tr><td style=\"text-align:left\"></td><tr><td style=\"text-align:left\"></td><td>(1)</td><td>(2)</td><td>(3)</td></tr><tr><td colspan=\"4\" style=\"border-bottom: 1px solid black\"></td></tr><tr><td style=\"text-align:left\">Intercept</td><td>3.316<sup>***</sup></td><td>3.609<sup>***</sup></td><td>5.305<sup>***</sup></td></tr><tr><td style=\"text-align:left\"></td><td>(0.282)</td><td>(0.314)</td><td>(0.422)</td></tr><tr><td style=\"text-align:left\">distance</td><td>-0.101<sup>***</sup></td><td>-0.091<sup>***</sup></td><td></td></tr><tr><td style=\"text-align:left\"></td><td>(0.022)</td><td>(0.023)</td><td></td></tr><tr><td style=\"text-align:left\">lspline(distance, [1, 4])[0]</td><td></td><td></td><td>-0.460<sup>***</sup></td></tr><tr><td style=\"text-align:left\"></td><td></td><td></td><td>(0.061)</td></tr><tr><td style=\"text-align:left\">lspline(distance, [1, 4])[1]</td><td></td><td></td><td>-0.050<sup>**</sup></td></tr><tr><td style=\"text-align:left\"></td><td></td><td></td><td>(0.021)</td></tr><tr><td style=\"text-align:left\">lspline(distance, [1, 4])[2]</td><td></td><td></td><td>0.143<sup>***</sup></td></tr><tr><td style=\"text-align:left\"></td><td></td><td></td><td>(0.051)</td></tr><tr><td style=\"text-align:left\">lspline(rating, 3.5)[0]</td><td></td><td></td><td>-0.113<sup></sup></td></tr><tr><td style=\"text-align:left\"></td><td></td><td></td><td>(0.122)</td></tr><tr><td style=\"text-align:left\">lspline(rating, 3.5)[1]</td><td></td><td></td><td>0.360<sup>***</sup></td></tr><tr><td style=\"text-align:left\"></td><td></td><td></td><td>(0.058)</td></tr><tr><td style=\"text-align:left\">rating</td><td>0.365<sup>***</sup></td><td>0.308<sup>***</sup></td><td></td></tr><tr><td style=\"text-align:left\"></td><td>(0.066)</td><td>(0.072)</td><td></td></tr><tr><td style=\"text-align:left\">star3</td><td></td><td>-0.168<sup>***</sup></td><td>-0.150<sup>***</sup></td></tr><tr><td style=\"text-align:left\"></td><td></td><td>(0.042)</td><td>(0.038)</td></tr><tr><td style=\"text-align:left\">star35</td><td></td><td>-0.168<sup>***</sup></td><td>-0.132<sup>**</sup></td></tr><tr><td style=\"text-align:left\"></td><td></td><td>(0.057)</td><td>(0.058)</td></tr><td colspan=\"4\" style=\"border-bottom: 1px solid black\"></td></tr><tr><td style=\"text-align: left\">Observations</td><td>207</td><td>207</td><td>207</td></tr><tr><td style=\"text-align: left\">R<sup>2</sup></td><td>0.365</td><td>0.421</td><td>0.550</td></tr><tr><td style=\"text-align: left\">Adjusted R<sup>2</sup></td><td>0.359</td><td>0.410</td><td>0.534</td></tr><tr><td style=\"text-align: left\">Residual Std. Error</td><td>0.270 (df=204)</td><td>0.259 (df=202)</td><td>0.230 (df=199)</td></tr><tr><td style=\"text-align: left\">F Statistic</td><td>39.031<sup>***</sup> (df=2; 204)</td><td>24.100<sup>***</sup> (df=4; 202)</td><td>42.559<sup>***</sup> (df=7; 199)</td></tr><tr><td colspan=\"4\" style=\"border-bottom: 1px solid black\"></td></tr><tr><td style=\"text-align: left\">Note:</td>\n",
       " <td colspan=\"3\" style=\"text-align: right\">\n",
       "  <sup>*</sup>p&lt;0.1;\n",
       "  <sup>**</sup>p&lt;0.05;\n",
       "  <sup>***</sup>p&lt;0.01\n",
       " </td></tr></table>"
      ],
      "text/plain": [
       "<stargazer.stargazer.Stargazer at 0x16c1176d0>"
      ]
     },
     "execution_count": 19,
     "metadata": {},
     "output_type": "execute_result"
    }
   ],
   "source": [
    "table = Stargazer([reg2,reg3, reg4])\n",
    "table"
   ]
  },
  {
   "cell_type": "markdown",
   "id": "e47d3a2b",
   "metadata": {},
   "source": [
    "### III) Analyzing the results: our choice is regression 4"
   ]
  },
  {
   "cell_type": "markdown",
   "id": "4450b8a9",
   "metadata": {},
   "source": [
    "Save the predicted and residual values"
   ]
  },
  {
   "cell_type": "code",
   "execution_count": 20,
   "id": "d24bc9fe",
   "metadata": {},
   "outputs": [],
   "source": [
    "vienna[\"lnprice_hat\"] = reg4.fittedvalues\n",
    "vienna[\"lnprice_resid\"] = reg4.resid"
   ]
  },
  {
   "cell_type": "markdown",
   "id": "69d69742",
   "metadata": {},
   "source": [
    "\n",
    "Note we are interested in real price values not in logs:\\\n",
    "the first term is straight forward, however the second exp( reg4$ssr /2 ) is a correction term \n",
    "  which is needed when dealing with log to exp transformation. Later in DA3 it will be discussed."
   ]
  },
  {
   "cell_type": "code",
   "execution_count": 21,
   "id": "58e6019b",
   "metadata": {},
   "outputs": [],
   "source": [
    "corr_term = np.exp(vienna[\"lnprice_resid\"].mean() / 2)\n",
    "vienna[\"price_hat\"] = np.exp(vienna[\"lnprice_hat\"]) * corr_term"
   ]
  },
  {
   "cell_type": "markdown",
   "id": "09493291",
   "metadata": {},
   "source": [
    "List of 5 best deals"
   ]
  },
  {
   "cell_type": "code",
   "execution_count": 22,
   "id": "a7fb13ff",
   "metadata": {},
   "outputs": [
    {
     "data": {
      "text/html": [
       "<div>\n",
       "<style scoped>\n",
       "    .dataframe tbody tr th:only-of-type {\n",
       "        vertical-align: middle;\n",
       "    }\n",
       "\n",
       "    .dataframe tbody tr th {\n",
       "        vertical-align: top;\n",
       "    }\n",
       "\n",
       "    .dataframe thead th {\n",
       "        text-align: right;\n",
       "    }\n",
       "</style>\n",
       "<table border=\"1\" class=\"dataframe\">\n",
       "  <thead>\n",
       "    <tr style=\"text-align: right;\">\n",
       "      <th></th>\n",
       "      <th>hotel_id</th>\n",
       "      <th>price</th>\n",
       "      <th>price_hat</th>\n",
       "      <th>lnprice</th>\n",
       "      <th>lnprice_hat</th>\n",
       "      <th>lnprice_resid</th>\n",
       "      <th>distance</th>\n",
       "      <th>stars</th>\n",
       "      <th>rating</th>\n",
       "    </tr>\n",
       "  </thead>\n",
       "  <tbody>\n",
       "    <tr>\n",
       "      <th>140538</th>\n",
       "      <td>21912</td>\n",
       "      <td>60</td>\n",
       "      <td>105.522617</td>\n",
       "      <td>4.094345</td>\n",
       "      <td>4.658925</td>\n",
       "      <td>-0.564581</td>\n",
       "      <td>1.1</td>\n",
       "      <td>4.0</td>\n",
       "      <td>4.1</td>\n",
       "    </tr>\n",
       "    <tr>\n",
       "      <th>141026</th>\n",
       "      <td>21975</td>\n",
       "      <td>115</td>\n",
       "      <td>172.434347</td>\n",
       "      <td>4.744932</td>\n",
       "      <td>5.150017</td>\n",
       "      <td>-0.405084</td>\n",
       "      <td>0.1</td>\n",
       "      <td>4.0</td>\n",
       "      <td>4.3</td>\n",
       "    </tr>\n",
       "    <tr>\n",
       "      <th>143630</th>\n",
       "      <td>22344</td>\n",
       "      <td>50</td>\n",
       "      <td>73.448835</td>\n",
       "      <td>3.912023</td>\n",
       "      <td>4.296589</td>\n",
       "      <td>-0.384566</td>\n",
       "      <td>3.9</td>\n",
       "      <td>3.0</td>\n",
       "      <td>3.9</td>\n",
       "    </tr>\n",
       "    <tr>\n",
       "      <th>141747</th>\n",
       "      <td>22080</td>\n",
       "      <td>54</td>\n",
       "      <td>75.745847</td>\n",
       "      <td>3.988984</td>\n",
       "      <td>4.327384</td>\n",
       "      <td>-0.338400</td>\n",
       "      <td>1.1</td>\n",
       "      <td>3.0</td>\n",
       "      <td>3.2</td>\n",
       "    </tr>\n",
       "    <tr>\n",
       "      <th>142522</th>\n",
       "      <td>22184</td>\n",
       "      <td>75</td>\n",
       "      <td>104.834586</td>\n",
       "      <td>4.317488</td>\n",
       "      <td>4.652384</td>\n",
       "      <td>-0.334896</td>\n",
       "      <td>0.7</td>\n",
       "      <td>3.0</td>\n",
       "      <td>4.1</td>\n",
       "    </tr>\n",
       "  </tbody>\n",
       "</table>\n",
       "</div>"
      ],
      "text/plain": [
       "        hotel_id  price   price_hat   lnprice  lnprice_hat  lnprice_resid  \\\n",
       "140538     21912     60  105.522617  4.094345     4.658925      -0.564581   \n",
       "141026     21975    115  172.434347  4.744932     5.150017      -0.405084   \n",
       "143630     22344     50   73.448835  3.912023     4.296589      -0.384566   \n",
       "141747     22080     54   75.745847  3.988984     4.327384      -0.338400   \n",
       "142522     22184     75  104.834586  4.317488     4.652384      -0.334896   \n",
       "\n",
       "        distance  stars  rating  \n",
       "140538       1.1    4.0     4.1  \n",
       "141026       0.1    4.0     4.3  \n",
       "143630       3.9    3.0     3.9  \n",
       "141747       1.1    3.0     3.2  \n",
       "142522       0.7    3.0     4.1  "
      ]
     },
     "execution_count": 22,
     "metadata": {},
     "output_type": "execute_result"
    }
   ],
   "source": [
    "vienna.sort_values(by=\"lnprice_resid\").head(5).filter(\n",
    "    [\n",
    "        \"hotel_id\",\n",
    "        \"price\",\n",
    "        \"price_hat\",\n",
    "        \"lnprice\",\n",
    "        \"lnprice_hat\",\n",
    "        \"lnprice_resid\",\n",
    "        \"distance\",\n",
    "        \"stars\",\n",
    "        \"rating\",\n",
    "    ]\n",
    ")"
   ]
  },
  {
   "cell_type": "markdown",
   "id": "802620a9",
   "metadata": {},
   "source": [
    "Why the 5 best lnprice_resid is the same as if we have used price_hat? Discuss!"
   ]
  },
  {
   "cell_type": "markdown",
   "id": "d4d7b693",
   "metadata": {},
   "source": [
    "### Two useful graphs:"
   ]
  },
  {
   "cell_type": "markdown",
   "id": "7508e65a",
   "metadata": {},
   "source": [
    " 1) y - yhat graph (regression line must be the same as the 45 degree line!)"
   ]
  },
  {
   "cell_type": "code",
   "execution_count": 23,
   "id": "82dae3b7",
   "metadata": {},
   "outputs": [
    {
     "data": {
      "image/png": "[encoded data removed]",
      "text/plain": [
       "<Figure size 640x480 with 1 Axes>"
      ]
     },
     "metadata": {},
     "output_type": "display_data"
    },
    {
     "data": {
      "text/plain": [
       "<ggplot: (381771440)>"
      ]
     },
     "execution_count": 23,
     "metadata": {},
     "output_type": "execute_result"
    }
   ],
   "source": [
    "(\n",
    "    ggplot(vienna, aes(x=\"lnprice_hat\", y=\"lnprice\"))\n",
    "    + geom_point()\n",
    "    + geom_smooth(method=\"lm\", formula=\"y~x\", se=False)\n",
    "    + labs(x=\"ln(predicted price, US dollars) \", y=\"ln(price, US dollars)\")\n",
    "    + geom_segment(\n",
    "        aes(x=4.8, y=4.1, xend=4.68, yend=4.1),\n",
    "        arrow=arrow(),\n",
    "        color=\"red\",\n",
    "    )\n",
    "    + annotate(\"text\", x=4.95, y=4.1, label=\"Best deal\", size=8, color=\"red\")\n",
    "    + geom_abline(intercept=0, slope=1, size=0.5, color=\"red\", linetype=\"dashed\")\n",
    "    + coord_cartesian(xlim=(4, 5.5), ylim=(4, 5.5))\n",
    "    + theme_bw()\n",
    ")"
   ]
  },
  {
   "cell_type": "markdown",
   "id": "02507956",
   "metadata": {},
   "source": [
    " 2) residual - yhat graph: it needs to be flat"
   ]
  },
  {
   "cell_type": "code",
   "execution_count": 24,
   "id": "815dd2d3",
   "metadata": {},
   "outputs": [
    {
     "data": {
      "image/png": "[encoded data removed]",
      "text/plain": [
       "<Figure size 640x480 with 1 Axes>"
      ]
     },
     "metadata": {},
     "output_type": "display_data"
    },
    {
     "data": {
      "text/plain": [
       "<ggplot: (381758416)>"
      ]
     },
     "execution_count": 24,
     "metadata": {},
     "output_type": "execute_result"
    }
   ],
   "source": [
    "(\n",
    "    ggplot(vienna, aes(x=\"lnprice_hat\", y=\"lnprice_resid\"))\n",
    "    + geom_point(color=\"red\", size=2)\n",
    "    + geom_smooth(method=\"lm\", colour=\"blue\", se=False, formula=\"y~x\")\n",
    "    + labs(x=\"ln(Predicted hotel price, US dollars)\", y=\"Residuals\")\n",
    "    + theme_bw()\n",
    ")"
   ]
  },
  {
   "cell_type": "markdown",
   "id": "7640efc0",
   "metadata": {},
   "source": [
    "Helps to evaluate where we tend to make larger errors. It can be used for different regressors!"
   ]
  },
  {
   "cell_type": "markdown",
   "id": "dac9625c",
   "metadata": {},
   "source": [
    "### Task:\n",
    "\n",
    "check the graphs across distance! (note it is not always flat, discuss, why!)\\\n",
    "residual - distance graph "
   ]
  },
  {
   "cell_type": "code",
   "execution_count": 25,
   "id": "9f9d6ce7",
   "metadata": {},
   "outputs": [
    {
     "data": {
      "image/png": "[encoded data removed]",
      "text/plain": [
       "<Figure size 640x480 with 1 Axes>"
      ]
     },
     "metadata": {},
     "output_type": "display_data"
    },
    {
     "data": {
      "text/plain": [
       "<ggplot: (381758143)>"
      ]
     },
     "execution_count": 25,
     "metadata": {},
     "output_type": "execute_result"
    }
   ],
   "source": [
    "(\n",
    "    ggplot(vienna, aes(x=\"distance\", y=\"lnprice_resid\"))\n",
    "    + geom_point(color=\"red\", size=2)\n",
    "    + geom_smooth(method=\"lm\", colour=\"blue\", se=False, formula=\"y~x\")\n",
    "    + labs(x=\"Distance from city center (miles)\", y=\"Residuals\")\n",
    "    + theme_bw()\n",
    ")"
   ]
  },
  {
   "cell_type": "markdown",
   "id": "8d5591ca",
   "metadata": {},
   "source": [
    "### Confidence interval for the E(Y|X):\n",
    "1) predict the outcomes with predict command and use the se.fit = T, \\\n",
    "    this will give you the standard errors for the conditional expectation!\n"
   ]
  },
  {
   "cell_type": "code",
   "execution_count": 26,
   "id": "048ca6ea",
   "metadata": {},
   "outputs": [
    {
     "data": {
      "text/html": [
       "<div>\n",
       "<style scoped>\n",
       "    .dataframe tbody tr th:only-of-type {\n",
       "        vertical-align: middle;\n",
       "    }\n",
       "\n",
       "    .dataframe tbody tr th {\n",
       "        vertical-align: top;\n",
       "    }\n",
       "\n",
       "    .dataframe thead th {\n",
       "        text-align: right;\n",
       "    }\n",
       "</style>\n",
       "<table border=\"1\" class=\"dataframe\">\n",
       "  <thead>\n",
       "    <tr style=\"text-align: right;\">\n",
       "      <th></th>\n",
       "      <th>mean</th>\n",
       "      <th>mean_se</th>\n",
       "      <th>mean_ci_lower</th>\n",
       "      <th>mean_ci_upper</th>\n",
       "      <th>obs_ci_lower</th>\n",
       "      <th>obs_ci_upper</th>\n",
       "    </tr>\n",
       "  </thead>\n",
       "  <tbody>\n",
       "    <tr>\n",
       "      <th>140450</th>\n",
       "      <td>4.556784</td>\n",
       "      <td>0.027994</td>\n",
       "      <td>4.501917</td>\n",
       "      <td>4.611651</td>\n",
       "      <td>4.103015</td>\n",
       "      <td>5.010553</td>\n",
       "    </tr>\n",
       "    <tr>\n",
       "      <th>140472</th>\n",
       "      <td>4.499887</td>\n",
       "      <td>0.035351</td>\n",
       "      <td>4.430601</td>\n",
       "      <td>4.569174</td>\n",
       "      <td>4.044150</td>\n",
       "      <td>4.955625</td>\n",
       "    </tr>\n",
       "    <tr>\n",
       "      <th>140482</th>\n",
       "      <td>4.443176</td>\n",
       "      <td>0.031090</td>\n",
       "      <td>4.382240</td>\n",
       "      <td>4.504112</td>\n",
       "      <td>3.988633</td>\n",
       "      <td>4.897719</td>\n",
       "    </tr>\n",
       "    <tr>\n",
       "      <th>140492</th>\n",
       "      <td>4.581920</td>\n",
       "      <td>0.030218</td>\n",
       "      <td>4.522694</td>\n",
       "      <td>4.641146</td>\n",
       "      <td>4.127603</td>\n",
       "      <td>5.036237</td>\n",
       "    </tr>\n",
       "    <tr>\n",
       "      <th>140505</th>\n",
       "      <td>4.637984</td>\n",
       "      <td>0.029996</td>\n",
       "      <td>4.579193</td>\n",
       "      <td>4.696774</td>\n",
       "      <td>4.183724</td>\n",
       "      <td>5.092244</td>\n",
       "    </tr>\n",
       "  </tbody>\n",
       "</table>\n",
       "</div>"
      ],
      "text/plain": [
       "            mean   mean_se  mean_ci_lower  mean_ci_upper  obs_ci_lower  \\\n",
       "140450  4.556784  0.027994       4.501917       4.611651      4.103015   \n",
       "140472  4.499887  0.035351       4.430601       4.569174      4.044150   \n",
       "140482  4.443176  0.031090       4.382240       4.504112      3.988633   \n",
       "140492  4.581920  0.030218       4.522694       4.641146      4.127603   \n",
       "140505  4.637984  0.029996       4.579193       4.696774      4.183724   \n",
       "\n",
       "        obs_ci_upper  \n",
       "140450      5.010553  \n",
       "140472      4.955625  \n",
       "140482      4.897719  \n",
       "140492      5.036237  \n",
       "140505      5.092244  "
      ]
     },
     "execution_count": 26,
     "metadata": {},
     "output_type": "execute_result"
    }
   ],
   "source": [
    "pred_CI = reg4.get_prediction().summary_frame(alpha=0.05)\n",
    "pred_CI.head()"
   ]
  },
  {
   "cell_type": "markdown",
   "id": "3458a810",
   "metadata": {},
   "source": [
    "Add the CI values to vienna dataset"
   ]
  },
  {
   "cell_type": "code",
   "execution_count": 27,
   "id": "a10857d1",
   "metadata": {},
   "outputs": [],
   "source": [
    "vienna[\"CI_up\"] = pred_CI[\"mean_ci_lower\"]\n",
    "vienna[\"CI_low\"] = pred_CI[\"mean_ci_upper\"]"
   ]
  },
  {
   "cell_type": "markdown",
   "id": "b5aec015",
   "metadata": {},
   "source": [
    " Why we usually do not use such graphs, when evaluating multiple regression results:"
   ]
  },
  {
   "cell_type": "code",
   "execution_count": 28,
   "id": "9b56a3f3",
   "metadata": {},
   "outputs": [
    {
     "data": {
      "image/png": "[encoded data removed]",
      "text/plain": [
       "<Figure size 640x480 with 1 Axes>"
      ]
     },
     "metadata": {},
     "output_type": "display_data"
    },
    {
     "data": {
      "text/plain": [
       "<ggplot: (381876546)>"
      ]
     },
     "execution_count": 28,
     "metadata": {},
     "output_type": "execute_result"
    }
   ],
   "source": [
    "(\n",
    "    ggplot(data=vienna)\n",
    "    + geom_point(aes(x=\"distance\", y=\"lnprice\"), color=\"blue\", size=2)\n",
    "    + geom_line(aes(x=\"distance\", y=\"lnprice_hat\"), color=\"red\", size=1)\n",
    "    + geom_line(aes(x=\"distance\", y=\"CI_up\"), color=\"red\", size=0.5, linetype=\"dashed\")\n",
    "    + geom_line(aes(x=\"distance\", y=\"CI_low\"), color=\"red\", size=0.5, linetype=\"dashed\")\n",
    "    + labs(x=\"Distance to city center (miles)\", y=\"Log of price (US dollars)\")\n",
    "    + theme_bw()\n",
    ")"
   ]
  },
  {
   "cell_type": "markdown",
   "id": "8b115717",
   "metadata": {},
   "source": [
    "### Price a new hotel with the model"
   ]
  },
  {
   "cell_type": "markdown",
   "id": "e6884603",
   "metadata": {},
   "source": [
    "However you can predict any (new) potential variable"
   ]
  },
  {
   "cell_type": "code",
   "execution_count": 29,
   "id": "7e222c48",
   "metadata": {},
   "outputs": [
    {
     "data": {
      "text/html": [
       "<div>\n",
       "<style scoped>\n",
       "    .dataframe tbody tr th:only-of-type {\n",
       "        vertical-align: middle;\n",
       "    }\n",
       "\n",
       "    .dataframe tbody tr th {\n",
       "        vertical-align: top;\n",
       "    }\n",
       "\n",
       "    .dataframe thead th {\n",
       "        text-align: right;\n",
       "    }\n",
       "</style>\n",
       "<table border=\"1\" class=\"dataframe\">\n",
       "  <thead>\n",
       "    <tr style=\"text-align: right;\">\n",
       "      <th></th>\n",
       "      <th>mean</th>\n",
       "      <th>mean_se</th>\n",
       "      <th>mean_ci_lower</th>\n",
       "      <th>mean_ci_upper</th>\n",
       "      <th>obs_ci_lower</th>\n",
       "      <th>obs_ci_upper</th>\n",
       "    </tr>\n",
       "  </thead>\n",
       "  <tbody>\n",
       "    <tr>\n",
       "      <th>0</th>\n",
       "      <td>4.406601</td>\n",
       "      <td>0.050274</td>\n",
       "      <td>4.308065</td>\n",
       "      <td>4.505137</td>\n",
       "      <td>3.945509</td>\n",
       "      <td>4.867692</td>\n",
       "    </tr>\n",
       "  </tbody>\n",
       "</table>\n",
       "</div>"
      ],
      "text/plain": [
       "       mean   mean_se  mean_ci_lower  mean_ci_upper  obs_ci_lower  \\\n",
       "0  4.406601  0.050274       4.308065       4.505137      3.945509   \n",
       "\n",
       "   obs_ci_upper  \n",
       "0      4.867692  "
      ]
     },
     "execution_count": 29,
     "metadata": {},
     "output_type": "execute_result"
    }
   ],
   "source": [
    "new_hotel_vienna = pd.DataFrame(\n",
    "    {\"distance\": 2.5, \"star3\": 0, \"star35\": 0, \"rating\": 3.2}, index=[0]\n",
    ")\n",
    "\n",
    "pred_new = reg4.get_prediction(new_hotel_vienna).summary_frame(alpha=0.05)\n",
    "pred_new"
   ]
  },
  {
   "cell_type": "markdown",
   "id": "5e398814",
   "metadata": {},
   "source": [
    "Note: you are not really looking for log-price, hence the correction"
   ]
  },
  {
   "cell_type": "code",
   "execution_count": 30,
   "id": "d8db57a5",
   "metadata": {},
   "outputs": [
    {
     "data": {
      "text/html": [
       "<div>\n",
       "<style scoped>\n",
       "    .dataframe tbody tr th:only-of-type {\n",
       "        vertical-align: middle;\n",
       "    }\n",
       "\n",
       "    .dataframe tbody tr th {\n",
       "        vertical-align: top;\n",
       "    }\n",
       "\n",
       "    .dataframe thead th {\n",
       "        text-align: right;\n",
       "    }\n",
       "</style>\n",
       "<table border=\"1\" class=\"dataframe\">\n",
       "  <thead>\n",
       "    <tr style=\"text-align: right;\">\n",
       "      <th></th>\n",
       "      <th>CI_low</th>\n",
       "      <th>pred_price</th>\n",
       "      <th>CI_up</th>\n",
       "    </tr>\n",
       "  </thead>\n",
       "  <tbody>\n",
       "    <tr>\n",
       "      <th>0</th>\n",
       "      <td>74.296552</td>\n",
       "      <td>81.990274</td>\n",
       "      <td>90.480714</td>\n",
       "    </tr>\n",
       "  </tbody>\n",
       "</table>\n",
       "</div>"
      ],
      "text/plain": [
       "      CI_low  pred_price      CI_up\n",
       "0  74.296552   81.990274  90.480714"
      ]
     },
     "execution_count": 30,
     "metadata": {},
     "output_type": "execute_result"
    }
   ],
   "source": [
    "pred_new[\"pred_price\"] = np.exp(pred_new[\"mean\"])*corr_term\n",
    "pred_new[\"CI_low\"] = np.exp(pred_new[\"mean_ci_lower\"])*corr_term\n",
    "pred_new[\"CI_up\"] = np.exp(pred_new[\"mean_ci_upper\"])*corr_term\n",
    "\n",
    "pred_new.filter([\"CI_low\",\"pred_price\",\"CI_up\"])"
   ]
  },
  {
   "cell_type": "markdown",
   "id": "4de1e7c6",
   "metadata": {},
   "source": [
    "Is the Confidence Interval symmetric? In which case? Why? Discuss! "
   ]
  },
  {
   "cell_type": "markdown",
   "id": "0b3d9f1d",
   "metadata": {},
   "source": [
    "### Prediction interval: considers the inherent error as well!\n",
    "\n",
    "Note: in statsmodels, mean_ci (lower, upper) is CI, and obs_ci (lower, upper) is the prediction interval"
   ]
  },
  {
   "cell_type": "code",
   "execution_count": 31,
   "id": "0e2c9827",
   "metadata": {},
   "outputs": [
    {
     "data": {
      "text/html": [
       "<div>\n",
       "<style scoped>\n",
       "    .dataframe tbody tr th:only-of-type {\n",
       "        vertical-align: middle;\n",
       "    }\n",
       "\n",
       "    .dataframe tbody tr th {\n",
       "        vertical-align: top;\n",
       "    }\n",
       "\n",
       "    .dataframe thead th {\n",
       "        text-align: right;\n",
       "    }\n",
       "</style>\n",
       "<table border=\"1\" class=\"dataframe\">\n",
       "  <thead>\n",
       "    <tr style=\"text-align: right;\">\n",
       "      <th></th>\n",
       "      <th>PI_low</th>\n",
       "      <th>pred_price</th>\n",
       "      <th>PI_up</th>\n",
       "    </tr>\n",
       "  </thead>\n",
       "  <tbody>\n",
       "    <tr>\n",
       "      <th>0</th>\n",
       "      <td>51.702656</td>\n",
       "      <td>81.990274</td>\n",
       "      <td>130.020497</td>\n",
       "    </tr>\n",
       "  </tbody>\n",
       "</table>\n",
       "</div>"
      ],
      "text/plain": [
       "      PI_low  pred_price       PI_up\n",
       "0  51.702656   81.990274  130.020497"
      ]
     },
     "execution_count": 31,
     "metadata": {},
     "output_type": "execute_result"
    }
   ],
   "source": [
    "pred_new[\"PI_low\"] = np.exp(pred_new[\"obs_ci_lower\"])*corr_term\n",
    "pred_new[\"PI_up\"] = np.exp(pred_new[\"obs_ci_upper\"])*corr_term\n",
    "\n",
    "pred_new.filter([\"PI_low\",\"pred_price\",\"PI_up\"])"
   ]
  },
  {
   "cell_type": "markdown",
   "id": "359418b6",
   "metadata": {},
   "source": [
    " Let us compare the two results for our newly predicted hotel:"
   ]
  },
  {
   "cell_type": "code",
   "execution_count": 32,
   "id": "f4c7eefd",
   "metadata": {},
   "outputs": [
    {
     "data": {
      "text/html": [
       "<div>\n",
       "<style scoped>\n",
       "    .dataframe tbody tr th:only-of-type {\n",
       "        vertical-align: middle;\n",
       "    }\n",
       "\n",
       "    .dataframe tbody tr th {\n",
       "        vertical-align: top;\n",
       "    }\n",
       "\n",
       "    .dataframe thead th {\n",
       "        text-align: right;\n",
       "    }\n",
       "</style>\n",
       "<table border=\"1\" class=\"dataframe\">\n",
       "  <thead>\n",
       "    <tr style=\"text-align: right;\">\n",
       "      <th></th>\n",
       "      <th>pred_price</th>\n",
       "      <th>CI_low</th>\n",
       "      <th>CI_up</th>\n",
       "      <th>PI_low</th>\n",
       "      <th>PI_up</th>\n",
       "    </tr>\n",
       "  </thead>\n",
       "  <tbody>\n",
       "    <tr>\n",
       "      <th>0</th>\n",
       "      <td>81.990274</td>\n",
       "      <td>74.296552</td>\n",
       "      <td>90.480714</td>\n",
       "      <td>51.702656</td>\n",
       "      <td>130.020497</td>\n",
       "    </tr>\n",
       "  </tbody>\n",
       "</table>\n",
       "</div>"
      ],
      "text/plain": [
       "   pred_price     CI_low      CI_up     PI_low       PI_up\n",
       "0   81.990274  74.296552  90.480714  51.702656  130.020497"
      ]
     },
     "execution_count": 32,
     "metadata": {},
     "output_type": "execute_result"
    }
   ],
   "source": [
    "pred_new.filter([\"pred_price\",\"CI_low\",\"CI_up\",\"PI_low\",\"PI_up\"])"
   ]
  },
  {
   "cell_type": "markdown",
   "id": "c6b15b24",
   "metadata": {},
   "source": [
    " Discuss what the results mean! How would you price this hotel?"
   ]
  },
  {
   "cell_type": "markdown",
   "id": "62a407d7",
   "metadata": {},
   "source": [
    "### Task:\n",
    "\n",
    "There is a new hotel with the following feature values that you would like to price \\\n",
    "\n",
    "    distance = 0.25 , star3 = 0 , star35 = 0, rating = 4.1\n",
    "   \n",
    "- Now, you use polynomials rather than piecewise linear spline up to 3rd order for distance and rating. \n",
    "- Use dummies for stars and use heteroskedastic robust SE!\n",
    "- Estimate the model, and check the distance and ratings against the residuals for the LEVELS.\n",
    "- Calculate the CI and PI with 80% levels, using the `level` input argument for this hotel based on the model.\n",
    "\n",
    "What price would you use? Argue!"
   ]
  },
  {
   "cell_type": "markdown",
   "id": "c96e8f67",
   "metadata": {},
   "source": [
    "Model:"
   ]
  },
  {
   "cell_type": "code",
   "execution_count": 33,
   "id": "8503a102",
   "metadata": {},
   "outputs": [],
   "source": [
    "reg_poly = smf.ols(\n",
    "    \"lnprice ~ distance + np.power(distance, 2)+ np.power(distance, 3) + rating + np.power(rating, 2)+ np.power(rating, 3)+ star3 + star35\",\n",
    "    data=vienna,\n",
    ").fit(cov_type=\"HC3\")"
   ]
  },
  {
   "cell_type": "markdown",
   "id": "aafbdfd0",
   "metadata": {},
   "source": [
    "Predictions and errors \n",
    "\n",
    "1. for log values"
   ]
  },
  {
   "cell_type": "code",
   "execution_count": 34,
   "id": "5099e8f4",
   "metadata": {},
   "outputs": [],
   "source": [
    "vienna[\"lnprice_hat_rp\"] = reg_poly.fittedvalues\n",
    "vienna[\"lnprice_resid_rp\"] = reg_poly.resid"
   ]
  },
  {
   "cell_type": "markdown",
   "id": "0cea4275",
   "metadata": {},
   "source": [
    "2.  for the levels"
   ]
  },
  {
   "cell_type": "code",
   "execution_count": 35,
   "id": "40ee2ceb",
   "metadata": {},
   "outputs": [],
   "source": [
    "corr_term_rp = np.exp(vienna[\"lnprice_resid_rp\"].mean() / 2)\n",
    "vienna[\"price_hat_rp\"] = np.exp(vienna[\"lnprice_hat_rp\"]) * corr_term_rp\n",
    "vienna[\"price_resid_rp\"] = vienna[\"price\"] - vienna[\"price_hat_rp\"]"
   ]
  },
  {
   "cell_type": "markdown",
   "id": "76583dc0",
   "metadata": {},
   "source": [
    "Create a residual vs distance graph"
   ]
  },
  {
   "cell_type": "code",
   "execution_count": 36,
   "id": "72d8cd28",
   "metadata": {},
   "outputs": [
    {
     "data": {
      "image/png": "[encoded data removed]",
      "text/plain": [
       "<Figure size 640x480 with 1 Axes>"
      ]
     },
     "metadata": {},
     "output_type": "display_data"
    },
    {
     "data": {
      "text/plain": [
       "<ggplot: (381958349)>"
      ]
     },
     "execution_count": 36,
     "metadata": {},
     "output_type": "execute_result"
    }
   ],
   "source": [
    "(\n",
    "    ggplot(vienna, aes(x=\"distance\", y=\"price_resid_rp\"))\n",
    "    + geom_point(color=\"red\", size=2)\n",
    "    + geom_smooth(method=\"lm\", colour=\"blue\", se=False, formula=\"y~x\")\n",
    "    + labs(x=\"Distance\", y=\"Residuals\")\n",
    "    + theme_bw()\n",
    ")"
   ]
  },
  {
   "cell_type": "markdown",
   "id": "14733e39",
   "metadata": {},
   "source": [
    "Create a residual vs ratings graph \n",
    "\n",
    "-> model makes large errors around 4,   in both directions, but mainly underprice the hotels. Not too serious."
   ]
  },
  {
   "cell_type": "code",
   "execution_count": 37,
   "id": "3178831e",
   "metadata": {},
   "outputs": [
    {
     "data": {
      "image/png": "[encoded data removed]",
      "text/plain": [
       "<Figure size 640x480 with 1 Axes>"
      ]
     },
     "metadata": {},
     "output_type": "display_data"
    },
    {
     "data": {
      "text/plain": [
       "<ggplot: (381991504)>"
      ]
     },
     "execution_count": 37,
     "metadata": {},
     "output_type": "execute_result"
    }
   ],
   "source": [
    "(\n",
    "    ggplot(vienna, aes(x=\"rating\", y=\"price_resid_rp\"))\n",
    "    + geom_point(color=\"red\", size=2)\n",
    "    + geom_smooth(method=\"lm\", colour=\"blue\", se=False, formula=\"y~x\")\n",
    "    + labs(x=\"Ratings of the hotels\", y=\"Residuals\")\n",
    "    + scale_x_continuous(\n",
    "        expand=(0.01, 0.01), limits=(2, 5), breaks=np.arange(2, 5, 0.5)\n",
    "    )\n",
    "    + theme_bw()\n",
    ")"
   ]
  },
  {
   "cell_type": "markdown",
   "id": "84d710d0",
   "metadata": {},
   "source": [
    "#### CI and PI for the new hotel"
   ]
  },
  {
   "cell_type": "code",
   "execution_count": 38,
   "id": "f3dfa5c7",
   "metadata": {},
   "outputs": [
    {
     "data": {
      "text/html": [
       "<div>\n",
       "<style scoped>\n",
       "    .dataframe tbody tr th:only-of-type {\n",
       "        vertical-align: middle;\n",
       "    }\n",
       "\n",
       "    .dataframe tbody tr th {\n",
       "        vertical-align: top;\n",
       "    }\n",
       "\n",
       "    .dataframe thead th {\n",
       "        text-align: right;\n",
       "    }\n",
       "</style>\n",
       "<table border=\"1\" class=\"dataframe\">\n",
       "  <thead>\n",
       "    <tr style=\"text-align: right;\">\n",
       "      <th></th>\n",
       "      <th>mean</th>\n",
       "      <th>mean_se</th>\n",
       "      <th>mean_ci_lower</th>\n",
       "      <th>mean_ci_upper</th>\n",
       "      <th>obs_ci_lower</th>\n",
       "      <th>obs_ci_upper</th>\n",
       "    </tr>\n",
       "  </thead>\n",
       "  <tbody>\n",
       "    <tr>\n",
       "      <th>0</th>\n",
       "      <td>4.955415</td>\n",
       "      <td>0.036862</td>\n",
       "      <td>4.908175</td>\n",
       "      <td>5.002656</td>\n",
       "      <td>4.65345</td>\n",
       "      <td>5.257381</td>\n",
       "    </tr>\n",
       "  </tbody>\n",
       "</table>\n",
       "</div>"
      ],
      "text/plain": [
       "       mean   mean_se  mean_ci_lower  mean_ci_upper  obs_ci_lower  \\\n",
       "0  4.955415  0.036862       4.908175       5.002656       4.65345   \n",
       "\n",
       "   obs_ci_upper  \n",
       "0      5.257381  "
      ]
     },
     "execution_count": 38,
     "metadata": {},
     "output_type": "execute_result"
    }
   ],
   "source": [
    "new_hotel2_vienna = pd.DataFrame(\n",
    "    {\"distance\": 0.25, \"star3\": 0, \"star35\": 0, \"rating\": 4.1}, index=[0]\n",
    ")\n",
    "\n",
    "pred_new2 = reg_poly.get_prediction(new_hotel2_vienna).summary_frame(alpha=0.2)\n",
    "pred_new2"
   ]
  },
  {
   "cell_type": "code",
   "execution_count": 39,
   "id": "1bb7593a",
   "metadata": {},
   "outputs": [
    {
     "data": {
      "text/html": [
       "<div>\n",
       "<style scoped>\n",
       "    .dataframe tbody tr th:only-of-type {\n",
       "        vertical-align: middle;\n",
       "    }\n",
       "\n",
       "    .dataframe tbody tr th {\n",
       "        vertical-align: top;\n",
       "    }\n",
       "\n",
       "    .dataframe thead th {\n",
       "        text-align: right;\n",
       "    }\n",
       "</style>\n",
       "<table border=\"1\" class=\"dataframe\">\n",
       "  <thead>\n",
       "    <tr style=\"text-align: right;\">\n",
       "      <th></th>\n",
       "      <th>pred_price</th>\n",
       "      <th>CI_low</th>\n",
       "      <th>CI_up</th>\n",
       "      <th>PI_low</th>\n",
       "      <th>PI_up</th>\n",
       "    </tr>\n",
       "  </thead>\n",
       "  <tbody>\n",
       "    <tr>\n",
       "      <th>0</th>\n",
       "      <td>141.94</td>\n",
       "      <td>135.39</td>\n",
       "      <td>148.81</td>\n",
       "      <td>104.95</td>\n",
       "      <td>191.98</td>\n",
       "    </tr>\n",
       "  </tbody>\n",
       "</table>\n",
       "</div>"
      ],
      "text/plain": [
       "   pred_price  CI_low   CI_up  PI_low   PI_up\n",
       "0      141.94  135.39  148.81  104.95  191.98"
      ]
     },
     "execution_count": 39,
     "metadata": {},
     "output_type": "execute_result"
    }
   ],
   "source": [
    "pred_new2[\"pred_price\"] = np.exp(pred_new2[\"mean\"])*corr_term_rp\n",
    "pred_new2[\"CI_low\"] = np.exp(pred_new2[\"mean_ci_lower\"])*corr_term_rp\n",
    "pred_new2[\"CI_up\"] = np.exp(pred_new2[\"mean_ci_upper\"])*corr_term_rp\n",
    "pred_new2[\"PI_low\"] = np.exp(pred_new2[\"obs_ci_lower\"])*corr_term_rp\n",
    "pred_new2[\"PI_up\"] = np.exp(pred_new2[\"obs_ci_upper\"])*corr_term_rp\n",
    "pred_new2.filter([\"pred_price\",\"CI_low\",\"CI_up\",\"PI_low\",\"PI_up\"]).round(2)"
   ]
  },
  {
   "cell_type": "markdown",
   "id": "6e9776c7",
   "metadata": {},
   "source": [
    "As the model probably underprice this hotel around this distance rating, \\\n",
    "  I would use a larger price than predicted. However, this is a new hotel, \\\n",
    "  thus start with a lower price make some good word-of-mouth can be beneficial.\\\n",
    " In sum something around the CI_high can be a good point if there are no other reasons."
   ]
  },
  {
   "cell_type": "markdown",
   "id": "e4624773",
   "metadata": {},
   "source": [
    "## IV) External validity of the model\n",
    "\n",
    "\n",
    " We want to test how our favorite model would perform if we change:\\\n",
    " time OR place OR type of observations (e.g. Apartment instead of Hotels)"
   ]
  },
  {
   "cell_type": "markdown",
   "id": "28e8e3c7",
   "metadata": {},
   "source": [
    "0) Add the variable transformations to the general dataset: hotels-europe"
   ]
  },
  {
   "cell_type": "code",
   "execution_count": 40,
   "id": "908fc423",
   "metadata": {},
   "outputs": [],
   "source": [
    "europe[\"lnprice\"] = np.log(europe[\"price\"])\n",
    "europe[\"star3\"] = np.where(europe[\"stars\"] == 3, 1, 0)\n",
    "europe[\"star35\"] = np.where(europe[\"stars\"] == 3.5, 1, 0)"
   ]
  },
  {
   "cell_type": "markdown",
   "id": "9617a0c7",
   "metadata": {},
   "source": [
    " ### 1) First let check for different time: Vienna multiple time"
   ]
  },
  {
   "cell_type": "code",
   "execution_count": 41,
   "id": "cee46764",
   "metadata": {},
   "outputs": [],
   "source": [
    "vienna_m_time = (\n",
    "    europe.loc[lambda x: x[\"accommodation_type\"] == \"Hotel\"]\n",
    "    .loc[lambda x: x[\"city_actual\"] == \"Vienna\"]\n",
    "    .loc[lambda x: x[\"nnights\"] == 1]\n",
    "    .loc[lambda x: (x[\"stars\"] >= 3) & (x[\"stars\"] <= 4)]\n",
    "    .loc[lambda x: x[\"stars\"].notnull()]\n",
    "    .loc[lambda x: x[\"price\"] <= 600]\n",
    ")"
   ]
  },
  {
   "cell_type": "markdown",
   "id": "56d028c6",
   "metadata": {},
   "source": [
    "IMPORTANT: for a fair comparison, we need to use the SAME HOTELS!\\\n",
    "we have three alternative candidates:\n",
    "    \n",
    "    main: 2017/11 weekday\n",
    "    1): 2017/11 on a weekend\n",
    "    2): 2017 December, holiday\n",
    "    3): 2018 June, weekend"
   ]
  },
  {
   "cell_type": "markdown",
   "id": "0a60d76b",
   "metadata": {},
   "source": [
    "first we get our preferred dates"
   ]
  },
  {
   "cell_type": "code",
   "execution_count": 42,
   "id": "2d97ca6e",
   "metadata": {},
   "outputs": [],
   "source": [
    "vienna_m_time = vienna_m_time.loc[\n",
    "    lambda x: ((x[\"year\"] == 2017) & (x[\"month\"] == 11) & (x[\"weekend\"] == 0))\n",
    "    | ((x[\"year\"] == 2017) & (x[\"month\"] == 11) & (x[\"weekend\"] == 1))\n",
    "    | ((x[\"year\"] == 2017) & (x[\"month\"] == 12) & (x[\"holiday\"] == 1))\n",
    "    | ((x[\"year\"] == 2018) & (x[\"month\"] == 6) & (x[\"weekend\"] == 1))\n",
    "]"
   ]
  },
  {
   "cell_type": "markdown",
   "id": "753b7be7",
   "metadata": {},
   "source": [
    "Secondly we extract the frequencies for each hotels"
   ]
  },
  {
   "cell_type": "code",
   "execution_count": 43,
   "id": "98d89e6b",
   "metadata": {},
   "outputs": [
    {
     "data": {
      "text/plain": [
       "21897    4\n",
       "22190    4\n",
       "22169    4\n",
       "22176    4\n",
       "21901    4\n",
       "        ..\n",
       "21982    1\n",
       "22019    1\n",
       "22042    1\n",
       "22407    1\n",
       "22262    1\n",
       "Name: hotel_id, Length: 218, dtype: int64"
      ]
     },
     "execution_count": 43,
     "metadata": {},
     "output_type": "execute_result"
    }
   ],
   "source": [
    "vienna_m_time[\"hotel_id\"].value_counts()"
   ]
  },
  {
   "cell_type": "markdown",
   "id": "07c8b8e1",
   "metadata": {},
   "source": [
    "Hotels with frequency of four are in all of our dates"
   ]
  },
  {
   "cell_type": "code",
   "execution_count": 44,
   "id": "aad2ad63",
   "metadata": {},
   "outputs": [],
   "source": [
    "four_freq_id = vienna_m_time[\"hotel_id\"].value_counts().loc[lambda x: x == 4].index\n",
    "\n",
    "vienna_m_time = vienna_m_time.loc[lambda x: x[\"hotel_id\"].isin(four_freq_id)]"
   ]
  },
  {
   "cell_type": "markdown",
   "id": "6914a927",
   "metadata": {},
   "source": [
    "Save the formula for the main model:"
   ]
  },
  {
   "cell_type": "code",
   "execution_count": 45,
   "id": "8aedb2f9",
   "metadata": {},
   "outputs": [],
   "source": [
    "m_form = \"lnprice ~ lspline(distance, [1,4]) + lspline(rating, 3.5) + star3 + star35\""
   ]
  },
  {
   "cell_type": "markdown",
   "id": "0bf1ce8c",
   "metadata": {},
   "source": [
    "Our main model: 2017/11 in a weekday"
   ]
  },
  {
   "cell_type": "code",
   "execution_count": 46,
   "id": "9c0e0e3e",
   "metadata": {},
   "outputs": [],
   "source": [
    "regt_0 = smf.ols(\n",
    "    m_form,\n",
    "    data=vienna_m_time.loc[\n",
    "        lambda x: ((x[\"year\"] == 2017) & (x[\"month\"] == 11) & (x[\"weekend\"] == 0))\n",
    "    ],\n",
    ").fit(cov_type=\"HC3\")"
   ]
  },
  {
   "cell_type": "markdown",
   "id": "4694aa45",
   "metadata": {},
   "source": [
    " Alternatively 1) 2017/11 on a weekend"
   ]
  },
  {
   "cell_type": "code",
   "execution_count": 47,
   "id": "6dbc652d",
   "metadata": {},
   "outputs": [],
   "source": [
    "regt_1 = smf.ols(\n",
    "    m_form,\n",
    "    data=vienna_m_time.loc[\n",
    "        lambda x: ((x[\"year\"] == 2017) & (x[\"month\"] == 11) & (x[\"weekend\"] == 1))\n",
    "    ],\n",
    ").fit(cov_type=\"HC3\")"
   ]
  },
  {
   "cell_type": "markdown",
   "id": "f6e85ba4",
   "metadata": {},
   "source": [
    "Alternatively 2) 2017 December, holiday"
   ]
  },
  {
   "cell_type": "code",
   "execution_count": 48,
   "id": "d71d8f19",
   "metadata": {},
   "outputs": [],
   "source": [
    "regt_2 = smf.ols(\n",
    "    m_form,\n",
    "    data=vienna_m_time.loc[\n",
    "        lambda x: ((x[\"year\"] == 2017) & (x[\"month\"] == 12) & (x[\"holiday\"] == 1))\n",
    "    ],\n",
    ").fit(cov_type=\"HC3\")"
   ]
  },
  {
   "cell_type": "markdown",
   "id": "db8f24c3",
   "metadata": {},
   "source": [
    "Alternatively 2) 2018 June, weekend"
   ]
  },
  {
   "cell_type": "code",
   "execution_count": 49,
   "id": "f2077de7",
   "metadata": {},
   "outputs": [],
   "source": [
    "regt_3 = smf.ols(\n",
    "    m_form,\n",
    "    data=vienna_m_time.loc[\n",
    "        lambda x: ((x[\"year\"] == 2018) & (x[\"month\"] == 6) & (x[\"weekend\"] == 1))\n",
    "    ],\n",
    ").fit(cov_type=\"HC3\")"
   ]
  },
  {
   "cell_type": "markdown",
   "id": "a3ca0230",
   "metadata": {},
   "source": [
    "Compare the results:"
   ]
  },
  {
   "cell_type": "code",
   "execution_count": 50,
   "id": "5759191c",
   "metadata": {},
   "outputs": [
    {
     "data": {
      "text/html": [
       "<table style=\"text-align:center\"><tr><td colspan=\"5\" style=\"border-bottom: 1px solid black\"></td></tr><tr><td style=\"text-align:left\"></td><td colspan=\"4\"><em>Dependent variable:lnprice</em></td></tr><tr><td style=\"text-align:left\"></td><tr><td></td><td colspan=\"1\">2017/11 weekday</td><td colspan=\"1\">2017/11 on a weekend</td><td colspan=\"1\">2017 December, holiday</td><td colspan=\"1\">2018 June, weekend</td></tr><tr><td style=\"text-align:left\"></td><td>(1)</td><td>(2)</td><td>(3)</td><td>(4)</td></tr><tr><td colspan=\"5\" style=\"border-bottom: 1px solid black\"></td></tr><tr><td style=\"text-align:left\">Intercept</td><td>5.218<sup>***</sup></td><td>5.532<sup>***</sup></td><td>5.684<sup>***</sup></td><td>5.789<sup>***</sup></td></tr><tr><td style=\"text-align:left\"></td><td>(0.702)</td><td>(0.478)</td><td>(0.401)</td><td>(1.850)</td></tr><tr><td style=\"text-align:left\">lspline(distance, [1, 4])[0]</td><td>-0.444<sup>***</sup></td><td>-0.735<sup>***</sup></td><td>-0.544<sup>***</sup></td><td>-0.380<sup>***</sup></td></tr><tr><td style=\"text-align:left\"></td><td>(0.097)</td><td>(0.103)</td><td>(0.088)</td><td>(0.122)</td></tr><tr><td style=\"text-align:left\">lspline(distance, [1, 4])[1]</td><td>-0.060<sup></sup></td><td>-0.135<sup>***</sup></td><td>-0.115<sup>***</sup></td><td>-0.055<sup></sup></td></tr><tr><td style=\"text-align:left\"></td><td>(0.037)</td><td>(0.049)</td><td>(0.034)</td><td>(0.048)</td></tr><tr><td style=\"text-align:left\">lspline(distance, [1, 4])[2]</td><td>0.102<sup></sup></td><td>0.272<sup></sup></td><td>0.172<sup></sup></td><td>-0.168<sup></sup></td></tr><tr><td style=\"text-align:left\"></td><td>(0.516)</td><td>(0.271)</td><td>(0.305)</td><td>(0.354)</td></tr><tr><td style=\"text-align:left\">lspline(rating, 3.5)[0]</td><td>-0.092<sup></sup></td><td>-0.008<sup></sup></td><td>-0.183<sup></sup></td><td>-0.231<sup></sup></td></tr><tr><td style=\"text-align:left\"></td><td>(0.201)</td><td>(0.143)</td><td>(0.119)</td><td>(0.536)</td></tr><tr><td style=\"text-align:left\">lspline(rating, 3.5)[1]</td><td>0.354<sup>***</sup></td><td>0.224<sup></sup></td><td>0.315<sup>***</sup></td><td>0.309<sup>***</sup></td></tr><tr><td style=\"text-align:left\"></td><td>(0.067)</td><td>(0.143)</td><td>(0.076)</td><td>(0.115)</td></tr><tr><td style=\"text-align:left\">star3</td><td>-0.127<sup>*</sup></td><td>0.018<sup></sup></td><td>-0.076<sup></sup></td><td>-0.164<sup>**</sup></td></tr><tr><td style=\"text-align:left\"></td><td>(0.072)</td><td>(0.095)</td><td>(0.048)</td><td>(0.066)</td></tr><tr><td style=\"text-align:left\">star35</td><td>-0.098<sup></sup></td><td>0.076<sup></sup></td><td>-0.053<sup></sup></td><td>-0.180<sup>**</sup></td></tr><tr><td style=\"text-align:left\"></td><td>(0.101)</td><td>(0.153)</td><td>(0.044)</td><td>(0.086)</td></tr><td colspan=\"5\" style=\"border-bottom: 1px solid black\"></td></tr><tr><td style=\"text-align: left\">Observations</td><td>98</td><td>98</td><td>98</td><td>98</td></tr><tr><td style=\"text-align: left\">R<sup>2</sup></td><td>0.465</td><td>0.475</td><td>0.688</td><td>0.493</td></tr><tr><td style=\"text-align: left\">Adjusted R<sup>2</sup></td><td>0.423</td><td>0.434</td><td>0.663</td><td>0.453</td></tr><tr><td style=\"text-align: left\">Residual Std. Error</td><td>0.262 (df=90)</td><td>0.320 (df=90)</td><td>0.185 (df=90)</td><td>0.234 (df=90)</td></tr><tr><td style=\"text-align: left\">F Statistic</td><td>13.260<sup>***</sup> (df=7; 90)</td><td>22.712<sup>***</sup> (df=7; 90)</td><td>19.403<sup>***</sup> (df=7; 90)</td><td>13.693<sup>***</sup> (df=7; 90)</td></tr><tr><td colspan=\"5\" style=\"border-bottom: 1px solid black\"></td></tr><tr><td style=\"text-align: left\">Note:</td>\n",
       " <td colspan=\"4\" style=\"text-align: right\">\n",
       "  <sup>*</sup>p&lt;0.1;\n",
       "  <sup>**</sup>p&lt;0.05;\n",
       "  <sup>***</sup>p&lt;0.01\n",
       " </td></tr></table>"
      ],
      "text/plain": [
       "<stargazer.stargazer.Stargazer at 0x16c57a470>"
      ]
     },
     "execution_count": 50,
     "metadata": {},
     "output_type": "execute_result"
    }
   ],
   "source": [
    "table = Stargazer([regt_0, regt_1, regt_2, regt_3])\n",
    "table.custom_columns(\n",
    "    [\n",
    "        \"2017/11 weekday\",\n",
    "        \"2017/11 on a weekend\",\n",
    "        \"2017 December, holiday\",\n",
    "        \"2018 June, weekend\",\n",
    "    ],\n",
    "    [1, 1, 1, 1],\n",
    ")\n",
    "table"
   ]
  },
  {
   "cell_type": "markdown",
   "id": "14dbd377",
   "metadata": {},
   "source": [
    "With prediction look at: R2, and stability of the parameters!"
   ]
  },
  {
   "cell_type": "markdown",
   "id": "dd0da002",
   "metadata": {},
   "source": [
    "### 2) Second let's check for different accommodation types in Vienna:\n",
    "\n",
    "Compare hotels with Apartments:\n",
    "\n",
    "Note: we only change one thing at a time!"
   ]
  },
  {
   "cell_type": "code",
   "execution_count": 51,
   "id": "9faeea87",
   "metadata": {},
   "outputs": [],
   "source": [
    "vienna_h_vs_a = (\n",
    "    europe.loc[\n",
    "        lambda x: (x[\"accommodation_type\"] == \"Hotel\")\n",
    "        | (x[\"accommodation_type\"] == \"Apartment\")\n",
    "    ]\n",
    "    .loc[lambda x: (x[\"year\"] == 2017) & (x[\"month\"] == 11) & (x[\"weekend\"] == 1)]\n",
    "    .loc[lambda x: x[\"city_actual\"] == \"Vienna\"]\n",
    "    .loc[lambda x: x[\"nnights\"] == 1]\n",
    "    .loc[lambda x: (x[\"stars\"] >= 3) & (x[\"stars\"] <= 4)]\n",
    "    .loc[lambda x: x[\"stars\"].notnull()]\n",
    "    .loc[lambda x: x[\"price\"] <= 600]\n",
    "    .loc[lambda x: x[\"rating\"].notnull()]\n",
    ")"
   ]
  },
  {
   "cell_type": "markdown",
   "id": "3e2141dc",
   "metadata": {},
   "source": [
    "Note: here we can not compare the same observations as they are inherently different"
   ]
  },
  {
   "cell_type": "markdown",
   "id": "b184dded",
   "metadata": {},
   "source": [
    "Run regression for the hotels"
   ]
  },
  {
   "cell_type": "code",
   "execution_count": 52,
   "id": "81f0c149",
   "metadata": {},
   "outputs": [],
   "source": [
    "regh = smf.ols(\n",
    "    m_form, data=vienna_h_vs_a.loc[lambda x: x[\"accommodation_type\"] == \"Hotel\"]\n",
    ").fit(cov_type=\"HC3\")"
   ]
  },
  {
   "cell_type": "markdown",
   "id": "77e433b8",
   "metadata": {},
   "source": [
    "Run regression for the apartments"
   ]
  },
  {
   "cell_type": "code",
   "execution_count": 53,
   "id": "820b5f1e",
   "metadata": {},
   "outputs": [],
   "source": [
    "rega = smf.ols(\n",
    "    m_form, data=vienna_h_vs_a.loc[lambda x: x[\"accommodation_type\"] == \"Apartment\"]\n",
    ").fit(cov_type=\"HC3\")"
   ]
  },
  {
   "cell_type": "code",
   "execution_count": 54,
   "id": "2edd9f5f",
   "metadata": {},
   "outputs": [
    {
     "data": {
      "text/html": [
       "<table style=\"text-align:center\"><tr><td colspan=\"3\" style=\"border-bottom: 1px solid black\"></td></tr><tr><td style=\"text-align:left\"></td><td colspan=\"2\"><em>Dependent variable:lnprice</em></td></tr><tr><td style=\"text-align:left\"></td><tr><td></td><td colspan=\"1\">Hotels</td><td colspan=\"1\">Apartments</td></tr><tr><td style=\"text-align:left\"></td><td>(1)</td><td>(2)</td></tr><tr><td colspan=\"3\" style=\"border-bottom: 1px solid black\"></td></tr><tr><td style=\"text-align:left\">Intercept</td><td>5.686<sup>***</sup></td><td>4.931<sup>***</sup></td></tr><tr><td style=\"text-align:left\"></td><td>(0.440)</td><td>(0.898)</td></tr><tr><td style=\"text-align:left\">lspline(distance, [1, 4])[0]</td><td>-0.700<sup>***</sup></td><td>-0.590<sup></sup></td></tr><tr><td style=\"text-align:left\"></td><td>(0.097)</td><td>(0.456)</td></tr><tr><td style=\"text-align:left\">lspline(distance, [1, 4])[1]</td><td>-0.124<sup>***</sup></td><td>0.092<sup></sup></td></tr><tr><td style=\"text-align:left\"></td><td>(0.037)</td><td>(0.080)</td></tr><tr><td style=\"text-align:left\">lspline(distance, [1, 4])[2]</td><td>0.049<sup></sup></td><td>0.086<sup></sup></td></tr><tr><td style=\"text-align:left\"></td><td>(0.319)</td><td>(0.332)</td></tr><tr><td style=\"text-align:left\">lspline(rating, 3.5)[0]</td><td>-0.078<sup></sup></td><td>0.117<sup></sup></td></tr><tr><td style=\"text-align:left\"></td><td>(0.128)</td><td>(0.243)</td></tr><tr><td style=\"text-align:left\">lspline(rating, 3.5)[1]</td><td>0.324<sup>***</sup></td><td>0.172<sup></sup></td></tr><tr><td style=\"text-align:left\"></td><td>(0.118)</td><td>(0.144)</td></tr><tr><td style=\"text-align:left\">star3</td><td>-0.001<sup></sup></td><td>0.113<sup></sup></td></tr><tr><td style=\"text-align:left\"></td><td>(0.078)</td><td>(0.141)</td></tr><tr><td style=\"text-align:left\">star35</td><td>0.012<sup></sup></td><td>0.057<sup></sup></td></tr><tr><td style=\"text-align:left\"></td><td>(0.141)</td><td>(0.166)</td></tr><td colspan=\"3\" style=\"border-bottom: 1px solid black\"></td></tr><tr><td style=\"text-align: left\">Observations</td><td>124</td><td>49</td></tr><tr><td style=\"text-align: left\">R<sup>2</sup></td><td>0.511</td><td>0.180</td></tr><tr><td style=\"text-align: left\">Adjusted R<sup>2</sup></td><td>0.482</td><td>0.040</td></tr><tr><td style=\"text-align: left\">Residual Std. Error</td><td>0.316 (df=116)</td><td>0.359 (df=41)</td></tr><tr><td style=\"text-align: left\">F Statistic</td><td>26.645<sup>***</sup> (df=7; 116)</td><td>0.957<sup></sup> (df=7; 41)</td></tr><tr><td colspan=\"3\" style=\"border-bottom: 1px solid black\"></td></tr><tr><td style=\"text-align: left\">Note:</td>\n",
       " <td colspan=\"2\" style=\"text-align: right\">\n",
       "  <sup>*</sup>p&lt;0.1;\n",
       "  <sup>**</sup>p&lt;0.05;\n",
       "  <sup>***</sup>p&lt;0.01\n",
       " </td></tr></table>"
      ],
      "text/plain": [
       "<stargazer.stargazer.Stargazer at 0x16c59b5e0>"
      ]
     },
     "execution_count": 54,
     "metadata": {},
     "output_type": "execute_result"
    }
   ],
   "source": [
    "table = Stargazer([regh, rega])\n",
    "table.custom_columns([\"Hotels\", \"Apartments\"], [1, 1])\n",
    "table"
   ]
  },
  {
   "cell_type": "markdown",
   "id": "643e4fa5",
   "metadata": {},
   "source": [
    " ### Task: \n",
    "    \n",
    "   3) Compare different cities:\n",
    "\n",
    "Check Vienna, Amsterdam, and Barcelona!\n",
    "\n",
    "\n",
    "Note: Get rid of the price filter!\n"
   ]
  },
  {
   "cell_type": "code",
   "execution_count": 55,
   "id": "7209bfc5",
   "metadata": {},
   "outputs": [],
   "source": [
    "hotels_cities = (\n",
    "    europe.loc[lambda x: x[\"accommodation_type\"] == \"Hotel\"]\n",
    "    .loc[lambda x: (x[\"year\"] == 2017) & (x[\"month\"] == 11) & (x[\"weekend\"] == 1)]\n",
    "    .loc[\n",
    "        lambda x: (x[\"city_actual\"] == \"Vienna\")\n",
    "        | (x[\"city_actual\"] == \"Amsterdam\")\n",
    "        | (x[\"city_actual\"] == \"Barcelona\")\n",
    "    ]\n",
    "    .loc[lambda x: x[\"nnights\"] == 1]\n",
    "    .loc[lambda x: (x[\"stars\"] >= 3) & (x[\"stars\"] <= 4)]\n",
    "    .loc[lambda x: x[\"stars\"].notnull()]\n",
    "    .loc[lambda x: x[\"rating\"].notnull()]\n",
    ")"
   ]
  },
  {
   "cell_type": "markdown",
   "id": "25b8ea59",
   "metadata": {},
   "source": [
    "Run regression for Vienna"
   ]
  },
  {
   "cell_type": "code",
   "execution_count": 56,
   "id": "b3c84fe4",
   "metadata": {},
   "outputs": [],
   "source": [
    "reg_v = smf.ols(\n",
    "    m_form, data=hotels_cities.loc[lambda x: x[\"city_actual\"] == \"Vienna\"]\n",
    ").fit(cov_type=\"HC3\")"
   ]
  },
  {
   "cell_type": "markdown",
   "id": "b69a9cce",
   "metadata": {},
   "source": [
    "Run regression for Amsterdam"
   ]
  },
  {
   "cell_type": "code",
   "execution_count": 57,
   "id": "ec81ac66",
   "metadata": {},
   "outputs": [],
   "source": [
    "reg_a = smf.ols(\n",
    "    m_form, data=hotels_cities.loc[lambda x: x[\"city_actual\"] == \"Amsterdam\"]\n",
    ").fit(cov_type=\"HC3\")"
   ]
  },
  {
   "cell_type": "markdown",
   "id": "4a311175",
   "metadata": {},
   "source": [
    "Run regression for Barcelona"
   ]
  },
  {
   "cell_type": "code",
   "execution_count": 58,
   "id": "979ff1f4",
   "metadata": {},
   "outputs": [],
   "source": [
    "reg_b = smf.ols(\n",
    "    m_form, data=hotels_cities.loc[lambda x: x[\"city_actual\"] == \"Barcelona\"]\n",
    ").fit(cov_type=\"HC3\")"
   ]
  },
  {
   "cell_type": "code",
   "execution_count": 59,
   "id": "06b6b434",
   "metadata": {},
   "outputs": [
    {
     "data": {
      "text/html": [
       "<table style=\"text-align:center\"><tr><td colspan=\"4\" style=\"border-bottom: 1px solid black\"></td></tr><tr><td style=\"text-align:left\"></td><td colspan=\"3\"><em>Dependent variable:lnprice</em></td></tr><tr><td style=\"text-align:left\"></td><tr><td></td><td colspan=\"1\">Vienna</td><td colspan=\"1\">Amsterdam</td><td colspan=\"1\">Barcelona</td></tr><tr><td style=\"text-align:left\"></td><td>(1)</td><td>(2)</td><td>(3)</td></tr><tr><td colspan=\"4\" style=\"border-bottom: 1px solid black\"></td></tr><tr><td style=\"text-align:left\">Intercept</td><td>5.686<sup>***</sup></td><td>6.176<sup>***</sup></td><td>5.360<sup>**</sup></td></tr><tr><td style=\"text-align:left\"></td><td>(0.440)</td><td>(0.520)</td><td>(2.647)</td></tr><tr><td style=\"text-align:left\">lspline(distance, [1, 4])[0]</td><td>-0.700<sup>***</sup></td><td>-0.333<sup>***</sup></td><td>-0.207<sup>***</sup></td></tr><tr><td style=\"text-align:left\"></td><td>(0.097)</td><td>(0.080)</td><td>(0.059)</td></tr><tr><td style=\"text-align:left\">lspline(distance, [1, 4])[1]</td><td>-0.124<sup>***</sup></td><td>-0.228<sup>***</sup></td><td>-0.099<sup>***</sup></td></tr><tr><td style=\"text-align:left\"></td><td>(0.037)</td><td>(0.038)</td><td>(0.028)</td></tr><tr><td style=\"text-align:left\">lspline(distance, [1, 4])[2]</td><td>0.049<sup></sup></td><td>0.164<sup></sup></td><td>0.121<sup></sup></td></tr><tr><td style=\"text-align:left\"></td><td>(0.319)</td><td>(0.108)</td><td>(0.183)</td></tr><tr><td style=\"text-align:left\">lspline(rating, 3.5)[0]</td><td>-0.078<sup></sup></td><td>-0.120<sup></sup></td><td>-0.150<sup></sup></td></tr><tr><td style=\"text-align:left\"></td><td>(0.128)</td><td>(0.151)</td><td>(0.760)</td></tr><tr><td style=\"text-align:left\">lspline(rating, 3.5)[1]</td><td>0.324<sup>***</sup></td><td>0.220<sup>**</sup></td><td>0.340<sup>***</sup></td></tr><tr><td style=\"text-align:left\"></td><td>(0.118)</td><td>(0.092)</td><td>(0.061)</td></tr><tr><td style=\"text-align:left\">star3</td><td>-0.001<sup></sup></td><td>0.030<sup></sup></td><td>-0.138<sup>***</sup></td></tr><tr><td style=\"text-align:left\"></td><td>(0.078)</td><td>(0.048)</td><td>(0.030)</td></tr><tr><td style=\"text-align:left\">star35</td><td>0.012<sup></sup></td><td>0.251<sup></sup></td><td>-0.024<sup></sup></td></tr><tr><td style=\"text-align:left\"></td><td>(0.141)</td><td>(0.285)</td><td>(0.108)</td></tr><td colspan=\"4\" style=\"border-bottom: 1px solid black\"></td></tr><tr><td style=\"text-align: left\">Observations</td><td>124</td><td>87</td><td>235</td></tr><tr><td style=\"text-align: left\">R<sup>2</sup></td><td>0.511</td><td>0.565</td><td>0.411</td></tr><tr><td style=\"text-align: left\">Adjusted R<sup>2</sup></td><td>0.482</td><td>0.527</td><td>0.393</td></tr><tr><td style=\"text-align: left\">Residual Std. Error</td><td>0.316 (df=116)</td><td>0.229 (df=79)</td><td>0.207 (df=227)</td></tr><tr><td style=\"text-align: left\">F Statistic</td><td>26.645<sup>***</sup> (df=7; 116)</td><td>21.911<sup>***</sup> (df=7; 79)</td><td>23.628<sup>***</sup> (df=7; 227)</td></tr><tr><td colspan=\"4\" style=\"border-bottom: 1px solid black\"></td></tr><tr><td style=\"text-align: left\">Note:</td>\n",
       " <td colspan=\"3\" style=\"text-align: right\">\n",
       "  <sup>*</sup>p&lt;0.1;\n",
       "  <sup>**</sup>p&lt;0.05;\n",
       "  <sup>***</sup>p&lt;0.01\n",
       " </td></tr></table>"
      ],
      "text/plain": [
       "<stargazer.stargazer.Stargazer at 0x16c5ad4b0>"
      ]
     },
     "execution_count": 59,
     "metadata": {},
     "output_type": "execute_result"
    }
   ],
   "source": [
    "table = Stargazer([reg_v, reg_a, reg_b])\n",
    "table.custom_columns([\"Vienna\", \"Amsterdam\", \"Barcelona\"], [1, 1, 1])\n",
    "table"
   ]
  },
  {
   "cell_type": "markdown",
   "id": "e6548d4d",
   "metadata": {},
   "source": [
    "### Extra:\n",
    " In prediction competitions usually there is a training/available sample\\\n",
    "   and a test/locked sample for the competitors. \\\n",
    "   The task is to build a model which gives the best prediction (according to a pre-defined measure)\n",
    "   \n",
    " E.g. uses our original sample, and create a train-test split using the sklean package"
   ]
  },
  {
   "cell_type": "code",
   "execution_count": 60,
   "id": "8798c7ec",
   "metadata": {},
   "outputs": [],
   "source": [
    "from sklearn.model_selection import train_test_split\n",
    "\n",
    "vienna_train, vienna_test = train_test_split(vienna, train_size=150, random_state=234)"
   ]
  },
  {
   "cell_type": "markdown",
   "id": "ca017cf1",
   "metadata": {},
   "source": [
    "Let us use two competing models:\n",
    "\n",
    "model 1: simple multivariate model\n"
   ]
  },
  {
   "cell_type": "code",
   "execution_count": 61,
   "id": "84fe3ab6",
   "metadata": {},
   "outputs": [],
   "source": [
    "pred_m1 = smf.ols(\n",
    "    \"lnprice ~ distance + rating + star3 + star35\", data=vienna_train\n",
    ").fit()"
   ]
  },
  {
   "cell_type": "markdown",
   "id": "e5344db2",
   "metadata": {},
   "source": [
    "model 2: multivariate model with linear splines"
   ]
  },
  {
   "cell_type": "code",
   "execution_count": 62,
   "id": "525d668a",
   "metadata": {},
   "outputs": [],
   "source": [
    "pred_m2 = smf.ols(m_form, data=vienna_train).fit()"
   ]
  },
  {
   "cell_type": "markdown",
   "id": "bca44b6d",
   "metadata": {},
   "source": [
    "Now let us use these models on our test sample to predict the values"
   ]
  },
  {
   "cell_type": "code",
   "execution_count": 63,
   "id": "4fbf160f",
   "metadata": {},
   "outputs": [],
   "source": [
    "pred_compare = pd.DataFrame(\n",
    "    [\n",
    "        pred_m1.predict(vienna_test),\n",
    "        pred_m2.predict(vienna_test),\n",
    "        vienna_test[\"lnprice\"],\n",
    "    ],\n",
    "    index=[\"m1_lnprice\", \"m2_lnprice\", \"actual_lnprice\"],\n",
    ").T"
   ]
  },
  {
   "cell_type": "markdown",
   "id": "e10f4a45",
   "metadata": {},
   "source": [
    "If you want to visualize"
   ]
  },
  {
   "cell_type": "code",
   "execution_count": 64,
   "id": "a69de251",
   "metadata": {},
   "outputs": [
    {
     "data": {
      "text/plain": [
       "(57, 3)"
      ]
     },
     "execution_count": 64,
     "metadata": {},
     "output_type": "execute_result"
    }
   ],
   "source": [
    "pred_compare.shape"
   ]
  },
  {
   "cell_type": "code",
   "execution_count": 65,
   "id": "78541e0b",
   "metadata": {},
   "outputs": [
    {
     "data": {
      "image/png": "[encoded data removed]",
      "text/plain": [
       "<Figure size 640x480 with 1 Axes>"
      ]
     },
     "metadata": {},
     "output_type": "display_data"
    },
    {
     "data": {
      "text/plain": [
       "<ggplot: (382079127)>"
      ]
     },
     "execution_count": 65,
     "metadata": {},
     "output_type": "execute_result"
    }
   ],
   "source": [
    "(\n",
    "    ggplot(pred_compare)\n",
    "    + geom_point(aes(x=\"actual_lnprice\", y=\"m1_lnprice\"), color=\"red\", size=2)\n",
    "    + geom_point(aes(x=\"actual_lnprice\", y=\"m2_lnprice\"), color=\"blue\", size=2)\n",
    "    + geom_line(aes(x=\"actual_lnprice\", y=\"actual_lnprice\"), color=\"black\", size=1)\n",
    "    + labs(x=\"Actual log price\", y=\"Predicted log prices\")\n",
    "    + coord_cartesian(xlim=(3.7, 5.5), ylim=(3.7, 5.5))\n",
    "    + theme_bw()\n",
    ")"
   ]
  },
  {
   "cell_type": "markdown",
   "id": "c64cbb5f",
   "metadata": {},
   "source": [
    "Evaluate according to RMSE measure:"
   ]
  },
  {
   "cell_type": "code",
   "execution_count": 66,
   "id": "df85c28b",
   "metadata": {},
   "outputs": [],
   "source": [
    "from sklearn.metrics import mean_squared_error"
   ]
  },
  {
   "cell_type": "markdown",
   "id": "b1c5a008",
   "metadata": {},
   "source": [
    "The two rmse values"
   ]
  },
  {
   "cell_type": "code",
   "execution_count": 67,
   "id": "8a36385c",
   "metadata": {},
   "outputs": [
    {
     "data": {
      "text/plain": [
       "0.26814010722331905"
      ]
     },
     "execution_count": 67,
     "metadata": {},
     "output_type": "execute_result"
    }
   ],
   "source": [
    "mean_squared_error(\n",
    "    pred_compare[\"actual_lnprice\"], pred_compare[\"m1_lnprice\"], squared=False\n",
    ")"
   ]
  },
  {
   "cell_type": "code",
   "execution_count": 68,
   "id": "8b424ea2",
   "metadata": {},
   "outputs": [
    {
     "data": {
      "text/plain": [
       "0.2193155433380613"
      ]
     },
     "execution_count": 68,
     "metadata": {},
     "output_type": "execute_result"
    }
   ],
   "source": [
    "mean_squared_error(\n",
    "    pred_compare[\"actual_lnprice\"], pred_compare[\"m2_lnprice\"], squared=False\n",
    ")"
   ]
  },
  {
   "cell_type": "markdown",
   "id": "972bf389",
   "metadata": {},
   "source": [
    "Therefore model 2 wins this competition according to RMSE measure."
   ]
  },
  {
   "cell_type": "code",
   "execution_count": null,
   "id": "db000d2e",
   "metadata": {},
   "outputs": [],
   "source": []
  }
 ],
 "metadata": {
  "kernelspec": {
   "display_name": "Python 3 (ipykernel)",
   "language": "python",
   "name": "python3"
  },
  "language_info": {
   "codemirror_mode": {
    "name": "ipython",
    "version": 3
   },
   "file_extension": ".py",
   "mimetype": "text/x-python",
   "name": "python",
   "nbconvert_exporter": "python",
   "pygments_lexer": "ipython3",
   "version": "3.10.1"
  }
 },
 "nbformat": 4,
 "nbformat_minor": 5
}
