{
 "cells": [
  {
   "cell_type": "markdown",
   "id": "34bc10d8",
   "metadata": {},
   "source": [
    "                                            \n",
    " ##             Lecture 16                    \n",
    "                                            \n",
    "Binary/Probability models                 \n",
    "  - Saturated Probability Models          \n",
    "    - calculate weights and               \n",
    "        estimating models                 \n",
    "    - plot a simple binary model          \n",
    "    - predicted and true outcome          \n",
    "  - Functional form decision              \n",
    "  - Multiple Regression w binary outcome  \n",
    "    - characteristics of predicted groups \n",
    "  - Logit and Probit models               \n",
    "    - simple estimates                    \n",
    "    - average marginal effects            \n",
    "  - Model comparison of non-linear models \n",
    "    - Goodness-of-fit statistics:         \n",
    "    R2, Pseudo-R2, Brier score, Log-loss  \n",
    "    - Visual inspection:                  \n",
    "    distribution of prediction by outcome \n",
    "    - summary stats for predictions       \n",
    "        by outcome                        \n",
    "    - Bias and calibration curve          \n",
    "                                            \n",
    "                                            \n",
    "Case Study:                                 \n",
    "  - Does Smoking Pose a Health Risk           \n",
    "                                            \n",
    "Dataset used:                               \n",
    "  - share-health                            "
   ]
  },
  {
   "cell_type": "markdown",
   "id": "0bf7e3a1",
   "metadata": {},
   "source": [
    "Import packages"
   ]
  },
  {
   "cell_type": "code",
   "execution_count": 1,
   "id": "48234bd9",
   "metadata": {},
   "outputs": [],
   "source": [
    "import pandas as pd\n",
    "import numpy as np\n",
    "from plotnine import *\n",
    "from mizani.formatters import percent_format\n",
    "import statsmodels.api as sm\n",
    "import statsmodels.formula.api as smf\n",
    "from stargazer.stargazer import Stargazer"
   ]
  },
  {
   "cell_type": "markdown",
   "id": "da047cc8",
   "metadata": {},
   "source": [
    "Import data"
   ]
  },
  {
   "cell_type": "code",
   "execution_count": 2,
   "id": "d4e550a5",
   "metadata": {},
   "outputs": [],
   "source": [
    "share = pd.read_csv(\"https://osf.io/3ze58/download\")"
   ]
  },
  {
   "cell_type": "markdown",
   "id": "fbd9c22e",
   "metadata": {},
   "source": [
    "Check all the data - quick description \n",
    "\n",
    "(All except country_str, but it is implied in country_mod)"
   ]
  },
  {
   "cell_type": "code",
   "execution_count": 3,
   "id": "44916bf1",
   "metadata": {},
   "outputs": [
    {
     "data": {
      "text/html": [
       "<div>\n",
       "<style scoped>\n",
       "    .dataframe tbody tr th:only-of-type {\n",
       "        vertical-align: middle;\n",
       "    }\n",
       "\n",
       "    .dataframe tbody tr th {\n",
       "        vertical-align: top;\n",
       "    }\n",
       "\n",
       "    .dataframe thead th {\n",
       "        text-align: right;\n",
       "    }\n",
       "</style>\n",
       "<table border=\"1\" class=\"dataframe\">\n",
       "  <thead>\n",
       "    <tr style=\"text-align: right;\">\n",
       "      <th></th>\n",
       "      <th>ID</th>\n",
       "      <th>wave</th>\n",
       "      <th>country</th>\n",
       "      <th>country_mod</th>\n",
       "      <th>int_year</th>\n",
       "      <th>int_month</th>\n",
       "      <th>female</th>\n",
       "      <th>age</th>\n",
       "      <th>sphus</th>\n",
       "      <th>br015</th>\n",
       "      <th>...</th>\n",
       "      <th>income10</th>\n",
       "      <th>bmi</th>\n",
       "      <th>mar_stat</th>\n",
       "      <th>healthy</th>\n",
       "      <th>baseline</th>\n",
       "      <th>endline</th>\n",
       "      <th>stayshealthy</th>\n",
       "      <th>married</th>\n",
       "      <th>exerc</th>\n",
       "      <th>eduyears</th>\n",
       "    </tr>\n",
       "  </thead>\n",
       "  <tbody>\n",
       "    <tr>\n",
       "      <th>count</th>\n",
       "      <td>3272.000000</td>\n",
       "      <td>3272.0</td>\n",
       "      <td>3272.000000</td>\n",
       "      <td>3272.000000</td>\n",
       "      <td>3272.000000</td>\n",
       "      <td>3272.000000</td>\n",
       "      <td>3272.000000</td>\n",
       "      <td>3272.000000</td>\n",
       "      <td>3272.000000</td>\n",
       "      <td>3272.000000</td>\n",
       "      <td>...</td>\n",
       "      <td>3272.000000</td>\n",
       "      <td>3197.000000</td>\n",
       "      <td>3272.000000</td>\n",
       "      <td>3272.0</td>\n",
       "      <td>3272.0</td>\n",
       "      <td>3272.0</td>\n",
       "      <td>3272.000000</td>\n",
       "      <td>3272.000000</td>\n",
       "      <td>3271.000000</td>\n",
       "      <td>3184.000000</td>\n",
       "    </tr>\n",
       "    <tr>\n",
       "      <th>mean</th>\n",
       "      <td>1636.500000</td>\n",
       "      <td>4.0</td>\n",
       "      <td>20.311125</td>\n",
       "      <td>345.395171</td>\n",
       "      <td>2010.999389</td>\n",
       "      <td>6.143643</td>\n",
       "      <td>0.565403</td>\n",
       "      <td>55.207182</td>\n",
       "      <td>1.698350</td>\n",
       "      <td>2.013142</td>\n",
       "      <td>...</td>\n",
       "      <td>6.762225</td>\n",
       "      <td>25.536357</td>\n",
       "      <td>1.976467</td>\n",
       "      <td>1.0</td>\n",
       "      <td>1.0</td>\n",
       "      <td>0.0</td>\n",
       "      <td>0.599633</td>\n",
       "      <td>0.741137</td>\n",
       "      <td>0.520330</td>\n",
       "      <td>12.311401</td>\n",
       "    </tr>\n",
       "    <tr>\n",
       "      <th>std</th>\n",
       "      <td>944.689367</td>\n",
       "      <td>0.0</td>\n",
       "      <td>6.865731</td>\n",
       "      <td>273.018251</td>\n",
       "      <td>0.154420</td>\n",
       "      <td>2.560338</td>\n",
       "      <td>0.495780</td>\n",
       "      <td>2.792197</td>\n",
       "      <td>0.459044</td>\n",
       "      <td>1.253602</td>\n",
       "      <td>...</td>\n",
       "      <td>2.751671</td>\n",
       "      <td>3.904651</td>\n",
       "      <td>1.702695</td>\n",
       "      <td>0.0</td>\n",
       "      <td>0.0</td>\n",
       "      <td>0.0</td>\n",
       "      <td>0.490048</td>\n",
       "      <td>0.438077</td>\n",
       "      <td>0.499663</td>\n",
       "      <td>4.566385</td>\n",
       "    </tr>\n",
       "    <tr>\n",
       "      <th>min</th>\n",
       "      <td>1.000000</td>\n",
       "      <td>4.0</td>\n",
       "      <td>11.000000</td>\n",
       "      <td>40.000000</td>\n",
       "      <td>2010.000000</td>\n",
       "      <td>1.000000</td>\n",
       "      <td>0.000000</td>\n",
       "      <td>50.000000</td>\n",
       "      <td>1.000000</td>\n",
       "      <td>-12.000000</td>\n",
       "      <td>...</td>\n",
       "      <td>1.000000</td>\n",
       "      <td>16.326530</td>\n",
       "      <td>-12.000000</td>\n",
       "      <td>1.0</td>\n",
       "      <td>1.0</td>\n",
       "      <td>0.0</td>\n",
       "      <td>0.000000</td>\n",
       "      <td>0.000000</td>\n",
       "      <td>0.000000</td>\n",
       "      <td>0.000000</td>\n",
       "    </tr>\n",
       "    <tr>\n",
       "      <th>25%</th>\n",
       "      <td>818.750000</td>\n",
       "      <td>4.0</td>\n",
       "      <td>16.000000</td>\n",
       "      <td>56.000000</td>\n",
       "      <td>2011.000000</td>\n",
       "      <td>4.000000</td>\n",
       "      <td>0.000000</td>\n",
       "      <td>52.799999</td>\n",
       "      <td>1.000000</td>\n",
       "      <td>1.000000</td>\n",
       "      <td>...</td>\n",
       "      <td>5.000000</td>\n",
       "      <td>22.837370</td>\n",
       "      <td>1.000000</td>\n",
       "      <td>1.0</td>\n",
       "      <td>1.0</td>\n",
       "      <td>0.0</td>\n",
       "      <td>0.000000</td>\n",
       "      <td>0.000000</td>\n",
       "      <td>0.000000</td>\n",
       "      <td>10.000000</td>\n",
       "    </tr>\n",
       "    <tr>\n",
       "      <th>50%</th>\n",
       "      <td>1636.500000</td>\n",
       "      <td>4.0</td>\n",
       "      <td>18.000000</td>\n",
       "      <td>233.000000</td>\n",
       "      <td>2011.000000</td>\n",
       "      <td>6.000000</td>\n",
       "      <td>1.000000</td>\n",
       "      <td>55.299999</td>\n",
       "      <td>2.000000</td>\n",
       "      <td>1.000000</td>\n",
       "      <td>...</td>\n",
       "      <td>7.000000</td>\n",
       "      <td>25.099501</td>\n",
       "      <td>1.000000</td>\n",
       "      <td>1.0</td>\n",
       "      <td>1.0</td>\n",
       "      <td>0.0</td>\n",
       "      <td>1.000000</td>\n",
       "      <td>1.000000</td>\n",
       "      <td>1.000000</td>\n",
       "      <td>12.000000</td>\n",
       "    </tr>\n",
       "    <tr>\n",
       "      <th>75%</th>\n",
       "      <td>2454.250000</td>\n",
       "      <td>4.0</td>\n",
       "      <td>23.000000</td>\n",
       "      <td>705.000000</td>\n",
       "      <td>2011.000000</td>\n",
       "      <td>8.000000</td>\n",
       "      <td>1.000000</td>\n",
       "      <td>57.599998</td>\n",
       "      <td>2.000000</td>\n",
       "      <td>3.000000</td>\n",
       "      <td>...</td>\n",
       "      <td>9.000000</td>\n",
       "      <td>27.774424</td>\n",
       "      <td>3.000000</td>\n",
       "      <td>1.0</td>\n",
       "      <td>1.0</td>\n",
       "      <td>0.0</td>\n",
       "      <td>1.000000</td>\n",
       "      <td>1.000000</td>\n",
       "      <td>1.000000</td>\n",
       "      <td>16.000000</td>\n",
       "    </tr>\n",
       "    <tr>\n",
       "      <th>max</th>\n",
       "      <td>3272.000000</td>\n",
       "      <td>4.0</td>\n",
       "      <td>35.000000</td>\n",
       "      <td>756.000000</td>\n",
       "      <td>2012.000000</td>\n",
       "      <td>12.000000</td>\n",
       "      <td>1.000000</td>\n",
       "      <td>60.000000</td>\n",
       "      <td>2.000000</td>\n",
       "      <td>4.000000</td>\n",
       "      <td>...</td>\n",
       "      <td>10.000000</td>\n",
       "      <td>45.632774</td>\n",
       "      <td>6.000000</td>\n",
       "      <td>1.0</td>\n",
       "      <td>1.0</td>\n",
       "      <td>0.0</td>\n",
       "      <td>1.000000</td>\n",
       "      <td>1.000000</td>\n",
       "      <td>1.000000</td>\n",
       "      <td>25.000000</td>\n",
       "    </tr>\n",
       "  </tbody>\n",
       "</table>\n",
       "<p>8 rows × 22 columns</p>\n",
       "</div>"
      ],
      "text/plain": [
       "                ID    wave      country  country_mod     int_year  \\\n",
       "count  3272.000000  3272.0  3272.000000  3272.000000  3272.000000   \n",
       "mean   1636.500000     4.0    20.311125   345.395171  2010.999389   \n",
       "std     944.689367     0.0     6.865731   273.018251     0.154420   \n",
       "min       1.000000     4.0    11.000000    40.000000  2010.000000   \n",
       "25%     818.750000     4.0    16.000000    56.000000  2011.000000   \n",
       "50%    1636.500000     4.0    18.000000   233.000000  2011.000000   \n",
       "75%    2454.250000     4.0    23.000000   705.000000  2011.000000   \n",
       "max    3272.000000     4.0    35.000000   756.000000  2012.000000   \n",
       "\n",
       "         int_month       female          age        sphus        br015  ...  \\\n",
       "count  3272.000000  3272.000000  3272.000000  3272.000000  3272.000000  ...   \n",
       "mean      6.143643     0.565403    55.207182     1.698350     2.013142  ...   \n",
       "std       2.560338     0.495780     2.792197     0.459044     1.253602  ...   \n",
       "min       1.000000     0.000000    50.000000     1.000000   -12.000000  ...   \n",
       "25%       4.000000     0.000000    52.799999     1.000000     1.000000  ...   \n",
       "50%       6.000000     1.000000    55.299999     2.000000     1.000000  ...   \n",
       "75%       8.000000     1.000000    57.599998     2.000000     3.000000  ...   \n",
       "max      12.000000     1.000000    60.000000     2.000000     4.000000  ...   \n",
       "\n",
       "          income10          bmi     mar_stat  healthy  baseline  endline  \\\n",
       "count  3272.000000  3197.000000  3272.000000   3272.0    3272.0   3272.0   \n",
       "mean      6.762225    25.536357     1.976467      1.0       1.0      0.0   \n",
       "std       2.751671     3.904651     1.702695      0.0       0.0      0.0   \n",
       "min       1.000000    16.326530   -12.000000      1.0       1.0      0.0   \n",
       "25%       5.000000    22.837370     1.000000      1.0       1.0      0.0   \n",
       "50%       7.000000    25.099501     1.000000      1.0       1.0      0.0   \n",
       "75%       9.000000    27.774424     3.000000      1.0       1.0      0.0   \n",
       "max      10.000000    45.632774     6.000000      1.0       1.0      0.0   \n",
       "\n",
       "       stayshealthy      married        exerc     eduyears  \n",
       "count   3272.000000  3272.000000  3271.000000  3184.000000  \n",
       "mean       0.599633     0.741137     0.520330    12.311401  \n",
       "std        0.490048     0.438077     0.499663     4.566385  \n",
       "min        0.000000     0.000000     0.000000     0.000000  \n",
       "25%        0.000000     0.000000     0.000000    10.000000  \n",
       "50%        1.000000     1.000000     1.000000    12.000000  \n",
       "75%        1.000000     1.000000     1.000000    16.000000  \n",
       "max        1.000000     1.000000     1.000000    25.000000  \n",
       "\n",
       "[8 rows x 22 columns]"
      ]
     },
     "execution_count": 3,
     "metadata": {},
     "output_type": "execute_result"
    }
   ],
   "source": [
    "share.describe()"
   ]
  },
  {
   "cell_type": "markdown",
   "id": "dd578d55",
   "metadata": {},
   "source": [
    "Remove if any of important variable is missing "
   ]
  },
  {
   "cell_type": "code",
   "execution_count": 4,
   "id": "8f17badf",
   "metadata": {},
   "outputs": [],
   "source": [
    "share = (\n",
    "    share.loc[share[\"bmi\"].notnull()]\n",
    "    .loc[share[\"eduyears\"].notnull()]\n",
    "    .loc[share[\"exerc\"].notnull()]\n",
    ")"
   ]
  },
  {
   "cell_type": "markdown",
   "id": "808da021",
   "metadata": {},
   "source": [
    "Make descriptive statistics for thery based selected variables"
   ]
  },
  {
   "cell_type": "code",
   "execution_count": 5,
   "id": "e82ec208",
   "metadata": {},
   "outputs": [
    {
     "data": {
      "text/html": [
       "<div>\n",
       "<style scoped>\n",
       "    .dataframe tbody tr th:only-of-type {\n",
       "        vertical-align: middle;\n",
       "    }\n",
       "\n",
       "    .dataframe tbody tr th {\n",
       "        vertical-align: top;\n",
       "    }\n",
       "\n",
       "    .dataframe thead th {\n",
       "        text-align: right;\n",
       "    }\n",
       "</style>\n",
       "<table border=\"1\" class=\"dataframe\">\n",
       "  <thead>\n",
       "    <tr style=\"text-align: right;\">\n",
       "      <th></th>\n",
       "      <th>count</th>\n",
       "      <th>mean</th>\n",
       "      <th>std</th>\n",
       "      <th>min</th>\n",
       "      <th>25%</th>\n",
       "      <th>50%</th>\n",
       "      <th>75%</th>\n",
       "      <th>max</th>\n",
       "    </tr>\n",
       "  </thead>\n",
       "  <tbody>\n",
       "    <tr>\n",
       "      <th>stayshealthy</th>\n",
       "      <td>3109.0</td>\n",
       "      <td>0.604696</td>\n",
       "      <td>0.488995</td>\n",
       "      <td>0.00000</td>\n",
       "      <td>0.000000</td>\n",
       "      <td>1.000000</td>\n",
       "      <td>1.000000</td>\n",
       "      <td>1.000000</td>\n",
       "    </tr>\n",
       "    <tr>\n",
       "      <th>smoking</th>\n",
       "      <td>3109.0</td>\n",
       "      <td>0.223866</td>\n",
       "      <td>0.416900</td>\n",
       "      <td>0.00000</td>\n",
       "      <td>0.000000</td>\n",
       "      <td>0.000000</td>\n",
       "      <td>0.000000</td>\n",
       "      <td>1.000000</td>\n",
       "    </tr>\n",
       "    <tr>\n",
       "      <th>ever_smoked</th>\n",
       "      <td>3109.0</td>\n",
       "      <td>0.492120</td>\n",
       "      <td>0.500018</td>\n",
       "      <td>0.00000</td>\n",
       "      <td>0.000000</td>\n",
       "      <td>0.000000</td>\n",
       "      <td>1.000000</td>\n",
       "      <td>1.000000</td>\n",
       "    </tr>\n",
       "    <tr>\n",
       "      <th>female</th>\n",
       "      <td>3109.0</td>\n",
       "      <td>0.560952</td>\n",
       "      <td>0.496351</td>\n",
       "      <td>0.00000</td>\n",
       "      <td>0.000000</td>\n",
       "      <td>1.000000</td>\n",
       "      <td>1.000000</td>\n",
       "      <td>1.000000</td>\n",
       "    </tr>\n",
       "    <tr>\n",
       "      <th>age</th>\n",
       "      <td>3109.0</td>\n",
       "      <td>55.187617</td>\n",
       "      <td>2.788072</td>\n",
       "      <td>50.00000</td>\n",
       "      <td>52.799999</td>\n",
       "      <td>55.299999</td>\n",
       "      <td>57.500000</td>\n",
       "      <td>60.000000</td>\n",
       "    </tr>\n",
       "    <tr>\n",
       "      <th>income10</th>\n",
       "      <td>3109.0</td>\n",
       "      <td>6.790286</td>\n",
       "      <td>2.745141</td>\n",
       "      <td>1.00000</td>\n",
       "      <td>5.000000</td>\n",
       "      <td>7.000000</td>\n",
       "      <td>9.000000</td>\n",
       "      <td>10.000000</td>\n",
       "    </tr>\n",
       "    <tr>\n",
       "      <th>eduyears</th>\n",
       "      <td>3109.0</td>\n",
       "      <td>12.330814</td>\n",
       "      <td>4.556630</td>\n",
       "      <td>0.00000</td>\n",
       "      <td>10.000000</td>\n",
       "      <td>13.000000</td>\n",
       "      <td>16.000000</td>\n",
       "      <td>25.000000</td>\n",
       "    </tr>\n",
       "    <tr>\n",
       "      <th>bmi</th>\n",
       "      <td>3109.0</td>\n",
       "      <td>25.531596</td>\n",
       "      <td>3.905711</td>\n",
       "      <td>16.32653</td>\n",
       "      <td>22.837370</td>\n",
       "      <td>25.099501</td>\n",
       "      <td>27.774271</td>\n",
       "      <td>45.632774</td>\n",
       "    </tr>\n",
       "    <tr>\n",
       "      <th>exerc</th>\n",
       "      <td>3109.0</td>\n",
       "      <td>0.523963</td>\n",
       "      <td>0.499506</td>\n",
       "      <td>0.00000</td>\n",
       "      <td>0.000000</td>\n",
       "      <td>1.000000</td>\n",
       "      <td>1.000000</td>\n",
       "      <td>1.000000</td>\n",
       "    </tr>\n",
       "  </tbody>\n",
       "</table>\n",
       "</div>"
      ],
      "text/plain": [
       "               count       mean       std       min        25%        50%  \\\n",
       "stayshealthy  3109.0   0.604696  0.488995   0.00000   0.000000   1.000000   \n",
       "smoking       3109.0   0.223866  0.416900   0.00000   0.000000   0.000000   \n",
       "ever_smoked   3109.0   0.492120  0.500018   0.00000   0.000000   0.000000   \n",
       "female        3109.0   0.560952  0.496351   0.00000   0.000000   1.000000   \n",
       "age           3109.0  55.187617  2.788072  50.00000  52.799999  55.299999   \n",
       "income10      3109.0   6.790286  2.745141   1.00000   5.000000   7.000000   \n",
       "eduyears      3109.0  12.330814  4.556630   0.00000  10.000000  13.000000   \n",
       "bmi           3109.0  25.531596  3.905711  16.32653  22.837370  25.099501   \n",
       "exerc         3109.0   0.523963  0.499506   0.00000   0.000000   1.000000   \n",
       "\n",
       "                    75%        max  \n",
       "stayshealthy   1.000000   1.000000  \n",
       "smoking        0.000000   1.000000  \n",
       "ever_smoked    1.000000   1.000000  \n",
       "female         1.000000   1.000000  \n",
       "age           57.500000  60.000000  \n",
       "income10       9.000000  10.000000  \n",
       "eduyears      16.000000  25.000000  \n",
       "bmi           27.774271  45.632774  \n",
       "exerc          1.000000   1.000000  "
      ]
     },
     "execution_count": 5,
     "metadata": {},
     "output_type": "execute_result"
    }
   ],
   "source": [
    "share.filter(\n",
    "    [\n",
    "        \"stayshealthy\",\n",
    "        \"smoking\",\n",
    "        \"ever_smoked\",\n",
    "        \"female\",\n",
    "        \"age\",\n",
    "        \"income10\",\n",
    "        \"eduyears\",\n",
    "        \"bmi\",\n",
    "        \"exerc\",\n",
    "    ]\n",
    ").describe().T"
   ]
  },
  {
   "cell_type": "markdown",
   "id": "9f56757c",
   "metadata": {},
   "source": [
    "## 1) Saturated Linear Probability Models\n",
    "\n",
    "y is stayshealthy\n",
    "\n",
    "Linear probability models of good health at endline and smoking\n"
   ]
  },
  {
   "cell_type": "markdown",
   "id": "e397b9e6",
   "metadata": {},
   "source": [
    " 1st model:current smoker on RHS"
   ]
  },
  {
   "cell_type": "code",
   "execution_count": 6,
   "id": "6cbf12d1",
   "metadata": {},
   "outputs": [
    {
     "data": {
      "text/html": [
       "<table class=\"simpletable\">\n",
       "<caption>OLS Regression Results</caption>\n",
       "<tr>\n",
       "  <th>Dep. Variable:</th>      <td>stayshealthy</td>   <th>  R-squared:         </th> <td>   0.004</td>\n",
       "</tr>\n",
       "<tr>\n",
       "  <th>Model:</th>                   <td>OLS</td>       <th>  Adj. R-squared:    </th> <td>   0.003</td>\n",
       "</tr>\n",
       "<tr>\n",
       "  <th>Method:</th>             <td>Least Squares</td>  <th>  F-statistic:       </th> <td>   10.82</td>\n",
       "</tr>\n",
       "<tr>\n",
       "  <th>Date:</th>             <td>Wed, 20 Jul 2022</td> <th>  Prob (F-statistic):</th>  <td>0.00102</td>\n",
       "</tr>\n",
       "<tr>\n",
       "  <th>Time:</th>                 <td>18:10:50</td>     <th>  Log-Likelihood:    </th> <td> -2181.2</td>\n",
       "</tr>\n",
       "<tr>\n",
       "  <th>No. Observations:</th>      <td>  3109</td>      <th>  AIC:               </th> <td>   4366.</td>\n",
       "</tr>\n",
       "<tr>\n",
       "  <th>Df Residuals:</th>          <td>  3107</td>      <th>  BIC:               </th> <td>   4379.</td>\n",
       "</tr>\n",
       "<tr>\n",
       "  <th>Df Model:</th>              <td>     1</td>      <th>                     </th>     <td> </td>   \n",
       "</tr>\n",
       "<tr>\n",
       "  <th>Covariance Type:</th>         <td>HC3</td>       <th>                     </th>     <td> </td>   \n",
       "</tr>\n",
       "</table>\n",
       "<table class=\"simpletable\">\n",
       "<tr>\n",
       "      <td></td>         <th>coef</th>     <th>std err</th>      <th>z</th>      <th>P>|z|</th>  <th>[0.025</th>    <th>0.975]</th>  \n",
       "</tr>\n",
       "<tr>\n",
       "  <th>Intercept</th> <td>    0.6204</td> <td>    0.010</td> <td>   62.771</td> <td> 0.000</td> <td>    0.601</td> <td>    0.640</td>\n",
       "</tr>\n",
       "<tr>\n",
       "  <th>smoking</th>   <td>   -0.0701</td> <td>    0.021</td> <td>   -3.289</td> <td> 0.001</td> <td>   -0.112</td> <td>   -0.028</td>\n",
       "</tr>\n",
       "</table>\n",
       "<table class=\"simpletable\">\n",
       "<tr>\n",
       "  <th>Omnibus:</th>       <td>12627.714</td> <th>  Durbin-Watson:     </th> <td>   1.845</td> \n",
       "</tr>\n",
       "<tr>\n",
       "  <th>Prob(Omnibus):</th>  <td> 0.000</td>   <th>  Jarque-Bera (JB):  </th> <td> 515.339</td> \n",
       "</tr>\n",
       "<tr>\n",
       "  <th>Skew:</th>           <td>-0.427</td>   <th>  Prob(JB):          </th> <td>1.25e-112</td>\n",
       "</tr>\n",
       "<tr>\n",
       "  <th>Kurtosis:</th>       <td> 1.197</td>   <th>  Cond. No.          </th> <td>    2.54</td> \n",
       "</tr>\n",
       "</table><br/><br/>Notes:<br/>[1] Standard Errors are heteroscedasticity robust (HC3)"
      ],
      "text/plain": [
       "<class 'statsmodels.iolib.summary.Summary'>\n",
       "\"\"\"\n",
       "                            OLS Regression Results                            \n",
       "==============================================================================\n",
       "Dep. Variable:           stayshealthy   R-squared:                       0.004\n",
       "Model:                            OLS   Adj. R-squared:                  0.003\n",
       "Method:                 Least Squares   F-statistic:                     10.82\n",
       "Date:                Wed, 20 Jul 2022   Prob (F-statistic):            0.00102\n",
       "Time:                        18:10:50   Log-Likelihood:                -2181.2\n",
       "No. Observations:                3109   AIC:                             4366.\n",
       "Df Residuals:                    3107   BIC:                             4379.\n",
       "Df Model:                           1                                         \n",
       "Covariance Type:                  HC3                                         \n",
       "==============================================================================\n",
       "                 coef    std err          z      P>|z|      [0.025      0.975]\n",
       "------------------------------------------------------------------------------\n",
       "Intercept      0.6204      0.010     62.771      0.000       0.601       0.640\n",
       "smoking       -0.0701      0.021     -3.289      0.001      -0.112      -0.028\n",
       "==============================================================================\n",
       "Omnibus:                    12627.714   Durbin-Watson:                   1.845\n",
       "Prob(Omnibus):                  0.000   Jarque-Bera (JB):              515.339\n",
       "Skew:                          -0.427   Prob(JB):                    1.25e-112\n",
       "Kurtosis:                       1.197   Cond. No.                         2.54\n",
       "==============================================================================\n",
       "\n",
       "Notes:\n",
       "[1] Standard Errors are heteroscedasticity robust (HC3)\n",
       "\"\"\""
      ]
     },
     "execution_count": 6,
     "metadata": {},
     "output_type": "execute_result"
    }
   ],
   "source": [
    "lpm1 = smf.ols(\"stayshealthy ~ smoking\", data=share).fit(cov_type =\"HC3\")\n",
    "lpm1.summary()"
   ]
  },
  {
   "cell_type": "markdown",
   "id": "f2fa1143",
   "metadata": {},
   "source": [
    "Get the predicted values"
   ]
  },
  {
   "cell_type": "code",
   "execution_count": 7,
   "id": "ad2fd157",
   "metadata": {},
   "outputs": [],
   "source": [
    "share[\"pred1\"] = lpm1.predict()"
   ]
  },
  {
   "cell_type": "markdown",
   "id": "64305620",
   "metadata": {},
   "source": [
    "Compare smoking with predicted values and real outcomes\n",
    "\n",
    "1) Predicted vs smoking\n"
   ]
  },
  {
   "cell_type": "code",
   "execution_count": 8,
   "id": "c7c9fba4",
   "metadata": {},
   "outputs": [
    {
     "data": {
      "text/html": [
       "<div>\n",
       "<style scoped>\n",
       "    .dataframe tbody tr th:only-of-type {\n",
       "        vertical-align: middle;\n",
       "    }\n",
       "\n",
       "    .dataframe tbody tr th {\n",
       "        vertical-align: top;\n",
       "    }\n",
       "\n",
       "    .dataframe thead th {\n",
       "        text-align: right;\n",
       "    }\n",
       "</style>\n",
       "<table border=\"1\" class=\"dataframe\">\n",
       "  <thead>\n",
       "    <tr style=\"text-align: right;\">\n",
       "      <th>smoking</th>\n",
       "      <th>0</th>\n",
       "      <th>1</th>\n",
       "    </tr>\n",
       "    <tr>\n",
       "      <th>pred1</th>\n",
       "      <th></th>\n",
       "      <th></th>\n",
       "    </tr>\n",
       "  </thead>\n",
       "  <tbody>\n",
       "    <tr>\n",
       "      <th>0.550287</th>\n",
       "      <td>0</td>\n",
       "      <td>696</td>\n",
       "    </tr>\n",
       "    <tr>\n",
       "      <th>0.620390</th>\n",
       "      <td>2413</td>\n",
       "      <td>0</td>\n",
       "    </tr>\n",
       "  </tbody>\n",
       "</table>\n",
       "</div>"
      ],
      "text/plain": [
       "smoking      0    1\n",
       "pred1              \n",
       "0.550287     0  696\n",
       "0.620390  2413    0"
      ]
     },
     "execution_count": 8,
     "metadata": {},
     "output_type": "execute_result"
    }
   ],
   "source": [
    "pd.crosstab(index=share[\"pred1\"], columns=share[\"smoking\"])"
   ]
  },
  {
   "cell_type": "code",
   "execution_count": 9,
   "id": "2d682a2a",
   "metadata": {},
   "outputs": [
    {
     "data": {
      "text/html": [
       "<div>\n",
       "<style scoped>\n",
       "    .dataframe tbody tr th:only-of-type {\n",
       "        vertical-align: middle;\n",
       "    }\n",
       "\n",
       "    .dataframe tbody tr th {\n",
       "        vertical-align: top;\n",
       "    }\n",
       "\n",
       "    .dataframe thead th {\n",
       "        text-align: right;\n",
       "    }\n",
       "</style>\n",
       "<table border=\"1\" class=\"dataframe\">\n",
       "  <thead>\n",
       "    <tr style=\"text-align: right;\">\n",
       "      <th>smoking</th>\n",
       "      <th>0</th>\n",
       "      <th>1</th>\n",
       "    </tr>\n",
       "    <tr>\n",
       "      <th>stayshealthy</th>\n",
       "      <th></th>\n",
       "      <th></th>\n",
       "    </tr>\n",
       "  </thead>\n",
       "  <tbody>\n",
       "    <tr>\n",
       "      <th>0</th>\n",
       "      <td>916</td>\n",
       "      <td>313</td>\n",
       "    </tr>\n",
       "    <tr>\n",
       "      <th>1</th>\n",
       "      <td>1497</td>\n",
       "      <td>383</td>\n",
       "    </tr>\n",
       "  </tbody>\n",
       "</table>\n",
       "</div>"
      ],
      "text/plain": [
       "smoking          0    1\n",
       "stayshealthy           \n",
       "0              916  313\n",
       "1             1497  383"
      ]
     },
     "execution_count": 9,
     "metadata": {},
     "output_type": "execute_result"
    }
   ],
   "source": [
    "pd.crosstab(index = share['stayshealthy'],columns= share['smoking'])"
   ]
  },
  {
   "cell_type": "markdown",
   "id": "af0a80cc",
   "metadata": {},
   "source": [
    "Create weights for prettier plot"
   ]
  },
  {
   "cell_type": "code",
   "execution_count": 10,
   "id": "4e182d8b",
   "metadata": {},
   "outputs": [],
   "source": [
    "share[\"weight\"] = share.groupby([\"smoking\",\"stayshealthy\"])[\"ID\"].transform(\"count\")\n",
    "share[\"weight_2\"] = share[\"weight\"] / 1000"
   ]
  },
  {
   "cell_type": "markdown",
   "id": "1d41ce73",
   "metadata": {},
   "source": [
    "Show graph with actual and predicted probabilities: LPM\n"
   ]
  },
  {
   "cell_type": "code",
   "execution_count": 11,
   "id": "c534046e",
   "metadata": {},
   "outputs": [
    {
     "data": {
      "image/png": "[encoded data removed]",
      "text/plain": [
       "<Figure size 640x480 with 1 Axes>"
      ]
     },
     "metadata": {},
     "output_type": "display_data"
    },
    {
     "data": {
      "text/plain": [
       "<ggplot: (362387033)>"
      ]
     },
     "execution_count": 11,
     "metadata": {},
     "output_type": "execute_result"
    }
   ],
   "source": [
    "(\n",
    "    ggplot(share)\n",
    "    + geom_point(aes(x=\"smoking\", y=\"pred1\"), size=1, color=\"blue\")\n",
    "    + geom_line(aes(x=\"smoking\", y=\"pred1\"), colour=\"blue\", size=0.7)\n",
    "    + geom_point(\n",
    "        aes(x=\"smoking\", y=\"stayshealthy\", size=\"weight_2\"),\n",
    "        fill=\"red\",\n",
    "        color=\"red\",\n",
    "        alpha=0.8,\n",
    "        na_rm=True,\n",
    "    )\n",
    "    + scale_size_continuous(guide=False)\n",
    "    + labs(x=\"Current smoker\", y=\"Staying healthy / Predicted probability of \")\n",
    "    + coord_cartesian(xlim=(0, 1), ylim=(0, 1))\n",
    "    + scale_y_continuous(limits=(0, 1), breaks=np.arange(0, 1, 0.1))\n",
    "    + scale_x_continuous(limits=(0, 1), breaks=np.arange(0, 1, 1))\n",
    "    + theme_bw()\n",
    ")"
   ]
  },
  {
   "cell_type": "markdown",
   "id": "1be0fb96",
   "metadata": {},
   "source": [
    "2nd model: current smoker and ever smoked on RHS"
   ]
  },
  {
   "cell_type": "code",
   "execution_count": 12,
   "id": "6a362b74",
   "metadata": {},
   "outputs": [
    {
     "data": {
      "text/html": [
       "<table class=\"simpletable\">\n",
       "<caption>OLS Regression Results</caption>\n",
       "<tr>\n",
       "  <th>Dep. Variable:</th>      <td>stayshealthy</td>   <th>  R-squared:         </th> <td>   0.004</td>\n",
       "</tr>\n",
       "<tr>\n",
       "  <th>Model:</th>                   <td>OLS</td>       <th>  Adj. R-squared:    </th> <td>   0.003</td>\n",
       "</tr>\n",
       "<tr>\n",
       "  <th>Method:</th>             <td>Least Squares</td>  <th>  F-statistic:       </th> <td>   5.655</td>\n",
       "</tr>\n",
       "<tr>\n",
       "  <th>Date:</th>             <td>Wed, 20 Jul 2022</td> <th>  Prob (F-statistic):</th>  <td>0.00354</td>\n",
       "</tr>\n",
       "<tr>\n",
       "  <th>Time:</th>                 <td>18:10:50</td>     <th>  Log-Likelihood:    </th> <td> -2181.0</td>\n",
       "</tr>\n",
       "<tr>\n",
       "  <th>No. Observations:</th>      <td>  3109</td>      <th>  AIC:               </th> <td>   4368.</td>\n",
       "</tr>\n",
       "<tr>\n",
       "  <th>Df Residuals:</th>          <td>  3106</td>      <th>  BIC:               </th> <td>   4386.</td>\n",
       "</tr>\n",
       "<tr>\n",
       "  <th>Df Model:</th>              <td>     2</td>      <th>                     </th>     <td> </td>   \n",
       "</tr>\n",
       "<tr>\n",
       "  <th>Covariance Type:</th>         <td>HC3</td>       <th>                     </th>     <td> </td>   \n",
       "</tr>\n",
       "</table>\n",
       "<table class=\"simpletable\">\n",
       "<tr>\n",
       "       <td></td>          <th>coef</th>     <th>std err</th>      <th>z</th>      <th>P>|z|</th>  <th>[0.025</th>    <th>0.975]</th>  \n",
       "</tr>\n",
       "<tr>\n",
       "  <th>Intercept</th>   <td>    0.6154</td> <td>    0.012</td> <td>   50.195</td> <td> 0.000</td> <td>    0.591</td> <td>    0.639</td>\n",
       "</tr>\n",
       "<tr>\n",
       "  <th>smoking</th>     <td>   -0.0787</td> <td>    0.025</td> <td>   -3.194</td> <td> 0.001</td> <td>   -0.127</td> <td>   -0.030</td>\n",
       "</tr>\n",
       "<tr>\n",
       "  <th>ever_smoked</th> <td>    0.0140</td> <td>    0.020</td> <td>    0.693</td> <td> 0.488</td> <td>   -0.026</td> <td>    0.054</td>\n",
       "</tr>\n",
       "</table>\n",
       "<table class=\"simpletable\">\n",
       "<tr>\n",
       "  <th>Omnibus:</th>       <td>12633.221</td> <th>  Durbin-Watson:     </th> <td>   1.846</td> \n",
       "</tr>\n",
       "<tr>\n",
       "  <th>Prob(Omnibus):</th>  <td> 0.000</td>   <th>  Jarque-Bera (JB):  </th> <td> 515.040</td> \n",
       "</tr>\n",
       "<tr>\n",
       "  <th>Skew:</th>           <td>-0.426</td>   <th>  Prob(JB):          </th> <td>1.45e-112</td>\n",
       "</tr>\n",
       "<tr>\n",
       "  <th>Kurtosis:</th>       <td> 1.198</td>   <th>  Cond. No.          </th> <td>    3.76</td> \n",
       "</tr>\n",
       "</table><br/><br/>Notes:<br/>[1] Standard Errors are heteroscedasticity robust (HC3)"
      ],
      "text/plain": [
       "<class 'statsmodels.iolib.summary.Summary'>\n",
       "\"\"\"\n",
       "                            OLS Regression Results                            \n",
       "==============================================================================\n",
       "Dep. Variable:           stayshealthy   R-squared:                       0.004\n",
       "Model:                            OLS   Adj. R-squared:                  0.003\n",
       "Method:                 Least Squares   F-statistic:                     5.655\n",
       "Date:                Wed, 20 Jul 2022   Prob (F-statistic):            0.00354\n",
       "Time:                        18:10:50   Log-Likelihood:                -2181.0\n",
       "No. Observations:                3109   AIC:                             4368.\n",
       "Df Residuals:                    3106   BIC:                             4386.\n",
       "Df Model:                           2                                         \n",
       "Covariance Type:                  HC3                                         \n",
       "===============================================================================\n",
       "                  coef    std err          z      P>|z|      [0.025      0.975]\n",
       "-------------------------------------------------------------------------------\n",
       "Intercept       0.6154      0.012     50.195      0.000       0.591       0.639\n",
       "smoking        -0.0787      0.025     -3.194      0.001      -0.127      -0.030\n",
       "ever_smoked     0.0140      0.020      0.693      0.488      -0.026       0.054\n",
       "==============================================================================\n",
       "Omnibus:                    12633.221   Durbin-Watson:                   1.846\n",
       "Prob(Omnibus):                  0.000   Jarque-Bera (JB):              515.040\n",
       "Skew:                          -0.426   Prob(JB):                    1.45e-112\n",
       "Kurtosis:                       1.198   Cond. No.                         3.76\n",
       "==============================================================================\n",
       "\n",
       "Notes:\n",
       "[1] Standard Errors are heteroscedasticity robust (HC3)\n",
       "\"\"\""
      ]
     },
     "execution_count": 12,
     "metadata": {},
     "output_type": "execute_result"
    }
   ],
   "source": [
    "lpm2 = smf.ols(\"stayshealthy ~ smoking + ever_smoked\", data=share).fit(cov_type =\"HC3\")\n",
    "lpm2.summary()"
   ]
  },
  {
   "cell_type": "markdown",
   "id": "4c702c4e",
   "metadata": {},
   "source": [
    "Compare models"
   ]
  },
  {
   "cell_type": "code",
   "execution_count": 13,
   "id": "cffc1935",
   "metadata": {},
   "outputs": [
    {
     "data": {
      "text/html": [
       "<table style=\"text-align:center\"><tr><td colspan=\"3\" style=\"border-bottom: 1px solid black\"></td></tr><tr><td style=\"text-align:left\"></td><td colspan=\"2\"><em>Dependent variable:stayshealthy</em></td></tr><tr><td style=\"text-align:left\"></td><tr><td style=\"text-align:left\"></td><td>(1)</td><td>(2)</td></tr><tr><td colspan=\"3\" style=\"border-bottom: 1px solid black\"></td></tr><tr><td style=\"text-align:left\">Intercept</td><td>0.620<sup>***</sup></td><td>0.615<sup>***</sup></td></tr><tr><td style=\"text-align:left\"></td><td>(0.010)</td><td>(0.012)</td></tr><tr><td style=\"text-align:left\">ever_smoked</td><td></td><td>0.014<sup></sup></td></tr><tr><td style=\"text-align:left\"></td><td></td><td>(0.020)</td></tr><tr><td style=\"text-align:left\">smoking</td><td>-0.070<sup>***</sup></td><td>-0.079<sup>***</sup></td></tr><tr><td style=\"text-align:left\"></td><td>(0.021)</td><td>(0.025)</td></tr><td colspan=\"3\" style=\"border-bottom: 1px solid black\"></td></tr><tr><td style=\"text-align: left\">Observations</td><td>3,109</td><td>3,109</td></tr><tr><td style=\"text-align: left\">R<sup>2</sup></td><td>0.004</td><td>0.004</td></tr><tr><td style=\"text-align: left\">Adjusted R<sup>2</sup></td><td>0.003</td><td>0.003</td></tr><tr><td style=\"text-align: left\">Residual Std. Error</td><td>0.488 (df=3107)</td><td>0.488 (df=3106)</td></tr><tr><td style=\"text-align: left\">F Statistic</td><td>10.818<sup>***</sup> (df=1; 3107)</td><td>5.655<sup>***</sup> (df=2; 3106)</td></tr><tr><td colspan=\"3\" style=\"border-bottom: 1px solid black\"></td></tr><tr><td style=\"text-align: left\">Note:</td>\n",
       " <td colspan=\"2\" style=\"text-align: right\">\n",
       "  <sup>*</sup>p&lt;0.1;\n",
       "  <sup>**</sup>p&lt;0.05;\n",
       "  <sup>***</sup>p&lt;0.01\n",
       " </td></tr></table>"
      ],
      "text/plain": [
       "<stargazer.stargazer.Stargazer at 0x159bc6680>"
      ]
     },
     "execution_count": 13,
     "metadata": {},
     "output_type": "execute_result"
    }
   ],
   "source": [
    "table = Stargazer([lpm1,lpm2])\n",
    "table"
   ]
  },
  {
   "cell_type": "markdown",
   "id": "0af9afa6",
   "metadata": {},
   "source": [
    " 2) Multiple variable regressions:\n",
    "     selecting multiple variables, when outcome is binary\n",
    "\n",
    " As usual: check some functional forms\n",
    "\n",
    " For pretty plots create weigths for education"
   ]
  },
  {
   "cell_type": "code",
   "execution_count": 14,
   "id": "cd1f90e2",
   "metadata": {},
   "outputs": [],
   "source": [
    "share[\"weight\"] = (\n",
    "    share.groupby([\"eduyears\", \"stayshealthy\"])[\"smoking\"].transform(len) / 100\n",
    ")"
   ]
  },
  {
   "cell_type": "code",
   "execution_count": 15,
   "id": "533c272f",
   "metadata": {},
   "outputs": [
    {
     "data": {
      "image/png": "[encoded data removed]",
      "text/plain": [
       "<Figure size 640x480 with 1 Axes>"
      ]
     },
     "metadata": {},
     "output_type": "display_data"
    },
    {
     "data": {
      "text/plain": [
       "<ggplot: (362611199)>"
      ]
     },
     "execution_count": 15,
     "metadata": {},
     "output_type": "execute_result"
    }
   ],
   "source": [
    "g2 = (\n",
    "    ggplot(data=share)\n",
    "    + geom_point(\n",
    "        aes(x=\"eduyears\", y=\"stayshealthy\", size=\"weight\"),\n",
    "        color=\"blue\",\n",
    "        alpha=0.8,\n",
    "        na_rm=True,\n",
    "    )\n",
    "    + geom_smooth(\n",
    "        aes(x=\"eduyears\", y=\"stayshealthy\"), method=\"loess\", se=False, color=\"red\"\n",
    "    )\n",
    "    + labs(x=\"Years of education\", y=\"Probability of staying healthy \")\n",
    "    + scale_x_continuous(\n",
    "        expand=[0.01, 0.01], limits=[0, 25], breaks=np.arange(0, 25, 4)\n",
    "    )\n",
    "    + scale_y_continuous(\n",
    "        expand=[0.01, 0.01], limits=[0, 1], breaks=np.arange(0, 1.1, 0.1)\n",
    "    )\n",
    "    + scale_size_continuous(guide=False)\n",
    "    + theme_bw()\n",
    ")\n",
    "g2"
   ]
  },
  {
   "cell_type": "code",
   "execution_count": 16,
   "id": "099f1a32",
   "metadata": {},
   "outputs": [
    {
     "data": {
      "image/png": "[encoded data removed]",
      "text/plain": [
       "<Figure size 640x480 with 1 Axes>"
      ]
     },
     "metadata": {},
     "output_type": "display_data"
    },
    {
     "data": {
      "text/plain": [
       "<ggplot: (362530714)>"
      ]
     },
     "execution_count": 16,
     "metadata": {},
     "output_type": "execute_result"
    }
   ],
   "source": [
    "(\n",
    "    ggplot(data=share)\n",
    "    + geom_smooth(\n",
    "        aes(x=\"income10\", y=\"stayshealthy\"), method=\"loess\", se=False, color=\"red\"\n",
    "    )\n",
    "    + labs(\n",
    "        x=\"Income group within country (deciles)\", y=\"Probability of staying healthy \"\n",
    "    )\n",
    "    + scale_x_continuous(expand=[0.01, 0.01], limits=[1, 10], breaks=np.arange(0, 11, 2))\n",
    "    + scale_y_continuous(expand=[0.01, 0.01], limits=[0, 1], breaks=np.arange(0, 1.1, 0.1))\n",
    "    + theme_bw()\n",
    ")"
   ]
  },
  {
   "cell_type": "code",
   "execution_count": 17,
   "id": "fb10fbb2",
   "metadata": {},
   "outputs": [
    {
     "data": {
      "image/png": "[encoded data removed]",
      "text/plain": [
       "<Figure size 640x480 with 1 Axes>"
      ]
     },
     "metadata": {},
     "output_type": "display_data"
    },
    {
     "data": {
      "text/plain": [
       "<ggplot: (362748163)>"
      ]
     },
     "execution_count": 17,
     "metadata": {},
     "output_type": "execute_result"
    }
   ],
   "source": [
    "(\n",
    "    ggplot(data=share)\n",
    "    + geom_smooth(\n",
    "        aes(x=\"age\", y=\"stayshealthy\"), method=\"loess\", se=False, color=\"red\"\n",
    "    )\n",
    "    + scale_y_continuous(\n",
    "        expand=[0.01, 0.01],\n",
    "        limits=[0, 1],\n",
    "        breaks=np.arange(0, 1.1, 0.2),\n",
    "        labels=percent_format(),\n",
    "    )\n",
    "    + labs(x=\"Age at interview (years)\", y=\"Probability of staying healthy\")\n",
    "    + theme_bw()\n",
    ")"
   ]
  },
  {
   "cell_type": "code",
   "execution_count": 18,
   "id": "83631794",
   "metadata": {},
   "outputs": [
    {
     "data": {
      "image/png": "[encoded data removed]",
      "text/plain": [
       "<Figure size 640x480 with 1 Axes>"
      ]
     },
     "metadata": {},
     "output_type": "display_data"
    },
    {
     "data": {
      "text/plain": [
       "<ggplot: (362761949)>"
      ]
     },
     "execution_count": 18,
     "metadata": {},
     "output_type": "execute_result"
    }
   ],
   "source": [
    "(\n",
    "    ggplot(data=share)\n",
    "    + geom_smooth(aes(x=\"bmi\", y=\"stayshealthy\"), method=\"loess\", se=False, color=\"red\")\n",
    "    + scale_y_continuous(\n",
    "        expand=[0.01, 0.01], limits=[0, 1], breaks=np.arange(0, 1.1, 0.2)\n",
    "    )\n",
    "    + scale_x_continuous(limits=[10, 50], breaks=np.arange(10, 51, 10))\n",
    "    + labs(x=\"Body mass index\", y=\"Stays healthy\")\n",
    "    + theme_bw()\n",
    ")"
   ]
  },
  {
   "cell_type": "markdown",
   "id": "4b3cb9fe",
   "metadata": {},
   "source": [
    "### Task:\n",
    "\n",
    "Linear probability model with many covariates, use the following\n",
    "     \n",
    "     smoking, ever_smoked, female, age, eduyears, income10, bmi, exerc, country_str\n",
    "\n",
    "Use the P.L.S transformations:\n",
    "   - eduyears: with knots at 8 (elementary only) and 18 (Diploma)\n",
    "   - bmi: with knot at 35\n",
    "\n",
    "and include `country` as categories, statsmodel will create dummies aout of them"
   ]
  },
  {
   "cell_type": "code",
   "execution_count": 19,
   "id": "b7bd1211",
   "metadata": {},
   "outputs": [],
   "source": [
    "share['country'] = share['country'].astype('category')"
   ]
  },
  {
   "cell_type": "code",
   "execution_count": 20,
   "id": "3b67176b",
   "metadata": {},
   "outputs": [],
   "source": [
    "import copy\n",
    "def lspline(series, knots):\n",
    "    def knot_ceil(vector, knot):\n",
    "        vector_copy = copy.deepcopy(vector)\n",
    "        vector_copy[vector_copy > knot] = knot\n",
    "        return vector_copy\n",
    "\n",
    "    if type(knots) != list:\n",
    "        knots = [knots]\n",
    "    design_matrix = None\n",
    "    vector = series.values\n",
    "\n",
    "    for i in range(len(knots)):\n",
    "        # print(i)\n",
    "        # print(vector)\n",
    "        if i == 0:\n",
    "            column = knot_ceil(vector, knots[i])\n",
    "        else:\n",
    "            column = knot_ceil(vector, knots[i] - knots[i - 1])\n",
    "        # print(column)\n",
    "        if i == 0:\n",
    "            design_matrix = column\n",
    "        else:\n",
    "            design_matrix = np.column_stack((design_matrix, column))\n",
    "        # print(design_matrix)\n",
    "        vector = vector - column\n",
    "    design_matrix = np.column_stack((design_matrix, vector))\n",
    "    # print(design_matrix)\n",
    "    return design_matrix"
   ]
  },
  {
   "cell_type": "code",
   "execution_count": 21,
   "id": "76256b4c",
   "metadata": {},
   "outputs": [],
   "source": [
    "lpm3 = smf.ols(\n",
    "    \"stayshealthy ~ smoking + ever_smoked + female + age + lspline(eduyears,[8,18]) + \\\n",
    "                    income10 + lspline(bmi,[35]) + exerc + country\",\n",
    "    share,\n",
    ").fit(covtype=\"HC3\")"
   ]
  },
  {
   "cell_type": "code",
   "execution_count": 22,
   "id": "c1d89ac4",
   "metadata": {},
   "outputs": [
    {
     "data": {
      "text/html": [
       "<table style=\"text-align:center\"><tr><td colspan=\"4\" style=\"border-bottom: 1px solid black\"></td></tr><tr><td style=\"text-align:left\"></td><td colspan=\"3\"><em>Dependent variable:stayshealthy</em></td></tr><tr><td style=\"text-align:left\"></td><tr><td style=\"text-align:left\"></td><td>(1)</td><td>(2)</td><td>(3)</td></tr><tr><td colspan=\"4\" style=\"border-bottom: 1px solid black\"></td></tr><tr><td style=\"text-align:left\">smoking</td><td>-0.070<sup>***</sup></td><td>-0.079<sup>***</sup></td><td>-0.061<sup>**</sup></td></tr><tr><td style=\"text-align:left\"></td><td>(0.021)</td><td>(0.025)</td><td>(0.024)</td></tr><tr><td style=\"text-align:left\">ever_smoked</td><td></td><td>0.014<sup></sup></td><td>0.015<sup></sup></td></tr><tr><td style=\"text-align:left\"></td><td></td><td>(0.020)</td><td>(0.020)</td></tr><tr><td style=\"text-align:left\">female</td><td></td><td></td><td>0.033<sup>*</sup></td></tr><tr><td style=\"text-align:left\"></td><td></td><td></td><td>(0.018)</td></tr><tr><td style=\"text-align:left\">age</td><td></td><td></td><td>-0.003<sup></sup></td></tr><tr><td style=\"text-align:left\"></td><td></td><td></td><td>(0.003)</td></tr><tr><td style=\"text-align:left\">lspline(eduyears, [8, 18])[0]</td><td></td><td></td><td>-0.001<sup></sup></td></tr><tr><td style=\"text-align:left\"></td><td></td><td></td><td>(0.007)</td></tr><tr><td style=\"text-align:left\">lspline(eduyears, [8, 18])[1]</td><td></td><td></td><td>0.017<sup>***</sup></td></tr><tr><td style=\"text-align:left\"></td><td></td><td></td><td>(0.003)</td></tr><tr><td style=\"text-align:left\">lspline(eduyears, [8, 18])[2]</td><td></td><td></td><td>-0.010<sup></sup></td></tr><tr><td style=\"text-align:left\"></td><td></td><td></td><td>(0.012)</td></tr><tr><td style=\"text-align:left\">income10</td><td></td><td></td><td>0.008<sup>**</sup></td></tr><tr><td style=\"text-align:left\"></td><td></td><td></td><td>(0.003)</td></tr><tr><td style=\"text-align:left\">lspline(bmi, [35])[0]</td><td></td><td></td><td>-0.012<sup>***</sup></td></tr><tr><td style=\"text-align:left\"></td><td></td><td></td><td>(0.002)</td></tr><tr><td style=\"text-align:left\">lspline(bmi, [35])[1]</td><td></td><td></td><td>0.006<sup></sup></td></tr><tr><td style=\"text-align:left\"></td><td></td><td></td><td>(0.016)</td></tr><tr><td style=\"text-align:left\">exerc</td><td></td><td></td><td>0.053<sup>***</sup></td></tr><tr><td style=\"text-align:left\"></td><td></td><td></td><td>(0.017)</td></tr><td colspan=\"4\" style=\"border-bottom: 1px solid black\"></td></tr><tr><td style=\"text-align: left\">Observations</td><td>3,109</td><td>3,109</td><td>3,109</td></tr><tr><td style=\"text-align: left\">R<sup>2</sup></td><td>0.004</td><td>0.004</td><td>0.103</td></tr><tr><td style=\"text-align: left\">Adjusted R<sup>2</sup></td><td>0.003</td><td>0.003</td><td>0.096</td></tr><tr><td style=\"text-align: left\">Residual Std. Error</td><td>0.488 (df=3107)</td><td>0.488 (df=3106)</td><td>0.465 (df=3084)</td></tr><tr><td style=\"text-align: left\">F Statistic</td><td>10.818<sup>***</sup> (df=1; 3107)</td><td>5.655<sup>***</sup> (df=2; 3106)</td><td>14.699<sup>***</sup> (df=24; 3084)</td></tr><tr><td colspan=\"4\" style=\"border-bottom: 1px solid black\"></td></tr><tr><td style=\"text-align: left\">Note:</td>\n",
       " <td colspan=\"3\" style=\"text-align: right\">\n",
       "  <sup>*</sup>p&lt;0.1;\n",
       "  <sup>**</sup>p&lt;0.05;\n",
       "  <sup>***</sup>p&lt;0.01\n",
       " </td></tr></table>"
      ],
      "text/plain": [
       "<stargazer.stargazer.Stargazer at 0x159ea6f80>"
      ]
     },
     "execution_count": 22,
     "metadata": {},
     "output_type": "execute_result"
    }
   ],
   "source": [
    "table = Stargazer([lpm1, lpm2, lpm3])\n",
    "table.covariate_order(\n",
    "    [\n",
    "        \"smoking\",\n",
    "        \"ever_smoked\",\n",
    "        \"female\",\n",
    "        \"age\",\n",
    "        \"lspline(eduyears, [8, 18])[0]\",\n",
    "        \"lspline(eduyears, [8, 18])[1]\",\n",
    "        \"lspline(eduyears, [8, 18])[2]\",\n",
    "        \"income10\",\n",
    "        \"lspline(bmi, [35])[0]\",\n",
    "        \"lspline(bmi, [35])[1]\",\n",
    "        \"exerc\",\n",
    "    ]\n",
    ")\n",
    "table"
   ]
  },
  {
   "cell_type": "markdown",
   "id": "f2a50980",
   "metadata": {},
   "source": [
    "Check predicted probabilities: is there any interesting values?   "
   ]
  },
  {
   "cell_type": "code",
   "execution_count": 23,
   "id": "ca555d17",
   "metadata": {},
   "outputs": [],
   "source": [
    "share[\"pred_lpm\"] = lpm3.predict()"
   ]
  },
  {
   "cell_type": "markdown",
   "id": "eebee65d",
   "metadata": {},
   "source": [
    "Make a descriptive summary of the predictions with 3 digits"
   ]
  },
  {
   "cell_type": "code",
   "execution_count": 24,
   "id": "b5a454a8",
   "metadata": {},
   "outputs": [
    {
     "data": {
      "text/plain": [
       "count    3109.0000\n",
       "mean        0.6047\n",
       "std         0.1567\n",
       "min         0.0361\n",
       "25%         0.5001\n",
       "50%         0.6073\n",
       "75%         0.7134\n",
       "max         1.0110\n",
       "Name: pred_lpm, dtype: float64"
      ]
     },
     "execution_count": 24,
     "metadata": {},
     "output_type": "execute_result"
    }
   ],
   "source": [
    "share['pred_lpm'].describe().round(4)"
   ]
  },
  {
   "cell_type": "markdown",
   "id": "e30a9e23",
   "metadata": {},
   "source": [
    "Show the predicted probabilities' distribution"
   ]
  },
  {
   "cell_type": "code",
   "execution_count": 25,
   "id": "2d919078",
   "metadata": {},
   "outputs": [
    {
     "data": {
      "image/png": "[encoded data removed]",
      "text/plain": [
       "<Figure size 640x480 with 1 Axes>"
      ]
     },
     "metadata": {},
     "output_type": "display_data"
    },
    {
     "data": {
      "text/plain": [
       "<ggplot: (362834224)>"
      ]
     },
     "execution_count": 25,
     "metadata": {},
     "output_type": "execute_result"
    }
   ],
   "source": [
    "(\n",
    "    ggplot(share, aes(x=\"pred_lpm\"))\n",
    "    + geom_histogram(\n",
    "        aes(y=\"stat(count)/sum(stat(count))\"),\n",
    "        binwidth=0.02,\n",
    "        center=0.65,\n",
    "        color=\"white\",\n",
    "        fill=\"blue\",\n",
    "        closed=\"right\",\n",
    "        na_rm=True\n",
    "    )\n",
    "    + labs(x=\"Predicted probability of staying healthy (LPM)\", y=\"Percent\")\n",
    "    + scale_y_continuous(\n",
    "        expand=[0.00, 0.0],\n",
    "        limits=[0, 0.07],\n",
    "        breaks=np.arange(0, 0.07, 0.01),\n",
    "        labels=percent_format(),\n",
    "    )\n",
    "    + scale_x_continuous(\n",
    "        expand=[0.001, 0.01], limits=[0, 1.1], breaks=np.arange(0, 1.1, 0.2)\n",
    "    )\n",
    "    + theme_bw()\n",
    ")"
   ]
  },
  {
   "cell_type": "markdown",
   "id": "6950fb3e",
   "metadata": {},
   "source": [
    " We are interested in the top 1% and bottom 1% characteristics!\n",
    "    \n",
    "   Is there any significant difference?\n",
    "\n",
    "\n",
    "   Create bins which categorize the predicted values between 1-100\n"
   ]
  },
  {
   "cell_type": "code",
   "execution_count": 26,
   "id": "013d571b",
   "metadata": {},
   "outputs": [],
   "source": [
    "cuts = 100\n",
    "share[\"q100_pred_lpm\"] = pd.qcut(share[\"pred_lpm\"], q=cuts, labels=range(1, cuts + 1))"
   ]
  },
  {
   "cell_type": "markdown",
   "id": "36f52e90",
   "metadata": {},
   "source": [
    "Top 1%"
   ]
  },
  {
   "cell_type": "code",
   "execution_count": 27,
   "id": "f112fedd",
   "metadata": {},
   "outputs": [
    {
     "data": {
      "text/html": [
       "<div>\n",
       "<style scoped>\n",
       "    .dataframe tbody tr th:only-of-type {\n",
       "        vertical-align: middle;\n",
       "    }\n",
       "\n",
       "    .dataframe tbody tr th {\n",
       "        vertical-align: top;\n",
       "    }\n",
       "\n",
       "    .dataframe thead th {\n",
       "        text-align: right;\n",
       "    }\n",
       "</style>\n",
       "<table border=\"1\" class=\"dataframe\">\n",
       "  <thead>\n",
       "    <tr style=\"text-align: right;\">\n",
       "      <th></th>\n",
       "      <th>smoking</th>\n",
       "      <th>ever_smoked</th>\n",
       "      <th>female</th>\n",
       "      <th>age</th>\n",
       "      <th>eduyears</th>\n",
       "      <th>income10</th>\n",
       "      <th>bmi</th>\n",
       "      <th>exerc</th>\n",
       "    </tr>\n",
       "  </thead>\n",
       "  <tbody>\n",
       "    <tr>\n",
       "      <th>count</th>\n",
       "      <td>32.0</td>\n",
       "      <td>32.0</td>\n",
       "      <td>32.0</td>\n",
       "      <td>32.0</td>\n",
       "      <td>32.0</td>\n",
       "      <td>32.0</td>\n",
       "      <td>32.0</td>\n",
       "      <td>32.0</td>\n",
       "    </tr>\n",
       "    <tr>\n",
       "      <th>mean</th>\n",
       "      <td>0.0</td>\n",
       "      <td>0.4</td>\n",
       "      <td>1.0</td>\n",
       "      <td>53.9</td>\n",
       "      <td>17.3</td>\n",
       "      <td>8.9</td>\n",
       "      <td>20.8</td>\n",
       "      <td>0.9</td>\n",
       "    </tr>\n",
       "    <tr>\n",
       "      <th>std</th>\n",
       "      <td>0.0</td>\n",
       "      <td>0.5</td>\n",
       "      <td>0.2</td>\n",
       "      <td>2.5</td>\n",
       "      <td>1.5</td>\n",
       "      <td>1.6</td>\n",
       "      <td>1.8</td>\n",
       "      <td>0.3</td>\n",
       "    </tr>\n",
       "    <tr>\n",
       "      <th>min</th>\n",
       "      <td>0.0</td>\n",
       "      <td>0.0</td>\n",
       "      <td>0.0</td>\n",
       "      <td>50.6</td>\n",
       "      <td>13.0</td>\n",
       "      <td>4.0</td>\n",
       "      <td>17.2</td>\n",
       "      <td>0.0</td>\n",
       "    </tr>\n",
       "    <tr>\n",
       "      <th>25%</th>\n",
       "      <td>0.0</td>\n",
       "      <td>0.0</td>\n",
       "      <td>1.0</td>\n",
       "      <td>52.1</td>\n",
       "      <td>16.0</td>\n",
       "      <td>8.8</td>\n",
       "      <td>19.7</td>\n",
       "      <td>1.0</td>\n",
       "    </tr>\n",
       "    <tr>\n",
       "      <th>50%</th>\n",
       "      <td>0.0</td>\n",
       "      <td>0.0</td>\n",
       "      <td>1.0</td>\n",
       "      <td>53.4</td>\n",
       "      <td>17.5</td>\n",
       "      <td>10.0</td>\n",
       "      <td>20.8</td>\n",
       "      <td>1.0</td>\n",
       "    </tr>\n",
       "    <tr>\n",
       "      <th>75%</th>\n",
       "      <td>0.0</td>\n",
       "      <td>1.0</td>\n",
       "      <td>1.0</td>\n",
       "      <td>55.2</td>\n",
       "      <td>18.0</td>\n",
       "      <td>10.0</td>\n",
       "      <td>22.1</td>\n",
       "      <td>1.0</td>\n",
       "    </tr>\n",
       "    <tr>\n",
       "      <th>max</th>\n",
       "      <td>0.0</td>\n",
       "      <td>1.0</td>\n",
       "      <td>1.0</td>\n",
       "      <td>60.0</td>\n",
       "      <td>20.0</td>\n",
       "      <td>10.0</td>\n",
       "      <td>24.5</td>\n",
       "      <td>1.0</td>\n",
       "    </tr>\n",
       "  </tbody>\n",
       "</table>\n",
       "</div>"
      ],
      "text/plain": [
       "       smoking  ever_smoked  female   age  eduyears  income10   bmi  exerc\n",
       "count     32.0         32.0    32.0  32.0      32.0      32.0  32.0   32.0\n",
       "mean       0.0          0.4     1.0  53.9      17.3       8.9  20.8    0.9\n",
       "std        0.0          0.5     0.2   2.5       1.5       1.6   1.8    0.3\n",
       "min        0.0          0.0     0.0  50.6      13.0       4.0  17.2    0.0\n",
       "25%        0.0          0.0     1.0  52.1      16.0       8.8  19.7    1.0\n",
       "50%        0.0          0.0     1.0  53.4      17.5      10.0  20.8    1.0\n",
       "75%        0.0          1.0     1.0  55.2      18.0      10.0  22.1    1.0\n",
       "max        0.0          1.0     1.0  60.0      20.0      10.0  24.5    1.0"
      ]
     },
     "execution_count": 27,
     "metadata": {},
     "output_type": "execute_result"
    }
   ],
   "source": [
    "share.loc[\n",
    "    share[\"q100_pred_lpm\"] == 100,\n",
    "    [\"smoking\", \"ever_smoked\", \"female\", \"age\", \"eduyears\", \"income10\", \"bmi\", \"exerc\"],\n",
    "].describe().round(1)\n"
   ]
  },
  {
   "cell_type": "markdown",
   "id": "af983c26",
   "metadata": {},
   "source": [
    "Bottom 1%"
   ]
  },
  {
   "cell_type": "code",
   "execution_count": 28,
   "id": "a5815298",
   "metadata": {},
   "outputs": [
    {
     "data": {
      "text/html": [
       "<div>\n",
       "<style scoped>\n",
       "    .dataframe tbody tr th:only-of-type {\n",
       "        vertical-align: middle;\n",
       "    }\n",
       "\n",
       "    .dataframe tbody tr th {\n",
       "        vertical-align: top;\n",
       "    }\n",
       "\n",
       "    .dataframe thead th {\n",
       "        text-align: right;\n",
       "    }\n",
       "</style>\n",
       "<table border=\"1\" class=\"dataframe\">\n",
       "  <thead>\n",
       "    <tr style=\"text-align: right;\">\n",
       "      <th></th>\n",
       "      <th>smoking</th>\n",
       "      <th>ever_smoked</th>\n",
       "      <th>female</th>\n",
       "      <th>age</th>\n",
       "      <th>eduyears</th>\n",
       "      <th>income10</th>\n",
       "      <th>bmi</th>\n",
       "      <th>exerc</th>\n",
       "    </tr>\n",
       "  </thead>\n",
       "  <tbody>\n",
       "    <tr>\n",
       "      <th>count</th>\n",
       "      <td>32.0</td>\n",
       "      <td>32.0</td>\n",
       "      <td>32.0</td>\n",
       "      <td>32.0</td>\n",
       "      <td>32.0</td>\n",
       "      <td>32.0</td>\n",
       "      <td>32.0</td>\n",
       "      <td>32.0</td>\n",
       "    </tr>\n",
       "    <tr>\n",
       "      <th>mean</th>\n",
       "      <td>0.4</td>\n",
       "      <td>0.5</td>\n",
       "      <td>0.4</td>\n",
       "      <td>56.0</td>\n",
       "      <td>7.7</td>\n",
       "      <td>3.8</td>\n",
       "      <td>30.5</td>\n",
       "      <td>0.2</td>\n",
       "    </tr>\n",
       "    <tr>\n",
       "      <th>std</th>\n",
       "      <td>0.5</td>\n",
       "      <td>0.5</td>\n",
       "      <td>0.5</td>\n",
       "      <td>2.6</td>\n",
       "      <td>3.3</td>\n",
       "      <td>2.8</td>\n",
       "      <td>3.9</td>\n",
       "      <td>0.4</td>\n",
       "    </tr>\n",
       "    <tr>\n",
       "      <th>min</th>\n",
       "      <td>0.0</td>\n",
       "      <td>0.0</td>\n",
       "      <td>0.0</td>\n",
       "      <td>50.4</td>\n",
       "      <td>0.0</td>\n",
       "      <td>1.0</td>\n",
       "      <td>23.0</td>\n",
       "      <td>0.0</td>\n",
       "    </tr>\n",
       "    <tr>\n",
       "      <th>25%</th>\n",
       "      <td>0.0</td>\n",
       "      <td>0.0</td>\n",
       "      <td>0.0</td>\n",
       "      <td>53.9</td>\n",
       "      <td>4.8</td>\n",
       "      <td>1.0</td>\n",
       "      <td>28.1</td>\n",
       "      <td>0.0</td>\n",
       "    </tr>\n",
       "    <tr>\n",
       "      <th>50%</th>\n",
       "      <td>0.0</td>\n",
       "      <td>0.0</td>\n",
       "      <td>0.0</td>\n",
       "      <td>56.5</td>\n",
       "      <td>8.0</td>\n",
       "      <td>3.0</td>\n",
       "      <td>30.5</td>\n",
       "      <td>0.0</td>\n",
       "    </tr>\n",
       "    <tr>\n",
       "      <th>75%</th>\n",
       "      <td>1.0</td>\n",
       "      <td>1.0</td>\n",
       "      <td>1.0</td>\n",
       "      <td>57.8</td>\n",
       "      <td>10.2</td>\n",
       "      <td>6.2</td>\n",
       "      <td>33.9</td>\n",
       "      <td>0.0</td>\n",
       "    </tr>\n",
       "    <tr>\n",
       "      <th>max</th>\n",
       "      <td>1.0</td>\n",
       "      <td>1.0</td>\n",
       "      <td>1.0</td>\n",
       "      <td>59.9</td>\n",
       "      <td>14.0</td>\n",
       "      <td>10.0</td>\n",
       "      <td>38.1</td>\n",
       "      <td>1.0</td>\n",
       "    </tr>\n",
       "  </tbody>\n",
       "</table>\n",
       "</div>"
      ],
      "text/plain": [
       "       smoking  ever_smoked  female   age  eduyears  income10   bmi  exerc\n",
       "count     32.0         32.0    32.0  32.0      32.0      32.0  32.0   32.0\n",
       "mean       0.4          0.5     0.4  56.0       7.7       3.8  30.5    0.2\n",
       "std        0.5          0.5     0.5   2.6       3.3       2.8   3.9    0.4\n",
       "min        0.0          0.0     0.0  50.4       0.0       1.0  23.0    0.0\n",
       "25%        0.0          0.0     0.0  53.9       4.8       1.0  28.1    0.0\n",
       "50%        0.0          0.0     0.0  56.5       8.0       3.0  30.5    0.0\n",
       "75%        1.0          1.0     1.0  57.8      10.2       6.2  33.9    0.0\n",
       "max        1.0          1.0     1.0  59.9      14.0      10.0  38.1    1.0"
      ]
     },
     "execution_count": 28,
     "metadata": {},
     "output_type": "execute_result"
    }
   ],
   "source": [
    "share.loc[\n",
    "    share[\"q100_pred_lpm\"] == 1,\n",
    "    [\"smoking\", \"ever_smoked\", \"female\", \"age\", \"eduyears\", \"income10\", \"bmi\", \"exerc\"],\n",
    "].describe().round(1)"
   ]
  },
  {
   "cell_type": "markdown",
   "id": "9a799ead",
   "metadata": {},
   "source": [
    "## 3) LOGIT AND PROBIT MODELS"
   ]
  },
  {
   "cell_type": "markdown",
   "id": "153939bd",
   "metadata": {},
   "source": [
    "Lets compare:\\\n",
    "   lpm versus logit and probit\n",
    " \n",
    " with all right-hand-side variables\n",
    "\n",
    " If comparing different estimation methods for the same model setup:\n",
    "   good practice to make a 'formula' variable!\n",
    "\n",
    " To have pretty outcomes, we need to create spline variables"
   ]
  },
  {
   "cell_type": "code",
   "execution_count": 29,
   "id": "8dbdb28a",
   "metadata": {},
   "outputs": [],
   "source": [
    "formula = \"stayshealthy ~ smoking + ever_smoked + female + age + lspline(eduyears,[8,18]) + \\\n",
    "                 income10 + lspline(bmi,[35]) + exerc + country\""
   ]
  },
  {
   "cell_type": "markdown",
   "id": "91d6dbc0",
   "metadata": {},
   "source": [
    "Repeat LPM with new formula"
   ]
  },
  {
   "cell_type": "code",
   "execution_count": 30,
   "id": "f3cf84b8",
   "metadata": {},
   "outputs": [
    {
     "data": {
      "text/html": [
       "<table style=\"text-align:center\"><tr><td colspan=\"2\" style=\"border-bottom: 1px solid black\"></td></tr><tr><td style=\"text-align:left\"></td><td colspan=\"1\"><em>Dependent variable:stayshealthy</em></td></tr><tr><td style=\"text-align:left\"></td><tr><td style=\"text-align:left\"></td><td>(1)</td></tr><tr><td colspan=\"2\" style=\"border-bottom: 1px solid black\"></td></tr><tr><td style=\"text-align:left\">smoking</td><td>-0.061<sup>**</sup></td></tr><tr><td style=\"text-align:left\"></td><td>(0.024)</td></tr><tr><td style=\"text-align:left\">ever_smoked</td><td>0.015<sup></sup></td></tr><tr><td style=\"text-align:left\"></td><td>(0.020)</td></tr><tr><td style=\"text-align:left\">female</td><td>0.033<sup>*</sup></td></tr><tr><td style=\"text-align:left\"></td><td>(0.018)</td></tr><tr><td style=\"text-align:left\">age</td><td>-0.003<sup></sup></td></tr><tr><td style=\"text-align:left\"></td><td>(0.003)</td></tr><tr><td style=\"text-align:left\">lspline(eduyears, [8, 18])[0]</td><td>-0.001<sup></sup></td></tr><tr><td style=\"text-align:left\"></td><td>(0.007)</td></tr><tr><td style=\"text-align:left\">lspline(eduyears, [8, 18])[1]</td><td>0.017<sup>***</sup></td></tr><tr><td style=\"text-align:left\"></td><td>(0.003)</td></tr><tr><td style=\"text-align:left\">lspline(eduyears, [8, 18])[2]</td><td>-0.010<sup></sup></td></tr><tr><td style=\"text-align:left\"></td><td>(0.012)</td></tr><tr><td style=\"text-align:left\">income10</td><td>0.008<sup>**</sup></td></tr><tr><td style=\"text-align:left\"></td><td>(0.003)</td></tr><tr><td style=\"text-align:left\">lspline(bmi, [35])[0]</td><td>-0.012<sup>***</sup></td></tr><tr><td style=\"text-align:left\"></td><td>(0.002)</td></tr><tr><td style=\"text-align:left\">lspline(bmi, [35])[1]</td><td>0.006<sup></sup></td></tr><tr><td style=\"text-align:left\"></td><td>(0.016)</td></tr><tr><td style=\"text-align:left\">exerc</td><td>0.053<sup>***</sup></td></tr><tr><td style=\"text-align:left\"></td><td>(0.017)</td></tr><td colspan=\"2\" style=\"border-bottom: 1px solid black\"></td></tr><tr><td style=\"text-align: left\">Observations</td><td>3,109</td></tr><tr><td style=\"text-align: left\">R<sup>2</sup></td><td>0.103</td></tr><tr><td style=\"text-align: left\">Adjusted R<sup>2</sup></td><td>0.096</td></tr><tr><td style=\"text-align: left\">Residual Std. Error</td><td>0.465 (df=3084)</td></tr><tr><td style=\"text-align: left\">F Statistic</td><td>14.699<sup>***</sup> (df=24; 3084)</td></tr><tr><td colspan=\"2\" style=\"border-bottom: 1px solid black\"></td></tr><tr><td style=\"text-align: left\">Note:</td>\n",
       " <td colspan=\"1\" style=\"text-align: right\">\n",
       "  <sup>*</sup>p&lt;0.1;\n",
       "  <sup>**</sup>p&lt;0.05;\n",
       "  <sup>***</sup>p&lt;0.01\n",
       " </td></tr></table>"
      ],
      "text/plain": [
       "<stargazer.stargazer.Stargazer at 0x159f1a560>"
      ]
     },
     "execution_count": 30,
     "metadata": {},
     "output_type": "execute_result"
    }
   ],
   "source": [
    "lpm = smf.ols(formula, share).fit(covtype=\"HC3\")\n",
    "\n",
    "table = Stargazer([lpm])\n",
    "table.covariate_order(\n",
    "    [\n",
    "        \"smoking\",\n",
    "        \"ever_smoked\",\n",
    "        \"female\",\n",
    "        \"age\",\n",
    "        \"lspline(eduyears, [8, 18])[0]\",\n",
    "        \"lspline(eduyears, [8, 18])[1]\",\n",
    "        \"lspline(eduyears, [8, 18])[2]\",\n",
    "        \"income10\",\n",
    "        \"lspline(bmi, [35])[0]\",\n",
    "        \"lspline(bmi, [35])[1]\",\n",
    "        \"exerc\",\n",
    "    ]\n",
    ")\n",
    "table"
   ]
  },
  {
   "cell_type": "markdown",
   "id": "62036536",
   "metadata": {},
   "source": [
    "Save predictions"
   ]
  },
  {
   "cell_type": "code",
   "execution_count": 31,
   "id": "7bc8487d",
   "metadata": {},
   "outputs": [],
   "source": [
    "share[\"pred_lpm\"] = lpm.predict()"
   ]
  },
  {
   "cell_type": "markdown",
   "id": "8ced0960",
   "metadata": {},
   "source": [
    "Logit"
   ]
  },
  {
   "cell_type": "code",
   "execution_count": 32,
   "id": "653bcf37",
   "metadata": {},
   "outputs": [
    {
     "name": "stdout",
     "output_type": "stream",
     "text": [
      "Optimization terminated successfully.\n",
      "         Current function value: 0.617166\n",
      "         Iterations 5\n"
     ]
    },
    {
     "data": {
      "text/html": [
       "<table style=\"text-align:center\"><tr><td colspan=\"2\" style=\"border-bottom: 1px solid black\"></td></tr><tr><td style=\"text-align:left\"></td><td colspan=\"1\"><em>Dependent variable:stayshealthy</em></td></tr><tr><td style=\"text-align:left\"></td><tr><td style=\"text-align:left\"></td><td>(1)</td></tr><tr><td colspan=\"2\" style=\"border-bottom: 1px solid black\"></td></tr><tr><td style=\"text-align:left\">smoking</td><td>-0.284<sup>***</sup></td></tr><tr><td style=\"text-align:left\"></td><td>(0.109)</td></tr><tr><td style=\"text-align:left\">ever_smoked</td><td>0.078<sup></sup></td></tr><tr><td style=\"text-align:left\"></td><td>(0.092)</td></tr><tr><td style=\"text-align:left\">female</td><td>0.161<sup>**</sup></td></tr><tr><td style=\"text-align:left\"></td><td>(0.082)</td></tr><tr><td style=\"text-align:left\">age</td><td>-0.012<sup></sup></td></tr><tr><td style=\"text-align:left\"></td><td>(0.014)</td></tr><tr><td style=\"text-align:left\">lspline(eduyears, [8, 18])[0]</td><td>-0.003<sup></sup></td></tr><tr><td style=\"text-align:left\"></td><td>(0.033)</td></tr><tr><td style=\"text-align:left\">lspline(eduyears, [8, 18])[1]</td><td>0.079<sup>***</sup></td></tr><tr><td style=\"text-align:left\"></td><td>(0.016)</td></tr><tr><td style=\"text-align:left\">lspline(eduyears, [8, 18])[2]</td><td>-0.046<sup></sup></td></tr><tr><td style=\"text-align:left\"></td><td>(0.055)</td></tr><tr><td style=\"text-align:left\">income10</td><td>0.036<sup>**</sup></td></tr><tr><td style=\"text-align:left\"></td><td>(0.015)</td></tr><tr><td style=\"text-align:left\">lspline(bmi, [35])[0]</td><td>-0.057<sup>***</sup></td></tr><tr><td style=\"text-align:left\"></td><td>(0.011)</td></tr><tr><td style=\"text-align:left\">lspline(bmi, [35])[1]</td><td>0.031<sup></sup></td></tr><tr><td style=\"text-align:left\"></td><td>(0.071)</td></tr><tr><td style=\"text-align:left\">exerc</td><td>0.255<sup>***</sup></td></tr><tr><td style=\"text-align:left\"></td><td>(0.079)</td></tr><td colspan=\"2\" style=\"border-bottom: 1px solid black\"></td></tr><tr><td style=\"text-align: left\">Observations</td><td>3,109</td></tr><tr><td style=\"text-align: left\">R<sup>2</sup></td><td></td></tr><tr><td style=\"text-align: left\">Adjusted R<sup>2</sup></td><td></td></tr><tr><td style=\"text-align: left\">Residual Std. Error</td><td>1.000 (df=3084)</td></tr><tr><td style=\"text-align: left\">F Statistic</td><td><sup></sup> (df=24; 3084)</td></tr><tr><td colspan=\"2\" style=\"border-bottom: 1px solid black\"></td></tr><tr><td style=\"text-align: left\">Note:</td>\n",
       " <td colspan=\"1\" style=\"text-align: right\">\n",
       "  <sup>*</sup>p&lt;0.1;\n",
       "  <sup>**</sup>p&lt;0.05;\n",
       "  <sup>***</sup>p&lt;0.01\n",
       " </td></tr></table>"
      ],
      "text/plain": [
       "<stargazer.stargazer.Stargazer at 0x15a06bcd0>"
      ]
     },
     "execution_count": 32,
     "metadata": {},
     "output_type": "execute_result"
    }
   ],
   "source": [
    "logit = smf.logit(formula, share).fit()\n",
    "\n",
    "\n",
    "table = Stargazer([logit])\n",
    "table.covariate_order(\n",
    "    [\n",
    "        \"smoking\",\n",
    "        \"ever_smoked\",\n",
    "        \"female\",\n",
    "        \"age\",\n",
    "        \"lspline(eduyears, [8, 18])[0]\",\n",
    "        \"lspline(eduyears, [8, 18])[1]\",\n",
    "        \"lspline(eduyears, [8, 18])[2]\",\n",
    "        \"income10\",\n",
    "        \"lspline(bmi, [35])[0]\",\n",
    "        \"lspline(bmi, [35])[1]\",\n",
    "        \"exerc\",\n",
    "    ]\n",
    ")\n",
    "table"
   ]
  },
  {
   "cell_type": "code",
   "execution_count": 33,
   "id": "67473061",
   "metadata": {},
   "outputs": [],
   "source": [
    "share[\"pred_logit\"] = logit.predict()"
   ]
  },
  {
   "cell_type": "markdown",
   "id": "dd4cac67",
   "metadata": {},
   "source": [
    "Calculate the Average Marginal Effects "
   ]
  },
  {
   "cell_type": "code",
   "execution_count": 34,
   "id": "95811214",
   "metadata": {},
   "outputs": [
    {
     "data": {
      "text/html": [
       "<table class=\"simpletable\">\n",
       "<caption>Logit Marginal Effects</caption>\n",
       "<tr>\n",
       "  <th>Dep. Variable:</th> <td>stayshealthy</td>\n",
       "</tr>\n",
       "<tr>\n",
       "  <th>Method:</th>            <td>dydx</td>    \n",
       "</tr>\n",
       "<tr>\n",
       "  <th>At:</th>               <td>overall</td>  \n",
       "</tr>\n",
       "</table>\n",
       "<table class=\"simpletable\">\n",
       "<tr>\n",
       "                <th></th>                   <th>dy/dx</th>    <th>std err</th>      <th>z</th>      <th>P>|z|</th>  <th>[0.025</th>    <th>0.975]</th>  \n",
       "</tr>\n",
       "<tr>\n",
       "  <th>country[T.12]</th>                 <td>   -0.2106</td> <td>    0.070</td> <td>   -2.993</td> <td> 0.003</td> <td>   -0.349</td> <td>   -0.073</td>\n",
       "</tr>\n",
       "<tr>\n",
       "  <th>country[T.13]</th>                 <td>   -0.0423</td> <td>    0.059</td> <td>   -0.714</td> <td> 0.475</td> <td>   -0.158</td> <td>    0.074</td>\n",
       "</tr>\n",
       "<tr>\n",
       "  <th>country[T.15]</th>                 <td>   -0.1406</td> <td>    0.041</td> <td>   -3.406</td> <td> 0.001</td> <td>   -0.221</td> <td>   -0.060</td>\n",
       "</tr>\n",
       "<tr>\n",
       "  <th>country[T.16]</th>                 <td>   -0.2399</td> <td>    0.039</td> <td>   -6.191</td> <td> 0.000</td> <td>   -0.316</td> <td>   -0.164</td>\n",
       "</tr>\n",
       "<tr>\n",
       "  <th>country[T.17]</th>                 <td>   -0.1682</td> <td>    0.036</td> <td>   -4.701</td> <td> 0.000</td> <td>   -0.238</td> <td>   -0.098</td>\n",
       "</tr>\n",
       "<tr>\n",
       "  <th>country[T.18]</th>                 <td>    0.0934</td> <td>    0.039</td> <td>    2.417</td> <td> 0.016</td> <td>    0.018</td> <td>    0.169</td>\n",
       "</tr>\n",
       "<tr>\n",
       "  <th>country[T.20]</th>                 <td>    0.0146</td> <td>    0.034</td> <td>    0.427</td> <td> 0.670</td> <td>   -0.052</td> <td>    0.081</td>\n",
       "</tr>\n",
       "<tr>\n",
       "  <th>country[T.23]</th>                 <td>   -0.1229</td> <td>    0.033</td> <td>   -3.678</td> <td> 0.000</td> <td>   -0.188</td> <td>   -0.057</td>\n",
       "</tr>\n",
       "<tr>\n",
       "  <th>country[T.28]</th>                 <td>   -0.1618</td> <td>    0.037</td> <td>   -4.345</td> <td> 0.000</td> <td>   -0.235</td> <td>   -0.089</td>\n",
       "</tr>\n",
       "<tr>\n",
       "  <th>country[T.29]</th>                 <td>   -0.3152</td> <td>    0.084</td> <td>   -3.751</td> <td> 0.000</td> <td>   -0.480</td> <td>   -0.150</td>\n",
       "</tr>\n",
       "<tr>\n",
       "  <th>country[T.33]</th>                 <td>   -0.3382</td> <td>    0.063</td> <td>   -5.332</td> <td> 0.000</td> <td>   -0.463</td> <td>   -0.214</td>\n",
       "</tr>\n",
       "<tr>\n",
       "  <th>country[T.34]</th>                 <td>   -0.1972</td> <td>    0.043</td> <td>   -4.538</td> <td> 0.000</td> <td>   -0.282</td> <td>   -0.112</td>\n",
       "</tr>\n",
       "<tr>\n",
       "  <th>country[T.35]</th>                 <td>   -0.2901</td> <td>    0.044</td> <td>   -6.582</td> <td> 0.000</td> <td>   -0.376</td> <td>   -0.204</td>\n",
       "</tr>\n",
       "<tr>\n",
       "  <th>smoking</th>                       <td>   -0.0609</td> <td>    0.023</td> <td>   -2.611</td> <td> 0.009</td> <td>   -0.107</td> <td>   -0.015</td>\n",
       "</tr>\n",
       "<tr>\n",
       "  <th>ever_smoked</th>                   <td>    0.0168</td> <td>    0.020</td> <td>    0.849</td> <td> 0.396</td> <td>   -0.022</td> <td>    0.055</td>\n",
       "</tr>\n",
       "<tr>\n",
       "  <th>female</th>                        <td>    0.0345</td> <td>    0.018</td> <td>    1.968</td> <td> 0.049</td> <td>    0.000</td> <td>    0.069</td>\n",
       "</tr>\n",
       "<tr>\n",
       "  <th>age</th>                           <td>   -0.0026</td> <td>    0.003</td> <td>   -0.859</td> <td> 0.390</td> <td>   -0.009</td> <td>    0.003</td>\n",
       "</tr>\n",
       "<tr>\n",
       "  <th>lspline(eduyears, [8, 18])[0]</th> <td>   -0.0006</td> <td>    0.007</td> <td>   -0.090</td> <td> 0.928</td> <td>   -0.015</td> <td>    0.013</td>\n",
       "</tr>\n",
       "<tr>\n",
       "  <th>lspline(eduyears, [8, 18])[1]</th> <td>    0.0170</td> <td>    0.003</td> <td>    5.097</td> <td> 0.000</td> <td>    0.010</td> <td>    0.023</td>\n",
       "</tr>\n",
       "<tr>\n",
       "  <th>lspline(eduyears, [8, 18])[2]</th> <td>   -0.0098</td> <td>    0.012</td> <td>   -0.825</td> <td> 0.409</td> <td>   -0.033</td> <td>    0.013</td>\n",
       "</tr>\n",
       "<tr>\n",
       "  <th>income10</th>                      <td>    0.0076</td> <td>    0.003</td> <td>    2.461</td> <td> 0.014</td> <td>    0.002</td> <td>    0.014</td>\n",
       "</tr>\n",
       "<tr>\n",
       "  <th>lspline(bmi, [35])[0]</th>         <td>   -0.0123</td> <td>    0.002</td> <td>   -5.109</td> <td> 0.000</td> <td>   -0.017</td> <td>   -0.008</td>\n",
       "</tr>\n",
       "<tr>\n",
       "  <th>lspline(bmi, [35])[1]</th>         <td>    0.0067</td> <td>    0.015</td> <td>    0.439</td> <td> 0.661</td> <td>   -0.023</td> <td>    0.036</td>\n",
       "</tr>\n",
       "<tr>\n",
       "  <th>exerc</th>                         <td>    0.0546</td> <td>    0.017</td> <td>    3.248</td> <td> 0.001</td> <td>    0.022</td> <td>    0.088</td>\n",
       "</tr>\n",
       "</table>"
      ],
      "text/plain": [
       "<class 'statsmodels.iolib.summary.Summary'>\n",
       "\"\"\"\n",
       "        Logit Marginal Effects       \n",
       "=====================================\n",
       "Dep. Variable:           stayshealthy\n",
       "Method:                          dydx\n",
       "At:                           overall\n",
       "=================================================================================================\n",
       "                                   dy/dx    std err          z      P>|z|      [0.025      0.975]\n",
       "-------------------------------------------------------------------------------------------------\n",
       "country[T.12]                    -0.2106      0.070     -2.993      0.003      -0.349      -0.073\n",
       "country[T.13]                    -0.0423      0.059     -0.714      0.475      -0.158       0.074\n",
       "country[T.15]                    -0.1406      0.041     -3.406      0.001      -0.221      -0.060\n",
       "country[T.16]                    -0.2399      0.039     -6.191      0.000      -0.316      -0.164\n",
       "country[T.17]                    -0.1682      0.036     -4.701      0.000      -0.238      -0.098\n",
       "country[T.18]                     0.0934      0.039      2.417      0.016       0.018       0.169\n",
       "country[T.20]                     0.0146      0.034      0.427      0.670      -0.052       0.081\n",
       "country[T.23]                    -0.1229      0.033     -3.678      0.000      -0.188      -0.057\n",
       "country[T.28]                    -0.1618      0.037     -4.345      0.000      -0.235      -0.089\n",
       "country[T.29]                    -0.3152      0.084     -3.751      0.000      -0.480      -0.150\n",
       "country[T.33]                    -0.3382      0.063     -5.332      0.000      -0.463      -0.214\n",
       "country[T.34]                    -0.1972      0.043     -4.538      0.000      -0.282      -0.112\n",
       "country[T.35]                    -0.2901      0.044     -6.582      0.000      -0.376      -0.204\n",
       "smoking                          -0.0609      0.023     -2.611      0.009      -0.107      -0.015\n",
       "ever_smoked                       0.0168      0.020      0.849      0.396      -0.022       0.055\n",
       "female                            0.0345      0.018      1.968      0.049       0.000       0.069\n",
       "age                              -0.0026      0.003     -0.859      0.390      -0.009       0.003\n",
       "lspline(eduyears, [8, 18])[0]    -0.0006      0.007     -0.090      0.928      -0.015       0.013\n",
       "lspline(eduyears, [8, 18])[1]     0.0170      0.003      5.097      0.000       0.010       0.023\n",
       "lspline(eduyears, [8, 18])[2]    -0.0098      0.012     -0.825      0.409      -0.033       0.013\n",
       "income10                          0.0076      0.003      2.461      0.014       0.002       0.014\n",
       "lspline(bmi, [35])[0]            -0.0123      0.002     -5.109      0.000      -0.017      -0.008\n",
       "lspline(bmi, [35])[1]             0.0067      0.015      0.439      0.661      -0.023       0.036\n",
       "exerc                             0.0546      0.017      3.248      0.001       0.022       0.088\n",
       "=================================================================================================\n",
       "\"\"\""
      ]
     },
     "execution_count": 34,
     "metadata": {},
     "output_type": "execute_result"
    }
   ],
   "source": [
    "logit.get_margeff().summary()"
   ]
  },
  {
   "cell_type": "markdown",
   "id": "9ababd96",
   "metadata": {},
   "source": [
    "Probit"
   ]
  },
  {
   "cell_type": "code",
   "execution_count": 35,
   "id": "784b5310",
   "metadata": {},
   "outputs": [
    {
     "name": "stdout",
     "output_type": "stream",
     "text": [
      "Optimization terminated successfully.\n",
      "         Current function value: 0.617255\n",
      "         Iterations 5\n"
     ]
    },
    {
     "data": {
      "text/html": [
       "<table style=\"text-align:center\"><tr><td colspan=\"2\" style=\"border-bottom: 1px solid black\"></td></tr><tr><td style=\"text-align:left\"></td><td colspan=\"1\"><em>Dependent variable:stayshealthy</em></td></tr><tr><td style=\"text-align:left\"></td><tr><td style=\"text-align:left\"></td><td>(1)</td></tr><tr><td colspan=\"2\" style=\"border-bottom: 1px solid black\"></td></tr><tr><td style=\"text-align:left\">smoking</td><td>-0.171<sup>**</sup></td></tr><tr><td style=\"text-align:left\"></td><td>(0.066)</td></tr><tr><td style=\"text-align:left\">ever_smoked</td><td>0.044<sup></sup></td></tr><tr><td style=\"text-align:left\"></td><td>(0.056)</td></tr><tr><td style=\"text-align:left\">female</td><td>0.097<sup>*</sup></td></tr><tr><td style=\"text-align:left\"></td><td>(0.050)</td></tr><tr><td style=\"text-align:left\">age</td><td>-0.008<sup></sup></td></tr><tr><td style=\"text-align:left\"></td><td>(0.009)</td></tr><tr><td style=\"text-align:left\">lspline(eduyears, [8, 18])[0]</td><td>-0.002<sup></sup></td></tr><tr><td style=\"text-align:left\"></td><td>(0.020)</td></tr><tr><td style=\"text-align:left\">lspline(eduyears, [8, 18])[1]</td><td>0.048<sup>***</sup></td></tr><tr><td style=\"text-align:left\"></td><td>(0.010)</td></tr><tr><td style=\"text-align:left\">lspline(eduyears, [8, 18])[2]</td><td>-0.029<sup></sup></td></tr><tr><td style=\"text-align:left\"></td><td>(0.033)</td></tr><tr><td style=\"text-align:left\">income10</td><td>0.022<sup>**</sup></td></tr><tr><td style=\"text-align:left\"></td><td>(0.009)</td></tr><tr><td style=\"text-align:left\">lspline(bmi, [35])[0]</td><td>-0.035<sup>***</sup></td></tr><tr><td style=\"text-align:left\"></td><td>(0.007)</td></tr><tr><td style=\"text-align:left\">lspline(bmi, [35])[1]</td><td>0.017<sup></sup></td></tr><tr><td style=\"text-align:left\"></td><td>(0.044)</td></tr><tr><td style=\"text-align:left\">exerc</td><td>0.151<sup>***</sup></td></tr><tr><td style=\"text-align:left\"></td><td>(0.048)</td></tr><td colspan=\"2\" style=\"border-bottom: 1px solid black\"></td></tr><tr><td style=\"text-align: left\">Observations</td><td>3,109</td></tr><tr><td style=\"text-align: left\">R<sup>2</sup></td><td></td></tr><tr><td style=\"text-align: left\">Adjusted R<sup>2</sup></td><td></td></tr><tr><td style=\"text-align: left\">Residual Std. Error</td><td>1.000 (df=3084)</td></tr><tr><td style=\"text-align: left\">F Statistic</td><td><sup></sup> (df=24; 3084)</td></tr><tr><td colspan=\"2\" style=\"border-bottom: 1px solid black\"></td></tr><tr><td style=\"text-align: left\">Note:</td>\n",
       " <td colspan=\"1\" style=\"text-align: right\">\n",
       "  <sup>*</sup>p&lt;0.1;\n",
       "  <sup>**</sup>p&lt;0.05;\n",
       "  <sup>***</sup>p&lt;0.01\n",
       " </td></tr></table>"
      ],
      "text/plain": [
       "<stargazer.stargazer.Stargazer at 0x1596ff9a0>"
      ]
     },
     "execution_count": 35,
     "metadata": {},
     "output_type": "execute_result"
    }
   ],
   "source": [
    "probit = smf.probit(formula, share).fit()\n",
    "\n",
    "\n",
    "table = Stargazer([probit])\n",
    "table.covariate_order(\n",
    "    [\n",
    "        \"smoking\",\n",
    "        \"ever_smoked\",\n",
    "        \"female\",\n",
    "        \"age\",\n",
    "        \"lspline(eduyears, [8, 18])[0]\",\n",
    "        \"lspline(eduyears, [8, 18])[1]\",\n",
    "        \"lspline(eduyears, [8, 18])[2]\",\n",
    "        \"income10\",\n",
    "        \"lspline(bmi, [35])[0]\",\n",
    "        \"lspline(bmi, [35])[1]\",\n",
    "        \"exerc\",\n",
    "    ]\n",
    ")\n",
    "table"
   ]
  },
  {
   "cell_type": "code",
   "execution_count": 36,
   "id": "44c334b2",
   "metadata": {},
   "outputs": [],
   "source": [
    "share[\"pred_probit\"] = probit.predict()"
   ]
  },
  {
   "cell_type": "markdown",
   "id": "f47498f8",
   "metadata": {},
   "source": [
    "probit marginal differences"
   ]
  },
  {
   "cell_type": "code",
   "execution_count": 37,
   "id": "847ee130",
   "metadata": {},
   "outputs": [
    {
     "data": {
      "text/html": [
       "<table class=\"simpletable\">\n",
       "<caption>Probit Marginal Effects</caption>\n",
       "<tr>\n",
       "  <th>Dep. Variable:</th> <td>stayshealthy</td>\n",
       "</tr>\n",
       "<tr>\n",
       "  <th>Method:</th>            <td>dydx</td>    \n",
       "</tr>\n",
       "<tr>\n",
       "  <th>At:</th>               <td>overall</td>  \n",
       "</tr>\n",
       "</table>\n",
       "<table class=\"simpletable\">\n",
       "<tr>\n",
       "                <th></th>                   <th>dy/dx</th>    <th>std err</th>      <th>z</th>      <th>P>|z|</th>  <th>[0.025</th>    <th>0.975]</th>  \n",
       "</tr>\n",
       "<tr>\n",
       "  <th>country[T.12]</th>                 <td>   -0.2096</td> <td>    0.071</td> <td>   -2.938</td> <td> 0.003</td> <td>   -0.349</td> <td>   -0.070</td>\n",
       "</tr>\n",
       "<tr>\n",
       "  <th>country[T.13]</th>                 <td>   -0.0397</td> <td>    0.059</td> <td>   -0.678</td> <td> 0.498</td> <td>   -0.155</td> <td>    0.075</td>\n",
       "</tr>\n",
       "<tr>\n",
       "  <th>country[T.15]</th>                 <td>   -0.1411</td> <td>    0.042</td> <td>   -3.386</td> <td> 0.001</td> <td>   -0.223</td> <td>   -0.059</td>\n",
       "</tr>\n",
       "<tr>\n",
       "  <th>country[T.16]</th>                 <td>   -0.2420</td> <td>    0.039</td> <td>   -6.193</td> <td> 0.000</td> <td>   -0.319</td> <td>   -0.165</td>\n",
       "</tr>\n",
       "<tr>\n",
       "  <th>country[T.17]</th>                 <td>   -0.1677</td> <td>    0.036</td> <td>   -4.662</td> <td> 0.000</td> <td>   -0.238</td> <td>   -0.097</td>\n",
       "</tr>\n",
       "<tr>\n",
       "  <th>country[T.18]</th>                 <td>    0.0906</td> <td>    0.037</td> <td>    2.446</td> <td> 0.014</td> <td>    0.018</td> <td>    0.163</td>\n",
       "</tr>\n",
       "<tr>\n",
       "  <th>country[T.20]</th>                 <td>    0.0150</td> <td>    0.034</td> <td>    0.445</td> <td> 0.656</td> <td>   -0.051</td> <td>    0.081</td>\n",
       "</tr>\n",
       "<tr>\n",
       "  <th>country[T.23]</th>                 <td>   -0.1215</td> <td>    0.033</td> <td>   -3.643</td> <td> 0.000</td> <td>   -0.187</td> <td>   -0.056</td>\n",
       "</tr>\n",
       "<tr>\n",
       "  <th>country[T.28]</th>                 <td>   -0.1613</td> <td>    0.038</td> <td>   -4.288</td> <td> 0.000</td> <td>   -0.235</td> <td>   -0.088</td>\n",
       "</tr>\n",
       "<tr>\n",
       "  <th>country[T.29]</th>                 <td>   -0.3094</td> <td>    0.082</td> <td>   -3.764</td> <td> 0.000</td> <td>   -0.470</td> <td>   -0.148</td>\n",
       "</tr>\n",
       "<tr>\n",
       "  <th>country[T.33]</th>                 <td>   -0.3430</td> <td>    0.063</td> <td>   -5.435</td> <td> 0.000</td> <td>   -0.467</td> <td>   -0.219</td>\n",
       "</tr>\n",
       "<tr>\n",
       "  <th>country[T.34]</th>                 <td>   -0.1969</td> <td>    0.044</td> <td>   -4.468</td> <td> 0.000</td> <td>   -0.283</td> <td>   -0.111</td>\n",
       "</tr>\n",
       "<tr>\n",
       "  <th>country[T.35]</th>                 <td>   -0.2916</td> <td>    0.045</td> <td>   -6.536</td> <td> 0.000</td> <td>   -0.379</td> <td>   -0.204</td>\n",
       "</tr>\n",
       "<tr>\n",
       "  <th>smoking</th>                       <td>   -0.0601</td> <td>    0.023</td> <td>   -2.575</td> <td> 0.010</td> <td>   -0.106</td> <td>   -0.014</td>\n",
       "</tr>\n",
       "<tr>\n",
       "  <th>ever_smoked</th>                   <td>    0.0156</td> <td>    0.020</td> <td>    0.793</td> <td> 0.428</td> <td>   -0.023</td> <td>    0.054</td>\n",
       "</tr>\n",
       "<tr>\n",
       "  <th>female</th>                        <td>    0.0343</td> <td>    0.018</td> <td>    1.957</td> <td> 0.050</td> <td>-5.49e-05</td> <td>    0.069</td>\n",
       "</tr>\n",
       "<tr>\n",
       "  <th>age</th>                           <td>   -0.0029</td> <td>    0.003</td> <td>   -0.956</td> <td> 0.339</td> <td>   -0.009</td> <td>    0.003</td>\n",
       "</tr>\n",
       "<tr>\n",
       "  <th>lspline(eduyears, [8, 18])[0]</th> <td>   -0.0007</td> <td>    0.007</td> <td>   -0.102</td> <td> 0.918</td> <td>   -0.015</td> <td>    0.013</td>\n",
       "</tr>\n",
       "<tr>\n",
       "  <th>lspline(eduyears, [8, 18])[1]</th> <td>    0.0168</td> <td>    0.003</td> <td>    5.074</td> <td> 0.000</td> <td>    0.010</td> <td>    0.023</td>\n",
       "</tr>\n",
       "<tr>\n",
       "  <th>lspline(eduyears, [8, 18])[2]</th> <td>   -0.0101</td> <td>    0.012</td> <td>   -0.864</td> <td> 0.387</td> <td>   -0.033</td> <td>    0.013</td>\n",
       "</tr>\n",
       "<tr>\n",
       "  <th>income10</th>                      <td>    0.0076</td> <td>    0.003</td> <td>    2.453</td> <td> 0.014</td> <td>    0.002</td> <td>    0.014</td>\n",
       "</tr>\n",
       "<tr>\n",
       "  <th>lspline(bmi, [35])[0]</th>         <td>   -0.0122</td> <td>    0.002</td> <td>   -5.060</td> <td> 0.000</td> <td>   -0.017</td> <td>   -0.007</td>\n",
       "</tr>\n",
       "<tr>\n",
       "  <th>lspline(bmi, [35])[1]</th>         <td>    0.0060</td> <td>    0.015</td> <td>    0.388</td> <td> 0.698</td> <td>   -0.024</td> <td>    0.036</td>\n",
       "</tr>\n",
       "<tr>\n",
       "  <th>exerc</th>                         <td>    0.0532</td> <td>    0.017</td> <td>    3.161</td> <td> 0.002</td> <td>    0.020</td> <td>    0.086</td>\n",
       "</tr>\n",
       "</table>"
      ],
      "text/plain": [
       "<class 'statsmodels.iolib.summary.Summary'>\n",
       "\"\"\"\n",
       "       Probit Marginal Effects       \n",
       "=====================================\n",
       "Dep. Variable:           stayshealthy\n",
       "Method:                          dydx\n",
       "At:                           overall\n",
       "=================================================================================================\n",
       "                                   dy/dx    std err          z      P>|z|      [0.025      0.975]\n",
       "-------------------------------------------------------------------------------------------------\n",
       "country[T.12]                    -0.2096      0.071     -2.938      0.003      -0.349      -0.070\n",
       "country[T.13]                    -0.0397      0.059     -0.678      0.498      -0.155       0.075\n",
       "country[T.15]                    -0.1411      0.042     -3.386      0.001      -0.223      -0.059\n",
       "country[T.16]                    -0.2420      0.039     -6.193      0.000      -0.319      -0.165\n",
       "country[T.17]                    -0.1677      0.036     -4.662      0.000      -0.238      -0.097\n",
       "country[T.18]                     0.0906      0.037      2.446      0.014       0.018       0.163\n",
       "country[T.20]                     0.0150      0.034      0.445      0.656      -0.051       0.081\n",
       "country[T.23]                    -0.1215      0.033     -3.643      0.000      -0.187      -0.056\n",
       "country[T.28]                    -0.1613      0.038     -4.288      0.000      -0.235      -0.088\n",
       "country[T.29]                    -0.3094      0.082     -3.764      0.000      -0.470      -0.148\n",
       "country[T.33]                    -0.3430      0.063     -5.435      0.000      -0.467      -0.219\n",
       "country[T.34]                    -0.1969      0.044     -4.468      0.000      -0.283      -0.111\n",
       "country[T.35]                    -0.2916      0.045     -6.536      0.000      -0.379      -0.204\n",
       "smoking                          -0.0601      0.023     -2.575      0.010      -0.106      -0.014\n",
       "ever_smoked                       0.0156      0.020      0.793      0.428      -0.023       0.054\n",
       "female                            0.0343      0.018      1.957      0.050   -5.49e-05       0.069\n",
       "age                              -0.0029      0.003     -0.956      0.339      -0.009       0.003\n",
       "lspline(eduyears, [8, 18])[0]    -0.0007      0.007     -0.102      0.918      -0.015       0.013\n",
       "lspline(eduyears, [8, 18])[1]     0.0168      0.003      5.074      0.000       0.010       0.023\n",
       "lspline(eduyears, [8, 18])[2]    -0.0101      0.012     -0.864      0.387      -0.033       0.013\n",
       "income10                          0.0076      0.003      2.453      0.014       0.002       0.014\n",
       "lspline(bmi, [35])[0]            -0.0122      0.002     -5.060      0.000      -0.017      -0.007\n",
       "lspline(bmi, [35])[1]             0.0060      0.015      0.388      0.698      -0.024       0.036\n",
       "exerc                             0.0532      0.017      3.161      0.002       0.020       0.086\n",
       "=================================================================================================\n",
       "\"\"\""
      ]
     },
     "execution_count": 37,
     "metadata": {},
     "output_type": "execute_result"
    }
   ],
   "source": [
    "probit.get_margeff().summary()"
   ]
  },
  {
   "cell_type": "markdown",
   "id": "7c691e44",
   "metadata": {},
   "source": [
    "Comparing predictions from the three models"
   ]
  },
  {
   "cell_type": "code",
   "execution_count": 38,
   "id": "417501dd",
   "metadata": {},
   "outputs": [
    {
     "data": {
      "text/html": [
       "<div>\n",
       "<style scoped>\n",
       "    .dataframe tbody tr th:only-of-type {\n",
       "        vertical-align: middle;\n",
       "    }\n",
       "\n",
       "    .dataframe tbody tr th {\n",
       "        vertical-align: top;\n",
       "    }\n",
       "\n",
       "    .dataframe thead th {\n",
       "        text-align: right;\n",
       "    }\n",
       "</style>\n",
       "<table border=\"1\" class=\"dataframe\">\n",
       "  <thead>\n",
       "    <tr style=\"text-align: right;\">\n",
       "      <th></th>\n",
       "      <th>count</th>\n",
       "      <th>mean</th>\n",
       "      <th>std</th>\n",
       "      <th>min</th>\n",
       "      <th>25%</th>\n",
       "      <th>50%</th>\n",
       "      <th>75%</th>\n",
       "      <th>max</th>\n",
       "    </tr>\n",
       "  </thead>\n",
       "  <tbody>\n",
       "    <tr>\n",
       "      <th>pred_lpm</th>\n",
       "      <td>3109.0</td>\n",
       "      <td>0.604696</td>\n",
       "      <td>0.156665</td>\n",
       "      <td>0.036103</td>\n",
       "      <td>0.500122</td>\n",
       "      <td>0.607342</td>\n",
       "      <td>0.713423</td>\n",
       "      <td>1.011026</td>\n",
       "    </tr>\n",
       "    <tr>\n",
       "      <th>pred_logit</th>\n",
       "      <td>3109.0</td>\n",
       "      <td>0.604696</td>\n",
       "      <td>0.157277</td>\n",
       "      <td>0.107760</td>\n",
       "      <td>0.496971</td>\n",
       "      <td>0.614335</td>\n",
       "      <td>0.723092</td>\n",
       "      <td>0.920142</td>\n",
       "    </tr>\n",
       "    <tr>\n",
       "      <th>pred_probit</th>\n",
       "      <td>3109.0</td>\n",
       "      <td>0.604763</td>\n",
       "      <td>0.156611</td>\n",
       "      <td>0.103114</td>\n",
       "      <td>0.498824</td>\n",
       "      <td>0.612903</td>\n",
       "      <td>0.720459</td>\n",
       "      <td>0.930006</td>\n",
       "    </tr>\n",
       "  </tbody>\n",
       "</table>\n",
       "</div>"
      ],
      "text/plain": [
       "              count      mean       std       min       25%       50%  \\\n",
       "pred_lpm     3109.0  0.604696  0.156665  0.036103  0.500122  0.607342   \n",
       "pred_logit   3109.0  0.604696  0.157277  0.107760  0.496971  0.614335   \n",
       "pred_probit  3109.0  0.604763  0.156611  0.103114  0.498824  0.612903   \n",
       "\n",
       "                  75%       max  \n",
       "pred_lpm     0.713423  1.011026  \n",
       "pred_logit   0.723092  0.920142  \n",
       "pred_probit  0.720459  0.930006  "
      ]
     },
     "execution_count": 38,
     "metadata": {},
     "output_type": "execute_result"
    }
   ],
   "source": [
    "share.filter([\"pred_lpm\",\"pred_logit\",\"pred_probit\"]).describe().T"
   ]
  },
  {
   "cell_type": "markdown",
   "id": "3286ab2b",
   "metadata": {},
   "source": [
    "Creating a model summary output for base models"
   ]
  },
  {
   "cell_type": "code",
   "execution_count": 39,
   "id": "1876ea72",
   "metadata": {},
   "outputs": [
    {
     "data": {
      "text/html": [
       "<table style=\"text-align:center\"><tr><td colspan=\"4\" style=\"border-bottom: 1px solid black\"></td></tr><tr><td style=\"text-align:left\"></td><td colspan=\"3\"><em>Dependent variable:stayshealthy</em></td></tr><tr><td style=\"text-align:left\"></td><tr><td style=\"text-align:left\"></td><td>(1)</td><td>(2)</td><td>(3)</td></tr><tr><td colspan=\"4\" style=\"border-bottom: 1px solid black\"></td></tr><tr><td style=\"text-align:left\">smoking</td><td>-0.061<sup>**</sup></td><td>-0.284<sup>***</sup></td><td>-0.171<sup>**</sup></td></tr><tr><td style=\"text-align:left\"></td><td>(0.024)</td><td>(0.109)</td><td>(0.066)</td></tr><tr><td style=\"text-align:left\">ever_smoked</td><td>0.015<sup></sup></td><td>0.078<sup></sup></td><td>0.044<sup></sup></td></tr><tr><td style=\"text-align:left\"></td><td>(0.020)</td><td>(0.092)</td><td>(0.056)</td></tr><tr><td style=\"text-align:left\">female</td><td>0.033<sup>*</sup></td><td>0.161<sup>**</sup></td><td>0.097<sup>*</sup></td></tr><tr><td style=\"text-align:left\"></td><td>(0.018)</td><td>(0.082)</td><td>(0.050)</td></tr><tr><td style=\"text-align:left\">age</td><td>-0.003<sup></sup></td><td>-0.012<sup></sup></td><td>-0.008<sup></sup></td></tr><tr><td style=\"text-align:left\"></td><td>(0.003)</td><td>(0.014)</td><td>(0.009)</td></tr><tr><td style=\"text-align:left\">lspline(eduyears, [8, 18])[0]</td><td>-0.001<sup></sup></td><td>-0.003<sup></sup></td><td>-0.002<sup></sup></td></tr><tr><td style=\"text-align:left\"></td><td>(0.007)</td><td>(0.033)</td><td>(0.020)</td></tr><tr><td style=\"text-align:left\">lspline(eduyears, [8, 18])[1]</td><td>0.017<sup>***</sup></td><td>0.079<sup>***</sup></td><td>0.048<sup>***</sup></td></tr><tr><td style=\"text-align:left\"></td><td>(0.003)</td><td>(0.016)</td><td>(0.010)</td></tr><tr><td style=\"text-align:left\">lspline(eduyears, [8, 18])[2]</td><td>-0.010<sup></sup></td><td>-0.046<sup></sup></td><td>-0.029<sup></sup></td></tr><tr><td style=\"text-align:left\"></td><td>(0.012)</td><td>(0.055)</td><td>(0.033)</td></tr><tr><td style=\"text-align:left\">income10</td><td>0.008<sup>**</sup></td><td>0.036<sup>**</sup></td><td>0.022<sup>**</sup></td></tr><tr><td style=\"text-align:left\"></td><td>(0.003)</td><td>(0.015)</td><td>(0.009)</td></tr><tr><td style=\"text-align:left\">lspline(bmi, [35])[0]</td><td>-0.012<sup>***</sup></td><td>-0.057<sup>***</sup></td><td>-0.035<sup>***</sup></td></tr><tr><td style=\"text-align:left\"></td><td>(0.002)</td><td>(0.011)</td><td>(0.007)</td></tr><tr><td style=\"text-align:left\">lspline(bmi, [35])[1]</td><td>0.006<sup></sup></td><td>0.031<sup></sup></td><td>0.017<sup></sup></td></tr><tr><td style=\"text-align:left\"></td><td>(0.016)</td><td>(0.071)</td><td>(0.044)</td></tr><tr><td style=\"text-align:left\">exerc</td><td>0.053<sup>***</sup></td><td>0.255<sup>***</sup></td><td>0.151<sup>***</sup></td></tr><tr><td style=\"text-align:left\"></td><td>(0.017)</td><td>(0.079)</td><td>(0.048)</td></tr><td colspan=\"4\" style=\"border-bottom: 1px solid black\"></td></tr><tr><td style=\"text-align: left\">Observations</td><td>3,109</td><td>3,109</td><td>3,109</td></tr><tr><td style=\"text-align: left\">R<sup>2</sup></td><td>0.103</td><td></td><td></td></tr><tr><td style=\"text-align: left\">Adjusted R<sup>2</sup></td><td>0.096</td><td></td><td></td></tr><tr><td style=\"text-align: left\">Residual Std. Error</td><td>0.465 (df=3084)</td><td>1.000 (df=3084)</td><td>1.000 (df=3084)</td></tr><tr><td style=\"text-align: left\">F Statistic</td><td>14.699<sup>***</sup> (df=24; 3084)</td><td><sup></sup> (df=24; 3084)</td><td><sup></sup> (df=24; 3084)</td></tr><tr><td colspan=\"4\" style=\"border-bottom: 1px solid black\"></td></tr><tr><td style=\"text-align: left\">Note:</td>\n",
       " <td colspan=\"3\" style=\"text-align: right\">\n",
       "  <sup>*</sup>p&lt;0.1;\n",
       "  <sup>**</sup>p&lt;0.05;\n",
       "  <sup>***</sup>p&lt;0.01\n",
       " </td></tr></table>"
      ],
      "text/plain": [
       "<stargazer.stargazer.Stargazer at 0x15a462dd0>"
      ]
     },
     "execution_count": 39,
     "metadata": {},
     "output_type": "execute_result"
    }
   ],
   "source": [
    "table = Stargazer([lpm,logit,probit])\n",
    "table.covariate_order(\n",
    "    [\n",
    "        \"smoking\",\n",
    "        \"ever_smoked\",\n",
    "        \"female\",\n",
    "        \"age\",\n",
    "        \"lspline(eduyears, [8, 18])[0]\",\n",
    "        \"lspline(eduyears, [8, 18])[1]\",\n",
    "        \"lspline(eduyears, [8, 18])[2]\",\n",
    "        \"income10\",\n",
    "        \"lspline(bmi, [35])[0]\",\n",
    "        \"lspline(bmi, [35])[1]\",\n",
    "        \"exerc\",\n",
    "    ]\n",
    ")\n",
    "table"
   ]
  },
  {
   "cell_type": "markdown",
   "id": "fa0923b2",
   "metadata": {},
   "source": [
    "## 4) Goodness of Fit (GoF) statistics \n",
    "       with binary models\n",
    "\n",
    " goodness of fit is the same for marginal effects \n",
    "   as the base models, as it only calculates some averaged effects.\n",
    "\n",
    "Lets import some metrics from the sklearn package"
   ]
  },
  {
   "cell_type": "code",
   "execution_count": 40,
   "id": "6a9f7b2b",
   "metadata": {},
   "outputs": [],
   "source": [
    "from sklearn.metrics import mean_squared_error\n",
    "from sklearn.metrics import r2_score\n",
    "from sklearn.metrics import log_loss"
   ]
  },
  {
   "cell_type": "code",
   "execution_count": 41,
   "id": "42ce8bdd",
   "metadata": {},
   "outputs": [
    {
     "data": {
      "text/html": [
       "<div>\n",
       "<style scoped>\n",
       "    .dataframe tbody tr th:only-of-type {\n",
       "        vertical-align: middle;\n",
       "    }\n",
       "\n",
       "    .dataframe tbody tr th {\n",
       "        vertical-align: top;\n",
       "    }\n",
       "\n",
       "    .dataframe thead th {\n",
       "        text-align: right;\n",
       "    }\n",
       "</style>\n",
       "<table border=\"1\" class=\"dataframe\">\n",
       "  <thead>\n",
       "    <tr style=\"text-align: right;\">\n",
       "      <th></th>\n",
       "      <th>LPM</th>\n",
       "      <th>Logit</th>\n",
       "      <th>Probit</th>\n",
       "    </tr>\n",
       "  </thead>\n",
       "  <tbody>\n",
       "    <tr>\n",
       "      <th>R-squared</th>\n",
       "      <td>0.103</td>\n",
       "      <td>0.104</td>\n",
       "      <td>0.104</td>\n",
       "    </tr>\n",
       "    <tr>\n",
       "      <th>Brier-score</th>\n",
       "      <td>0.215</td>\n",
       "      <td>0.214</td>\n",
       "      <td>0.214</td>\n",
       "    </tr>\n",
       "    <tr>\n",
       "      <th>Pseudo R-squared</th>\n",
       "      <td>NaN</td>\n",
       "      <td>0.080</td>\n",
       "      <td>0.080</td>\n",
       "    </tr>\n",
       "    <tr>\n",
       "      <th>Log-loss</th>\n",
       "      <td>-0.620</td>\n",
       "      <td>-0.617</td>\n",
       "      <td>-0.617</td>\n",
       "    </tr>\n",
       "  </tbody>\n",
       "</table>\n",
       "</div>"
      ],
      "text/plain": [
       "                    LPM  Logit  Probit\n",
       "R-squared         0.103  0.104   0.104\n",
       "Brier-score       0.215  0.214   0.214\n",
       "Pseudo R-squared    NaN  0.080   0.080\n",
       "Log-loss         -0.620 -0.617  -0.617"
      ]
     },
     "execution_count": 41,
     "metadata": {},
     "output_type": "execute_result"
    }
   ],
   "source": [
    "pd.DataFrame(\n",
    "    {\n",
    "        \"R-squared\": [\n",
    "            lpm.rsquared,\n",
    "            r2_score(share[\"stayshealthy\"], share[\"pred_logit\"]),\n",
    "            r2_score(share[\"stayshealthy\"], share[\"pred_probit\"]),\n",
    "        ],\n",
    "        \"Brier-score\": [\n",
    "            mean_squared_error(share[\"stayshealthy\"], share[\"pred_lpm\"]),\n",
    "            mean_squared_error(share[\"stayshealthy\"], share[\"pred_logit\"]),\n",
    "            mean_squared_error(share[\"stayshealthy\"], share[\"pred_probit\"]),\n",
    "        ],\n",
    "        \"Pseudo R-squared\": [np.nan, logit.prsquared, probit.prsquared],\n",
    "        \"Log-loss\": [\n",
    "            -1 * log_loss(share[\"stayshealthy\"], share[\"pred_lpm\"]),\n",
    "            -1 * log_loss(share[\"stayshealthy\"], share[\"pred_logit\"]),\n",
    "            -1 * log_loss(share[\"stayshealthy\"], share[\"pred_probit\"]),\n",
    "        ],\n",
    "    },\n",
    "    index=[\"LPM\", \"Logit\", \"Probit\"],\n",
    ").T.round(3)"
   ]
  },
  {
   "cell_type": "markdown",
   "id": "2273f050",
   "metadata": {},
   "source": [
    "## 5) Visual inspection for model comparisons"
   ]
  },
  {
   "cell_type": "markdown",
   "id": "eec04329",
   "metadata": {},
   "source": [
    " a) Comparing predicted probabilities of logit and probit to LPM"
   ]
  },
  {
   "cell_type": "markdown",
   "id": "d0320675",
   "metadata": {},
   "source": [
    "First, we need some data manipulation to convert wide to long"
   ]
  },
  {
   "cell_type": "code",
   "execution_count": 42,
   "id": "18c5c3a5",
   "metadata": {},
   "outputs": [],
   "source": [
    "df_plot = pd.melt(\n",
    "    share[[\"pred_lpm\", \"pred_logit\", \"pred_probit\"]].rename(\n",
    "        columns={\"pred_logit\": \"Logit\", \"pred_probit\": \"Probit\"}\n",
    "    ),\n",
    "    value_vars=[\"Logit\", \"Probit\"],\n",
    "    id_vars=[\"pred_lpm\"],\n",
    ").sort_values(by=[\"variable\"], ascending=False)\n"
   ]
  },
  {
   "cell_type": "code",
   "execution_count": 43,
   "id": "1567c2de",
   "metadata": {},
   "outputs": [
    {
     "data": {
      "text/html": [
       "<div>\n",
       "<style scoped>\n",
       "    .dataframe tbody tr th:only-of-type {\n",
       "        vertical-align: middle;\n",
       "    }\n",
       "\n",
       "    .dataframe tbody tr th {\n",
       "        vertical-align: top;\n",
       "    }\n",
       "\n",
       "    .dataframe thead th {\n",
       "        text-align: right;\n",
       "    }\n",
       "</style>\n",
       "<table border=\"1\" class=\"dataframe\">\n",
       "  <thead>\n",
       "    <tr style=\"text-align: right;\">\n",
       "      <th></th>\n",
       "      <th>pred_lpm</th>\n",
       "      <th>variable</th>\n",
       "      <th>value</th>\n",
       "    </tr>\n",
       "  </thead>\n",
       "  <tbody>\n",
       "    <tr>\n",
       "      <th>3109</th>\n",
       "      <td>0.654021</td>\n",
       "      <td>Probit</td>\n",
       "      <td>0.655557</td>\n",
       "    </tr>\n",
       "    <tr>\n",
       "      <th>4130</th>\n",
       "      <td>0.644235</td>\n",
       "      <td>Probit</td>\n",
       "      <td>0.653171</td>\n",
       "    </tr>\n",
       "    <tr>\n",
       "      <th>4152</th>\n",
       "      <td>0.588621</td>\n",
       "      <td>Probit</td>\n",
       "      <td>0.596055</td>\n",
       "    </tr>\n",
       "    <tr>\n",
       "      <th>4151</th>\n",
       "      <td>0.393780</td>\n",
       "      <td>Probit</td>\n",
       "      <td>0.377629</td>\n",
       "    </tr>\n",
       "    <tr>\n",
       "      <th>4150</th>\n",
       "      <td>0.340910</td>\n",
       "      <td>Probit</td>\n",
       "      <td>0.325872</td>\n",
       "    </tr>\n",
       "  </tbody>\n",
       "</table>\n",
       "</div>"
      ],
      "text/plain": [
       "      pred_lpm variable     value\n",
       "3109  0.654021   Probit  0.655557\n",
       "4130  0.644235   Probit  0.653171\n",
       "4152  0.588621   Probit  0.596055\n",
       "4151  0.393780   Probit  0.377629\n",
       "4150  0.340910   Probit  0.325872"
      ]
     },
     "execution_count": 43,
     "metadata": {},
     "output_type": "execute_result"
    }
   ],
   "source": [
    "df_plot.head()"
   ]
  },
  {
   "cell_type": "code",
   "execution_count": 44,
   "id": "ca5ca889",
   "metadata": {},
   "outputs": [
    {
     "data": {
      "image/png": "[encoded data removed]",
      "text/plain": [
       "<Figure size 640x480 with 1 Axes>"
      ]
     },
     "metadata": {},
     "output_type": "display_data"
    },
    {
     "data": {
      "text/plain": [
       "<ggplot: (363131808)>"
      ]
     },
     "execution_count": 44,
     "metadata": {},
     "output_type": "execute_result"
    }
   ],
   "source": [
    "(\n",
    "    ggplot(data=df_plot)\n",
    "    + geom_point(aes(x=\"pred_lpm\", y=\"value\", color=\"variable\"), size=0.6, na_rm=True)\n",
    "    + geom_abline(intercept=0, slope=1, color=\"green\", size=1)\n",
    "    + labs(\n",
    "        x=\"Predicted probability of staying healthy (LPM)\", y=\"Predicted probability\"\n",
    "    )\n",
    "    + scale_y_continuous(\n",
    "        expand=[0.00, 0.0], limits=[0, 1], breaks=np.arange(0, 1.1, 0.1)\n",
    "    )\n",
    "    + scale_x_continuous(\n",
    "        expand=[0.00, 0.0], limits=[0, 1], breaks=np.arange(0, 1.1, 0.1)\n",
    "    )\n",
    "    + scale_color_manual(name=\"\", values=[\"blue\", \"red\"])\n",
    "    + theme_bw()\n",
    ")"
   ]
  },
  {
   "cell_type": "markdown",
   "id": "4e0e49e6",
   "metadata": {},
   "source": [
    "b) Comparing simple LPM and rich LPM's categorization"
   ]
  },
  {
   "cell_type": "code",
   "execution_count": 45,
   "id": "b3943cdd",
   "metadata": {},
   "outputs": [],
   "source": [
    "lpmbase = smf.ols('stayshealthy ~ smoking', data=share).fit()\n",
    "share['pred_lpmbase']=lpmbase.predict()"
   ]
  },
  {
   "cell_type": "markdown",
   "id": "852883b9",
   "metadata": {},
   "source": [
    " b1) LPM simple model"
   ]
  },
  {
   "cell_type": "code",
   "execution_count": 46,
   "id": "12b88418",
   "metadata": {},
   "outputs": [
    {
     "data": {
      "image/png": "[encoded data removed]",
      "text/plain": [
       "<Figure size 640x480 with 1 Axes>"
      ]
     },
     "metadata": {},
     "output_type": "display_data"
    },
    {
     "data": {
      "text/plain": [
       "<ggplot: (362414540)>"
      ]
     },
     "execution_count": 46,
     "metadata": {},
     "output_type": "execute_result"
    }
   ],
   "source": [
    "(\n",
    "    ggplot(\n",
    "        share,\n",
    "        aes(x=\"pred_lpmbase\", fill=\"stayshealthy\", y=\"stat(count/sum(count)))*100\"),\n",
    "    )\n",
    "    + geom_histogram(\n",
    "        share[share[\"stayshealthy\"] == 1],\n",
    "        binwidth=0.05,\n",
    "        color=\"blue\",\n",
    "        fill=\"blue\",\n",
    "        boundary=0.55,\n",
    "    )\n",
    "    + geom_histogram(\n",
    "        share[share[\"stayshealthy\"] == 0],\n",
    "        binwidth=0.05,\n",
    "        color=\"red\",\n",
    "        fill=None,\n",
    "        boundary=0.55,\n",
    "    )\n",
    "    + ylab(\"Percent\")\n",
    "    + xlab(\"Fitted values\")\n",
    "    + scale_x_continuous(\n",
    "        expand=[0.01, 0.01], limits=[0, 1], breaks=np.arange(0, 1.1, 0.2)\n",
    "    )\n",
    "    + scale_y_continuous(\n",
    "        expand=[0.00, 0.00], limits=[0, 80], breaks=np.arange(0, 81, 20)\n",
    "    )\n",
    "    + theme_bw()\n",
    "    + theme(legend_position=(0.3, 0.8))\n",
    ")"
   ]
  },
  {
   "cell_type": "markdown",
   "id": "9c4f8aba",
   "metadata": {},
   "source": [
    "b2) LPM rich model"
   ]
  },
  {
   "cell_type": "code",
   "execution_count": 47,
   "id": "9697f9f8",
   "metadata": {},
   "outputs": [
    {
     "data": {
      "image/png": "[encoded data removed]",
      "text/plain": [
       "<Figure size 640x480 with 1 Axes>"
      ]
     },
     "metadata": {},
     "output_type": "display_data"
    },
    {
     "data": {
      "text/plain": [
       "<ggplot: (363273397)>"
      ]
     },
     "execution_count": 47,
     "metadata": {},
     "output_type": "execute_result"
    }
   ],
   "source": [
    "(\n",
    "    ggplot(\n",
    "        share,\n",
    "        aes(x=\"pred_lpm\", fill=\"stayshealthy\", y=\"stat(count/sum(count)))*100\"),\n",
    "    )\n",
    "    + geom_histogram(\n",
    "        share[share[\"stayshealthy\"] == 1],\n",
    "        binwidth=0.05,\n",
    "        color=\"blue\",\n",
    "        fill=\"blue\",\n",
    "        boundary=0.55,\n",
    "        na_rm=True\n",
    "    )\n",
    "    + geom_histogram(\n",
    "        share[share[\"stayshealthy\"] == 0],\n",
    "        binwidth=0.05,\n",
    "        color=\"red\",\n",
    "        fill=None,\n",
    "        boundary=0.55,\n",
    "    )\n",
    "    + ylab(\"Percent\")\n",
    "    + xlab(\"Fitted values\")\n",
    "    + scale_x_continuous(expand=[0.01, 0.01], limits=[0, 1], breaks=np.arange(0, 1.1, 0.2))\n",
    "    + scale_y_continuous(expand=[0.00, 0.00], limits=[0, 20], breaks=np.arange(0, 21, 4))\n",
    "    + theme_bw()\n",
    ")\n"
   ]
  },
  {
   "cell_type": "markdown",
   "id": "7080ef6c",
   "metadata": {},
   "source": [
    "## 6) Summary statistics on predicted probabilities"
   ]
  },
  {
   "cell_type": "markdown",
   "id": "891bc93e",
   "metadata": {},
   "source": [
    "## Task:\n",
    "\n",
    "Create a CONDITIONAL descriptive statistics on stayhealth for:\n",
    "\n",
    "    \"pred_lpmbase\",\"pred_lpm\",\"pred_logit\",\"pred_probit\" \n",
    "   \n",
    "use: \"mean\",\"median\",\"min\",\"max\",\"sd\" as descriptives"
   ]
  },
  {
   "cell_type": "code",
   "execution_count": 48,
   "id": "a0b09345",
   "metadata": {},
   "outputs": [
    {
     "data": {
      "text/html": [
       "<div>\n",
       "<style scoped>\n",
       "    .dataframe tbody tr th:only-of-type {\n",
       "        vertical-align: middle;\n",
       "    }\n",
       "\n",
       "    .dataframe tbody tr th {\n",
       "        vertical-align: top;\n",
       "    }\n",
       "\n",
       "    .dataframe thead th {\n",
       "        text-align: right;\n",
       "    }\n",
       "</style>\n",
       "<table border=\"1\" class=\"dataframe\">\n",
       "  <thead>\n",
       "    <tr style=\"text-align: right;\">\n",
       "      <th></th>\n",
       "      <th></th>\n",
       "      <th>mean</th>\n",
       "      <th>median</th>\n",
       "      <th>min</th>\n",
       "      <th>max</th>\n",
       "      <th>std</th>\n",
       "    </tr>\n",
       "    <tr>\n",
       "      <th>stayshealthy</th>\n",
       "      <th>variable</th>\n",
       "      <th></th>\n",
       "      <th></th>\n",
       "      <th></th>\n",
       "      <th></th>\n",
       "      <th></th>\n",
       "    </tr>\n",
       "  </thead>\n",
       "  <tbody>\n",
       "    <tr>\n",
       "      <th rowspan=\"4\" valign=\"top\">0</th>\n",
       "      <th>pred_logit</th>\n",
       "      <td>0.541993</td>\n",
       "      <td>0.543988</td>\n",
       "      <td>0.145075</td>\n",
       "      <td>0.916548</td>\n",
       "      <td>0.152913</td>\n",
       "    </tr>\n",
       "    <tr>\n",
       "      <th>pred_lpm</th>\n",
       "      <td>0.542627</td>\n",
       "      <td>0.543480</td>\n",
       "      <td>0.107263</td>\n",
       "      <td>0.998544</td>\n",
       "      <td>0.148973</td>\n",
       "    </tr>\n",
       "    <tr>\n",
       "      <th>pred_lpmbase</th>\n",
       "      <td>0.602536</td>\n",
       "      <td>0.620390</td>\n",
       "      <td>0.550287</td>\n",
       "      <td>0.620390</td>\n",
       "      <td>0.030555</td>\n",
       "    </tr>\n",
       "    <tr>\n",
       "      <th>pred_probit</th>\n",
       "      <td>0.542372</td>\n",
       "      <td>0.544583</td>\n",
       "      <td>0.139130</td>\n",
       "      <td>0.925826</td>\n",
       "      <td>0.151568</td>\n",
       "    </tr>\n",
       "    <tr>\n",
       "      <th rowspan=\"4\" valign=\"top\">1</th>\n",
       "      <th>pred_logit</th>\n",
       "      <td>0.645687</td>\n",
       "      <td>0.654917</td>\n",
       "      <td>0.107760</td>\n",
       "      <td>0.920142</td>\n",
       "      <td>0.146222</td>\n",
       "    </tr>\n",
       "    <tr>\n",
       "      <th>pred_lpm</th>\n",
       "      <td>0.645272</td>\n",
       "      <td>0.646661</td>\n",
       "      <td>0.036103</td>\n",
       "      <td>1.011026</td>\n",
       "      <td>0.148076</td>\n",
       "    </tr>\n",
       "    <tr>\n",
       "      <th>pred_lpmbase</th>\n",
       "      <td>0.606108</td>\n",
       "      <td>0.620390</td>\n",
       "      <td>0.550287</td>\n",
       "      <td>0.620390</td>\n",
       "      <td>0.028242</td>\n",
       "    </tr>\n",
       "    <tr>\n",
       "      <th>pred_probit</th>\n",
       "      <td>0.645549</td>\n",
       "      <td>0.653014</td>\n",
       "      <td>0.103114</td>\n",
       "      <td>0.930006</td>\n",
       "      <td>0.146100</td>\n",
       "    </tr>\n",
       "  </tbody>\n",
       "</table>\n",
       "</div>"
      ],
      "text/plain": [
       "                               mean    median       min       max       std\n",
       "stayshealthy variable                                                      \n",
       "0            pred_logit    0.541993  0.543988  0.145075  0.916548  0.152913\n",
       "             pred_lpm      0.542627  0.543480  0.107263  0.998544  0.148973\n",
       "             pred_lpmbase  0.602536  0.620390  0.550287  0.620390  0.030555\n",
       "             pred_probit   0.542372  0.544583  0.139130  0.925826  0.151568\n",
       "1            pred_logit    0.645687  0.654917  0.107760  0.920142  0.146222\n",
       "             pred_lpm      0.645272  0.646661  0.036103  1.011026  0.148076\n",
       "             pred_lpmbase  0.606108  0.620390  0.550287  0.620390  0.028242\n",
       "             pred_probit   0.645549  0.653014  0.103114  0.930006  0.146100"
      ]
     },
     "execution_count": 48,
     "metadata": {},
     "output_type": "execute_result"
    }
   ],
   "source": [
    "(\n",
    "    share.melt(\n",
    "        id_vars=[\"stayshealthy\"],\n",
    "        value_vars=[\"pred_lpmbase\", \"pred_lpm\", \"pred_logit\", \"pred_probit\"],\n",
    "    )\n",
    "    .groupby([\"stayshealthy\", \"variable\"])[\"value\"]\n",
    "    .agg([\"mean\", \"median\", \"min\", \"max\", \"std\"])\n",
    ")"
   ]
  },
  {
   "cell_type": "markdown",
   "id": "98534eb5",
   "metadata": {},
   "source": [
    "## 7) Bias and Calibration curve"
   ]
  },
  {
   "cell_type": "markdown",
   "id": "9ffae89b",
   "metadata": {},
   "source": [
    "Lets use the logit model!"
   ]
  },
  {
   "cell_type": "markdown",
   "id": "589632b3",
   "metadata": {},
   "source": [
    " Biased prediction? Calculate bias!\n",
    " \n",
    " \n",
    "   Hint: bias = mean(prediction) - mean(actual)\n",
    "   \n",
    "   calibration curves -> essentially a scatter-bin!"
   ]
  },
  {
   "cell_type": "code",
   "execution_count": 49,
   "id": "798271b0",
   "metadata": {},
   "outputs": [],
   "source": [
    "breaks = np.array(\n",
    "    [\n",
    "        0,\n",
    "        0.2,\n",
    "        0.25,\n",
    "        0.3,\n",
    "        0.35,\n",
    "        0.4,\n",
    "        0.45,\n",
    "        0.5,\n",
    "        0.55,\n",
    "        0.6,\n",
    "        0.65,\n",
    "        0.7,\n",
    "        0.75,\n",
    "        0.8,\n",
    "        0.85,\n",
    "        1.05,\n",
    "    ]\n",
    ")"
   ]
  },
  {
   "cell_type": "markdown",
   "id": "92f6ca2e",
   "metadata": {},
   "source": [
    "Create binned data:"
   ]
  },
  {
   "cell_type": "code",
   "execution_count": 50,
   "id": "fe92aa1e",
   "metadata": {},
   "outputs": [],
   "source": [
    "share[\"prob_bin\"] = pd.cut(share[\"pred_logit\"], breaks, right=True, include_lowest=True)"
   ]
  },
  {
   "cell_type": "code",
   "execution_count": 51,
   "id": "c2b9f4d5",
   "metadata": {},
   "outputs": [],
   "source": [
    "binned_data = (\n",
    "        share.groupby(\"prob_bin\")\n",
    "        .agg(\n",
    "            mean_prob=(\"pred_logit\", \"mean\"),\n",
    "            mean_actual=(\"stayshealthy\", \"mean\"),\n",
    "            n=(\"stayshealthy\", \"size\"),\n",
    "        )\n",
    "        .reset_index()\n",
    "    )\n"
   ]
  },
  {
   "cell_type": "code",
   "execution_count": 52,
   "id": "0cdc6b5f",
   "metadata": {},
   "outputs": [
    {
     "data": {
      "image/png": "[encoded data removed]",
      "text/plain": [
       "<Figure size 640x480 with 1 Axes>"
      ]
     },
     "metadata": {},
     "output_type": "display_data"
    },
    {
     "data": {
      "text/plain": [
       "<ggplot: (363312498)>"
      ]
     },
     "execution_count": 52,
     "metadata": {},
     "output_type": "execute_result"
    }
   ],
   "source": [
    "(\n",
    "    ggplot(binned_data, aes(\"mean_prob\", \"mean_actual\"))\n",
    "    + geom_line(color=\"blue\", size=1, show_legend=True)\n",
    "    + geom_point(\n",
    "        color=\"blue\",\n",
    "        size=1,\n",
    "        alpha=0.7,\n",
    "        show_legend=False,\n",
    "        na_rm=True,\n",
    "    )\n",
    "    + geom_segment(\n",
    "        x=min(breaks),\n",
    "        xend=max(breaks),\n",
    "        y=min(breaks),\n",
    "        yend=max(breaks),\n",
    "        color=\"red\",\n",
    "        size=0.5,\n",
    "    )\n",
    "    + theme_bw()\n",
    "    + labs(x=\"Predicted event probability\", y=\"Stays healthy\")\n",
    "    + coord_cartesian(xlim=(0, 1), ylim=(0, 1))\n",
    "    + expand_limits(x=0.01, y=0.01)\n",
    "    + scale_y_continuous(expand=(0.01, 0.01), breaks=(np.arange(0, 1.1, 0.1)))\n",
    "    + scale_x_continuous(expand=(0.01, 0.01), breaks=(np.arange(0, 1.1, 0.1)))\n",
    ")"
   ]
  },
  {
   "cell_type": "markdown",
   "id": "9c25679e",
   "metadata": {},
   "source": [
    "## Task\n",
    "\n",
    "Do the same calibration curve, but now for LPM rich model\\\n",
    "   Make sure that in the plot you also show the Logit-bias as well"
   ]
  },
  {
   "cell_type": "code",
   "execution_count": 53,
   "id": "3b41a539",
   "metadata": {},
   "outputs": [],
   "source": [
    "share[\"prob_bin\"] = pd.cut(share[\"pred_lpm\"], breaks, right=True, include_lowest=True)"
   ]
  },
  {
   "cell_type": "code",
   "execution_count": 54,
   "id": "ebf8792b",
   "metadata": {},
   "outputs": [],
   "source": [
    "binned_data2 = (\n",
    "        share.groupby(\"prob_bin\")\n",
    "        .agg(\n",
    "            mean_prob_lpm=(\"pred_lpm\", \"mean\"),\n",
    "            mean_actual_lpm=(\"stayshealthy\", \"mean\"),\n",
    "            n=(\"stayshealthy\", \"size\"),\n",
    "        )\n",
    "        .reset_index()\n",
    "    )\n"
   ]
  },
  {
   "cell_type": "markdown",
   "id": "b374842e",
   "metadata": {},
   "source": [
    "Join the two data for pretty plot"
   ]
  },
  {
   "cell_type": "code",
   "execution_count": 55,
   "id": "ff80b703",
   "metadata": {},
   "outputs": [],
   "source": [
    "binned_data = binned_data.merge(binned_data2, on = \"prob_bin\")"
   ]
  },
  {
   "cell_type": "code",
   "execution_count": 56,
   "id": "9325fe8e",
   "metadata": {},
   "outputs": [
    {
     "data": {
      "image/png": "[encoded data removed]",
      "text/plain": [
       "<Figure size 640x480 with 1 Axes>"
      ]
     },
     "metadata": {},
     "output_type": "display_data"
    },
    {
     "data": {
      "text/plain": [
       "<ggplot: (362615730)>"
      ]
     },
     "execution_count": 56,
     "metadata": {},
     "output_type": "execute_result"
    }
   ],
   "source": [
    "(\n",
    "    ggplot(binned_data)\n",
    "    + geom_line(aes(\"mean_prob\", \"mean_actual\"), color=\"blue\", size=1, show_legend=True)\n",
    "    + geom_point(\n",
    "        aes(\"mean_prob\", \"mean_actual\"),\n",
    "        color=\"blue\",\n",
    "        size=1,\n",
    "        alpha=0.7,\n",
    "        show_legend=False,\n",
    "        na_rm=True,\n",
    "    )\n",
    "    + geom_segment(\n",
    "        x=min(breaks),\n",
    "        xend=max(breaks),\n",
    "        y=min(breaks),\n",
    "        yend=max(breaks),\n",
    "        color=\"red\",\n",
    "        size=0.5,\n",
    "    )\n",
    "    + geom_line(\n",
    "        aes(\"mean_prob_lpm\", \"mean_actual_lpm\"), color=\"green\", size=1, show_legend=True\n",
    "    )\n",
    "    + geom_point(\n",
    "        aes(\"mean_prob_lpm\", \"mean_actual_lpm\"),\n",
    "        color=\"green\",\n",
    "        size=1,\n",
    "        alpha=0.7,\n",
    "        show_legend=False,\n",
    "        na_rm=True,\n",
    "    )\n",
    "    + geom_segment(\n",
    "        x=min(breaks),\n",
    "        xend=max(breaks),\n",
    "        y=min(breaks),\n",
    "        yend=max(breaks),\n",
    "        color=\"red\",\n",
    "        size=0.5,\n",
    "    )\n",
    "    + theme_bw()\n",
    "    + labs(x=\"Predicted event probability\", y=\"Stays healthy\")\n",
    "    + annotate(\n",
    "        \"text\",\n",
    "        x=(0.2, 0.15),\n",
    "        y=(0.35, 0.25),\n",
    "        label=(\"logit\", \"LPM\"),\n",
    "        color=(\"blue\", \"green\"),\n",
    "    )\n",
    "    + coord_cartesian(xlim=(0, 1), ylim=(0, 1))\n",
    "    + expand_limits(x=0.01, y=0.01)\n",
    "    + scale_y_continuous(expand=(0.01, 0.01), breaks=(np.arange(0, 1.1, 0.1)))\n",
    "    + scale_x_continuous(expand=(0.01, 0.01), breaks=(np.arange(0, 1.1, 0.1)))\n",
    ")"
   ]
  },
  {
   "cell_type": "code",
   "execution_count": null,
   "id": "cbfb731f",
   "metadata": {},
   "outputs": [],
   "source": []
  }
 ],
 "metadata": {
  "kernelspec": {
   "display_name": "Python 3 (ipykernel)",
   "language": "python",
   "name": "python3"
  },
  "language_info": {
   "codemirror_mode": {
    "name": "ipython",
    "version": 3
   },
   "file_extension": ".py",
   "mimetype": "text/x-python",
   "name": "python",
   "nbconvert_exporter": "python",
   "pygments_lexer": "ipython3",
   "version": "3.10.1"
  }
 },
 "nbformat": 4,
 "nbformat_minor": 5
}
