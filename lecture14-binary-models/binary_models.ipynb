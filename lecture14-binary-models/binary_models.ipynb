{
 "cells": [
  {
   "cell_type": "markdown",
   "id": "34bc10d8",
   "metadata": {},
   "source": [
    "                                            \n",
    "# Lecture 14                    \n",
    "                                            \n",
    "## Binary/Probability models                 \n",
    "  - Saturated Probability Models          \n",
    "    - calculate weights and               \n",
    "        estimating models                 \n",
    "    - plot a simple binary model          \n",
    "    - predicted and true outcome          \n",
    "  - Functional form decision              \n",
    "  - Multiple Regression w binary outcome  \n",
    "    - characteristics of predicted groups \n",
    "  - Logit and Probit models               \n",
    "    - simple estimates                    \n",
    "    - average marginal effects            \n",
    "  - Model comparison of non-linear models \n",
    "    - Goodness-of-fit statistics:         \n",
    "    R2, Pseudo-R2, Brier score, Log-loss  \n",
    "    - Visual inspection:                  \n",
    "    distribution of prediction by outcome \n",
    "    - summary stats for predictions       \n",
    "        by outcome                        \n",
    "    - Bias and calibration curve          \n",
    "                                            \n",
    "                                            \n",
    "#### Case Study\n",
    "  - Does Smoking Pose a Health Risk           \n",
    "                                            \n",
    "#### Dataset used                             \n",
    "  - share-health                 \n",
    "---"
   ]
  },
  {
   "cell_type": "markdown",
   "id": "0bf7e3a1",
   "metadata": {},
   "source": [
    "Import packages"
   ]
  },
  {
   "cell_type": "code",
   "execution_count": null,
   "id": "48234bd9",
   "metadata": {},
   "outputs": [],
   "source": [
    "import pandas as pd\n",
    "import numpy as np\n",
    "from plotnine import *\n",
    "from mizani.formatters import percent_format\n",
    "import statsmodels.api as sm\n",
    "import statsmodels.formula.api as smf\n",
    "from stargazer.stargazer import Stargazer\n",
    "\n",
    "%matplotlib inline"
   ]
  },
  {
   "cell_type": "markdown",
   "id": "da047cc8",
   "metadata": {},
   "source": [
    "Import data"
   ]
  },
  {
   "cell_type": "code",
   "execution_count": null,
   "id": "d4e550a5",
   "metadata": {},
   "outputs": [],
   "source": [
    "share = pd.read_csv(\"https://osf.io/3ze58/download\")\n",
    "share.head()"
   ]
  },
  {
   "cell_type": "markdown",
   "id": "fbd9c22e",
   "metadata": {},
   "source": [
    "Check all the data - quick description \n",
    "\n",
    "(All except country_str, but it is implied in country_mod)"
   ]
  },
  {
   "cell_type": "code",
   "execution_count": null,
   "id": "44916bf1",
   "metadata": {},
   "outputs": [],
   "source": [
    "share.describe()"
   ]
  },
  {
   "cell_type": "markdown",
   "id": "dd578d55",
   "metadata": {},
   "source": [
    "Remove if any of important variable is missing "
   ]
  },
  {
   "cell_type": "code",
   "execution_count": null,
   "id": "8f17badf",
   "metadata": {},
   "outputs": [],
   "source": [
    "share = (\n",
    "    share.loc[share[\"bmi\"].notnull()]\n",
    "    .loc[share[\"eduyears\"].notnull()]\n",
    "    .loc[share[\"exerc\"].notnull()]\n",
    ")"
   ]
  },
  {
   "cell_type": "markdown",
   "id": "808da021",
   "metadata": {},
   "source": [
    "Make descriptive statistics for thery based selected variables"
   ]
  },
  {
   "cell_type": "code",
   "execution_count": null,
   "id": "e82ec208",
   "metadata": {},
   "outputs": [],
   "source": [
    "share.filter(\n",
    "    [\n",
    "        \"stayshealthy\",\n",
    "        \"smoking\",\n",
    "        \"ever_smoked\",\n",
    "        \"female\",\n",
    "        \"age\",\n",
    "        \"income10\",\n",
    "        \"eduyears\",\n",
    "        \"bmi\",\n",
    "        \"exerc\",\n",
    "    ]\n",
    ").describe().T"
   ]
  },
  {
   "cell_type": "markdown",
   "id": "9f56757c",
   "metadata": {},
   "source": [
    "### Saturated Linear Probability Models\n",
    "\n",
    "_y_ is stayshealthy\n",
    "\n",
    "Linear probability models of good health at endline and smoking\n"
   ]
  },
  {
   "cell_type": "markdown",
   "id": "e397b9e6",
   "metadata": {},
   "source": [
    " __1st model__: current smoker on RHS"
   ]
  },
  {
   "cell_type": "code",
   "execution_count": null,
   "id": "6cbf12d1",
   "metadata": {},
   "outputs": [],
   "source": [
    "lpm1 = smf.ols(\"stayshealthy ~ smoking\", data=share).fit(cov_type =\"HC3\")\n",
    "print(lpm1.summary())"
   ]
  },
  {
   "cell_type": "markdown",
   "id": "f2fa1143",
   "metadata": {},
   "source": [
    "Get the predicted values"
   ]
  },
  {
   "cell_type": "code",
   "execution_count": null,
   "id": "ad2fd157",
   "metadata": {},
   "outputs": [],
   "source": [
    "share[\"pred1\"] = lpm1.predict()"
   ]
  },
  {
   "cell_type": "markdown",
   "id": "64305620",
   "metadata": {},
   "source": [
    "Compare smoking with predicted values and real outcomes\n",
    "\n",
    "1) Predicted vs smoking\n"
   ]
  },
  {
   "cell_type": "code",
   "execution_count": null,
   "id": "c7c9fba4",
   "metadata": {},
   "outputs": [],
   "source": [
    "pd.crosstab(index=share[\"pred1\"], columns=share[\"smoking\"])"
   ]
  },
  {
   "cell_type": "code",
   "execution_count": null,
   "id": "2d682a2a",
   "metadata": {},
   "outputs": [],
   "source": [
    "pd.crosstab(index = share['stayshealthy'],columns= share['smoking'])"
   ]
  },
  {
   "cell_type": "markdown",
   "id": "af0a80cc",
   "metadata": {},
   "source": [
    "Create weights for prettier plot"
   ]
  },
  {
   "cell_type": "code",
   "execution_count": null,
   "id": "4e182d8b",
   "metadata": {},
   "outputs": [],
   "source": [
    "share[\"weight\"] = share.groupby([\"smoking\",\"stayshealthy\"])[\"ID\"].transform(\"count\")\n",
    "share[\"weight_2\"] = share[\"weight\"] / 1000"
   ]
  },
  {
   "cell_type": "markdown",
   "id": "1d41ce73",
   "metadata": {},
   "source": [
    "Show graph with actual and predicted probabilities: LPM\n"
   ]
  },
  {
   "cell_type": "code",
   "execution_count": null,
   "id": "c534046e",
   "metadata": {},
   "outputs": [],
   "source": [
    "(\n",
    "    ggplot(share)\n",
    "    + geom_point(aes(x=\"smoking\", y=\"pred1\"), size=1, color=\"blue\")\n",
    "    + geom_line(aes(x=\"smoking\", y=\"pred1\"), colour=\"blue\", size=0.7)\n",
    "    + geom_point(\n",
    "        aes(x=\"smoking\", y=\"stayshealthy\", size=\"weight_2\"),\n",
    "        fill=\"red\",\n",
    "        color=\"red\",\n",
    "        alpha=0.8,\n",
    "        na_rm=True,\n",
    "    )\n",
    "    + scale_size_continuous(guide=False)\n",
    "    + labs(x=\"Current smoker\", y=\"Staying healthy / Predicted probability of \")\n",
    "    + coord_cartesian(xlim=(0, 1), ylim=(0, 1))\n",
    "    + scale_y_continuous(limits=(0, 1), breaks=np.arange(0, 1, 0.1))\n",
    "    + scale_x_continuous(limits=(0, 1), breaks=np.arange(0, 1, 1))\n",
    "    + theme_bw()\n",
    ")"
   ]
  },
  {
   "cell_type": "markdown",
   "id": "1be0fb96",
   "metadata": {},
   "source": [
    "__2nd model__: current smoker and ever smoked on RHS"
   ]
  },
  {
   "cell_type": "code",
   "execution_count": null,
   "id": "6a362b74",
   "metadata": {},
   "outputs": [],
   "source": [
    "lpm2 = smf.ols(\"stayshealthy ~ smoking + ever_smoked\", data=share).fit(cov_type =\"HC3\")\n",
    "lpm2.summary()"
   ]
  },
  {
   "cell_type": "markdown",
   "id": "4c702c4e",
   "metadata": {},
   "source": [
    "Compare models"
   ]
  },
  {
   "cell_type": "code",
   "execution_count": null,
   "id": "cffc1935",
   "metadata": {},
   "outputs": [],
   "source": [
    "table = Stargazer([lpm1,lpm2])\n",
    "table"
   ]
  },
  {
   "cell_type": "markdown",
   "id": "0af9afa6",
   "metadata": {},
   "source": [
    "### Multiple variable regressions:   \n",
    "    selecting multiple variables, when outcome is binary\n",
    "\n",
    " As usual: check some functional forms\n",
    "\n",
    " For pretty plots create weigths for education"
   ]
  },
  {
   "cell_type": "code",
   "execution_count": null,
   "id": "cd1f90e2",
   "metadata": {},
   "outputs": [],
   "source": [
    "share[\"weight\"] = (\n",
    "    share.groupby([\"eduyears\", \"stayshealthy\"])[\"smoking\"].transform(len) / 100\n",
    ")"
   ]
  },
  {
   "cell_type": "code",
   "execution_count": null,
   "id": "533c272f",
   "metadata": {},
   "outputs": [],
   "source": [
    "g2 = (\n",
    "    ggplot(data=share)\n",
    "    + geom_point(\n",
    "        aes(x=\"eduyears\", y=\"stayshealthy\", size=\"weight\"),\n",
    "        color=\"blue\",\n",
    "        alpha=0.8,\n",
    "        na_rm=True,\n",
    "    )\n",
    "    + geom_smooth(\n",
    "        aes(x=\"eduyears\", y=\"stayshealthy\"), method=\"loess\", se=False, color=\"red\"\n",
    "    )\n",
    "    + labs(x=\"Years of education\", y=\"Probability of staying healthy \")\n",
    "    + scale_x_continuous(\n",
    "        expand=[0.01, 0.01], limits=[0, 25], breaks=np.arange(0, 25, 4)\n",
    "    )\n",
    "    + scale_y_continuous(\n",
    "        expand=[0.01, 0.01], limits=[0, 1], breaks=np.arange(0, 1.1, 0.1)\n",
    "    )\n",
    "    + scale_size_continuous(guide=False)\n",
    "    + theme_bw()\n",
    ")\n",
    "g2"
   ]
  },
  {
   "cell_type": "code",
   "execution_count": null,
   "id": "099f1a32",
   "metadata": {},
   "outputs": [],
   "source": [
    "(\n",
    "    ggplot(data=share)\n",
    "    + geom_smooth(\n",
    "        aes(x=\"income10\", y=\"stayshealthy\"), method=\"loess\", se=False, color=\"red\"\n",
    "    )\n",
    "    + labs(\n",
    "        x=\"Income group within country (deciles)\", y=\"Probability of staying healthy \"\n",
    "    )\n",
    "    + scale_x_continuous(expand=[0.01, 0.01], limits=[1, 10], breaks=np.arange(0, 11, 2))\n",
    "    + scale_y_continuous(expand=[0.01, 0.01], limits=[0, 1], breaks=np.arange(0, 1.1, 0.1))\n",
    "    + theme_bw()\n",
    ")"
   ]
  },
  {
   "cell_type": "code",
   "execution_count": null,
   "id": "fb10fbb2",
   "metadata": {},
   "outputs": [],
   "source": [
    "(\n",
    "    ggplot(data=share)\n",
    "    + geom_smooth(\n",
    "        aes(x=\"age\", y=\"stayshealthy\"), method=\"loess\", se=False, color=\"red\"\n",
    "    )\n",
    "    + scale_y_continuous(\n",
    "        expand=[0.01, 0.01],\n",
    "        limits=[0, 1],\n",
    "        breaks=np.arange(0, 1.1, 0.2),\n",
    "        labels=percent_format(),\n",
    "    )\n",
    "    + labs(x=\"Age at interview (years)\", y=\"Probability of staying healthy\")\n",
    "    + theme_bw()\n",
    ")"
   ]
  },
  {
   "cell_type": "code",
   "execution_count": null,
   "id": "83631794",
   "metadata": {},
   "outputs": [],
   "source": [
    "(\n",
    "    ggplot(data=share)\n",
    "    + geom_smooth(aes(x=\"bmi\", y=\"stayshealthy\"), method=\"loess\", se=False, color=\"red\")\n",
    "    + scale_y_continuous(\n",
    "        expand=[0.01, 0.01], limits=[0, 1], breaks=np.arange(0, 1.1, 0.2)\n",
    "    )\n",
    "    + scale_x_continuous(limits=[10, 50], breaks=np.arange(10, 51, 10))\n",
    "    + labs(x=\"Body mass index\", y=\"Stays healthy\")\n",
    "    + theme_bw()\n",
    ")"
   ]
  },
  {
   "cell_type": "markdown",
   "id": "4b3cb9fe",
   "metadata": {},
   "source": [
    "#### Task\n",
    "\n",
    "Linear probability model with many covariates, use the following\n",
    "     \n",
    "     smoking, ever_smoked, female, age, eduyears, income10, bmi, exerc, country_str\n",
    "\n",
    "Use the P.L.S transformations:\n",
    "   - eduyears: with knots at 8 (elementary only) and 18 (Diploma)\n",
    "   - bmi: with knot at 35\n",
    "\n",
    "and include `country` as categories, statsmodel will create dummies aout of them"
   ]
  },
  {
   "cell_type": "code",
   "execution_count": null,
   "id": "b7bd1211",
   "metadata": {},
   "outputs": [],
   "source": [
    "share['country'] = share['country'].astype('category')"
   ]
  },
  {
   "cell_type": "code",
   "execution_count": null,
   "id": "3b67176b",
   "metadata": {},
   "outputs": [],
   "source": [
    "import copy\n",
    "def lspline(series, knots):\n",
    "    def knot_ceil(vector, knot):\n",
    "        vector_copy = copy.deepcopy(vector)\n",
    "        vector_copy[vector_copy > knot] = knot\n",
    "        return vector_copy\n",
    "\n",
    "    if type(knots) != list:\n",
    "        knots = [knots]\n",
    "    design_matrix = None\n",
    "    vector = series.values\n",
    "\n",
    "    for i in range(len(knots)):\n",
    "        # print(i)\n",
    "        # print(vector)\n",
    "        if i == 0:\n",
    "            column = knot_ceil(vector, knots[i])\n",
    "        else:\n",
    "            column = knot_ceil(vector, knots[i] - knots[i - 1])\n",
    "        # print(column)\n",
    "        if i == 0:\n",
    "            design_matrix = column\n",
    "        else:\n",
    "            design_matrix = np.column_stack((design_matrix, column))\n",
    "        # print(design_matrix)\n",
    "        vector = vector - column\n",
    "    design_matrix = np.column_stack((design_matrix, vector))\n",
    "    # print(design_matrix)\n",
    "    return design_matrix"
   ]
  },
  {
   "cell_type": "code",
   "execution_count": null,
   "id": "76256b4c",
   "metadata": {},
   "outputs": [],
   "source": [
    "lpm3 = smf.ols(\n",
    "    \"stayshealthy ~ smoking + ever_smoked + female + age + lspline(eduyears,[8,18]) + \\\n",
    "                    income10 + lspline(bmi,[35]) + exerc + country\",\n",
    "    share,\n",
    ").fit(covtype=\"HC3\")"
   ]
  },
  {
   "cell_type": "code",
   "execution_count": null,
   "id": "c1d89ac4",
   "metadata": {},
   "outputs": [],
   "source": [
    "table = Stargazer([lpm1, lpm2, lpm3])\n",
    "table.covariate_order(\n",
    "    [\n",
    "        \"smoking\",\n",
    "        \"ever_smoked\",\n",
    "        \"female\",\n",
    "        \"age\",\n",
    "        \"lspline(eduyears, [8, 18])[0]\",\n",
    "        \"lspline(eduyears, [8, 18])[1]\",\n",
    "        \"lspline(eduyears, [8, 18])[2]\",\n",
    "        \"income10\",\n",
    "        \"lspline(bmi, [35])[0]\",\n",
    "        \"lspline(bmi, [35])[1]\",\n",
    "        \"exerc\",\n",
    "    ]\n",
    ")\n",
    "table"
   ]
  },
  {
   "cell_type": "markdown",
   "id": "f2a50980",
   "metadata": {},
   "source": [
    "Check predicted probabilities: is there any interesting values?   "
   ]
  },
  {
   "cell_type": "code",
   "execution_count": null,
   "id": "ca555d17",
   "metadata": {},
   "outputs": [],
   "source": [
    "share[\"pred_lpm\"] = lpm3.predict()"
   ]
  },
  {
   "cell_type": "markdown",
   "id": "eebee65d",
   "metadata": {},
   "source": [
    "Make a descriptive summary of the predictions with 3 digits"
   ]
  },
  {
   "cell_type": "code",
   "execution_count": null,
   "id": "b5a454a8",
   "metadata": {},
   "outputs": [],
   "source": [
    "share['pred_lpm'].describe().round(4)"
   ]
  },
  {
   "cell_type": "markdown",
   "id": "e30a9e23",
   "metadata": {},
   "source": [
    "Show the predicted probabilities' distribution"
   ]
  },
  {
   "cell_type": "code",
   "execution_count": null,
   "id": "2d919078",
   "metadata": {},
   "outputs": [],
   "source": [
    "(\n",
    "    ggplot(share, aes(x=\"pred_lpm\"))\n",
    "    + geom_histogram(\n",
    "        aes(y=\"stat(count)/sum(stat(count))\"),\n",
    "        binwidth=0.02,\n",
    "        center=0.65,\n",
    "        color=\"white\",\n",
    "        fill=\"blue\",\n",
    "        closed=\"right\",\n",
    "        na_rm=True\n",
    "    )\n",
    "    + labs(x=\"Predicted probability of staying healthy (LPM)\", y=\"Percent\")\n",
    "    + scale_y_continuous(\n",
    "        expand=[0.00, 0.0],\n",
    "        limits=[0, 0.07],\n",
    "        breaks=np.arange(0, 0.07, 0.01),\n",
    "        labels=percent_format(),\n",
    "    )\n",
    "    + scale_x_continuous(\n",
    "        expand=[0.001, 0.01], limits=[0, 1.1], breaks=np.arange(0, 1.1, 0.2)\n",
    "    )\n",
    "    + theme_bw()\n",
    ")"
   ]
  },
  {
   "cell_type": "markdown",
   "id": "6950fb3e",
   "metadata": {},
   "source": [
    " We are interested in the top 1% and bottom 1% characteristics!\n",
    "    \n",
    "   Is there any significant difference?\n",
    "\n",
    "\n",
    "   Create bins which categorize the predicted values between 1-100\n"
   ]
  },
  {
   "cell_type": "code",
   "execution_count": null,
   "id": "013d571b",
   "metadata": {},
   "outputs": [],
   "source": [
    "cuts = 100\n",
    "share[\"q100_pred_lpm\"] = pd.qcut(share[\"pred_lpm\"], q=cuts, labels=range(1, cuts + 1))"
   ]
  },
  {
   "cell_type": "markdown",
   "id": "36f52e90",
   "metadata": {},
   "source": [
    "Top 1%"
   ]
  },
  {
   "cell_type": "code",
   "execution_count": null,
   "id": "f112fedd",
   "metadata": {},
   "outputs": [],
   "source": [
    "share.loc[\n",
    "    share[\"q100_pred_lpm\"] == 100,\n",
    "    [\"smoking\", \"ever_smoked\", \"female\", \"age\", \"eduyears\", \"income10\", \"bmi\", \"exerc\"],\n",
    "].describe().round(1)\n"
   ]
  },
  {
   "cell_type": "markdown",
   "id": "af983c26",
   "metadata": {},
   "source": [
    "Bottom 1%"
   ]
  },
  {
   "cell_type": "code",
   "execution_count": null,
   "id": "a5815298",
   "metadata": {},
   "outputs": [],
   "source": [
    "share.loc[\n",
    "    share[\"q100_pred_lpm\"] == 1,\n",
    "    [\"smoking\", \"ever_smoked\", \"female\", \"age\", \"eduyears\", \"income10\", \"bmi\", \"exerc\"],\n",
    "].describe().round(1)"
   ]
  },
  {
   "cell_type": "markdown",
   "id": "9a799ead",
   "metadata": {},
   "source": [
    "### LOGIT AND PROBIT MODELS"
   ]
  },
  {
   "cell_type": "markdown",
   "id": "153939bd",
   "metadata": {},
   "source": [
    "Lets compare:\\\n",
    "   lpm versus logit and probit\n",
    " \n",
    " with all right-hand-side variables\n",
    "\n",
    " If comparing different estimation methods for the same model setup:\n",
    "   good practice to make a 'formula' variable!\n",
    "\n",
    " To have pretty outcomes, we need to create spline variables"
   ]
  },
  {
   "cell_type": "code",
   "execution_count": null,
   "id": "8dbdb28a",
   "metadata": {},
   "outputs": [],
   "source": [
    "formula = \"stayshealthy ~ smoking + ever_smoked + female + age + lspline(eduyears,[8,18]) + \\\n",
    "                 income10 + lspline(bmi,[35]) + exerc + country\""
   ]
  },
  {
   "cell_type": "markdown",
   "id": "91d6dbc0",
   "metadata": {},
   "source": [
    "Repeat LPM with new formula"
   ]
  },
  {
   "cell_type": "code",
   "execution_count": null,
   "id": "f3cf84b8",
   "metadata": {},
   "outputs": [],
   "source": [
    "lpm = smf.ols(formula, share).fit(covtype=\"HC3\")\n",
    "\n",
    "table = Stargazer([lpm])\n",
    "table.covariate_order(\n",
    "    [\n",
    "        \"smoking\",\n",
    "        \"ever_smoked\",\n",
    "        \"female\",\n",
    "        \"age\",\n",
    "        \"lspline(eduyears, [8, 18])[0]\",\n",
    "        \"lspline(eduyears, [8, 18])[1]\",\n",
    "        \"lspline(eduyears, [8, 18])[2]\",\n",
    "        \"income10\",\n",
    "        \"lspline(bmi, [35])[0]\",\n",
    "        \"lspline(bmi, [35])[1]\",\n",
    "        \"exerc\",\n",
    "    ]\n",
    ")\n",
    "table"
   ]
  },
  {
   "cell_type": "markdown",
   "id": "62036536",
   "metadata": {},
   "source": [
    "Save predictions"
   ]
  },
  {
   "cell_type": "code",
   "execution_count": null,
   "id": "7bc8487d",
   "metadata": {},
   "outputs": [],
   "source": [
    "share[\"pred_lpm\"] = lpm.predict()"
   ]
  },
  {
   "cell_type": "markdown",
   "id": "8ced0960",
   "metadata": {},
   "source": [
    "Logit"
   ]
  },
  {
   "cell_type": "code",
   "execution_count": null,
   "id": "653bcf37",
   "metadata": {},
   "outputs": [],
   "source": [
    "logit = smf.logit(formula, share).fit()\n",
    "\n",
    "\n",
    "table = Stargazer([logit])\n",
    "table.covariate_order(\n",
    "    [\n",
    "        \"smoking\",\n",
    "        \"ever_smoked\",\n",
    "        \"female\",\n",
    "        \"age\",\n",
    "        \"lspline(eduyears, [8, 18])[0]\",\n",
    "        \"lspline(eduyears, [8, 18])[1]\",\n",
    "        \"lspline(eduyears, [8, 18])[2]\",\n",
    "        \"income10\",\n",
    "        \"lspline(bmi, [35])[0]\",\n",
    "        \"lspline(bmi, [35])[1]\",\n",
    "        \"exerc\",\n",
    "    ]\n",
    ")\n",
    "table"
   ]
  },
  {
   "cell_type": "code",
   "execution_count": null,
   "id": "67473061",
   "metadata": {},
   "outputs": [],
   "source": [
    "share[\"pred_logit\"] = logit.predict()"
   ]
  },
  {
   "cell_type": "markdown",
   "id": "dd4cac67",
   "metadata": {},
   "source": [
    "Calculate the Average Marginal Effects "
   ]
  },
  {
   "cell_type": "code",
   "execution_count": null,
   "id": "95811214",
   "metadata": {},
   "outputs": [],
   "source": [
    "logit.get_margeff().summary()"
   ]
  },
  {
   "cell_type": "markdown",
   "id": "9ababd96",
   "metadata": {},
   "source": [
    "Probit"
   ]
  },
  {
   "cell_type": "code",
   "execution_count": null,
   "id": "784b5310",
   "metadata": {},
   "outputs": [],
   "source": [
    "probit = smf.probit(formula, share).fit()\n",
    "\n",
    "\n",
    "table = Stargazer([probit])\n",
    "table.covariate_order(\n",
    "    [\n",
    "        \"smoking\",\n",
    "        \"ever_smoked\",\n",
    "        \"female\",\n",
    "        \"age\",\n",
    "        \"lspline(eduyears, [8, 18])[0]\",\n",
    "        \"lspline(eduyears, [8, 18])[1]\",\n",
    "        \"lspline(eduyears, [8, 18])[2]\",\n",
    "        \"income10\",\n",
    "        \"lspline(bmi, [35])[0]\",\n",
    "        \"lspline(bmi, [35])[1]\",\n",
    "        \"exerc\",\n",
    "    ]\n",
    ")\n",
    "table"
   ]
  },
  {
   "cell_type": "code",
   "execution_count": null,
   "id": "44c334b2",
   "metadata": {},
   "outputs": [],
   "source": [
    "share[\"pred_probit\"] = probit.predict()"
   ]
  },
  {
   "cell_type": "markdown",
   "id": "f47498f8",
   "metadata": {},
   "source": [
    "probit marginal differences"
   ]
  },
  {
   "cell_type": "code",
   "execution_count": null,
   "id": "847ee130",
   "metadata": {},
   "outputs": [],
   "source": [
    "probit.get_margeff().summary()"
   ]
  },
  {
   "cell_type": "markdown",
   "id": "7c691e44",
   "metadata": {},
   "source": [
    "Comparing predictions from the three models"
   ]
  },
  {
   "cell_type": "code",
   "execution_count": null,
   "id": "417501dd",
   "metadata": {},
   "outputs": [],
   "source": [
    "share.filter([\"pred_lpm\",\"pred_logit\",\"pred_probit\"]).describe().T"
   ]
  },
  {
   "cell_type": "markdown",
   "id": "3286ab2b",
   "metadata": {},
   "source": [
    "Creating a model summary output for base models"
   ]
  },
  {
   "cell_type": "code",
   "execution_count": null,
   "id": "1876ea72",
   "metadata": {},
   "outputs": [],
   "source": [
    "table = Stargazer([lpm,logit,probit])\n",
    "table.covariate_order(\n",
    "    [\n",
    "        \"smoking\",\n",
    "        \"ever_smoked\",\n",
    "        \"female\",\n",
    "        \"age\",\n",
    "        \"lspline(eduyears, [8, 18])[0]\",\n",
    "        \"lspline(eduyears, [8, 18])[1]\",\n",
    "        \"lspline(eduyears, [8, 18])[2]\",\n",
    "        \"income10\",\n",
    "        \"lspline(bmi, [35])[0]\",\n",
    "        \"lspline(bmi, [35])[1]\",\n",
    "        \"exerc\",\n",
    "    ]\n",
    ")\n",
    "table"
   ]
  },
  {
   "cell_type": "markdown",
   "id": "fa0923b2",
   "metadata": {},
   "source": [
    "### Goodness of Fit (GoF) statistics \n",
    "       with binary models\n",
    "\n",
    " goodness of fit is the same for marginal effects \n",
    "   as the base models, as it only calculates some averaged effects.\n",
    "\n",
    "Lets import some metrics from the sklearn package"
   ]
  },
  {
   "cell_type": "code",
   "execution_count": null,
   "id": "6a9f7b2b",
   "metadata": {},
   "outputs": [],
   "source": [
    "from sklearn.metrics import mean_squared_error\n",
    "from sklearn.metrics import r2_score\n",
    "from sklearn.metrics import log_loss"
   ]
  },
  {
   "cell_type": "code",
   "execution_count": null,
   "id": "42ce8bdd",
   "metadata": {},
   "outputs": [],
   "source": [
    "pd.DataFrame(\n",
    "    {\n",
    "        \"R-squared\": [\n",
    "            lpm.rsquared,\n",
    "            r2_score(share[\"stayshealthy\"], share[\"pred_logit\"]),\n",
    "            r2_score(share[\"stayshealthy\"], share[\"pred_probit\"]),\n",
    "        ],\n",
    "        \"Brier-score\": [\n",
    "            mean_squared_error(share[\"stayshealthy\"], share[\"pred_lpm\"]),\n",
    "            mean_squared_error(share[\"stayshealthy\"], share[\"pred_logit\"]),\n",
    "            mean_squared_error(share[\"stayshealthy\"], share[\"pred_probit\"]),\n",
    "        ],\n",
    "        \"Pseudo R-squared\": [np.nan, logit.prsquared, probit.prsquared],\n",
    "        \"Log-loss\": [\n",
    "            -1 * log_loss(share[\"stayshealthy\"], share[\"pred_lpm\"]),\n",
    "            -1 * log_loss(share[\"stayshealthy\"], share[\"pred_logit\"]),\n",
    "            -1 * log_loss(share[\"stayshealthy\"], share[\"pred_probit\"]),\n",
    "        ],\n",
    "    },\n",
    "    index=[\"LPM\", \"Logit\", \"Probit\"],\n",
    ").T.round(3)"
   ]
  },
  {
   "cell_type": "markdown",
   "id": "2273f050",
   "metadata": {},
   "source": [
    "### Visual inspection for model comparisons"
   ]
  },
  {
   "cell_type": "markdown",
   "id": "eec04329",
   "metadata": {},
   "source": [
    " a) Comparing predicted probabilities of logit and probit to LPM"
   ]
  },
  {
   "cell_type": "markdown",
   "id": "d0320675",
   "metadata": {},
   "source": [
    "First, we need some data manipulation to convert wide to long"
   ]
  },
  {
   "cell_type": "code",
   "execution_count": null,
   "id": "18c5c3a5",
   "metadata": {},
   "outputs": [],
   "source": [
    "df_plot = pd.melt(\n",
    "    share[[\"pred_lpm\", \"pred_logit\", \"pred_probit\"]].rename(\n",
    "        columns={\"pred_logit\": \"Logit\", \"pred_probit\": \"Probit\"}\n",
    "    ),\n",
    "    value_vars=[\"Logit\", \"Probit\"],\n",
    "    id_vars=[\"pred_lpm\"],\n",
    ").sort_values(by=[\"variable\"], ascending=False)\n"
   ]
  },
  {
   "cell_type": "code",
   "execution_count": null,
   "id": "1567c2de",
   "metadata": {},
   "outputs": [],
   "source": [
    "df_plot.head()"
   ]
  },
  {
   "cell_type": "code",
   "execution_count": null,
   "id": "ca5ca889",
   "metadata": {},
   "outputs": [],
   "source": [
    "(\n",
    "    ggplot(data=df_plot)\n",
    "    + geom_point(aes(x=\"pred_lpm\", y=\"value\", color=\"variable\"), size=0.6, na_rm=True)\n",
    "    + geom_abline(intercept=0, slope=1, color=\"green\", size=1)\n",
    "    + labs(\n",
    "        x=\"Predicted probability of staying healthy (LPM)\", y=\"Predicted probability\"\n",
    "    )\n",
    "    + scale_y_continuous(\n",
    "        expand=[0.00, 0.0], limits=[0, 1], breaks=np.arange(0, 1.1, 0.1)\n",
    "    )\n",
    "    + scale_x_continuous(\n",
    "        expand=[0.00, 0.0], limits=[0, 1], breaks=np.arange(0, 1.1, 0.1)\n",
    "    )\n",
    "    + scale_color_manual(name=\"\", values=[\"blue\", \"red\"])\n",
    "    + theme_bw()\n",
    ")"
   ]
  },
  {
   "cell_type": "markdown",
   "id": "4e0e49e6",
   "metadata": {},
   "source": [
    "b) Comparing simple LPM and rich LPM's categorization"
   ]
  },
  {
   "cell_type": "code",
   "execution_count": null,
   "id": "b3943cdd",
   "metadata": {},
   "outputs": [],
   "source": [
    "lpmbase = smf.ols('stayshealthy ~ smoking', data=share).fit()\n",
    "share['pred_lpmbase']=lpmbase.predict()"
   ]
  },
  {
   "cell_type": "markdown",
   "id": "852883b9",
   "metadata": {},
   "source": [
    " b1) LPM simple model"
   ]
  },
  {
   "cell_type": "code",
   "execution_count": null,
   "id": "12b88418",
   "metadata": {},
   "outputs": [],
   "source": [
    "(\n",
    "    ggplot(\n",
    "        share,\n",
    "        aes(x=\"pred_lpmbase\", fill=\"stayshealthy\", y=\"stat(count/sum(count)))*100\"),\n",
    "    )\n",
    "    + geom_histogram(\n",
    "        share[share[\"stayshealthy\"] == 1],\n",
    "        binwidth=0.05,\n",
    "        color=\"blue\",\n",
    "        fill=\"blue\",\n",
    "        boundary=0.55,\n",
    "    )\n",
    "    + geom_histogram(\n",
    "        share[share[\"stayshealthy\"] == 0],\n",
    "        binwidth=0.05,\n",
    "        color=\"red\",\n",
    "        fill=None,\n",
    "        boundary=0.55,\n",
    "    )\n",
    "    + ylab(\"Percent\")\n",
    "    + xlab(\"Fitted values\")\n",
    "    + scale_x_continuous(\n",
    "        expand=[0.01, 0.01], limits=[0, 1], breaks=np.arange(0, 1.1, 0.2)\n",
    "    )\n",
    "    + scale_y_continuous(\n",
    "        expand=[0.00, 0.00], limits=[0, 80], breaks=np.arange(0, 81, 20)\n",
    "    )\n",
    "    + theme_bw()\n",
    "    + theme(legend_position=(0.3, 0.8))\n",
    ")"
   ]
  },
  {
   "cell_type": "markdown",
   "id": "9c4f8aba",
   "metadata": {},
   "source": [
    "b2) LPM rich model"
   ]
  },
  {
   "cell_type": "code",
   "execution_count": null,
   "id": "9697f9f8",
   "metadata": {},
   "outputs": [],
   "source": [
    "(\n",
    "    ggplot(\n",
    "        share,\n",
    "        aes(x=\"pred_lpm\", fill=\"stayshealthy\", y=\"stat(count/sum(count)))*100\"),\n",
    "    )\n",
    "    + geom_histogram(\n",
    "        share[share[\"stayshealthy\"] == 1],\n",
    "        binwidth=0.05,\n",
    "        color=\"blue\",\n",
    "        fill=\"blue\",\n",
    "        boundary=0.55,\n",
    "        na_rm=True\n",
    "    )\n",
    "    + geom_histogram(\n",
    "        share[share[\"stayshealthy\"] == 0],\n",
    "        binwidth=0.05,\n",
    "        color=\"red\",\n",
    "        fill=None,\n",
    "        boundary=0.55,\n",
    "    )\n",
    "    + ylab(\"Percent\")\n",
    "    + xlab(\"Fitted values\")\n",
    "    + scale_x_continuous(expand=[0.01, 0.01], limits=[0, 1], breaks=np.arange(0, 1.1, 0.2))\n",
    "    + scale_y_continuous(expand=[0.00, 0.00], limits=[0, 20], breaks=np.arange(0, 21, 4))\n",
    "    + theme_bw()\n",
    ")\n"
   ]
  },
  {
   "cell_type": "markdown",
   "id": "7080ef6c",
   "metadata": {},
   "source": [
    "### Summary statistics on predicted probabilities"
   ]
  },
  {
   "cell_type": "markdown",
   "id": "891bc93e",
   "metadata": {},
   "source": [
    "#### Task:\n",
    "\n",
    "Create a CONDITIONAL descriptive statistics on stayhealth for:\n",
    "\n",
    "    \"pred_lpmbase\",\"pred_lpm\",\"pred_logit\",\"pred_probit\" \n",
    "   \n",
    "use: \"mean\",\"median\",\"min\",\"max\",\"sd\" as descriptives"
   ]
  },
  {
   "cell_type": "code",
   "execution_count": null,
   "id": "a0b09345",
   "metadata": {},
   "outputs": [],
   "source": [
    "(\n",
    "    share.melt(\n",
    "        id_vars=[\"stayshealthy\"],\n",
    "        value_vars=[\"pred_lpmbase\", \"pred_lpm\", \"pred_logit\", \"pred_probit\"],\n",
    "    )\n",
    "    .groupby([\"stayshealthy\", \"variable\"])[\"value\"]\n",
    "    .agg([\"mean\", \"median\", \"min\", \"max\", \"std\"])\n",
    ")"
   ]
  },
  {
   "cell_type": "markdown",
   "id": "98534eb5",
   "metadata": {},
   "source": [
    "### Bias and Calibration curve"
   ]
  },
  {
   "cell_type": "markdown",
   "id": "9ffae89b",
   "metadata": {},
   "source": [
    "Lets use the logit model!"
   ]
  },
  {
   "cell_type": "markdown",
   "id": "589632b3",
   "metadata": {},
   "source": [
    " Biased prediction? Calculate bias!\n",
    " \n",
    " \n",
    "   Hint: bias = mean(prediction) - mean(actual)\n",
    "   \n",
    "   calibration curves -> essentially a scatter-bin!"
   ]
  },
  {
   "cell_type": "code",
   "execution_count": null,
   "id": "798271b0",
   "metadata": {},
   "outputs": [],
   "source": [
    "breaks = np.array(\n",
    "    [\n",
    "        0,\n",
    "        0.2,\n",
    "        0.25,\n",
    "        0.3,\n",
    "        0.35,\n",
    "        0.4,\n",
    "        0.45,\n",
    "        0.5,\n",
    "        0.55,\n",
    "        0.6,\n",
    "        0.65,\n",
    "        0.7,\n",
    "        0.75,\n",
    "        0.8,\n",
    "        0.85,\n",
    "        1.05,\n",
    "    ]\n",
    ")"
   ]
  },
  {
   "cell_type": "markdown",
   "id": "92f6ca2e",
   "metadata": {},
   "source": [
    "Create binned data:"
   ]
  },
  {
   "cell_type": "code",
   "execution_count": null,
   "id": "fe92aa1e",
   "metadata": {},
   "outputs": [],
   "source": [
    "share[\"prob_bin\"] = pd.cut(share[\"pred_logit\"], breaks, right=True, include_lowest=True)"
   ]
  },
  {
   "cell_type": "code",
   "execution_count": null,
   "id": "c2b9f4d5",
   "metadata": {},
   "outputs": [],
   "source": [
    "binned_data = (\n",
    "        share.groupby(\"prob_bin\")\n",
    "        .agg(\n",
    "            mean_prob=(\"pred_logit\", \"mean\"),\n",
    "            mean_actual=(\"stayshealthy\", \"mean\"),\n",
    "            n=(\"stayshealthy\", \"size\"),\n",
    "        )\n",
    "        .reset_index()\n",
    "    )\n"
   ]
  },
  {
   "cell_type": "code",
   "execution_count": null,
   "id": "0cdc6b5f",
   "metadata": {},
   "outputs": [],
   "source": [
    "(\n",
    "    ggplot(binned_data, aes(\"mean_prob\", \"mean_actual\"))\n",
    "    + geom_line(color=\"blue\", size=1, show_legend=True)\n",
    "    + geom_point(\n",
    "        color=\"blue\",\n",
    "        size=1,\n",
    "        alpha=0.7,\n",
    "        show_legend=False,\n",
    "        na_rm=True,\n",
    "    )\n",
    "    + geom_segment(\n",
    "        x=min(breaks),\n",
    "        xend=max(breaks),\n",
    "        y=min(breaks),\n",
    "        yend=max(breaks),\n",
    "        color=\"red\",\n",
    "        size=0.5,\n",
    "    )\n",
    "    + theme_bw()\n",
    "    + labs(x=\"Predicted event probability\", y=\"Stays healthy\")\n",
    "    + coord_cartesian(xlim=(0, 1), ylim=(0, 1))\n",
    "    + expand_limits(x=0.01, y=0.01)\n",
    "    + scale_y_continuous(expand=(0.01, 0.01), breaks=(np.arange(0, 1.1, 0.1)))\n",
    "    + scale_x_continuous(expand=(0.01, 0.01), breaks=(np.arange(0, 1.1, 0.1)))\n",
    ")"
   ]
  },
  {
   "cell_type": "markdown",
   "id": "9c25679e",
   "metadata": {},
   "source": [
    "#### Task\n",
    "\n",
    "Do the same calibration curve, but now for LPM rich model\\\n",
    "   Make sure that in the plot you also show the Logit-bias as well"
   ]
  },
  {
   "cell_type": "code",
   "execution_count": null,
   "id": "3b41a539",
   "metadata": {},
   "outputs": [],
   "source": [
    "share[\"prob_bin\"] = pd.cut(share[\"pred_lpm\"], breaks, right=True, include_lowest=True)"
   ]
  },
  {
   "cell_type": "code",
   "execution_count": null,
   "id": "ebf8792b",
   "metadata": {},
   "outputs": [],
   "source": [
    "binned_data2 = (\n",
    "        share.groupby(\"prob_bin\")\n",
    "        .agg(\n",
    "            mean_prob_lpm=(\"pred_lpm\", \"mean\"),\n",
    "            mean_actual_lpm=(\"stayshealthy\", \"mean\"),\n",
    "            n=(\"stayshealthy\", \"size\"),\n",
    "        )\n",
    "        .reset_index()\n",
    "    )\n"
   ]
  },
  {
   "cell_type": "markdown",
   "id": "b374842e",
   "metadata": {},
   "source": [
    "Join the two data for pretty plot"
   ]
  },
  {
   "cell_type": "code",
   "execution_count": null,
   "id": "ff80b703",
   "metadata": {},
   "outputs": [],
   "source": [
    "binned_data = binned_data.merge(binned_data2, on = \"prob_bin\")"
   ]
  },
  {
   "cell_type": "code",
   "execution_count": null,
   "id": "9325fe8e",
   "metadata": {},
   "outputs": [],
   "source": [
    "(\n",
    "    ggplot(binned_data)\n",
    "    + geom_line(aes(\"mean_prob\", \"mean_actual\"), color=\"blue\", size=1, show_legend=True)\n",
    "    + geom_point(\n",
    "        aes(\"mean_prob\", \"mean_actual\"),\n",
    "        color=\"blue\",\n",
    "        size=1,\n",
    "        alpha=0.7,\n",
    "        show_legend=False,\n",
    "        na_rm=True,\n",
    "    )\n",
    "    + geom_segment(\n",
    "        x=min(breaks),\n",
    "        xend=max(breaks),\n",
    "        y=min(breaks),\n",
    "        yend=max(breaks),\n",
    "        color=\"red\",\n",
    "        size=0.5,\n",
    "    )\n",
    "    + geom_line(\n",
    "        aes(\"mean_prob_lpm\", \"mean_actual_lpm\"), color=\"green\", size=1, show_legend=True\n",
    "    )\n",
    "    + geom_point(\n",
    "        aes(\"mean_prob_lpm\", \"mean_actual_lpm\"),\n",
    "        color=\"green\",\n",
    "        size=1,\n",
    "        alpha=0.7,\n",
    "        show_legend=False,\n",
    "        na_rm=True,\n",
    "    )\n",
    "    + geom_segment(\n",
    "        x=min(breaks),\n",
    "        xend=max(breaks),\n",
    "        y=min(breaks),\n",
    "        yend=max(breaks),\n",
    "        color=\"red\",\n",
    "        size=0.5,\n",
    "    )\n",
    "    + theme_bw()\n",
    "    + labs(x=\"Predicted event probability\", y=\"Stays healthy\")\n",
    "    + annotate(\n",
    "        \"text\",\n",
    "        x=(0.2, 0.15),\n",
    "        y=(0.35, 0.25),\n",
    "        label=(\"logit\", \"LPM\"),\n",
    "        color=(\"blue\", \"green\"),\n",
    "    )\n",
    "    + coord_cartesian(xlim=(0, 1), ylim=(0, 1))\n",
    "    + expand_limits(x=0.01, y=0.01)\n",
    "    + scale_y_continuous(expand=(0.01, 0.01), breaks=(np.arange(0, 1.1, 0.1)))\n",
    "    + scale_x_continuous(expand=(0.01, 0.01), breaks=(np.arange(0, 1.1, 0.1)))\n",
    ")"
   ]
  },
  {
   "cell_type": "code",
   "execution_count": null,
   "id": "cbfb731f",
   "metadata": {},
   "outputs": [],
   "source": []
  }
 ],
 "metadata": {
  "kernelspec": {
   "display_name": "Python 3 (ipykernel)",
   "language": "python",
   "name": "python3"
  },
  "language_info": {
   "codemirror_mode": {
    "name": "ipython",
    "version": 3
   },
   "file_extension": ".py",
   "mimetype": "text/x-python",
   "name": "python",
   "nbconvert_exporter": "python",
   "pygments_lexer": "ipython3",
   "version": "3.8.10"
  }
 },
 "nbformat": 4,
 "nbformat_minor": 5
}
