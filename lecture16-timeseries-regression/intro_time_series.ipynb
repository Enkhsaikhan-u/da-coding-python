{
 "cells": [
  {
   "cell_type": "markdown",
   "id": "d4809641",
   "metadata": {},
   "source": [
    "#              Lecture 16                    \n",
    "                                            \n",
    "## Introduction to Time-Series Analysis      \n",
    "  - time-series data manipulations        \n",
    "  - data explorations:                    \n",
    "      - descriptive + graphs              \n",
    "      - auto-correlation                  \n",
    "  - model with feols                      \n",
    "      - setup feols w panel.id            \n",
    "      - Newey-West standard errors        \n",
    "      - lagged variables                  \n",
    "      - cumulative effects w SEs          \n",
    "                                            \n",
    "#### Case Study:                                 \n",
    "  - Arizona Electricity Consumption           \n",
    "---  "
   ]
  },
  {
   "cell_type": "markdown",
   "id": "d7f466f8",
   "metadata": {},
   "source": [
    "Import packages"
   ]
  },
  {
   "cell_type": "code",
   "execution_count": null,
   "id": "6d9d57ed",
   "metadata": {},
   "outputs": [],
   "source": [
    "import warnings\n",
    "from datetime import datetime\n",
    "\n",
    "import numpy as np\n",
    "import pandas as pd\n",
    "import statsmodels.formula.api as smf\n",
    "from mizani.breaks import date_breaks\n",
    "from mizani.formatters import date_format\n",
    "from plotnine import *\n",
    "from skimpy import skim\n",
    "from stargazer.stargazer import Stargazer\n",
    "\n",
    "%matplotlib inline\n",
    "warnings.filterwarnings(\"ignore\")"
   ]
  },
  {
   "cell_type": "markdown",
   "id": "cccda860",
   "metadata": {},
   "source": [
    "Import data\n",
    "\n",
    "- 1st source: climate data  (cooling degree days etc, by month)"
   ]
  },
  {
   "cell_type": "code",
   "execution_count": null,
   "id": "0fa00084",
   "metadata": {},
   "outputs": [],
   "source": [
    "climate = pd.read_csv('https://osf.io/g3tj7/download')\n",
    "climate.head()"
   ]
  },
  {
   "cell_type": "markdown",
   "id": "04d74302",
   "metadata": {},
   "source": [
    "and convert them into date format as well: here we have an easier implemented format"
   ]
  },
  {
   "cell_type": "code",
   "execution_count": null,
   "id": "2bbae85c",
   "metadata": {},
   "outputs": [],
   "source": [
    "climate[\"tempdate\"] = climate[\"DATE\"].apply(lambda x: datetime.strptime(x, \"%Y-%m\"))"
   ]
  },
  {
   "cell_type": "markdown",
   "id": "bda624bf",
   "metadata": {},
   "source": [
    "Add the same variables"
   ]
  },
  {
   "cell_type": "code",
   "execution_count": null,
   "id": "ef977361",
   "metadata": {},
   "outputs": [],
   "source": [
    "climate[\"year\"] = climate[\"tempdate\"].dt.year\n",
    "climate[\"month\"] = climate[\"tempdate\"].dt.month\n",
    "climate[\"ym\"] = climate[\"tempdate\"]"
   ]
  },
  {
   "cell_type": "markdown",
   "id": "508c74bb",
   "metadata": {},
   "source": [
    "### Data manipulation with time-series data:\n",
    " 1) Generate averages from sums:\n",
    "     when dividing by N, must take into account N of days"
   ]
  },
  {
   "cell_type": "code",
   "execution_count": null,
   "id": "94d9e563",
   "metadata": {},
   "outputs": [],
   "source": [
    "climate[\"ndays\"] = np.where(\n",
    "    climate[\"month\"].isin([1, 3, 5, 7, 8, 10, 12]),\n",
    "    31,\n",
    "    np.where(climate[\"month\"] == 2, 28, 30),\n",
    ")"
   ]
  },
  {
   "cell_type": "markdown",
   "id": "c64cd63c",
   "metadata": {},
   "source": [
    " Focus on cooling degree, heating degree "
   ]
  },
  {
   "cell_type": "code",
   "execution_count": null,
   "id": "07b819d3",
   "metadata": {},
   "outputs": [],
   "source": [
    "climate[\"CLDD_avg\"] = climate[\"CLDD\"] / climate[\"ndays\"] \n",
    "climate[\"HTDD_avg\"] = climate[\"HTDD\"] / climate[\"ndays\"] "
   ]
  },
  {
   "cell_type": "markdown",
   "id": "4ca08a58",
   "metadata": {},
   "source": [
    "Drop others"
   ]
  },
  {
   "cell_type": "code",
   "execution_count": null,
   "id": "ae0d9101",
   "metadata": {},
   "outputs": [],
   "source": [
    "climate = climate.drop([\"DATE\", \"tempdate\", \"STATION\", \"NAME\",\"DX32\",\"DX70\",\"DX90\"],axis=1)"
   ]
  },
  {
   "cell_type": "markdown",
   "id": "23aaa51a",
   "metadata": {},
   "source": [
    "Check the descriptive"
   ]
  },
  {
   "cell_type": "code",
   "execution_count": null,
   "id": "c65a8d76",
   "metadata": {},
   "outputs": [],
   "source": [
    "climate.filter([\"CLDD_avg\",\"HTDD_avg\"]).describe().T"
   ]
  },
  {
   "cell_type": "code",
   "execution_count": null,
   "id": "91a8b050",
   "metadata": {},
   "outputs": [],
   "source": [
    "skim(climate.filter([\"CLDD_avg\",\"HTDD_avg\"]))"
   ]
  },
  {
   "cell_type": "markdown",
   "id": "8fdfbdcd",
   "metadata": {},
   "source": [
    "- 2nd source: the electricity consumption data (monthly data)"
   ]
  },
  {
   "cell_type": "code",
   "execution_count": null,
   "id": "981da966",
   "metadata": {},
   "outputs": [],
   "source": [
    "electricity = pd.read_csv('https://osf.io/wbef4/download')\n",
    "electricity.head()"
   ]
  },
  {
   "cell_type": "markdown",
   "id": "add3eb8c",
   "metadata": {},
   "source": [
    "Convert 'MY' variable into numeric date"
   ]
  },
  {
   "cell_type": "code",
   "execution_count": null,
   "id": "167f0c62",
   "metadata": {},
   "outputs": [],
   "source": [
    "electricity[\"date\"] = electricity[\"MY\"].apply(lambda x: datetime.strptime(x, \"%b-%y\"))"
   ]
  },
  {
   "cell_type": "markdown",
   "id": "8b1338a9",
   "metadata": {},
   "source": [
    "We can create different time variables:\\\n",
    "year -> the actual year\\\n",
    "month -> the actual month\\\n",
    "format -> create your own format"
   ]
  },
  {
   "cell_type": "code",
   "execution_count": null,
   "id": "75d6d04c",
   "metadata": {},
   "outputs": [],
   "source": [
    "electricity[\"year\"] = electricity[\"date\"].dt.year\n",
    "electricity[\"month\"] = electricity[\"date\"].dt.month\n",
    "electricity[\"ym\"] = electricity[\"date\"]"
   ]
  },
  {
   "cell_type": "markdown",
   "id": "27d8c85c",
   "metadata": {},
   "source": [
    "Remove MY, year and month variables"
   ]
  },
  {
   "cell_type": "code",
   "execution_count": null,
   "id": "f12e9788",
   "metadata": {},
   "outputs": [],
   "source": [
    "electricity = electricity.drop([\"MY\",\"year\",\"month\"],axis=1)"
   ]
  },
  {
   "cell_type": "markdown",
   "id": "31d20324",
   "metadata": {},
   "source": [
    "Take logs of q (used electricity)"
   ]
  },
  {
   "cell_type": "code",
   "execution_count": null,
   "id": "827142e1",
   "metadata": {},
   "outputs": [],
   "source": [
    "electricity[\"lnQ\"] = np.log(electricity[\"Q\"])"
   ]
  },
  {
   "cell_type": "markdown",
   "id": "f5a1b70c",
   "metadata": {},
   "source": [
    "__Merging the two data__"
   ]
  },
  {
   "cell_type": "code",
   "execution_count": null,
   "id": "5fe65d48",
   "metadata": {},
   "outputs": [],
   "source": [
    "df = climate.merge(electricity,on =\"ym\",how=\"inner\")"
   ]
  },
  {
   "cell_type": "markdown",
   "id": "b24d82fa",
   "metadata": {},
   "source": [
    "Restrict the sample between years 2001 and 2017"
   ]
  },
  {
   "cell_type": "code",
   "execution_count": null,
   "id": "b801c5ef",
   "metadata": {},
   "outputs": [],
   "source": [
    "df = df.loc[(df[\"year\"] >= 2001) & (df[\"year\"] <= 2017)]"
   ]
  },
  {
   "cell_type": "markdown",
   "id": "07224804",
   "metadata": {},
   "source": [
    "### Data exploration"
   ]
  },
  {
   "cell_type": "code",
   "execution_count": null,
   "id": "68d51c39",
   "metadata": {},
   "outputs": [],
   "source": [
    "df.filter([\"Q\", \"lnQ\", \"CLDD_avg\", \"HTDD_avg\"]).describe().T"
   ]
  },
  {
   "cell_type": "code",
   "execution_count": null,
   "id": "c1b98e87",
   "metadata": {},
   "outputs": [],
   "source": [
    "skim(df.filter([\"Q\", \"lnQ\", \"CLDD_avg\", \"HTDD_avg\"]))"
   ]
  },
  {
   "cell_type": "markdown",
   "id": "0441f4d5",
   "metadata": {},
   "source": [
    "__Plot the time series__"
   ]
  },
  {
   "cell_type": "markdown",
   "id": "16c2fadf",
   "metadata": {},
   "source": [
    "Consumption"
   ]
  },
  {
   "cell_type": "code",
   "execution_count": null,
   "id": "5229223b",
   "metadata": {},
   "outputs": [],
   "source": [
    "limits = datetime(2001, 1, 1), datetime(2018, 1, 1)\n",
    "breaks = date_breaks(\"3 year\")\n",
    "\n",
    "(\n",
    "    ggplot(df, aes(x=\"date\", y=\"Q\"))\n",
    "    + geom_line(color=\"red\", size=0.7)\n",
    "    + ylab(\"Residential electricity consumption (GWh)\")\n",
    "    + xlab(\"Date (month)\")\n",
    "    + scale_y_continuous(limits=(1000, 5000), breaks=np.arange(1000, 5001, 1000))\n",
    "    + scale_x_date(breaks=breaks(limits)[::1], labels=date_format(\"%b%Y\"))\n",
    "    + theme_bw()\n",
    ")"
   ]
  },
  {
   "cell_type": "markdown",
   "id": "4442a0e6",
   "metadata": {},
   "source": [
    "Log-consumption"
   ]
  },
  {
   "cell_type": "code",
   "execution_count": null,
   "id": "03d2cabb",
   "metadata": {},
   "outputs": [],
   "source": [
    "(\n",
    "    ggplot(df, aes(x=\"date\", y=\"lnQ\"))\n",
    "    + geom_line(color=\"red\", size=0.7)\n",
    "    + ylab(\"ln(residential electricity consumption, GWh)\")\n",
    "    + xlab(\"Date (month)\")\n",
    "    + scale_y_continuous(limits=(7, 8.5), breaks=np.arange(7, 8.5, 0.25))\n",
    "    + scale_x_date(breaks=breaks(limits)[::1], labels=date_format(\"%b%Y\"))\n",
    "    + theme_bw()\n",
    ")"
   ]
  },
  {
   "cell_type": "markdown",
   "id": "a3961eab",
   "metadata": {},
   "source": [
    " Cooling degrees"
   ]
  },
  {
   "cell_type": "code",
   "execution_count": null,
   "id": "a07447e1",
   "metadata": {},
   "outputs": [],
   "source": [
    "(\n",
    "    ggplot(df, aes(x=\"date\", y=\"CLDD_avg\"))\n",
    "    + geom_line(color=\"red\", size=0.7)\n",
    "    + ylab(\"Cooling degrees (Farenheit)\")\n",
    "    + xlab(\"Date (month)\")\n",
    "    + scale_y_continuous(\n",
    "        expand=(0.01, 0.01), limits=(0, 35), breaks=np.arange(0, 36, 5)\n",
    "    )\n",
    "    + scale_x_date(breaks=breaks(limits)[::1], labels=date_format(\"%b%Y\"))\n",
    "    + theme_bw()\n",
    ")"
   ]
  },
  {
   "cell_type": "markdown",
   "id": "1b9bf3af",
   "metadata": {},
   "source": [
    "Heating degrees"
   ]
  },
  {
   "cell_type": "code",
   "execution_count": null,
   "id": "a9c314a0",
   "metadata": {},
   "outputs": [],
   "source": [
    "(\n",
    "    ggplot(df, aes(x=\"date\", y=\"HTDD_avg\"))\n",
    "    + geom_line(color=\"red\", size=0.7)\n",
    "    + ylab(\"Heating degrees (Farenheit)\")\n",
    "    + xlab(\"Date (month)\")\n",
    "    + scale_y_continuous(\n",
    "        expand=(0.01, 0.01), limits=(0, 14), breaks=np.arange(0, 15, 2)\n",
    "    )\n",
    "    + scale_x_date(breaks=breaks(limits)[::1], labels=date_format(\"%b%Y\"))\n",
    "    + theme_bw()\n",
    ")"
   ]
  },
  {
   "cell_type": "markdown",
   "id": "d09ff316",
   "metadata": {},
   "source": [
    "Plot all of them together"
   ]
  },
  {
   "cell_type": "code",
   "execution_count": null,
   "id": "8b73c045",
   "metadata": {},
   "outputs": [],
   "source": [
    "(\n",
    "    ggplot(\n",
    "        df.melt(id_vars=\"date\", value_vars=[\"CLDD_avg\", \"HTDD_avg\", \"lnQ\", \"Q\"]),\n",
    "        aes(x=\"date\", y=\"value\"),\n",
    "    )\n",
    "    + geom_line(color=\"red\", size=0.7)\n",
    "    + facet_wrap(\"~variable\", scales=\"free_y\")\n",
    "    + xlab(\"Date (month)\")\n",
    "    + scale_x_date(breaks=breaks(limits)[::1], labels=date_format(\"%Y\"))\n",
    "    + theme_bw()\n",
    "    + theme(subplots_adjust={\"wspace\": 0.25})\n",
    ")"
   ]
  },
  {
   "cell_type": "markdown",
   "id": "12e4fbee",
   "metadata": {},
   "source": [
    "<br>__Time-series specific analysis: auto-correlation__"
   ]
  },
  {
   "cell_type": "code",
   "execution_count": null,
   "id": "36e896de",
   "metadata": {},
   "outputs": [],
   "source": [
    "from statsmodels.graphics.tsaplots import plot_pacf\n",
    "from statsmodels.graphics.tsaplots import plot_acf\n",
    "import matplotlib.pyplot as plt"
   ]
  },
  {
   "cell_type": "markdown",
   "id": "a3ccd222",
   "metadata": {},
   "source": [
    "Log of electricity consumption"
   ]
  },
  {
   "cell_type": "code",
   "execution_count": null,
   "id": "d32b0b8b",
   "metadata": {},
   "outputs": [],
   "source": [
    "plot_acf(df[\"lnQ\"], lags = 25)\n",
    "plt.show()"
   ]
  },
  {
   "cell_type": "code",
   "execution_count": null,
   "id": "feb57a67",
   "metadata": {},
   "outputs": [],
   "source": [
    "plot_pacf(df[\"lnQ\"], lags = 25, method = \"ols\")\n",
    "plt.show()"
   ]
  },
  {
   "cell_type": "markdown",
   "id": "6aaa04e9",
   "metadata": {},
   "source": [
    "Cooling degree"
   ]
  },
  {
   "cell_type": "code",
   "execution_count": null,
   "id": "dab46f6e",
   "metadata": {},
   "outputs": [],
   "source": [
    "plot_acf(df[\"CLDD_avg\"], lags = 25)\n",
    "plt.show()"
   ]
  },
  {
   "cell_type": "code",
   "execution_count": null,
   "id": "a84e36d2",
   "metadata": {},
   "outputs": [],
   "source": [
    "plot_pacf(df[\"CLDD_avg\"], lags = 25, method = \"ols\")\n",
    "plt.show()"
   ]
  },
  {
   "cell_type": "markdown",
   "id": "03953c28",
   "metadata": {},
   "source": [
    "Heating degree"
   ]
  },
  {
   "cell_type": "code",
   "execution_count": null,
   "id": "bff0679d",
   "metadata": {},
   "outputs": [],
   "source": [
    "plot_acf(df[\"HTDD_avg\"], lags = 25)\n",
    "plt.show()"
   ]
  },
  {
   "cell_type": "code",
   "execution_count": null,
   "id": "b28b02d7",
   "metadata": {},
   "outputs": [],
   "source": [
    "plot_pacf(df[\"HTDD_avg\"], lags = 25, method = \"ols\")\n",
    "plt.show()"
   ]
  },
  {
   "cell_type": "markdown",
   "id": "9507ea7f",
   "metadata": {},
   "source": [
    "Solution --> Create differences"
   ]
  },
  {
   "cell_type": "code",
   "execution_count": null,
   "id": "90144ee7",
   "metadata": {},
   "outputs": [],
   "source": [
    "df[\"DlnQ\"] = df[\"lnQ\"] - df[\"lnQ\"].shift(1)\n",
    "df[\"DCLDD_avg\"] = df[\"CLDD_avg\"] - df[\"CLDD_avg\"].shift(1)\n",
    "df[\"DHTDD_avg\"] = df[\"HTDD_avg\"] - df[\"HTDD_avg\"].shift(1)"
   ]
  },
  {
   "cell_type": "markdown",
   "id": "ecf07a99",
   "metadata": {},
   "source": [
    "<br>__Functional form investigations__"
   ]
  },
  {
   "cell_type": "code",
   "execution_count": null,
   "id": "da330883",
   "metadata": {},
   "outputs": [],
   "source": [
    "(\n",
    "    ggplot(df, aes(x=\"DCLDD_avg\", y=\"DlnQ\"))\n",
    "    + geom_point(size=1, fill=\"blue\", color=\"blue\")\n",
    "    + geom_smooth(\n",
    "        method=\"loess\", se=False, colour=\"black\", size=1.5, span=0.9,\n",
    "    )\n",
    "    + labs(\n",
    "        x=\"Cooling degrees (Farenheit), first difference\",\n",
    "        y=\"ln(monthly electricity consumption), first difference\",\n",
    "    )\n",
    "    + scale_x_continuous(limits=(-20, 20), breaks=np.arange(-20, 20, 10))\n",
    "    + theme_bw()\n",
    ")"
   ]
  },
  {
   "cell_type": "code",
   "execution_count": null,
   "id": "6da612ab",
   "metadata": {},
   "outputs": [],
   "source": [
    "(\n",
    "    ggplot(df, aes(x=\"DHTDD_avg\", y=\"DlnQ\"))\n",
    "    + geom_point(size=1, fill=\"blue\", color=\"blue\")\n",
    "    + geom_smooth(method=\"loess\", se=False, colour=\"black\", size=1.5)\n",
    "    + labs(\n",
    "        x=\"Heating degrees (Farenheit), first difference\",\n",
    "        y=\"ln(monthly electricity consumption), first difference\",\n",
    "    )\n",
    "    + scale_x_continuous(limits=(-10, 10), breaks=np.arange(-10, 10, 10))\n",
    "    + theme_bw()\n",
    ")"
   ]
  },
  {
   "cell_type": "markdown",
   "id": "62a4446b",
   "metadata": {},
   "source": [
    "### Linear regressions"
   ]
  },
  {
   "cell_type": "markdown",
   "id": "d27e4d3d",
   "metadata": {},
   "source": [
    "- reg1: DlnQ = alpha + beta_1 * DCLDD_avg + beta_2 * DHTDD_avg\n",
    "- reg2: DlnQ = alpha + beta_1 * DCLDD_avg + beta_2 * DHTDD_avg + months\n",
    "- reg3: DlnQ = alpha + gamma * lag( DlnQ ) + beta_1 * DCLDD_avg + beta_2 * DHTDD_avg + months\n",
    "- reg4: DlnQ = alpha + beta_1 * DCLDD_avg + beta_2 * DHTDD_avg + months + 2 LAGS of DCLDD_avg and DHTDD_avg\n",
    "- reg_cumSE: use reg4 but estimate standard errors for the cumulative effect"
   ]
  },
  {
   "cell_type": "code",
   "execution_count": null,
   "id": "c287d1f1",
   "metadata": {},
   "outputs": [],
   "source": [
    "df = df.sort_values(by=\"ym\")"
   ]
  },
  {
   "cell_type": "code",
   "execution_count": null,
   "id": "9c132851",
   "metadata": {},
   "outputs": [],
   "source": [
    "reg1 = smf.ols(\"DlnQ ~ DCLDD_avg + DHTDD_avg\", data=df).fit()\n",
    "reg1.get_robustcov_results(cov_type=\"HAC\", maxlags=24).summary()"
   ]
  },
  {
   "cell_type": "code",
   "execution_count": null,
   "id": "b77c2189",
   "metadata": {},
   "outputs": [],
   "source": [
    "reg2 = smf.ols(\"DlnQ ~ DCLDD_avg + DHTDD_avg + C(month)\", data=df).fit()\n",
    "reg2.get_robustcov_results(cov_type=\"HAC\", maxlags=24).summary()"
   ]
  },
  {
   "cell_type": "markdown",
   "id": "837cdae8",
   "metadata": {},
   "source": [
    "Compare the two models"
   ]
  },
  {
   "cell_type": "code",
   "execution_count": null,
   "id": "b94ad6c3",
   "metadata": {},
   "outputs": [],
   "source": [
    "table = Stargazer([reg1, reg2])\n",
    "table"
   ]
  },
  {
   "cell_type": "markdown",
   "id": "7cd63371",
   "metadata": {},
   "source": [
    "reg3: include the lag of DlnQ:"
   ]
  },
  {
   "cell_type": "code",
   "execution_count": null,
   "id": "43a87954",
   "metadata": {},
   "outputs": [],
   "source": [
    "reg3 = smf.ols(\"DlnQ ~ DlnQ.shift(1) + DCLDD_avg + DHTDD_avg + C(month)\", data=df).fit()\n",
    "reg3.get_robustcov_results(cov_type=\"HAC\", maxlags=24).summary()"
   ]
  },
  {
   "cell_type": "markdown",
   "id": "38f92504",
   "metadata": {},
   "source": [
    "reg4: include the lag of heating/cooling degrees up to two lags"
   ]
  },
  {
   "cell_type": "code",
   "execution_count": null,
   "id": "ab4c8fa9",
   "metadata": {},
   "outputs": [],
   "source": [
    "reg4 = smf.ols(\n",
    "    \"DlnQ ~ DCLDD_avg + DCLDD_avg.shift(1) + DCLDD_avg.shift(2) + DHTDD_avg + DHTDD_avg.shift(1) + DHTDD_avg.shift(2) + C(month)\",\n",
    "    data=df,\n",
    ").fit()\n",
    "reg4.get_robustcov_results(cov_type=\"HAC\", maxlags=24).summary()"
   ]
  },
  {
   "cell_type": "code",
   "execution_count": null,
   "id": "d9214cc7",
   "metadata": {},
   "outputs": [],
   "source": [
    "table = Stargazer([reg1, reg2, reg3, reg4])\n",
    "table"
   ]
  },
  {
   "cell_type": "markdown",
   "id": "16506bf5",
   "metadata": {},
   "source": [
    " Note: to be fair, one needs to use a restricted sample with 201 observations in this case!"
   ]
  },
  {
   "cell_type": "markdown",
   "id": "88e6a3ad",
   "metadata": {},
   "source": [
    "#### Task:\n",
    "Replicate these results, but now using the same sample for each model to ensure fair comparison!\\\n",
    "You should have the same number of observations in the end"
   ]
  },
  {
   "cell_type": "code",
   "execution_count": null,
   "id": "86e23bd2",
   "metadata": {},
   "outputs": [],
   "source": [
    "reg1_s= smf.ols(\"DlnQ ~ DCLDD_avg + DHTDD_avg\", data=df.iloc[3:, :]).fit()\n",
    "reg2_s = smf.ols(\"DlnQ ~ DCLDD_avg + DHTDD_avg + C(month)\", data=df.iloc[3:, :]).fit()\n",
    "reg3_s = smf.ols(\n",
    "    \"DlnQ ~ DlnQ.shift(1) + DCLDD_avg + DHTDD_avg + C(month)\", data=df.iloc[2:, :]\n",
    ").fit()\n",
    "reg4_s = smf.ols(\n",
    "    \"DlnQ ~ DCLDD_avg + DCLDD_avg.shift(1) + DCLDD_avg.shift(2) + DHTDD_avg + DHTDD_avg.shift(1) + DHTDD_avg.shift(2) + C(month)\",\n",
    "    data=df,\n",
    ").fit()"
   ]
  },
  {
   "cell_type": "code",
   "execution_count": null,
   "id": "f0e0585a",
   "metadata": {},
   "outputs": [],
   "source": [
    "table = Stargazer([reg1_s, reg2_s, reg3_s, reg4_s])\n",
    "table"
   ]
  },
  {
   "cell_type": "markdown",
   "id": "27baaf1f",
   "metadata": {},
   "source": [
    "Trick to estimate SE on the cumulative effect"
   ]
  },
  {
   "cell_type": "markdown",
   "id": "c7abd579",
   "metadata": {},
   "source": [
    " 1) create double differenced variable"
   ]
  },
  {
   "cell_type": "code",
   "execution_count": null,
   "id": "41f90044",
   "metadata": {},
   "outputs": [],
   "source": [
    "df[\"DDCLDD_avg\"] = df[\"DCLDD_avg\"] - df[\"DCLDD_avg\"].shift(1)\n",
    "df[\"DDHTDD_avg\"] = df[\"DHTDD_avg\"] - df[\"DHTDD_avg\"].shift(1)"
   ]
  },
  {
   "cell_type": "code",
   "execution_count": null,
   "id": "47d988b8",
   "metadata": {},
   "outputs": [],
   "source": [
    "reg_cumSE = smf.ols(\n",
    "    \"DlnQ ~ DCLDD_avg.shift(2) + DHTDD_avg.shift(2) + DDCLDD_avg + DCLDD_avg.shift(1) + DDHTDD_avg + DDHTDD_avg.shift(1) + C(month)\",\n",
    "    data=df,\n",
    ").fit()\n",
    "reg_cumSE.get_robustcov_results(cov_type=\"HAC\", maxlags=24).summary()"
   ]
  },
  {
   "cell_type": "markdown",
   "id": "30ddfa63",
   "metadata": {},
   "source": [
    "Compare the results"
   ]
  },
  {
   "cell_type": "code",
   "execution_count": null,
   "id": "983d2476",
   "metadata": {},
   "outputs": [],
   "source": [
    "table = Stargazer([reg4, reg_cumSE])\n",
    "table"
   ]
  },
  {
   "cell_type": "markdown",
   "id": "c2a4f576",
   "metadata": {},
   "source": [
    "Remark - from reg4: DCLDD_avg+l(DCLDD_avg,1)+l(DCLDD_avg,2) == reg_cumSE: l(DCLDD_avg,2) \\\n",
    "  extra: for reg_cumSE: l(DCLDD_avg,2) we have SE as well! \\\n",
    "  same for l(DHTDD_avg,2)"
   ]
  },
  {
   "cell_type": "code",
   "execution_count": null,
   "id": "fc351441",
   "metadata": {},
   "outputs": [],
   "source": []
  }
 ],
 "metadata": {
  "kernelspec": {
   "display_name": "Python 3 (ipykernel)",
   "language": "python",
   "name": "python3"
  },
  "language_info": {
   "codemirror_mode": {
    "name": "ipython",
    "version": 3
   },
   "file_extension": ".py",
   "mimetype": "text/x-python",
   "name": "python",
   "nbconvert_exporter": "python",
   "pygments_lexer": "ipython3",
   "version": "3.8.10"
  }
 },
 "nbformat": 4,
 "nbformat_minor": 5
}
