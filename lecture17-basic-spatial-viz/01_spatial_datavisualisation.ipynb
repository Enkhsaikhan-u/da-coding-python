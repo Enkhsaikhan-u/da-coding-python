{
 "cells": [
  {
   "cell_type": "markdown",
   "id": "8292bf71",
   "metadata": {},
   "source": [
    "# Lecture 20 – part I               \n",
    "                                            \n",
    "## Basic spatial data visualization         \n",
    "   - Visualize world map with 'maps'       \n",
    "   - Life expectancy on a map              \n",
    "     - Raw values                          \n",
    "     - Modeled deviance from 'expected'            \n",
    "\n",
    "Case-studies:\n",
    "\n",
    "   - CH08B How is life expectancy related to the average income of a country?     \n",
    "                                             \n",
    "Data used:\n",
    "\n",
    "    worldbank-lifeexpectancy                  \n",
    "\n",
    "___"
   ]
  },
  {
   "cell_type": "markdown",
   "id": "d6218178",
   "metadata": {},
   "source": [
    "### Part I:                       \n",
    " World map and Visualize Life-expectancy "
   ]
  },
  {
   "cell_type": "code",
   "execution_count": null,
   "id": "3b545e2d",
   "metadata": {},
   "outputs": [],
   "source": [
    "import pandas as pd\n",
    "import numpy as np\n",
    "from plotnine import *\n",
    "import statsmodels.formula.api as smf\n",
    "from datetime import datetime\n",
    "from mizani.breaks import date_breaks\n",
    "from mizani.formatters import date_format\n",
    "from stargazer.stargazer import Stargazer\n",
    "import warnings\n",
    "\n",
    "%matplotlib inline\n",
    "warnings.filterwarnings(\"ignore\")"
   ]
  },
  {
   "cell_type": "markdown",
   "id": "4c72e868",
   "metadata": {},
   "source": [
    "Import world map polygons"
   ]
  },
  {
   "cell_type": "code",
   "execution_count": null,
   "id": "1f239bef",
   "metadata": {},
   "outputs": [],
   "source": [
    "world_map = pd.read_csv(\"data_map/worldmap.csv\")"
   ]
  },
  {
   "cell_type": "markdown",
   "id": "3ea81b3f",
   "metadata": {},
   "source": [
    "What we need is a 'polygon'\n",
    "\n",
    "Note: it has longitude and latitude data with groups and order -> this is important to draw a map regions and subregions are just for us to relate \n",
    "\n",
    "It will convert Map of World:\n",
    "   - unscaled, with guides and axis labels"
   ]
  },
  {
   "cell_type": "code",
   "execution_count": null,
   "id": "31129252",
   "metadata": {},
   "outputs": [],
   "source": [
    "wm = (\n",
    "    ggplot(world_map, aes(x=\"long\", y=\"lat\", group=\"group\"))\n",
    "    + geom_polygon(fill=\"white\", color=\"black\")\n",
    ")\n",
    "wm"
   ]
  },
  {
   "cell_type": "markdown",
   "id": "60c5f089",
   "metadata": {},
   "source": [
    " Set coordinates are equally distanced, with a more appropriate theme"
   ]
  },
  {
   "cell_type": "code",
   "execution_count": null,
   "id": "1d043f9d",
   "metadata": {},
   "outputs": [],
   "source": [
    "(\n",
    "    wm\n",
    "    + coord_equal()\n",
    "    + theme_minimal()\n",
    "    + theme(\n",
    "        axis_title_x=element_blank(),\n",
    "        axis_title_y=element_blank(),\n",
    "        panel_grid_minor=element_blank(),\n",
    "        panel_grid=element_blank(),\n",
    "        axis_text=element_blank(),\n",
    "    )\n",
    ")"
   ]
  },
  {
   "cell_type": "markdown",
   "id": "b7a55c37",
   "metadata": {},
   "source": [
    "We can create a theme_map – It is not implemented in plotnine"
   ]
  },
  {
   "cell_type": "code",
   "execution_count": null,
   "id": "b94e3e67",
   "metadata": {},
   "outputs": [],
   "source": [
    "theme_map = [\n",
    "    theme_minimal(),\n",
    "    theme(\n",
    "        axis_title_x=element_blank(),\n",
    "        axis_title_y=element_blank(),\n",
    "        panel_grid_minor=element_blank(),\n",
    "        panel_grid=element_blank(),\n",
    "        axis_text=element_blank(),\n",
    "    ),\n",
    "]"
   ]
  },
  {
   "cell_type": "code",
   "execution_count": null,
   "id": "c698b71f",
   "metadata": {},
   "outputs": [],
   "source": [
    "wm + coord_equal() + theme_map"
   ]
  },
  {
   "cell_type": "markdown",
   "id": "fdce08b3",
   "metadata": {},
   "source": [
    "Add countries as a filler:\n",
    "\n",
    "Note: important to remove legend!\n"
   ]
  },
  {
   "cell_type": "code",
   "execution_count": null,
   "id": "5d9b32ed",
   "metadata": {},
   "outputs": [],
   "source": [
    "(\n",
    "    ggplot(world_map, aes(x=\"long\", y=\"lat\", group=\"group\", fill=\"region\"))\n",
    "    + geom_polygon()\n",
    "    + coord_equal()\n",
    "    + theme_map\n",
    "    + scale_fill_discrete(guide=False)\n",
    ")"
   ]
  },
  {
   "cell_type": "markdown",
   "id": "22b428d0",
   "metadata": {},
   "source": [
    "We want to show life-expectancy on this map"
   ]
  },
  {
   "cell_type": "code",
   "execution_count": null,
   "id": "c8aef0f7",
   "metadata": {},
   "outputs": [],
   "source": [
    "life = pd.read_csv(\"https://osf.io/sh9mu/download\")"
   ]
  },
  {
   "cell_type": "markdown",
   "id": "517e8301",
   "metadata": {},
   "source": [
    "Take year 2017 only"
   ]
  },
  {
   "cell_type": "code",
   "execution_count": null,
   "id": "d8ad5a2e",
   "metadata": {},
   "outputs": [],
   "source": [
    "life = life.loc[lambda x: x[\"year\"] == 2017]"
   ]
  },
  {
   "cell_type": "markdown",
   "id": "b9d98908",
   "metadata": {},
   "source": [
    "We need to match the 'region' variable from world_map  and 'countryname' from lfe\n"
   ]
  },
  {
   "cell_type": "markdown",
   "id": "77cc212d",
   "metadata": {},
   "source": [
    "There are some nonmatching names, replace them in the `life` dataset"
   ]
  },
  {
   "cell_type": "code",
   "execution_count": null,
   "id": "d6fceaea",
   "metadata": {},
   "outputs": [],
   "source": [
    "rename_dict = {\n",
    "    \"Bahamas, The\": \"Bahamas\",\n",
    "    \"Brunei Darussalam\": \"Brunei\",\n",
    "    \"Congo, Dem. Rep.\": \"Democratic Republic of the Congo\",\n",
    "    \"Congo, Rep.\": \"Republic of Congo\",\n",
    "    \"Cote d'Ivoire\": \"Ivory Coast\",\n",
    "    \"Egypt, Arab Rep.\": \"Egypt\",\n",
    "    \"Gambia, The\": \"Gambia\",\n",
    "    \"Iran, Islamic Rep.\": \"Iran\",\n",
    "    \"Kyrgyz Republic\": \"Kyrgyzstan\",\n",
    "    \"Lao PDR\": \"Laos\",\n",
    "    \"Micronesia, Fed. Sts.\": \"Micronesia\",\n",
    "    \"Russian Federation\": \"Russia\",\n",
    "    \"Slovak Republic\": \"Slovakia\",\n",
    "    \"St. Lucia\": \"Saint Lucia\",\n",
    "    \"St. Vincent and the Grenadines\": \"Saint Vincent\",\n",
    "    \"Trinidad and Tobago\": \"Trinidad\",\n",
    "    \"United Kingdom\": \"UK\",\n",
    "    \"United States\": \"USA\",\n",
    "    \"Yemen, Rep.\": \"Yemen\",\n",
    "}"
   ]
  },
  {
   "cell_type": "code",
   "execution_count": null,
   "id": "8907610a",
   "metadata": {},
   "outputs": [],
   "source": [
    "for country_name in rename_dict.keys():\n",
    "    life[\"countryname\"] = np.where(\n",
    "        life[\"countryname\"] == country_name,\n",
    "        rename_dict[country_name],\n",
    "        life[\"countryname\"],\n",
    "    )"
   ]
  },
  {
   "cell_type": "markdown",
   "id": "9d8f0a56",
   "metadata": {},
   "source": [
    "Now we can match the lfe data to world_map"
   ]
  },
  {
   "cell_type": "code",
   "execution_count": null,
   "id": "c1deeacf",
   "metadata": {},
   "outputs": [],
   "source": [
    "world_map_exp = world_map.merge(life, left_on = \"region\",right_on = \"countryname\",how=\"left\")"
   ]
  },
  {
   "cell_type": "markdown",
   "id": "647a0ec8",
   "metadata": {},
   "source": [
    "Show the life-expectancy"
   ]
  },
  {
   "cell_type": "code",
   "execution_count": null,
   "id": "f1a88a5b",
   "metadata": {},
   "outputs": [],
   "source": [
    "lifeexp_map = (\n",
    "    ggplot(world_map_exp, aes(x=\"long\", y=\"lat\", group=\"group\", fill=\"lifeexp\"))\n",
    "    + geom_polygon()\n",
    "    + coord_equal()\n",
    "    + theme_map\n",
    ")\n",
    "lifeexp_map"
   ]
  },
  {
   "cell_type": "markdown",
   "id": "5844fd53",
   "metadata": {},
   "source": [
    "Change coloring life-expectancy: scale from green to red"
   ]
  },
  {
   "cell_type": "code",
   "execution_count": null,
   "id": "891be128",
   "metadata": {},
   "outputs": [],
   "source": [
    "(\n",
    "    lifeexp_map\n",
    "    + scale_fill_gradient(low=\"red\", high=\"lightgreen\", name=\"\")\n",
    "    + ggtitle(\"Life expectancy at birth in years (2017)\")\n",
    ")"
   ]
  },
  {
   "cell_type": "markdown",
   "id": "397ce0c0",
   "metadata": {},
   "source": [
    "#### Task:\n",
    "  - Plot instead of the raw life-expectancy the residuals of the following model:\n",
    "        lfeexp ~ log(gdp/capita)\n",
    "\n",
    "Notes: you need to use `life` to compute and re-join the dataframes\n",
    "  \n",
    "\n",
    "Create log gdp/capita\n"
   ]
  },
  {
   "cell_type": "code",
   "execution_count": null,
   "id": "30f5053c",
   "metadata": {},
   "outputs": [],
   "source": [
    "life[\"ln_gdppc\"] = np.log(life[\"gdppc\"])"
   ]
  },
  {
   "cell_type": "code",
   "execution_count": null,
   "id": "4992e9f6",
   "metadata": {},
   "outputs": [],
   "source": [
    "reg = smf.ols(\"lifeexp ~ ln_gdppc\",data = life).fit()\n",
    "reg.summary()"
   ]
  },
  {
   "cell_type": "markdown",
   "id": "1b37e337",
   "metadata": {},
   "source": [
    "Scatter plot for the model"
   ]
  },
  {
   "cell_type": "code",
   "execution_count": null,
   "id": "20e78d91",
   "metadata": {},
   "outputs": [],
   "source": [
    "(\n",
    "    ggplot(life, aes(x=\"ln_gdppc\", y=\"lifeexp\"))\n",
    "    + geom_point(color=\"blue\")\n",
    "    + geom_smooth(method=\"ols\", color=\"red\", formula=\"y ~ x\")\n",
    "    + labs(x=\"Log of GDP per Capita\", y=\"Life Expectancy at birth\")\n",
    "    + theme_bw()\n",
    ")"
   ]
  },
  {
   "cell_type": "markdown",
   "id": "b9bf5732",
   "metadata": {},
   "source": [
    "Save the residuals"
   ]
  },
  {
   "cell_type": "code",
   "execution_count": null,
   "id": "f9d7f88a",
   "metadata": {},
   "outputs": [],
   "source": [
    "life[\"lfe_res\"] = reg.resid"
   ]
  },
  {
   "cell_type": "code",
   "execution_count": null,
   "id": "1f668832",
   "metadata": {},
   "outputs": [],
   "source": [
    "world_map_exp = world_map.merge(life, left_on = \"region\",right_on = \"countryname\",how=\"left\")"
   ]
  },
  {
   "cell_type": "code",
   "execution_count": null,
   "id": "c335cb9a",
   "metadata": {},
   "outputs": [],
   "source": [
    "lifeexp_map = (\n",
    "    ggplot(world_map_exp, aes(x=\"long\", y=\"lat\", group=\"group\", fill=\"lfe_res\"))\n",
    "    + geom_polygon()\n",
    "    + coord_equal()\n",
    "    + scale_fill_gradient(low=\"red\", high=\"lightgreen\", name=\"\")\n",
    "    + ggtitle(\"Deviance from Life Exp. (2017)\")\n",
    "    + theme_map\n",
    ")\n",
    "lifeexp_map"
   ]
  },
  {
   "cell_type": "code",
   "execution_count": null,
   "id": "bca90a92",
   "metadata": {},
   "outputs": [],
   "source": []
  }
 ],
 "metadata": {
  "kernelspec": {
   "display_name": "Python 3 (ipykernel)",
   "language": "python",
   "name": "python3"
  },
  "language_info": {
   "codemirror_mode": {
    "name": "ipython",
    "version": 3
   },
   "file_extension": ".py",
   "mimetype": "text/x-python",
   "name": "python",
   "nbconvert_exporter": "python",
   "pygments_lexer": "ipython3",
   "version": "3.8.10"
  }
 },
 "nbformat": 4,
 "nbformat_minor": 5
}
