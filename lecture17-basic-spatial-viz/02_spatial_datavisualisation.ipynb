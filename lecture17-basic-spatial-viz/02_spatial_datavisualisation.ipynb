{
 "cells": [
  {
   "cell_type": "markdown",
   "id": "b446c179",
   "metadata": {},
   "source": [
    "# Lecture 20 – part II            \n",
    "                                            \n",
    "## Basic spatial data visualization           \n",
    "   - Hotels-Europe - with 'rgdal'          \n",
    "     - Importing an shp file               \n",
    "     - Visualize London Boroughs           \n",
    "     - Show average prices on map          \n",
    "     - Visualize Vienna districts          \n",
    "\n",
    "\n",
    "Case-studies:\n",
    "\n",
    "   - Ch03B Comparing hotel prices in Europe: Vienna vs London                      \n",
    "                                             \n",
    "Data used:\n",
    "\n",
    "    hotels-europe                             \n",
    "\n",
    "___"
   ]
  },
  {
   "cell_type": "code",
   "execution_count": null,
   "id": "b2a68245",
   "metadata": {},
   "outputs": [],
   "source": [
    "import pandas as pd\n",
    "import geopandas as gpd\n",
    "import numpy as np\n",
    "from plotnine import *\n",
    "import statsmodels.formula.api as smf\n",
    "from datetime import datetime\n",
    "from mizani.breaks import date_breaks\n",
    "from mizani.formatters import date_format\n",
    "from stargazer.stargazer import Stargazer\n",
    "import warnings\n",
    "\n",
    "theme_map = [\n",
    "    theme_minimal(),\n",
    "    theme(\n",
    "        axis_title_x=element_blank(),\n",
    "        axis_title_y=element_blank(),\n",
    "        panel_grid_minor=element_blank(),\n",
    "        panel_grid=element_blank(),\n",
    "        axis_text=element_blank(),\n",
    "    ),\n",
    "]\n",
    "%matplotlib inline\n",
    "warnings.filterwarnings(\"ignore\")"
   ]
  },
  {
   "cell_type": "markdown",
   "id": "2c642773",
   "metadata": {},
   "source": [
    "Import Hotels-Europe data"
   ]
  },
  {
   "cell_type": "code",
   "execution_count": null,
   "id": "6eb9550c",
   "metadata": {},
   "outputs": [],
   "source": [
    "heu_p = pd.read_csv(\"https://osf.io/p6tyr/download\")\n",
    "heu_f = pd.read_csv(\"https://osf.io/utwjs/download\")\n",
    "heu = heu_f.merge(heu_p, on = \"hotel_id\",how=\"left\")\n",
    "del heu_p, heu_f"
   ]
  },
  {
   "cell_type": "markdown",
   "id": "d10b78e9",
   "metadata": {},
   "source": [
    "Filter to London and Vienna as usual"
   ]
  },
  {
   "cell_type": "code",
   "execution_count": null,
   "id": "2329f3f4",
   "metadata": {},
   "outputs": [],
   "source": [
    "heu = (\n",
    "    heu.loc[lambda x: (x[\"year\"] == 2017) & (x[\"month\"] == 11) & (x[\"weekend\"] == 0)]\n",
    "    .loc[lambda x: x[\"city\"].isin([\"London\", \"Vienna\"])]\n",
    "    .loc[lambda x: x[\"accommodation_type\"] == \"Hotel\"]\n",
    "    .loc[lambda x: (x[\"stars\"]) >= 3 & (x[\"stars\"] <= 4)]\n",
    "    .loc[lambda x: x[\"price\"] < 600]\n",
    ")"
   ]
  },
  {
   "cell_type": "markdown",
   "id": "30e30680",
   "metadata": {},
   "source": [
    "### 1) Visualize London Borough"
   ]
  },
  {
   "cell_type": "markdown",
   "id": "44e0618f",
   "metadata": {},
   "source": [
    "Import shp file from [here](https://data.london.gov.uk/dataset/statistical-gis-boundary-files-london)\n",
    "\n",
    "Import shp file for London from the `data_map folder`\n",
    "\n",
    "**Note:** you always need an 'shx' and 'dbf' file with the same name to read"
   ]
  },
  {
   "cell_type": "code",
   "execution_count": null,
   "id": "5733fade",
   "metadata": {},
   "outputs": [],
   "source": [
    "london_map = gpd.read_file(\"data_map/London_Borough_Excluding_MHW.shp\")"
   ]
  },
  {
   "cell_type": "code",
   "execution_count": null,
   "id": "48ae5ab6",
   "metadata": {},
   "outputs": [],
   "source": [
    "london_map.head()"
   ]
  },
  {
   "cell_type": "markdown",
   "id": "fdd39328",
   "metadata": {},
   "source": [
    "Take a quick look"
   ]
  },
  {
   "cell_type": "code",
   "execution_count": null,
   "id": "3fadf612",
   "metadata": {},
   "outputs": [],
   "source": [
    "london_map.plot()"
   ]
  },
  {
   "cell_type": "code",
   "execution_count": null,
   "id": "df56240f",
   "metadata": {},
   "outputs": [],
   "source": [
    "london_map = london_map.rename(columns={\"NAME\":\"borough\"})"
   ]
  },
  {
   "cell_type": "markdown",
   "id": "3687d07e",
   "metadata": {},
   "source": [
    "Show London boroughs"
   ]
  },
  {
   "cell_type": "code",
   "execution_count": null,
   "id": "9e0c1a7c",
   "metadata": {},
   "outputs": [],
   "source": [
    "(\n",
    "    ggplot(london_map, aes(group=\"borough\"))\n",
    "    + geom_map(color=\"white\")\n",
    "    + coord_equal()\n",
    "    + ggtitle(\"London Boroughs\")\n",
    "    + theme_map\n",
    ")"
   ]
  },
  {
   "cell_type": "markdown",
   "id": "428d5970",
   "metadata": {},
   "source": [
    "Define inner-London boroughs \n",
    "\n",
    "Note: City of London officially is not inner-London"
   ]
  },
  {
   "cell_type": "code",
   "execution_count": null,
   "id": "9fb055b6",
   "metadata": {},
   "outputs": [],
   "source": [
    "inner_boroughs = [\n",
    "    \"Camden\",\n",
    "    \"Greenwich\",\n",
    "    \"Hackney\",\n",
    "    \"Hammersmith and Fulham\",\n",
    "    \"Islington\",\n",
    "    \"Kensington and Chelsea\",\n",
    "    \"Lambeth\",\n",
    "    \"Lewisham\",\n",
    "    \"Southwark\",\n",
    "    \"Tower Hamlets\",\n",
    "    \"Wandsworth\",\n",
    "    \"Westminster\",\n",
    "    \"City of London\",\n",
    "]"
   ]
  },
  {
   "cell_type": "code",
   "execution_count": null,
   "id": "96a0d27a",
   "metadata": {},
   "outputs": [],
   "source": [
    "london_map[\"inner_london\"] = london_map[\"borough\"].isin(inner_boroughs)"
   ]
  },
  {
   "cell_type": "markdown",
   "id": "9659721e",
   "metadata": {},
   "source": [
    "Show inner-London boroughs"
   ]
  },
  {
   "cell_type": "code",
   "execution_count": null,
   "id": "73e95999",
   "metadata": {},
   "outputs": [],
   "source": [
    "inner_london = (\n",
    "    ggplot(london_map.loc[lambda x: x[\"inner_london\"] == True], aes(group=\"borough\"))\n",
    "    + geom_map(color=\"black\", fill=\"white\")\n",
    "    + coord_equal()\n",
    "    + ggtitle(\"Inner-London Boroughs\")\n",
    "    + theme_map\n",
    ")\n",
    "inner_london"
   ]
  },
  {
   "cell_type": "markdown",
   "id": "36a8b911",
   "metadata": {},
   "source": [
    "Label boroughs on map by borough name"
   ]
  },
  {
   "cell_type": "markdown",
   "id": "f10b2a0c",
   "metadata": {},
   "source": [
    "First calculate center point for each borough"
   ]
  },
  {
   "cell_type": "code",
   "execution_count": null,
   "id": "c8e8f0c6",
   "metadata": {},
   "outputs": [],
   "source": [
    "london_map.crs = 'EPSG:3857'\n",
    "london_map[\"center\"] = london_map.geometry.centroid\n",
    "london_map[\"x\"] = [val.x for val in london_map.center]\n",
    "london_map[\"y\"] = [val.y for val in london_map.center]"
   ]
  },
  {
   "cell_type": "code",
   "execution_count": null,
   "id": "a66cc4c3",
   "metadata": {},
   "outputs": [],
   "source": [
    "(\n",
    "    inner_london\n",
    "    + geom_text(\n",
    "        london_map.loc[lambda x: x[\"inner_london\"] == True],\n",
    "        aes(x=\"x\", y=\"y\", label=\"borough\", size=8),\n",
    "    )\n",
    "    + scale_size_continuous(guide=False)\n",
    ")"
   ]
  },
  {
   "cell_type": "markdown",
   "id": "03763329",
   "metadata": {},
   "source": [
    "Add prices from London"
   ]
  },
  {
   "cell_type": "markdown",
   "id": "3b9fb35b",
   "metadata": {},
   "source": [
    "1. Create a borough variable "
   ]
  },
  {
   "cell_type": "code",
   "execution_count": null,
   "id": "1560bc57",
   "metadata": {},
   "outputs": [],
   "source": [
    "heu[\"borough\"] = heu[\"neighbourhood\"]"
   ]
  },
  {
   "cell_type": "markdown",
   "id": "7224da80",
   "metadata": {},
   "source": [
    "Hand-written matching..."
   ]
  },
  {
   "cell_type": "code",
   "execution_count": null,
   "id": "2e013406",
   "metadata": {},
   "outputs": [],
   "source": [
    "match_london = {\n",
    "    \"Blackheath\": \"Lewisham\",\n",
    "    \"Bloomsbury\": \"Camden\",\n",
    "    \"Camden Town\": \"Camden\",\n",
    "    \"Canary Wharf\": \"Tower Hamlets\",\n",
    "    \"Chelsea\": \"Kensington and Chelsea\",\n",
    "    \"Covent Garden\": \"Westminster\",\n",
    "    \"Earl\\\\u0027s Court\": \"Kensington and Chelsea\",\n",
    "    \"Euston\": \"Camden\",\n",
    "    \"Hammersmith and Fulham\": \"Hammersmith and Fulham\",\n",
    "    \"Hampstead\": \"Camden\",\n",
    "    \"Kensington\": \"Kensington and Chelsea\",\n",
    "    \"Kings Cross\": \"Islington\",\n",
    "    \"Kings Cross St. Pancras\": \"Islington\",\n",
    "    \"Knightsbridge\": \"Westminster\",\n",
    "    \"Lillington and Longmoore Gardens\": \"Westminster\",\n",
    "    \"London\": \"City of London\",\n",
    "    \"Maida Vale\": \"Westminster\",\n",
    "    \"Marylebone\": \"Westminster\",\n",
    "    \"Mayfair\": \"Westminster\",\n",
    "    \"North Maida Vale\": \"Westminster\",\n",
    "    \"Notting Hill\": \"Kensington and Chelsea\",\n",
    "    \"Paddington\": \"Westminster\",\n",
    "    \"Poplar\": \"Tower Hamlets\",\n",
    "    \"Royal Borough of Kensington and Chelsea\": \"Hammersmith and Fulham\",\n",
    "    \"Shoreditch\": \"Hackney\",\n",
    "    \"Soho\": \"Westminster\",\n",
    "    \"South Bank\": \"Lambeth\",\n",
    "    \"St Katharine\\\\u0027s \\\\u0026 Wapping\": \"Tower Hamlets\",\n",
    "    \"Stratford\": \"Newham\",\n",
    "    \"The City of London\": \"City of London\",\n",
    "    \"Victoria\": \"Westminster\",\n",
    "    \"West End\": \"Camden\",\n",
    "    \"White City\": \"Hammersmith and Fulham\",\n",
    "}"
   ]
  },
  {
   "cell_type": "code",
   "execution_count": null,
   "id": "14484287",
   "metadata": {},
   "outputs": [],
   "source": [
    "heu[\"borough\"] = heu[\"borough\"].map(match_london).fillna(heu[\"borough\"])"
   ]
  },
  {
   "cell_type": "markdown",
   "id": "4eca3f94",
   "metadata": {},
   "source": [
    " Calculate the average prices in each borough, London"
   ]
  },
  {
   "cell_type": "code",
   "execution_count": null,
   "id": "d8e0da6e",
   "metadata": {
    "scrolled": true
   },
   "outputs": [],
   "source": [
    "l_bor = (\n",
    "    heu.loc[lambda x: x[\"city_actual\"] == \"London\"]\n",
    "    .groupby(\"borough\")[\"price\"]\n",
    "    .mean()\n",
    "    .to_frame()\n",
    "    .reset_index()\n",
    ")"
   ]
  },
  {
   "cell_type": "markdown",
   "id": "777f5ebf",
   "metadata": {},
   "source": [
    "merge to london map"
   ]
  },
  {
   "cell_type": "code",
   "execution_count": null,
   "id": "fde42d20",
   "metadata": {},
   "outputs": [],
   "source": [
    "london_map = london_map.merge(l_bor, how=\"left\")"
   ]
  },
  {
   "cell_type": "code",
   "execution_count": null,
   "id": "6b1c6592",
   "metadata": {},
   "outputs": [],
   "source": [
    "(\n",
    "    ggplot(london_map, aes(group=\"borough\", fill=\"price\"))\n",
    "    + geom_map(color=\"white\")\n",
    "    + coord_equal()\n",
    "    + labs(fill=\"Price\")\n",
    "    + scale_fill_gradient(\n",
    "        low=\"lightgreen\", high=\"red\", name=\"Price\"  # colors\n",
    "    )  # legend options\n",
    "    + ggtitle(\"Average hotel prices in London ($,2017)\")\n",
    "    + theme_map\n",
    ")"
   ]
  },
  {
   "cell_type": "markdown",
   "id": "8d226413",
   "metadata": {},
   "source": [
    "Make nicer plot"
   ]
  },
  {
   "cell_type": "code",
   "execution_count": null,
   "id": "f3afaa0b",
   "metadata": {},
   "outputs": [],
   "source": [
    "london_map[\"borough\"] = np.where(\n",
    "    london_map[\"borough\"] == \"Hammersmith and Fulham\", \"H&F\", london_map[\"borough\"]\n",
    ")\n",
    "london_map[\"borough\"] = np.where(\n",
    "    london_map[\"borough\"] == \"Kensington and Chelsea\", \"K&C\", london_map[\"borough\"]\n",
    ")\n",
    "london_map[\"borough\"] = np.where(\n",
    "    london_map[\"borough\"] == \"City of London\", \"C.London\", london_map[\"borough\"]\n",
    ")"
   ]
  },
  {
   "cell_type": "code",
   "execution_count": null,
   "id": "ec106538",
   "metadata": {},
   "outputs": [],
   "source": [
    "palette = [\"#9be3f9\", \"#0097c3\", \"#f24f26\", \"#ffef55\", \"#e1c5a3\"]"
   ]
  },
  {
   "cell_type": "code",
   "execution_count": null,
   "id": "1489ea93",
   "metadata": {},
   "outputs": [],
   "source": [
    "(\n",
    "    ggplot(\n",
    "        london_map.loc[lambda x: x[\"inner_london\"] == True],\n",
    "        aes(group=\"borough\", fill=\"price\"),\n",
    "    )\n",
    "    + geom_map(color=\"white\")\n",
    "    + coord_equal()\n",
    "    + labs(fill=\"Price\")\n",
    "    + scale_fill_gradientn(colors=palette, na_value=\"lightgrey\", name=\"Price\")\n",
    "    + ggtitle(\"Average hotel prices in London ($,2017)\")\n",
    "    + theme_map\n",
    "    + geom_text(aes(x=\"x\", y=\"y\", label=\"borough\", size=8))\n",
    "    + scale_size_continuous(guide=False)\n",
    ")"
   ]
  },
  {
   "cell_type": "markdown",
   "id": "ff8f931d",
   "metadata": {},
   "source": [
    "### Task:\n",
    "\n",
    "Do the same for hotels in Vienna\n",
    "\n",
    "I have let the matching in the codes not to spend time with data-munging...\n"
   ]
  },
  {
   "cell_type": "code",
   "execution_count": null,
   "id": "15f7db62",
   "metadata": {},
   "outputs": [],
   "source": [
    "vienna_map = gpd.read_file(\"data_map/BEZIRKSGRENZEOGDPolygon.shp\").rename(columns={\"NAMEK\":\"district\"})"
   ]
  },
  {
   "cell_type": "markdown",
   "id": "5e79a6a5",
   "metadata": {},
   "source": [
    "Take a quick look"
   ]
  },
  {
   "cell_type": "code",
   "execution_count": null,
   "id": "09ef5bdb",
   "metadata": {},
   "outputs": [],
   "source": [
    "vienna_map.plot()"
   ]
  },
  {
   "cell_type": "markdown",
   "id": "cd2e561f",
   "metadata": {},
   "source": [
    " Visualize Vienna districts"
   ]
  },
  {
   "cell_type": "code",
   "execution_count": null,
   "id": "60fa2e7c",
   "metadata": {},
   "outputs": [],
   "source": [
    "(\n",
    "    ggplot(vienna_map, aes(group=\"district\"))\n",
    "    + geom_map(color=\"white\")\n",
    "    #+ coord_equal() NOTE: somehow here we do not need coord_equal\n",
    "    + ggtitle(\"Vienna districts\")\n",
    "    + theme_map\n",
    ")"
   ]
  },
  {
   "cell_type": "code",
   "execution_count": null,
   "id": "0b101649",
   "metadata": {},
   "outputs": [],
   "source": [
    "match_vienna = {\n",
    "    \"17. Hernals\": \"Hernals\",\n",
    "    \"Graben\": \"Innere Stadt\",\n",
    "    \"Kaerntner Strasse\": \"Innere Stadt\",\n",
    "    \"Landstrasse\": \"Landstra\\xdfe\",\n",
    "    \"Rudolfsheim-Funfhaus\": \"Rudolfsheim-F\\xfcnfhaus\",\n",
    "    \"Wahring\": \"W\\xe4hring\",\n",
    "    \"Schonbrunn\": \"Meidling\",\n",
    "}"
   ]
  },
  {
   "cell_type": "markdown",
   "id": "326dc967",
   "metadata": {},
   "source": [
    " Rename the variable: if ugly name from vienna_map, use the pretty name instead!"
   ]
  },
  {
   "cell_type": "code",
   "execution_count": null,
   "id": "5106e58f",
   "metadata": {},
   "outputs": [],
   "source": [
    "heu[\"borough\"] = heu[\"borough\"].map(match_vienna).fillna(heu[\"borough\"])"
   ]
  },
  {
   "cell_type": "markdown",
   "id": "17cee563",
   "metadata": {},
   "source": [
    " Average prices in vienna districts"
   ]
  },
  {
   "cell_type": "code",
   "execution_count": null,
   "id": "a6d6c6d4",
   "metadata": {},
   "outputs": [],
   "source": [
    "v_dist = (\n",
    "    heu.loc[lambda x: x[\"city_actual\"] == \"Vienna\"]\n",
    "    .groupby(\"borough\")[\"price\"]\n",
    "    .mean()\n",
    "    .to_frame()\n",
    "    .reset_index()\n",
    "    .rename(columns={\"borough\": \"district\"})\n",
    ")"
   ]
  },
  {
   "cell_type": "code",
   "execution_count": null,
   "id": "c1581b6a",
   "metadata": {},
   "outputs": [],
   "source": [
    "vienna_map = vienna_map.merge(v_dist, on = \"district\", how = \"left\")"
   ]
  },
  {
   "cell_type": "code",
   "execution_count": null,
   "id": "22d3623e",
   "metadata": {},
   "outputs": [],
   "source": [
    "vienna_map.crs = 'EPSG:3857'\n",
    "vienna_map[\"center\"] = vienna_map.geometry.centroid\n",
    "vienna_map[\"x\"] = [val.x for val in vienna_map.center]\n",
    "vienna_map[\"y\"] = [val.y for val in vienna_map.center]"
   ]
  },
  {
   "cell_type": "code",
   "execution_count": null,
   "id": "23455b2f",
   "metadata": {},
   "outputs": [],
   "source": [
    "vienna_map[\"district\"] = (\n",
    "    vienna_map[\"district\"]\n",
    "    .str.strip()\n",
    "    .map(\n",
    "        {\n",
    "            \"D\\xf6bling\": \"Dobling\",\n",
    "            \"Rudolfsheim-Fünfhaus\": \"R-F\",\n",
    "            \"Innere Stadt\": \"I.S.\",\n",
    "            \"Josefstadt\": \"Josefs.\",\n",
    "            \"Alsergrund\": \"Agrund\",\n",
    "            \"Mariahilf\": \"Mhilf.\",\n",
    "            \"Margareten\": \"Mgaret.\",\n",
    "        }\n",
    "    )\n",
    "    .fillna(vienna_map[\"district\"])\n",
    ")"
   ]
  },
  {
   "cell_type": "code",
   "execution_count": null,
   "id": "49ff0b04",
   "metadata": {},
   "outputs": [],
   "source": [
    "(\n",
    "    ggplot(vienna_map, aes(group=\"district\", fill=\"price\"))\n",
    "    + geom_map(color=\"white\")\n",
    "    + labs(fill=\"Price\")\n",
    "    + scale_fill_gradientn(colors=palette, na_value=\"lightgrey\", name=\"Price\")\n",
    "    + ggtitle(\"Average hotel prices in Vienna ($,2017)\")\n",
    "    + theme_map\n",
    "    + geom_text(aes(x=\"x\", y=\"y\", label=\"district\", size=8))\n",
    "    + scale_size_continuous(guide=False)\n",
    ")"
   ]
  },
  {
   "cell_type": "markdown",
   "id": "3127a508",
   "metadata": {},
   "source": [
    "Show the two cities in one plot"
   ]
  },
  {
   "cell_type": "code",
   "execution_count": null,
   "id": "9681d4d3",
   "metadata": {},
   "outputs": [],
   "source": [
    "london_map = (\n",
    "    london_map.loc[lambda x: x[\"inner_london\"] == True]\n",
    "    .filter([\"borough\", \"geometry\", \"price\", \"x\", \"y\"])\n",
    "    .assign(city=\"Inner-London\")\n",
    ")\n",
    "\n",
    "vienna_map = (\n",
    "    vienna_map.filter([\"district\", \"geometry\", \"price\", \"x\", \"y\"])\n",
    "    .rename(columns={\"district\": \"borough\"})\n",
    "    .assign(city=\"Vienna\")\n",
    ")\n",
    "\n",
    "vienna_london_map = pd.concat([vienna_map, london_map])"
   ]
  },
  {
   "cell_type": "code",
   "execution_count": null,
   "id": "3d4c0873",
   "metadata": {},
   "outputs": [],
   "source": [
    "heu_prices = (\n",
    "    ggplot(vienna_london_map, aes(group=\"borough\", fill=\"price\"))\n",
    "    + geom_map(color=\"white\")\n",
    "    + scale_fill_gradientn(colors=palette, na_value=\"lightgrey\", name=\"Price\")\n",
    "    + geom_text(aes(x=\"x\", y=\"y\", label=\"borough\", size=8))\n",
    "    + facet_wrap(\"city\", nrow=2, scales=\"free\")\n",
    "    + coord_equal()\n",
    "    + scale_size_continuous(guide=False)\n",
    "    + ggtitle(\"Average price of a hotel for one night ($)\")\n",
    "    + labs(fill=\"Price\")\n",
    "    + theme_map\n",
    "    + theme(figure_size=(5, 7.5))\n",
    ")\n",
    "heu_prices"
   ]
  },
  {
   "cell_type": "markdown",
   "id": "96b10968",
   "metadata": {},
   "source": [
    "NOTE: the coordinates are not  perfectly equally distanced"
   ]
  },
  {
   "cell_type": "code",
   "execution_count": null,
   "id": "4c6ff944",
   "metadata": {},
   "outputs": [],
   "source": [
    "ggsave(plot=heu_prices, filename='output/heu_prices.png', dpi=500)"
   ]
  }
 ],
 "metadata": {
  "kernelspec": {
   "display_name": "Python 3 (ipykernel)",
   "language": "python",
   "name": "python3"
  },
  "language_info": {
   "codemirror_mode": {
    "name": "ipython",
    "version": 3
   },
   "file_extension": ".py",
   "mimetype": "text/x-python",
   "name": "python",
   "nbconvert_exporter": "python",
   "pygments_lexer": "ipython3",
   "version": "3.8.10"
  }
 },
 "nbformat": 4,
 "nbformat_minor": 5
}
