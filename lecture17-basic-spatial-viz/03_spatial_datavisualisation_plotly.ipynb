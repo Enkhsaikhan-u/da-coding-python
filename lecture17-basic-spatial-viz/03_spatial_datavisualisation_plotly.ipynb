{
 "cells": [
  {
   "cell_type": "markdown",
   "id": "305165ae",
   "metadata": {},
   "source": [
    "# Lecture 20 – part II            \n",
    "                                            \n",
    "## Basic spatial data visualization           \n",
    "   - Hotels-Europe         \n",
    "     - Create maps with `plotly`        \n",
    "\n",
    "\n",
    "Case-studies:\n",
    "\n",
    "   - Ch03B Comparing hotel prices in Europe: Vienna vs London                      \n",
    "                                             \n",
    "Data used:\n",
    "\n",
    "    hotels-europe                             \n",
    "\n",
    "___"
   ]
  },
  {
   "cell_type": "code",
   "execution_count": null,
   "id": "d8106332",
   "metadata": {},
   "outputs": [],
   "source": [
    "import json\n",
    "import geopandas as gpd\n",
    "import numpy as np\n",
    "import warnings\n",
    "import pandas as pd\n",
    "import plotly.express as px\n",
    "\n",
    "%matplotlib inline\n",
    "warnings.filterwarnings(\"ignore\")"
   ]
  },
  {
   "cell_type": "markdown",
   "id": "6fe1f494",
   "metadata": {},
   "source": [
    "Read Vienna data"
   ]
  },
  {
   "cell_type": "code",
   "execution_count": null,
   "id": "08a5b712",
   "metadata": {},
   "outputs": [],
   "source": [
    "vienna_map = pd.read_csv(\"data_map/vienna.csv\")"
   ]
  },
  {
   "cell_type": "markdown",
   "id": "a23efa4e",
   "metadata": {},
   "source": [
    "Convert pandas dataframe to geopandas dataframe"
   ]
  },
  {
   "cell_type": "code",
   "execution_count": null,
   "id": "51ba68e8",
   "metadata": {},
   "outputs": [],
   "source": [
    "vienna_map = gpd.GeoDataFrame(\n",
    "    vienna_map.loc[:, [c for c in vienna_map.columns if c != \"geometry\"]],\n",
    "    geometry=gpd.GeoSeries.from_wkt(vienna_map[\"geometry\"]),\n",
    "    crs=\"epsg:3005\",\n",
    ")"
   ]
  },
  {
   "cell_type": "markdown",
   "id": "1752aeb6",
   "metadata": {},
   "source": [
    "Create a geojson object"
   ]
  },
  {
   "cell_type": "code",
   "execution_count": null,
   "id": "6dd2e16d",
   "metadata": {},
   "outputs": [],
   "source": [
    "vmap = json.loads(vienna_map.to_json())"
   ]
  },
  {
   "cell_type": "markdown",
   "id": "0b4bba31",
   "metadata": {},
   "source": [
    "Create figure with plotly"
   ]
  },
  {
   "cell_type": "code",
   "execution_count": null,
   "id": "f6d6cfe2",
   "metadata": {},
   "outputs": [],
   "source": [
    "fig = px.choropleth_mapbox(\n",
    "    vienna_map,\n",
    "    geojson=vmap,\n",
    "    locations=\"district\",\n",
    "    color=\"price\",\n",
    "    title=\"Average hotel prices in Vienna ($,2017)\",\n",
    "    color_continuous_scale=\"viridis\",\n",
    "    featureidkey=\"properties.district\",  # featureidkey connects the original geopandas dataframe (vienna_map) to the geojson object (vmap)\n",
    "    mapbox_style=\"carto-positron\",\n",
    "    zoom=10,\n",
    "    center={\"lat\": 48.210033, \"lon\": 16.363449},\n",
    "    opacity=0.5,\n",
    ")\n",
    "fig.update_layout(margin={\"r\": 0, \"l\": 0, \"b\": 0})\n",
    "fig.show()"
   ]
  },
  {
   "cell_type": "code",
   "execution_count": null,
   "id": "d0a350c6",
   "metadata": {},
   "outputs": [],
   "source": [
    "def generateColorScale(colors, naColor):\n",
    "    colorArray = []\n",
    "    colorArray.append([0, naColor])\n",
    "    for grenze, color in zip(np.linspace(0.7, 1, len(colors)), colors):\n",
    "        colorArray.append([grenze, color])\n",
    "    return colorArray"
   ]
  },
  {
   "cell_type": "code",
   "execution_count": null,
   "id": "7b00b60d",
   "metadata": {},
   "outputs": [],
   "source": [
    "fig = px.choropleth_mapbox(\n",
    "    vienna_map.fillna(0),\n",
    "    geojson=vmap,\n",
    "    locations=\"district\",\n",
    "    color=\"price\",\n",
    "    title=\"Average hotel prices in Vienna ($,2017)\",\n",
    "    color_continuous_scale=generateColorScale(colors=[\"red\", \"yellow\"], naColor=\"gray\"),\n",
    "    featureidkey=\"properties.district\",\n",
    "    mapbox_style=\"carto-positron\",\n",
    "    zoom=10,\n",
    "    center={\"lat\": 48.210033, \"lon\": 16.363449},\n",
    "    opacity=0.5,\n",
    ")\n",
    "fig.update_layout(margin={\"r\": 0, \"l\": 0, \"b\": 0})\n",
    "fig.show()"
   ]
  },
  {
   "cell_type": "code",
   "execution_count": null,
   "id": "4e706c25",
   "metadata": {},
   "outputs": [],
   "source": []
  }
 ],
 "metadata": {
  "kernelspec": {
   "display_name": "Python 3 (ipykernel)",
   "language": "python",
   "name": "python3"
  },
  "language_info": {
   "codemirror_mode": {
    "name": "ipython",
    "version": 3
   },
   "file_extension": ".py",
   "mimetype": "text/x-python",
   "name": "python",
   "nbconvert_exporter": "python",
   "pygments_lexer": "ipython3",
   "version": "3.8.10"
  }
 },
 "nbformat": 4,
 "nbformat_minor": 5
}
