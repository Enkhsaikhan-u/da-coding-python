{
 "cells": [
  {
   "cell_type": "markdown",
   "metadata": {},
   "source": [
    "#              Lecture 18                   \n",
    "                                            \n",
    "## Model selection with cross-validation  \n",
    "\n",
    "   - Data cleaning & refactoring   \n",
    "   - Basic feature engineering     \n",
    "   - Multiple var regression       \n",
    "   - Model selection with:         \n",
    "     - cross validation by hand    \n",
    "     - built-in function by caret  \n",
    "   - Prediction with best model    \n",
    "   - Log-transformed outcome model \n",
    "     - transformation of           \n",
    "       log prediction to level              \n",
    "                                            \n",
    "#### Case Study:                                 \n",
    "  - CH13A Predicting used car value with linear regressions   \n",
    "  - CH14A Predicting used car value: log prices         \n",
    "\n",
    "####  Dataset:       \n",
    "    used-cars\n",
    "---"
   ]
  },
  {
   "cell_type": "code",
   "execution_count": null,
   "metadata": {},
   "outputs": [],
   "source": [
    "import os\n",
    "import sys\n",
    "import warnings\n",
    "\n",
    "import numpy as np\n",
    "import pandas as pd\n",
    "import statsmodels\n",
    "import statsmodels.formula.api as smf\n",
    "from mizani.formatters import percent_format\n",
    "from plotnine import *\n",
    "from skimpy import skim\n",
    "from stargazer import stargazer\n",
    "from statsmodels.tools.eval_measures import mse, rmse\n",
    "\n",
    "warnings.filterwarnings(\"ignore\")\n",
    "# turning off scientific notation\n",
    "pd.set_option(\"display.float_format\", lambda x: \"%.2f\" % x)"
   ]
  },
  {
   "cell_type": "markdown",
   "metadata": {},
   "source": [
    "Import data"
   ]
  },
  {
   "cell_type": "code",
   "execution_count": null,
   "metadata": {},
   "outputs": [],
   "source": [
    "data = pd.read_csv(\"https://osf.io/7gvz9/download\")"
   ]
  },
  {
   "cell_type": "markdown",
   "metadata": {},
   "source": [
    "### Sample design\n",
    "\n",
    "Manage missing"
   ]
  },
  {
   "cell_type": "code",
   "execution_count": null,
   "metadata": {},
   "outputs": [],
   "source": [
    "data[\"fuel\"] = data[\"fuel\"].fillna(\"Missing\")\n",
    "data[\"condition\"] = data[\"condition\"].fillna(\"Missing\")\n",
    "data[\"drive\"] = data[\"drive\"].fillna(\"Missing\")\n",
    "data[\"cylinders\"] = data[\"cylinders\"].fillna(\"Missing\")\n",
    "data[\"transmission\"] = data[\"transmission\"].fillna(\"Missing\")\n",
    "data[\"type\"] = data[\"type\"].fillna(\"Missing\")\n"
   ]
  },
  {
   "cell_type": "markdown",
   "metadata": {},
   "source": [
    "check frequency by fuel type"
   ]
  },
  {
   "cell_type": "code",
   "execution_count": null,
   "metadata": {},
   "outputs": [],
   "source": [
    "freq = data.groupby(\"fuel\").agg(frequency=(\"type\", \"size\"))\n",
    "freq[\"percent\"] = round(freq[\"frequency\"] / sum(freq[\"frequency\"]) * 100, 3)\n",
    "freq[\"cumulative_percent\"] = np.cumsum(freq[\"percent\"])\n",
    "freq\n"
   ]
  },
  {
   "cell_type": "markdown",
   "metadata": {},
   "source": [
    "keep gas-fuelled vehicles"
   ]
  },
  {
   "cell_type": "code",
   "execution_count": null,
   "metadata": {},
   "outputs": [],
   "source": [
    "data = data.loc[data.fuel == \"gas\"]\n"
   ]
  },
  {
   "cell_type": "markdown",
   "metadata": {},
   "source": [
    "check frequency by vehicle condition"
   ]
  },
  {
   "cell_type": "code",
   "execution_count": null,
   "metadata": {},
   "outputs": [],
   "source": [
    "freq = data.groupby(\"condition\").agg(frequency=(\"type\", \"size\"))\n",
    "freq[\"percent\"] = round(freq[\"frequency\"] / sum(freq[\"frequency\"]) * 100, 3)\n",
    "freq[\"cumulative_percent\"] = np.cumsum(freq[\"percent\"])\n",
    "freq\n"
   ]
  },
  {
   "cell_type": "markdown",
   "metadata": {},
   "source": [
    "drop vehicles in fair and new condition, trucks"
   ]
  },
  {
   "cell_type": "code",
   "execution_count": null,
   "metadata": {},
   "outputs": [],
   "source": [
    "data = data.loc[~data.condition.isin([\"new\", \"fair\"])]"
   ]
  },
  {
   "cell_type": "markdown",
   "metadata": {},
   "source": [
    "drop unrealistic values for price and odometer reading"
   ]
  },
  {
   "cell_type": "code",
   "execution_count": null,
   "metadata": {},
   "outputs": [],
   "source": [
    "data = data.loc[(data.price >= 500) & (data.price <= 25000) & (data.odometer <= 100)]\n"
   ]
  },
  {
   "cell_type": "markdown",
   "metadata": {},
   "source": [
    "drop if price is smaller than 1000 and condition is like new or age is less than 8"
   ]
  },
  {
   "cell_type": "code",
   "execution_count": null,
   "metadata": {},
   "outputs": [],
   "source": [
    "data = data.loc[\n",
    "    ~((data.price < 1000) & ((data.condition == \"like new\") | (data.age < 8)))\n",
    "]\n"
   ]
  },
  {
   "cell_type": "markdown",
   "metadata": {},
   "source": [
    "check frequency by transmission"
   ]
  },
  {
   "cell_type": "code",
   "execution_count": null,
   "metadata": {},
   "outputs": [],
   "source": [
    "freq = data.groupby(\"transmission\").agg(frequency=(\"type\", \"size\"))\n",
    "freq[\"percent\"] = round(freq[\"frequency\"] / sum(freq[\"frequency\"]) * 100, 3)\n",
    "freq[\"cumulative_percent\"] = np.cumsum(freq[\"percent\"])\n",
    "freq\n"
   ]
  },
  {
   "cell_type": "markdown",
   "metadata": {},
   "source": [
    "Remove observations with manual transmission"
   ]
  },
  {
   "cell_type": "code",
   "execution_count": null,
   "metadata": {},
   "outputs": [],
   "source": [
    "data = data.loc[~(data.transmission == \"manual\")]\n"
   ]
  },
  {
   "cell_type": "markdown",
   "metadata": {},
   "source": [
    " check frequency by transmission"
   ]
  },
  {
   "cell_type": "code",
   "execution_count": null,
   "metadata": {},
   "outputs": [],
   "source": [
    "freq = data.groupby(\"type\").agg(frequency=(\"type\", \"size\"))\n",
    "freq[\"percent\"] = round(freq[\"frequency\"] / sum(freq[\"frequency\"]) * 100, 3)\n",
    "freq[\"cumulative_percent\"] = np.cumsum(freq[\"percent\"])\n",
    "freq\n"
   ]
  },
  {
   "cell_type": "markdown",
   "metadata": {},
   "source": [
    "drop trucks"
   ]
  },
  {
   "cell_type": "code",
   "execution_count": null,
   "metadata": {},
   "outputs": [],
   "source": [
    "data = data.loc[~(data.type == \"truck\")]\n"
   ]
  },
  {
   "cell_type": "markdown",
   "metadata": {},
   "source": [
    "drop pricestr"
   ]
  },
  {
   "cell_type": "code",
   "execution_count": null,
   "metadata": {},
   "outputs": [],
   "source": [
    "data = data.drop([\"pricestr\"], axis=1)\n"
   ]
  },
  {
   "cell_type": "markdown",
   "metadata": {},
   "source": [
    "### Data generation & descriptives"
   ]
  },
  {
   "cell_type": "markdown",
   "metadata": {},
   "source": [
    "Condition"
   ]
  },
  {
   "cell_type": "code",
   "execution_count": null,
   "metadata": {},
   "outputs": [],
   "source": [
    "data[\"cond_excellent\"] = np.where(data[\"condition\"] == \"excellent\", 1, 0)\n",
    "data[\"cond_good\"] = np.where(data[\"condition\"] == \"good\", 1, 0)\n",
    "data[\"cond_likenew\"] = np.where(data[\"condition\"] == \"like new\", 1, 0)"
   ]
  },
  {
   "cell_type": "markdown",
   "metadata": {},
   "source": [
    "cylinders"
   ]
  },
  {
   "cell_type": "code",
   "execution_count": null,
   "metadata": {},
   "outputs": [],
   "source": [
    "data[\"cylind6\"] = np.where(data[\"cylinders\"] == \"6 cylinders\", 1, 0)\n",
    "data.cylinders.value_counts().sort_index()"
   ]
  },
  {
   "cell_type": "code",
   "execution_count": null,
   "metadata": {},
   "outputs": [],
   "source": [
    "data.cylind6.value_counts()"
   ]
  },
  {
   "cell_type": "markdown",
   "metadata": {},
   "source": [
    "age: quadratic, cubic"
   ]
  },
  {
   "cell_type": "code",
   "execution_count": null,
   "metadata": {},
   "outputs": [],
   "source": [
    "data[\"agesq\"] = data[\"age\"] ** 2\n",
    "data[\"agecu\"] = data[\"age\"] ** 3"
   ]
  },
  {
   "cell_type": "markdown",
   "metadata": {},
   "source": [
    "odometer quadratic"
   ]
  },
  {
   "cell_type": "code",
   "execution_count": null,
   "metadata": {},
   "outputs": [],
   "source": [
    "data[\"odometersq\"] = data[\"odometer\"] ** 2"
   ]
  },
  {
   "cell_type": "markdown",
   "metadata": {},
   "source": [
    "#### Frequency tables"
   ]
  },
  {
   "cell_type": "markdown",
   "metadata": {},
   "source": [
    "Area"
   ]
  },
  {
   "cell_type": "code",
   "execution_count": null,
   "metadata": {},
   "outputs": [],
   "source": [
    "data.groupby(\"area\").agg(frequency=(\"price\", \"size\"), mean=(\"price\", np.mean))\n"
   ]
  },
  {
   "cell_type": "markdown",
   "metadata": {},
   "source": [
    "focus only on Chicago"
   ]
  },
  {
   "cell_type": "code",
   "execution_count": null,
   "metadata": {},
   "outputs": [],
   "source": [
    "data = data.loc[data.area == \"chicago\"]\n"
   ]
  },
  {
   "cell_type": "markdown",
   "metadata": {},
   "source": [
    "condition"
   ]
  },
  {
   "cell_type": "code",
   "execution_count": null,
   "metadata": {},
   "outputs": [],
   "source": [
    "data.groupby(\"condition\").agg(frequency=(\"price\", \"size\"), mean=(\"price\", np.mean))\n"
   ]
  },
  {
   "cell_type": "markdown",
   "metadata": {},
   "source": [
    "drive"
   ]
  },
  {
   "cell_type": "code",
   "execution_count": null,
   "metadata": {},
   "outputs": [],
   "source": [
    "data.groupby(\"drive\").agg(frequency=(\"price\", \"size\"), mean=(\"price\", np.mean))\n"
   ]
  },
  {
   "cell_type": "markdown",
   "metadata": {},
   "source": [
    "dealer"
   ]
  },
  {
   "cell_type": "code",
   "execution_count": null,
   "metadata": {},
   "outputs": [],
   "source": [
    "data.groupby(\"dealer\").agg(frequency=(\"price\", \"size\"), mean=(\"price\", np.mean))\n"
   ]
  },
  {
   "cell_type": "markdown",
   "metadata": {},
   "source": [
    "Summary descriptives"
   ]
  },
  {
   "cell_type": "code",
   "execution_count": null,
   "metadata": {},
   "outputs": [],
   "source": [
    "data.filter(\n",
    "    [\n",
    "        \"age\",\n",
    "        \"odometer\",\n",
    "        \"LE\",\n",
    "        \"XLE\",\n",
    "        \"SE\",\n",
    "        \"cond_likenew\",\n",
    "        \"cond_excellent\",\n",
    "        \"cond_good\",\n",
    "        \"cylind6\",\n",
    "    ]\n",
    ").describe()"
   ]
  },
  {
   "cell_type": "code",
   "execution_count": null,
   "metadata": {},
   "outputs": [],
   "source": [
    "skim(\n",
    "    data.filter(\n",
    "        [\n",
    "            \"age\",\n",
    "            \"odometer\",\n",
    "            \"LE\",\n",
    "            \"XLE\",\n",
    "            \"SE\",\n",
    "            \"cond_likenew\",\n",
    "            \"cond_excellent\",\n",
    "            \"cond_good\",\n",
    "            \"cylind6\",\n",
    "        ]\n",
    "    )\n",
    ")"
   ]
  },
  {
   "cell_type": "markdown",
   "metadata": {},
   "source": [
    "### Histograms"
   ]
  },
  {
   "cell_type": "markdown",
   "metadata": {},
   "source": [
    "a) price"
   ]
  },
  {
   "cell_type": "code",
   "execution_count": null,
   "metadata": {},
   "outputs": [],
   "source": [
    "(\n",
    "    ggplot(data, aes(x=\"price\"))\n",
    "    + geom_histogram(\n",
    "        aes(y=\"(stat(count))/sum(stat(count))\"),\n",
    "        binwidth=1000,\n",
    "        boundary=0,\n",
    "        color=\"white\",\n",
    "        fill=\"blue\",\n",
    "        size=0.25,\n",
    "        alpha=0.8,\n",
    "        show_legend=False,\n",
    "        na_rm=True,\n",
    "    )\n",
    "    + coord_cartesian(xlim=(0, 20000))\n",
    "    + labs(x=\"Price (US dollars)\", y=\"Percent\")\n",
    "    + theme_bw()\n",
    "    + expand_limits(x=0.01, y=0.01)\n",
    "    + scale_y_continuous(expand=(0.01, 0.01), labels=percent_format())\n",
    "    + scale_x_continuous(expand=(0.01, 0.01), breaks=np.arange(0, 20000, 2500))\n",
    ")\n"
   ]
  },
  {
   "cell_type": "markdown",
   "metadata": {},
   "source": [
    "b) log of price (for later usage)"
   ]
  },
  {
   "cell_type": "code",
   "execution_count": null,
   "metadata": {},
   "outputs": [],
   "source": [
    "(\n",
    "    ggplot(data, aes(x=\"lnprice\"))\n",
    "    + geom_histogram(\n",
    "        aes(y=\"(stat(count)) / sum(stat(count))\"),\n",
    "        binwidth=0.2,\n",
    "        boundary=0,\n",
    "        color=\"white\",\n",
    "        fill=\"blue\",\n",
    "        size=0.25,\n",
    "        alpha=0.8,\n",
    "        show_legend=False,\n",
    "        na_rm=True,\n",
    "    )\n",
    "    + coord_cartesian(xlim=(6, 10))\n",
    "    + labs(x=\"ln(Price, US dollars)\", y=\"Percent\")\n",
    "    + expand_limits(x=0.01, y=0.01)\n",
    "    + scale_y_continuous(expand=(0.01, 0.01), labels=percent_format())\n",
    "    + scale_x_continuous(expand=(0.01, 0.01), breaks=np.arange(6, 10, 1))\n",
    "    + theme_bw()\n",
    ")\n"
   ]
  },
  {
   "cell_type": "markdown",
   "metadata": {},
   "source": [
    "### Regression analysis"
   ]
  },
  {
   "cell_type": "markdown",
   "metadata": {},
   "source": [
    "lowess"
   ]
  },
  {
   "cell_type": "code",
   "execution_count": null,
   "metadata": {},
   "outputs": [],
   "source": [
    "(\n",
    "    ggplot(data, aes(x=\"age\", y=\"price\"))\n",
    "    + geom_point(color=\"blue\", size=1, alpha=0.8, show_legend=False, na_rm=True)\n",
    "    + geom_smooth(method=\"loess\", se=False, colour=\"red\", size=1, span=0.9)\n",
    "    + labs(x=\"Age (years)\", y=\"Price (US dollars)\")\n",
    "    + theme_bw()\n",
    "    + expand_limits(x=0.01, y=0.01)\n",
    "    + scale_y_continuous(\n",
    "        expand=(0.01, 0.01), limits=(0, 20000), breaks=np.arange(0, 20000, 5000)\n",
    "    )\n",
    "    + scale_x_continuous(expand=(0.01, 0.01), limits=(0, 30), breaks=np.arange(0, 30, 5))\n",
    ")\n"
   ]
  },
  {
   "cell_type": "markdown",
   "metadata": {},
   "source": [
    " Lowess vs. quadratic specification with age"
   ]
  },
  {
   "cell_type": "code",
   "execution_count": null,
   "metadata": {},
   "outputs": [],
   "source": [
    "(\n",
    "    ggplot(data, aes(x=\"age\", y=\"price\"))\n",
    "    + geom_point(color=\"blue\", size=1, alpha=0.8, show_legend=False, na_rm=True)\n",
    "    + geom_smooth(method=\"loess\", se=False, colour=\"red\", size=1)\n",
    "    + geom_smooth(\n",
    "        method=\"lm\", se=False, colour=\"black\", formula=\"y ~ x + np.square(x)\", size=1\n",
    "    )\n",
    "    + labs(x=\"Age (years)\", y=\"Price (US dollars)\")\n",
    "    + theme_bw()\n",
    "    + expand_limits(x=0.01, y=0.01)\n",
    "    + scale_color_manual(\n",
    "        name=\"\", values=(\"red\", \"black\"), labels=(\"Lowess in age\", \"Quadratic in age\")\n",
    "    )\n",
    "    + scale_y_continuous(\n",
    "        expand=(0.01, 0.01), limits=(0, 20000), breaks=np.arange(0, 20001, 5000)\n",
    "    )\n",
    "    + scale_x_continuous(\n",
    "        expand=(0.01, 0.01), limits=(0, 30), breaks=np.arange(0, 31, 5)\n",
    "    )\n",
    ")"
   ]
  },
  {
   "cell_type": "markdown",
   "metadata": {},
   "source": [
    "### Running linear regressions using all observations"
   ]
  },
  {
   "cell_type": "markdown",
   "metadata": {},
   "source": [
    "Write down model equations"
   ]
  },
  {
   "cell_type": "code",
   "execution_count": null,
   "metadata": {},
   "outputs": [],
   "source": [
    "model1 = \"price ~ age + agesq\"\n",
    "model2 = \"price ~ age + agesq + odometer\"\n",
    "model3 = \"price ~ age + agesq + odometer + odometersq + LE + cond_excellent + cond_good + dealer\"\n",
    "model4 = \"price ~ age + agesq + odometer + odometersq + LE + XLE + SE + cond_likenew + cond_excellent + cond_good + cylind6 + dealer\"\n",
    "model5 = \"price ~ age + agesq + odometer + odometersq + LE * age + XLE * age + SE * age + cond_likenew * age + cond_excellent * age + cond_good * age + cylind6 * age + odometer * age + dealer * age\"\n",
    "\n",
    "model_equations = [model1, model2, model3, model4, model5]"
   ]
  },
  {
   "cell_type": "markdown",
   "metadata": {},
   "source": [
    "Estimate regressions"
   ]
  },
  {
   "cell_type": "code",
   "execution_count": null,
   "metadata": {},
   "outputs": [],
   "source": [
    "regression_fits = []\n",
    "for equation in model_equations:\n",
    "    regression_fits.append(smf.ols(equation, data).fit(cov_type=\"HC1\"))"
   ]
  },
  {
   "cell_type": "code",
   "execution_count": null,
   "metadata": {},
   "outputs": [],
   "source": [
    "def extract_regression_statistics(\n",
    "    reg: statsmodels.regression.linear_model.RegressionResultsWrapper,\n",
    ") -> dict:\n",
    "    \"\"\"\n",
    "    Quick function to extract statistics (eg. AIC, BIC, RMSE) for statsmodels' fitted regressions.\n",
    "    \"\"\"\n",
    "\n",
    "    return {\n",
    "        \"AIC\": reg.aic,\n",
    "        \"BIC\": reg.bic,\n",
    "        \"RMSE\": np.sqrt(reg.mse_resid),\n",
    "        \"No. Variables\": reg.df_model,\n",
    "    }"
   ]
  },
  {
   "cell_type": "markdown",
   "metadata": {},
   "source": [
    "Extract statistics for each regression"
   ]
  },
  {
   "cell_type": "code",
   "execution_count": null,
   "metadata": {},
   "outputs": [],
   "source": [
    "regression_statistics = pd.DataFrame(\n",
    "    [extract_regression_statistics(reg) for reg in regression_fits]\n",
    ").round(2)"
   ]
  },
  {
   "cell_type": "markdown",
   "metadata": {},
   "source": [
    "Create table with statistics (AIC, BIC, RMSE) in custom line"
   ]
  },
  {
   "cell_type": "code",
   "execution_count": null,
   "metadata": {},
   "outputs": [],
   "source": [
    "table = stargazer.Stargazer(regression_fits)\n",
    "for i in range(4):\n",
    "    table.add_line(\n",
    "        regression_statistics.columns[i], regression_statistics.iloc[:, i].tolist()\n",
    "    )\n",
    "table"
   ]
  },
  {
   "cell_type": "markdown",
   "metadata": {},
   "source": [
    "##  Cross-validation for better evaluation of predictive performance"
   ]
  },
  {
   "cell_type": "markdown",
   "metadata": {},
   "source": [
    "Simple k-fold cross validation setup:\n",
    " 1. Used method for estimating the model: 'lm' - linear model (y_hat = b0+b1*x1+b2*x2 + ...)\n",
    " 2. set number of folds to use (must be less than the no. observations)"
   ]
  },
  {
   "cell_type": "markdown",
   "metadata": {},
   "source": [
    "Cross validate OLS with combining sklearn k-fold cross validation and statsmodels ols formula\n",
    "\n"
   ]
  },
  {
   "cell_type": "code",
   "execution_count": null,
   "metadata": {},
   "outputs": [],
   "source": [
    "import statsmodels.formula.api as smf\n",
    "from sklearn.model_selection import KFold\n",
    "from statsmodels.tools.eval_measures import rmse\n",
    "\n",
    "def ols_crossvalidator(\n",
    "    formula: str, data: pd.DataFrame, n_folds=5, average_rmse=True\n",
    ") -> dict:\n",
    "    \"\"\"OLS cross-validator\n",
    "\n",
    "\n",
    "    Estimates `formula` equation with OLS and returns values of RMSE, R`2, No. coefficients,\n",
    "    BIC on `data`. Does k-fold cross-validation and either returns train and test RMSE for each\n",
    "    fold, or return averarage train and test RMSEs.\n",
    "\n",
    "    Parameters\n",
    "    ----------\n",
    "    formula : str\n",
    "        Equation that is estimated by OLS.\n",
    "    data : pd.DataFrame\n",
    "        Database in a wide format.\n",
    "    n_folds : int, default=5\n",
    "        Number of folds. Must be at least 2.\n",
    "    average_rmse : bool, default=True\n",
    "        Whether to return the average train and test RMSE of the k-fold CV, or return\n",
    "        train and test RMSE-s for each fold.\n",
    "\n",
    "    \"\"\"\n",
    "\n",
    "    # Get dependent variable\n",
    "\n",
    "    y = formula.split(\"~\")[0].strip()\n",
    "\n",
    "    # Get statistics on the whole work data\n",
    "\n",
    "    model = smf.ols(formula, data=data).fit()\n",
    "\n",
    "    rsquared = model.rsquared\n",
    "    # n_coefficients = model.params.shape[0]\n",
    "    n_coefficients = (\n",
    "        model.df_model + 1\n",
    "    )  # This might differ from model.params.shape[0], because of collinear predictors\n",
    "    bic = model.bic\n",
    "    rmse_alldata = rmse(model.predict(), data[y])\n",
    "\n",
    "    # Calculating test and train RMSE-s for each fold\n",
    "\n",
    "    k = KFold(n_splits=n_folds, shuffle=False, random_state=None)\n",
    "\n",
    "    rmse_train = []\n",
    "    rmse_test = []\n",
    "\n",
    "    for train_index, test_index in k.split(data):\n",
    "\n",
    "        data_train, data_test = data.iloc[train_index, :], data.iloc[test_index, :]\n",
    "\n",
    "        model = smf.ols(formula, data=data_train).fit()\n",
    "\n",
    "        rmse_train.append(rmse(data_train[y], model.predict(data_train)))\n",
    "        rmse_test.append(rmse(data_test[y], model.predict(data_test)))\n",
    "\n",
    "    if average_rmse:\n",
    "        rmse_train = np.mean(rmse_train)\n",
    "        rmse_test = np.mean(rmse_test)\n",
    "\n",
    "    return {\n",
    "        \"RMSE\": rmse_alldata,\n",
    "        \"R-squared\": rsquared,\n",
    "        \"BIC\": bic,\n",
    "        \"Coefficients\": n_coefficients,\n",
    "        \"Training RMSE\": rmse_train,\n",
    "        \"Test RMSE\": rmse_test,\n",
    "    }"
   ]
  },
  {
   "cell_type": "markdown",
   "metadata": {},
   "source": [
    "Set n_fold = 4 for 4-fold cross-validation"
   ]
  },
  {
   "cell_type": "code",
   "execution_count": null,
   "metadata": {},
   "outputs": [],
   "source": [
    "n_fold = 4"
   ]
  },
  {
   "cell_type": "markdown",
   "metadata": {},
   "source": [
    "Cross-validate models"
   ]
  },
  {
   "cell_type": "code",
   "execution_count": null,
   "metadata": {},
   "outputs": [],
   "source": [
    "cv_list = []\n",
    "for equation in model_equations:\n",
    "    cv_list.append(ols_crossvalidator(equation, data, n_fold, average_rmse=False))"
   ]
  },
  {
   "cell_type": "markdown",
   "metadata": {},
   "source": [
    "Display RMSE for each model spec. - cv fold, and average cross validated RMSE"
   ]
  },
  {
   "cell_type": "code",
   "execution_count": null,
   "metadata": {
    "scrolled": false
   },
   "outputs": [],
   "source": [
    "rmse_test_folds = pd.DataFrame(\n",
    "    [cv[\"Test RMSE\"] for cv in cv_list],\n",
    "    index=[\"Model \" + str(i + 1) for i in range(len(cv_list))],\n",
    "    columns=[\"Fold\" + str(i + 1) for i in range(len(cv_list[0][\"Test RMSE\"]))],\n",
    ").assign(Average=lambda x: x.mean(axis=1)).T.round().astype(int)\n",
    "rmse_test_folds"
   ]
  },
  {
   "cell_type": "markdown",
   "metadata": {},
   "source": [
    " #### Show model complexity with in-sample and out-of-sample RMSE performance"
   ]
  },
  {
   "cell_type": "code",
   "execution_count": null,
   "metadata": {},
   "outputs": [],
   "source": [
    "complexity_plotdata = (\n",
    "    regression_statistics.filter([\"No. Variables\", \"RMSE\"])\n",
    "    .merge(\n",
    "        rmse_test_folds.T.filter([\"Average\"]).reset_index(drop=True),\n",
    "        left_index=True,\n",
    "        right_index=True,\n",
    "    )\n",
    "    .rename(columns={\"RMSE\": \"in-sample RMSE\", \"Average\": \"out-of-sample RMSE\"})\n",
    "    .melt(id_vars=[\"No. Variables\"])\n",
    ")"
   ]
  },
  {
   "cell_type": "code",
   "execution_count": null,
   "metadata": {},
   "outputs": [],
   "source": [
    "(\n",
    "    ggplot(\n",
    "        complexity_plotdata,\n",
    "        aes(x=\"No. Variables\", y=\"value\", color=\"variable\", fill=\"variable\"),\n",
    "    )\n",
    "    + geom_point(size=2)\n",
    "    + geom_line(size=0.5)\n",
    "    + scale_y_continuous(limits=(1200,1800))\n",
    "    + scale_color_manual(name=\" \", values=(\"blue\", \"red\"))\n",
    "    + scale_fill_manual(name=\" \", values=(\"blue\", \"red\"))\n",
    "    + labs(\n",
    "        x=\"Number of explanatory variables\",\n",
    "        y=\"Averaged RMSE\",\n",
    "        title=\"Prediction performance and model compexity\",\n",
    "    )\n",
    "    + theme_bw()\n",
    ")"
   ]
  },
  {
   "cell_type": "markdown",
   "metadata": {},
   "source": [
    "### Prediction"
   ]
  },
  {
   "cell_type": "markdown",
   "metadata": {},
   "source": [
    "   Compare model1 and model3 to predict our car"
   ]
  },
  {
   "cell_type": "markdown",
   "metadata": {},
   "source": [
    " Use only the predictor variables and outcome"
   ]
  },
  {
   "cell_type": "code",
   "execution_count": null,
   "metadata": {},
   "outputs": [],
   "source": [
    "data = data.loc[\n",
    "    :,\n",
    "    [\n",
    "        \"age\",\n",
    "        \"agesq\",\n",
    "        \"odometer\",\n",
    "        \"odometersq\",\n",
    "        \"SE\",\n",
    "        \"LE\",\n",
    "        \"XLE\",\n",
    "        \"cond_likenew\",\n",
    "        \"cond_excellent\",\n",
    "        \"cond_good\",\n",
    "        \"dealer\",\n",
    "        \"price\",\n",
    "        \"cylind6\",\n",
    "    ],\n",
    "]\n"
   ]
  },
  {
   "cell_type": "code",
   "execution_count": null,
   "metadata": {},
   "outputs": [],
   "source": [
    "data.dtypes\n"
   ]
  },
  {
   "cell_type": "markdown",
   "metadata": {},
   "source": [
    " Add new observation that we would like to predict"
   ]
  },
  {
   "cell_type": "code",
   "execution_count": null,
   "metadata": {
    "scrolled": true
   },
   "outputs": [],
   "source": [
    "new = pd.DataFrame(\n",
    "    pd.Series(\n",
    "        {\n",
    "            \"age\": 10,\n",
    "            \"agesq\": 10**2,\n",
    "            \"odometer\": 12,\n",
    "            \"odometersq\": 12**2,\n",
    "            \"SE\": 0,\n",
    "            \"LE\": 1,\n",
    "            \"XLE\": 0,\n",
    "            \"cond_likenew\": 0,\n",
    "            \"cond_excellent\": 1,\n",
    "            \"cond_good\": 0,\n",
    "            \"dealer\": 0,\n",
    "            \"price\": np.nan,\n",
    "            \"cylind6\": 0,\n",
    "        }\n",
    "    )\n",
    ").T\n",
    "new\n"
   ]
  },
  {
   "cell_type": "code",
   "execution_count": null,
   "metadata": {},
   "outputs": [],
   "source": [
    "reg1  = regression_fits[0]\n",
    "reg3  = regression_fits[2]"
   ]
  },
  {
   "cell_type": "code",
   "execution_count": null,
   "metadata": {},
   "outputs": [],
   "source": [
    "reg1.resid.describe()\n"
   ]
  },
  {
   "cell_type": "markdown",
   "metadata": {},
   "source": [
    " Predict price with only 2 predictors (Model1)"
   ]
  },
  {
   "cell_type": "code",
   "execution_count": null,
   "metadata": {},
   "outputs": [],
   "source": [
    "p1 = reg1.get_prediction(new).summary_frame()\n",
    "p1\n"
   ]
  },
  {
   "cell_type": "markdown",
   "metadata": {},
   "source": [
    "Predict price with all predictors (Model3)"
   ]
  },
  {
   "cell_type": "code",
   "execution_count": null,
   "metadata": {},
   "outputs": [],
   "source": [
    "p3 = reg3.get_prediction(new).summary_frame()\n",
    "p3\n"
   ]
  },
  {
   "cell_type": "markdown",
   "metadata": {},
   "source": [
    "summary of predictions and PI 80% version"
   ]
  },
  {
   "cell_type": "code",
   "execution_count": null,
   "metadata": {},
   "outputs": [],
   "source": [
    "p1_80 = reg1.get_prediction(new).summary_frame(alpha=0.2)\n",
    "p3_80 = reg3.get_prediction(new).summary_frame(alpha=0.2)"
   ]
  },
  {
   "cell_type": "markdown",
   "metadata": {},
   "source": [
    " Result summary"
   ]
  },
  {
   "cell_type": "code",
   "execution_count": null,
   "metadata": {},
   "outputs": [],
   "source": [
    "pred_summary_level = pd.DataFrame(\n",
    "    {\n",
    "        \" \": [\n",
    "            \"Predicted\",\n",
    "            \"PI_low(95%)\",\n",
    "            \"PI_high(95%)\",\n",
    "            \"PI_low(80%)\",\n",
    "            \"PI_high(80%)\",\n",
    "        ],\n",
    "        \"Model1\": p1[[\"mean\", \"obs_ci_lower\", \"obs_ci_upper\"]].values.tolist()[0]\n",
    "        + p1_80[[\"obs_ci_lower\", \"obs_ci_upper\"]].values.tolist()[0],\n",
    "        \"Model3\": p3[[\"mean\", \"obs_ci_lower\", \"obs_ci_upper\"]].values.tolist()[0]\n",
    "        + p3_80[[\"obs_ci_lower\", \"obs_ci_upper\"]].values.tolist()[0],\n",
    "    }\n",
    ").set_index(\" \")\n",
    "pred_summary_level"
   ]
  },
  {
   "cell_type": "markdown",
   "metadata": {},
   "source": [
    "## Log transformation"
   ]
  },
  {
   "cell_type": "markdown",
   "metadata": {},
   "source": [
    "Reminder: lnprice"
   ]
  },
  {
   "cell_type": "code",
   "execution_count": null,
   "metadata": {},
   "outputs": [],
   "source": [
    "data[\"lnprice\"] = np.log(data[\"price\"])"
   ]
  },
  {
   "cell_type": "code",
   "execution_count": null,
   "metadata": {},
   "outputs": [],
   "source": [
    "(\n",
    "    ggplot(data, aes(x=\"age\", y=\"lnprice\"))\n",
    "    + geom_point(color=\"blue\", size=1, alpha=0.8, show_legend=False, na_rm=True)\n",
    "    + geom_smooth(method=\"loess\", color=\"red\", se=False, size=0.8, na_rm=True)\n",
    "    + scale_x_continuous(expand=(0.01, 0.01), limits=(0, 30), breaks=np.arange(0, 31, 5))\n",
    "    + scale_y_continuous(expand=(0.01, 0.01), limits=(6, 10), breaks=np.arange(6, 11, 1))\n",
    "    + labs(x=\"Age (years)\", y=\"ln(price, US dollars)\")\n",
    "    + theme_bw()\n",
    ")"
   ]
  },
  {
   "cell_type": "markdown",
   "metadata": {},
   "source": [
    "### Linear regressions with logs"
   ]
  },
  {
   "cell_type": "code",
   "execution_count": null,
   "metadata": {},
   "outputs": [],
   "source": [
    "model1 = \"lnprice ~ age + agesq\"\n",
    "model2 = \"lnprice ~ age + agesq + odometer\"\n",
    "model3 = \"lnprice ~ age + agesq + odometer + odometersq + LE + cond_excellent + cond_good + dealer\"\n",
    "model4 = \"lnprice ~ age + agesq + odometer + odometersq + LE + XLE + SE + cond_likenew + cond_excellent + cond_good + cylind6 + dealer\"\n",
    "model5 = \"lnprice ~ age + agesq + odometer + odometersq + LE * age + XLE * age + SE * age + cond_likenew * age + cond_excellent * age + cond_good * age + cylind6 * age + odometer * age + dealer * age\"\n",
    "\n",
    "ln_model_equations = [model1, model2, model3, model4, model5]"
   ]
  },
  {
   "cell_type": "code",
   "execution_count": null,
   "metadata": {},
   "outputs": [],
   "source": [
    "regression_fits = []\n",
    "for equation in ln_model_equations:\n",
    "    regression_fits.append(smf.ols(equation, data).fit(cov_type=\"HC1\"))\n",
    "\n",
    "regression_statistics = pd.DataFrame(\n",
    "    [extract_regression_statistics(reg) for reg in regression_fits]\n",
    ").round(2)"
   ]
  },
  {
   "cell_type": "markdown",
   "metadata": {},
   "source": [
    "Create table with statistics (AIC, BIC, RMSE) in custom line"
   ]
  },
  {
   "cell_type": "code",
   "execution_count": null,
   "metadata": {},
   "outputs": [],
   "source": [
    "table = stargazer.Stargazer(regression_fits)\n",
    "for i in range(4):\n",
    "    table.add_line(\n",
    "        regression_statistics.columns[i], regression_statistics.iloc[:, i].tolist()\n",
    "    )\n",
    "table"
   ]
  },
  {
   "cell_type": "markdown",
   "metadata": {},
   "source": [
    "### Cross-validation for log models"
   ]
  },
  {
   "cell_type": "code",
   "execution_count": null,
   "metadata": {},
   "outputs": [],
   "source": [
    "cv_list = []\n",
    "for equation in ln_model_equations:\n",
    "    cv_list.append(ols_crossvalidator(equation, data, n_fold, average_rmse=False))"
   ]
  },
  {
   "cell_type": "code",
   "execution_count": null,
   "metadata": {},
   "outputs": [],
   "source": [
    "rmse_test_folds = pd.DataFrame(\n",
    "    [cv[\"Test RMSE\"] for cv in cv_list],\n",
    "    index=[\"Model \" + str(i + 1) for i in range(len(cv_list))],\n",
    "    columns=[\"Fold\" + str(i + 1) for i in range(len(cv_list[0][\"Test RMSE\"]))],\n",
    ").assign(Average=lambda x: x.mean(axis=1)).T.round(2)\n",
    "rmse_test_folds"
   ]
  },
  {
   "cell_type": "markdown",
   "metadata": {},
   "source": [
    "### Prediction with log models"
   ]
  },
  {
   "cell_type": "markdown",
   "metadata": {},
   "source": [
    "We do this now only for Model 3"
   ]
  },
  {
   "cell_type": "code",
   "execution_count": null,
   "metadata": {},
   "outputs": [],
   "source": [
    "reg3 = regression_fits[2]"
   ]
  },
  {
   "cell_type": "code",
   "execution_count": null,
   "metadata": {},
   "outputs": [],
   "source": [
    "predln_new = reg3.get_prediction(new).summary_frame()\n",
    "predln_new"
   ]
  },
  {
   "cell_type": "code",
   "execution_count": null,
   "metadata": {},
   "outputs": [],
   "source": [
    "predln_new80 = reg3.get_prediction(new).summary_frame(alpha=0.2)\n",
    "predln_new80"
   ]
  },
  {
   "cell_type": "markdown",
   "metadata": {},
   "source": [
    "RMSE for reg3"
   ]
  },
  {
   "cell_type": "code",
   "execution_count": null,
   "metadata": {},
   "outputs": [],
   "source": [
    "rmse3 = rmse(reg3.fittedvalues, data.lnprice)\n",
    "rmse3"
   ]
  },
  {
   "cell_type": "markdown",
   "metadata": {},
   "source": [
    "Get new prediction "
   ]
  },
  {
   "cell_type": "code",
   "execution_count": null,
   "metadata": {},
   "outputs": [],
   "source": [
    "lnp2_new = predln_new[\"mean\"][0]\n",
    "lnp2_new"
   ]
  },
  {
   "cell_type": "markdown",
   "metadata": {},
   "source": [
    "Convert log prediction to level prediction"
   ]
  },
  {
   "cell_type": "code",
   "execution_count": null,
   "metadata": {},
   "outputs": [],
   "source": [
    "data[\"lnplev\"] = np.exp(reg3.fittedvalues) * np.exp(rmse3**2 / 2)\n",
    "lnp2_new_lev = np.exp(lnp2_new) * np.exp(rmse3**2 / 2)\n",
    "lnp2_new_lev"
   ]
  },
  {
   "cell_type": "markdown",
   "metadata": {},
   "source": [
    "Prediction interval (log and level)"
   ]
  },
  {
   "cell_type": "code",
   "execution_count": null,
   "metadata": {},
   "outputs": [],
   "source": [
    "lnp2_PIlow = predln_new[\"obs_ci_lower\"][0]\n",
    "lnp2_PIhigh = predln_new[\"obs_ci_upper\"][0]\n",
    "lnplev_PIlow = np.exp(lnp2_PIlow) * np.exp(rmse3**2 / 2)\n",
    "lnplev_PIhigh = np.exp(lnp2_PIhigh) * np.exp(rmse3**2 / 2)"
   ]
  },
  {
   "cell_type": "markdown",
   "metadata": {},
   "source": [
    "Prediction interval (log and level) - 80%\n"
   ]
  },
  {
   "cell_type": "code",
   "execution_count": null,
   "metadata": {},
   "outputs": [],
   "source": [
    "lnp2_PIlow80 = predln_new80[\"obs_ci_lower\"][0]\n",
    "lnp2_PIhigh80 = predln_new80[\"obs_ci_upper\"][0]\n",
    "lnplev_PIlow80 = np.exp(lnp2_PIlow80) * np.exp(rmse3**2 / 2)\n",
    "lnplev_PIhigh80 = np.exp(lnp2_PIhigh80) * np.exp(rmse3**2 / 2)\n"
   ]
  },
  {
   "cell_type": "code",
   "execution_count": null,
   "metadata": {},
   "outputs": [],
   "source": [
    "pred_summary_log = pd.DataFrame(\n",
    "    {\n",
    "        \" \": [\n",
    "            \"Predicted\",\n",
    "            \"PI_low(95%)\",\n",
    "            \"PI_high(95%)\",\n",
    "            \"PI_low(80%)\",\n",
    "            \"PI_high(80%)\",\n",
    "        ],\n",
    "        \"Model3 prediction in logs\": [\n",
    "            lnp2_new,\n",
    "            lnp2_PIlow,\n",
    "            lnp2_PIhigh,\n",
    "            lnp2_PIlow80,\n",
    "            lnp2_PIhigh80,\n",
    "        ],\n",
    "        \"Recalculated to level\": [\n",
    "            lnp2_new_lev,\n",
    "            lnplev_PIlow,\n",
    "            lnplev_PIhigh,\n",
    "            lnplev_PIlow80,\n",
    "            lnplev_PIhigh80,\n",
    "        ],\n",
    "    }\n",
    ")"
   ]
  },
  {
   "cell_type": "code",
   "execution_count": null,
   "metadata": {},
   "outputs": [],
   "source": [
    "pred_summary_log[\"Original level prediction\"] = pred_summary_level[\"Model3\"].values"
   ]
  },
  {
   "cell_type": "code",
   "execution_count": null,
   "metadata": {},
   "outputs": [],
   "source": [
    "pred_summary_log"
   ]
  },
  {
   "cell_type": "code",
   "execution_count": null,
   "metadata": {},
   "outputs": [],
   "source": []
  }
 ],
 "metadata": {
  "kernelspec": {
   "display_name": "Python 3 (ipykernel)",
   "language": "python",
   "name": "python3"
  },
  "language_info": {
   "codemirror_mode": {
    "name": "ipython",
    "version": 3
   },
   "file_extension": ".py",
   "mimetype": "text/x-python",
   "name": "python",
   "nbconvert_exporter": "python",
   "pygments_lexer": "ipython3",
   "version": "3.8.10"
  },
  "vscode": {
   "interpreter": {
    "hash": "c01754e8627d0ea60fdf9a984fbf743943cf4db47884120dd04bfc512143b077"
   }
  }
 },
 "nbformat": 4,
 "nbformat_minor": 4
}
