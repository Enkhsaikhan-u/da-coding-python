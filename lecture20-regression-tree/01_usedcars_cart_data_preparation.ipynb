{
 "cells": [
  {
   "cell_type": "markdown",
   "id": "a4b11ce4",
   "metadata": {},
   "source": [
    "## Prediction with CART – data preparation\n",
    "Case studies:                     \n",
    "  - CH15A Predicting used car value with regression trees \n",
    "                                   \n",
    "Dataset:\n",
    "\n",
    "    used-cars"
   ]
  },
  {
   "cell_type": "code",
   "execution_count": null,
   "id": "ad62ffe3",
   "metadata": {},
   "outputs": [],
   "source": [
    "import os\n",
    "import warnings\n",
    "\n",
    "import numpy as np\n",
    "import pandas as pd\n",
    "from skimpy import skim\n",
    "\n",
    "warnings.filterwarnings(\"ignore\")"
   ]
  },
  {
   "cell_type": "markdown",
   "id": "70553db2",
   "metadata": {},
   "source": [
    "Import data"
   ]
  },
  {
   "cell_type": "code",
   "execution_count": null,
   "id": "49876c5d",
   "metadata": {},
   "outputs": [],
   "source": [
    "data = pd.read_csv(\"https://osf.io/7gvz9/download\")"
   ]
  },
  {
   "cell_type": "code",
   "execution_count": null,
   "id": "f2e86a5e",
   "metadata": {},
   "outputs": [],
   "source": [
    "data.head()"
   ]
  },
  {
   "cell_type": "code",
   "execution_count": null,
   "id": "17265243",
   "metadata": {},
   "outputs": [],
   "source": [
    "data.shape"
   ]
  },
  {
   "cell_type": "markdown",
   "id": "566e72ba",
   "metadata": {},
   "source": [
    "### Sample design\n",
    "\n",
    "Manage missing"
   ]
  },
  {
   "cell_type": "code",
   "execution_count": null,
   "id": "30133e81",
   "metadata": {},
   "outputs": [],
   "source": [
    "data[\"fuel\"] = data[\"fuel\"].fillna(\"Missing\")\n",
    "data[\"drive\"] = data[\"drive\"].fillna(\"Missing\")\n",
    "data[\"cylinders\"] = data[\"cylinders\"].fillna(\"Missing\")\n",
    "data[\"transmission\"] = data[\"transmission\"].fillna(\"Missing\")\n",
    "data[\"type\"] = data[\"type\"].fillna(\"Missing\")"
   ]
  },
  {
   "cell_type": "markdown",
   "id": "0b2e2f57",
   "metadata": {},
   "source": [
    "Missing changed to good not missing for condition"
   ]
  },
  {
   "cell_type": "code",
   "execution_count": null,
   "id": "6e5493d0",
   "metadata": {},
   "outputs": [],
   "source": [
    "data[\"condition\"].value_counts()\n"
   ]
  },
  {
   "cell_type": "code",
   "execution_count": null,
   "id": "7d82b952",
   "metadata": {},
   "outputs": [],
   "source": [
    "data[\"condition\"] = data[\"condition\"].fillna(\"good\")\n"
   ]
  },
  {
   "cell_type": "code",
   "execution_count": null,
   "id": "60ccd5cb",
   "metadata": {},
   "outputs": [],
   "source": [
    "data[\"condition\"].value_counts()\n"
   ]
  },
  {
   "cell_type": "markdown",
   "id": "afeff1e3",
   "metadata": {},
   "source": [
    "Drop hybrid models then drop column"
   ]
  },
  {
   "cell_type": "code",
   "execution_count": null,
   "id": "58ed2114",
   "metadata": {},
   "outputs": [],
   "source": [
    "data = data.loc[lambda x: x[\"Hybrid\"] == 0].drop(\"Hybrid\", axis=1)"
   ]
  },
  {
   "cell_type": "markdown",
   "id": "70351995",
   "metadata": {},
   "source": [
    "Keep gas-fuelled vehicles"
   ]
  },
  {
   "cell_type": "code",
   "execution_count": null,
   "id": "fe6377ef",
   "metadata": {},
   "outputs": [],
   "source": [
    "data = data.loc[lambda x: x[\"fuel\"] == \"gas\"]"
   ]
  },
  {
   "cell_type": "markdown",
   "id": "2ce16b09",
   "metadata": {},
   "source": [
    "Drop vehicles in fair and new condition, trucks"
   ]
  },
  {
   "cell_type": "code",
   "execution_count": null,
   "id": "4fb0d2e9",
   "metadata": {},
   "outputs": [],
   "source": [
    "data = data.loc[lambda x: ~x[\"condition\"].isin([\"new\",\"fair\"])]"
   ]
  },
  {
   "cell_type": "markdown",
   "id": "f2765ba3",
   "metadata": {},
   "source": [
    "Drop unrealistic values for price and odometer reading\n"
   ]
  },
  {
   "cell_type": "code",
   "execution_count": null,
   "id": "3559a496",
   "metadata": {},
   "outputs": [],
   "source": [
    "data = data.loc[lambda x: (x[\"price\"].isin(range(500, 25001))) & (x[\"odometer\"] <= 100)]"
   ]
  },
  {
   "cell_type": "markdown",
   "id": "998ea36b",
   "metadata": {},
   "source": [
    "Drop if price is smaller than 1000 and condition is like new or age is less than 8\n"
   ]
  },
  {
   "cell_type": "code",
   "execution_count": null,
   "id": "f7ee1105",
   "metadata": {},
   "outputs": [],
   "source": [
    "data = data.loc[\n",
    "    lambda x: ~((x[\"price\"] < 1000) & ((x[\"condition\"] == \"like new\") | (x[\"age\"] < 8)))\n",
    "]"
   ]
  },
  {
   "cell_type": "code",
   "execution_count": null,
   "id": "0703f361",
   "metadata": {},
   "outputs": [],
   "source": [
    "data = data.loc[lambda x: x[\"transmission\"] != \"manual\"]"
   ]
  },
  {
   "cell_type": "markdown",
   "id": "485cfca8",
   "metadata": {},
   "source": [
    "Drop if truck"
   ]
  },
  {
   "cell_type": "code",
   "execution_count": null,
   "id": "7ca71bc0",
   "metadata": {},
   "outputs": [],
   "source": [
    "data = data.loc[lambda x: ~x[\"type\"].isin([\"truck\", \"pickup\"])]"
   ]
  },
  {
   "cell_type": "markdown",
   "id": "910ce557",
   "metadata": {},
   "source": [
    "Drop price string"
   ]
  },
  {
   "cell_type": "code",
   "execution_count": null,
   "id": "2f0fa7b6",
   "metadata": {},
   "outputs": [],
   "source": [
    "data = data.drop(\"pricestr\",axis=1)"
   ]
  },
  {
   "cell_type": "markdown",
   "id": "dabd73c5",
   "metadata": {},
   "source": [
    "To be on the safe side, drop NA prices"
   ]
  },
  {
   "cell_type": "code",
   "execution_count": null,
   "id": "e1fe2c0f",
   "metadata": {},
   "outputs": [],
   "source": [
    "data = data.loc[lambda x: x[\"price\"].notna()]"
   ]
  },
  {
   "cell_type": "markdown",
   "id": "4703b309",
   "metadata": {},
   "source": [
    "### Data generation & descriptives\n",
    "\n",
    "Variables we are interested in:\n",
    "   \n",
    "       price age odometer + condition cylinder dealer city LE"
   ]
  },
  {
   "cell_type": "markdown",
   "id": "85834185",
   "metadata": {},
   "source": [
    "Condition"
   ]
  },
  {
   "cell_type": "code",
   "execution_count": null,
   "id": "f6c5c271",
   "metadata": {},
   "outputs": [],
   "source": [
    "data[\"cond_excellent\"] = np.where(data[\"condition\"] == \"excellent\", 1, 0)\n",
    "data[\"cond_good\"] = np.where(data[\"condition\"] == \"good\", 1, 0)\n",
    "data[\"cond_likenew\"] = np.where(data[\"condition\"] == \"like new\", 1, 0)"
   ]
  },
  {
   "cell_type": "markdown",
   "id": "4313885e",
   "metadata": {},
   "source": [
    "Cylinders"
   ]
  },
  {
   "cell_type": "code",
   "execution_count": null,
   "id": "23c4fb24",
   "metadata": {},
   "outputs": [],
   "source": [
    "data.cylinders.value_counts()"
   ]
  },
  {
   "cell_type": "code",
   "execution_count": null,
   "id": "b54f0843",
   "metadata": {},
   "outputs": [],
   "source": [
    "data[\"cylind6\"] = np.where(data[\"cylinders\"] == \"6 cylinders\", 1, 0)\n",
    "data.cylind6.value_counts()"
   ]
  },
  {
   "cell_type": "markdown",
   "id": "3b5a0120",
   "metadata": {},
   "source": [
    "Chicago\n"
   ]
  },
  {
   "cell_type": "code",
   "execution_count": null,
   "id": "a1d17f79",
   "metadata": {},
   "outputs": [],
   "source": [
    "data[\"chicago\"] = np.where(data[\"area\"] == \"chicago\", 1, 0)"
   ]
  },
  {
   "cell_type": "markdown",
   "id": "cf1961a7",
   "metadata": {},
   "source": [
    "age: quadratic, cubic"
   ]
  },
  {
   "cell_type": "code",
   "execution_count": null,
   "id": "668ab112",
   "metadata": {},
   "outputs": [],
   "source": [
    "data[\"agesq\"] = data[\"age\"] ** 2\n",
    "data[\"agecu\"] = data[\"age\"] ** 3"
   ]
  },
  {
   "cell_type": "markdown",
   "id": "c8b04c5f",
   "metadata": {},
   "source": [
    "odometer quadratic"
   ]
  },
  {
   "cell_type": "code",
   "execution_count": null,
   "id": "a9e3cb6f",
   "metadata": {},
   "outputs": [],
   "source": [
    "data[\"odometersq\"] = data[\"odometer\"] ** 3"
   ]
  },
  {
   "cell_type": "markdown",
   "id": "a96e8b72",
   "metadata": {},
   "source": [
    "Take a look at descrpitives"
   ]
  },
  {
   "cell_type": "code",
   "execution_count": null,
   "id": "6aaa3ec6",
   "metadata": {},
   "outputs": [],
   "source": [
    "skim(data)"
   ]
  },
  {
   "cell_type": "code",
   "execution_count": null,
   "id": "f175d53b",
   "metadata": {},
   "outputs": [],
   "source": [
    "data[\"price\"].describe()"
   ]
  },
  {
   "cell_type": "code",
   "execution_count": null,
   "id": "2ec30e19",
   "metadata": {},
   "outputs": [],
   "source": [
    "data[\"price\"].hist()"
   ]
  },
  {
   "cell_type": "code",
   "execution_count": null,
   "id": "9e6af8f1",
   "metadata": {},
   "outputs": [],
   "source": [
    "data[\"price\"].apply(np.log).hist()"
   ]
  },
  {
   "cell_type": "markdown",
   "id": "9cd3970b",
   "metadata": {},
   "source": [
    "Save data for prediction"
   ]
  },
  {
   "cell_type": "code",
   "execution_count": null,
   "id": "ac698017",
   "metadata": {},
   "outputs": [],
   "source": [
    "os.makedirs(\"data\", exist_ok=True)\n",
    "data.to_csv(\"data/usedcars_cart_work.csv\", index=False)"
   ]
  },
  {
   "cell_type": "code",
   "execution_count": null,
   "id": "625c585b",
   "metadata": {},
   "outputs": [],
   "source": []
  }
 ],
 "metadata": {
  "kernelspec": {
   "display_name": "Python 3 (ipykernel)",
   "language": "python",
   "name": "python3"
  },
  "language_info": {
   "codemirror_mode": {
    "name": "ipython",
    "version": 3
   },
   "file_extension": ".py",
   "mimetype": "text/x-python",
   "name": "python",
   "nbconvert_exporter": "python",
   "pygments_lexer": "ipython3",
   "version": "3.8.10"
  }
 },
 "nbformat": 4,
 "nbformat_minor": 5
}
