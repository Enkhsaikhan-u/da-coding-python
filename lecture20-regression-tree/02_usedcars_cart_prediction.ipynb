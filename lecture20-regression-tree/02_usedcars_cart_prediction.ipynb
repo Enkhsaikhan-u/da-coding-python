{
 "cells": [
  {
   "cell_type": "markdown",
   "metadata": {},
   "source": [
    "## Prediction with CART\n",
    "                                   \n",
    "Topics covered:                   \n",
    "   - Regression trees              \n",
    "       - sample splitting          \n",
    "       - visualize simple tree     \n",
    "       - depth, no leaves, etc     \n",
    "       - pruning                   \n",
    "       - diagnostics via variable importance plots \n",
    "   - Prediction evaluation         \n",
    "     - which model gives best prediction on hold-out \n",
    "     - comparing to lin. reg       \n",
    "                                   \n",
    "Case studies:                     \n",
    "  - CH15A Predicting used car value with regression trees \n",
    "                                   \n",
    "Dataset:\n",
    "\n",
    "    used-cars"
   ]
  },
  {
   "cell_type": "code",
   "execution_count": null,
   "metadata": {},
   "outputs": [],
   "source": [
    "import os\n",
    "import random\n",
    "import sys\n",
    "import warnings\n",
    "from collections import Counter\n",
    "from io import StringIO\n",
    "\n",
    "import numpy as np\n",
    "import pandas as pd\n",
    "import pydotplus\n",
    "import sklearn\n",
    "import statsmodels.api as sm\n",
    "import statsmodels.formula.api as smf\n",
    "from IPython.display import Image, display\n",
    "from mizani.formatters import percent_format\n",
    "from patsy import dmatrices\n",
    "from plotnine import *\n",
    "from skimpy import skim\n",
    "from sklearn import tree\n",
    "from sklearn.inspection import permutation_importance\n",
    "from sklearn.metrics import mean_squared_error, r2_score\n",
    "from sklearn.model_selection import train_test_split\n",
    "from sklearn.tree import DecisionTreeClassifier, DecisionTreeRegressor, export_graphviz\n",
    "from stargazer import stargazer\n",
    "from statsmodels.tools.eval_measures import mse, rmse\n",
    "\n",
    "warnings.filterwarnings(\"ignore\")"
   ]
  },
  {
   "cell_type": "markdown",
   "metadata": {},
   "source": [
    "### Import work data"
   ]
  },
  {
   "cell_type": "code",
   "execution_count": null,
   "metadata": {},
   "outputs": [],
   "source": [
    "data = pd.read_csv(\"data/usedcars_cart_work.csv\")"
   ]
  },
  {
   "cell_type": "markdown",
   "metadata": {},
   "source": [
    "### Train-test split"
   ]
  },
  {
   "cell_type": "code",
   "execution_count": null,
   "metadata": {},
   "outputs": [],
   "source": [
    "data_train, data_test = train_test_split(data, test_size=0.3, random_state=2314)"
   ]
  },
  {
   "cell_type": "markdown",
   "metadata": {},
   "source": [
    "### Regression tree\n",
    "---\n",
    "\n",
    "#### 1. Simplest case\n",
    "  age is the only predictor and we allow only one split, make sure it's a single split by setting 'max_depth' to 1"
   ]
  },
  {
   "cell_type": "code",
   "execution_count": null,
   "metadata": {},
   "outputs": [],
   "source": [
    "skim(data[[\"price\",\"age\"]])"
   ]
  },
  {
   "cell_type": "code",
   "execution_count": null,
   "metadata": {},
   "outputs": [],
   "source": [
    "cart1 = DecisionTreeRegressor(random_state=20108, max_depth=1)\n",
    "\n",
    "# Note X should be a matrix instead of series, that's why we need double []\n",
    "X = data_train[[\"age\"]]\n",
    "Y = data_train[\"price\"]\n",
    "cart1.fit(X, Y)\n"
   ]
  },
  {
   "cell_type": "code",
   "execution_count": null,
   "metadata": {},
   "outputs": [],
   "source": [
    "def jupyter_graphviz(m: sklearn.tree.DecisionTreeRegressor, **kwargs):\n",
    "    \"\"\"\n",
    "    Function to display sklearn decision trees.\n",
    "    \"\"\"\n",
    "        \n",
    "    dot_data = StringIO()\n",
    "    export_graphviz(m, dot_data, **kwargs)\n",
    "    graph = pydotplus.graph_from_dot_data(dot_data.getvalue())\n",
    "    display(Image(graph.create_png()))"
   ]
  },
  {
   "cell_type": "markdown",
   "metadata": {},
   "source": [
    "Display split"
   ]
  },
  {
   "cell_type": "code",
   "execution_count": null,
   "metadata": {},
   "outputs": [],
   "source": [
    "jupyter_graphviz(\n",
    "    cart1, filled=True, rounded=True, special_characters=True, feature_names=[\"age\"]\n",
    ")"
   ]
  },
  {
   "cell_type": "markdown",
   "metadata": {},
   "source": [
    "Test RMSE"
   ]
  },
  {
   "cell_type": "code",
   "execution_count": null,
   "metadata": {},
   "outputs": [],
   "source": [
    "rmse_cart1 = rmse(data_test[\"price\"], cart1.predict(data_test[[\"age\"]]))\n",
    "rmse_cart1"
   ]
  },
  {
   "cell_type": "markdown",
   "metadata": {},
   "source": [
    "Visualise scatterplot with step function"
   ]
  },
  {
   "cell_type": "code",
   "execution_count": null,
   "metadata": {},
   "outputs": [],
   "source": [
    "plot_helper = np.arange(min(data_train[\"age\"]), max(data_train[\"age\"]))\n",
    "\n",
    "plot_helper_df = pd.DataFrame({\"age\": plot_helper})\n",
    "plot_helper_df[\"xend\"] = pd.Series(plot_helper) + 1\n",
    "plot_helper_df[\"yend\"] = cart1.predict(plot_helper_df[[\"age\"]])\n",
    "pred_cart1t = cart1.predict(data_train[[\"age\"]])\n"
   ]
  },
  {
   "cell_type": "code",
   "execution_count": null,
   "metadata": {},
   "outputs": [],
   "source": [
    "(\n",
    "    ggplot(data_train, aes(x=\"age\", y=\"price\"))\n",
    "    + geom_point()\n",
    "    + geom_segment(\n",
    "        plot_helper_df,\n",
    "        aes(x=\"age\", y=\"yend\", xend=\"xend\", yend=\"yend\"),\n",
    "        color=\"blue\",\n",
    "        size=1,\n",
    "        na_rm=True,\n",
    "    )\n",
    "    + scale_y_continuous(\n",
    "        expand=(0.01, 0.01), limits=(0, 20000), breaks=np.arange(0, 20001, 2500)\n",
    "    )\n",
    "    + scale_x_continuous(\n",
    "        expand=(0.01, 0.01), limits=(0, 25), breaks=np.arange(0, 26, 5)\n",
    "    )\n",
    "    + labs(x=\"Age (years)\", y=\"Price (US dollars)\")\n",
    "    + theme_bw()\n",
    ")"
   ]
  },
  {
   "cell_type": "markdown",
   "metadata": {},
   "source": [
    "Splits at two levels\n",
    "    \n",
    "(make sure it stops by setting \"max_depth\" to 2)\n"
   ]
  },
  {
   "cell_type": "code",
   "execution_count": null,
   "metadata": {},
   "outputs": [],
   "source": [
    "cart2 = DecisionTreeRegressor(random_state=2018, max_depth=2)\n",
    "# Note X should be a matrix instead of series, that's why we need double []\n",
    "X = data_train[[\"age\"]]\n",
    "Y = data_train[\"price\"]\n",
    "cart2.fit(X, Y)\n"
   ]
  },
  {
   "cell_type": "code",
   "execution_count": null,
   "metadata": {},
   "outputs": [],
   "source": [
    "jupyter_graphviz(\n",
    "    cart2, filled=True, rounded=True, special_characters=True, feature_names=[\"age\"]\n",
    ")\n"
   ]
  },
  {
   "cell_type": "code",
   "execution_count": null,
   "metadata": {},
   "outputs": [],
   "source": [
    "data_train[\"cart2_prediction\"] = cart2.predict(X)\n",
    "\n",
    "(\n",
    "    data_train.groupby(\"cart2_prediction\")\n",
    "    .agg(min_age=(\"age\", \"min\"), max_age=(\"age\", \"max\"), n_obs=(\"age\", \"count\"))\n",
    "    .reset_index()\n",
    "    .round(1)\n",
    "    .rename(columns={\"cart2_prediction\": \"Average price\", \"n_obs\": \"Number of obs.\"})\n",
    "    .assign(\n",
    "        Category=lambda x: \"Age \"\n",
    "        + x[\"min_age\"].astype(str)\n",
    "        + \"-\"\n",
    "        + x[\"max_age\"].astype(str)\n",
    "    )\n",
    "    .filter([\"Category\", \"Number of obs.\", \"Average price\"])\n",
    "    .sort_values(by=[\"Average price\"], ascending=False)\n",
    ")"
   ]
  },
  {
   "cell_type": "markdown",
   "metadata": {},
   "source": [
    "Test RMSE"
   ]
  },
  {
   "cell_type": "code",
   "execution_count": null,
   "metadata": {},
   "outputs": [],
   "source": [
    "rmse_cart2 = rmse(data_test[\"price\"], cart2.predict(data_test[[\"age\"]]))\n",
    "rmse_cart2"
   ]
  },
  {
   "cell_type": "markdown",
   "metadata": {},
   "source": [
    "Scatterplot with step function"
   ]
  },
  {
   "cell_type": "code",
   "execution_count": null,
   "metadata": {},
   "outputs": [],
   "source": [
    "plot_helper = np.arange(min(data_train[\"age\"]), max(data_train[\"age\"]), 1)\n",
    "\n",
    "plot_helper_df = pd.DataFrame({\"age\": plot_helper})\n",
    "plot_helper_df[\"xend\"] = pd.Series(plot_helper) + 1\n",
    "plot_helper_df[\"yend\"] = cart2.predict(plot_helper_df[[\"age\"]])\n",
    "pred_cart1t = cart2.predict(data_train[[\"age\"]])"
   ]
  },
  {
   "cell_type": "code",
   "execution_count": null,
   "metadata": {},
   "outputs": [],
   "source": [
    "(\n",
    "    ggplot(data_train, aes(x=\"age\", y=\"price\"))\n",
    "    + geom_point()\n",
    "    + geom_segment(\n",
    "        plot_helper_df,\n",
    "        aes(x=\"age\", y=\"yend\", xend=\"xend\", yend=\"yend\"),\n",
    "        color=\"blue\",\n",
    "        size=1,\n",
    "        na_rm=True,\n",
    "    )\n",
    "    + scale_y_continuous(\n",
    "        expand=(0.01, 0.01), limits=(0, 20000), breaks=np.arange(0, 20001, 2500)\n",
    "    )\n",
    "    + scale_x_continuous(\n",
    "        expand=(0.01, 0.01), limits=(0, 25), breaks=np.arange(0, 26, 5)\n",
    "    )\n",
    "    + labs(x=\"Age (years)\", y=\"Price (US dollars)\")\n",
    "    + theme_bw()\n",
    ")"
   ]
  },
  {
   "cell_type": "markdown",
   "metadata": {},
   "source": [
    "Now, split by min_impurity_decrease, where node will be split if this split induces a decrease of the impurity greater than or equal to this value."
   ]
  },
  {
   "cell_type": "code",
   "execution_count": null,
   "metadata": {},
   "outputs": [],
   "source": [
    "cart3 = DecisionTreeRegressor(\n",
    "    random_state=2018, criterion=\"mse\", min_impurity_decrease=50000\n",
    ")\n",
    "# Note X should be a matrix instead of series, that's why we need double []\n",
    "X = data_train[[\"age\"]]\n",
    "Y = data_train[\"price\"]\n",
    "cart3.fit(X, Y)"
   ]
  },
  {
   "cell_type": "markdown",
   "metadata": {},
   "source": [
    "Test RMSE"
   ]
  },
  {
   "cell_type": "code",
   "execution_count": null,
   "metadata": {},
   "outputs": [],
   "source": [
    "rmse_cart3 = rmse(data_test[\"price\"], cart3.predict(data_test[[\"age\"]]))\n",
    "rmse_cart3"
   ]
  },
  {
   "cell_type": "code",
   "execution_count": null,
   "metadata": {},
   "outputs": [],
   "source": [
    "jupyter_graphviz(\n",
    "    cart3, filled=True, rounded=True, special_characters=True, feature_names=[\"age\"]\n",
    ")\n"
   ]
  },
  {
   "cell_type": "markdown",
   "metadata": {},
   "source": [
    "Scatterplot with step function"
   ]
  },
  {
   "cell_type": "code",
   "execution_count": null,
   "metadata": {},
   "outputs": [],
   "source": [
    "plot_helper = np.arange(min(data_train[\"age\"]), max(data_train[\"age\"]))\n",
    "\n",
    "plot_helper_df = pd.DataFrame({\"age\": plot_helper})\n",
    "plot_helper_df[\"xend\"] = pd.Series(plot_helper) + 1\n",
    "plot_helper_df[\"yend\"] = cart3.predict(plot_helper_df[[\"age\"]])\n",
    "pred_cart1t = cart3.predict(data_train[[\"age\"]])\n"
   ]
  },
  {
   "cell_type": "code",
   "execution_count": null,
   "metadata": {},
   "outputs": [],
   "source": [
    "(\n",
    "    ggplot(data_train, aes(x=\"age\", y=\"price\"))\n",
    "    + geom_point()\n",
    "    + geom_segment(\n",
    "        plot_helper_df,\n",
    "        aes(x=\"age\", y=\"yend\", xend=\"xend\", yend=\"yend\"),\n",
    "        color=\"blue\",\n",
    "        size=1,\n",
    "        na_rm=True,\n",
    "    )\n",
    "    + scale_y_continuous(\n",
    "        expand=(0.01, 0.01), limits=(0, 20000), breaks=np.arange(0, 20000, 2500)\n",
    "    )\n",
    "    + scale_x_continuous(\n",
    "        expand=(0.01, 0.01), limits=(0, 25), breaks=np.arange(0, 25, 5)\n",
    "    )\n",
    "    + labs(x=\"Age (years)\", y=\"Price (US dollars)\")\n",
    "    + theme_bw()\n",
    ")"
   ]
  },
  {
   "cell_type": "markdown",
   "metadata": {},
   "source": [
    "#### Competing model: Age only linear regression\n",
    "---"
   ]
  },
  {
   "cell_type": "code",
   "execution_count": null,
   "metadata": {},
   "outputs": [],
   "source": [
    "linreg1 = smf.ols(\"price~age\", data=data_train).fit()\n",
    "linreg1.summary()\n"
   ]
  },
  {
   "cell_type": "code",
   "execution_count": null,
   "metadata": {},
   "outputs": [],
   "source": [
    "rmse_ols1 = rmse(data_test[\"price\"], linreg1.predict(data_test[[\"age\"]]))\n",
    "rmse_ols1 "
   ]
  },
  {
   "cell_type": "markdown",
   "metadata": {},
   "source": [
    "Scatterplot with predicted values"
   ]
  },
  {
   "cell_type": "code",
   "execution_count": null,
   "metadata": {},
   "outputs": [],
   "source": [
    "pred_linreg1t = linreg1.predict(data_train)\n",
    "(\n",
    "    ggplot(data_train)\n",
    "    + geom_point(\n",
    "        aes(x=\"age\", y=\"price\"),\n",
    "        size=1,\n",
    "        alpha=0.7,\n",
    "        show_legend=False,\n",
    "        na_rm=True,\n",
    "    )\n",
    "    + geom_line(aes(x=\"age\", y=\"pred_linreg1t\"), colour=\"blue\", size=0.7)\n",
    "    + scale_y_continuous(\n",
    "        expand=(0.01, 0.01), limits=(0, 20000), breaks=np.arange(0, 20000, 2500)\n",
    "    )\n",
    "    + scale_x_continuous(\n",
    "        expand=(0.01, 0.01), limits=(0, 25), breaks=np.arange(0, 25, 5)\n",
    "    )\n",
    "    + labs(x=\"Age (years)\", y=\"Price (US dollars)\")\n",
    "    + theme_bw()\n",
    ")"
   ]
  },
  {
   "cell_type": "markdown",
   "metadata": {},
   "source": [
    "### Age only with lowess"
   ]
  },
  {
   "cell_type": "code",
   "execution_count": null,
   "metadata": {},
   "outputs": [],
   "source": [
    "lowess = sm.nonparametric.KernelReg\n",
    "lowess_fit = lowess(data_train.price, data_train.age, \"c\")"
   ]
  },
  {
   "cell_type": "markdown",
   "metadata": {},
   "source": [
    "Test RMSE"
   ]
  },
  {
   "cell_type": "code",
   "execution_count": null,
   "metadata": {},
   "outputs": [],
   "source": [
    "lowess_pred = lowess_fit.fit(data_test[\"age\"])\n",
    "rmse_lowess = rmse(lowess_pred[0], data_test[\"price\"])\n",
    "rmse_lowess"
   ]
  },
  {
   "cell_type": "code",
   "execution_count": null,
   "metadata": {},
   "outputs": [],
   "source": [
    "(\n",
    "    ggplot(data_train, aes(x=\"age\", y=\"price\"))\n",
    "    + geom_point(size=1)\n",
    "    + labs(x=\"Age\", y=\"Price\")\n",
    "    + coord_cartesian(xlim=(0, 25), ylim=(0, 20000))\n",
    "    + geom_smooth(method=\"loess\", colour=\"blue\", se=False, size=1.5)\n",
    "    + theme_bw()\n",
    ")"
   ]
  },
  {
   "cell_type": "markdown",
   "metadata": {},
   "source": [
    "### MULTIPLE PREDICTOR VARIABLES"
   ]
  },
  {
   "cell_type": "markdown",
   "metadata": {},
   "source": [
    "Linear regression with multiple variables"
   ]
  },
  {
   "cell_type": "code",
   "execution_count": null,
   "metadata": {},
   "outputs": [],
   "source": [
    "model2 = \"price ~ age + odometer + LE + XLE + SE + cond_excellent + cond_good + cylind6 + dealer + chicago\"\n",
    "linreg2 = smf.ols(model2, data_train).fit()\n",
    "linreg2.summary()"
   ]
  },
  {
   "cell_type": "code",
   "execution_count": null,
   "metadata": {
    "scrolled": true
   },
   "outputs": [],
   "source": [
    "rmse_ols2 = rmse(data_test[\"price\"], linreg1.predict(data_test))\n",
    "rmse_ols2"
   ]
  },
  {
   "cell_type": "markdown",
   "metadata": {},
   "source": [
    "Add squared for age, odometer"
   ]
  },
  {
   "cell_type": "code",
   "execution_count": null,
   "metadata": {},
   "outputs": [],
   "source": [
    "model3 = \"price ~ age + agesq+ odometer+odometersq +LE + XLE + SE + cond_excellent + cond_good + cylind6 + dealer+chicago\"\n",
    "linreg3 = smf.ols(model3, data_train).fit()\n",
    "linreg3.summary()"
   ]
  },
  {
   "cell_type": "code",
   "execution_count": null,
   "metadata": {},
   "outputs": [],
   "source": [
    "rmse_ols3 = rmse(data_test[\"price\"], linreg3.predict(data_test))\n",
    "rmse_ols3"
   ]
  },
  {
   "cell_type": "code",
   "execution_count": null,
   "metadata": {},
   "outputs": [],
   "source": [
    "Y, X = dmatrices(model2, data_train)\n"
   ]
  },
  {
   "cell_type": "markdown",
   "metadata": {},
   "source": [
    "### Multiple predictors with Trees\n",
    "\n",
    " Splits at four levels, for illustrative purposes\n",
    " \n",
    "(make sure it stops by setting \"maxdepth\" to 3)"
   ]
  },
  {
   "cell_type": "code",
   "execution_count": null,
   "metadata": {},
   "outputs": [],
   "source": [
    "cart4 = DecisionTreeRegressor(random_state=20108, criterion=\"mse\", max_depth=3)\n",
    "cart4.fit(X, Y)"
   ]
  },
  {
   "cell_type": "code",
   "execution_count": null,
   "metadata": {},
   "outputs": [],
   "source": [
    "_, X_test = dmatrices(model2, data_test)\n",
    "\n",
    "pred_cart4 = cart4.predict(X_test)\n",
    "rmse_cart4 = rmse(data_test[\"price\"], pred_cart4)\n",
    "rmse_cart4"
   ]
  },
  {
   "cell_type": "code",
   "execution_count": null,
   "metadata": {},
   "outputs": [],
   "source": [
    "feature_names_model2 = [\n",
    "    \"price\",\n",
    "    \"age\",\n",
    "    \"odometer\",\n",
    "    \"LE\",\n",
    "    \"XLE\",\n",
    "    \"SE\",\n",
    "    \"cond_excellent\",\n",
    "    \"cond_good\",\n",
    "    \"cylind6\",\n",
    "    \"dealer\",\n",
    "    \"chicago\",\n",
    "]"
   ]
  },
  {
   "cell_type": "code",
   "execution_count": null,
   "metadata": {},
   "outputs": [],
   "source": [
    "jupyter_graphviz(\n",
    "    cart4,\n",
    "    filled=True,\n",
    "    rounded=True,\n",
    "    special_characters=True,\n",
    "    feature_names=feature_names_model2,\n",
    ")\n"
   ]
  },
  {
   "cell_type": "markdown",
   "metadata": {},
   "source": [
    " The alternative to show the use of min_impurity_decrease slightly the same outcome\n"
   ]
  },
  {
   "cell_type": "code",
   "execution_count": null,
   "metadata": {},
   "outputs": [],
   "source": [
    "cart4 = DecisionTreeRegressor(\n",
    "    random_state=20108,\n",
    "    criterion=\"mse\",\n",
    "    min_impurity_decrease=150000,\n",
    "    min_samples_split=20,\n",
    ")\n",
    "cart4.fit(X, Y)\n",
    "\n",
    "y_test, X_test = dmatrices(model2, data_test)\n",
    "\n",
    "pred_cart4 = cart4.predict(X_test)\n",
    "rmse_cart4 = rmse(data_test[\"price\"], pred_cart4)\n",
    "rmse_cart4"
   ]
  },
  {
   "cell_type": "code",
   "execution_count": null,
   "metadata": {},
   "outputs": [],
   "source": [
    "jupyter_graphviz(\n",
    "    cart4,\n",
    "    filled=True,\n",
    "    rounded=True,\n",
    "    special_characters=True,\n",
    "    feature_names=feature_names_model2,\n",
    ")"
   ]
  },
  {
   "cell_type": "markdown",
   "metadata": {},
   "source": [
    "### CART model 5"
   ]
  },
  {
   "cell_type": "code",
   "execution_count": null,
   "metadata": {},
   "outputs": [],
   "source": [
    "cart5 = DecisionTreeRegressor(\n",
    "    random_state=20108,\n",
    "    criterion=\"mse\",\n",
    "    min_impurity_decrease=20000,\n",
    ")\n",
    "cart5.fit(X, Y)\n"
   ]
  },
  {
   "cell_type": "code",
   "execution_count": null,
   "metadata": {},
   "outputs": [],
   "source": [
    "pred_cart5 = cart5.predict(X_test)\n",
    "rmse_cart5 = rmse(data_test[\"price\"], pred_cart5)\n",
    "rmse_cart5\n"
   ]
  },
  {
   "cell_type": "code",
   "execution_count": null,
   "metadata": {},
   "outputs": [],
   "source": [
    "jupyter_graphviz(\n",
    "    cart5,\n",
    "    filled=True,\n",
    "    rounded=True,\n",
    "    special_characters=True,\n",
    "    feature_names=feature_names_model2,\n",
    ")\n"
   ]
  },
  {
   "cell_type": "markdown",
   "metadata": {},
   "source": [
    "### Cart Model 6\n",
    "#### Build very large tree and prune it\n",
    "\n",
    "in Python this can be done in sklearn's DecisionTreeRegressor with ccp_alpha parameter"
   ]
  },
  {
   "cell_type": "code",
   "execution_count": null,
   "metadata": {},
   "outputs": [],
   "source": [
    "cart6 = DecisionTreeRegressor(\n",
    "    random_state=20108, min_samples_split=4, criterion=\"mse\", ccp_alpha=100000\n",
    ")\n",
    "cart6.fit(X, Y)\n"
   ]
  },
  {
   "cell_type": "code",
   "execution_count": null,
   "metadata": {},
   "outputs": [],
   "source": [
    "pred_cart6 = cart6.predict(X_test)\n",
    "rmse_cart6 = rmse(data_test[\"price\"], pred_cart6)\n",
    "rmse_cart6\n"
   ]
  },
  {
   "cell_type": "code",
   "execution_count": null,
   "metadata": {},
   "outputs": [],
   "source": [
    "jupyter_graphviz(\n",
    "    cart6,\n",
    "    filled=True,\n",
    "    rounded=True,\n",
    "    special_characters=True,\n",
    "    feature_names=feature_names_model2,\n",
    ")\n"
   ]
  },
  {
   "cell_type": "markdown",
   "metadata": {},
   "source": [
    "Variable permutation importance for model 5"
   ]
  },
  {
   "cell_type": "code",
   "execution_count": null,
   "metadata": {},
   "outputs": [],
   "source": [
    "perm_imp = permutation_importance(\n",
    "    cart5, X, Y, n_repeats=1000, scoring=\"r2\", max_samples=0.6, random_state=230\n",
    ")\n",
    "\n",
    "cart5_var_imp_df = (\n",
    "    pd.DataFrame(perm_imp[\"importances_mean\"], feature_names_model2)\n",
    "    .iloc[1:, :]\n",
    "    .rename({0: \"Importance\"}, axis=1)\n",
    "    .sort_values(by=[\"Importance\"], ascending=False)\n",
    "    .reset_index()\n",
    "    .assign(Importance=lambda x: x[\"Importance\"] / x[\"Importance\"].sum())\n",
    ")\n",
    "\n",
    "(\n",
    "    ggplot(cart5_var_imp_df, aes(x=\"reorder(index, Importance)\", y=\"Importance\"))\n",
    "    + geom_point(color=\"blue\", size=2)\n",
    "    + geom_segment(\n",
    "        aes(x=\"index\", xend=\"index\", y=0, yend=\"Importance\"), color=\"blue\", size=1.5\n",
    "    )\n",
    "    + ylab(\"Importance\")\n",
    "    + xlab(\"Variable Name\")\n",
    "    + coord_flip()\n",
    "    + scale_y_continuous(expand=(0.01, 0.01), labels=percent_format())\n",
    "    + theme_bw()\n",
    ")"
   ]
  },
  {
   "cell_type": "markdown",
   "metadata": {},
   "source": [
    "Simple variable importance for model 5"
   ]
  },
  {
   "cell_type": "code",
   "execution_count": null,
   "metadata": {},
   "outputs": [],
   "source": [
    "cart5_var_imp_df = (\n",
    "    pd.DataFrame(cart5.feature_importances_, feature_names_model2)\n",
    "    .iloc[1:, :]\n",
    "    .rename({0: \"Importance\"}, axis=1)\n",
    "    .sort_values(by=[\"Importance\"], ascending=False)\n",
    "    .reset_index()\n",
    ")\n",
    "(\n",
    "    ggplot(cart5_var_imp_df, aes(x=\"reorder(index,Importance)\", y=\"Importance\"))\n",
    "    + geom_point(color=\"blue\", size=2)\n",
    "    + geom_segment(\n",
    "        aes(x=\"index\", xend=\"index\", y=0, yend=\"Importance\"), color=\"blue\", size=1.5\n",
    "    )\n",
    "    + ylab(\"Importance\")\n",
    "    + xlab(\"Variable Name\")\n",
    "    + coord_flip()\n",
    "    + scale_y_continuous(expand=(0.01, 0.01), labels=percent_format())\n",
    "    + theme_bw()\n",
    ")\n"
   ]
  },
  {
   "cell_type": "markdown",
   "metadata": {},
   "source": [
    "Summary table of results"
   ]
  },
  {
   "cell_type": "code",
   "execution_count": null,
   "metadata": {},
   "outputs": [],
   "source": [
    "(\n",
    "    pd.DataFrame(\n",
    "        {\n",
    "            \"Model\": [\"CART M\" + str(i) for i in range(1, 7)]\n",
    "            + [\"OLS M1\", \"LOWESS\", \"OLS M2\", \"OLS M3\"],\n",
    "            \"Number of variables\": [1, 1, 7, 7, 7, 7, 1, 1, 7, 7],\n",
    "            \"Model details\": [\n",
    "                \"2 levels\",\n",
    "                \"3 levels\",\n",
    "                \"min_impurity_decrease=50000\",\n",
    "                \"min_impurity_decrease=140000 & min_samples_split=20\",\n",
    "                \"min_impurity_decrease=20000\",\n",
    "                \"ccp_alpha=30000\",\n",
    "                \"linear\",\n",
    "                \"lowess\",\n",
    "                \"linear\",\n",
    "                \"w/ polynomial terms\",\n",
    "            ],\n",
    "            \"test RMSE\": [\n",
    "                rmse_cart1,\n",
    "                rmse_cart2,\n",
    "                rmse_cart3,\n",
    "                rmse_cart4,\n",
    "                rmse_cart5,\n",
    "                rmse_cart6,\n",
    "                rmse_ols1,\n",
    "                rmse_lowess,\n",
    "                rmse_ols2,\n",
    "                rmse_ols3,\n",
    "            ],\n",
    "        }\n",
    "    )\n",
    "    .set_index(\"Model\")\n",
    "    .round(0)\n",
    ")"
   ]
  },
  {
   "cell_type": "code",
   "execution_count": null,
   "metadata": {},
   "outputs": [],
   "source": []
  }
 ],
 "metadata": {
  "kernelspec": {
   "display_name": "Python 3 (ipykernel)",
   "language": "python",
   "name": "python3"
  },
  "language_info": {
   "codemirror_mode": {
    "name": "ipython",
    "version": 3
   },
   "file_extension": ".py",
   "mimetype": "text/x-python",
   "name": "python",
   "nbconvert_exporter": "python",
   "pygments_lexer": "ipython3",
   "version": "3.8.10"
  },
  "vscode": {
   "interpreter": {
    "hash": "c01754e8627d0ea60fdf9a984fbf743943cf4db47884120dd04bfc512143b077"
   }
  }
 },
 "nbformat": 4,
 "nbformat_minor": 4
}
