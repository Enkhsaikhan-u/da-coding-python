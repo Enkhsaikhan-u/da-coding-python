{
 "cells": [
  {
   "cell_type": "markdown",
   "metadata": {},
   "source": [
    "# Lecture 23           \n",
    "                                            \n",
    "## Forecasting a time-series object         \n",
    "   - Data munging with time-series (ts)\n",
    "   - Descriptive graphs for ts         \n",
    "     - analyzing different periods     \n",
    "       to understand seasonality       \n",
    "   - Sample splitting with ts          \n",
    "   - Simple time-series models with:   \n",
    "     - deterministic trend/seasonality \n",
    "   - Cross-validation with time-series \n",
    "   - prophet package                   \n",
    "   - Forecasting                       \n",
    "     - comparing model based on        \n",
    "       forecasting performance (RMSE)  \n",
    "     - graphical representation             \n",
    "\n",
    "Case-studies:\n",
    "\n",
    "   - CH18A Forecasting daily ticket sales for a swimming pool   \n",
    "                                             \n",
    "Data used:\n",
    "\n",
    "    swim-transactions                  \n",
    "\n",
    "___"
   ]
  },
  {
   "cell_type": "code",
   "execution_count": null,
   "metadata": {},
   "outputs": [],
   "source": [
    "import pandas as pd\n",
    "import numpy as np\n",
    "import warnings\n",
    "import sys\n",
    "import os\n",
    "\n",
    "import pandas_market_calendars as mcal\n",
    "from datetime import datetime\n",
    "from plotnine import *\n",
    "from mizani.formatters import date_format\n",
    "from patsy import dmatrices\n",
    "from sklearn.model_selection import LeaveOneGroupOut\n",
    "from sklearn.linear_model import LinearRegression\n",
    "from sklearn.metrics import mean_squared_error\n",
    "\n",
    "warnings.filterwarnings(\"ignore\")"
   ]
  },
  {
   "cell_type": "markdown",
   "metadata": {},
   "source": [
    "### Read data"
   ]
  },
  {
   "cell_type": "code",
   "execution_count": null,
   "metadata": {},
   "outputs": [],
   "source": [
    "daily_agg = pd.read_csv(\"https://osf.io/5qyfv/download\", parse_dates=[\"date\"])"
   ]
  },
  {
   "cell_type": "code",
   "execution_count": null,
   "metadata": {},
   "outputs": [],
   "source": [
    "daily_agg.head()"
   ]
  },
  {
   "cell_type": "markdown",
   "metadata": {},
   "source": [
    "Add multiple time variables:\n",
    "  - year, quarter, month and day\n",
    "  - add weekdays and weekend"
   ]
  },
  {
   "cell_type": "code",
   "execution_count": null,
   "metadata": {},
   "outputs": [],
   "source": [
    "daily_agg[\"year\"] = daily_agg[\"date\"].dt.year\n",
    "daily_agg[\"quarter\"] = daily_agg[\"date\"].dt.quarter\n",
    "daily_agg[\"month\"] = daily_agg[\"date\"].dt.month\n",
    "daily_agg[\"day\"] = daily_agg[\"date\"].dt.day\n",
    "daily_agg[\"dow\"] = daily_agg[\"date\"].dt.dayofweek + 1\n",
    "daily_agg[\"weekend\"] = daily_agg[\"dow\"].isin([6, 7])"
   ]
  },
  {
   "cell_type": "markdown",
   "metadata": {},
   "source": [
    "School off days -> specific dates (domain knowledge), need to know the US state specific schools"
   ]
  },
  {
   "cell_type": "code",
   "execution_count": null,
   "metadata": {},
   "outputs": [],
   "source": [
    "daily_agg[\"school_off\"] = (\n",
    "    ((daily_agg[\"day\"] > 15) & (daily_agg[\"month\"] == 5) & (daily_agg[\"day\"] <= 30))\n",
    "    | ((daily_agg[\"month\"] == 6) | (daily_agg[\"month\"] == 7))\n",
    "    | ((daily_agg[\"day\"] < 15) & (daily_agg[\"month\"] == 8))\n",
    "    | ((daily_agg[\"day\"] > 20) & (daily_agg[\"month\"] == 12))\n",
    ")"
   ]
  },
  {
   "cell_type": "markdown",
   "metadata": {},
   "source": [
    "Add a trend variable (1 to number of observations)"
   ]
  },
  {
   "cell_type": "code",
   "execution_count": null,
   "metadata": {},
   "outputs": [],
   "source": [
    "daily_agg[\"trend\"] = daily_agg.index + 1"
   ]
  },
  {
   "cell_type": "markdown",
   "metadata": {},
   "source": [
    "Get holiday calendar"
   ]
  },
  {
   "cell_type": "code",
   "execution_count": null,
   "metadata": {},
   "outputs": [],
   "source": [
    "nyse = mcal.get_calendar(\"NYSE\")\n",
    "\n",
    "holidays = nyse.holidays().holidays\n",
    "\n",
    "daily_agg[\"isHoliday\"] = daily_agg[\"date\"].isin(holidays)"
   ]
  },
  {
   "cell_type": "code",
   "execution_count": null,
   "metadata": {},
   "outputs": [],
   "source": [
    "daily_agg.describe()"
   ]
  },
  {
   "cell_type": "markdown",
   "metadata": {},
   "source": [
    "Alternative summary with skimpy"
   ]
  },
  {
   "cell_type": "code",
   "execution_count": null,
   "metadata": {},
   "outputs": [],
   "source": [
    "from skimpy import skim\n",
    "\n",
    "skim(daily_agg)"
   ]
  },
  {
   "cell_type": "markdown",
   "metadata": {},
   "source": [
    "### Define vars for analysis"
   ]
  },
  {
   "cell_type": "markdown",
   "metadata": {},
   "source": [
    "Add a monthly average quantity sold"
   ]
  },
  {
   "cell_type": "code",
   "execution_count": null,
   "metadata": {},
   "outputs": [],
   "source": [
    "daily_agg[\"q_month\"] = daily_agg.groupby(\"month\")[\"QUANTITY\"].transform(\"mean\")"
   ]
  },
  {
   "cell_type": "markdown",
   "metadata": {},
   "source": [
    "Create a log quantity with adjusting below 1"
   ]
  },
  {
   "cell_type": "code",
   "execution_count": null,
   "metadata": {},
   "outputs": [],
   "source": [
    "daily_agg[\"QUANTITY2\"] = np.where(daily_agg[\"QUANTITY\"] < 1, 1, daily_agg[\"QUANTITY\"])\n",
    "\n",
    "daily_agg[\"q_ln\"] = np.log(daily_agg[\"QUANTITY2\"])"
   ]
  },
  {
   "cell_type": "markdown",
   "metadata": {},
   "source": [
    "Create tickets variable as quantity sold for each day for given months"
   ]
  },
  {
   "cell_type": "code",
   "execution_count": null,
   "metadata": {},
   "outputs": [],
   "source": [
    "daily_agg[\"tickets\"] = daily_agg.groupby([\"month\", \"dow\"])[\"QUANTITY\"].transform(\"mean\")\n",
    "\n",
    "daily_agg[\"tickets_ln\"] = daily_agg.groupby([\"month\", \"dow\"])[\"q_ln\"].transform(\"mean\")"
   ]
  },
  {
   "cell_type": "markdown",
   "metadata": {},
   "source": [
    "Named date vars for graphs"
   ]
  },
  {
   "cell_type": "code",
   "execution_count": null,
   "metadata": {},
   "outputs": [],
   "source": [
    "daily_agg[\"dow_abb\"] = daily_agg[\"date\"].dt.day_name().str[:3]\n",
    "\n",
    "daily_agg[\"month_abb\"] = daily_agg[\"date\"].dt.month_name().str[:3]"
   ]
  },
  {
   "cell_type": "markdown",
   "metadata": {},
   "source": [
    "## Descriptive graphs\n",
    "\n",
    "Check:\n",
    "1. within year pattern\n",
    "2. Across years pattern\n",
    "3. Across months\n",
    "4. Across days\n",
    "5. Heatmap to have an idea across month and daily pattern"
   ]
  },
  {
   "cell_type": "markdown",
   "metadata": {},
   "source": [
    "Daily ticket sales 2015"
   ]
  },
  {
   "cell_type": "code",
   "execution_count": null,
   "metadata": {},
   "outputs": [],
   "source": [
    "(\n",
    "    ggplot(\n",
    "        daily_agg.loc[daily_agg.year == 2015, :].reset_index(drop=True),\n",
    "        aes(x=\"date\", y=\"QUANTITY\"),\n",
    "    )\n",
    "    + geom_line(size=0.4)\n",
    "    + scale_x_date(\n",
    "        breaks=[\"2015-01-01\", \"2015-04-01\", \"2015-07-01\", \"2015-10-01\", \"2016-01-01\"],\n",
    "        labels=date_format(\"%d%b%Y\"),\n",
    "        date_minor_breaks=\"1 month\",\n",
    "    )\n",
    "    + labs(x=\"Date (day)\", y=\"Daily ticket sales\")\n",
    "    + theme_bw()\n",
    ")"
   ]
  },
  {
   "cell_type": "markdown",
   "metadata": {},
   "source": [
    " Daily ticket sales 2010 - 2014"
   ]
  },
  {
   "cell_type": "code",
   "execution_count": null,
   "metadata": {},
   "outputs": [],
   "source": [
    "(\n",
    "    ggplot(\n",
    "        daily_agg.loc[(daily_agg.year >= 2010) & (daily_agg.year <= 2014), :],\n",
    "        aes(x=\"date\", y=\"QUANTITY\"),\n",
    "    )\n",
    "    + geom_line(size=0.2)\n",
    "    + scale_x_date(\n",
    "        breaks=[\n",
    "            \"2010-01-01\",\n",
    "            \"2011-01-01\",\n",
    "            \"2012-01-01\",\n",
    "            \"2013-01-01\",\n",
    "            \"2014-01-01\",\n",
    "            \"2015-01-01\",\n",
    "        ],\n",
    "        labels=date_format(\"%d%b%Y\"),\n",
    "        date_minor_breaks=\"3 months\",\n",
    "    )\n",
    "    + labs(x=\"Date (day)\", y=\"Daily ticket sales\")\n",
    "    + theme_bw()\n",
    ")"
   ]
  },
  {
   "cell_type": "markdown",
   "metadata": {},
   "source": [
    " Monthly box-plots for ticket sales"
   ]
  },
  {
   "cell_type": "code",
   "execution_count": null,
   "metadata": {},
   "outputs": [],
   "source": [
    "(\n",
    "    ggplot(daily_agg, aes(x=\"reorder(month_abb,month)\", y=\"QUANTITY\"))\n",
    "    + geom_boxplot(\n",
    "        size=0.8,\n",
    "        outlier_stroke=0.4,\n",
    "        outlier_color=\"yellow\",\n",
    "        outlier_alpha=0.6,\n",
    "    )\n",
    "    + labs(x=\"Date (month)\", y=\"Daily ticket sales\")\n",
    "    + theme_bw()\n",
    ")"
   ]
  },
  {
   "cell_type": "markdown",
   "metadata": {},
   "source": [
    " Daily box-plots for ticket sales"
   ]
  },
  {
   "cell_type": "code",
   "execution_count": null,
   "metadata": {},
   "outputs": [],
   "source": [
    "(\n",
    "    ggplot(daily_agg, aes(x=\"reorder(dow_abb,dow)\", y=\"QUANTITY\"))\n",
    "    + geom_boxplot(\n",
    "        size=0.8,\n",
    "        outlier_stroke=0.4,\n",
    "        outlier_color=\"yellow\",\n",
    "        outlier_alpha=0.6,\n",
    "    )\n",
    "    + labs(x=\"Day of the week\", y=\"Daily ticket sales\")\n",
    "    + theme_bw()\n",
    ")"
   ]
  },
  {
   "cell_type": "markdown",
   "metadata": {},
   "source": [
    "to check for interactions between months and days look at the heatmap"
   ]
  },
  {
   "cell_type": "code",
   "execution_count": null,
   "metadata": {},
   "outputs": [],
   "source": [
    "swim_heatmap = (\n",
    "    ggplot(\n",
    "        daily_agg,\n",
    "        aes(x=\"reorder(dow_abb,dow)\", y=\"reorder(month_abb,month)\", fill=\"tickets\"),\n",
    "    )\n",
    "    + geom_tile(colour=\"white\")\n",
    "    + scale_fill_cmap(trans=\"reverse\")\n",
    "    + labs(x=\"Day of the week\", y=\"Month\")\n",
    "    + theme_bw()\n",
    "    + theme(\n",
    "        legend_position=\"right\",\n",
    "        legend_text=element_text(size=10),\n",
    "        legend_title=element_text(size=10),\n",
    "    )\n",
    ")\n",
    "swim_heatmap"
   ]
  },
  {
   "cell_type": "markdown",
   "metadata": {},
   "source": [
    "Same but with log sales"
   ]
  },
  {
   "cell_type": "code",
   "execution_count": null,
   "metadata": {},
   "outputs": [],
   "source": [
    "swim_heatmap_log = (\n",
    "    ggplot(\n",
    "        daily_agg,\n",
    "        aes(x=\"reorder(dow_abb,dow)\", y=\"reorder(month_abb,month)\", fill=\"tickets_ln\"),\n",
    "    )\n",
    "    + geom_tile(colour=\"white\")\n",
    "    + scale_fill_cmap(trans=\"reverse\")\n",
    "    + labs(x=\"Day of the week\", y=\"Month\") \n",
    "    + theme_bw()\n",
    "    + theme(\n",
    "        legend_position=\"right\",\n",
    "        legend_text=element_text(size=10),\n",
    "        legend_title=element_text(size=10),\n",
    "    )\n",
    ")\n",
    "swim_heatmap_log"
   ]
  },
  {
   "cell_type": "markdown",
   "metadata": {},
   "source": [
    "## Prediction\n",
    "\n",
    "### Creat train/holdout data"
   ]
  },
  {
   "cell_type": "markdown",
   "metadata": {},
   "source": [
    "Create factor variables"
   ]
  },
  {
   "cell_type": "code",
   "execution_count": null,
   "metadata": {},
   "outputs": [],
   "source": [
    "factor_cols = [\"month\", \"dow\", \"isHoliday\", \"school_off\"]\n",
    "daily_agg[factor_cols] = daily_agg[factor_cols].astype(\"category\")\n"
   ]
  },
  {
   "cell_type": "markdown",
   "metadata": {},
   "source": [
    " Last year of data"
   ]
  },
  {
   "cell_type": "code",
   "execution_count": null,
   "metadata": {},
   "outputs": [],
   "source": [
    "data_holdout = daily_agg.loc[daily_agg['year']==2016,:]"
   ]
  },
  {
   "cell_type": "markdown",
   "metadata": {},
   "source": [
    " Rest of data for training"
   ]
  },
  {
   "cell_type": "code",
   "execution_count": null,
   "metadata": {},
   "outputs": [],
   "source": [
    "data_train = daily_agg.loc[daily_agg['year']<2016,:]"
   ]
  },
  {
   "cell_type": "code",
   "execution_count": null,
   "metadata": {},
   "outputs": [],
   "source": [
    "data_train.tail()"
   ]
  },
  {
   "cell_type": "markdown",
   "metadata": {},
   "source": [
    "We are doing cross validation in the train sample. At each CV sample, the algo leaves out a sample of one year during training"
   ]
  },
  {
   "cell_type": "code",
   "execution_count": null,
   "metadata": {},
   "outputs": [],
   "source": [
    "logo = LeaveOneGroupOut()\n",
    "groups = data_train.loc[:,'year'].to_numpy()"
   ]
  },
  {
   "cell_type": "code",
   "execution_count": null,
   "metadata": {},
   "outputs": [],
   "source": [
    "data_train.loc[:,'year'].unique()"
   ]
  },
  {
   "cell_type": "markdown",
   "metadata": {},
   "source": [
    "Use OLS"
   ]
  },
  {
   "cell_type": "code",
   "execution_count": null,
   "metadata": {},
   "outputs": [],
   "source": [
    "lin_reg = LinearRegression(fit_intercept=False)"
   ]
  },
  {
   "cell_type": "code",
   "execution_count": null,
   "metadata": {},
   "outputs": [],
   "source": [
    "def fit_cv_model_get_rmse(y, X, groups):\n",
    "    \"\"\"\n",
    "    A function to calculate cross-validated RMSE for time series\n",
    "    \"\"\"\n",
    "    rmse_folds = []\n",
    "    for train_index, test_index in logo.split(X, y, groups):\n",
    "        X_train, X_test = X[train_index], X[test_index]\n",
    "        y_train, y_test = y[train_index], y[test_index]\n",
    "        lin_reg.fit(X_train, y_train)\n",
    "        y_hat = lin_reg.predict(X_test)\n",
    "        rmse_folds.append(mean_squared_error(y_test, y_hat, squared=False))\n",
    "\n",
    "    return np.mean(rmse_folds)"
   ]
  },
  {
   "cell_type": "markdown",
   "metadata": {},
   "source": [
    "### Fit models: here simple OLS which is applicable to TS data"
   ]
  },
  {
   "cell_type": "markdown",
   "metadata": {},
   "source": [
    "Model 1 linear trend + monthly seasonality"
   ]
  },
  {
   "cell_type": "code",
   "execution_count": null,
   "metadata": {},
   "outputs": [],
   "source": [
    "y, X = dmatrices(\"QUANTITY ~ 1+ trend + month\", data_train)\n",
    "\n",
    "rmse_reg1 = fit_cv_model_get_rmse(y, X, groups)"
   ]
  },
  {
   "cell_type": "markdown",
   "metadata": {},
   "source": [
    "Model 2 linear trend + monthly seasonality + days of week seasonality "
   ]
  },
  {
   "cell_type": "code",
   "execution_count": null,
   "metadata": {},
   "outputs": [],
   "source": [
    "y, X = dmatrices(\"QUANTITY ~ 1+ trend + month + dow\", data_train)\n",
    "\n",
    "rmse_reg2 = fit_cv_model_get_rmse(y, X, groups)"
   ]
  },
  {
   "cell_type": "markdown",
   "metadata": {},
   "source": [
    "Model 3 linear trend + monthly seasonality + days of week  seasonality + holidays "
   ]
  },
  {
   "cell_type": "code",
   "execution_count": null,
   "metadata": {},
   "outputs": [],
   "source": [
    "y, X = dmatrices(\"QUANTITY ~ 1 + trend + month + dow + isHoliday\", data_train)\n",
    "\n",
    "rmse_reg3 = fit_cv_model_get_rmse(y, X, groups)"
   ]
  },
  {
   "cell_type": "markdown",
   "metadata": {},
   "source": [
    "Model 4 linear trend + monthly seasonality + days of week  seasonality + holidays + sch*dow"
   ]
  },
  {
   "cell_type": "code",
   "execution_count": null,
   "metadata": {},
   "outputs": [],
   "source": [
    "y, X = dmatrices(\n",
    "    \"QUANTITY ~ 1 + trend + month + dow + isHoliday + school_off*dow\", data_train\n",
    ")\n",
    "\n",
    "rmse_reg4 = fit_cv_model_get_rmse(y, X, groups)"
   ]
  },
  {
   "cell_type": "markdown",
   "metadata": {},
   "source": [
    "Model 5 linear trend + monthly seasonality + days of week  seasonality + holidays + interactions"
   ]
  },
  {
   "cell_type": "code",
   "execution_count": null,
   "metadata": {},
   "outputs": [],
   "source": [
    "y, X = dmatrices(\n",
    "    \"QUANTITY ~ 1 + trend + month + dow + isHoliday + school_off*dow+ weekend*month\",\n",
    "    data_train,\n",
    ")\n",
    "\n",
    "rmse_reg5 = fit_cv_model_get_rmse(y, X, groups)"
   ]
  },
  {
   "cell_type": "markdown",
   "metadata": {},
   "source": [
    "Model 6. \n",
    "\n",
    "For the log model we need to compute the RMSE with the adjustment term!"
   ]
  },
  {
   "cell_type": "code",
   "execution_count": null,
   "metadata": {},
   "outputs": [],
   "source": [
    "y, X = dmatrices(\n",
    "    \"q_ln ~ 1 + trend + month + dow +school_off*dow\", data_train\n",
    ")\n",
    "\n",
    "rmse_folds = []\n",
    "for train_index, test_index in logo.split(X, y, groups):\n",
    "    X_train, X_test = X[train_index], X[test_index]\n",
    "    y_train, y_test = y[train_index], y[test_index]\n",
    "\n",
    "    lin_reg.fit(X_train, y_train)\n",
    "\n",
    "    y_hat = lin_reg.predict(X)\n",
    "\n",
    "    corrb = mean_squared_error(y , y_hat)\n",
    "\n",
    "    y_hat = np.exp((lin_reg.predict(X_test) + corrb / 2))\n",
    "\n",
    "    rmse_folds.append(mean_squared_error(np.exp(y_test), y_hat, squared=False))\n",
    "    \n",
    "rmse_reg6 = np.mean(rmse_folds)\n",
    "rmse_reg6"
   ]
  },
  {
   "cell_type": "markdown",
   "metadata": {},
   "source": [
    "Use prophet prediction,\n",
    "\n",
    "add CV into prophet\n",
    "\n",
    "can be done with prophet: https://facebook.github.io/prophet/docs/diagnostics.html\n",
    "\n",
    "done but this is a different cross-validation as for the other models as it must be time-series like\n",
    "\n",
    "prophet -  multiplicative option -- tried but produced much worse results (~34. RMSE)\n"
   ]
  },
  {
   "cell_type": "code",
   "execution_count": null,
   "metadata": {},
   "outputs": [],
   "source": [
    "from prophet import Prophet\n",
    "from prophet.diagnostics import cross_validation\n",
    "from prophet.diagnostics import performance_metrics"
   ]
  },
  {
   "cell_type": "code",
   "execution_count": null,
   "metadata": {},
   "outputs": [],
   "source": [
    "model_prophet = Prophet(\n",
    "    seasonality_mode=\"additive\",\n",
    "    yearly_seasonality=\"auto\",\n",
    "    weekly_seasonality=\"auto\",\n",
    "    growth=\"linear\",\n",
    "    daily_seasonality=True,\n",
    ")\n",
    "\n",
    "model_prophet = Prophet.add_country_holidays(model_prophet,\"US\")"
   ]
  },
  {
   "cell_type": "code",
   "execution_count": null,
   "metadata": {},
   "outputs": [],
   "source": [
    "model_prophet = Prophet.fit(\n",
    "    model_prophet,\n",
    "    df=data_train[[\"date\", \"QUANTITY\"]].rename({\"date\": \"ds\", \"QUANTITY\": \"y\"}, axis=1),\n",
    ")"
   ]
  },
  {
   "cell_type": "code",
   "execution_count": null,
   "metadata": {},
   "outputs": [],
   "source": [
    "cv_pred = cross_validation(\n",
    "    model_prophet, initial=\"365 days\", period=\"365 days\", horizon=\"365 days\"\n",
    ")"
   ]
  },
  {
   "cell_type": "code",
   "execution_count": null,
   "metadata": {},
   "outputs": [],
   "source": [
    "rmse_prophet_cv = performance_metrics(cv_pred,rolling_window = 1)[\"rmse\"].values[0]"
   ]
  },
  {
   "cell_type": "code",
   "execution_count": null,
   "metadata": {},
   "outputs": [],
   "source": [
    "# Note: M6 log model rmse is different from book\n",
    "pd.DataFrame(\n",
    "    [rmse_reg1, rmse_reg2, rmse_reg3, rmse_reg4, rmse_reg5, rmse_reg6, rmse_prophet_cv],\n",
    "    [\"M\" + str(i) for i in range(1, 6)] + [\"M6 (log)\", \"M7 (Prophet)\"],\n",
    "    columns=[\"RMSE\"],\n",
    ").round(2)"
   ]
  },
  {
   "cell_type": "markdown",
   "metadata": {},
   "source": [
    "## Evaluate best model on holdout set"
   ]
  },
  {
   "cell_type": "code",
   "execution_count": null,
   "metadata": {},
   "outputs": [],
   "source": [
    "lin_reg = LinearRegression(fit_intercept=False)\n",
    "\n",
    "y, X = dmatrices(\n",
    "    \"QUANTITY ~ 1 + trend + month + dow + isHoliday + school_off*dow+ weekend*month\",\n",
    "    data_train,\n",
    ")\n",
    "\n",
    "lin_reg.fit(X, y)\n",
    "\n",
    "_, X_holdout = dmatrices(\n",
    "    \"QUANTITY ~ 1 + trend + month + dow + isHoliday + school_off*dow+ weekend*month\",\n",
    "    data_holdout,\n",
    ")\n",
    "data_holdout[\"y_hat_5\"] = lin_reg.predict(X_holdout)"
   ]
  },
  {
   "cell_type": "code",
   "execution_count": null,
   "metadata": {},
   "outputs": [],
   "source": [
    "rmse_holdout_best = mean_squared_error(\n",
    "    data_holdout.QUANTITY, data_holdout.y_hat_5, squared=False\n",
    ")\n",
    "rmse_holdout_best"
   ]
  },
  {
   "cell_type": "markdown",
   "metadata": {},
   "source": [
    "### Plot best predictions"
   ]
  },
  {
   "cell_type": "markdown",
   "metadata": {},
   "source": [
    "Graph relative RMSE (on holdout) per month"
   ]
  },
  {
   "cell_type": "code",
   "execution_count": null,
   "metadata": {},
   "outputs": [],
   "source": [
    "group = data_holdout.sort_values(by=[\"date\"]).groupby(\"month\")\n",
    "rmse_monthly = pd.DataFrame(\n",
    "    {\n",
    "        \"date\": group[\"date\"].first(),\n",
    "        \"RMSE\": group.apply(\n",
    "            lambda x: mean_squared_error(x[\"QUANTITY\"], x[\"y_hat_5\"], squared=False)\n",
    "        ),\n",
    "        \"RMSE_norm\": group.apply(\n",
    "            lambda x: mean_squared_error(x[\"QUANTITY\"], x[\"y_hat_5\"], squared=False)\n",
    "            / np.mean(x[\"QUANTITY\"])\n",
    "        ),\n",
    "    }\n",
    ").reset_index()\n",
    "rmse_monthly"
   ]
  },
  {
   "cell_type": "markdown",
   "metadata": {},
   "source": [
    "### Figure 18.7 b)"
   ]
  },
  {
   "cell_type": "code",
   "execution_count": null,
   "metadata": {},
   "outputs": [],
   "source": [
    "(\n",
    "    ggplot(rmse_monthly, aes(x=\"date\", y=\"RMSE_norm\"))\n",
    "    + geom_col(color=\"red\", fill=\"red\")\n",
    "    + scale_x_date(expand=(0.02, 0.02), labels=date_format(\"%b\"), breaks=\"1 month\")\n",
    "    + labs(x=\"Date (month)\", y=\"RMSE (normalized by monthly sales)\")\n",
    "    + theme_bw()\n",
    ")"
   ]
  },
  {
   "cell_type": "markdown",
   "metadata": {},
   "source": [
    "Create a long dataframe from the holdout predictions for nice plotting with plotnine"
   ]
  },
  {
   "cell_type": "code",
   "execution_count": null,
   "metadata": {},
   "outputs": [],
   "source": [
    "plotdata = (\n",
    "    data_holdout.filter([\"date\", \"month\", \"QUANTITY\", \"y_hat_5\"])\n",
    "    .melt(id_vars=[\"date\", \"month\"])\n",
    "    .merge(data_holdout.filter([\"date\", \"QUANTITY\"]), on=\"date\")\n",
    "    .merge(data_holdout.filter([\"date\", \"y_hat_5\"]), on=\"date\")\n",
    "    .rename(columns={\"QUANTITY\": \"ymin\", \"y_hat_5\": \"ymax\"})\n",
    ")"
   ]
  },
  {
   "cell_type": "markdown",
   "metadata": {},
   "source": [
    "### Figure 18.6 – Prediction on training sample"
   ]
  },
  {
   "cell_type": "code",
   "execution_count": null,
   "metadata": {},
   "outputs": [],
   "source": [
    "(\n",
    "    ggplot(plotdata, aes(x=\"date\", y=\"value\", color=\"variable\", linetype=\"variable\"))\n",
    "    + geom_line(size=0.8)\n",
    "    + scale_y_continuous(expand=(0, 0))\n",
    "    + scale_x_date(\n",
    "        expand=(0, 0),\n",
    "        breaks=[\n",
    "            \"2016-01-01\",\n",
    "            \"2016-03-01\",\n",
    "            \"2016-05-01\",\n",
    "            \"2016-07-01\",\n",
    "            \"2016-09-01\",\n",
    "            \"2016-11-01\",\n",
    "            \"2017-01-01\",\n",
    "        ],\n",
    "        labels=date_format(\"%d%b%Y\"),\n",
    "        date_minor_breaks=\"1 month\",\n",
    "    )\n",
    "    + scale_linetype_manual(name=\"\", values=(\"-\", \"--\"))\n",
    "    + labs(x=\"Date (day)\", y=\"Daily ticket sales\")\n",
    "    + scale_color_manual(\n",
    "        name=\" \", values=(\"red\",\"blue\"), labels=(\"Actual\", \"Predicted\")\n",
    "    )\n",
    "    + scale_linetype_manual(\n",
    "        name=\" \", values=(\"-\", \"--\"), labels=(\"Actual\", \"Predicted\")\n",
    "    )\n",
    "    + theme_bw()\n",
    "    + theme(legend_position=(0.74, 0.77), legend_direction=\"horizontal\")\n",
    ")"
   ]
  },
  {
   "cell_type": "markdown",
   "metadata": {},
   "source": [
    "### Figure 18.7 a) – Prediction on hold-out sample"
   ]
  },
  {
   "cell_type": "code",
   "execution_count": null,
   "metadata": {},
   "outputs": [],
   "source": [
    "(\n",
    "    ggplot(\n",
    "        plotdata.loc[lambda x: x[\"month\"] == 8].reset_index(),\n",
    "        aes(x=\"date\", y=\"value\", color=\"variable\", linetype=\"variable\"),\n",
    "    )\n",
    "    + geom_line(size=1)\n",
    "    + geom_ribbon(\n",
    "        aes(ymin=\"ymin\", ymax=\"ymax\"),\n",
    "        fill=\"yellow\",\n",
    "        color=None,\n",
    "        alpha=0.2,\n",
    "        show_legend=False,\n",
    "    )\n",
    "    + scale_y_continuous(expand=(0.01, 0.01), limits=(0, 150))\n",
    "    + scale_x_date(\n",
    "        expand=(0.01, 0.01),\n",
    "        breaks=[\"2016-08-01\", \"2016-08-08\", \"2016-08-15\", \"2016-08-22\", \"2016-08-29\"],\n",
    "        labels=date_format(\"%d%b\"),\n",
    "    )\n",
    "    + scale_color_manual(\n",
    "        name=\" \", values=(\"red\",\"blue\"), labels=(\"Actual\", \"Predicted\")\n",
    "    )\n",
    "    + scale_linetype_manual(\n",
    "        name=\" \", values=(\"-\", \"--\"), labels=(\"Actual\", \"Predicted\")\n",
    "    )\n",
    "    + labs(x=\"Date (day)\", y=\"Daily ticket sales\")\n",
    "    + theme_bw()\n",
    "    + theme(legend_position=(0.74, 0.77), legend_direction=\"horizontal\")\n",
    ")"
   ]
  },
  {
   "cell_type": "code",
   "execution_count": null,
   "metadata": {},
   "outputs": [],
   "source": []
  }
 ],
 "metadata": {
  "kernelspec": {
   "display_name": "Python 3 (ipykernel)",
   "language": "python",
   "name": "python3"
  },
  "language_info": {
   "codemirror_mode": {
    "name": "ipython",
    "version": 3
   },
   "file_extension": ".py",
   "mimetype": "text/x-python",
   "name": "python",
   "nbconvert_exporter": "python",
   "pygments_lexer": "ipython3",
   "version": "3.8.10"
  }
 },
 "nbformat": 4,
 "nbformat_minor": 2
}
