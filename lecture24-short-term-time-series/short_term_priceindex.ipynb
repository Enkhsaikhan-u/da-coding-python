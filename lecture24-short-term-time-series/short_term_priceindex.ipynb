{
 "cells": [
  {
   "cell_type": "markdown",
   "metadata": {},
   "source": [
    "# Lecture 24           \n",
    "                                            \n",
    "## Forecasting a time-series object         \n",
    "   - Data munging with time-series (ts)\n",
    "   - Sample splitting with ts          \n",
    "   - ARIMA models                      \n",
    "     - self specified                  \n",
    "     - auto ARIMA                      \n",
    "     - adding trend and seasonality    \n",
    "   - Cross-validation with ARIMA       \n",
    "   - Vector Autoregressive Model (VAR) \n",
    "     - estimation and cv               \n",
    "   - Forecasting                       \n",
    "     - comparing model based on        \n",
    "       forecasting performance         \n",
    "     - external validity check         \n",
    "     - Fan-chart: assessing risks            \n",
    "\n",
    "Case-studies:\n",
    "\n",
    "   - CH18B Forecasting a home price index case-schiller-la dataset  \n",
    "                                             \n",
    "Data used:\n",
    "\n",
    "    case-schiller-la                 \n",
    "\n",
    "___"
   ]
  },
  {
   "cell_type": "code",
   "execution_count": null,
   "metadata": {},
   "outputs": [],
   "source": [
    "import os\n",
    "from pathlib import Path\n",
    "import pandas as pd\n",
    "import numpy as np\n",
    "from mizani.breaks import date_breaks\n",
    "from mizani.formatters import date_format\n",
    "from plotnine import *\n",
    "from datetime import datetime\n",
    "import sys\n",
    "import statsmodels\n",
    "import patsy\n",
    "from pmdarima.arima import auto_arima\n",
    "import statsmodels.formula.api as smf\n",
    "import warnings\n",
    "from sklearn.metrics import mean_squared_error\n",
    "\n",
    "warnings.filterwarnings(\"ignore\")"
   ]
  },
  {
   "cell_type": "markdown",
   "metadata": {},
   "source": [
    "### Data preparation"
   ]
  },
  {
   "cell_type": "code",
   "execution_count": null,
   "metadata": {},
   "outputs": [],
   "source": [
    "data = pd.read_csv(\"https://osf.io/8r7na/download\")"
   ]
  },
  {
   "cell_type": "code",
   "execution_count": null,
   "metadata": {},
   "outputs": [],
   "source": [
    "data.head()"
   ]
  },
  {
   "cell_type": "markdown",
   "metadata": {},
   "source": [
    "- 18 years data\n",
    "- 1 year holdout\n",
    "- 4 years of test\n",
    "- 13 years of train (rolling window)\n",
    "\n",
    "Pick if seasonal or non seasonal version used, will be cut later here we pick pn, not seasonally adjuste"
   ]
  },
  {
   "cell_type": "markdown",
   "metadata": {},
   "source": [
    "Create date format"
   ]
  },
  {
   "cell_type": "code",
   "execution_count": null,
   "metadata": {},
   "outputs": [],
   "source": [
    "data = data.assign(date=lambda x: x.date.str[0:7])\n"
   ]
  },
  {
   "cell_type": "markdown",
   "metadata": {},
   "source": [
    "Create newly named variable -> seasonally not adjusted"
   ]
  },
  {
   "cell_type": "code",
   "execution_count": null,
   "metadata": {},
   "outputs": [],
   "source": [
    "data = data.rename({\"pn\": \"p\", \"us\": \"u\", \"emps\": \"emp\"}, axis=1)"
   ]
  },
  {
   "cell_type": "markdown",
   "metadata": {},
   "source": [
    " Create logs, lags, differences and trend + monthly dummmies"
   ]
  },
  {
   "cell_type": "code",
   "execution_count": null,
   "metadata": {},
   "outputs": [],
   "source": [
    "data = data.sort_values(by=[\"date\"]).assign(\n",
    "    dp=lambda x: x.p.diff(1),\n",
    "    p_lag=lambda x: x.p.shift(1),\n",
    "    lnp=lambda x: np.log(x.p),\n",
    "    dlnp=lambda x: x.lnp.diff(1),\n",
    "    lnp_lag=lambda x: x.lnp.shift(1),\n",
    "    dlnp_lag=lambda x: x.dlnp.shift(1),\n",
    "    du=lambda x: x.u.diff(1),\n",
    "    lnemp=lambda x: np.log(x.emp),\n",
    "    dlnemp=lambda x: x.lnemp.diff(1),\n",
    "    trend=lambda x: range(1, data.shape[0] + 1),\n",
    ")"
   ]
  },
  {
   "cell_type": "markdown",
   "metadata": {},
   "source": [
    "Save as time-series tibble"
   ]
  },
  {
   "cell_type": "code",
   "execution_count": null,
   "metadata": {},
   "outputs": [],
   "source": [
    "data_all = data.copy()"
   ]
  },
  {
   "cell_type": "markdown",
   "metadata": {},
   "source": [
    " Focus on dates from 2000 through 2017\n"
   ]
  },
  {
   "cell_type": "code",
   "execution_count": null,
   "metadata": {},
   "outputs": [],
   "source": [
    "data = data.loc[lambda x: x.year <= 2017]"
   ]
  },
  {
   "cell_type": "markdown",
   "metadata": {},
   "source": [
    "### EXPLORE our variables"
   ]
  },
  {
   "cell_type": "markdown",
   "metadata": {},
   "source": [
    "Plot price index"
   ]
  },
  {
   "cell_type": "code",
   "execution_count": null,
   "metadata": {},
   "outputs": [],
   "source": [
    "limits = datetime(2000, 1, 1), datetime(2018, 1, 1)\n",
    "breaks = date_breaks(\"1 year\")\n",
    "\n",
    "price_index_plot = (\n",
    "    ggplot(data, aes(x=\"date\", y=\"p\", group=1))\n",
    "    + geom_line(size=1)\n",
    "    + scale_y_continuous(limits=[50, 300], breaks=np.arange(50, 301, 50))\n",
    "    + scale_x_date(breaks=breaks(limits)[::3], labels=date_format(\"%b%Y\"))\n",
    "    + labs(y=\"Case-shiller Price index\", x=\"Date (month)\")\n",
    "    + theme_bw()\n",
    ")\n",
    "price_index_plot"
   ]
  },
  {
   "cell_type": "markdown",
   "metadata": {},
   "source": [
    "Plot difference of price index"
   ]
  },
  {
   "cell_type": "markdown",
   "metadata": {},
   "source": [
    "\n"
   ]
  },
  {
   "cell_type": "code",
   "execution_count": null,
   "metadata": {},
   "outputs": [],
   "source": [
    "dp_plot = (\n",
    "    ggplot(data, aes(x=\"date\", y=\"dp\", group=1))\n",
    "    + geom_line(size=1)\n",
    "    + scale_y_continuous(limits=[-10, 8], breaks=np.arange(-10, 9, 2))\n",
    "    + scale_x_date(breaks=breaks(limits)[::3], labels=date_format(\"%b%Y\"))\n",
    "    + labs(y=\"First difference of price index\", x=\"Date (month)\")\n",
    "    + theme_bw()\n",
    ")\n",
    "dp_plot"
   ]
  },
  {
   "cell_type": "markdown",
   "metadata": {},
   "source": [
    "Plot log difference of price index (-> ~percentage change)"
   ]
  },
  {
   "cell_type": "code",
   "execution_count": null,
   "metadata": {},
   "outputs": [],
   "source": [
    "limits = datetime(2000, 1, 1), datetime(2018, 1, 1)\n",
    "breaks = date_breaks(\"1 year\")\n",
    "\n",
    "dlnp_plot = (\n",
    "    ggplot(data, aes(x=\"date\", y=\"dlnp\", group=1))\n",
    "    + geom_line(size=1)\n",
    "    + scale_y_continuous(limits=[-0.04, 0.04], breaks=np.arange(-0.04, 0.05, 0.01))\n",
    "    + scale_x_date(breaks=breaks(limits)[::3], labels=date_format(\"%b%Y\"))\n",
    "    + labs(y=\"Log first difference of price index\", x=\"Date (month)\")\n",
    "    + theme_bw()\n",
    ")\n",
    "dlnp_plot"
   ]
  },
  {
   "cell_type": "markdown",
   "metadata": {},
   "source": [
    "Plot employment"
   ]
  },
  {
   "cell_type": "code",
   "execution_count": null,
   "metadata": {},
   "outputs": [],
   "source": [
    "emp_plot = (\n",
    "    ggplot(data, aes(x=\"date\", y=\"emp\", group=1))\n",
    "    + geom_line(size=1)\n",
    "    + scale_x_date(breaks=breaks(limits)[::3], labels=date_format(\"%b%Y\"))\n",
    "    + labs(y=\"Employment (in thousands)\", x=\"Date (month)\")\n",
    "    + theme_bw()\n",
    ")\n",
    "emp_plot"
   ]
  },
  {
   "cell_type": "markdown",
   "metadata": {},
   "source": [
    "Plot log diff employment"
   ]
  },
  {
   "cell_type": "code",
   "execution_count": null,
   "metadata": {},
   "outputs": [],
   "source": [
    "lnemp_plot = (\n",
    "    ggplot(data, aes(x=\"date\", y=\"dlnemp\", group=1))\n",
    "    + geom_line(size=1)\n",
    "    + scale_x_date(breaks=breaks(limits)[::3], labels=date_format(\"%b%Y\"))\n",
    "    + labs(y=\"Log change in employment\", x=\"Date (month)\")\n",
    "    + theme_bw()\n",
    ")\n",
    "\n",
    "lnemp_plot"
   ]
  },
  {
   "cell_type": "markdown",
   "metadata": {},
   "source": [
    "Plot unemployment rate"
   ]
  },
  {
   "cell_type": "code",
   "execution_count": null,
   "metadata": {},
   "outputs": [],
   "source": [
    "u_plot = (\n",
    "    ggplot(data, aes(x=\"date\", y=\"u\", group=1))\n",
    "    + geom_line(size=1)\n",
    "    + scale_x_date(breaks=breaks(limits)[::3], labels=date_format(\"%b%Y\"))\n",
    "    + labs(y=\"Unemployment rate (percent)\", x=\"Date (month)\")\n",
    "    + theme_bw()\n",
    ")\n",
    "\n",
    "u_plot"
   ]
  },
  {
   "cell_type": "markdown",
   "metadata": {},
   "source": [
    "Plot diff unemployment"
   ]
  },
  {
   "cell_type": "code",
   "execution_count": null,
   "metadata": {},
   "outputs": [],
   "source": [
    "du_plot = (\n",
    "    ggplot(data, aes(x=\"date\", y=\"du\", group=1))\n",
    "    + geom_line(size=1)\n",
    "    + scale_x_date(breaks=breaks(limits)[::3], labels=date_format(\"%b%Y\"))\n",
    "    + labs(y=\"Change in unemployment rate\", x=\"Date (month)\")\n",
    "    + theme_bw()\n",
    ")\n",
    "\n",
    "du_plot"
   ]
  },
  {
   "cell_type": "markdown",
   "metadata": {},
   "source": [
    "### Create work set and holdout set"
   ]
  },
  {
   "cell_type": "code",
   "execution_count": null,
   "metadata": {},
   "outputs": [],
   "source": [
    "data[\"date\"] = data[\"date\"].apply(lambda x: datetime.strptime(x, \"%Y-%m\"))"
   ]
  },
  {
   "cell_type": "markdown",
   "metadata": {},
   "source": [
    "Create work and holdout sets"
   ]
  },
  {
   "cell_type": "code",
   "execution_count": null,
   "metadata": {},
   "outputs": [],
   "source": [
    "data_holdout = data.loc[lambda x: x[\"year\"] == 2017, :]\n",
    "data_work = data.loc[lambda x: x[\"year\"] < 2017, :]"
   ]
  },
  {
   "cell_type": "markdown",
   "metadata": {},
   "source": [
    "Prepare for cross-validation, define size of train -> rolling window type (cv=4)"
   ]
  },
  {
   "cell_type": "code",
   "execution_count": null,
   "metadata": {},
   "outputs": [],
   "source": [
    "for year in range(2013, 2017):\n",
    "    fold = year - 2012\n",
    "    data_work[\"test\" + str(fold)] = data_work[\"year\"] == year\n",
    "    data_work[\"train\" + str(fold)] = (data_work[\"year\"] <= year - 1) & (\n",
    "        data_work[\"year\"] >= year - 13\n",
    "    )"
   ]
  },
  {
   "cell_type": "markdown",
   "metadata": {},
   "source": [
    " Use tseries of price index only\n",
    " \n",
    "Fit  models with months, trend, ARIMA"
   ]
  },
  {
   "cell_type": "code",
   "execution_count": null,
   "metadata": {},
   "outputs": [],
   "source": [
    "from statsmodels.tsa.arima.model import ARIMA\n",
    "from statsmodels.tsa.api import VAR"
   ]
  },
  {
   "cell_type": "markdown",
   "metadata": {},
   "source": [
    "Model M1 – p on trend & seasonality"
   ]
  },
  {
   "cell_type": "code",
   "execution_count": null,
   "metadata": {},
   "outputs": [],
   "source": [
    "mse_1 = []\n",
    "for i in range(1, 5):\n",
    "\n",
    "    train_data = data_work.loc[lambda x: x[\"train\" + str(i)] == 1]\n",
    "    test_data = data_work.loc[lambda x: x[\"test\" + str(i)] == 1]\n",
    "\n",
    "    model1 = smf.ols(\"p ~ trend + C(month)\", train_data).fit()\n",
    "\n",
    "    phat = model1.predict(test_data)\n",
    "\n",
    "    errsq = np.square(test_data.p.values - phat)\n",
    "\n",
    "    mse_1.append(np.mean(errsq))\n",
    "\n",
    "rmse_cv_m1 = np.sqrt(np.mean(mse_1))"
   ]
  },
  {
   "cell_type": "markdown",
   "metadata": {},
   "source": [
    "Model M2 – p ARIMA(1,1,2)\n",
    " \n",
    " Get order from auto_arima"
   ]
  },
  {
   "cell_type": "code",
   "execution_count": null,
   "metadata": {},
   "outputs": [],
   "source": [
    "auto_arima_m2 = auto_arima(\n",
    "    y=data_work.p,\n",
    "    start_p=0,\n",
    "    max_p=1,  # without this constrain, python returns other ARIMA order\n",
    "    max_order=0,\n",
    "    seasonal=False,\n",
    ")\n",
    "\n",
    "mse_2 = []\n",
    "for i in range(1, 5):\n",
    "\n",
    "    train_data = data_work.loc[lambda x: x[\"train\" + str(i)] == 1]\n",
    "    test_data = data_work.loc[lambda x: x[\"test\" + str(i)] == 1]\n",
    "\n",
    "    model2 = ARIMA(train_data.p, order=auto_arima_m2.get_params()[\"order\"]).fit()\n",
    "\n",
    "    phat = model2.forecast(steps=12)\n",
    "\n",
    "    errsq = np.square(test_data.p.values - phat)\n",
    "\n",
    "    mse_2.append(np.mean(errsq))\n",
    "\n",
    "rmse_cv_m2 = np.sqrt(np.mean(mse_2))"
   ]
  },
  {
   "cell_type": "markdown",
   "metadata": {},
   "source": [
    "Model M3 – p ARIMA(1,1,0)\n",
    "\n",
    "Get order from auto_arima"
   ]
  },
  {
   "cell_type": "code",
   "execution_count": null,
   "metadata": {},
   "outputs": [],
   "source": [
    "auto_arima_m3 = auto_arima(\n",
    "    y=data_work.p, X=pd.get_dummies(data_work.month), max_order=0, seasonal=False\n",
    ")\n",
    "\n",
    "mse_3 = []\n",
    "for i in range(1, 5):\n",
    "\n",
    "    train_data = data_work.loc[lambda x: x[\"train\" + str(i)] == 1]\n",
    "    test_data = data_work.loc[lambda x: x[\"test\" + str(i)] == 1]\n",
    "\n",
    "    model3 = ARIMA(\n",
    "        train_data.p,\n",
    "        exog=pd.get_dummies(train_data.month),\n",
    "        order=auto_arima_m3.get_params()[\"order\"],\n",
    "    ).fit()\n",
    "\n",
    "    phat = model3.forecast(steps=12, exog=pd.get_dummies(test_data.month))\n",
    "\n",
    "    errsq = np.square(test_data.p.values - phat)\n",
    "\n",
    "    mse_3.append(np.mean(errsq))\n",
    "\n",
    "rmse_cv_m3 = np.sqrt(np.mean(mse_3))"
   ]
  },
  {
   "cell_type": "markdown",
   "metadata": {},
   "source": [
    "Model M4 –  p ARIMA(2,0,0) + seasonality + trend\n",
    "\n",
    "Get order from auto_arima"
   ]
  },
  {
   "cell_type": "code",
   "execution_count": null,
   "metadata": {},
   "outputs": [],
   "source": [
    "auto_arima_m4 = auto_arima(\n",
    "    y=data_work.p,\n",
    "    X=pd.get_dummies(data_work.month).assign(t=data_work.trend),\n",
    "    max_order=0,\n",
    "    seasonal=False,\n",
    ")\n",
    "\n",
    "mse_4 = []\n",
    "for i in range(1, 5):\n",
    "\n",
    "    train_data = data_work.loc[lambda x: x[\"train\" + str(i)] == 1]\n",
    "    test_data = data_work.loc[lambda x: x[\"test\" + str(i)] == 1]\n",
    "\n",
    "    model4 = ARIMA(\n",
    "        train_data.p,\n",
    "        exog=pd.get_dummies(train_data.month),\n",
    "        trend=\"t\",\n",
    "        order=auto_arima_m4.get_params()[\"order\"],\n",
    "    ).fit()\n",
    "\n",
    "    phat = model4.forecast(steps=12, exog=pd.get_dummies(test_data.month), trend=\"t\")\n",
    "\n",
    "    errsq = np.square(test_data.p.values - phat)\n",
    "\n",
    "    mse_4.append(np.mean(errsq))\n",
    "\n",
    "rmse_cv_m4 = np.sqrt(np.mean(mse_4))"
   ]
  },
  {
   "cell_type": "markdown",
   "metadata": {},
   "source": [
    "Model M5 – dp ~ month + trend, without any ARIMA\n"
   ]
  },
  {
   "cell_type": "code",
   "execution_count": null,
   "metadata": {},
   "outputs": [],
   "source": [
    "mse_5 = []\n",
    "for i in range(1, 5):\n",
    "\n",
    "    train_data = data_work.loc[lambda x: x[\"train\" + str(i)] == 1]\n",
    "    test_data = data_work.loc[lambda x: x[\"test\" + str(i)] == 1]\n",
    "\n",
    "    model5 = smf.ols(\"dp ~ trend + C(month)\", train_data).fit()\n",
    "\n",
    "    dphat = model5.predict(test_data)\n",
    "\n",
    "    test_data[\"phat\"] = None\n",
    "    for i in range(0, 12):\n",
    "        if i == 0:\n",
    "            test_data.iloc[i, -1] = train_data[\"p\"].values[-1] + dphat.iloc[i]\n",
    "        else:\n",
    "            test_data.iloc[i, -1] = test_data.iloc[i - 1, -1] + dphat.iloc[i]\n",
    "\n",
    "    errsq = np.square(test_data[\"p\"] - test_data[\"phat\"])\n",
    "\n",
    "    mse_5.append(np.mean(errsq))\n",
    "\n",
    "rmse_cv_m5 = np.sqrt(np.mean(mse_5))"
   ]
  },
  {
   "cell_type": "markdown",
   "metadata": {},
   "source": [
    "Model M6 – lnp ARIMA(0,2,0) + seasonality\n",
    "\n",
    " Get order from auto_arima"
   ]
  },
  {
   "cell_type": "code",
   "execution_count": null,
   "metadata": {},
   "outputs": [],
   "source": [
    "auto_arima_m6 = auto_arima(\n",
    "    y=data_work.lnp,\n",
    "    X=pd.get_dummies(data_work.month),\n",
    "    d=2,  # without this constrain, python returns other ARIMA order\n",
    "    max_order=0,\n",
    "    seasonal=True,\n",
    ")\n",
    "\n",
    "mse_6 = []\n",
    "for i in range(1, 5):\n",
    "\n",
    "    train_data = data_work.loc[lambda x: x[\"train\" + str(i)] == 1]\n",
    "    test_data = data_work.loc[lambda x: x[\"test\" + str(i)] == 1]\n",
    "\n",
    "    model6 = ARIMA(\n",
    "        train_data.lnp,\n",
    "        exog=pd.get_dummies(train_data.month),\n",
    "        order=auto_arima_m6.get_params()[\"order\"],\n",
    "    ).fit()\n",
    "\n",
    "    lnphat = model6.forecast(steps=12, exog=pd.get_dummies(test_data.month))\n",
    "\n",
    "    corrb = mean_squared_error(test_data.lnp, lnphat)\n",
    "\n",
    "    phat = np.exp((lnphat + corrb / 2))\n",
    "\n",
    "    errsq = np.square(test_data.p.values - phat)\n",
    "\n",
    "    mse_6.append(np.mean(errsq))\n",
    "\n",
    "rmse_cv_m6 = np.sqrt(np.mean(mse_6))"
   ]
  },
  {
   "cell_type": "markdown",
   "metadata": {},
   "source": [
    "VAR"
   ]
  },
  {
   "cell_type": "code",
   "execution_count": null,
   "metadata": {},
   "outputs": [],
   "source": [
    "mse_var = []\n",
    "for i in range(1, 5):\n",
    "\n",
    "    train_data = data_work.loc[lambda x: x[\"train\" + str(i)] == 1, :].dropna()\n",
    "    test_data = data_work.loc[lambda x: x[\"test\" + str(i)] == 1, :].dropna()\n",
    "\n",
    "    model7 = VAR(train_data[[\"dp\", \"du\", \"dlnemp\"]]).fit(1)\n",
    "\n",
    "    dphat = model7.forecast(\n",
    "        train_data[[\"dp\", \"du\", \"dlnemp\"]].values[-model7.k_ar :], steps=12\n",
    "    )[:, 0]\n",
    "\n",
    "    test_data[\"phat\"] = None\n",
    "    for i in range(0, 12):\n",
    "        if i == 0:\n",
    "            test_data.iloc[i, -1] = train_data[\"p\"].values[-1] + dphat[i]\n",
    "        else:\n",
    "            test_data.iloc[i, -1] = test_data.iloc[i - 1, -1] + dphat[i]\n",
    "\n",
    "    errsq = np.square(test_data[\"p\"] - test_data[\"phat\"])\n",
    "\n",
    "    mse_var.append(np.mean(errsq))\n",
    "\n",
    "rmse_cv_m7 = np.sqrt(np.mean(mse_var))"
   ]
  },
  {
   "cell_type": "markdown",
   "metadata": {},
   "source": [
    "**Note** This VAR includes month dummies. Textbook results are from R, where we could not figure out how to inlcude month dummies\n"
   ]
  },
  {
   "cell_type": "code",
   "execution_count": null,
   "metadata": {},
   "outputs": [],
   "source": [
    "mse_var_season = []\n",
    "for i in range(1, 5):\n",
    "\n",
    "    train_data = data_work.loc[lambda x: x[\"train\" + str(i)] == 1, :].dropna()\n",
    "    test_data = data_work.loc[lambda x: x[\"test\" + str(i)] == 1, :].dropna()\n",
    "\n",
    "    model7_season = VAR(\n",
    "        train_data[[\"dp\", \"du\", \"dlnemp\"]], exog=pd.get_dummies(train_data[\"month\"])\n",
    "    ).fit(1)\n",
    "\n",
    "    dphat = model7_season.forecast(\n",
    "        train_data[[\"dp\", \"du\", \"dlnemp\"]].values[-model7_season.k_ar :],\n",
    "        exog_future=pd.get_dummies(test_data[\"month\"]).values,\n",
    "        steps=12,\n",
    "    )[:, 0]\n",
    "\n",
    "    test_data[\"phat\"] = None\n",
    "    for i in range(0, 12):\n",
    "        if i == 0:\n",
    "            test_data.iloc[i, -1] = train_data[\"p\"].values[-1] + dphat[i]\n",
    "        else:\n",
    "            test_data.iloc[i, -1] = test_data.iloc[i - 1, -1] + dphat[i]\n",
    "\n",
    "    errsq = np.square(test_data[\"p\"] - test_data[\"phat\"])\n",
    "\n",
    "    mse_var_season.append(np.mean(errsq))\n",
    "\n",
    "rmse_cv_m7_season = np.sqrt(np.mean(mse_var_season))"
   ]
  },
  {
   "cell_type": "code",
   "execution_count": null,
   "metadata": {},
   "outputs": [],
   "source": [
    "pd.DataFrame(\n",
    "    [mse_1, mse_2, mse_3, mse_4, mse_5, mse_6, mse_var],\n",
    "    columns=[\"Fold\" + str(i) for i in range(1, 5)],\n",
    ").apply(np.sqrt).assign(\n",
    "    Average=[\n",
    "        rmse_cv_m1,\n",
    "        rmse_cv_m2,\n",
    "        rmse_cv_m3,\n",
    "        rmse_cv_m4,\n",
    "        rmse_cv_m5,\n",
    "        rmse_cv_m6,\n",
    "        rmse_cv_m7,\n",
    "    ],\n",
    "    model=[\"M\" + str(i) for i in range(1, 7)] + [\"M7 (var)\"],\n",
    ").round(\n",
    "    2\n",
    ").set_index(\n",
    "    \"model\"\n",
    ")"
   ]
  },
  {
   "cell_type": "code",
   "execution_count": null,
   "metadata": {},
   "outputs": [],
   "source": [
    "print(\"RMSE for VAR with seasonality (not in book):\", rmse_cv_m7_season)"
   ]
  },
  {
   "cell_type": "markdown",
   "metadata": {},
   "source": [
    "### predict for holdout"
   ]
  },
  {
   "cell_type": "markdown",
   "metadata": {},
   "source": [
    "Best model is M4 – re-estimate best models on full work set"
   ]
  },
  {
   "cell_type": "code",
   "execution_count": null,
   "metadata": {},
   "outputs": [],
   "source": [
    "model_final = ARIMA(\n",
    "    data_work.p, exog=pd.get_dummies(data_work.month), trend=\"t\", order=(2, 0, 0)\n",
    ").fit()"
   ]
  },
  {
   "cell_type": "code",
   "execution_count": null,
   "metadata": {},
   "outputs": [],
   "source": [
    "pred_final = model_final.get_forecast(\n",
    "    steps=12, exog=pd.get_dummies(data_holdout.month), trend=\"t\"\n",
    ")"
   ]
  },
  {
   "cell_type": "code",
   "execution_count": null,
   "metadata": {},
   "outputs": [],
   "source": [
    "forecast_holdout_best = (\n",
    "    data_holdout.assign(p_pred=pred_final.predicted_mean.values, model=\"best\")\n",
    "    .join(pred_final.conf_int(alpha=0.2))\n",
    "    .filter([\"model\", \"p_pred\", \"lower p\", \"upper p\"])\n",
    ")"
   ]
  },
  {
   "cell_type": "code",
   "execution_count": null,
   "metadata": {},
   "outputs": [],
   "source": [
    "data_plot = data.join(forecast_holdout_best).loc[lambda x: x.year >= 2015]"
   ]
  },
  {
   "cell_type": "code",
   "execution_count": null,
   "metadata": {},
   "outputs": [],
   "source": [
    "data_plot_1 = pd.melt(data_plot.filter([\"date\",\"p\",\"p_pred\"]),[\"date\"])\n",
    "\n",
    "pred_p_plot = (\n",
    "    ggplot(data_plot_1, aes(x=\"date\", y=\"value\", color=\"variable\"))\n",
    "    + geom_line(size=1)\n",
    "    + ylab(\"Case-Shiller Home Price Index\")\n",
    "    + xlab(\"Date (month)\")\n",
    "    + scale_color_manual(\n",
    "        name=\" \", values=(\"red\",\"blue\"), labels=(\"Actual\", \"Prediction\")\n",
    "    )\n",
    "    + scale_x_date(date_breaks=\"1 years\", labels=date_format(\"%b%Y\"))\n",
    "    + theme_bw()\n",
    "    + theme(legend_position=(0.7, 0.3), legend_direction=\"horizontal\")\n",
    ")\n",
    "pred_p_plot"
   ]
  },
  {
   "cell_type": "code",
   "execution_count": null,
   "metadata": {},
   "outputs": [],
   "source": [
    "pred_p_plot = (\n",
    "    ggplot(data_plot.reset_index(), aes(x=\"date\"))\n",
    "    + geom_line(aes(y=\"p\"), color=\"red\", size=0.7)\n",
    "    + geom_line(aes(y=\"p_pred\"), color=\"blue\", size=1)\n",
    "    + geom_line(aes(y=\"lower p\"), color=\"blue\", size=0)\n",
    "    + geom_line(aes(y=\"upper p\"), color=\"blue\", size=0)\n",
    "    + geom_ribbon(aes(ymin=\"lower p\", ymax=\"upper p\"), fill=\"blue\", alpha=0.3)\n",
    "    + ylab(\"Case-Shiller Home Price Index\")\n",
    "    + xlab(\"Date (month)\")\n",
    "    + theme_bw()\n",
    "    + scale_x_date(date_breaks=\"1 years\", labels=date_format(\"%b%Y\"))\n",
    ")\n",
    "pred_p_plot"
   ]
  },
  {
   "cell_type": "code",
   "execution_count": null,
   "metadata": {},
   "outputs": [],
   "source": [
    "errsq = np.square(data_holdout.p.values - forecast_holdout_best.p_pred)\n",
    "\n",
    "rmse_holdout = np.mean(errsq)\n",
    "rmse_holdout"
   ]
  },
  {
   "cell_type": "markdown",
   "metadata": {},
   "source": [
    "### EXTERNAL VALIDITY\n",
    "### do the prediction for an extra year"
   ]
  },
  {
   "cell_type": "code",
   "execution_count": null,
   "metadata": {},
   "outputs": [],
   "source": [
    "data = data_all.copy()\n",
    "data[\"date\"] = data[\"date\"].apply(lambda x: datetime.strptime(x, \"%Y-%m\"))"
   ]
  },
  {
   "cell_type": "markdown",
   "metadata": {},
   "source": [
    "Create work and holdout sets"
   ]
  },
  {
   "cell_type": "code",
   "execution_count": null,
   "metadata": {},
   "outputs": [],
   "source": [
    "data_holdout = data.loc[lambda x: x[\"year\"] == 2018, :]\n",
    "data_work = data.loc[lambda x: x[\"year\"] < 2018, :]"
   ]
  },
  {
   "cell_type": "markdown",
   "metadata": {},
   "source": [
    "Best model is M4 – re-estimate best models on full work set"
   ]
  },
  {
   "cell_type": "code",
   "execution_count": null,
   "metadata": {},
   "outputs": [],
   "source": [
    "model_final = ARIMA(\n",
    "    data_work.p, exog=pd.get_dummies(data_work.month), trend=\"t\", order=(2, 0, 0)\n",
    ").fit()"
   ]
  },
  {
   "cell_type": "code",
   "execution_count": null,
   "metadata": {},
   "outputs": [],
   "source": [
    "pred_final = model_final.get_forecast(\n",
    "    steps=12, exog=pd.get_dummies(data_holdout.month), trend=\"t\"\n",
    ")"
   ]
  },
  {
   "cell_type": "code",
   "execution_count": null,
   "metadata": {},
   "outputs": [],
   "source": [
    "forecast_holdout_best = (\n",
    "    data_holdout.assign(p_pred=pred_final.predicted_mean.values, model=\"best\")\n",
    "    .join(pred_final.conf_int(alpha=0.2))\n",
    "    .filter([\"model\", \"p_pred\", \"lower p\", \"upper p\"])\n",
    ")"
   ]
  },
  {
   "cell_type": "code",
   "execution_count": null,
   "metadata": {},
   "outputs": [],
   "source": [
    "data_plot = data.join(forecast_holdout_best).loc[lambda x: x.year >= 2015]"
   ]
  },
  {
   "cell_type": "code",
   "execution_count": null,
   "metadata": {},
   "outputs": [],
   "source": [
    "data_plot_1 = pd.melt(data_plot.filter([\"date\",\"p\",\"p_pred\"]),[\"date\"])\n",
    "\n",
    "pred_p_plot = (\n",
    "    ggplot(data_plot_1, aes(x=\"date\", y=\"value\", color=\"variable\"))\n",
    "    + geom_line(size=1)\n",
    "    + ylab(\"Case-Shiller Home Price Index\")\n",
    "    + xlab(\"Date (month)\")\n",
    "    + scale_color_manual(\n",
    "        name=\" \", values=(\"red\",\"blue\"), labels=(\"Actual\", \"Prediction\")\n",
    "    )\n",
    "    + scale_x_date(date_breaks=\"1 years\", labels=date_format(\"%b%Y\"))\n",
    "    + theme_bw()\n",
    "    + theme(legend_position=(0.7, 0.3), legend_direction=\"horizontal\")\n",
    ")\n",
    "pred_p_plot"
   ]
  },
  {
   "cell_type": "markdown",
   "metadata": {},
   "source": [
    "with uncertainty fan"
   ]
  },
  {
   "cell_type": "code",
   "execution_count": null,
   "metadata": {},
   "outputs": [],
   "source": [
    "pred_p_plot = (\n",
    "    ggplot(data_plot.reset_index(), aes(x=\"date\"))\n",
    "    + geom_line(aes(y=\"p\"), color=\"red\", size=0.7)\n",
    "    + geom_line(aes(y=\"p_pred\"), color=\"blue\", size=1.3)\n",
    "    + geom_line(aes(y=\"lower p\"), color=\"blue\", size=0)\n",
    "    + geom_line(aes(y=\"upper p\"), color=\"blue\", size=0)\n",
    "    + geom_ribbon(aes(ymin=\"lower p\", ymax=\"upper p\"), fill=\"blue\", alpha=0.3)\n",
    "    + ylab(\"Case-Shiller Home Price Index\")\n",
    "    + xlab(\"Date (month)\")\n",
    "    + theme_bw()\n",
    "    + scale_x_date(date_breaks=\"1 years\", labels=date_format(\"%b%Y\"))\n",
    ")\n",
    "pred_p_plot"
   ]
  },
  {
   "cell_type": "code",
   "execution_count": null,
   "metadata": {},
   "outputs": [],
   "source": [
    "errsq = np.square(data_holdout.p.values - forecast_holdout_best.p_pred)\n",
    "\n",
    "rmse_holdout = np.mean(errsq)\n",
    "rmse_holdout"
   ]
  },
  {
   "cell_type": "code",
   "execution_count": null,
   "metadata": {},
   "outputs": [],
   "source": []
  }
 ],
 "metadata": {
  "kernelspec": {
   "display_name": "Python 3.10.4 64-bit",
   "language": "python",
   "name": "python3"
  },
  "language_info": {
   "codemirror_mode": {
    "name": "ipython",
    "version": 3
   },
   "file_extension": ".py",
   "mimetype": "text/x-python",
   "name": "python",
   "nbconvert_exporter": "python",
   "pygments_lexer": "ipython3",
   "version": "3.10.4"
  },
  "vscode": {
   "interpreter": {
    "hash": "31f2aee4e71d21fbe5cf8b01ff0e069b9275f58929596ceb00d14d90e3e16cd6"
   }
  }
 },
 "nbformat": 4,
 "nbformat_minor": 2
}
