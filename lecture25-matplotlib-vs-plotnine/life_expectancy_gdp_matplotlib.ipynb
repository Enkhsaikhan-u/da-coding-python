{
 "cells": [
  {
   "cell_type": "markdown",
   "metadata": {},
   "source": [
    "#### Prepared for Gabor's Data Analysis\n",
    "\n",
    "### Data Analysis for Business, Economics, and Policy\n",
    "by Gabor Bekes and  Gabor Kezdi\n",
    " \n",
    "Cambridge University Press 2021\n",
    "\n",
    "**[gabors-data-analysis.com ](https://gabors-data-analysis.com/)**\n",
    "\n",
    " License: Free to share, modify and use for educational purposes. \n",
    " Not to be used for commercial purposes.\n",
    "\n",
    "### Chapter 08\n",
    "**CH08B How is life expectancy related to the average income of a country?**\n",
    "\n",
    "using the worldbank-lifeexpectancy dataset\n",
    "\n",
    "version 1.0 2021-05-05"
   ]
  },
  {
   "cell_type": "code",
   "execution_count": null,
   "metadata": {},
   "outputs": [],
   "source": [
    "import os\n",
    "import sys\n",
    "import warnings\n",
    "from datetime import datetime\n",
    "\n",
    "import matplotlib.font_manager\n",
    "import matplotlib.pyplot as plt\n",
    "import matplotlib.ticker as mtick\n",
    "import numpy as np\n",
    "import pandas as pd\n",
    "import seaborn as sns\n",
    "import statsmodels.formula.api as smf\n",
    "from helper_functions import *\n",
    "from mizani.formatters import log_format, percent_format\n",
    "from mizani.transforms import log_trans\n",
    "from scipy.stats import norm\n",
    "from skimpy import skim\n",
    "\n",
    "warnings.filterwarnings(\"ignore\")\n",
    "sns.set_style(\"whitegrid\")"
   ]
  },
  {
   "cell_type": "markdown",
   "metadata": {},
   "source": [
    "Read clean data"
   ]
  },
  {
   "cell_type": "code",
   "execution_count": null,
   "metadata": {},
   "outputs": [],
   "source": [
    "xc = pd.read_csv(\"https://osf.io/sh9mu/download\")"
   ]
  },
  {
   "cell_type": "markdown",
   "metadata": {},
   "source": [
    "select year"
   ]
  },
  {
   "cell_type": "code",
   "execution_count": null,
   "metadata": {},
   "outputs": [],
   "source": [
    "xc = xc.loc[lambda x: x[\"year\"] == 2017]"
   ]
  },
  {
   "cell_type": "markdown",
   "metadata": {},
   "source": [
    " GDP total, log"
   ]
  },
  {
   "cell_type": "code",
   "execution_count": null,
   "metadata": {},
   "outputs": [],
   "source": [
    "xc[\"gdptot\"] = xc[\"gdppc\"] * xc[\"population\"]\n",
    "xc[\"lngdppc\"] = np.log(xc[\"gdppc\"])\n",
    "xc[\"lngdptot\"] = np.log(xc[\"gdptot\"])"
   ]
  },
  {
   "cell_type": "code",
   "execution_count": null,
   "metadata": {},
   "outputs": [],
   "source": [
    "skim(xc.filter([\"lifeexp\", \"gdppc\", \"gdptot\", \"lngdppc\", \"lngdptot\"]))"
   ]
  },
  {
   "cell_type": "markdown",
   "metadata": {},
   "source": [
    "### Figure 8.3 The distribution of GDP per capita"
   ]
  },
  {
   "cell_type": "markdown",
   "metadata": {},
   "source": [
    "(a) Histogram of GDP per capita"
   ]
  },
  {
   "cell_type": "code",
   "execution_count": null,
   "metadata": {},
   "outputs": [],
   "source": [
    "fig1 = sns.histplot(\n",
    "    xc,\n",
    "    x=\"gdppc\",\n",
    "    stat=\"percent\",\n",
    "    binwidth=3,\n",
    "    binrange=(0, 120),\n",
    "    edgecolor=\"white\",\n",
    "    color=\"blue\",\n",
    ")\n",
    "plt.ylabel(\"Percent\", size=12)\n",
    "plt.xlabel(\"GDP per capita (thousand US dollars)\", size=12)\n",
    "plt.xlim(0, 120)\n",
    "plt.gca().yaxis.set_major_formatter(mtick.PercentFormatter(xmax=100, decimals=0))\n",
    "plt.yticks(np.arange(0, 21, 4))\n",
    "add_margin(fig1, x=0.01, y=0)\n",
    "plt.show()"
   ]
  },
  {
   "cell_type": "markdown",
   "metadata": {},
   "source": [
    "(b) Histogram of ln(GDP per capita)"
   ]
  },
  {
   "cell_type": "code",
   "execution_count": null,
   "metadata": {},
   "outputs": [],
   "source": [
    "fig1 = sns.histplot(\n",
    "    xc,\n",
    "    x=\"lngdppc\",\n",
    "    stat=\"percent\",\n",
    "    binwidth=0.15,\n",
    "    binrange=(0, 5),\n",
    "    edgecolor=\"white\",\n",
    "    color=\"blue\",\n",
    ")\n",
    "plt.ylabel(\"Percent\", size=12)\n",
    "plt.xlabel(\"ln(GDP per capita (thousand US dollars))\", size=12)\n",
    "plt.xlim(0, 5)\n",
    "plt.gca().yaxis.set_major_formatter(mtick.PercentFormatter(xmax=100, decimals=0))\n",
    "plt.yticks(np.arange(0, 11, 2))\n",
    "add_margin(fig1, x=0.01, y=0)\n",
    "plt.show()"
   ]
  },
  {
   "cell_type": "markdown",
   "metadata": {},
   "source": [
    " LEVEL-LEVEL REGRESSION"
   ]
  },
  {
   "cell_type": "code",
   "execution_count": null,
   "metadata": {},
   "outputs": [],
   "source": [
    "reg3 = smf.ols(formula=\"lifeexp ~ gdppc\", data=xc)\n",
    "reg3.fit().summary()\n"
   ]
  },
  {
   "cell_type": "markdown",
   "metadata": {},
   "source": [
    "### Figure 8.4 Life expectancy and GDP per capita"
   ]
  },
  {
   "cell_type": "code",
   "execution_count": null,
   "metadata": {},
   "outputs": [],
   "source": [
    "sns.scatterplot(xc, x=\"gdppc\", y=\"lifeexp\", color=\"blue\", size=11, legend=None)\n",
    "plt.ylabel(\"Life expectancy  (years)\", size=12)\n",
    "plt.xlabel(\"GDP per capita (thousand US dollars)\", size=12)\n",
    "plt.xlim(0, 120)\n",
    "plt.ylim(50, 100)\n",
    "plt.yticks(np.arange(50, 101, 5))\n",
    "add_margin(fig1, x=0.01, y=0.01)\n",
    "plt.show()"
   ]
  },
  {
   "cell_type": "code",
   "execution_count": null,
   "metadata": {},
   "outputs": [],
   "source": [
    "figscatter1 = sns.regplot(\n",
    "    xc,\n",
    "    x=\"gdppc\",\n",
    "    y=\"lifeexp\",\n",
    "    ci=None,\n",
    "    scatter_kws={\"color\": \"blue\", \"s\": 11},\n",
    "    line_kws={\"color\": \"red\"},\n",
    ")\n",
    "plt.ylabel(\"Life expectancy  (years)\", size=12)\n",
    "plt.xlabel(\"GDP per capita (thousand US dollars)\", size=12)\n",
    "plt.xlim(0, 120)\n",
    "plt.ylim(50, 100)\n",
    "plt.yticks(np.arange(50, 101, 5))\n",
    "add_margin(figscatter1, x=0.005, y=0.005)\n",
    "plt.show()"
   ]
  },
  {
   "cell_type": "markdown",
   "metadata": {},
   "source": [
    "LOG GDP PER CAPITA"
   ]
  },
  {
   "cell_type": "code",
   "execution_count": null,
   "metadata": {},
   "outputs": [],
   "source": [
    "reg4 = smf.ols(formula=\"lifeexp ~ lngdppc\", data=xc)\n",
    "reg4.fit().summary()\n"
   ]
  },
  {
   "cell_type": "markdown",
   "metadata": {},
   "source": [
    "### Figure 8.5 Life expectancy and GDP per capita"
   ]
  },
  {
   "cell_type": "markdown",
   "metadata": {},
   "source": [
    "(a) Life expectancy and ln(GDP per capita)"
   ]
  },
  {
   "cell_type": "code",
   "execution_count": null,
   "metadata": {},
   "outputs": [],
   "source": [
    "figscatter2 = sns.regplot(\n",
    "    xc,\n",
    "    x=\"lngdppc\",\n",
    "    y=\"lifeexp\",\n",
    "    ci=None,\n",
    "    scatter_kws={\"color\": \"blue\", \"s\": 11},\n",
    "    line_kws={\"color\": \"red\"},\n",
    ")\n",
    "plt.xlabel(\"GDP per capita (thousand US dollars)\", size=12)\n",
    "plt.ylabel(\"Life expectancy  (years)\", size=12)\n",
    "plt.xlim(-0.5, 4.8)\n",
    "plt.ylim(50, 85)\n",
    "plt.xticks(np.arange(-0.5, 4.6, 0.5))\n",
    "plt.yticks(np.arange(50, 86, 5))\n",
    "add_margin(figscatter2, x=0.05, y=0.01)\n",
    "plt.show()"
   ]
  },
  {
   "cell_type": "markdown",
   "metadata": {},
   "source": [
    "(b) Life expectancy and ln(GDP per capita),\n",
    "(labels are thousand dollars)"
   ]
  },
  {
   "cell_type": "code",
   "execution_count": null,
   "metadata": {},
   "outputs": [],
   "source": [
    "sns.regplot(\n",
    "    xc,\n",
    "    x=\"gdppc\",\n",
    "    y=\"lifeexp\",\n",
    "    ci=None,\n",
    "    logx=True,\n",
    "    scatter_kws={\"color\": \"blue\", \"s\": 11},\n",
    "    line_kws={\"color\": \"red\"},\n",
    ")\n",
    "plt.xlabel(\"GDP per capita (thousand US dollars)\", size=12)\n",
    "plt.ylabel(\"Life expectancy  (years)\", size=12)\n",
    "plt.xscale(\"log\")\n",
    "plt.ylim(50, 85)\n",
    "plt.xticks((1, 2, 5, 10, 20, 50, 100), labels=(1, 2, 5, 10, 20, 50, 100))\n",
    "plt.yticks(np.arange(50, 86, 5))\n",
    "plt.show()"
   ]
  },
  {
   "cell_type": "markdown",
   "metadata": {},
   "source": [
    "### TOTAL GDP"
   ]
  },
  {
   "cell_type": "markdown",
   "metadata": {},
   "source": [
    "Level-level regression"
   ]
  },
  {
   "cell_type": "code",
   "execution_count": null,
   "metadata": {},
   "outputs": [],
   "source": [
    "reg1 = smf.ols(formula=\"lifeexp ~ gdppc\", data=xc)\n",
    "reg1.fit().summary()\n"
   ]
  },
  {
   "cell_type": "markdown",
   "metadata": {},
   "source": [
    "### Figure 8.6 Life expectancy and total GDP"
   ]
  },
  {
   "cell_type": "markdown",
   "metadata": {},
   "source": [
    "(a) Life expectancy and total GDP"
   ]
  },
  {
   "cell_type": "code",
   "execution_count": null,
   "metadata": {},
   "outputs": [],
   "source": [
    "figscatter1 = sns.regplot(\n",
    "    xc,\n",
    "    x=\"gdptot\",\n",
    "    y=\"lifeexp\",\n",
    "    ci=None,\n",
    "    scatter_kws={\"color\": \"blue\", \"s\": 11},\n",
    "    line_kws={\"color\": \"red\"},\n",
    ")\n",
    "plt.ylabel(\"Life expectancy  (years)\", size=12)\n",
    "plt.xlabel(\"Total GDP(thousand US dollars)\", size=12)\n",
    "plt.xlim(0, 24000)\n",
    "plt.ylim(50, 85)\n",
    "plt.yticks(np.arange(50, 81, 5))\n",
    "add_margin(figscatter1, x=0.01, y=0)\n",
    "plt.show()"
   ]
  },
  {
   "cell_type": "code",
   "execution_count": null,
   "metadata": {},
   "outputs": [],
   "source": [
    "reg2 = smf.ols(formula=\"lifeexp ~ lngdptot\", data=xc)\n",
    "reg2.fit().summary()\n"
   ]
  },
  {
   "cell_type": "markdown",
   "metadata": {},
   "source": [
    "(b) Life expectancy and ln total GDP"
   ]
  },
  {
   "cell_type": "code",
   "execution_count": null,
   "metadata": {},
   "outputs": [],
   "source": [
    "sns.regplot(\n",
    "    xc,\n",
    "    x=\"gdptot\",\n",
    "    y=\"lifeexp\",\n",
    "    ci=None,\n",
    "    logx=True,\n",
    "    scatter_kws={\"color\": \"blue\", \"s\": 11},\n",
    "    line_kws={\"color\": \"red\"},\n",
    ")\n",
    "plt.xlabel(\"GDP per capita (thousand US dollars)\", size=12)\n",
    "plt.ylabel(\"Life expectancy  (years)\", size=12)\n",
    "plt.xscale(\"log\")\n",
    "plt.ylim(50, 85)\n",
    "#plt.xticks((1, 2, 5, 10, 20, 50, 100), labels=(1, 2, 5, 10, 20, 50, 100))\n",
    "plt.yticks(np.arange(50, 86, 5))\n",
    "plt.show()"
   ]
  },
  {
   "cell_type": "markdown",
   "metadata": {},
   "source": [
    "### GDP PER CAPITA PIECEWISE LINEAR SPLINE\n"
   ]
  },
  {
   "cell_type": "code",
   "execution_count": null,
   "metadata": {},
   "outputs": [],
   "source": [
    "cutoff = 50\n",
    "cutoff_ln = np.log(cutoff)"
   ]
  },
  {
   "cell_type": "code",
   "execution_count": null,
   "metadata": {},
   "outputs": [],
   "source": [
    "reg5 = smf.ols(formula=\"lifeexp ~ lspline(lngdppc,cutoff_ln)\", data=xc)\n",
    "reg5.fit().summary()\n"
   ]
  },
  {
   "cell_type": "code",
   "execution_count": null,
   "metadata": {},
   "outputs": [],
   "source": [
    "xc[\"e3\"] = reg5.fit().resid\n",
    "xc[\"sppred\"] = reg5.fit().predict()\n"
   ]
  },
  {
   "cell_type": "markdown",
   "metadata": {},
   "source": [
    "### Figure 8.7 Life expectancy and GDP per capita: scatterplot and nonlinear regression"
   ]
  },
  {
   "cell_type": "markdown",
   "metadata": {},
   "source": [
    "(a) Piecewise linear spline"
   ]
  },
  {
   "cell_type": "code",
   "execution_count": null,
   "metadata": {},
   "outputs": [],
   "source": [
    "fig, ax = plt.subplots(figsize=(6.4, 4.8))\n",
    "p1 = sns.scatterplot(data=xc, x=\"lngdppc\", y=\"lifeexp\", color=\"blue\", ax=ax)\n",
    "p2 = sns.lineplot(data=xc, x=\"lngdppc\", y=\"sppred\", color=\"red\", ax=ax)\n",
    "plt.xlabel(\"GDP per capita (thousand US dollars)\", size=12)\n",
    "plt.ylabel(\"Life expectancy  (years)\", size=12)\n",
    "plt.ylim(50, 85)\n",
    "plt.xticks(np.log([1, 2, 5, 10, 20, 50, 100]), labels=(1, 2, 5, 10, 20, 50, 100))\n",
    "plt.yticks(np.arange(50, 86, 5))\n",
    "plt.axvline(np.log(cutoff), linestyle=\":\", linewidth=1, color=\"green\")\n",
    "plt.show()"
   ]
  },
  {
   "cell_type": "markdown",
   "metadata": {},
   "source": [
    "### QUADRATIC IN LEVEL-LOG REGRESSION"
   ]
  },
  {
   "cell_type": "code",
   "execution_count": null,
   "metadata": {},
   "outputs": [],
   "source": [
    "xc[\"lngdppc_sq\"] = xc[\"lngdppc\"].pow(2)\n",
    "reg6 = smf.ols(formula=\"lifeexp ~ lngdppc+lngdppc_sq\", data=xc)\n",
    "reg6.fit().summary()"
   ]
  },
  {
   "cell_type": "code",
   "execution_count": null,
   "metadata": {},
   "outputs": [],
   "source": [
    "xc[\"e6\"] = reg6.fit().resid"
   ]
  },
  {
   "cell_type": "markdown",
   "metadata": {},
   "source": [
    "(b) Quadratic function"
   ]
  },
  {
   "cell_type": "code",
   "execution_count": null,
   "metadata": {
    "scrolled": false
   },
   "outputs": [],
   "source": [
    "sns.regplot(\n",
    "    xc,\n",
    "    x=\"lngdppc\",\n",
    "    y=\"lifeexp\",\n",
    "    ci=None,\n",
    "    order=2,\n",
    "    scatter_kws={\"color\": \"blue\", \"s\": 11},\n",
    "    line_kws={\"color\": \"red\"},\n",
    ")\n",
    "plt.xlabel(\"GDP per capita (thousand US dollars)\", size=12)\n",
    "plt.ylabel(\"Life expectancy  (years)\", size=12)\n",
    "plt.ylim(50, 85)\n",
    "plt.xticks(np.log([1, 2, 5, 10, 20, 50, 100]), labels=(1, 2, 5, 10, 20, 50, 100))\n",
    "plt.yticks(np.arange(50, 86, 5))\n",
    "plt.show()"
   ]
  },
  {
   "cell_type": "markdown",
   "metadata": {},
   "source": [
    "### WEIGHTED AND UNWEIGHTED REGRESSION"
   ]
  },
  {
   "cell_type": "code",
   "execution_count": null,
   "metadata": {},
   "outputs": [],
   "source": [
    "reg7 = smf.ols(formula=\"lifeexp ~ lngdppc\", data=xc)\n",
    "reg7.fit().summary()\n"
   ]
  },
  {
   "cell_type": "code",
   "execution_count": null,
   "metadata": {},
   "outputs": [],
   "source": [
    "reg7 = smf.wls(formula=\"lifeexp ~ lngdppc\", data=xc, weights=xc.population)\n",
    "reg7.fit().summary()\n"
   ]
  },
  {
   "cell_type": "markdown",
   "metadata": {},
   "source": [
    "### Figure 8.9 Life expectancy and log GDP per capita: unweighted and weighted regressions"
   ]
  },
  {
   "cell_type": "markdown",
   "metadata": {},
   "source": [
    "(a) Unweighted"
   ]
  },
  {
   "cell_type": "code",
   "execution_count": null,
   "metadata": {},
   "outputs": [],
   "source": [
    "fig_unw = sns.regplot(\n",
    "    xc,\n",
    "    x=\"gdppc\",\n",
    "    y=\"lifeexp\",\n",
    "    ci=None,\n",
    "    logx=True,\n",
    "    scatter_kws={\"color\": \"blue\", \"s\": 11},\n",
    "    line_kws={\"color\": \"red\"},\n",
    ")\n",
    "plt.xlabel(\"GDP per capita, thousand US dollars (ln scale)\", size=12)\n",
    "plt.ylabel(\"Life expectancy  (years)\", size=12)\n",
    "plt.xscale(\"log\")\n",
    "plt.ylim(50, 85)\n",
    "plt.xticks((1, 2, 5, 10, 20, 50, 100), labels=(1, 2, 5, 10, 20, 50, 100))\n",
    "plt.yticks(np.arange(50, 86, 5))\n",
    "add_margin(fig_unw, x=0, y=0.008)\n",
    "plt.show()"
   ]
  },
  {
   "cell_type": "markdown",
   "metadata": {},
   "source": [
    "(b) Weighted"
   ]
  },
  {
   "cell_type": "code",
   "execution_count": null,
   "metadata": {},
   "outputs": [],
   "source": [
    "fig_unw = sns.regplot(\n",
    "    xc,\n",
    "    x=\"gdppc\",\n",
    "    y=\"lifeexp\",\n",
    "    ci=None,\n",
    "    logx=True,\n",
    "    scatter_kws={\"color\": \"blue\", \"s\": xc[\"population\"], \"alpha\": 0.5},\n",
    "    line_kws={\"color\": \"red\"},\n",
    ")\n",
    "plt.xlabel(\"GDP per capita, thousand US dollars (ln scale)\", size=12)\n",
    "plt.ylabel(\"Life expectancy  (years)\", size=12)\n",
    "plt.xscale(\"log\")\n",
    "plt.ylim(50, 85)\n",
    "plt.xticks((1, 2, 5, 10, 20, 50, 100), labels=(1, 2, 5, 10, 20, 50, 100))\n",
    "plt.yticks(np.arange(50, 86, 5))\n",
    "add_margin(fig_unw, x=0, y=0.008)\n",
    "plt.annotate(\"USA\", (65, 79))\n",
    "plt.annotate(\"China\", (10, 81))\n",
    "plt.annotate(\"India\", (7, 64))\n",
    "plt.show()"
   ]
  },
  {
   "cell_type": "code",
   "execution_count": null,
   "metadata": {},
   "outputs": [],
   "source": []
  }
 ],
 "metadata": {
  "kernelspec": {
   "display_name": "Python 3 (ipykernel)",
   "language": "python",
   "name": "python3"
  },
  "language_info": {
   "codemirror_mode": {
    "name": "ipython",
    "version": 3
   },
   "file_extension": ".py",
   "mimetype": "text/x-python",
   "name": "python",
   "nbconvert_exporter": "python",
   "pygments_lexer": "ipython3",
   "version": "3.8.10"
  },
  "vscode": {
   "interpreter": {
    "hash": "02379600d2c1f831ab2aaa73197210a962cfb04f271ff099e74c1844ff770bad"
   }
  }
 },
 "nbformat": 4,
 "nbformat_minor": 4
}
