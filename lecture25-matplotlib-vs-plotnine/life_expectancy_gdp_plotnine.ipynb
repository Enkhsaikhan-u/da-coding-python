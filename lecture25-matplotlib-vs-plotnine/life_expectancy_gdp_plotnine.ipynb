{
 "cells": [
  {
   "cell_type": "markdown",
   "metadata": {},
   "source": [
    "#### Prepared for Gabor's Data Analysis\n",
    "\n",
    "### Data Analysis for Business, Economics, and Policy\n",
    "by Gabor Bekes and  Gabor Kezdi\n",
    " \n",
    "Cambridge University Press 2021\n",
    "\n",
    "**[gabors-data-analysis.com ](https://gabors-data-analysis.com/)**\n",
    "\n",
    " License: Free to share, modify and use for educational purposes. \n",
    " Not to be used for commercial purposes.\n",
    "\n",
    "### Chapter 08\n",
    "**CH08B How is life expectancy related to the average income of a country?**\n",
    "\n",
    "using the worldbank-lifeexpectancy dataset\n",
    "\n",
    "version 1.0 2021-05-05"
   ]
  },
  {
   "cell_type": "code",
   "execution_count": null,
   "metadata": {},
   "outputs": [],
   "source": [
    "import os\n",
    "import sys\n",
    "import warnings\n",
    "from datetime import datetime\n",
    "\n",
    "import matplotlib.font_manager\n",
    "import numpy as np\n",
    "import pandas as pd\n",
    "import statsmodels.formula.api as smf\n",
    "from helper_functions import *\n",
    "from mizani.formatters import log_format, percent_format\n",
    "from mizani.transforms import log_trans\n",
    "from plotnine import *\n",
    "from scipy.stats import norm\n",
    "\n",
    "warnings.filterwarnings(\"ignore\")"
   ]
  },
  {
   "cell_type": "markdown",
   "metadata": {},
   "source": [
    "Read clean data"
   ]
  },
  {
   "cell_type": "code",
   "execution_count": null,
   "metadata": {},
   "outputs": [],
   "source": [
    "xc = pd.read_csv(\"https://osf.io/sh9mu/download\")"
   ]
  },
  {
   "cell_type": "code",
   "execution_count": null,
   "metadata": {},
   "outputs": [],
   "source": [
    "xc"
   ]
  },
  {
   "cell_type": "markdown",
   "metadata": {},
   "source": [
    "select year"
   ]
  },
  {
   "cell_type": "code",
   "execution_count": null,
   "metadata": {},
   "outputs": [],
   "source": [
    "xc = xc.loc[lambda x: x[\"year\"] == 2017]"
   ]
  },
  {
   "cell_type": "markdown",
   "metadata": {},
   "source": [
    " GDP total, log"
   ]
  },
  {
   "cell_type": "code",
   "execution_count": null,
   "metadata": {},
   "outputs": [],
   "source": [
    "xc[\"gdptot\"] = xc[\"gdppc\"] * xc[\"population\"]\n",
    "xc[\"lngdppc\"] = np.log(xc[\"gdppc\"])\n",
    "xc[\"lngdptot\"] = np.log(xc[\"gdptot\"])"
   ]
  },
  {
   "cell_type": "code",
   "execution_count": null,
   "metadata": {},
   "outputs": [],
   "source": [
    "xc.loc[:, [\"lifeexp\", \"gdppc\", \"gdptot\", \"lngdppc\", \"lngdptot\"]].describe()\n"
   ]
  },
  {
   "cell_type": "markdown",
   "metadata": {},
   "source": [
    "### Figure 8.3 The distribution of GDP per capita"
   ]
  },
  {
   "cell_type": "markdown",
   "metadata": {},
   "source": [
    "(a) Histogram of GDP per capita"
   ]
  },
  {
   "cell_type": "code",
   "execution_count": null,
   "metadata": {},
   "outputs": [],
   "source": [
    "(\n",
    "    ggplot(xc, aes(x=\"gdppc\", y=\"stat(count)/sum(stat(count))\"))\n",
    "    + geom_histogram(\n",
    "        binwidth=3,\n",
    "        boundary=0,\n",
    "        color=\"white\",\n",
    "        fill=\"blue\",\n",
    "        size=0.25,\n",
    "        alpha=0.8,\n",
    "        show_legend=False,\n",
    "        na_rm=True,\n",
    "    )\n",
    "    + labs(x=\"GDP per capita (thousand US dollars)\", y=\"Percent\")\n",
    "    + expand_limits(x=0.01, y=0.01)\n",
    "    + scale_x_continuous(expand=(0.01, 0.01), limits=(0, 120), breaks=np.arange(0, 121, 20))\n",
    "    + scale_y_continuous(\n",
    "        labels=percent_format(),\n",
    "        breaks=np.arange(0, 0.201, 0.04),\n",
    "        limits=(0, 0.2),\n",
    "        expand=(0.0, 0.0),\n",
    "    )\n",
    "    + theme_bw()\n",
    ")\n"
   ]
  },
  {
   "cell_type": "markdown",
   "metadata": {},
   "source": [
    "(b) Histogram of ln(GDP per capita)"
   ]
  },
  {
   "cell_type": "code",
   "execution_count": null,
   "metadata": {},
   "outputs": [],
   "source": [
    "(\n",
    "    ggplot(xc, aes(x=\"lngdppc\", y=\"stat(count)/sum(stat(count))\"))\n",
    "    + geom_histogram(\n",
    "        binwidth=0.15,\n",
    "        boundary=0,\n",
    "        color=\"white\",\n",
    "        fill=\"blue\",\n",
    "        size=0.25,\n",
    "        alpha=0.8,\n",
    "        show_legend=False,\n",
    "        na_rm=True,\n",
    "    )\n",
    "    + labs(x=\"ln(GDP per capita (thousand US dollars))\", y=\"Percent\")\n",
    "    + expand_limits(x=0.01, y=0.01)\n",
    "    + scale_x_continuous(\n",
    "        expand=(0.01, 0.01),\n",
    "        limits=(0, 5),\n",
    "        breaks=np.arange(0, 5.1, 0.5),\n",
    "        )\n",
    "    + scale_y_continuous(\n",
    "        expand=(0.0, 0.0),\n",
    "        limits=(0, 0.1),\n",
    "        breaks=np.arange(0, 0.11, 0.02),\n",
    "        labels=percent_format(),\n",
    "    )\n",
    "    + theme_bw()\n",
    ")"
   ]
  },
  {
   "cell_type": "markdown",
   "metadata": {},
   "source": [
    " LEVEL-LEVEL REGRESSION"
   ]
  },
  {
   "cell_type": "code",
   "execution_count": null,
   "metadata": {},
   "outputs": [],
   "source": [
    "reg3 = smf.ols(formula=\"lifeexp ~ gdppc\", data=xc)\n",
    "reg3.fit().summary()\n"
   ]
  },
  {
   "cell_type": "markdown",
   "metadata": {},
   "source": [
    "### Figure 8.4 Life expectancy and GDP per capita"
   ]
  },
  {
   "cell_type": "code",
   "execution_count": null,
   "metadata": {},
   "outputs": [],
   "source": [
    "(\n",
    "    ggplot(xc, aes(x=\"gdppc\", y=\"lifeexp\"))\n",
    "    + geom_point(color=\"blue\")\n",
    "    + geom_smooth(color=\"red\", method=\"lm\", se=False)\n",
    "    + coord_cartesian(xlim=(0, 120), ylim=(50, 100))\n",
    "    + expand_limits(x=0.01, y=0.01)\n",
    "    + scale_x_continuous(\n",
    "        expand=(0.01, 0.01),\n",
    "        limits=(0, 120),\n",
    "        breaks=np.arange(0, 121, 20),\n",
    "    )\n",
    "    + scale_y_continuous(expand=(0.01, 0.01), breaks=np.arange(50, 101, 5))\n",
    "    + labs(\n",
    "        x=\"GDP per capita (thousand US dollars)\",\n",
    "        y=\"Life expectancy  (years)\",\n",
    "        title=\"Relationship between GDP per capita (thousand US dollars)\\nand Life expectancy (years)\",\n",
    "    )\n",
    "    + theme_bw()\n",
    ")"
   ]
  },
  {
   "cell_type": "markdown",
   "metadata": {},
   "source": [
    "LOG GDP PER CAPITA"
   ]
  },
  {
   "cell_type": "code",
   "execution_count": null,
   "metadata": {},
   "outputs": [],
   "source": [
    "reg4 = smf.ols(formula=\"lifeexp ~ lngdppc\", data=xc)\n",
    "reg4.fit().summary()\n"
   ]
  },
  {
   "cell_type": "markdown",
   "metadata": {},
   "source": [
    "### Figure 8.5 Life expectancy and GDP per capita"
   ]
  },
  {
   "cell_type": "markdown",
   "metadata": {},
   "source": [
    "(a) Life expectancy and ln(GDP per capita)"
   ]
  },
  {
   "cell_type": "code",
   "execution_count": null,
   "metadata": {},
   "outputs": [],
   "source": [
    "(\n",
    "    ggplot(xc, aes(x=\"lngdppc\", y=\"lifeexp\"))\n",
    "    + geom_point(color=\"blue\")\n",
    "    + geom_smooth(color=\"red\", method=\"lm\", se=False)\n",
    "    + coord_cartesian(xlim=(-0.5, 4.8), ylim=(50, 85))\n",
    "    + scale_x_continuous(breaks=np.arange(-0.5, 4.6, 0.5))\n",
    "    + scale_y_continuous(expand=(0.01, 0.01), breaks=np.arange(50, 86, 5))\n",
    "    + labs(x=\"ln(GDP per capita, thousand US dollars) \", y=\"Life expectancy  (years)\")\n",
    "    + theme_bw()\n",
    ")\n"
   ]
  },
  {
   "cell_type": "markdown",
   "metadata": {},
   "source": [
    "(b) Life expectancy and ln(GDP per capita),\n",
    "(labels are thousand dollars)"
   ]
  },
  {
   "cell_type": "code",
   "execution_count": null,
   "metadata": {},
   "outputs": [],
   "source": [
    "(\n",
    "    ggplot(xc, aes(x=\"gdppc\", y=\"lifeexp\"))\n",
    "    + geom_point(color=\"blue\")\n",
    "    + geom_smooth(color=\"red\", method=\"lm\", se=False)\n",
    "    + coord_cartesian(ylim=(50, 85))\n",
    "    + scale_x_continuous(\n",
    "        trans=log_trans(),\n",
    "        breaks=(0.1, 0.5, 1, 2, 5, 10, 20, 50, 100),\n",
    "        labels=log_format(),\n",
    "    )\n",
    "    + scale_y_continuous(expand=(0.01, 0.01), breaks=np.arange(50, 86,5))\n",
    "    + labs(\n",
    "        x=\"GDP per capita, thousand US dollars (ln scale) \",\n",
    "        y=\"Life expectancy  (years)\",\n",
    "    )\n",
    "    + theme_bw()\n",
    ")"
   ]
  },
  {
   "cell_type": "markdown",
   "metadata": {},
   "source": [
    "### TOTAL GDP"
   ]
  },
  {
   "cell_type": "markdown",
   "metadata": {},
   "source": [
    "Level-level regression"
   ]
  },
  {
   "cell_type": "code",
   "execution_count": null,
   "metadata": {},
   "outputs": [],
   "source": [
    "reg1 = smf.ols(formula=\"lifeexp ~ gdppc\", data=xc)\n",
    "reg1.fit().summary()\n"
   ]
  },
  {
   "cell_type": "markdown",
   "metadata": {},
   "source": [
    "### Figure 8.6 Life expectancy and total GDP"
   ]
  },
  {
   "cell_type": "markdown",
   "metadata": {},
   "source": [
    "(a) Life expectancy and total GDP"
   ]
  },
  {
   "cell_type": "code",
   "execution_count": null,
   "metadata": {},
   "outputs": [],
   "source": [
    "(\n",
    "    ggplot(xc, aes(x=\"gdptot\", y=\"lifeexp\"))\n",
    "    + geom_point(color=\"blue\")\n",
    "    + geom_smooth(color=\"red\", method=\"lm\", se=False)\n",
    "    + coord_cartesian(xlim=(0, 24000), ylim=(50, 85))\n",
    "    + expand_limits(x=0.01, y=0.01)\n",
    "    + scale_x_continuous(\n",
    "        expand=(0.01, 0.01), limits=(0, 24000), breaks=np.arange(0, 24000, 4000)\n",
    "    )\n",
    "    + scale_y_continuous(expand=(0.01, 0.01), limits=(50, 85), breaks=np.arange(50, 85, 5))\n",
    "    + labs(x=\"Total GDP  (billion US dollars)\", y=\"Life expectancy  (years)\")\n",
    "    + theme_bw()\n",
    ")\n"
   ]
  },
  {
   "cell_type": "code",
   "execution_count": null,
   "metadata": {},
   "outputs": [],
   "source": [
    "reg2 = smf.ols(formula=\"lifeexp ~ lngdptot\", data=xc)\n",
    "reg2.fit().summary()\n"
   ]
  },
  {
   "cell_type": "markdown",
   "metadata": {},
   "source": [
    "(b) Life expectancy and ln total GDP"
   ]
  },
  {
   "cell_type": "code",
   "execution_count": null,
   "metadata": {},
   "outputs": [],
   "source": [
    "(\n",
    "    ggplot(xc, aes(x=\"gdptot\", y=\"lifeexp\"))\n",
    "    + geom_point(color=\"blue\")\n",
    "    + geom_smooth(color=\"red\", method=\"lm\", se=False)\n",
    "    + coord_cartesian(ylim=(50, 85))\n",
    "    + scale_x_continuous(\n",
    "        trans=log_trans(),\n",
    "        breaks=(1, 2, 5, 10, 20, 50, 100, 200, 500, 1000, 10000),\n",
    "        labels=log_format(),\n",
    "    )\n",
    "    + scale_y_continuous(expand=(0.01, 0.01), breaks=(50, 55, 60, 65, 70, 75, 80, 85))\n",
    "    + labs(x=\"Total GDP (in ln scale))\", y=\"Life expectancy  (years)\")\n",
    "    + theme_bw()\n",
    ")"
   ]
  },
  {
   "cell_type": "markdown",
   "metadata": {},
   "source": [
    "### GDP PER CAPITA PIECEWISE LINEAR SPLINE\n"
   ]
  },
  {
   "cell_type": "code",
   "execution_count": null,
   "metadata": {},
   "outputs": [],
   "source": [
    "cutoff = 50\n",
    "cutoff_ln = np.log(cutoff)"
   ]
  },
  {
   "cell_type": "code",
   "execution_count": null,
   "metadata": {},
   "outputs": [],
   "source": [
    "reg5 = smf.ols(formula=\"lifeexp ~ lspline(lngdppc,cutoff_ln)\", data=xc)\n",
    "reg5.fit().summary()\n"
   ]
  },
  {
   "cell_type": "code",
   "execution_count": null,
   "metadata": {},
   "outputs": [],
   "source": [
    "xc[\"e3\"] = reg5.fit().resid\n",
    "xc[\"sppred\"] = reg5.fit().predict()\n"
   ]
  },
  {
   "cell_type": "markdown",
   "metadata": {},
   "source": [
    "### Figure 8.7 Life expectancy and GDP per capita: scatterplot and nonlinear regression"
   ]
  },
  {
   "cell_type": "markdown",
   "metadata": {},
   "source": [
    "(a) Piecewise linear spline"
   ]
  },
  {
   "cell_type": "code",
   "execution_count": null,
   "metadata": {
    "scrolled": false
   },
   "outputs": [],
   "source": [
    "(\n",
    "    ggplot(xc, aes(x=\"gdppc\", y=\"lifeexp\"))\n",
    "    + geom_point(color=\"blue\")\n",
    "    + geom_line(xc, aes(x=\"gdppc\", y=\"sppred\"), color=\"red\", size=1)\n",
    "    + geom_vline(xintercept=cutoff, color=\"green\", size=0.5, linetype=\"dotted\")\n",
    "    + coord_cartesian(ylim=(50, 85))\n",
    "    + scale_x_continuous(\n",
    "        trans=log_trans(),\n",
    "        breaks=(0.1, 0.5, 1, 2, 5, 10, 20, 50, 100),\n",
    "        labels=log_format(),\n",
    "    )\n",
    "    + scale_y_continuous(expand=(0.01, 0.01), breaks=np.arange(50, 86, 5))\n",
    "    + labs(\n",
    "        x=\"GDP per capita, thousand US dollars (ln scale) \",\n",
    "        y=\"Life expectancy  (years)\",\n",
    "    )\n",
    "    + theme_bw()\n",
    ")"
   ]
  },
  {
   "cell_type": "markdown",
   "metadata": {},
   "source": [
    "### QUADRATIC IN LEVEL-LOG REGRESSION"
   ]
  },
  {
   "cell_type": "code",
   "execution_count": null,
   "metadata": {},
   "outputs": [],
   "source": [
    "xc[\"lngdppc_sq\"] = xc[\"lngdppc\"].pow(2)\n",
    "reg6 = smf.ols(formula=\"lifeexp ~ lngdppc+lngdppc_sq\", data=xc)\n",
    "reg6.fit().summary()"
   ]
  },
  {
   "cell_type": "code",
   "execution_count": null,
   "metadata": {},
   "outputs": [],
   "source": [
    "xc[\"e6\"] = reg6.fit().resid"
   ]
  },
  {
   "cell_type": "markdown",
   "metadata": {},
   "source": [
    "(b) Quadratic function"
   ]
  },
  {
   "cell_type": "code",
   "execution_count": null,
   "metadata": {},
   "outputs": [],
   "source": [
    "(\n",
    "    ggplot(xc, aes(x=\"gdppc\", y=\"lifeexp\"))\n",
    "    + geom_point(color=\"blue\")\n",
    "    + stat_smooth(color=\"red\", method=\"lm\", formula=\"y ~ poly(x,2)\", se=False, size=1)\n",
    "    + coord_cartesian(ylim=(50, 85))\n",
    "    + scale_x_continuous(\n",
    "        trans=log_trans(),\n",
    "        breaks=(0.1, 0.5, 1, 2, 5, 10, 20, 50, 100),\n",
    "        labels=log_format(),\n",
    "    )\n",
    "    + scale_y_continuous(expand=(0.01, 0.01), breaks=np.arange(50, 86, 5))\n",
    "    + labs(\n",
    "        x=\"GDP per capita, thousand US dollars (ln scale) \",\n",
    "        y=\"Life expectancy  (years)\",\n",
    "    )\n",
    "    + theme_bw()\n",
    ")"
   ]
  },
  {
   "cell_type": "markdown",
   "metadata": {},
   "source": [
    "### WEIGHTED AND UNWEIGHTED REGRESSION"
   ]
  },
  {
   "cell_type": "code",
   "execution_count": null,
   "metadata": {},
   "outputs": [],
   "source": [
    "reg7 = smf.ols(formula=\"lifeexp ~ lngdppc\", data=xc)\n",
    "reg7.fit().summary()\n"
   ]
  },
  {
   "cell_type": "code",
   "execution_count": null,
   "metadata": {},
   "outputs": [],
   "source": [
    "reg7 = smf.wls(formula=\"lifeexp ~ lngdppc\", data=xc, weights=xc.population)\n",
    "reg7.fit().summary()\n"
   ]
  },
  {
   "cell_type": "markdown",
   "metadata": {},
   "source": [
    "### Figure 8.9 Life expectancy and log GDP per capita: unweighted and weighted regressions"
   ]
  },
  {
   "cell_type": "markdown",
   "metadata": {},
   "source": [
    "(a) Unweighted"
   ]
  },
  {
   "cell_type": "code",
   "execution_count": null,
   "metadata": {},
   "outputs": [],
   "source": [
    "(\n",
    "    ggplot(xc, aes(x=\"gdppc\", y=\"lifeexp\"))\n",
    "    + geom_point(color=\"blue\")\n",
    "    + stat_smooth(color=\"red\", method=\"lm\", se=False, size=1)\n",
    "    + coord_cartesian(ylim=(50, 85))\n",
    "    + scale_x_continuous(\n",
    "        trans=log_trans(),\n",
    "        breaks=(0.1, 0.5, 1, 2, 5, 10, 20, 50, 100),\n",
    "        labels=log_format(),\n",
    "    )\n",
    "    + scale_y_continuous(expand=(0.01, 0.01), breaks=np.arange(50, 86, 5))\n",
    "    + labs(\n",
    "        x=\"GDP per capita, thousand US dollars (ln scale) \",\n",
    "        y=\"Life expectancy  (years)\",\n",
    "    )\n",
    "    + theme_bw()\n",
    ")"
   ]
  },
  {
   "cell_type": "markdown",
   "metadata": {},
   "source": [
    "(b) Weighted"
   ]
  },
  {
   "cell_type": "code",
   "execution_count": null,
   "metadata": {},
   "outputs": [],
   "source": [
    "(\n",
    "    ggplot(xc, aes(x=\"gdppc\", y=\"lifeexp\"))\n",
    "    + geom_point(xc, aes(size=\"population\"), color=\"blue\", alpha=0.6, show_legend=False)\n",
    "    + scale_fill_identity()\n",
    "    + scale_color_identity()\n",
    "    + geom_smooth(\n",
    "        aes(weight=\"population\"), method=\"lm\", color=\"red\", se=False, size=0.7\n",
    "    )\n",
    "    + scale_size(range=(1, 20))\n",
    "    + coord_cartesian(ylim=(50, 85))\n",
    "    + scale_x_continuous(\n",
    "        trans=log_trans(),\n",
    "        breaks=(0.1, 0.5, 1, 2, 5, 10, 20, 50, 100),\n",
    "        labels=log_format(),\n",
    "    )\n",
    "    + scale_y_continuous(expand=(0.01, 0.01), breaks=np.arange(50, 86, 5))\n",
    "    + labs(\n",
    "        x=\"GDP per capita, thousand US dollars (ln scale) \", y=\"Life expectancy (years)\"\n",
    "    )\n",
    "    + theme_bw()\n",
    "    + annotate(\"text\", x=70, y=80, label=\"USA\", size=10)\n",
    "    + annotate(\"text\", x=10, y=82, label=\"China\", size=10)\n",
    "    + annotate(\"text\", x=7, y=63, label=\"India\", size=10)\n",
    ")"
   ]
  },
  {
   "cell_type": "code",
   "execution_count": null,
   "metadata": {},
   "outputs": [],
   "source": []
  }
 ],
 "metadata": {
  "kernelspec": {
   "display_name": "Python 3 (ipykernel)",
   "language": "python",
   "name": "python3"
  },
  "language_info": {
   "codemirror_mode": {
    "name": "ipython",
    "version": 3
   },
   "file_extension": ".py",
   "mimetype": "text/x-python",
   "name": "python",
   "nbconvert_exporter": "python",
   "pygments_lexer": "ipython3",
   "version": "3.8.10"
  },
  "vscode": {
   "interpreter": {
    "hash": "02379600d2c1f831ab2aaa73197210a962cfb04f271ff099e74c1844ff770bad"
   }
  }
 },
 "nbformat": 4,
 "nbformat_minor": 4
}
